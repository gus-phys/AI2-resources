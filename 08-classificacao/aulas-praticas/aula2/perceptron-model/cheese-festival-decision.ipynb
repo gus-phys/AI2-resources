{
 "cells": [
  {
   "cell_type": "markdown",
   "id": "f8b70090-5c07-460d-bd14-31a2d50b4ef9",
   "metadata": {},
   "source": [
    "# Exercício\n",
    "\n",
    "Suponha que no final de semana haverá um festival de queijos e você queira modelar um Perceptron para predizer se vai ou não nesse festival. Para tomar a decisão, utilizará 3 variáveis (features) binárias:\n",
    "- $x_1$: O tempo está bom?\n",
    "- $x_2$: Seu namorado/a quer te acompanhar?\n",
    "- $x_3$: Tem transporte público por perto? (Você não tem carro)\n",
    "\n",
    "Considere o bias como a feature $x_0$ com valor $1$ e seu peso como sendo o quanto você está disposto a ir nesse festival. Note que o seu valor cresce no sentido negativo, ou seja, quanto mais próximo de zero, mais você gosta de queijo e está disposto a ir, enquanto valores negativos grandes indicam que não tem tanto desejo de ir.\n",
    "\n",
    "Nessas condições, modele o perceptron de forma que:\n",
    "\n",
    "1. Você adora queijo e vá mesmo que seu/ua namorado/a não vá e não exista transporte público próximo. No entanto, se chover fica muito ruim e com certeza não irá.\n",
    "\n",
    "2. Você vai ao festival se o tempo estiver bom OU se seu/ua namorado/a quiser ir E tiver transporte público."
   ]
  },
  {
   "cell_type": "markdown",
   "id": "b949d126-5b8e-4a64-9799-932260814491",
   "metadata": {},
   "source": [
    "---"
   ]
  },
  {
   "cell_type": "markdown",
   "id": "ac2dae9a-a6f7-4c4a-96ec-cbe4ea845448",
   "metadata": {},
   "source": [
    "## 1. Bibliotecas"
   ]
  },
  {
   "cell_type": "code",
   "execution_count": 40,
   "id": "4353478a-8df8-4bc0-8c8e-c81e6412226d",
   "metadata": {},
   "outputs": [],
   "source": [
    "import pandas as pd\n",
    "import numpy as np\n",
    "import matplotlib.pyplot as plt\n",
    "from sklearn.linear_model import Perceptron\n",
    "from sklearn.model_selection import train_test_split\n",
    "from sklearn.preprocessing import StandardScaler\n",
    "from sklearn.metrics import classification_report, confusion_matrix"
   ]
  },
  {
   "cell_type": "markdown",
   "id": "4bdf762e-362b-4bf3-be7d-b4fb5b35392a",
   "metadata": {},
   "source": [
    "## 2. Gerando dados para classificação"
   ]
  },
  {
   "cell_type": "code",
   "execution_count": 83,
   "id": "a0098c4b-efda-45b6-94f4-ac5ea21391ef",
   "metadata": {},
   "outputs": [],
   "source": [
    "df = pd.DataFrame(columns=['Chuva', 'Compania', 'Transporte público'])\n",
    "m = 1\n",
    "n = 3\n",
    "for i in product(\"01\", repeat=m*n):\n",
    "    df_length = len(df)\n",
    "    df.loc[df_length] = i"
   ]
  },
  {
   "cell_type": "code",
   "execution_count": 90,
   "id": "7a1862e1-68c0-4454-95a7-ec683365a8c4",
   "metadata": {},
   "outputs": [],
   "source": [
    "df = df.astype(int)"
   ]
  },
  {
   "cell_type": "code",
   "execution_count": 91,
   "id": "502e29d0-9b59-47a2-9d24-899048a55021",
   "metadata": {},
   "outputs": [
    {
     "name": "stdout",
     "output_type": "stream",
     "text": [
      "<class 'pandas.core.frame.DataFrame'>\n",
      "Int64Index: 8 entries, 0 to 7\n",
      "Data columns (total 3 columns):\n",
      " #   Column              Non-Null Count  Dtype\n",
      "---  ------              --------------  -----\n",
      " 0   Chuva               8 non-null      int64\n",
      " 1   Compania            8 non-null      int64\n",
      " 2   Transporte público  8 non-null      int64\n",
      "dtypes: int64(3)\n",
      "memory usage: 256.0 bytes\n"
     ]
    }
   ],
   "source": [
    "df.info()"
   ]
  },
  {
   "cell_type": "code",
   "execution_count": 92,
   "id": "59f297ba-c89e-4740-a4e0-ae8e908ab9fa",
   "metadata": {},
   "outputs": [],
   "source": [
    "x_0 = [1]*8\n",
    "df.insert(0, 'x_0', x_0)"
   ]
  },
  {
   "cell_type": "code",
   "execution_count": 93,
   "id": "283b8045-df57-403f-9db6-3529985ca89a",
   "metadata": {},
   "outputs": [
    {
     "data": {
      "text/html": [
       "<div>\n",
       "<style scoped>\n",
       "    .dataframe tbody tr th:only-of-type {\n",
       "        vertical-align: middle;\n",
       "    }\n",
       "\n",
       "    .dataframe tbody tr th {\n",
       "        vertical-align: top;\n",
       "    }\n",
       "\n",
       "    .dataframe thead th {\n",
       "        text-align: right;\n",
       "    }\n",
       "</style>\n",
       "<table border=\"1\" class=\"dataframe\">\n",
       "  <thead>\n",
       "    <tr style=\"text-align: right;\">\n",
       "      <th></th>\n",
       "      <th>x_0</th>\n",
       "      <th>Chuva</th>\n",
       "      <th>Compania</th>\n",
       "      <th>Transporte público</th>\n",
       "    </tr>\n",
       "  </thead>\n",
       "  <tbody>\n",
       "    <tr>\n",
       "      <th>0</th>\n",
       "      <td>1</td>\n",
       "      <td>0</td>\n",
       "      <td>0</td>\n",
       "      <td>0</td>\n",
       "    </tr>\n",
       "    <tr>\n",
       "      <th>1</th>\n",
       "      <td>1</td>\n",
       "      <td>0</td>\n",
       "      <td>0</td>\n",
       "      <td>1</td>\n",
       "    </tr>\n",
       "    <tr>\n",
       "      <th>2</th>\n",
       "      <td>1</td>\n",
       "      <td>0</td>\n",
       "      <td>1</td>\n",
       "      <td>0</td>\n",
       "    </tr>\n",
       "    <tr>\n",
       "      <th>3</th>\n",
       "      <td>1</td>\n",
       "      <td>0</td>\n",
       "      <td>1</td>\n",
       "      <td>1</td>\n",
       "    </tr>\n",
       "    <tr>\n",
       "      <th>4</th>\n",
       "      <td>1</td>\n",
       "      <td>1</td>\n",
       "      <td>0</td>\n",
       "      <td>0</td>\n",
       "    </tr>\n",
       "    <tr>\n",
       "      <th>5</th>\n",
       "      <td>1</td>\n",
       "      <td>1</td>\n",
       "      <td>0</td>\n",
       "      <td>1</td>\n",
       "    </tr>\n",
       "    <tr>\n",
       "      <th>6</th>\n",
       "      <td>1</td>\n",
       "      <td>1</td>\n",
       "      <td>1</td>\n",
       "      <td>0</td>\n",
       "    </tr>\n",
       "    <tr>\n",
       "      <th>7</th>\n",
       "      <td>1</td>\n",
       "      <td>1</td>\n",
       "      <td>1</td>\n",
       "      <td>1</td>\n",
       "    </tr>\n",
       "  </tbody>\n",
       "</table>\n",
       "</div>"
      ],
      "text/plain": [
       "   x_0  Chuva  Compania  Transporte público\n",
       "0    1      0         0                   0\n",
       "1    1      0         0                   1\n",
       "2    1      0         1                   0\n",
       "3    1      0         1                   1\n",
       "4    1      1         0                   0\n",
       "5    1      1         0                   1\n",
       "6    1      1         1                   0\n",
       "7    1      1         1                   1"
      ]
     },
     "execution_count": 93,
     "metadata": {},
     "output_type": "execute_result"
    }
   ],
   "source": [
    "df"
   ]
  },
  {
   "cell_type": "code",
   "execution_count": 94,
   "id": "79ed17a5-046d-416d-be39-2fb169c0cc06",
   "metadata": {},
   "outputs": [],
   "source": [
    "X = df\n",
    "y1 = [1, 1, 1, 1, 0, 0, 0, 0]\n",
    "y2 = [1, 1, 1, 1, 0, 0, 0, 1]"
   ]
  },
  {
   "cell_type": "markdown",
   "id": "1ad456de-b35d-4d2b-a548-9d73b76feb7d",
   "metadata": {},
   "source": [
    "## 3a. Função"
   ]
  },
  {
   "cell_type": "code",
   "execution_count": 57,
   "id": "7d7c9f54-1719-4a66-9aaf-aae2d8c509f7",
   "metadata": {},
   "outputs": [],
   "source": [
    "def step_func(z):\n",
    "    return 1.0 if (z > 0) else 0.0"
   ]
  },
  {
   "cell_type": "markdown",
   "id": "9d13c3ce-69f0-42e6-bbaa-e4ea33ca2499",
   "metadata": {},
   "source": [
    "## 3b. Implementando Perceptron"
   ]
  }
 ],
 "metadata": {
  "kernelspec": {
   "display_name": "Python 3",
   "language": "python",
   "name": "python3"
  },
  "language_info": {
   "codemirror_mode": {
    "name": "ipython",
    "version": 3
   },
   "file_extension": ".py",
   "mimetype": "text/x-python",
   "name": "python",
   "nbconvert_exporter": "python",
   "pygments_lexer": "ipython3",
   "version": "3.8.11"
  }
 },
 "nbformat": 4,
 "nbformat_minor": 5
}
