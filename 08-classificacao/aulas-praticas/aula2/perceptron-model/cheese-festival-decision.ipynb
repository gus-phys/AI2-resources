{
 "cells": [
  {
   "cell_type": "markdown",
   "id": "f8b70090-5c07-460d-bd14-31a2d50b4ef9",
   "metadata": {},
   "source": [
    "# Exercício\n",
    "\n",
    "Suponha que no final de semana haverá um festival de queijos e você queira modelar um Perceptron para predizer se vai ou não nesse festival. Para tomar a decisão, utilizará 3 variáveis (features) binárias:\n",
    "- $x_1$: O tempo está bom?\n",
    "- $x_2$: Seu namorado/a quer te acompanhar?\n",
    "- $x_3$: Tem transporte público por perto? (Você não tem carro)\n",
    "\n",
    "Considere o bias como a feature $x_0$ com valor $1$ e seu peso como sendo o quanto você está disposto a ir nesse festival. Note que o seu valor cresce no sentido negativo, ou seja, quanto mais próximo de zero, mais você gosta de queijo e está disposto a ir, enquanto valores negativos grandes indicam que não tem tanto desejo de ir.\n",
    "\n",
    "Nessas condições, modele o perceptron de forma que:\n",
    "\n",
    "1. Você adora queijo e vá mesmo que seu/ua namorado/a não vá e não exista transporte público próximo. No entanto, se chover fica muito ruim e com certeza não irá.\n",
    "\n",
    "2. Você vai ao festival se o tempo estiver bom OU se seu/ua namorado/a quiser ir E tiver transporte público."
   ]
  },
  {
   "cell_type": "markdown",
   "id": "b949d126-5b8e-4a64-9799-932260814491",
   "metadata": {},
   "source": [
    "---"
   ]
  },
  {
   "cell_type": "markdown",
   "id": "ac2dae9a-a6f7-4c4a-96ec-cbe4ea845448",
   "metadata": {},
   "source": [
    "## 1. Bibliotecas"
   ]
  },
  {
   "cell_type": "code",
   "execution_count": 1,
   "id": "4353478a-8df8-4bc0-8c8e-c81e6412226d",
   "metadata": {},
   "outputs": [],
   "source": [
    "import pandas as pd\n",
    "import numpy as np\n",
    "import matplotlib.pyplot as plt\n",
    "import seaborn as sns\n",
    "from sklearn.linear_model import Perceptron\n",
    "from sklearn.model_selection import train_test_split\n",
    "from sklearn.preprocessing import StandardScaler\n",
    "from sklearn.metrics import classification_report, confusion_matrix"
   ]
  },
  {
   "cell_type": "markdown",
   "id": "4bdf762e-362b-4bf3-be7d-b4fb5b35392a",
   "metadata": {},
   "source": [
    "## 2. Gerando dados para classificação"
   ]
  },
  {
   "cell_type": "code",
   "execution_count": 2,
   "id": "1055206e-f03f-4f6d-b6ee-e14f6327762d",
   "metadata": {},
   "outputs": [],
   "source": [
    "from itertools import product"
   ]
  },
  {
   "cell_type": "code",
   "execution_count": 3,
   "id": "a0098c4b-efda-45b6-94f4-ac5ea21391ef",
   "metadata": {},
   "outputs": [],
   "source": [
    "df = pd.DataFrame(columns=['Chuva', 'Companhia', 'Transporte público'])\n",
    "m = 1\n",
    "n = 3\n",
    "for i in product(\"01\", repeat=m*n):\n",
    "    df_length = len(df)\n",
    "    df.loc[df_length] = i"
   ]
  },
  {
   "cell_type": "code",
   "execution_count": 4,
   "id": "7a1862e1-68c0-4454-95a7-ec683365a8c4",
   "metadata": {},
   "outputs": [],
   "source": [
    "df = df.astype(int)"
   ]
  },
  {
   "cell_type": "code",
   "execution_count": 5,
   "id": "502e29d0-9b59-47a2-9d24-899048a55021",
   "metadata": {},
   "outputs": [
    {
     "name": "stdout",
     "output_type": "stream",
     "text": [
      "<class 'pandas.core.frame.DataFrame'>\n",
      "Int64Index: 8 entries, 0 to 7\n",
      "Data columns (total 3 columns):\n",
      " #   Column              Non-Null Count  Dtype\n",
      "---  ------              --------------  -----\n",
      " 0   Chuva               8 non-null      int64\n",
      " 1   Companhia           8 non-null      int64\n",
      " 2   Transporte público  8 non-null      int64\n",
      "dtypes: int64(3)\n",
      "memory usage: 256.0 bytes\n"
     ]
    }
   ],
   "source": [
    "df.info()"
   ]
  },
  {
   "cell_type": "code",
   "execution_count": 6,
   "id": "59f297ba-c89e-4740-a4e0-ae8e908ab9fa",
   "metadata": {},
   "outputs": [],
   "source": [
    "x_0 = [1]*8\n",
    "df.insert(0, 'x_0', x_0)"
   ]
  },
  {
   "cell_type": "code",
   "execution_count": 7,
   "id": "283b8045-df57-403f-9db6-3529985ca89a",
   "metadata": {},
   "outputs": [
    {
     "data": {
      "text/html": [
       "<div>\n",
       "<style scoped>\n",
       "    .dataframe tbody tr th:only-of-type {\n",
       "        vertical-align: middle;\n",
       "    }\n",
       "\n",
       "    .dataframe tbody tr th {\n",
       "        vertical-align: top;\n",
       "    }\n",
       "\n",
       "    .dataframe thead th {\n",
       "        text-align: right;\n",
       "    }\n",
       "</style>\n",
       "<table border=\"1\" class=\"dataframe\">\n",
       "  <thead>\n",
       "    <tr style=\"text-align: right;\">\n",
       "      <th></th>\n",
       "      <th>x_0</th>\n",
       "      <th>Chuva</th>\n",
       "      <th>Companhia</th>\n",
       "      <th>Transporte público</th>\n",
       "    </tr>\n",
       "  </thead>\n",
       "  <tbody>\n",
       "    <tr>\n",
       "      <th>0</th>\n",
       "      <td>1</td>\n",
       "      <td>0</td>\n",
       "      <td>0</td>\n",
       "      <td>0</td>\n",
       "    </tr>\n",
       "    <tr>\n",
       "      <th>1</th>\n",
       "      <td>1</td>\n",
       "      <td>0</td>\n",
       "      <td>0</td>\n",
       "      <td>1</td>\n",
       "    </tr>\n",
       "    <tr>\n",
       "      <th>2</th>\n",
       "      <td>1</td>\n",
       "      <td>0</td>\n",
       "      <td>1</td>\n",
       "      <td>0</td>\n",
       "    </tr>\n",
       "    <tr>\n",
       "      <th>3</th>\n",
       "      <td>1</td>\n",
       "      <td>0</td>\n",
       "      <td>1</td>\n",
       "      <td>1</td>\n",
       "    </tr>\n",
       "    <tr>\n",
       "      <th>4</th>\n",
       "      <td>1</td>\n",
       "      <td>1</td>\n",
       "      <td>0</td>\n",
       "      <td>0</td>\n",
       "    </tr>\n",
       "    <tr>\n",
       "      <th>5</th>\n",
       "      <td>1</td>\n",
       "      <td>1</td>\n",
       "      <td>0</td>\n",
       "      <td>1</td>\n",
       "    </tr>\n",
       "    <tr>\n",
       "      <th>6</th>\n",
       "      <td>1</td>\n",
       "      <td>1</td>\n",
       "      <td>1</td>\n",
       "      <td>0</td>\n",
       "    </tr>\n",
       "    <tr>\n",
       "      <th>7</th>\n",
       "      <td>1</td>\n",
       "      <td>1</td>\n",
       "      <td>1</td>\n",
       "      <td>1</td>\n",
       "    </tr>\n",
       "  </tbody>\n",
       "</table>\n",
       "</div>"
      ],
      "text/plain": [
       "   x_0  Chuva  Companhia  Transporte público\n",
       "0    1      0          0                   0\n",
       "1    1      0          0                   1\n",
       "2    1      0          1                   0\n",
       "3    1      0          1                   1\n",
       "4    1      1          0                   0\n",
       "5    1      1          0                   1\n",
       "6    1      1          1                   0\n",
       "7    1      1          1                   1"
      ]
     },
     "execution_count": 7,
     "metadata": {},
     "output_type": "execute_result"
    }
   ],
   "source": [
    "df"
   ]
  },
  {
   "cell_type": "code",
   "execution_count": 8,
   "id": "79ed17a5-046d-416d-be39-2fb169c0cc06",
   "metadata": {},
   "outputs": [],
   "source": [
    "X = df\n",
    "y1 = [1, 1, 1, 1, 0, 0, 0, 0]\n",
    "y2 = [1, 1, 1, 1, 0, 0, 0, 1]"
   ]
  },
  {
   "cell_type": "markdown",
   "id": "9d13c3ce-69f0-42e6-bbaa-e4ea33ca2499",
   "metadata": {},
   "source": [
    "## 3. Aplicando o classificador Perceptron"
   ]
  },
  {
   "cell_type": "markdown",
   "id": "fa1e1b53-b53b-4d27-9b8c-6f8bda0c9982",
   "metadata": {},
   "source": [
    "* Caso 1  \n",
    "---"
   ]
  },
  {
   "cell_type": "code",
   "execution_count": 9,
   "id": "3aeb67e4-d2c8-42fa-ad4b-81dc7f21eda1",
   "metadata": {},
   "outputs": [
    {
     "data": {
      "text/plain": [
       "Perceptron()"
      ]
     },
     "execution_count": 9,
     "metadata": {},
     "output_type": "execute_result"
    }
   ],
   "source": [
    "clf = Perceptron(tol=1e-3, random_state=0)\n",
    "clf.fit(X, y1)"
   ]
  },
  {
   "cell_type": "code",
   "execution_count": 10,
   "id": "b7c9c97f-a89b-401d-bd21-c1d091387c6d",
   "metadata": {},
   "outputs": [],
   "source": [
    "y_pred = clf.predict(X)"
   ]
  },
  {
   "cell_type": "code",
   "execution_count": 11,
   "id": "0ecf31ae-9e52-4cc8-a2aa-2ab606b8a0ce",
   "metadata": {},
   "outputs": [
    {
     "data": {
      "text/plain": [
       "1.0"
      ]
     },
     "execution_count": 11,
     "metadata": {},
     "output_type": "execute_result"
    }
   ],
   "source": [
    "clf.score(X,y1)"
   ]
  },
  {
   "cell_type": "code",
   "execution_count": 12,
   "id": "eb69ffb0-8b26-4a54-b295-c0bef7406424",
   "metadata": {},
   "outputs": [
    {
     "data": {
      "image/png": "[encoded data removed]",
      "text/plain": [
       "<Figure size 640x480 with 2 Axes>"
      ]
     },
     "metadata": {},
     "output_type": "display_data"
    }
   ],
   "source": [
    "class_names = ['Não foi', 'Foi']\n",
    "\n",
    "cm = confusion_matrix(y1, y_pred)\n",
    "\n",
    "\n",
    "df_cm = pd.DataFrame(cm, index = class_names, columns = class_names)\n",
    "# plt.figure(figsize = (3,3))\n",
    "sns.heatmap(df_cm, annot=True)\n",
    "plt.show()"
   ]
  },
  {
   "cell_type": "code",
   "execution_count": 13,
   "id": "79140116-38c1-46a1-a6ec-7b3a90e16953",
   "metadata": {},
   "outputs": [
    {
     "name": "stdout",
     "output_type": "stream",
     "text": [
      "              precision    recall  f1-score   support\n",
      "\n",
      "           0       1.00      1.00      1.00         4\n",
      "           1       1.00      1.00      1.00         4\n",
      "\n",
      "    accuracy                           1.00         8\n",
      "   macro avg       1.00      1.00      1.00         8\n",
      "weighted avg       1.00      1.00      1.00         8\n",
      "\n"
     ]
    }
   ],
   "source": [
    "print(classification_report(y1, y_pred))"
   ]
  },
  {
   "cell_type": "markdown",
   "id": "194f5390-2bc0-47a6-88eb-4d10322ea1b1",
   "metadata": {},
   "source": [
    "* Caso 2  \n",
    "---"
   ]
  },
  {
   "cell_type": "code",
   "execution_count": 14,
   "id": "f84a1cb0-b7f9-4304-ae9c-588cbb88d550",
   "metadata": {},
   "outputs": [
    {
     "data": {
      "text/plain": [
       "Perceptron()"
      ]
     },
     "execution_count": 14,
     "metadata": {},
     "output_type": "execute_result"
    }
   ],
   "source": [
    "clf = Perceptron(tol=1e-3, random_state=0)\n",
    "clf.fit(X, y2)"
   ]
  },
  {
   "cell_type": "code",
   "execution_count": 15,
   "id": "abe502d3-ef21-4a06-a9f2-b0b460c2202a",
   "metadata": {},
   "outputs": [],
   "source": [
    "y_pred = clf.predict(X)"
   ]
  },
  {
   "cell_type": "code",
   "execution_count": 16,
   "id": "fb3f1169-2952-4824-844e-ffc8a817d2df",
   "metadata": {},
   "outputs": [
    {
     "data": {
      "text/plain": [
       "0.75"
      ]
     },
     "execution_count": 16,
     "metadata": {},
     "output_type": "execute_result"
    }
   ],
   "source": [
    "clf.score(X,y2)"
   ]
  },
  {
   "cell_type": "code",
   "execution_count": 17,
   "id": "2ad273bf-bb97-42aa-aa66-187d037fe73b",
   "metadata": {},
   "outputs": [
    {
     "data": {
      "image/png": "[encoded data removed]",
      "text/plain": [
       "<Figure size 640x480 with 2 Axes>"
      ]
     },
     "metadata": {},
     "output_type": "display_data"
    }
   ],
   "source": [
    "class_names = ['Não foi', 'Foi']\n",
    "\n",
    "cm = confusion_matrix(y1, y_pred)\n",
    "\n",
    "df_cm = pd.DataFrame(cm, index = class_names, columns = class_names)\n",
    "# plt.figure(figsize = (3,3))\n",
    "sns.heatmap(df_cm, annot=True)\n",
    "plt.show()"
   ]
  },
  {
   "cell_type": "code",
   "execution_count": 18,
   "id": "616d21c7-0a02-4422-b4aa-c016f0e58bd7",
   "metadata": {},
   "outputs": [
    {
     "name": "stdout",
     "output_type": "stream",
     "text": [
      "              precision    recall  f1-score   support\n",
      "\n",
      "           0       0.60      1.00      0.75         3\n",
      "           1       1.00      0.60      0.75         5\n",
      "\n",
      "    accuracy                           0.75         8\n",
      "   macro avg       0.80      0.80      0.75         8\n",
      "weighted avg       0.85      0.75      0.75         8\n",
      "\n"
     ]
    }
   ],
   "source": [
    "print(classification_report(y2, y_pred))"
   ]
  },
  {
   "cell_type": "code",
   "execution_count": null,
   "id": "bb254f24-9d0b-4f35-bde5-d7f20a30b178",
   "metadata": {},
   "outputs": [],
   "source": []
  }
 ],
 "metadata": {
  "kernelspec": {
   "display_name": "Python 3",
   "language": "python",
   "name": "python3"
  },
  "language_info": {
   "codemirror_mode": {
    "name": "ipython",
    "version": 3
   },
   "file_extension": ".py",
   "mimetype": "text/x-python",
   "name": "python",
   "nbconvert_exporter": "python",
   "pygments_lexer": "ipython3",
   "version": "3.8.11"
  }
 },
 "nbformat": 4,
 "nbformat_minor": 5
}
