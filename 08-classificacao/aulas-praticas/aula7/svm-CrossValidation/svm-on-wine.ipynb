{
 "cells": [
  {
   "cell_type": "markdown",
   "id": "e7e75d7f",
   "metadata": {},
   "source": [
    "# Aplicando SVM para classificação de vinhos"
   ]
  },
  {
   "cell_type": "markdown",
   "id": "63eb8235",
   "metadata": {},
   "source": [
    "## Bibliotecas"
   ]
  },
  {
   "cell_type": "code",
   "execution_count": 1,
   "id": "87d980fb",
   "metadata": {},
   "outputs": [],
   "source": [
    "import numpy as np\n",
    "import matplotlib.pyplot as plt\n",
    "import seaborn as sns\n",
    "\n",
    "sns.set()"
   ]
  },
  {
   "cell_type": "markdown",
   "id": "92151f68",
   "metadata": {},
   "source": [
    "## Importando o dataset"
   ]
  },
  {
   "cell_type": "code",
   "execution_count": 2,
   "id": "e090a510",
   "metadata": {},
   "outputs": [],
   "source": [
    "from sklearn.datasets import load_wine"
   ]
  },
  {
   "cell_type": "code",
   "execution_count": 3,
   "id": "a2321f3b-294b-416c-8457-b9c05c343b5a",
   "metadata": {},
   "outputs": [],
   "source": [
    "wine = load_wine()"
   ]
  },
  {
   "cell_type": "markdown",
   "id": "b55a3b7a-2452-4bfa-93e0-2ad82018e9f9",
   "metadata": {},
   "source": [
    "### Leitura dos dados"
   ]
  },
  {
   "cell_type": "code",
   "execution_count": 4,
   "id": "1390f218-13d5-4e0a-9a17-b2967e9e7e51",
   "metadata": {},
   "outputs": [],
   "source": [
    "X = wine.data"
   ]
  },
  {
   "cell_type": "code",
   "execution_count": 5,
   "id": "f08feeaf-43d1-41ad-be12-0594845e50c7",
   "metadata": {},
   "outputs": [],
   "source": [
    "y = wine.target"
   ]
  },
  {
   "cell_type": "code",
   "execution_count": 6,
   "id": "85e53020-02a4-4476-8c65-1e7f0058302e",
   "metadata": {},
   "outputs": [
    {
     "data": {
      "text/plain": [
       "((178, 13), (178,))"
      ]
     },
     "execution_count": 6,
     "metadata": {},
     "output_type": "execute_result"
    }
   ],
   "source": [
    "X.shape, y.shape"
   ]
  },
  {
   "cell_type": "code",
   "execution_count": 7,
   "id": "ffa0cc87-7216-4a44-944e-d277691e7612",
   "metadata": {},
   "outputs": [
    {
     "data": {
      "text/plain": [
       "['alcohol',\n",
       " 'malic_acid',\n",
       " 'ash',\n",
       " 'alcalinity_of_ash',\n",
       " 'magnesium',\n",
       " 'total_phenols',\n",
       " 'flavanoids',\n",
       " 'nonflavanoid_phenols',\n",
       " 'proanthocyanins',\n",
       " 'color_intensity',\n",
       " 'hue',\n",
       " 'od280/od315_of_diluted_wines',\n",
       " 'proline']"
      ]
     },
     "execution_count": 7,
     "metadata": {},
     "output_type": "execute_result"
    }
   ],
   "source": [
    "wine.feature_names"
   ]
  },
  {
   "cell_type": "code",
   "execution_count": 8,
   "id": "c85d1664-a94d-400b-bf11-7170c0d6331e",
   "metadata": {},
   "outputs": [
    {
     "data": {
      "text/plain": [
       "array(['class_0', 'class_1', 'class_2'], dtype='<U7')"
      ]
     },
     "execution_count": 8,
     "metadata": {},
     "output_type": "execute_result"
    }
   ],
   "source": [
    "wine.target_names"
   ]
  },
  {
   "cell_type": "markdown",
   "id": "65c37da9",
   "metadata": {},
   "source": [
    "### Dividindo os dados"
   ]
  },
  {
   "cell_type": "code",
   "execution_count": 9,
   "id": "3356cb76",
   "metadata": {},
   "outputs": [],
   "source": [
    "from sklearn.model_selection import train_test_split"
   ]
  },
  {
   "cell_type": "code",
   "execution_count": 10,
   "id": "479a6359",
   "metadata": {},
   "outputs": [],
   "source": [
    "ts = 0.33\n",
    "X_train, X_test, y_train, y_test = train_test_split(X, y, test_size=ts, random_state=42)"
   ]
  },
  {
   "cell_type": "markdown",
   "id": "bfbc7c47-59ac-41bd-8645-4e4c2b9e5310",
   "metadata": {},
   "source": [
    "## Treinando o SVM"
   ]
  },
  {
   "cell_type": "code",
   "execution_count": 11,
   "id": "febfea11-7802-4ea1-a617-743db84f1a14",
   "metadata": {},
   "outputs": [],
   "source": [
    "from sklearn.pipeline import make_pipeline\n",
    "from sklearn.preprocessing import StandardScaler\n",
    "from sklearn.svm import SVC"
   ]
  },
  {
   "cell_type": "code",
   "execution_count": 12,
   "id": "08a9aa96-ac47-46f1-a66a-a48f69e40be7",
   "metadata": {},
   "outputs": [],
   "source": [
    "model_clean = make_pipeline(StandardScaler(), SVC())"
   ]
  },
  {
   "cell_type": "markdown",
   "id": "bb3abc3b-b2ac-4fe7-8f94-ee1857547b01",
   "metadata": {},
   "source": [
    "## SVM"
   ]
  },
  {
   "cell_type": "markdown",
   "id": "98879d25-af07-4017-bd7a-c3d3001ba594",
   "metadata": {},
   "source": [
    "### Procurando os `Kernels`"
   ]
  },
  {
   "cell_type": "code",
   "execution_count": 13,
   "id": "b506cb0a-3ef9-4bef-a62b-49a48e1e2637",
   "metadata": {},
   "outputs": [],
   "source": [
    "from sklearn.model_selection import GridSearchCV"
   ]
  },
  {
   "cell_type": "code",
   "execution_count": 14,
   "id": "2d72031f-b93f-49a7-9f78-148254ff383d",
   "metadata": {},
   "outputs": [
    {
     "name": "stdout",
     "output_type": "stream",
     "text": [
      "CPU times: user 308 ms, sys: 3.63 ms, total: 312 ms\n",
      "Wall time: 316 ms\n",
      "{'svc__C': 0.5, 'svc__decision_function_shape': 'ovo', 'svc__kernel': 'linear'}\n"
     ]
    }
   ],
   "source": [
    "param_grid = {\n",
    "    'svc__C': [0.01, 0.5, 1, 5],\n",
    "    'svc__kernel': ['linear', 'poly', 'rbf', 'sigmoid'],\n",
    "    'svc__decision_function_shape':  ['ovo', 'ovr']\n",
    "}\n",
    "grid = GridSearchCV(model_clean, param_grid)\n",
    "\n",
    "%time grid.fit(X_train, y_train)\n",
    "print(grid.best_params_)"
   ]
  },
  {
   "cell_type": "code",
   "execution_count": 15,
   "id": "076c89d6-1f2c-4b11-a8b1-e70110e8647c",
   "metadata": {},
   "outputs": [],
   "source": [
    "model_clean = grid.best_estimator_\n",
    "y_fit = model_clean.predict(X_test)"
   ]
  },
  {
   "cell_type": "code",
   "execution_count": 16,
   "id": "a61eef0d-44af-4dfe-9cc8-b5a0b296abc5",
   "metadata": {},
   "outputs": [
    {
     "name": "stdout",
     "output_type": "stream",
     "text": [
      "              precision    recall  f1-score   support\n",
      "\n",
      "     class_0       1.00      1.00      1.00        20\n",
      "     class_1       1.00      0.96      0.98        24\n",
      "     class_2       0.94      1.00      0.97        15\n",
      "\n",
      "    accuracy                           0.98        59\n",
      "   macro avg       0.98      0.99      0.98        59\n",
      "weighted avg       0.98      0.98      0.98        59\n",
      "\n"
     ]
    }
   ],
   "source": [
    "from sklearn.metrics import classification_report\n",
    "print(classification_report(y_test, y_fit,\n",
    "                            target_names=wine.target_names))"
   ]
  },
  {
   "cell_type": "code",
   "execution_count": 17,
   "id": "e4074a19-344f-43bc-837f-e59e590abc67",
   "metadata": {},
   "outputs": [
    {
     "data": {
      "image/png": "[encoded data removed]",
      "text/plain": [
       "<Figure size 432x288 with 2 Axes>"
      ]
     },
     "metadata": {},
     "output_type": "display_data"
    }
   ],
   "source": [
    "from sklearn.metrics import confusion_matrix\n",
    "mat = confusion_matrix(y_test, y_fit)\n",
    "sns.heatmap(mat.T, square=True, annot=True, fmt='d', cbar=True,\n",
    "            xticklabels=wine.target_names,\n",
    "            yticklabels=wine.target_names,cmap=plt.cm.Blues)\n",
    "plt.xlabel('Classes Reais')\n",
    "plt.ylabel('Classes Preditas');"
   ]
  },
  {
   "cell_type": "markdown",
   "id": "30c59e66-1fc2-442d-9d5c-ca61a451eb8e",
   "metadata": {},
   "source": [
    "### Testando os `kernels` e parâmetros"
   ]
  },
  {
   "cell_type": "code",
   "execution_count": 18,
   "id": "88fd5fd5-b74c-4f3a-916e-02f7de978fd8",
   "metadata": {},
   "outputs": [],
   "source": [
    "kernel_list = ['linear', 'poly', 'rbf', 'sigmoid']"
   ]
  },
  {
   "cell_type": "code",
   "execution_count": 19,
   "id": "24c09b3c-0a12-498f-8cb5-5dc32e23a936",
   "metadata": {},
   "outputs": [],
   "source": [
    "def gs_best_params(C_list, gamma_list, decision_list, X_test):\n",
    "    \n",
    "    for kernel in kernel_list:\n",
    "        model = make_pipeline(StandardScaler(), SVC(kernel=kernel))\n",
    "        \n",
    "        if kernel == 'linear':\n",
    "            param_grid = {\n",
    "                'svc__C': C_list,\n",
    "                'svc__decision_function_shape':  decision_list\n",
    "            }\n",
    "        else:\n",
    "            param_grid = {\n",
    "                'svc__C': C_list,\n",
    "                'svc__gamma': gamma_list,\n",
    "                'svc__decision_function_shape':  decision_list\n",
    "            }\n",
    "        \n",
    "        grid = GridSearchCV(model, param_grid)\n",
    "        print(f\"### Grid Search ({model.named_steps.svc.kernel}) ###\")\n",
    "        %time grid.fit(X_train, y_train)\n",
    "        print(grid.best_params_)\n",
    "        model = grid.best_estimator_\n",
    "        y_fit = model.predict(X_test)\n",
    "        print(\"### Classification report ###\")\n",
    "        print(classification_report(\n",
    "            y_test, y_fit, target_names=wine.target_names)\n",
    "        )\n",
    "        mat = confusion_matrix(y_test, y_fit)\n",
    "        sns.heatmap(mat.T, square=True, annot=True, fmt='d', cbar=True,\n",
    "                    xticklabels=wine.target_names,\n",
    "                    yticklabels=wine.target_names,cmap=plt.cm.Blues)\n",
    "        plt.title('Confusion Matrix')\n",
    "        plt.xlabel('Classes Reais')\n",
    "        plt.ylabel('Classes Preditas');\n",
    "        plt.show()\n",
    "        print(\"\\n\")"
   ]
  },
  {
   "cell_type": "code",
   "execution_count": 20,
   "id": "e4d15d48-c0f2-4870-92fc-d8a1407fa6f4",
   "metadata": {},
   "outputs": [
    {
     "name": "stdout",
     "output_type": "stream",
     "text": [
      "### Grid Search (linear) ###\n",
      "CPU times: user 152 ms, sys: 0 ns, total: 152 ms\n",
      "Wall time: 151 ms\n",
      "{'svc__C': 1, 'svc__decision_function_shape': 'ovo'}\n",
      "### Classification report ###\n",
      "              precision    recall  f1-score   support\n",
      "\n",
      "     class_0       1.00      1.00      1.00        20\n",
      "     class_1       1.00      0.96      0.98        24\n",
      "     class_2       0.94      1.00      0.97        15\n",
      "\n",
      "    accuracy                           0.98        59\n",
      "   macro avg       0.98      0.99      0.98        59\n",
      "weighted avg       0.98      0.98      0.98        59\n",
      "\n"
     ]
    },
    {
     "data": {
      "image/png": "[encoded data removed]",
      "text/plain": [
       "<Figure size 432x288 with 2 Axes>"
      ]
     },
     "metadata": {},
     "output_type": "display_data"
    },
    {
     "name": "stdout",
     "output_type": "stream",
     "text": [
      "\n",
      "\n",
      "### Grid Search (poly) ###\n",
      "CPU times: user 582 ms, sys: 0 ns, total: 582 ms\n",
      "Wall time: 582 ms\n",
      "{'svc__C': 30, 'svc__decision_function_shape': 'ovo', 'svc__gamma': 0.05}\n",
      "### Classification report ###\n",
      "              precision    recall  f1-score   support\n",
      "\n",
      "     class_0       0.95      1.00      0.98        20\n",
      "     class_1       1.00      0.96      0.98        24\n",
      "     class_2       1.00      1.00      1.00        15\n",
      "\n",
      "    accuracy                           0.98        59\n",
      "   macro avg       0.98      0.99      0.98        59\n",
      "weighted avg       0.98      0.98      0.98        59\n",
      "\n"
     ]
    },
    {
     "data": {
      "image/png": "[encoded data removed]",
      "text/plain": [
       "<Figure size 432x288 with 2 Axes>"
      ]
     },
     "metadata": {},
     "output_type": "display_data"
    },
    {
     "name": "stdout",
     "output_type": "stream",
     "text": [
      "\n",
      "\n",
      "### Grid Search (rbf) ###\n",
      "CPU times: user 599 ms, sys: 0 ns, total: 599 ms\n",
      "Wall time: 597 ms\n",
      "{'svc__C': 1, 'svc__decision_function_shape': 'ovo', 'svc__gamma': 0.01}\n",
      "### Classification report ###\n",
      "              precision    recall  f1-score   support\n",
      "\n",
      "     class_0       1.00      1.00      1.00        20\n",
      "     class_1       1.00      1.00      1.00        24\n",
      "     class_2       1.00      1.00      1.00        15\n",
      "\n",
      "    accuracy                           1.00        59\n",
      "   macro avg       1.00      1.00      1.00        59\n",
      "weighted avg       1.00      1.00      1.00        59\n",
      "\n"
     ]
    },
    {
     "data": {
      "image/png": "[encoded data removed]",
      "text/plain": [
       "<Figure size 432x288 with 2 Axes>"
      ]
     },
     "metadata": {},
     "output_type": "display_data"
    },
    {
     "name": "stdout",
     "output_type": "stream",
     "text": [
      "\n",
      "\n",
      "### Grid Search (sigmoid) ###\n",
      "CPU times: user 645 ms, sys: 16 ms, total: 661 ms\n",
      "Wall time: 670 ms\n",
      "{'svc__C': 1, 'svc__decision_function_shape': 'ovo', 'svc__gamma': 0.05}\n",
      "### Classification report ###\n",
      "              precision    recall  f1-score   support\n",
      "\n",
      "     class_0       1.00      1.00      1.00        20\n",
      "     class_1       1.00      1.00      1.00        24\n",
      "     class_2       1.00      1.00      1.00        15\n",
      "\n",
      "    accuracy                           1.00        59\n",
      "   macro avg       1.00      1.00      1.00        59\n",
      "weighted avg       1.00      1.00      1.00        59\n",
      "\n"
     ]
    },
    {
     "data": {
      "image/png": "[encoded data removed]",
      "text/plain": [
       "<Figure size 432x288 with 2 Axes>"
      ]
     },
     "metadata": {},
     "output_type": "display_data"
    },
    {
     "name": "stdout",
     "output_type": "stream",
     "text": [
      "\n",
      "\n"
     ]
    }
   ],
   "source": [
    "C_list = [0.001, 0.05, 1, 5, 10, 30, 40]\n",
    "gamma_list = [0.001, 0.005, 0.01, 0.05, 1]\n",
    "decision_list = ['ovo', 'ovr']\n",
    "\n",
    "gs_best_params(C_list, gamma_list, decision_list, X_test)"
   ]
  },
  {
   "cell_type": "markdown",
   "id": "5e5de741-d7cc-449b-a9a4-6ade13ed2761",
   "metadata": {},
   "source": [
    "## Validação cruzada"
   ]
  },
  {
   "cell_type": "code",
   "execution_count": 21,
   "id": "69ada305-461e-402c-a9ca-980ac854cc7c",
   "metadata": {},
   "outputs": [],
   "source": [
    "from sklearn.model_selection import cross_val_score\n",
    "from sklearn.model_selection import ShuffleSplit\n",
    "from sklearn.metrics import recall_score\n",
    "from sklearn import metrics\n",
    "from sklearn import svm\n",
    "from sklearn import preprocessing"
   ]
  },
  {
   "cell_type": "markdown",
   "id": "1af33ec4-9ce2-4d7d-ad7f-f0139d70d2ed",
   "metadata": {},
   "source": [
    "### Computando métricas"
   ]
  },
  {
   "cell_type": "markdown",
   "id": "4d431859-a63e-4d58-9c65-8d124cb886fb",
   "metadata": {},
   "source": [
    "Adotando os parâmetros que mais acertaram acima, junto com a [métrica](https://scikit-learn.org/stable/modules/model_evaluation.html#scoring-parameter) excolhida"
   ]
  },
  {
   "cell_type": "code",
   "execution_count": 22,
   "id": "9e1ba20c-bc3c-434c-8825-1c491106539b",
   "metadata": {},
   "outputs": [
    {
     "name": "stdout",
     "output_type": "stream",
     "text": [
      "[1.         0.95061728 1.         1.         0.9789713 ]\n",
      "0.9859 de acurácia com desvio padrão de 0.02\n"
     ]
    }
   ],
   "source": [
    "clf = make_pipeline(StandardScaler(), \n",
    "                    svm.SVC(kernel='rbf', \n",
    "                            C=1, \n",
    "                            gamma=0.01, \n",
    "                            decision_function_shape='ovo', \n",
    "                            random_state=42))\n",
    "\n",
    "# gera os 5 splits\n",
    "cv = ShuffleSplit(n_splits=5, test_size=0.3, random_state=0)\n",
    "\n",
    "# computa diretamente os valores as métricas de saída para cada execução da validação cruzada\n",
    "scores = cross_val_score(clf, X, y, cv=cv, scoring='f1_macro')\n",
    "print(scores)\n",
    "print(\"%0.4f de acurácia com desvio padrão de %0.2f\" % (scores.mean(), scores.std()))"
   ]
  },
  {
   "cell_type": "markdown",
   "id": "63fc682d-a611-4dbd-9db7-2568469a20bb",
   "metadata": {},
   "source": [
    "### Validação de múltiplas métricas"
   ]
  },
  {
   "cell_type": "code",
   "execution_count": 23,
   "id": "45882916-ad77-4a54-a4cd-bd5d883de5f1",
   "metadata": {},
   "outputs": [],
   "source": [
    "from sklearn.model_selection import cross_validate"
   ]
  },
  {
   "cell_type": "code",
   "execution_count": 24,
   "id": "7c076610-ba74-4ad5-b27b-42b02eef352d",
   "metadata": {},
   "outputs": [
    {
     "name": "stdout",
     "output_type": "stream",
     "text": [
      "### fit_time ###\n",
      "[0.04427958 0.04362321 0.05362153 0.05043197 0.04594731]\n",
      "### score_time ###\n",
      "[0.00123    0.00112438 0.00120044 0.00111556 0.00130177]\n",
      "### test_precision_macro ###\n",
      "[0.8974359  0.94405594 0.97777778 1.         1.        ]\n",
      "### test_recall_macro ###\n",
      "[0.9047619  0.95238095 0.97222222 1.         1.        ]\n"
     ]
    }
   ],
   "source": [
    "# métricas a serem computadas\n",
    "scoring = ['precision_macro', 'recall_macro']\n",
    "\n",
    "# definindo o modelo\n",
    "clf = svm.SVC(kernel='linear', C=1, random_state=0)\n",
    "\n",
    "# treinando o modelo com validação cruzada - Usando strings no scoring\n",
    "scores = cross_validate(clf, X, y, scoring=scoring)\n",
    "# imprimindo as chaves\n",
    "# print(sorted(scores.keys()))\n",
    "for keys in scores.keys():\n",
    "    print('###', keys, '###')\n",
    "    print(scores[keys])"
   ]
  },
  {
   "cell_type": "code",
   "execution_count": null,
   "id": "56f715cb-e1ff-4193-9033-5c983d361ac6",
   "metadata": {},
   "outputs": [],
   "source": []
  },
  {
   "cell_type": "markdown",
   "id": "e6a9c2bd-6e2c-4ebe-8762-f34f75eabc12",
   "metadata": {},
   "source": [
    "## Otimizando os hiper-parâmetros"
   ]
  },
  {
   "cell_type": "markdown",
   "id": "46109835-2c71-4cdc-bef7-ff732b6626d6",
   "metadata": {},
   "source": [
    "### Grid Search exaustivo"
   ]
  },
  {
   "cell_type": "code",
   "execution_count": 25,
   "id": "f9384416-431d-4186-a384-ff40dd3a8a4d",
   "metadata": {},
   "outputs": [],
   "source": [
    "kernel_list = ['linear', 'poly', 'rbf', 'sigmoid']"
   ]
  },
  {
   "cell_type": "code",
   "execution_count": 26,
   "id": "329b45ce-03f4-4ed2-bea8-5e6ffb73f415",
   "metadata": {},
   "outputs": [],
   "source": [
    "C_list = [0.001, 0.05, 1]\n",
    "gamma_list = [1e-3, 1e-4, 1e-5]\n",
    "decision_list = ['ovo', 'ovr']"
   ]
  },
  {
   "cell_type": "code",
   "execution_count": 27,
   "id": "12180c77-e4e7-425e-abd4-1b4bfcfec9e2",
   "metadata": {},
   "outputs": [],
   "source": [
    "import warnings\n",
    "warnings.filterwarnings('ignore') "
   ]
  },
  {
   "cell_type": "code",
   "execution_count": 28,
   "id": "77c4cbac-f6ef-43b1-9ebc-312ff5a177eb",
   "metadata": {},
   "outputs": [
    {
     "name": "stdout",
     "output_type": "stream",
     "text": [
      "# Otimizando os hyper-parameters para precision\n",
      "\n",
      "Melhor conjunto de parâmetros encontrados durante treinamento com validação cruzada:\n",
      "\n",
      "{'C': 0.05, 'kernel': 'linear'}\n",
      "\n",
      "Resultado da validação cruzada para cada combinação da grade:\n",
      "\n",
      "0.132 (+/-0.012) for {'C': 0.001, 'gamma': 0.001, 'kernel': 'rbf'}\n",
      "0.132 (+/-0.012) for {'C': 0.001, 'gamma': 0.0001, 'kernel': 'rbf'}\n",
      "0.132 (+/-0.012) for {'C': 0.001, 'gamma': 1e-05, 'kernel': 'rbf'}\n",
      "0.132 (+/-0.012) for {'C': 0.05, 'gamma': 0.001, 'kernel': 'rbf'}\n",
      "0.411 (+/-0.273) for {'C': 0.05, 'gamma': 0.0001, 'kernel': 'rbf'}\n",
      "0.451 (+/-0.080) for {'C': 0.05, 'gamma': 1e-05, 'kernel': 'rbf'}\n",
      "0.726 (+/-0.212) for {'C': 1, 'gamma': 0.001, 'kernel': 'rbf'}\n",
      "0.686 (+/-0.159) for {'C': 1, 'gamma': 0.0001, 'kernel': 'rbf'}\n",
      "0.689 (+/-0.115) for {'C': 1, 'gamma': 1e-05, 'kernel': 'rbf'}\n",
      "0.727 (+/-0.185) for {'C': 0.001, 'kernel': 'linear'}\n",
      "0.945 (+/-0.083) for {'C': 0.05, 'kernel': 'linear'}\n",
      "0.940 (+/-0.040) for {'C': 1, 'kernel': 'linear'}\n",
      "0.923 (+/-0.122) for {'C': 0.001, 'gamma': 0.001, 'kernel': 'poly'}\n",
      "0.716 (+/-0.250) for {'C': 0.001, 'gamma': 0.0001, 'kernel': 'poly'}\n",
      "0.459 (+/-0.093) for {'C': 0.001, 'gamma': 1e-05, 'kernel': 'poly'}\n",
      "0.915 (+/-0.114) for {'C': 0.05, 'gamma': 0.001, 'kernel': 'poly'}\n",
      "0.939 (+/-0.101) for {'C': 0.05, 'gamma': 0.0001, 'kernel': 'poly'}\n",
      "0.654 (+/-0.328) for {'C': 0.05, 'gamma': 1e-05, 'kernel': 'poly'}\n",
      "0.915 (+/-0.114) for {'C': 1, 'gamma': 0.001, 'kernel': 'poly'}\n",
      "0.923 (+/-0.122) for {'C': 1, 'gamma': 0.0001, 'kernel': 'poly'}\n",
      "0.716 (+/-0.250) for {'C': 1, 'gamma': 1e-05, 'kernel': 'poly'}\n",
      "0.132 (+/-0.012) for {'C': 0.001, 'gamma': 0.001, 'kernel': 'sigmoid'}\n",
      "0.132 (+/-0.012) for {'C': 0.001, 'gamma': 0.0001, 'kernel': 'sigmoid'}\n",
      "0.132 (+/-0.012) for {'C': 0.001, 'gamma': 1e-05, 'kernel': 'sigmoid'}\n",
      "0.132 (+/-0.012) for {'C': 0.05, 'gamma': 0.001, 'kernel': 'sigmoid'}\n",
      "0.132 (+/-0.012) for {'C': 0.05, 'gamma': 0.0001, 'kernel': 'sigmoid'}\n",
      "0.132 (+/-0.012) for {'C': 0.05, 'gamma': 1e-05, 'kernel': 'sigmoid'}\n",
      "0.132 (+/-0.012) for {'C': 1, 'gamma': 0.001, 'kernel': 'sigmoid'}\n",
      "0.132 (+/-0.012) for {'C': 1, 'gamma': 0.0001, 'kernel': 'sigmoid'}\n",
      "0.107 (+/-0.024) for {'C': 1, 'gamma': 1e-05, 'kernel': 'sigmoid'}\n",
      "\n",
      "Relatório de classificação detalhado:\n",
      "\n",
      "O modelo é treinado sobre todo o conjunto de treinamento.\n",
      "As métricas são computadas apenas considerando o conjunto de testes.\n",
      "\n",
      "              precision    recall  f1-score   support\n",
      "\n",
      "           0       1.00      1.00      1.00        20\n",
      "           1       1.00      1.00      1.00        24\n",
      "           2       1.00      1.00      1.00        15\n",
      "\n",
      "    accuracy                           1.00        59\n",
      "   macro avg       1.00      1.00      1.00        59\n",
      "weighted avg       1.00      1.00      1.00        59\n",
      "\n",
      "\n",
      "# Otimizando os hyper-parameters para recall\n",
      "\n",
      "Melhor conjunto de parâmetros encontrados durante treinamento com validação cruzada:\n",
      "\n",
      "{'C': 0.05, 'kernel': 'linear'}\n",
      "\n",
      "Resultado da validação cruzada para cada combinação da grade:\n",
      "\n",
      "0.333 (+/-0.000) for {'C': 0.001, 'gamma': 0.001, 'kernel': 'rbf'}\n",
      "0.333 (+/-0.000) for {'C': 0.001, 'gamma': 0.0001, 'kernel': 'rbf'}\n",
      "0.333 (+/-0.000) for {'C': 0.001, 'gamma': 1e-05, 'kernel': 'rbf'}\n",
      "0.333 (+/-0.000) for {'C': 0.05, 'gamma': 0.001, 'kernel': 'rbf'}\n",
      "0.419 (+/-0.106) for {'C': 0.05, 'gamma': 0.0001, 'kernel': 'rbf'}\n",
      "0.585 (+/-0.080) for {'C': 0.05, 'gamma': 1e-05, 'kernel': 'rbf'}\n",
      "0.712 (+/-0.181) for {'C': 1, 'gamma': 0.001, 'kernel': 'rbf'}\n",
      "0.683 (+/-0.143) for {'C': 1, 'gamma': 0.0001, 'kernel': 'rbf'}\n",
      "0.686 (+/-0.093) for {'C': 1, 'gamma': 1e-05, 'kernel': 'rbf'}\n",
      "0.702 (+/-0.125) for {'C': 0.001, 'kernel': 'linear'}\n",
      "0.946 (+/-0.078) for {'C': 0.05, 'kernel': 'linear'}\n",
      "0.933 (+/-0.043) for {'C': 1, 'kernel': 'linear'}\n",
      "0.917 (+/-0.126) for {'C': 0.001, 'gamma': 0.001, 'kernel': 'poly'}\n",
      "0.655 (+/-0.117) for {'C': 0.001, 'gamma': 0.0001, 'kernel': 'poly'}\n",
      "0.577 (+/-0.101) for {'C': 0.001, 'gamma': 1e-05, 'kernel': 'poly'}\n",
      "0.910 (+/-0.123) for {'C': 0.05, 'gamma': 0.001, 'kernel': 'poly'}\n",
      "0.933 (+/-0.093) for {'C': 0.05, 'gamma': 0.0001, 'kernel': 'poly'}\n",
      "0.613 (+/-0.119) for {'C': 0.05, 'gamma': 1e-05, 'kernel': 'poly'}\n",
      "0.910 (+/-0.123) for {'C': 1, 'gamma': 0.001, 'kernel': 'poly'}\n",
      "0.917 (+/-0.126) for {'C': 1, 'gamma': 0.0001, 'kernel': 'poly'}\n",
      "0.655 (+/-0.117) for {'C': 1, 'gamma': 1e-05, 'kernel': 'poly'}\n",
      "0.333 (+/-0.000) for {'C': 0.001, 'gamma': 0.001, 'kernel': 'sigmoid'}\n",
      "0.333 (+/-0.000) for {'C': 0.001, 'gamma': 0.0001, 'kernel': 'sigmoid'}\n",
      "0.333 (+/-0.000) for {'C': 0.001, 'gamma': 1e-05, 'kernel': 'sigmoid'}\n",
      "0.333 (+/-0.000) for {'C': 0.05, 'gamma': 0.001, 'kernel': 'sigmoid'}\n",
      "0.333 (+/-0.000) for {'C': 0.05, 'gamma': 0.0001, 'kernel': 'sigmoid'}\n",
      "0.333 (+/-0.000) for {'C': 0.05, 'gamma': 1e-05, 'kernel': 'sigmoid'}\n",
      "0.333 (+/-0.000) for {'C': 1, 'gamma': 0.001, 'kernel': 'sigmoid'}\n",
      "0.333 (+/-0.000) for {'C': 1, 'gamma': 0.0001, 'kernel': 'sigmoid'}\n",
      "0.242 (+/-0.089) for {'C': 1, 'gamma': 1e-05, 'kernel': 'sigmoid'}\n",
      "\n",
      "Relatório de classificação detalhado:\n",
      "\n",
      "O modelo é treinado sobre todo o conjunto de treinamento.\n",
      "As métricas são computadas apenas considerando o conjunto de testes.\n",
      "\n",
      "              precision    recall  f1-score   support\n",
      "\n",
      "           0       1.00      1.00      1.00        20\n",
      "           1       1.00      1.00      1.00        24\n",
      "           2       1.00      1.00      1.00        15\n",
      "\n",
      "    accuracy                           1.00        59\n",
      "   macro avg       1.00      1.00      1.00        59\n",
      "weighted avg       1.00      1.00      1.00        59\n",
      "\n",
      "\n"
     ]
    }
   ],
   "source": [
    "# Seta os possíveis parâmetros\n",
    "#   Note que quando usamos kernel RBF também precisamos otimizar o parâmetro gamma\n",
    "tuned_parameters = [{'kernel': ['rbf'], \n",
    "                     'gamma': gamma_list,\n",
    "                     'C': C_list},\n",
    "                    {'kernel': ['linear'], \n",
    "                     'C': C_list},\n",
    "                   {'kernel': ['poly'],\n",
    "                    'gamma': gamma_list,\n",
    "                    'C': C_list},\n",
    "                   {'kernel': ['sigmoid'],\n",
    "                    'gamma': gamma_list,\n",
    "                    'C': C_list}]\n",
    "\n",
    "# métricas\n",
    "scores = ['precision', 'recall']\n",
    "\n",
    "for score in scores:\n",
    "    print(\"# Otimizando os hyper-parameters para %s\" % score)\n",
    "    print()\n",
    "\n",
    "    clf = GridSearchCV(\n",
    "        SVC(), tuned_parameters, scoring='%s_macro' % score\n",
    "    )\n",
    "    clf.fit(X_train, y_train)\n",
    "\n",
    "    print(\"Melhor conjunto de parâmetros encontrados durante treinamento com validação cruzada:\")\n",
    "    print()\n",
    "    print(clf.best_params_)\n",
    "    print()\n",
    "    print(\"Resultado da validação cruzada para cada combinação da grade:\")\n",
    "    print()\n",
    "    means = clf.cv_results_['mean_test_score']\n",
    "    stds = clf.cv_results_['std_test_score']\n",
    "    for mean, std, params in zip(means, stds, clf.cv_results_['params']):\n",
    "        print(\"%0.3f (+/-%0.03f) for %r\"\n",
    "              % (mean, std * 2, params))\n",
    "    print()\n",
    "\n",
    "    print(\"Relatório de classificação detalhado:\")\n",
    "    print()\n",
    "    print(\"O modelo é treinado sobre todo o conjunto de treinamento.\")\n",
    "    print(\"As métricas são computadas apenas considerando o conjunto de testes.\")\n",
    "    print()\n",
    "    y_true, y_pred = y_test, clf.predict(X_test)\n",
    "    print(classification_report(y_true, y_pred))\n",
    "    print()"
   ]
  },
  {
   "cell_type": "markdown",
   "id": "c33c0f26-0258-4509-ae42-7cfaae2743f8",
   "metadata": {},
   "source": [
    "### Busca aleatória"
   ]
  },
  {
   "cell_type": "code",
   "execution_count": 29,
   "id": "66d4020a-98ea-43c8-8237-f5066d272eb3",
   "metadata": {},
   "outputs": [],
   "source": [
    "from time import time\n",
    "import scipy.stats as stats\n",
    "from sklearn.utils.fixes import loguniform\n",
    "from sklearn.linear_model import SGDClassifier\n",
    "from sklearn.model_selection import RandomizedSearchCV"
   ]
  },
  {
   "cell_type": "code",
   "execution_count": 30,
   "id": "5dc50050-96dc-4813-bfb3-e278798de30c",
   "metadata": {},
   "outputs": [
    {
     "name": "stdout",
     "output_type": "stream",
     "text": [
      "RandomizedSearchCV levou 0.30 segundos para 20 combinações candidatas.\n",
      "Modelo com rank: 1\n",
      "Media sobre conjunto de validação: 0.686 (desvio: 0.071)\n",
      "Parâmetros: {'alpha': 0.0016294113102442614, 'average': True, 'l1_ratio': 0.8626664681693152}\n",
      "\n",
      "Modelo com rank: 2\n",
      "Media sobre conjunto de validação: 0.686 (desvio: 0.037)\n",
      "Parâmetros: {'alpha': 0.03228849763742767, 'average': True, 'l1_ratio': 0.7881183699988745}\n",
      "\n",
      "Modelo com rank: 3\n",
      "Media sobre conjunto de validação: 0.675 (desvio: 0.056)\n",
      "Parâmetros: {'alpha': 0.18901152134981786, 'average': True, 'l1_ratio': 0.5725634365522161}\n",
      "\n",
      "GridSearchCV levou 1.43 segundos para 100 combinações candidatas\n",
      "Modelo com rank: 1\n",
      "Media sobre conjunto de validação: 0.692 (desvio: 0.113)\n",
      "Parâmetros: {'alpha': 0.001, 'average': False, 'l1_ratio': 0.7777777777777777}\n",
      "\n",
      "Modelo com rank: 1\n",
      "Media sobre conjunto de validação: 0.692 (desvio: 0.074)\n",
      "Parâmetros: {'alpha': 0.01, 'average': False, 'l1_ratio': 0.8888888888888888}\n",
      "\n",
      "Modelo com rank: 3\n",
      "Media sobre conjunto de validação: 0.686 (desvio: 0.090)\n",
      "Parâmetros: {'alpha': 1.0, 'average': False, 'l1_ratio': 1.0}\n",
      "\n"
     ]
    }
   ],
   "source": [
    "# construindo um classificador\n",
    "clf = SGDClassifier(loss='hinge', penalty='elasticnet',\n",
    "                    fit_intercept=True)\n",
    "\n",
    "\n",
    "# função para processar o resultado\n",
    "def report(results, n_top=3):\n",
    "    for i in range(1, n_top + 1):\n",
    "        candidates = np.flatnonzero(results['rank_test_score'] == i)\n",
    "        for candidate in candidates:\n",
    "            print(\"Modelo com rank: {0}\".format(i))\n",
    "            print(\"Media sobre conjunto de validação: {0:.3f} (desvio: {1:.3f})\"\n",
    "                  .format(results['mean_test_score'][candidate],\n",
    "                          results['std_test_score'][candidate]))\n",
    "            print(\"Parâmetros: {0}\".format(results['params'][candidate]))\n",
    "            print(\"\")\n",
    "\n",
    "\n",
    "# especificando os parâmetros e distribuições\n",
    "param_dist = {'average': [True, False],\n",
    "              'l1_ratio': stats.uniform(0, 1),\n",
    "              'alpha': loguniform(1e-4, 1e0)}\n",
    "\n",
    "# executando a busca aleatória\n",
    "n_iter_search = 20\n",
    "random_search = RandomizedSearchCV(clf, param_distributions=param_dist,\n",
    "                                   n_iter=n_iter_search)\n",
    "\n",
    "start = time()\n",
    "random_search.fit(X, y)\n",
    "print(\"RandomizedSearchCV levou %.2f segundos para %d combinações\"\n",
    "      \" candidatas.\" % ((time() - start), n_iter_search))\n",
    "report(random_search.cv_results_)\n",
    "\n",
    "# usando o grid search completo\n",
    "param_grid = {'average': [True, False],\n",
    "              'l1_ratio': np.linspace(0, 1, num=10),\n",
    "              'alpha': np.power(10, np.arange(-4, 1, dtype=float))}\n",
    "\n",
    "# executando o grid search\n",
    "grid_search = GridSearchCV(clf, param_grid=param_grid)\n",
    "start = time()\n",
    "grid_search.fit(X, y)\n",
    "\n",
    "print(\"GridSearchCV levou %.2f segundos para %d combinações candidatas\"\n",
    "      % (time() - start, len(grid_search.cv_results_['params'])))\n",
    "report(grid_search.cv_results_)"
   ]
  },
  {
   "cell_type": "markdown",
   "id": "685bcb28-ed75-4b1a-98e8-cdf5194ff360",
   "metadata": {},
   "source": [
    "### Comparando Grid Search com Divisões Sucessivas"
   ]
  },
  {
   "cell_type": "code",
   "execution_count": 38,
   "id": "714b9f03-fda3-49b6-b2d8-c7a77b19b989",
   "metadata": {},
   "outputs": [],
   "source": [
    "from sklearn.experimental import enable_halving_search_cv # noqa\n",
    "from sklearn.model_selection import HalvingGridSearchCV"
   ]
  },
  {
   "cell_type": "code",
   "execution_count": 37,
   "id": "906e075d-5bd2-4748-a23a-b187cbe27a39",
   "metadata": {},
   "outputs": [],
   "source": [
    "# rng = np.random.RandomState(0)\n",
    "# X, y = datasets.make_classification(n_samples=1000, random_state=rng)\n",
    "\n",
    "gammas = [1e-1, 1e-2, 1e-3, 1e-4, 1e-5, 1e-6, 1e-7]\n",
    "Cs = [1, 10, 100, 1e3, 1e4, 1e5]\n",
    "param_grid = {'gamma': gammas, 'C': Cs}\n",
    "\n",
    "clf = SVC(random_state=rng)\n",
    "\n",
    "tic = time()\n",
    "gsh = HalvingGridSearchCV(estimator=clf, param_grid=param_grid, factor=2,\n",
    "                          random_state=rng)\n",
    "gsh.fit(X, y)\n",
    "gsh_time = time() - tic\n",
    "\n",
    "tic = time()\n",
    "gs = GridSearchCV(estimator=clf, param_grid=param_grid)\n",
    "gs.fit(X, y)\n",
    "gs_time = time() - tic"
   ]
  },
  {
   "cell_type": "code",
   "execution_count": 40,
   "id": "e2d17c3d-40f0-4480-af89-988bb4b35921",
   "metadata": {},
   "outputs": [],
   "source": [
    "import pandas as pd"
   ]
  },
  {
   "cell_type": "code",
   "execution_count": 41,
   "id": "da2ab56b-ebba-4887-812a-103f8d76eb19",
   "metadata": {},
   "outputs": [
    {
     "data": {
      "image/png": "[encoded data removed]",
      "text/plain": [
       "<Figure size 432x288 with 3 Axes>"
      ]
     },
     "metadata": {},
     "output_type": "display_data"
    }
   ],
   "source": [
    "def make_heatmap(ax, gs, is_sh=False, make_cbar=False):\n",
    "    results = pd.DataFrame.from_dict(gs.cv_results_)\n",
    "    results['params_str'] = results.params.apply(str)\n",
    "    if is_sh:\n",
    "        # SH dataframe: get mean_test_score values for the highest iter\n",
    "        scores_matrix = results.sort_values('iter').pivot_table(\n",
    "                index='param_gamma', columns='param_C',\n",
    "                values='mean_test_score', aggfunc='last'\n",
    "        )\n",
    "    else:\n",
    "        scores_matrix = results.pivot(index='param_gamma', columns='param_C',\n",
    "                                      values='mean_test_score')\n",
    "\n",
    "    im = ax.imshow(scores_matrix)\n",
    "\n",
    "    ax.set_xticks(np.arange(len(Cs)))\n",
    "    ax.set_xticklabels(['{:.0E}'.format(x) for x in Cs])\n",
    "    ax.set_xlabel('C', fontsize=15)\n",
    "\n",
    "    ax.set_yticks(np.arange(len(gammas)))\n",
    "    ax.set_yticklabels(['{:.0E}'.format(x) for x in gammas])\n",
    "    ax.set_ylabel('gamma', fontsize=15)\n",
    "\n",
    "    # Rotate the tick labels and set their alignment.\n",
    "    plt.setp(ax.get_xticklabels(), rotation=45, ha=\"right\",\n",
    "             rotation_mode=\"anchor\")\n",
    "\n",
    "    if is_sh:\n",
    "        iterations = results.pivot_table(index='param_gamma',\n",
    "                                         columns='param_C', values='iter',\n",
    "                                         aggfunc='max').values\n",
    "        for i in range(len(gammas)):\n",
    "            for j in range(len(Cs)):\n",
    "                ax.text(j, i, iterations[i, j],\n",
    "                        ha=\"center\", va=\"center\", color=\"w\", fontsize=20)\n",
    "\n",
    "    if make_cbar:\n",
    "        fig.subplots_adjust(right=0.8)\n",
    "        cbar_ax = fig.add_axes([0.85, 0.15, 0.05, 0.7])\n",
    "        fig.colorbar(im, cax=cbar_ax)\n",
    "        cbar_ax.set_ylabel('resultado médio (teste)', rotation=-90, va=\"bottom\",\n",
    "                           fontsize=15)\n",
    "\n",
    "\n",
    "fig, axes = plt.subplots(ncols=2, sharey=True)\n",
    "ax1, ax2 = axes\n",
    "\n",
    "make_heatmap(ax1, gsh, is_sh=True)\n",
    "make_heatmap(ax2, gs, make_cbar=True)\n",
    "\n",
    "ax1.set_title('Divisões Sucessivas\\ntempo = {:.3f}s'.format(gsh_time),\n",
    "              fontsize=15)\n",
    "ax2.set_title('Grid search\\ntempo = {:.3f}s'.format(gs_time), fontsize=15)\n",
    "\n",
    "plt.show()"
   ]
  },
  {
   "cell_type": "code",
   "execution_count": null,
   "id": "9488304a-3877-462c-8e1c-10fd72c783a0",
   "metadata": {},
   "outputs": [],
   "source": []
  }
 ],
 "metadata": {
  "kernelspec": {
   "display_name": "Python 3 (ipykernel)",
   "language": "python",
   "name": "python3"
  },
  "language_info": {
   "codemirror_mode": {
    "name": "ipython",
    "version": 3
   },
   "file_extension": ".py",
   "mimetype": "text/x-python",
   "name": "python",
   "nbconvert_exporter": "python",
   "pygments_lexer": "ipython3",
   "version": "3.8.12"
  }
 },
 "nbformat": 4,
 "nbformat_minor": 5
}
