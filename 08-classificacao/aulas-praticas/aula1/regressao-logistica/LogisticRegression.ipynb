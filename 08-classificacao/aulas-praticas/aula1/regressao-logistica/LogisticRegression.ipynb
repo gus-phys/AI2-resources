{
 "cells": [
  {
   "cell_type": "markdown",
   "metadata": {},
   "source": [
    "# Regressão Logística"
   ]
  },
  {
   "cell_type": "markdown",
   "metadata": {},
   "source": [
    "Regressão logística é uma técnica de classificação que pertence ao grupo dos classificadores lineares* e de alguma forma parecida com regressão linear. É uma técnica rápida e simples de entender, além de conveniente para interpretar os resultados. Apesar de ser, essencialmente, um método para classificação binária, pode ser usado para classificação multi-classes.\n",
    "\n",
    "\\* classificação baseada em uma combinação linear entre as variáveis de entrada, também chamado de _logit_.\n",
    "\n",
    "ex: $f(X) = \\alpha + b_1x_1 + b_2x_2 +\\dots + b_nx_n$."
   ]
  },
  {
   "cell_type": "markdown",
   "metadata": {},
   "source": [
    "## Função Sigmoid\n",
    "\n",
    "O objetivo da Regressão Logística é encontrar a função $p($**x**$)$ tal que as saídas estimadas $p(x_i)$ fiquem o mais próximo possível do valor real de $y_i$ para cada amostra $i = 1, 2, \\dots, n$. Como, em um primeiro momento, vamos lidar exclusivamente de classificação binária, essas saídas devem ser apenas $0$ ou $1$. Sendo assim, é conveniente utilizar a função Sigmoid (caso especial da função logística).\n",
    "\n",
    "<img src=\"assets/log-reg-1.webp\" alt=\"sigmoid\" width=\"400\"/>\n"
   ]
  },
  {
   "cell_type": "markdown",
   "metadata": {},
   "source": [
    "## Juntando a combinação linear com a função Sigmoid\n",
    "\n",
    "A Regressão logística determina os melhores valores para o bias $\\alpha$ e os pesos $b_1, b_2, \\dots, b_n$, tal que a função $p($**x**$)$ se aproxime da classe real da amostra. O processo de encontrar os melhores valores para esses parâmetros é chamado de treinamento (ou _fitting_ ).\n",
    "\n",
    "Nesse caso, **x** que a função Sigmoid ($p$) recebe é a saída da combinação linear $f(X) = \\alpha + b_1x_1 + b_2x_2 +\\dots + b_nx_n$."
   ]
  },
  {
   "cell_type": "markdown",
   "metadata": {},
   "source": [
    "## Como encontrar os melhores valores para o bias e os pesos?\n",
    "\n",
    "Os melhores pesos são geralmente encontrados maximizando a função de verosimilhança logarítmica (_log-likelihood_ ) O método é chamado de maximização da verossimilhança (_maximum likelihood estimation_ - MLE) e é representado pela seguinte equação.\n",
    "\n",
    "\\begin{equation}\n",
    "MLE = \\sum_{i=1}^n(y_i log(p(x_i)) + (1 − y_i) log(1 − p(x_i))).\n",
    "\\end{equation}\n",
    "<img src=\"assets/log-reg-4.webp\" alt=\"log\" width=\"400\"/>\n",
    "\n",
    "Os melhores parâmetros para maximizar essa equação podem ser encontrados usando técnicas matemáticas, essa parte será executada pelo scikit-learn."
   ]
  },
  {
   "cell_type": "markdown",
   "metadata": {},
   "source": [
    "## Implementação\n",
    "\n",
    "### Exemplo 1 - Classificação binária com uma única variável de entrada"
   ]
  },
  {
   "cell_type": "code",
   "execution_count": 1,
   "metadata": {},
   "outputs": [],
   "source": [
    "# Passo n° 1: Importando as bibliotecas necessárias\n",
    "import matplotlib.pyplot as plt\n",
    "import numpy as np\n",
    "from sklearn.linear_model import LogisticRegression\n",
    "from sklearn.metrics import classification_report, confusion_matrix"
   ]
  },
  {
   "cell_type": "code",
   "execution_count": 2,
   "metadata": {},
   "outputs": [
    {
     "name": "stdout",
     "output_type": "stream",
     "text": [
      "x = [[0]\n",
      " [1]\n",
      " [2]\n",
      " [3]\n",
      " [4]\n",
      " [5]\n",
      " [6]\n",
      " [7]\n",
      " [8]\n",
      " [9]]\n",
      "y = [0 0 0 0 1 1 1 1 1 1]\n"
     ]
    }
   ],
   "source": [
    "# Passo n° 2: Gerando dados para classificação\n",
    "\n",
    "# Gerando os dados de entrada. Serão geradas 10 amostras com valores de 0 a 9\n",
    "# note que os modelos do scikit-learn esperam um array composto com um array de características\n",
    "# por amostra de entrada (mesmo que seja apenas 1 característica). Por isso fazemos um reshape.\n",
    "x = np.arange(10).reshape(-1, 1) \n",
    "\n",
    "# gerando as classes para cada amostra\n",
    "y = np.array([0, 0, 0, 0, 1, 1, 1, 1, 1, 1])\n",
    "print('x = {}'.format(x))\n",
    "print('y = {}'.format(y))"
   ]
  },
  {
   "cell_type": "code",
   "execution_count": 3,
   "metadata": {},
   "outputs": [
    {
     "data": {
      "text/plain": [
       "LogisticRegression(random_state=0, solver='liblinear')"
      ]
     },
     "execution_count": 3,
     "metadata": {},
     "output_type": "execute_result"
    }
   ],
   "source": [
    "# Passo n° 3: Criando e treinando um modelo\n",
    "\n",
    "# Criando ou estanciando o modelo:\n",
    "#   solver é o algoritmo utilizado para otimizar os parâmetros.\n",
    "#     liblinear é a melhor opção para datasets pequenos e binários.\n",
    "#   random_state = 0, ou qualquer número, garante que a inicialização aleatória vai ser sempre igual, \n",
    "#     independente de quantas vezes rodar o algoritmo\n",
    "model = LogisticRegression(solver='liblinear', random_state=0)\n",
    "\n",
    "# O modelo possui diversos hiperparâmetros que podem ser ajustados, como penalidade (padrão L2), número \n",
    "#   de iterações, etc. Sugiro que deem uma olhada na documentação:\n",
    "# https://scikit-learn.org/stable/modules/generated/sklearn.linear_model.LogisticRegression.html\n",
    "\n",
    "# Treinando o modelo\n",
    "model.fit(x, y)"
   ]
  },
  {
   "cell_type": "code",
   "execution_count": 4,
   "metadata": {},
   "outputs": [
    {
     "name": "stdout",
     "output_type": "stream",
     "text": [
      "classes = [0 1]\n",
      "bias = [-1.04608067]\n",
      "pesos = [[0.51491375]]\n"
     ]
    }
   ],
   "source": [
    "# Podemos extrair algumas informações do modelo, como por exemplo:\n",
    "\n",
    "# as classes presentes no conjunto de dados\n",
    "print('classes = {}'.format(model.classes_))\n",
    "\n",
    "# o valor do bias\n",
    "print('bias = {}'.format(model.intercept_))\n",
    "\n",
    "# os pesos\n",
    "print('pesos = {}'.format(model.coef_))"
   ]
  },
  {
   "cell_type": "code",
   "execution_count": 5,
   "metadata": {},
   "outputs": [
    {
     "name": "stdout",
     "output_type": "stream",
     "text": [
      "probabilidades = [[0.74002157 0.25997843]\n",
      " [0.62975524 0.37024476]\n",
      " [0.5040632  0.4959368 ]\n",
      " [0.37785549 0.62214451]\n",
      " [0.26628093 0.73371907]\n",
      " [0.17821501 0.82178499]\n",
      " [0.11472079 0.88527921]\n",
      " [0.07186982 0.92813018]\n",
      " [0.04422513 0.95577487]\n",
      " [0.02690569 0.97309431]]\n",
      "\n",
      "classe_estimada = [0 0 0 1 1 1 1 1 1 1]\n"
     ]
    }
   ],
   "source": [
    "# Passo n° 4: Avaliando o modelo\n",
    "\n",
    "# uma das formas de avaliar o modelo, é através a probabilidade  que ele dá à cada amostra\n",
    "#   de pertencer a cada classe\n",
    "probabilidades = model.predict_proba(x)\n",
    "\n",
    "# uma outra forma mais comum é através da classe que o modelo estimou\n",
    "classe_estimada = model.predict(x)\n",
    "\n",
    "print('probabilidades = {}\\n'.format(probabilidades))\n",
    "print('classe_estimada = {}'.format(classe_estimada))"
   ]
  },
  {
   "cell_type": "markdown",
   "metadata": {},
   "source": [
    "Podemos visualizar essa classificação na figura a seguir:\n",
    "<img src=\"assets/log-reg-5.webp\" alt=\"univariate\" width=\"800\"/>\n",
    "\n",
    "Note que a classificação corresponde ao limiar $p(x) = 0.5$, que ocorre quando $f(x) = 0$. Esse valor é o limite da classificação entre as classe $0$ e $1$."
   ]
  },
  {
   "cell_type": "code",
   "execution_count": 6,
   "metadata": {},
   "outputs": [
    {
     "data": {
      "text/plain": [
       "0.9"
      ]
     },
     "execution_count": 6,
     "metadata": {},
     "output_type": "execute_result"
    }
   ],
   "source": [
    "# uma outra métrica bem interessante é a acurácia, ou taxa de acerto do nosso modelo, \n",
    "#   que pode ser computada da seguinte maneira:\n",
    "\n",
    "# esse valor representa a relação entre o número de acertos dividido pelo número total de amostras.\n",
    "#   caso acerte todas as predições, o resultado é igual a 1.\n",
    "model.score(x, y)"
   ]
  },
  {
   "cell_type": "markdown",
   "metadata": {},
   "source": [
    "## Matriz de confusão\n",
    "\n",
    "A matriz de confusão permite obter informações mais detalhadas sobre o resultado da classificação, levando em conta a taxa de acerto de cada classe. Nesse caso, utilizamos 4 novas métricas:\n",
    "\n",
    "- Verdadeiros Negativos (True negatives - **TN**): amostras negativas (zeros) estimadas corretamente\n",
    "- Verdadeiros Positivos (True positives - **TP**): amostras positivas (1's) estimadas corretamente\n",
    "- Falsos Negativos (False negatives - **FN**): amostras negativas (zeros) estimadas incorretamente\n",
    "- Falsos Positivos (False positives - **FP**): amostras positivas (1's) estimadas incorretamente\n",
    "\n",
    "A matriz de confusão mostra esses valores da seguinte forma:\n",
    "\n",
    "- **TN**: no canto superior esquerdo\n",
    "- **FN**: no canto inferior esquerdo\n",
    "- **FP**: no canto superior direito\n",
    "- **TP**: no canto inferior direito"
   ]
  },
  {
   "cell_type": "code",
   "execution_count": 7,
   "metadata": {},
   "outputs": [
    {
     "name": "stdout",
     "output_type": "stream",
     "text": [
      "CM = \n",
      "[[3 1]\n",
      " [0 6]]\n"
     ]
    }
   ],
   "source": [
    "# podemos computar a matriz de confusão da seguinte maneira\n",
    "\n",
    "# poderiamos usar model.predict(x), mas já temos os resultados das predições na variável classe_estimada\n",
    "cm = confusion_matrix(y, classe_estimada)\n",
    "print('CM = ')\n",
    "print(cm)"
   ]
  },
  {
   "cell_type": "markdown",
   "metadata": {},
   "source": [
    "A primeira linha da matriz de confusão mostra que 3 amostras da classe zero foram classificadas como classe zero, enquanto 1 amostra da classe zero foi classificada erroneamente como classe 1.\n",
    "\n",
    "Do mesmo modo, a segunda linha mostra que nenhuma amostra da classe 1 foi classificada erroneamente como classe 0, pois todas as amostras (6) da classe 1 foram classificadas corretamente.\n",
    "\n",
    "Podemos plotar a matriz de confusão para ter uma melhor visualização desses resultados:"
   ]
  },
  {
   "cell_type": "code",
   "execution_count": 8,
   "metadata": {},
   "outputs": [
    {
     "data": {
      "image/png": "[encoded data removed]",
      "text/plain": [
       "<Figure size 800x800 with 1 Axes>"
      ]
     },
     "metadata": {},
     "output_type": "display_data"
    }
   ],
   "source": [
    "fig, ax = plt.subplots(figsize=(8, 8))\n",
    "ax.imshow(cm, cmap=plt.cm.Blues)\n",
    "ax.grid(False)\n",
    "ax.xaxis.set(ticks=(0, 1), ticklabels=('0s estimados', '1s estimados'))\n",
    "ax.yaxis.set(ticks=(0, 1), ticklabels=('0s reais', '1s reais'))\n",
    "ax.set_ylim(1.5, -0.5)\n",
    "for i in range(2):\n",
    "    for j in range(2):\n",
    "        ax.text(j, i, cm[i, j], ha='center', va='center',  size=15)\n",
    "plt.show()"
   ]
  },
  {
   "cell_type": "markdown",
   "metadata": {},
   "source": [
    "Podemos também obter um relatório mais detalhado da classificação utilizando a função classification_report():"
   ]
  },
  {
   "cell_type": "code",
   "execution_count": 9,
   "metadata": {},
   "outputs": [
    {
     "name": "stdout",
     "output_type": "stream",
     "text": [
      "              precision    recall  f1-score   support\n",
      "\n",
      "           0       1.00      0.75      0.86         4\n",
      "           1       0.86      1.00      0.92         6\n",
      "\n",
      "    accuracy                           0.90        10\n",
      "   macro avg       0.93      0.88      0.89        10\n",
      "weighted avg       0.91      0.90      0.90        10\n",
      "\n"
     ]
    }
   ],
   "source": [
    "print(classification_report(y, classe_estimada))"
   ]
  },
  {
   "cell_type": "markdown",
   "metadata": {},
   "source": [
    "Onde as métricas representam:\n",
    "\n",
    "- **Precisão** = TP/TP+FP ou TN/TN+FN -> Taxa de acerto considerando todas as amostras classificadas como sendo da classe.\n",
    "- **Recall** = TP/TP+FN ou TN/TN+FP -> Taxa de quantas amostras da classe foram corretamente classificadas.\n",
    "- **F1, Macro AVG e Weighted AVG** -> Similar a acurácia, mas são ponderadas pelo número de amostras por classes.\n",
    "- **support** -> número de amostras consideradas em cada caso\n",
    "\n",
    "<img src=\"assets/prec_rec.png\" alt=\"prec_rec\" width=\"400\"/>"
   ]
  },
  {
   "cell_type": "markdown",
   "metadata": {},
   "source": [
    "## Melhorando nosso modelo\n",
    "\n",
    "Podemos melhorar o modelo alterando alguns dos hiper-parâmetros. Podemos, por exemplo, alterar o valor do hiper-parâmetro C (um valor de regularização) de $1.0$ (padrão) para $10.0$:"
   ]
  },
  {
   "cell_type": "code",
   "execution_count": 10,
   "metadata": {},
   "outputs": [],
   "source": [
    "model = LogisticRegression(solver='liblinear', C=10.0, random_state=0).fit(x, y)"
   ]
  },
  {
   "cell_type": "markdown",
   "metadata": {},
   "source": [
    "Essa mudança já é capaz de gerar diferentes probabilidades:"
   ]
  },
  {
   "cell_type": "code",
   "execution_count": 11,
   "metadata": {},
   "outputs": [
    {
     "name": "stdout",
     "output_type": "stream",
     "text": [
      "bias =  [-3.51335372]\n",
      "pesos =  [[1.12066084]]\n",
      "probabilidades =  [[0.97106534 0.02893466]\n",
      " [0.9162684  0.0837316 ]\n",
      " [0.7810904  0.2189096 ]\n",
      " [0.53777071 0.46222929]\n",
      " [0.27502212 0.72497788]\n",
      " [0.11007743 0.88992257]\n",
      " [0.03876835 0.96123165]\n",
      " [0.01298011 0.98701989]\n",
      " [0.0042697  0.9957303 ]\n",
      " [0.00139621 0.99860379]]\n",
      "classes estimadas =  [0 0 0 0 1 1 1 1 1 1]\n"
     ]
    }
   ],
   "source": [
    "print('bias = ',model.intercept_)\n",
    "print('pesos = ',model.coef_)\n",
    "print('probabilidades = ',model.predict_proba(x))\n",
    "print('classes estimadas = ',model.predict(x))"
   ]
  },
  {
   "cell_type": "markdown",
   "metadata": {},
   "source": [
    "Essa regularização gerou valores mais significativos nos bias e nos pesos, implicando em uma mudança na nossa função logit $f(x)$. Essa mudança também foi importante para distorcer a nossa função sigmoid, sendo que agora o valor de limiar ($p(x)=0.5$) foi deslocado mais para a direita, como mostrado na figura a seguir:\n",
    "\n",
    "<img src=\"assets/log-reg-7.webp\" alt=\"regularized\" width=\"600\"/>\n",
    "\n",
    "printando novamente nosso relatório, podemos observar que dessa vez obtemos o valor máximo em todas as métricas, indicando que a classificação foi $100%$ satisfatória."
   ]
  },
  {
   "cell_type": "code",
   "execution_count": 12,
   "metadata": {},
   "outputs": [
    {
     "name": "stdout",
     "output_type": "stream",
     "text": [
      "acurácia =  1.0\n",
      "matriz de confusão = \n",
      "[[4 0]\n",
      " [0 6]]\n",
      "              precision    recall  f1-score   support\n",
      "\n",
      "           0       1.00      1.00      1.00         4\n",
      "           1       1.00      1.00      1.00         6\n",
      "\n",
      "    accuracy                           1.00        10\n",
      "   macro avg       1.00      1.00      1.00        10\n",
      "weighted avg       1.00      1.00      1.00        10\n",
      "\n"
     ]
    }
   ],
   "source": [
    "print('acurácia = ', model.score(x, y))\n",
    "print('matriz de confusão = ')\n",
    "print( confusion_matrix(y, model.predict(x)))\n",
    "print(classification_report(y, model.predict(x)))"
   ]
  },
  {
   "cell_type": "markdown",
   "metadata": {},
   "source": [
    "### Exemplo 2 - Similar ao exemplo 1, mudando apenas a classe da segunda amostra"
   ]
  },
  {
   "cell_type": "code",
   "execution_count": 13,
   "metadata": {},
   "outputs": [],
   "source": [
    "# Passo 1: importando os pacotes e classes\n",
    "import numpy as np\n",
    "from sklearn.linear_model import LogisticRegression\n",
    "from sklearn.metrics import classification_report, confusion_matrix\n",
    "\n",
    "# Passo 2: Gerando os dados\n",
    "x = np.arange(10).reshape(-1, 1)\n",
    "y = np.array([0, 1, 0, 0, 1, 1, 1, 1, 1, 1])\n",
    "\n",
    "# Passo 3: Criando e treinando o modelo\n",
    "model = LogisticRegression(solver='liblinear', C=10.0, random_state=0)\n",
    "model.fit(x, y)\n",
    "\n",
    "# Passo 4: avaliando o modelo\n",
    "p_pred = model.predict_proba(x)\n",
    "y_pred = model.predict(x)\n",
    "score_ = model.score(x, y)\n",
    "conf_m = confusion_matrix(y, y_pred)\n",
    "report = classification_report(y, y_pred)"
   ]
  },
  {
   "cell_type": "markdown",
   "metadata": {},
   "source": [
    "visualizando os resultados:"
   ]
  },
  {
   "cell_type": "code",
   "execution_count": 14,
   "metadata": {},
   "outputs": [
    {
     "name": "stdout",
     "output_type": "stream",
     "text": [
      "x:\n",
      "[[0]\n",
      " [1]\n",
      " [2]\n",
      " [3]\n",
      " [4]\n",
      " [5]\n",
      " [6]\n",
      " [7]\n",
      " [8]\n",
      " [9]]\n",
      "y:\n",
      "[0 1 0 0 1 1 1 1 1 1]\n",
      "\n",
      "bias: [-1.51632619]\n",
      "pesos: [[0.703457]]\n",
      "\n",
      "probabilidades:\n",
      "[[0.81999686 0.18000314]\n",
      " [0.69272057 0.30727943]\n",
      " [0.52732579 0.47267421]\n",
      " [0.35570732 0.64429268]\n",
      " [0.21458576 0.78541424]\n",
      " [0.11910229 0.88089771]\n",
      " [0.06271329 0.93728671]\n",
      " [0.03205032 0.96794968]\n",
      " [0.0161218  0.9838782 ]\n",
      " [0.00804372 0.99195628]]\n",
      "\n",
      "classes estimadas: [0 0 0 1 1 1 1 1 1 1]\n",
      "\n",
      "acurácia: 0.8\n",
      "\n",
      "matriz de confusão:\n",
      "[[2 1]\n",
      " [1 6]]\n",
      "\n",
      "relatório:\n",
      "              precision    recall  f1-score   support\n",
      "\n",
      "           0       0.67      0.67      0.67         3\n",
      "           1       0.86      0.86      0.86         7\n",
      "\n",
      "    accuracy                           0.80        10\n",
      "   macro avg       0.76      0.76      0.76        10\n",
      "weighted avg       0.80      0.80      0.80        10\n",
      "\n"
     ]
    }
   ],
   "source": [
    "print('x:', x, sep='\\n')\n",
    "print('y:', y, sep='\\n', end='\\n\\n')\n",
    "print('bias:', model.intercept_)\n",
    "print('pesos:', model.coef_, end='\\n\\n')\n",
    "print('probabilidades:', p_pred, sep='\\n', end='\\n\\n')\n",
    "print('classes estimadas:', y_pred, end='\\n\\n')\n",
    "print('acurácia:', score_, end='\\n\\n')\n",
    "print('matriz de confusão:', conf_m, sep='\\n', end='\\n\\n')\n",
    "print('relatório:', report, sep='\\n')"
   ]
  },
  {
   "cell_type": "markdown",
   "metadata": {},
   "source": [
    "Nesse caso, 2 amostras foram classificadas erroneamente, como mostrado na figura a seguir:\n",
    "\n",
    "<img src=\"assets/log-reg-8.webp\" alt=\"regularized\" width=\"600\"/>"
   ]
  },
  {
   "cell_type": "markdown",
   "metadata": {},
   "source": [
    "A figura acima revela uma característica importante da regressão logística: Ela não resolve problemas que não sejam linearmente separáveis. Em outras palavras, não é possível encontrar uma reta que separe as amostras, nesse caso, de forma a conseguir $100\\%$ de acurácia."
   ]
  },
  {
   "cell_type": "markdown",
   "metadata": {},
   "source": [
    "### Exemplo 3 - Reconhecendo Dígitos\n",
    "\n",
    "O proximo exemplo lida com uma abordagem de problema do mundo real, de reconhecimento de imagem, com multiplas classes. Para isso, utilizaremos um dataset composto por 1797 imagens de digitos de $8\\times8$ pixels, representados por um vetor de $64$ posições."
   ]
  },
  {
   "cell_type": "code",
   "execution_count": 15,
   "metadata": {},
   "outputs": [],
   "source": [
    "# Passo 1: importando os pacotes\n",
    "\n",
    "import matplotlib.pyplot as plt\n",
    "import numpy as np\n",
    "from sklearn.datasets import load_digits\n",
    "from sklearn.linear_model import LogisticRegression\n",
    "from sklearn.metrics import classification_report, confusion_matrix\n",
    "from sklearn.model_selection import train_test_split\n",
    "from sklearn.preprocessing import StandardScaler"
   ]
  },
  {
   "cell_type": "code",
   "execution_count": 16,
   "metadata": {},
   "outputs": [
    {
     "name": "stdout",
     "output_type": "stream",
     "text": [
      "Dimensões x: (1797, 64)\n",
      "Dimensões y: (1797,)\n",
      "x=\n",
      "[[ 0.  0.  5. ...  0.  0.  0.]\n",
      " [ 0.  0.  0. ... 10.  0.  0.]\n",
      " [ 0.  0.  0. ... 16.  9.  0.]\n",
      " ...\n",
      " [ 0.  0.  1. ...  6.  0.  0.]\n",
      " [ 0.  0.  2. ... 12.  0.  0.]\n",
      " [ 0.  0. 10. ... 12.  1.  0.]]\n",
      "y=\n",
      "[0 1 2 ... 8 9 8]\n"
     ]
    }
   ],
   "source": [
    "# Passo 2a: importando os dados\n",
    "\n",
    "x, y = load_digits(return_X_y=True)\n",
    "\n",
    "print('Dimensões x:', x.shape)\n",
    "print('Dimensões y:', y.shape)\n",
    "print('x=', x, sep='\\n')\n",
    "print('y=', y, sep='\\n')"
   ]
  },
  {
   "cell_type": "code",
   "execution_count": 17,
   "metadata": {},
   "outputs": [],
   "source": [
    "# Visualizando alguns digitos\n",
    "sample = np.random.randint(0, len(x))\n",
    "img = x[sample].reshape((8,8)).astype(np.uint8)\n",
    "\n",
    "imgplot = plt.imshow(img, cmap=\"gray\")"
   ]
  },
  {
   "cell_type": "code",
   "execution_count": 18,
   "metadata": {},
   "outputs": [],
   "source": [
    "# Passo 2b: dividindo os dados em conjunto de treino e conjunto de teste\n",
    "\n",
    "# Conjunto de treino é usado para ajustar o modelo (encontrar o bias e os pesos), \n",
    "#    enquanto o conjunto de testes é usado para avaliar o quão bom o modelo é para predizer casos\n",
    "#    desconhecido, ou seja, amostras que não foram utilizadas no treinamento.\n",
    "\n",
    "# Essa divisão é geralmente feita de modo aleatório, sendo que, geralmente, 70% a 80% dos dados é usado pra\n",
    "#    treinamento e o restante para teste\n",
    "x_train, x_test, y_train, y_test = train_test_split(x, y, test_size=0.2, random_state=0)"
   ]
  },
  {
   "cell_type": "code",
   "execution_count": 19,
   "metadata": {},
   "outputs": [],
   "source": [
    "# Passo 2c: Normalizando os dados\n",
    "\n",
    "# A maioria dos algoritmos de aprendizado de máquina funcionam melhor com dados normalizados, ou seja, \n",
    "#   transformando os dados de modo que todas as características (features) tenham média zero e desvio\n",
    "#   padrão igual a 1.\n",
    "\n",
    "# Para normalizar os dados, seguimos 3 passos:\n",
    "#   1 - computar a média e o desvio padrão de cada coluna de x (feature)\n",
    "#   2 - subtrair o valor de cada característica pela média de sua coluna\n",
    "#   3 - dividir essa diferença pelo desvio padrão da coluna.\n",
    "\n",
    "# O processo pode ser feito usando a função .fit_transform() do pacote \n",
    "#    sklearn.preprocessing.StandardScaler:\n",
    "\n",
    "scaler = StandardScaler()\n",
    "x_train = scaler.fit_transform(x_train)"
   ]
  },
  {
   "cell_type": "code",
   "execution_count": 20,
   "metadata": {},
   "outputs": [
    {
     "data": {
      "text/plain": [
       "LogisticRegression(C=0.05, multi_class='ovr', random_state=0,\n",
       "                   solver='liblinear')"
      ]
     },
     "execution_count": 20,
     "metadata": {},
     "output_type": "execute_result"
    }
   ],
   "source": [
    "# Passo 3: Criando e treinando o modelo\n",
    "\n",
    "# Processo bem parecido com o anterior. Note que selecionamos 'ovr' para o hiper-parâmetro \n",
    "#   multi_class. O objetivo é fazer a abordagem de classificação binária para cada classe (one-versus-all).\n",
    "model = LogisticRegression(solver='liblinear', C=0.05, multi_class='ovr',\n",
    "                           random_state=0)\n",
    "model.fit(x_train, y_train)"
   ]
  },
  {
   "cell_type": "code",
   "execution_count": 21,
   "metadata": {},
   "outputs": [],
   "source": [
    "# Passo 4: Avaliando o modelo\n",
    "\n",
    "# A avaliação do modelo é similar a que fizemos nos exemplos anteriores. A diferença é que usaremos\n",
    "#   o conjunto de teste para esse processo, em vez do conjunto de treinamento.\n",
    "\n",
    "# primeiramente, precisamos normalizar as amostras do conjunto de testes:\n",
    "x_test = scaler.transform(x_test)\n",
    "\n",
    "# em seguida, chamamos a função predict, passando o conjunto de testes:\n",
    "y_pred = model.predict(x_test)"
   ]
  },
  {
   "cell_type": "code",
   "execution_count": 22,
   "metadata": {},
   "outputs": [
    {
     "name": "stdout",
     "output_type": "stream",
     "text": [
      "Acurácia sobre conjunto de treinamento =  0.964509394572025\n",
      "Acurácia sobre conjunto de teste =  0.9416666666666667\n"
     ]
    }
   ],
   "source": [
    "# podemos comparar o quanto o modelo acertou nos dados de treinamento e teste, e assim descobrir se o \n",
    "#   modelo não decorou o conjunto de testes (overfit) em vez de aprender o padrão dos dados\n",
    "print('Acurácia sobre conjunto de treinamento = ',model.score(x_train, y_train))\n",
    "print('Acurácia sobre conjunto de teste = ',model.score(x_test, y_test))"
   ]
  },
  {
   "cell_type": "code",
   "execution_count": 23,
   "metadata": {},
   "outputs": [
    {
     "data": {
      "text/plain": [
       "array([[27,  0,  0,  0,  0,  0,  0,  0,  0,  0],\n",
       "       [ 0, 32,  0,  0,  0,  0,  1,  0,  1,  1],\n",
       "       [ 1,  1, 33,  1,  0,  0,  0,  0,  0,  0],\n",
       "       [ 0,  0,  1, 28,  0,  0,  0,  0,  0,  0],\n",
       "       [ 0,  0,  0,  0, 29,  0,  0,  1,  0,  0],\n",
       "       [ 0,  0,  0,  0,  0, 39,  0,  0,  0,  1],\n",
       "       [ 0,  1,  0,  0,  0,  0, 43,  0,  0,  0],\n",
       "       [ 0,  0,  0,  0,  0,  0,  0, 39,  0,  0],\n",
       "       [ 0,  2,  1,  2,  0,  0,  0,  1, 33,  0],\n",
       "       [ 0,  0,  0,  1,  0,  1,  0,  2,  1, 36]])"
      ]
     },
     "execution_count": 23,
     "metadata": {},
     "output_type": "execute_result"
    }
   ],
   "source": [
    "# De modo similar, podemos gerar a matriz de confusão:\n",
    "\n",
    "# A matriz permite ver em quais classes o modelo está confundindo e com quais classes.\n",
    "confusion_matrix(y_test, y_pred)"
   ]
  },
  {
   "cell_type": "code",
   "execution_count": 24,
   "metadata": {},
   "outputs": [
    {
     "data": {
      "image/png": "[encoded data removed]",
      "text/plain": [
       "<Figure size 640x480 with 1 Axes>"
      ]
     },
     "metadata": {},
     "output_type": "display_data"
    },
    {
     "data": {
      "image/png": "[encoded data removed]",
      "text/plain": [
       "<Figure size 800x800 with 1 Axes>"
      ]
     },
     "metadata": {},
     "output_type": "display_data"
    }
   ],
   "source": [
    "# plotando a matriz\n",
    "\n",
    "cm = confusion_matrix(y_test, y_pred)\n",
    "\n",
    "fig, ax = plt.subplots(figsize=(8, 8))\n",
    "ax.imshow(cm, cmap=plt.cm.Blues)\n",
    "ax.grid(False)\n",
    "ax.set_xlabel('Valores estimados', fontsize=15, color='black')\n",
    "ax.set_ylabel('Valores reais', fontsize=15, color='black')\n",
    "ax.xaxis.set(ticks=range(10))\n",
    "ax.yaxis.set(ticks=range(10))\n",
    "ax.set_ylim(9.5, -0.5)\n",
    "for i in range(10):\n",
    "    for j in range(10):\n",
    "        ax.text(j, i, cm[i, j], ha='center', va='center')\n",
    "plt.show()"
   ]
  },
  {
   "cell_type": "code",
   "execution_count": 25,
   "metadata": {},
   "outputs": [
    {
     "name": "stdout",
     "output_type": "stream",
     "text": [
      "              precision    recall  f1-score   support\n",
      "\n",
      "           0       0.96      1.00      0.98        27\n",
      "           1       0.89      0.91      0.90        35\n",
      "           2       0.94      0.92      0.93        36\n",
      "           3       0.88      0.97      0.92        29\n",
      "           4       1.00      0.97      0.98        30\n",
      "           5       0.97      0.97      0.97        40\n",
      "           6       0.98      0.98      0.98        44\n",
      "           7       0.91      1.00      0.95        39\n",
      "           8       0.94      0.85      0.89        39\n",
      "           9       0.95      0.88      0.91        41\n",
      "\n",
      "    accuracy                           0.94       360\n",
      "   macro avg       0.94      0.94      0.94       360\n",
      "weighted avg       0.94      0.94      0.94       360\n",
      "\n"
     ]
    }
   ],
   "source": [
    "# Como vimos anteriormente, podemos também gerar um relatório com os resultados:\n",
    "\n",
    "print(classification_report(y_test, y_pred))"
   ]
  },
  {
   "cell_type": "markdown",
   "metadata": {},
   "source": [
    "# Exercícios:\n",
    "\n",
    "1. Reproduzir o último exercício trocando o dataset load_digits pelo dataset MNIST. Utilize apenas as primeiras 2 mil amostras para treinamento e as próximas mil amostras para teste."
   ]
  },
  {
   "cell_type": "markdown",
   "metadata": {},
   "source": [
    "Material baseado em: https://realpython.com/logistic-regression-python/"
   ]
  },
  {
   "cell_type": "code",
   "execution_count": null,
   "metadata": {},
   "outputs": [],
   "source": []
  }
 ],
 "metadata": {
  "kernelspec": {
   "display_name": "Python 3",
   "language": "python",
   "name": "python3"
  },
  "language_info": {
   "codemirror_mode": {
    "name": "ipython",
    "version": 3
   },
   "file_extension": ".py",
   "mimetype": "text/x-python",
   "name": "python",
   "nbconvert_exporter": "python",
   "pygments_lexer": "ipython3",
   "version": "3.8.11"
  }
 },
 "nbformat": 4,
 "nbformat_minor": 4
}
