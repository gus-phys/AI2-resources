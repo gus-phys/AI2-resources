{
 "cells": [
  {
   "cell_type": "markdown",
   "id": "e7e75d7f",
   "metadata": {},
   "source": [
    "# Apcliações do SVM"
   ]
  },
  {
   "cell_type": "markdown",
   "id": "63eb8235",
   "metadata": {},
   "source": [
    "## Bibliotecas"
   ]
  },
  {
   "cell_type": "code",
   "execution_count": 1,
   "id": "87d980fb",
   "metadata": {},
   "outputs": [],
   "source": [
    "# %matplotlib inline\n",
    "import numpy as np\n",
    "import matplotlib.pyplot as plt\n",
    "# from scipy import stats\n",
    "\n",
    "# usando as configurações padrões do seaborn para plotagem\n",
    "import seaborn as sns\n",
    "\n",
    "sns.set()"
   ]
  },
  {
   "cell_type": "markdown",
   "id": "92151f68",
   "metadata": {},
   "source": [
    "## Importando o dataset"
   ]
  },
  {
   "cell_type": "code",
   "execution_count": 2,
   "id": "e090a510",
   "metadata": {},
   "outputs": [],
   "source": [
    "from sklearn.datasets import load_wine"
   ]
  },
  {
   "cell_type": "code",
   "execution_count": 3,
   "id": "a2321f3b-294b-416c-8457-b9c05c343b5a",
   "metadata": {},
   "outputs": [],
   "source": [
    "wine = load_wine()"
   ]
  },
  {
   "cell_type": "markdown",
   "id": "b55a3b7a-2452-4bfa-93e0-2ad82018e9f9",
   "metadata": {},
   "source": [
    "### Leitura dos dados"
   ]
  },
  {
   "cell_type": "code",
   "execution_count": 4,
   "id": "1390f218-13d5-4e0a-9a17-b2967e9e7e51",
   "metadata": {},
   "outputs": [],
   "source": [
    "X = wine.data"
   ]
  },
  {
   "cell_type": "code",
   "execution_count": 5,
   "id": "f08feeaf-43d1-41ad-be12-0594845e50c7",
   "metadata": {},
   "outputs": [],
   "source": [
    "y = wine.target"
   ]
  },
  {
   "cell_type": "code",
   "execution_count": 6,
   "id": "85e53020-02a4-4476-8c65-1e7f0058302e",
   "metadata": {},
   "outputs": [
    {
     "data": {
      "text/plain": [
       "((178, 13), (178,))"
      ]
     },
     "execution_count": 6,
     "metadata": {},
     "output_type": "execute_result"
    }
   ],
   "source": [
    "X.shape, y.shape"
   ]
  },
  {
   "cell_type": "code",
   "execution_count": 7,
   "id": "ffa0cc87-7216-4a44-944e-d277691e7612",
   "metadata": {},
   "outputs": [
    {
     "data": {
      "text/plain": [
       "['alcohol',\n",
       " 'malic_acid',\n",
       " 'ash',\n",
       " 'alcalinity_of_ash',\n",
       " 'magnesium',\n",
       " 'total_phenols',\n",
       " 'flavanoids',\n",
       " 'nonflavanoid_phenols',\n",
       " 'proanthocyanins',\n",
       " 'color_intensity',\n",
       " 'hue',\n",
       " 'od280/od315_of_diluted_wines',\n",
       " 'proline']"
      ]
     },
     "execution_count": 7,
     "metadata": {},
     "output_type": "execute_result"
    }
   ],
   "source": [
    "wine.feature_names"
   ]
  },
  {
   "cell_type": "code",
   "execution_count": 8,
   "id": "c85d1664-a94d-400b-bf11-7170c0d6331e",
   "metadata": {},
   "outputs": [
    {
     "data": {
      "text/plain": [
       "array(['class_0', 'class_1', 'class_2'], dtype='<U7')"
      ]
     },
     "execution_count": 8,
     "metadata": {},
     "output_type": "execute_result"
    }
   ],
   "source": [
    "wine.target_names"
   ]
  },
  {
   "cell_type": "markdown",
   "id": "65c37da9",
   "metadata": {},
   "source": [
    "### Dividindo os dados"
   ]
  },
  {
   "cell_type": "code",
   "execution_count": 9,
   "id": "3356cb76",
   "metadata": {},
   "outputs": [],
   "source": [
    "from sklearn.model_selection import train_test_split"
   ]
  },
  {
   "cell_type": "code",
   "execution_count": 10,
   "id": "479a6359",
   "metadata": {},
   "outputs": [],
   "source": [
    "ts = 0.33\n",
    "X_train, X_test, y_train, y_test = train_test_split(X, y, test_size=ts, random_state=42)"
   ]
  },
  {
   "cell_type": "markdown",
   "id": "bfbc7c47-59ac-41bd-8645-4e4c2b9e5310",
   "metadata": {},
   "source": [
    "## Treinando o SVM"
   ]
  },
  {
   "cell_type": "code",
   "execution_count": 11,
   "id": "febfea11-7802-4ea1-a617-743db84f1a14",
   "metadata": {},
   "outputs": [],
   "source": [
    "from sklearn.pipeline import make_pipeline\n",
    "from sklearn.preprocessing import StandardScaler\n",
    "from sklearn.svm import SVC"
   ]
  },
  {
   "cell_type": "code",
   "execution_count": 26,
   "id": "08a9aa96-ac47-46f1-a66a-a48f69e40be7",
   "metadata": {},
   "outputs": [],
   "source": [
    "model = make_pipeline(StandardScaler(), SVC())\n",
    "model_linear = make_pipeline(StandardScaler(), SVC(kernel='linear'))\n",
    "model_poly = make_pipeline(StandardScaler(), SVC(kernel='poly'))\n",
    "model_rbf = make_pipeline(StandardScaler(), SVC(kernel='rbf'))\n",
    "model_sigmoid = make_pipeline(StandardScaler(), SVC(kernel='sigmoid'))"
   ]
  },
  {
   "cell_type": "markdown",
   "id": "bb3abc3b-b2ac-4fe7-8f94-ee1857547b01",
   "metadata": {},
   "source": [
    "## Grid Search"
   ]
  },
  {
   "cell_type": "code",
   "execution_count": 21,
   "id": "b506cb0a-3ef9-4bef-a62b-49a48e1e2637",
   "metadata": {},
   "outputs": [],
   "source": [
    "from sklearn.model_selection import GridSearchCV"
   ]
  },
  {
   "cell_type": "code",
   "execution_count": 52,
   "id": "2d72031f-b93f-49a7-9f78-148254ff383d",
   "metadata": {},
   "outputs": [
    {
     "name": "stdout",
     "output_type": "stream",
     "text": [
      "CPU times: user 162 ms, sys: 0 ns, total: 162 ms\n",
      "Wall time: 160 ms\n",
      "{'svc__C': 0.5, 'svc__kernel': 'linear'}\n"
     ]
    }
   ],
   "source": [
    "param_grid = {\n",
    "    'svc__C': [0.01, 0.5, 1, 5],\n",
    "    'svc__kernel': ['linear', 'poly', 'rbf', 'sigmoid']\n",
    "}\n",
    "grid = GridSearchCV(model, param_grid)\n",
    "\n",
    "%time grid.fit(X_train, y_train)\n",
    "print(grid.best_params_)"
   ]
  },
  {
   "cell_type": "code",
   "execution_count": 54,
   "id": "6084f4c3-a2fb-4834-bea2-02e6b3b5de73",
   "metadata": {},
   "outputs": [
    {
     "name": "stdout",
     "output_type": "stream",
     "text": [
      "CPU times: user 172 ms, sys: 0 ns, total: 172 ms\n",
      "Wall time: 171 ms\n",
      "{'svc__C': 1e-90, 'svc__gamma': 1e-90}\n"
     ]
    }
   ],
   "source": [
    "param_grid = {\n",
    "    'svc__C': [1E-90, 1E-80, 1E-70, 1E-60],\n",
    "    'svc__gamma': [1E-90, 1E-80, 1E-70, 1E-60]\n",
    "}\n",
    "grid = GridSearchCV(model_poly, param_grid)\n",
    "\n",
    "%time grid.fit(X_train, y_train)\n",
    "print(grid.best_params_)"
   ]
  },
  {
   "cell_type": "code",
   "execution_count": 56,
   "id": "456c54ff-23ce-4b9a-b0c9-c71dd2eee31f",
   "metadata": {},
   "outputs": [
    {
     "name": "stdout",
     "output_type": "stream",
     "text": [
      "CPU times: user 154 ms, sys: 0 ns, total: 154 ms\n",
      "Wall time: 154 ms\n",
      "{'svc__C': 1, 'svc__gamma': 0.01}\n"
     ]
    }
   ],
   "source": [
    "param_grid = {\n",
    "    'svc__C': [0.001, 0.05, 1, 5],\n",
    "    'svc__gamma': [0.001, 0.005, 0.01, 0.05]\n",
    "}\n",
    "grid = GridSearchCV(model_rbf, param_grid)\n",
    "\n",
    "%time grid.fit(X_train, y_train)\n",
    "print(grid.best_params_)"
   ]
  },
  {
   "cell_type": "code",
   "execution_count": 57,
   "id": "73f50f5f-352f-4e49-a45a-ff0721c80c2e",
   "metadata": {},
   "outputs": [
    {
     "name": "stdout",
     "output_type": "stream",
     "text": [
      "CPU times: user 180 ms, sys: 3.96 ms, total: 184 ms\n",
      "Wall time: 179 ms\n",
      "{'svc__C': 1, 'svc__gamma': 0.05}\n"
     ]
    }
   ],
   "source": [
    "param_grid = {\n",
    "    'svc__C': [0.001, 0.05, 1, 5],\n",
    "    'svc__gamma': [0.005, 0.01, 0.05, 0.1]\n",
    "}\n",
    "grid = GridSearchCV(model_sigmoid, param_grid)\n",
    "\n",
    "%time grid.fit(X_train, y_train)\n",
    "print(grid.best_params_)"
   ]
  },
  {
   "cell_type": "code",
   "execution_count": null,
   "id": "d26c8601-3faf-45d8-9061-ae0d4ab7cb53",
   "metadata": {},
   "outputs": [],
   "source": []
  }
 ],
 "metadata": {
  "kernelspec": {
   "display_name": "Python 3 (ipykernel)",
   "language": "python",
   "name": "python3"
  },
  "language_info": {
   "codemirror_mode": {
    "name": "ipython",
    "version": 3
   },
   "file_extension": ".py",
   "mimetype": "text/x-python",
   "name": "python",
   "nbconvert_exporter": "python",
   "pygments_lexer": "ipython3",
   "version": "3.8.11"
  }
 },
 "nbformat": 4,
 "nbformat_minor": 5
}
