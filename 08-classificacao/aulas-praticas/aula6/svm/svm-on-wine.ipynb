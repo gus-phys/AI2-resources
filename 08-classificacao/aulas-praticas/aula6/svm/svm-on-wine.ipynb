{
 "cells": [
  {
   "cell_type": "markdown",
   "id": "e7e75d7f",
   "metadata": {},
   "source": [
    "# Aplicando SVM para classificação de vinhos"
   ]
  },
  {
   "cell_type": "markdown",
   "id": "63eb8235",
   "metadata": {},
   "source": [
    "## Bibliotecas"
   ]
  },
  {
   "cell_type": "code",
   "execution_count": 1,
   "id": "87d980fb",
   "metadata": {},
   "outputs": [],
   "source": [
    "import numpy as np\n",
    "import matplotlib.pyplot as plt\n",
    "import seaborn as sns\n",
    "\n",
    "sns.set()"
   ]
  },
  {
   "cell_type": "markdown",
   "id": "92151f68",
   "metadata": {},
   "source": [
    "## Importando o dataset"
   ]
  },
  {
   "cell_type": "code",
   "execution_count": 2,
   "id": "e090a510",
   "metadata": {},
   "outputs": [],
   "source": [
    "from sklearn.datasets import load_wine"
   ]
  },
  {
   "cell_type": "code",
   "execution_count": 3,
   "id": "a2321f3b-294b-416c-8457-b9c05c343b5a",
   "metadata": {},
   "outputs": [],
   "source": [
    "wine = load_wine()"
   ]
  },
  {
   "cell_type": "markdown",
   "id": "b55a3b7a-2452-4bfa-93e0-2ad82018e9f9",
   "metadata": {},
   "source": [
    "### Leitura dos dados"
   ]
  },
  {
   "cell_type": "code",
   "execution_count": 4,
   "id": "1390f218-13d5-4e0a-9a17-b2967e9e7e51",
   "metadata": {},
   "outputs": [],
   "source": [
    "X = wine.data"
   ]
  },
  {
   "cell_type": "code",
   "execution_count": 5,
   "id": "f08feeaf-43d1-41ad-be12-0594845e50c7",
   "metadata": {},
   "outputs": [],
   "source": [
    "y = wine.target"
   ]
  },
  {
   "cell_type": "code",
   "execution_count": 6,
   "id": "85e53020-02a4-4476-8c65-1e7f0058302e",
   "metadata": {},
   "outputs": [
    {
     "data": {
      "text/plain": [
       "((178, 13), (178,))"
      ]
     },
     "execution_count": 6,
     "metadata": {},
     "output_type": "execute_result"
    }
   ],
   "source": [
    "X.shape, y.shape"
   ]
  },
  {
   "cell_type": "code",
   "execution_count": 7,
   "id": "ffa0cc87-7216-4a44-944e-d277691e7612",
   "metadata": {},
   "outputs": [
    {
     "data": {
      "text/plain": [
       "['alcohol',\n",
       " 'malic_acid',\n",
       " 'ash',\n",
       " 'alcalinity_of_ash',\n",
       " 'magnesium',\n",
       " 'total_phenols',\n",
       " 'flavanoids',\n",
       " 'nonflavanoid_phenols',\n",
       " 'proanthocyanins',\n",
       " 'color_intensity',\n",
       " 'hue',\n",
       " 'od280/od315_of_diluted_wines',\n",
       " 'proline']"
      ]
     },
     "execution_count": 7,
     "metadata": {},
     "output_type": "execute_result"
    }
   ],
   "source": [
    "wine.feature_names"
   ]
  },
  {
   "cell_type": "code",
   "execution_count": 8,
   "id": "c85d1664-a94d-400b-bf11-7170c0d6331e",
   "metadata": {},
   "outputs": [
    {
     "data": {
      "text/plain": [
       "array(['class_0', 'class_1', 'class_2'], dtype='<U7')"
      ]
     },
     "execution_count": 8,
     "metadata": {},
     "output_type": "execute_result"
    }
   ],
   "source": [
    "wine.target_names"
   ]
  },
  {
   "cell_type": "markdown",
   "id": "65c37da9",
   "metadata": {},
   "source": [
    "### Dividindo os dados"
   ]
  },
  {
   "cell_type": "code",
   "execution_count": 9,
   "id": "3356cb76",
   "metadata": {},
   "outputs": [],
   "source": [
    "from sklearn.model_selection import train_test_split"
   ]
  },
  {
   "cell_type": "code",
   "execution_count": 10,
   "id": "479a6359",
   "metadata": {},
   "outputs": [],
   "source": [
    "ts = 0.33\n",
    "X_train, X_test, y_train, y_test = train_test_split(X, y, test_size=ts, random_state=42)"
   ]
  },
  {
   "cell_type": "markdown",
   "id": "bfbc7c47-59ac-41bd-8645-4e4c2b9e5310",
   "metadata": {},
   "source": [
    "## Treinando o SVM"
   ]
  },
  {
   "cell_type": "code",
   "execution_count": 11,
   "id": "febfea11-7802-4ea1-a617-743db84f1a14",
   "metadata": {},
   "outputs": [],
   "source": [
    "from sklearn.pipeline import make_pipeline\n",
    "from sklearn.preprocessing import StandardScaler\n",
    "from sklearn.svm import SVC"
   ]
  },
  {
   "cell_type": "code",
   "execution_count": 12,
   "id": "08a9aa96-ac47-46f1-a66a-a48f69e40be7",
   "metadata": {},
   "outputs": [],
   "source": [
    "model_clean = make_pipeline(StandardScaler(), SVC())"
   ]
  },
  {
   "cell_type": "markdown",
   "id": "bb3abc3b-b2ac-4fe7-8f94-ee1857547b01",
   "metadata": {},
   "source": [
    "## SVM"
   ]
  },
  {
   "cell_type": "markdown",
   "id": "98879d25-af07-4017-bd7a-c3d3001ba594",
   "metadata": {},
   "source": [
    "### Procurando os `Kernels`"
   ]
  },
  {
   "cell_type": "code",
   "execution_count": 13,
   "id": "b506cb0a-3ef9-4bef-a62b-49a48e1e2637",
   "metadata": {},
   "outputs": [],
   "source": [
    "from sklearn.model_selection import GridSearchCV"
   ]
  },
  {
   "cell_type": "code",
   "execution_count": 14,
   "id": "2d72031f-b93f-49a7-9f78-148254ff383d",
   "metadata": {},
   "outputs": [
    {
     "name": "stdout",
     "output_type": "stream",
     "text": [
      "CPU times: user 327 ms, sys: 10.7 ms, total: 338 ms\n",
      "Wall time: 336 ms\n",
      "{'svc__C': 0.5, 'svc__decision_function_shape': 'ovo', 'svc__kernel': 'linear'}\n"
     ]
    }
   ],
   "source": [
    "param_grid = {\n",
    "    'svc__C': [0.01, 0.5, 1, 5],\n",
    "    'svc__kernel': ['linear', 'poly', 'rbf', 'sigmoid'],\n",
    "    'svc__decision_function_shape':  ['ovo', 'ovr']\n",
    "}\n",
    "grid = GridSearchCV(model_clean, param_grid)\n",
    "\n",
    "%time grid.fit(X_train, y_train)\n",
    "print(grid.best_params_)"
   ]
  },
  {
   "cell_type": "code",
   "execution_count": 15,
   "id": "076c89d6-1f2c-4b11-a8b1-e70110e8647c",
   "metadata": {},
   "outputs": [],
   "source": [
    "model_clean = grid.best_estimator_\n",
    "y_fit = model_clean.predict(X_test)"
   ]
  },
  {
   "cell_type": "code",
   "execution_count": 16,
   "id": "a61eef0d-44af-4dfe-9cc8-b5a0b296abc5",
   "metadata": {},
   "outputs": [
    {
     "name": "stdout",
     "output_type": "stream",
     "text": [
      "              precision    recall  f1-score   support\n",
      "\n",
      "     class_0       1.00      1.00      1.00        20\n",
      "     class_1       1.00      0.96      0.98        24\n",
      "     class_2       0.94      1.00      0.97        15\n",
      "\n",
      "    accuracy                           0.98        59\n",
      "   macro avg       0.98      0.99      0.98        59\n",
      "weighted avg       0.98      0.98      0.98        59\n",
      "\n"
     ]
    }
   ],
   "source": [
    "from sklearn.metrics import classification_report\n",
    "print(classification_report(y_test, y_fit,\n",
    "                            target_names=wine.target_names))"
   ]
  },
  {
   "cell_type": "code",
   "execution_count": 17,
   "id": "e4074a19-344f-43bc-837f-e59e590abc67",
   "metadata": {},
   "outputs": [
    {
     "data": {
      "image/png": "[encoded data removed]",
      "text/plain": [
       "<Figure size 432x288 with 2 Axes>"
      ]
     },
     "metadata": {},
     "output_type": "display_data"
    }
   ],
   "source": [
    "from sklearn.metrics import confusion_matrix\n",
    "mat = confusion_matrix(y_test, y_fit)\n",
    "sns.heatmap(mat.T, square=True, annot=True, fmt='d', cbar=True,\n",
    "            xticklabels=wine.target_names,\n",
    "            yticklabels=wine.target_names,cmap=plt.cm.Blues)\n",
    "plt.xlabel('Classes Reais')\n",
    "plt.ylabel('Classes Preditas');"
   ]
  },
  {
   "cell_type": "markdown",
   "id": "30c59e66-1fc2-442d-9d5c-ca61a451eb8e",
   "metadata": {},
   "source": [
    "### Testando os `kernels` e parâmetros"
   ]
  },
  {
   "cell_type": "code",
   "execution_count": 18,
   "id": "88fd5fd5-b74c-4f3a-916e-02f7de978fd8",
   "metadata": {},
   "outputs": [],
   "source": [
    "kernel_list = ['linear', 'poly', 'rbf', 'sigmoid']"
   ]
  },
  {
   "cell_type": "code",
   "execution_count": 19,
   "id": "24c09b3c-0a12-498f-8cb5-5dc32e23a936",
   "metadata": {},
   "outputs": [],
   "source": [
    "def gs_best_params(C_list, gamma_list, decision_list, X_test):\n",
    "    \n",
    "    for kernel in kernel_list:\n",
    "        model = make_pipeline(StandardScaler(), SVC(kernel=kernel))\n",
    "        \n",
    "        if kernel == 'linear':\n",
    "            param_grid = {\n",
    "                'svc__C': C_list,\n",
    "                'svc__decision_function_shape':  decision_list\n",
    "            }\n",
    "        else:\n",
    "            param_grid = {\n",
    "                'svc__C': C_list,\n",
    "                'svc__gamma': gamma_list,\n",
    "                'svc__decision_function_shape':  decision_list\n",
    "            }\n",
    "        \n",
    "        grid = GridSearchCV(model, param_grid)\n",
    "        print(f\"### Grid Search ({model.named_steps.svc.kernel}) ###\")\n",
    "        %time grid.fit(X_train, y_train)\n",
    "        print(grid.best_params_)\n",
    "        model = grid.best_estimator_\n",
    "        y_fit = model.predict(X_test)\n",
    "        print(\"### Classification report ###\")\n",
    "        print(classification_report(\n",
    "            y_test, y_fit, target_names=wine.target_names)\n",
    "        )\n",
    "        mat = confusion_matrix(y_test, y_fit)\n",
    "        sns.heatmap(mat.T, square=True, annot=True, fmt='d', cbar=True,\n",
    "                    xticklabels=wine.target_names,\n",
    "                    yticklabels=wine.target_names,cmap=plt.cm.Blues)\n",
    "        plt.title('Confusion Matrix')\n",
    "        plt.xlabel('Classes Reais')\n",
    "        plt.ylabel('Classes Preditas');\n",
    "        plt.show()\n",
    "        print(\"\\n\")"
   ]
  },
  {
   "cell_type": "code",
   "execution_count": 20,
   "id": "e4d15d48-c0f2-4870-92fc-d8a1407fa6f4",
   "metadata": {},
   "outputs": [
    {
     "name": "stdout",
     "output_type": "stream",
     "text": [
      "### Grid Search (linear) ###\n",
      "CPU times: user 121 ms, sys: 0 ns, total: 121 ms\n",
      "Wall time: 121 ms\n",
      "{'svc__C': 1, 'svc__decision_function_shape': 'ovo'}\n",
      "### Classification report ###\n",
      "              precision    recall  f1-score   support\n",
      "\n",
      "     class_0       1.00      1.00      1.00        20\n",
      "     class_1       1.00      0.96      0.98        24\n",
      "     class_2       0.94      1.00      0.97        15\n",
      "\n",
      "    accuracy                           0.98        59\n",
      "   macro avg       0.98      0.99      0.98        59\n",
      "weighted avg       0.98      0.98      0.98        59\n",
      "\n"
     ]
    },
    {
     "data": {
      "image/png": "[encoded data removed]",
      "text/plain": [
       "<Figure size 432x288 with 2 Axes>"
      ]
     },
     "metadata": {},
     "output_type": "display_data"
    },
    {
     "name": "stdout",
     "output_type": "stream",
     "text": [
      "\n",
      "\n",
      "### Grid Search (poly) ###\n",
      "CPU times: user 635 ms, sys: 0 ns, total: 635 ms\n",
      "Wall time: 634 ms\n",
      "{'svc__C': 30, 'svc__decision_function_shape': 'ovo', 'svc__gamma': 0.05}\n",
      "### Classification report ###\n",
      "              precision    recall  f1-score   support\n",
      "\n",
      "     class_0       0.95      1.00      0.98        20\n",
      "     class_1       1.00      0.96      0.98        24\n",
      "     class_2       1.00      1.00      1.00        15\n",
      "\n",
      "    accuracy                           0.98        59\n",
      "   macro avg       0.98      0.99      0.98        59\n",
      "weighted avg       0.98      0.98      0.98        59\n",
      "\n"
     ]
    },
    {
     "data": {
      "image/png": "[encoded data removed]",
      "text/plain": [
       "<Figure size 432x288 with 2 Axes>"
      ]
     },
     "metadata": {},
     "output_type": "display_data"
    },
    {
     "name": "stdout",
     "output_type": "stream",
     "text": [
      "\n",
      "\n",
      "### Grid Search (rbf) ###\n",
      "CPU times: user 683 ms, sys: 0 ns, total: 683 ms\n",
      "Wall time: 682 ms\n",
      "{'svc__C': 1, 'svc__decision_function_shape': 'ovo', 'svc__gamma': 0.01}\n",
      "### Classification report ###\n",
      "              precision    recall  f1-score   support\n",
      "\n",
      "     class_0       1.00      1.00      1.00        20\n",
      "     class_1       1.00      1.00      1.00        24\n",
      "     class_2       1.00      1.00      1.00        15\n",
      "\n",
      "    accuracy                           1.00        59\n",
      "   macro avg       1.00      1.00      1.00        59\n",
      "weighted avg       1.00      1.00      1.00        59\n",
      "\n"
     ]
    },
    {
     "data": {
      "image/png": "[encoded data removed]",
      "text/plain": [
       "<Figure size 432x288 with 2 Axes>"
      ]
     },
     "metadata": {},
     "output_type": "display_data"
    },
    {
     "name": "stdout",
     "output_type": "stream",
     "text": [
      "\n",
      "\n",
      "### Grid Search (sigmoid) ###\n",
      "CPU times: user 700 ms, sys: 0 ns, total: 700 ms\n",
      "Wall time: 699 ms\n",
      "{'svc__C': 1, 'svc__decision_function_shape': 'ovo', 'svc__gamma': 0.05}\n",
      "### Classification report ###\n",
      "              precision    recall  f1-score   support\n",
      "\n",
      "     class_0       1.00      1.00      1.00        20\n",
      "     class_1       1.00      1.00      1.00        24\n",
      "     class_2       1.00      1.00      1.00        15\n",
      "\n",
      "    accuracy                           1.00        59\n",
      "   macro avg       1.00      1.00      1.00        59\n",
      "weighted avg       1.00      1.00      1.00        59\n",
      "\n"
     ]
    },
    {
     "data": {
      "image/png": "[encoded data removed]",
      "text/plain": [
       "<Figure size 432x288 with 2 Axes>"
      ]
     },
     "metadata": {},
     "output_type": "display_data"
    },
    {
     "name": "stdout",
     "output_type": "stream",
     "text": [
      "\n",
      "\n"
     ]
    }
   ],
   "source": [
    "C_list = [0.001, 0.05, 1, 5, 10, 30, 40]\n",
    "gamma_list = [0.001, 0.005, 0.01, 0.05, 1]\n",
    "decision_list = ['ovo', 'ovr']\n",
    "\n",
    "gs_best_params(C_list, gamma_list, decision_list, X_test)"
   ]
  },
  {
   "cell_type": "code",
   "execution_count": null,
   "id": "f0976bb3-80aa-4e40-b524-85b234169332",
   "metadata": {},
   "outputs": [],
   "source": []
  }
 ],
 "metadata": {
  "kernelspec": {
   "display_name": "Python 3 (ipykernel)",
   "language": "python",
   "name": "python3"
  },
  "language_info": {
   "codemirror_mode": {
    "name": "ipython",
    "version": 3
   },
   "file_extension": ".py",
   "mimetype": "text/x-python",
   "name": "python",
   "nbconvert_exporter": "python",
   "pygments_lexer": "ipython3",
   "version": "3.8.11"
  }
 },
 "nbformat": 4,
 "nbformat_minor": 5
}
