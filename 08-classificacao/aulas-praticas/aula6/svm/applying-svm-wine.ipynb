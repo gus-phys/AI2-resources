{
 "cells": [
  {
   "cell_type": "markdown",
   "id": "e7e75d7f",
   "metadata": {},
   "source": [
    "# Apcliações do SVM"
   ]
  },
  {
   "cell_type": "markdown",
   "id": "63eb8235",
   "metadata": {},
   "source": [
    "## Bibliotecas"
   ]
  },
  {
   "cell_type": "code",
   "execution_count": null,
   "id": "87d980fb",
   "metadata": {},
   "outputs": [],
   "source": [
    "import numpy as np\n",
    "import matplotlib.pyplot as plt\n",
    "import seaborn as sns\n",
    "\n",
    "sns.set()"
   ]
  },
  {
   "cell_type": "markdown",
   "id": "92151f68",
   "metadata": {},
   "source": [
    "## Importando o dataset"
   ]
  },
  {
   "cell_type": "code",
   "execution_count": null,
   "id": "e090a510",
   "metadata": {},
   "outputs": [],
   "source": [
    "from sklearn.datasets import load_wine"
   ]
  },
  {
   "cell_type": "code",
   "execution_count": null,
   "id": "a2321f3b-294b-416c-8457-b9c05c343b5a",
   "metadata": {},
   "outputs": [],
   "source": [
    "wine = load_wine()"
   ]
  },
  {
   "cell_type": "markdown",
   "id": "b55a3b7a-2452-4bfa-93e0-2ad82018e9f9",
   "metadata": {},
   "source": [
    "### Leitura dos dados"
   ]
  },
  {
   "cell_type": "code",
   "execution_count": null,
   "id": "1390f218-13d5-4e0a-9a17-b2967e9e7e51",
   "metadata": {},
   "outputs": [],
   "source": [
    "X = wine.data"
   ]
  },
  {
   "cell_type": "code",
   "execution_count": null,
   "id": "f08feeaf-43d1-41ad-be12-0594845e50c7",
   "metadata": {},
   "outputs": [],
   "source": [
    "y = wine.target"
   ]
  },
  {
   "cell_type": "code",
   "execution_count": null,
   "id": "85e53020-02a4-4476-8c65-1e7f0058302e",
   "metadata": {},
   "outputs": [],
   "source": [
    "X.shape, y.shape"
   ]
  },
  {
   "cell_type": "code",
   "execution_count": null,
   "id": "ffa0cc87-7216-4a44-944e-d277691e7612",
   "metadata": {},
   "outputs": [],
   "source": [
    "wine.feature_names"
   ]
  },
  {
   "cell_type": "code",
   "execution_count": null,
   "id": "c85d1664-a94d-400b-bf11-7170c0d6331e",
   "metadata": {},
   "outputs": [],
   "source": [
    "wine.target_names"
   ]
  },
  {
   "cell_type": "markdown",
   "id": "65c37da9",
   "metadata": {},
   "source": [
    "### Dividindo os dados"
   ]
  },
  {
   "cell_type": "code",
   "execution_count": null,
   "id": "3356cb76",
   "metadata": {},
   "outputs": [],
   "source": [
    "from sklearn.model_selection import train_test_split"
   ]
  },
  {
   "cell_type": "code",
   "execution_count": null,
   "id": "479a6359",
   "metadata": {},
   "outputs": [],
   "source": [
    "ts = 0.33\n",
    "X_train, X_test, y_train, y_test = train_test_split(X, y, test_size=ts, random_state=42)"
   ]
  },
  {
   "cell_type": "markdown",
   "id": "bfbc7c47-59ac-41bd-8645-4e4c2b9e5310",
   "metadata": {},
   "source": [
    "## Treinando o SVM"
   ]
  },
  {
   "cell_type": "code",
   "execution_count": null,
   "id": "febfea11-7802-4ea1-a617-743db84f1a14",
   "metadata": {},
   "outputs": [],
   "source": [
    "from sklearn.pipeline import make_pipeline\n",
    "from sklearn.preprocessing import StandardScaler\n",
    "from sklearn.svm import SVC"
   ]
  },
  {
   "cell_type": "code",
   "execution_count": null,
   "id": "08a9aa96-ac47-46f1-a66a-a48f69e40be7",
   "metadata": {},
   "outputs": [],
   "source": [
    "model_clean = make_pipeline(StandardScaler(), SVC())"
   ]
  },
  {
   "cell_type": "markdown",
   "id": "bb3abc3b-b2ac-4fe7-8f94-ee1857547b01",
   "metadata": {},
   "source": [
    "## SVM"
   ]
  },
  {
   "cell_type": "markdown",
   "id": "98879d25-af07-4017-bd7a-c3d3001ba594",
   "metadata": {},
   "source": [
    "### Procurando os `Kernels`"
   ]
  },
  {
   "cell_type": "code",
   "execution_count": null,
   "id": "b506cb0a-3ef9-4bef-a62b-49a48e1e2637",
   "metadata": {},
   "outputs": [],
   "source": [
    "from sklearn.model_selection import GridSearchCV"
   ]
  },
  {
   "cell_type": "code",
   "execution_count": null,
   "id": "2d72031f-b93f-49a7-9f78-148254ff383d",
   "metadata": {},
   "outputs": [],
   "source": [
    "param_grid = {\n",
    "    'svc__C': [0.01, 0.5, 1, 5],\n",
    "    'svc__kernel': ['linear', 'poly', 'rbf', 'sigmoid'],\n",
    "    'svc__decision_function_shape':  ['ovo', 'ovr']\n",
    "}\n",
    "grid = GridSearchCV(model_clean, param_grid)\n",
    "\n",
    "%time grid.fit(X_train, y_train)\n",
    "print(grid.best_params_)"
   ]
  },
  {
   "cell_type": "code",
   "execution_count": null,
   "id": "076c89d6-1f2c-4b11-a8b1-e70110e8647c",
   "metadata": {},
   "outputs": [],
   "source": [
    "model_clean = grid.best_estimator_\n",
    "y_fit = model_clean.predict(X_test)"
   ]
  },
  {
   "cell_type": "code",
   "execution_count": null,
   "id": "a61eef0d-44af-4dfe-9cc8-b5a0b296abc5",
   "metadata": {},
   "outputs": [],
   "source": [
    "from sklearn.metrics import classification_report\n",
    "print(classification_report(y_test, y_fit,\n",
    "                            target_names=wine.target_names))"
   ]
  },
  {
   "cell_type": "code",
   "execution_count": null,
   "id": "e4074a19-344f-43bc-837f-e59e590abc67",
   "metadata": {},
   "outputs": [],
   "source": [
    "from sklearn.metrics import confusion_matrix\n",
    "mat = confusion_matrix(y_test, y_fit)\n",
    "sns.heatmap(mat.T, square=True, annot=True, fmt='d', cbar=True,\n",
    "            xticklabels=wine.target_names,\n",
    "            yticklabels=wine.target_names,cmap=plt.cm.Blues)\n",
    "plt.xlabel('Classes Reais')\n",
    "plt.ylabel('Classes Preditos');"
   ]
  },
  {
   "cell_type": "markdown",
   "id": "30c59e66-1fc2-442d-9d5c-ca61a451eb8e",
   "metadata": {},
   "source": [
    "### Testando os `kernels` e parâmetros"
   ]
  },
  {
   "cell_type": "code",
   "execution_count": null,
   "id": "88fd5fd5-b74c-4f3a-916e-02f7de978fd8",
   "metadata": {},
   "outputs": [],
   "source": [
    "kernel_list = ['linear', 'poly', 'rbf', 'sigmoid']"
   ]
  },
  {
   "cell_type": "code",
   "execution_count": null,
   "id": "24c09b3c-0a12-498f-8cb5-5dc32e23a936",
   "metadata": {},
   "outputs": [],
   "source": [
    "def gs_best_params(C_list, gamma_list, decision_list, X_test):\n",
    "    \n",
    "    for kernel in kernel_list:\n",
    "        model = make_pipeline(StandardScaler(), SVC(kernel=kernel))\n",
    "        \n",
    "        if kernel == 'linear':\n",
    "            param_grid = {\n",
    "                'svc__C': C_list,\n",
    "                'svc__decision_function_shape':  decision_list\n",
    "            }\n",
    "        else:\n",
    "            param_grid = {\n",
    "                'svc__C': C_list,\n",
    "                'svc__gamma': gamma_list,\n",
    "                'svc__decision_function_shape':  decision_list\n",
    "            }\n",
    "        \n",
    "        grid = GridSearchCV(model, param_grid)\n",
    "        print(f\"### Grid Search ({model.named_steps.svc.kernel}) ###\")\n",
    "        %time grid.fit(X_train, y_train)\n",
    "        print(grid.best_params_)\n",
    "        model = grid.best_estimator_\n",
    "        y_fit = model.predict(X_test)\n",
    "        print(\"### Classification report ###\")\n",
    "        print(classification_report(\n",
    "            y_test, y_fit, target_names=wine.target_names)\n",
    "        )\n",
    "        mat = confusion_matrix(y_test, y_fit)\n",
    "        sns.heatmap(mat.T, square=True, annot=True, fmt='d', cbar=True,\n",
    "                    xticklabels=wine.target_names,\n",
    "                    yticklabels=wine.target_names,cmap=plt.cm.Blues)\n",
    "        plt.title('Confusion Matrix')\n",
    "        plt.xlabel('Classes Reais')\n",
    "        plt.ylabel('Classes Preditos');\n",
    "        plt.show()\n",
    "        print(\"\\n\")"
   ]
  },
  {
   "cell_type": "code",
   "execution_count": null,
   "id": "e4d15d48-c0f2-4870-92fc-d8a1407fa6f4",
   "metadata": {},
   "outputs": [],
   "source": [
    "C_list = [0.001, 0.05, 1, 5, 10, 30, 40]\n",
    "gamma_list = [0.001, 0.005, 0.01, 0.05, 1]\n",
    "decision_list = ['ovo', 'ovr']\n",
    "\n",
    "gs_best_params(C_list, gamma_list, decision_list, X_test)"
   ]
  },
  {
   "cell_type": "code",
   "execution_count": null,
   "id": "f0976bb3-80aa-4e40-b524-85b234169332",
   "metadata": {},
   "outputs": [],
   "source": []
  }
 ],
 "metadata": {
  "kernelspec": {
   "display_name": "Python 3 (ipykernel)",
   "language": "python",
   "name": "python3"
  },
  "language_info": {
   "codemirror_mode": {
    "name": "ipython",
    "version": 3
   },
   "file_extension": ".py",
   "mimetype": "text/x-python",
   "name": "python",
   "nbconvert_exporter": "python",
   "pygments_lexer": "ipython3",
   "version": "3.8.11"
  }
 },
 "nbformat": 4,
 "nbformat_minor": 5
}
