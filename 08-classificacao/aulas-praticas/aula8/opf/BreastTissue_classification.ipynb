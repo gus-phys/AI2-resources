{
 "cells": [
  {
   "cell_type": "markdown",
   "id": "2c36eb98-a3fe-4b2d-97d3-cd03159a3031",
   "metadata": {},
   "source": [
    "# Unsupervised and supervised Optimum-Path Forest"
   ]
  },
  {
   "cell_type": "markdown",
   "id": "400d4d29-07f1-4e60-8f79-62fa6d976756",
   "metadata": {},
   "source": [
    "## Bibliotecas"
   ]
  },
  {
   "cell_type": "code",
   "execution_count": 1,
   "id": "cf15ed3e-87fb-4dee-8d13-3893292b8247",
   "metadata": {},
   "outputs": [],
   "source": [
    "import numpy as np\n",
    "import pandas as pd\n",
    "from sklearn.model_selection import train_test_split\n",
    "\n",
    "import matplotlib.pyplot as plt\n",
    "import seaborn as sns\n",
    "\n",
    "sns.set()"
   ]
  },
  {
   "cell_type": "markdown",
   "id": "9d980c09-6d24-4298-9e1d-c4b5235704fc",
   "metadata": {},
   "source": [
    "## Carregando dados"
   ]
  },
  {
   "cell_type": "code",
   "execution_count": 2,
   "id": "032457a1-789a-4fbb-bdd6-da8f0ca205ec",
   "metadata": {},
   "outputs": [],
   "source": [
    "# Caminho dos dados\n",
    "datapath_breast_tissue = '/home/luis/data/uci/BreastTissue.xls'"
   ]
  },
  {
   "cell_type": "code",
   "execution_count": 3,
   "id": "fba2bca2-0b1d-4cd2-bb43-b6c6c944c626",
   "metadata": {},
   "outputs": [],
   "source": [
    "data_bt = pd.read_excel(datapath_breast_tissue, sheet_name='Data', index_col='Case #')"
   ]
  },
  {
   "cell_type": "markdown",
   "id": "fd0587a3-2011-462e-ae34-b6f44ad1af2a",
   "metadata": {},
   "source": [
    "### Lendo os dados"
   ]
  },
  {
   "cell_type": "code",
   "execution_count": 4,
   "id": "c450d9e2-7aa0-4ee5-9ca1-91344ffa1d64",
   "metadata": {},
   "outputs": [
    {
     "data": {
      "text/html": [
       "<div>\n",
       "<style scoped>\n",
       "    .dataframe tbody tr th:only-of-type {\n",
       "        vertical-align: middle;\n",
       "    }\n",
       "\n",
       "    .dataframe tbody tr th {\n",
       "        vertical-align: top;\n",
       "    }\n",
       "\n",
       "    .dataframe thead th {\n",
       "        text-align: right;\n",
       "    }\n",
       "</style>\n",
       "<table border=\"1\" class=\"dataframe\">\n",
       "  <thead>\n",
       "    <tr style=\"text-align: right;\">\n",
       "      <th></th>\n",
       "      <th>Class</th>\n",
       "      <th>I0</th>\n",
       "      <th>PA500</th>\n",
       "      <th>HFS</th>\n",
       "      <th>DA</th>\n",
       "      <th>Area</th>\n",
       "      <th>A/DA</th>\n",
       "      <th>Max IP</th>\n",
       "      <th>DR</th>\n",
       "      <th>P</th>\n",
       "    </tr>\n",
       "    <tr>\n",
       "      <th>Case #</th>\n",
       "      <th></th>\n",
       "      <th></th>\n",
       "      <th></th>\n",
       "      <th></th>\n",
       "      <th></th>\n",
       "      <th></th>\n",
       "      <th></th>\n",
       "      <th></th>\n",
       "      <th></th>\n",
       "      <th></th>\n",
       "    </tr>\n",
       "  </thead>\n",
       "  <tbody>\n",
       "    <tr>\n",
       "      <th>1</th>\n",
       "      <td>car</td>\n",
       "      <td>524.794072</td>\n",
       "      <td>0.187448</td>\n",
       "      <td>0.032114</td>\n",
       "      <td>228.800228</td>\n",
       "      <td>6843.598481</td>\n",
       "      <td>29.910803</td>\n",
       "      <td>60.204880</td>\n",
       "      <td>220.737212</td>\n",
       "      <td>556.828334</td>\n",
       "    </tr>\n",
       "    <tr>\n",
       "      <th>2</th>\n",
       "      <td>car</td>\n",
       "      <td>330.000000</td>\n",
       "      <td>0.226893</td>\n",
       "      <td>0.265290</td>\n",
       "      <td>121.154201</td>\n",
       "      <td>3163.239472</td>\n",
       "      <td>26.109202</td>\n",
       "      <td>69.717361</td>\n",
       "      <td>99.084964</td>\n",
       "      <td>400.225776</td>\n",
       "    </tr>\n",
       "    <tr>\n",
       "      <th>3</th>\n",
       "      <td>car</td>\n",
       "      <td>551.879287</td>\n",
       "      <td>0.232478</td>\n",
       "      <td>0.063530</td>\n",
       "      <td>264.804935</td>\n",
       "      <td>11888.391827</td>\n",
       "      <td>44.894903</td>\n",
       "      <td>77.793297</td>\n",
       "      <td>253.785300</td>\n",
       "      <td>656.769449</td>\n",
       "    </tr>\n",
       "    <tr>\n",
       "      <th>4</th>\n",
       "      <td>car</td>\n",
       "      <td>380.000000</td>\n",
       "      <td>0.240855</td>\n",
       "      <td>0.286234</td>\n",
       "      <td>137.640111</td>\n",
       "      <td>5402.171180</td>\n",
       "      <td>39.248524</td>\n",
       "      <td>88.758446</td>\n",
       "      <td>105.198568</td>\n",
       "      <td>493.701814</td>\n",
       "    </tr>\n",
       "    <tr>\n",
       "      <th>5</th>\n",
       "      <td>car</td>\n",
       "      <td>362.831266</td>\n",
       "      <td>0.200713</td>\n",
       "      <td>0.244346</td>\n",
       "      <td>124.912559</td>\n",
       "      <td>3290.462446</td>\n",
       "      <td>26.342127</td>\n",
       "      <td>69.389389</td>\n",
       "      <td>103.866552</td>\n",
       "      <td>424.796503</td>\n",
       "    </tr>\n",
       "    <tr>\n",
       "      <th>...</th>\n",
       "      <td>...</td>\n",
       "      <td>...</td>\n",
       "      <td>...</td>\n",
       "      <td>...</td>\n",
       "      <td>...</td>\n",
       "      <td>...</td>\n",
       "      <td>...</td>\n",
       "      <td>...</td>\n",
       "      <td>...</td>\n",
       "      <td>...</td>\n",
       "    </tr>\n",
       "    <tr>\n",
       "      <th>102</th>\n",
       "      <td>adi</td>\n",
       "      <td>2000.000000</td>\n",
       "      <td>0.106989</td>\n",
       "      <td>0.105418</td>\n",
       "      <td>520.222649</td>\n",
       "      <td>40087.920984</td>\n",
       "      <td>77.059161</td>\n",
       "      <td>204.090347</td>\n",
       "      <td>478.517223</td>\n",
       "      <td>2088.648870</td>\n",
       "    </tr>\n",
       "    <tr>\n",
       "      <th>103</th>\n",
       "      <td>adi</td>\n",
       "      <td>2600.000000</td>\n",
       "      <td>0.200538</td>\n",
       "      <td>0.208043</td>\n",
       "      <td>1063.441427</td>\n",
       "      <td>174480.476218</td>\n",
       "      <td>164.071543</td>\n",
       "      <td>418.687286</td>\n",
       "      <td>977.552367</td>\n",
       "      <td>2664.583623</td>\n",
       "    </tr>\n",
       "    <tr>\n",
       "      <th>104</th>\n",
       "      <td>adi</td>\n",
       "      <td>1600.000000</td>\n",
       "      <td>0.071908</td>\n",
       "      <td>-0.066323</td>\n",
       "      <td>436.943603</td>\n",
       "      <td>12655.342135</td>\n",
       "      <td>28.963331</td>\n",
       "      <td>103.732704</td>\n",
       "      <td>432.129749</td>\n",
       "      <td>1475.371534</td>\n",
       "    </tr>\n",
       "    <tr>\n",
       "      <th>105</th>\n",
       "      <td>adi</td>\n",
       "      <td>2300.000000</td>\n",
       "      <td>0.045029</td>\n",
       "      <td>0.136834</td>\n",
       "      <td>185.446044</td>\n",
       "      <td>5086.292497</td>\n",
       "      <td>27.427344</td>\n",
       "      <td>178.691742</td>\n",
       "      <td>49.593290</td>\n",
       "      <td>2480.592151</td>\n",
       "    </tr>\n",
       "    <tr>\n",
       "      <th>106</th>\n",
       "      <td>adi</td>\n",
       "      <td>2600.000000</td>\n",
       "      <td>0.069988</td>\n",
       "      <td>0.048869</td>\n",
       "      <td>745.474369</td>\n",
       "      <td>39845.773698</td>\n",
       "      <td>53.450226</td>\n",
       "      <td>154.122604</td>\n",
       "      <td>729.368395</td>\n",
       "      <td>2545.419744</td>\n",
       "    </tr>\n",
       "  </tbody>\n",
       "</table>\n",
       "<p>106 rows × 10 columns</p>\n",
       "</div>"
      ],
      "text/plain": [
       "       Class           I0     PA500       HFS           DA           Area  \\\n",
       "Case #                                                                      \n",
       "1        car   524.794072  0.187448  0.032114   228.800228    6843.598481   \n",
       "2        car   330.000000  0.226893  0.265290   121.154201    3163.239472   \n",
       "3        car   551.879287  0.232478  0.063530   264.804935   11888.391827   \n",
       "4        car   380.000000  0.240855  0.286234   137.640111    5402.171180   \n",
       "5        car   362.831266  0.200713  0.244346   124.912559    3290.462446   \n",
       "...      ...          ...       ...       ...          ...            ...   \n",
       "102      adi  2000.000000  0.106989  0.105418   520.222649   40087.920984   \n",
       "103      adi  2600.000000  0.200538  0.208043  1063.441427  174480.476218   \n",
       "104      adi  1600.000000  0.071908 -0.066323   436.943603   12655.342135   \n",
       "105      adi  2300.000000  0.045029  0.136834   185.446044    5086.292497   \n",
       "106      adi  2600.000000  0.069988  0.048869   745.474369   39845.773698   \n",
       "\n",
       "              A/DA      Max IP          DR            P  \n",
       "Case #                                                   \n",
       "1        29.910803   60.204880  220.737212   556.828334  \n",
       "2        26.109202   69.717361   99.084964   400.225776  \n",
       "3        44.894903   77.793297  253.785300   656.769449  \n",
       "4        39.248524   88.758446  105.198568   493.701814  \n",
       "5        26.342127   69.389389  103.866552   424.796503  \n",
       "...            ...         ...         ...          ...  \n",
       "102      77.059161  204.090347  478.517223  2088.648870  \n",
       "103     164.071543  418.687286  977.552367  2664.583623  \n",
       "104      28.963331  103.732704  432.129749  1475.371534  \n",
       "105      27.427344  178.691742   49.593290  2480.592151  \n",
       "106      53.450226  154.122604  729.368395  2545.419744  \n",
       "\n",
       "[106 rows x 10 columns]"
      ]
     },
     "execution_count": 4,
     "metadata": {},
     "output_type": "execute_result"
    }
   ],
   "source": [
    "data_bt"
   ]
  },
  {
   "cell_type": "code",
   "execution_count": 5,
   "id": "88d5779b-2e1f-4ab7-b089-4bea47c3c587",
   "metadata": {},
   "outputs": [
    {
     "data": {
      "text/html": [
       "<div>\n",
       "<style scoped>\n",
       "    .dataframe tbody tr th:only-of-type {\n",
       "        vertical-align: middle;\n",
       "    }\n",
       "\n",
       "    .dataframe tbody tr th {\n",
       "        vertical-align: top;\n",
       "    }\n",
       "\n",
       "    .dataframe thead th {\n",
       "        text-align: right;\n",
       "    }\n",
       "</style>\n",
       "<table border=\"1\" class=\"dataframe\">\n",
       "  <thead>\n",
       "    <tr style=\"text-align: right;\">\n",
       "      <th></th>\n",
       "      <th>Class</th>\n",
       "      <th>I0</th>\n",
       "      <th>PA500</th>\n",
       "      <th>HFS</th>\n",
       "      <th>DA</th>\n",
       "      <th>Area</th>\n",
       "      <th>A/DA</th>\n",
       "      <th>Max IP</th>\n",
       "      <th>DR</th>\n",
       "      <th>P</th>\n",
       "    </tr>\n",
       "  </thead>\n",
       "  <tbody>\n",
       "    <tr>\n",
       "      <th>count</th>\n",
       "      <td>106</td>\n",
       "      <td>106.000000</td>\n",
       "      <td>106.000000</td>\n",
       "      <td>106.000000</td>\n",
       "      <td>106.000000</td>\n",
       "      <td>106.000000</td>\n",
       "      <td>106.000000</td>\n",
       "      <td>106.000000</td>\n",
       "      <td>106.000000</td>\n",
       "      <td>106.000000</td>\n",
       "    </tr>\n",
       "    <tr>\n",
       "      <th>unique</th>\n",
       "      <td>6</td>\n",
       "      <td>NaN</td>\n",
       "      <td>NaN</td>\n",
       "      <td>NaN</td>\n",
       "      <td>NaN</td>\n",
       "      <td>NaN</td>\n",
       "      <td>NaN</td>\n",
       "      <td>NaN</td>\n",
       "      <td>NaN</td>\n",
       "      <td>NaN</td>\n",
       "    </tr>\n",
       "    <tr>\n",
       "      <th>top</th>\n",
       "      <td>adi</td>\n",
       "      <td>NaN</td>\n",
       "      <td>NaN</td>\n",
       "      <td>NaN</td>\n",
       "      <td>NaN</td>\n",
       "      <td>NaN</td>\n",
       "      <td>NaN</td>\n",
       "      <td>NaN</td>\n",
       "      <td>NaN</td>\n",
       "      <td>NaN</td>\n",
       "    </tr>\n",
       "    <tr>\n",
       "      <th>freq</th>\n",
       "      <td>22</td>\n",
       "      <td>NaN</td>\n",
       "      <td>NaN</td>\n",
       "      <td>NaN</td>\n",
       "      <td>NaN</td>\n",
       "      <td>NaN</td>\n",
       "      <td>NaN</td>\n",
       "      <td>NaN</td>\n",
       "      <td>NaN</td>\n",
       "      <td>NaN</td>\n",
       "    </tr>\n",
       "    <tr>\n",
       "      <th>mean</th>\n",
       "      <td>NaN</td>\n",
       "      <td>784.251618</td>\n",
       "      <td>0.120133</td>\n",
       "      <td>0.114691</td>\n",
       "      <td>190.568642</td>\n",
       "      <td>7335.155162</td>\n",
       "      <td>23.473784</td>\n",
       "      <td>75.381258</td>\n",
       "      <td>166.710575</td>\n",
       "      <td>810.638127</td>\n",
       "    </tr>\n",
       "    <tr>\n",
       "      <th>std</th>\n",
       "      <td>NaN</td>\n",
       "      <td>753.950075</td>\n",
       "      <td>0.068596</td>\n",
       "      <td>0.101347</td>\n",
       "      <td>190.801448</td>\n",
       "      <td>18580.314213</td>\n",
       "      <td>23.354672</td>\n",
       "      <td>81.345838</td>\n",
       "      <td>181.309580</td>\n",
       "      <td>763.019135</td>\n",
       "    </tr>\n",
       "    <tr>\n",
       "      <th>min</th>\n",
       "      <td>NaN</td>\n",
       "      <td>103.000000</td>\n",
       "      <td>0.012392</td>\n",
       "      <td>-0.066323</td>\n",
       "      <td>19.647670</td>\n",
       "      <td>70.426239</td>\n",
       "      <td>1.595742</td>\n",
       "      <td>7.968783</td>\n",
       "      <td>-9.257696</td>\n",
       "      <td>124.978561</td>\n",
       "    </tr>\n",
       "    <tr>\n",
       "      <th>25%</th>\n",
       "      <td>NaN</td>\n",
       "      <td>250.000000</td>\n",
       "      <td>0.067413</td>\n",
       "      <td>0.043982</td>\n",
       "      <td>53.845470</td>\n",
       "      <td>409.647141</td>\n",
       "      <td>8.180321</td>\n",
       "      <td>26.893773</td>\n",
       "      <td>41.781258</td>\n",
       "      <td>270.215238</td>\n",
       "    </tr>\n",
       "    <tr>\n",
       "      <th>50%</th>\n",
       "      <td>NaN</td>\n",
       "      <td>384.936489</td>\n",
       "      <td>0.105418</td>\n",
       "      <td>0.086568</td>\n",
       "      <td>120.777303</td>\n",
       "      <td>2219.581163</td>\n",
       "      <td>16.133657</td>\n",
       "      <td>44.216040</td>\n",
       "      <td>97.832557</td>\n",
       "      <td>454.108153</td>\n",
       "    </tr>\n",
       "    <tr>\n",
       "      <th>75%</th>\n",
       "      <td>NaN</td>\n",
       "      <td>1487.989626</td>\n",
       "      <td>0.169602</td>\n",
       "      <td>0.166504</td>\n",
       "      <td>255.334809</td>\n",
       "      <td>7615.204968</td>\n",
       "      <td>30.953294</td>\n",
       "      <td>83.671755</td>\n",
       "      <td>232.990070</td>\n",
       "      <td>1301.559438</td>\n",
       "    </tr>\n",
       "    <tr>\n",
       "      <th>max</th>\n",
       "      <td>NaN</td>\n",
       "      <td>2800.000000</td>\n",
       "      <td>0.358316</td>\n",
       "      <td>0.467748</td>\n",
       "      <td>1063.441427</td>\n",
       "      <td>174480.476218</td>\n",
       "      <td>164.071543</td>\n",
       "      <td>436.099640</td>\n",
       "      <td>977.552367</td>\n",
       "      <td>2896.582483</td>\n",
       "    </tr>\n",
       "  </tbody>\n",
       "</table>\n",
       "</div>"
      ],
      "text/plain": [
       "       Class           I0       PA500         HFS           DA           Area  \\\n",
       "count    106   106.000000  106.000000  106.000000   106.000000     106.000000   \n",
       "unique     6          NaN         NaN         NaN          NaN            NaN   \n",
       "top      adi          NaN         NaN         NaN          NaN            NaN   \n",
       "freq      22          NaN         NaN         NaN          NaN            NaN   \n",
       "mean     NaN   784.251618    0.120133    0.114691   190.568642    7335.155162   \n",
       "std      NaN   753.950075    0.068596    0.101347   190.801448   18580.314213   \n",
       "min      NaN   103.000000    0.012392   -0.066323    19.647670      70.426239   \n",
       "25%      NaN   250.000000    0.067413    0.043982    53.845470     409.647141   \n",
       "50%      NaN   384.936489    0.105418    0.086568   120.777303    2219.581163   \n",
       "75%      NaN  1487.989626    0.169602    0.166504   255.334809    7615.204968   \n",
       "max      NaN  2800.000000    0.358316    0.467748  1063.441427  174480.476218   \n",
       "\n",
       "              A/DA      Max IP          DR            P  \n",
       "count   106.000000  106.000000  106.000000   106.000000  \n",
       "unique         NaN         NaN         NaN          NaN  \n",
       "top            NaN         NaN         NaN          NaN  \n",
       "freq           NaN         NaN         NaN          NaN  \n",
       "mean     23.473784   75.381258  166.710575   810.638127  \n",
       "std      23.354672   81.345838  181.309580   763.019135  \n",
       "min       1.595742    7.968783   -9.257696   124.978561  \n",
       "25%       8.180321   26.893773   41.781258   270.215238  \n",
       "50%      16.133657   44.216040   97.832557   454.108153  \n",
       "75%      30.953294   83.671755  232.990070  1301.559438  \n",
       "max     164.071543  436.099640  977.552367  2896.582483  "
      ]
     },
     "execution_count": 5,
     "metadata": {},
     "output_type": "execute_result"
    }
   ],
   "source": [
    "data_bt.describe(include='all')"
   ]
  },
  {
   "cell_type": "markdown",
   "id": "dd1a9d4b-0e7f-4b63-b1a6-45b20db5e6a3",
   "metadata": {},
   "source": [
    "### Separando 'targets' e preditores"
   ]
  },
  {
   "cell_type": "code",
   "execution_count": 6,
   "id": "c9d9c212-d137-448a-958a-7c386377dea7",
   "metadata": {},
   "outputs": [
    {
     "data": {
      "text/plain": [
       "Index(['I0', 'PA500', 'HFS', 'DA', 'Area', 'A/DA', 'Max IP', 'DR', 'P'], dtype='object')"
      ]
     },
     "execution_count": 6,
     "metadata": {},
     "output_type": "execute_result"
    }
   ],
   "source": [
    "data_bt.iloc[:,1:].columns"
   ]
  },
  {
   "cell_type": "code",
   "execution_count": 7,
   "id": "b494c07b-bc29-4e46-8ac1-f4f7eb2434dc",
   "metadata": {},
   "outputs": [],
   "source": [
    "lista_col_X = data_bt.iloc[:,1:].columns\n",
    "X, y = data_bt[lista_col_X], data_bt.iloc[:,0]"
   ]
  },
  {
   "cell_type": "code",
   "execution_count": 8,
   "id": "f5eb07f7-dee2-43f3-9b68-13440db70385",
   "metadata": {},
   "outputs": [
    {
     "data": {
      "text/plain": [
       "(pandas.core.frame.DataFrame, pandas.core.series.Series)"
      ]
     },
     "execution_count": 8,
     "metadata": {},
     "output_type": "execute_result"
    }
   ],
   "source": [
    "# X = np.array(X)\n",
    "# y = np.array(y)\n",
    "type(X), type(y)"
   ]
  },
  {
   "cell_type": "code",
   "execution_count": 9,
   "id": "a5fa5c2b-fa98-46e8-9a11-775bfa340487",
   "metadata": {},
   "outputs": [],
   "source": [
    "# X_train, X_test, y_train, y_test = train_test_split(X, y, test_size=0.4, random_state=42)\n",
    "\n",
    "# print('X_train.shape, y_train.shape = ', X_train.shape, y_train.shape)\n",
    "# print('X_test.shape, y_test.shape = ', X_test.shape, y_test.shape)"
   ]
  },
  {
   "cell_type": "markdown",
   "id": "f71607a2-3c84-4349-9c14-d7e3849115ce",
   "metadata": {},
   "source": [
    "## OPF supervisionado"
   ]
  },
  {
   "cell_type": "code",
   "execution_count": 10,
   "id": "1a81f4ab-d70b-4d21-8094-12473c95d85b",
   "metadata": {},
   "outputs": [],
   "source": [
    "# importando função para dividir o conjunto em treinamento e teste, assim como \n",
    "#   fazemos com a função train_test_split do scikit-learn\n",
    "import opfython.stream.splitter as s\n",
    "\n",
    "# Importando o OPF supervisionado para classificação\n",
    "from opfython.models.supervised import SupervisedOPF"
   ]
  },
  {
   "cell_type": "code",
   "execution_count": 11,
   "id": "c7bbb8ac-87a4-40a8-8fa9-93dcd679672c",
   "metadata": {},
   "outputs": [
    {
     "name": "stdout",
     "output_type": "stream",
     "text": [
      "2021-11-01 20:18:16,245 - opfython.stream.splitter — INFO — Splitting data ...\n",
      "2021-11-01 20:18:16,251 - opfython.stream.splitter — DEBUG — X_1: (79, 9) | X_2: (27, 9) | Y_1: (79,) | Y_2: (27,).\n",
      "2021-11-01 20:18:16,251 - opfython.stream.splitter — INFO — Data splitted.\n"
     ]
    }
   ],
   "source": [
    "# Dividindo os dados em treinamento e teste\n",
    "X_train, X_test, y_train, y_test = s.split(\n",
    "    np.array(X), np.array(y), percentage=0.75, random_state=42)"
   ]
  },
  {
   "cell_type": "code",
   "execution_count": 12,
   "id": "845aadf5-bed4-4986-8309-665d4bde5229",
   "metadata": {},
   "outputs": [
    {
     "name": "stdout",
     "output_type": "stream",
     "text": [
      "X_train.shape, y_train.shape =  (79, 9) (79,)\n",
      "X_test.shape, y_test.shape =  (27, 9) (27,)\n"
     ]
    }
   ],
   "source": [
    "print('X_train.shape, y_train.shape = ', X_train.shape, y_train.shape)\n",
    "print('X_test.shape, y_test.shape = ', X_test.shape, y_test.shape)"
   ]
  },
  {
   "cell_type": "markdown",
   "id": "7374af45-6bc6-4cd2-bd4e-2dada9828177",
   "metadata": {},
   "source": [
    "### Aplicando o LabelEncoder"
   ]
  },
  {
   "cell_type": "markdown",
   "id": "f9191967-03d6-450d-ba0f-047ff9551edc",
   "metadata": {},
   "source": [
    "O `fit` do OPF dá erro quando usa strings."
   ]
  },
  {
   "cell_type": "code",
   "execution_count": 13,
   "id": "79fad01e-d2a9-4fc7-ab71-c48734759ee7",
   "metadata": {},
   "outputs": [],
   "source": [
    "from sklearn.preprocessing import LabelEncoder"
   ]
  },
  {
   "cell_type": "code",
   "execution_count": 14,
   "id": "413d4910-46a5-44bd-8d9f-2794118fc10d",
   "metadata": {},
   "outputs": [],
   "source": [
    "label_encoder = LabelEncoder()\n",
    "y_test_encoded = label_encoder.fit_transform(y_test)\n",
    "y_train_encoded = label_encoder.fit_transform(y_train)"
   ]
  },
  {
   "cell_type": "markdown",
   "id": "e88b4692-896b-44f9-9a45-23e5fc18bea4",
   "metadata": {},
   "source": [
    "### Classificando"
   ]
  },
  {
   "cell_type": "code",
   "execution_count": 15,
   "id": "4542a85b-25b3-4153-80ab-7f714dc7426b",
   "metadata": {},
   "outputs": [
    {
     "name": "stdout",
     "output_type": "stream",
     "text": [
      "2021-11-01 20:18:17,859 - opfython.models.supervised — INFO — Overriding class: OPF -> SupervisedOPF.\n",
      "2021-11-01 20:18:17,861 - opfython.core.opf — INFO — Creating class: OPF.\n",
      "2021-11-01 20:18:17,863 - opfython.core.opf — DEBUG — Distance: log_squared_euclidean | Pre-computed distance: False.\n",
      "2021-11-01 20:18:17,866 - opfython.core.opf — INFO — Class created.\n",
      "2021-11-01 20:18:17,868 - opfython.models.supervised — INFO — Class overrided.\n",
      "2021-11-01 20:18:17,870 - opfython.models.supervised — INFO — Fitting classifier ...\n",
      "2021-11-01 20:18:17,873 - opfython.models.supervised — DEBUG — Finding prototypes ...\n",
      "2021-11-01 20:18:17,954 - opfython.models.supervised — DEBUG — Prototypes: [17, 65, 1, 74, 21, 61, 12, 8, 13, 58, 51, 3, 2, 27, 68, 59, 67, 37, 33, 45, 25, 10, 63, 57, 70, 7, 6, 46, 49, 23, 22, 30, 44, 77, 53, 72, 18, 75, 35, 19, 64, 26, 41, 16, 24, 47, 15, 36, 11, 5, 39].\n",
      "2021-11-01 20:18:17,962 - opfython.models.supervised — INFO — Classifier has been fitted.\n",
      "2021-11-01 20:18:17,962 - opfython.models.supervised — INFO — Training time: 0.09013700485229492 seconds.\n",
      "2021-11-01 20:18:17,963 - opfython.models.supervised — INFO — Predicting data ...\n",
      "2021-11-01 20:18:17,970 - opfython.models.supervised — INFO — Data has been predicted.\n",
      "2021-11-01 20:18:17,971 - opfython.models.supervised — INFO — Prediction time: 0.006876707077026367 seconds.\n"
     ]
    }
   ],
   "source": [
    "# Cria uma instancia do OPF supervisionado\n",
    "opf = SupervisedOPF()\n",
    "\n",
    "# Ajusta o classificador considerando o conjunto de treinamento\n",
    "opf.fit(X_train, y_train_encoded)\n",
    "\n",
    "# Predição no conjunto de testes\n",
    "preds = opf.predict(X_test)"
   ]
  },
  {
   "cell_type": "markdown",
   "id": "f5b288d4-6342-47d4-8f95-5e83df9fcfeb",
   "metadata": {},
   "source": [
    "### Confrontando os resultados"
   ]
  },
  {
   "cell_type": "code",
   "execution_count": 16,
   "id": "a5312fd3-a90e-46fa-bf89-fe675bbd5a2c",
   "metadata": {},
   "outputs": [
    {
     "name": "stdout",
     "output_type": "stream",
     "text": [
      "              precision    recall  f1-score   support\n",
      "\n",
      "           0       0.62      0.62      0.62         8\n",
      "           1       0.57      1.00      0.73         4\n",
      "           2       0.33      0.25      0.29         4\n",
      "           3       0.40      0.50      0.44         4\n",
      "           4       0.33      0.25      0.29         4\n",
      "           5       0.00      0.00      0.00         3\n",
      "\n",
      "    accuracy                           0.48        27\n",
      "   macro avg       0.38      0.44      0.39        27\n",
      "weighted avg       0.43      0.48      0.44        27\n",
      "\n"
     ]
    }
   ],
   "source": [
    "from sklearn.metrics import classification_report\n",
    "print(classification_report(y_test_encoded, preds))"
   ]
  },
  {
   "cell_type": "code",
   "execution_count": 17,
   "id": "9d7f2f1e-6bdd-4071-ba20-a55a7f66541f",
   "metadata": {},
   "outputs": [
    {
     "data": {
      "image/png": "[encoded data removed]",
      "text/plain": [
       "<Figure size 432x288 with 2 Axes>"
      ]
     },
     "metadata": {},
     "output_type": "display_data"
    }
   ],
   "source": [
    "from sklearn.metrics import confusion_matrix\n",
    "mat = confusion_matrix(y_test_encoded, preds)\n",
    "sns.heatmap(mat.T, square=True, annot=True, fmt='d', cbar=True,\n",
    "            xticklabels=label_encoder.inverse_transform(np.unique(y_test_encoded)),\n",
    "            yticklabels=label_encoder.inverse_transform(np.unique(preds)),\n",
    "            cmap=plt.cm.Blues)\n",
    "plt.xlabel('Classes Reais')\n",
    "plt.ylabel('Classes Preditas');"
   ]
  },
  {
   "cell_type": "markdown",
   "id": "02453e61-7178-487a-a267-7c2e81880903",
   "metadata": {},
   "source": [
    "## OPF não supervisionado"
   ]
  },
  {
   "cell_type": "code",
   "execution_count": null,
   "id": "7c42fe3f-f2db-459d-b262-66b64ac3362a",
   "metadata": {},
   "outputs": [],
   "source": []
  }
 ],
 "metadata": {
  "kernelspec": {
   "display_name": "Python 3 (ipykernel)",
   "language": "python",
   "name": "python3"
  },
  "language_info": {
   "codemirror_mode": {
    "name": "ipython",
    "version": 3
   },
   "file_extension": ".py",
   "mimetype": "text/x-python",
   "name": "python",
   "nbconvert_exporter": "python",
   "pygments_lexer": "ipython3",
   "version": "3.8.12"
  }
 },
 "nbformat": 4,
 "nbformat_minor": 5
}
