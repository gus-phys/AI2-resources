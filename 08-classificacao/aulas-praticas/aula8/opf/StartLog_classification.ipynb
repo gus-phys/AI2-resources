{
 "cells": [
  {
   "cell_type": "markdown",
   "id": "2c36eb98-a3fe-4b2d-97d3-cd03159a3031",
   "metadata": {},
   "source": [
    "# Stat Log"
   ]
  },
  {
   "cell_type": "markdown",
   "id": "400d4d29-07f1-4e60-8f79-62fa6d976756",
   "metadata": {},
   "source": [
    "## Bibliotecas"
   ]
  },
  {
   "cell_type": "code",
   "execution_count": 1,
   "id": "cf15ed3e-87fb-4dee-8d13-3893292b8247",
   "metadata": {},
   "outputs": [],
   "source": [
    "import numpy as np\n",
    "import pandas as pd\n",
    "import matplotlib.pyplot as plt\n",
    "import seaborn as sns\n",
    "\n",
    "sns.set()"
   ]
  },
  {
   "cell_type": "markdown",
   "id": "9d980c09-6d24-4298-9e1d-c4b5235704fc",
   "metadata": {},
   "source": [
    "## Dados"
   ]
  },
  {
   "cell_type": "code",
   "execution_count": 2,
   "id": "032457a1-789a-4fbb-bdd6-da8f0ca205ec",
   "metadata": {},
   "outputs": [],
   "source": [
    "# Caminho dos dados\n",
    "datapath_test_statlog = '/home/luis/data/uci/Statlog/sat.tst'\n",
    "datapath_train_statlog = '/home/luis/data/uci/Statlog/sat.trn'"
   ]
  },
  {
   "cell_type": "code",
   "execution_count": 3,
   "id": "fba2bca2-0b1d-4cd2-bb43-b6c6c944c626",
   "metadata": {},
   "outputs": [],
   "source": [
    "train_data = pd.read_csv(datapath_train_statlog, delimiter=\" \", header=None)\n",
    "test_data = pd.read_csv(datapath_test_statlog, delimiter=\" \", header=None)"
   ]
  },
  {
   "cell_type": "markdown",
   "id": "fd0587a3-2011-462e-ae34-b6f44ad1af2a",
   "metadata": {},
   "source": [
    "### Leitura"
   ]
  },
  {
   "cell_type": "code",
   "execution_count": 4,
   "id": "c2d5ee7a-94df-4046-acc5-8f8c56808ad7",
   "metadata": {},
   "outputs": [
    {
     "data": {
      "text/html": [
       "<div>\n",
       "<style scoped>\n",
       "    .dataframe tbody tr th:only-of-type {\n",
       "        vertical-align: middle;\n",
       "    }\n",
       "\n",
       "    .dataframe tbody tr th {\n",
       "        vertical-align: top;\n",
       "    }\n",
       "\n",
       "    .dataframe thead th {\n",
       "        text-align: right;\n",
       "    }\n",
       "</style>\n",
       "<table border=\"1\" class=\"dataframe\">\n",
       "  <thead>\n",
       "    <tr style=\"text-align: right;\">\n",
       "      <th></th>\n",
       "      <th>0</th>\n",
       "      <th>1</th>\n",
       "      <th>2</th>\n",
       "      <th>3</th>\n",
       "      <th>4</th>\n",
       "      <th>5</th>\n",
       "      <th>6</th>\n",
       "      <th>7</th>\n",
       "      <th>8</th>\n",
       "      <th>9</th>\n",
       "      <th>...</th>\n",
       "      <th>27</th>\n",
       "      <th>28</th>\n",
       "      <th>29</th>\n",
       "      <th>30</th>\n",
       "      <th>31</th>\n",
       "      <th>32</th>\n",
       "      <th>33</th>\n",
       "      <th>34</th>\n",
       "      <th>35</th>\n",
       "      <th>36</th>\n",
       "    </tr>\n",
       "  </thead>\n",
       "  <tbody>\n",
       "    <tr>\n",
       "      <th>0</th>\n",
       "      <td>92</td>\n",
       "      <td>115</td>\n",
       "      <td>120</td>\n",
       "      <td>94</td>\n",
       "      <td>84</td>\n",
       "      <td>102</td>\n",
       "      <td>106</td>\n",
       "      <td>79</td>\n",
       "      <td>84</td>\n",
       "      <td>102</td>\n",
       "      <td>...</td>\n",
       "      <td>104</td>\n",
       "      <td>88</td>\n",
       "      <td>121</td>\n",
       "      <td>128</td>\n",
       "      <td>100</td>\n",
       "      <td>84</td>\n",
       "      <td>107</td>\n",
       "      <td>113</td>\n",
       "      <td>87</td>\n",
       "      <td>3</td>\n",
       "    </tr>\n",
       "    <tr>\n",
       "      <th>1</th>\n",
       "      <td>84</td>\n",
       "      <td>102</td>\n",
       "      <td>106</td>\n",
       "      <td>79</td>\n",
       "      <td>84</td>\n",
       "      <td>102</td>\n",
       "      <td>102</td>\n",
       "      <td>83</td>\n",
       "      <td>80</td>\n",
       "      <td>102</td>\n",
       "      <td>...</td>\n",
       "      <td>100</td>\n",
       "      <td>84</td>\n",
       "      <td>107</td>\n",
       "      <td>113</td>\n",
       "      <td>87</td>\n",
       "      <td>84</td>\n",
       "      <td>99</td>\n",
       "      <td>104</td>\n",
       "      <td>79</td>\n",
       "      <td>3</td>\n",
       "    </tr>\n",
       "    <tr>\n",
       "      <th>2</th>\n",
       "      <td>84</td>\n",
       "      <td>102</td>\n",
       "      <td>102</td>\n",
       "      <td>83</td>\n",
       "      <td>80</td>\n",
       "      <td>102</td>\n",
       "      <td>102</td>\n",
       "      <td>79</td>\n",
       "      <td>84</td>\n",
       "      <td>94</td>\n",
       "      <td>...</td>\n",
       "      <td>87</td>\n",
       "      <td>84</td>\n",
       "      <td>99</td>\n",
       "      <td>104</td>\n",
       "      <td>79</td>\n",
       "      <td>84</td>\n",
       "      <td>99</td>\n",
       "      <td>104</td>\n",
       "      <td>79</td>\n",
       "      <td>3</td>\n",
       "    </tr>\n",
       "    <tr>\n",
       "      <th>3</th>\n",
       "      <td>80</td>\n",
       "      <td>102</td>\n",
       "      <td>102</td>\n",
       "      <td>79</td>\n",
       "      <td>84</td>\n",
       "      <td>94</td>\n",
       "      <td>102</td>\n",
       "      <td>79</td>\n",
       "      <td>80</td>\n",
       "      <td>94</td>\n",
       "      <td>...</td>\n",
       "      <td>79</td>\n",
       "      <td>84</td>\n",
       "      <td>99</td>\n",
       "      <td>104</td>\n",
       "      <td>79</td>\n",
       "      <td>84</td>\n",
       "      <td>103</td>\n",
       "      <td>104</td>\n",
       "      <td>79</td>\n",
       "      <td>3</td>\n",
       "    </tr>\n",
       "    <tr>\n",
       "      <th>4</th>\n",
       "      <td>84</td>\n",
       "      <td>94</td>\n",
       "      <td>102</td>\n",
       "      <td>79</td>\n",
       "      <td>80</td>\n",
       "      <td>94</td>\n",
       "      <td>98</td>\n",
       "      <td>76</td>\n",
       "      <td>80</td>\n",
       "      <td>102</td>\n",
       "      <td>...</td>\n",
       "      <td>79</td>\n",
       "      <td>84</td>\n",
       "      <td>103</td>\n",
       "      <td>104</td>\n",
       "      <td>79</td>\n",
       "      <td>79</td>\n",
       "      <td>107</td>\n",
       "      <td>109</td>\n",
       "      <td>87</td>\n",
       "      <td>3</td>\n",
       "    </tr>\n",
       "    <tr>\n",
       "      <th>...</th>\n",
       "      <td>...</td>\n",
       "      <td>...</td>\n",
       "      <td>...</td>\n",
       "      <td>...</td>\n",
       "      <td>...</td>\n",
       "      <td>...</td>\n",
       "      <td>...</td>\n",
       "      <td>...</td>\n",
       "      <td>...</td>\n",
       "      <td>...</td>\n",
       "      <td>...</td>\n",
       "      <td>...</td>\n",
       "      <td>...</td>\n",
       "      <td>...</td>\n",
       "      <td>...</td>\n",
       "      <td>...</td>\n",
       "      <td>...</td>\n",
       "      <td>...</td>\n",
       "      <td>...</td>\n",
       "      <td>...</td>\n",
       "      <td>...</td>\n",
       "    </tr>\n",
       "    <tr>\n",
       "      <th>4430</th>\n",
       "      <td>56</td>\n",
       "      <td>64</td>\n",
       "      <td>108</td>\n",
       "      <td>96</td>\n",
       "      <td>64</td>\n",
       "      <td>71</td>\n",
       "      <td>108</td>\n",
       "      <td>96</td>\n",
       "      <td>68</td>\n",
       "      <td>75</td>\n",
       "      <td>...</td>\n",
       "      <td>92</td>\n",
       "      <td>66</td>\n",
       "      <td>83</td>\n",
       "      <td>108</td>\n",
       "      <td>96</td>\n",
       "      <td>66</td>\n",
       "      <td>87</td>\n",
       "      <td>104</td>\n",
       "      <td>89</td>\n",
       "      <td>5</td>\n",
       "    </tr>\n",
       "    <tr>\n",
       "      <th>4431</th>\n",
       "      <td>64</td>\n",
       "      <td>71</td>\n",
       "      <td>108</td>\n",
       "      <td>96</td>\n",
       "      <td>68</td>\n",
       "      <td>75</td>\n",
       "      <td>108</td>\n",
       "      <td>96</td>\n",
       "      <td>71</td>\n",
       "      <td>87</td>\n",
       "      <td>...</td>\n",
       "      <td>96</td>\n",
       "      <td>66</td>\n",
       "      <td>87</td>\n",
       "      <td>104</td>\n",
       "      <td>89</td>\n",
       "      <td>63</td>\n",
       "      <td>87</td>\n",
       "      <td>104</td>\n",
       "      <td>89</td>\n",
       "      <td>5</td>\n",
       "    </tr>\n",
       "    <tr>\n",
       "      <th>4432</th>\n",
       "      <td>68</td>\n",
       "      <td>75</td>\n",
       "      <td>108</td>\n",
       "      <td>96</td>\n",
       "      <td>71</td>\n",
       "      <td>87</td>\n",
       "      <td>108</td>\n",
       "      <td>88</td>\n",
       "      <td>71</td>\n",
       "      <td>91</td>\n",
       "      <td>...</td>\n",
       "      <td>89</td>\n",
       "      <td>63</td>\n",
       "      <td>87</td>\n",
       "      <td>104</td>\n",
       "      <td>89</td>\n",
       "      <td>70</td>\n",
       "      <td>100</td>\n",
       "      <td>104</td>\n",
       "      <td>85</td>\n",
       "      <td>4</td>\n",
       "    </tr>\n",
       "    <tr>\n",
       "      <th>4433</th>\n",
       "      <td>71</td>\n",
       "      <td>87</td>\n",
       "      <td>108</td>\n",
       "      <td>88</td>\n",
       "      <td>71</td>\n",
       "      <td>91</td>\n",
       "      <td>100</td>\n",
       "      <td>81</td>\n",
       "      <td>76</td>\n",
       "      <td>95</td>\n",
       "      <td>...</td>\n",
       "      <td>89</td>\n",
       "      <td>70</td>\n",
       "      <td>100</td>\n",
       "      <td>104</td>\n",
       "      <td>85</td>\n",
       "      <td>70</td>\n",
       "      <td>91</td>\n",
       "      <td>104</td>\n",
       "      <td>85</td>\n",
       "      <td>4</td>\n",
       "    </tr>\n",
       "    <tr>\n",
       "      <th>4434</th>\n",
       "      <td>71</td>\n",
       "      <td>91</td>\n",
       "      <td>100</td>\n",
       "      <td>81</td>\n",
       "      <td>76</td>\n",
       "      <td>95</td>\n",
       "      <td>108</td>\n",
       "      <td>88</td>\n",
       "      <td>80</td>\n",
       "      <td>95</td>\n",
       "      <td>...</td>\n",
       "      <td>85</td>\n",
       "      <td>70</td>\n",
       "      <td>91</td>\n",
       "      <td>104</td>\n",
       "      <td>85</td>\n",
       "      <td>63</td>\n",
       "      <td>91</td>\n",
       "      <td>100</td>\n",
       "      <td>81</td>\n",
       "      <td>4</td>\n",
       "    </tr>\n",
       "  </tbody>\n",
       "</table>\n",
       "<p>4435 rows × 37 columns</p>\n",
       "</div>"
      ],
      "text/plain": [
       "      0    1    2   3   4    5    6   7   8    9   ...   27  28   29   30  \\\n",
       "0     92  115  120  94  84  102  106  79  84  102  ...  104  88  121  128   \n",
       "1     84  102  106  79  84  102  102  83  80  102  ...  100  84  107  113   \n",
       "2     84  102  102  83  80  102  102  79  84   94  ...   87  84   99  104   \n",
       "3     80  102  102  79  84   94  102  79  80   94  ...   79  84   99  104   \n",
       "4     84   94  102  79  80   94   98  76  80  102  ...   79  84  103  104   \n",
       "...   ..  ...  ...  ..  ..  ...  ...  ..  ..  ...  ...  ...  ..  ...  ...   \n",
       "4430  56   64  108  96  64   71  108  96  68   75  ...   92  66   83  108   \n",
       "4431  64   71  108  96  68   75  108  96  71   87  ...   96  66   87  104   \n",
       "4432  68   75  108  96  71   87  108  88  71   91  ...   89  63   87  104   \n",
       "4433  71   87  108  88  71   91  100  81  76   95  ...   89  70  100  104   \n",
       "4434  71   91  100  81  76   95  108  88  80   95  ...   85  70   91  104   \n",
       "\n",
       "       31  32   33   34  35  36  \n",
       "0     100  84  107  113  87   3  \n",
       "1      87  84   99  104  79   3  \n",
       "2      79  84   99  104  79   3  \n",
       "3      79  84  103  104  79   3  \n",
       "4      79  79  107  109  87   3  \n",
       "...   ...  ..  ...  ...  ..  ..  \n",
       "4430   96  66   87  104  89   5  \n",
       "4431   89  63   87  104  89   5  \n",
       "4432   89  70  100  104  85   4  \n",
       "4433   85  70   91  104  85   4  \n",
       "4434   85  63   91  100  81   4  \n",
       "\n",
       "[4435 rows x 37 columns]"
      ]
     },
     "execution_count": 4,
     "metadata": {},
     "output_type": "execute_result"
    }
   ],
   "source": [
    "train_data"
   ]
  },
  {
   "cell_type": "code",
   "execution_count": 5,
   "id": "aa229333-fcff-4411-8cac-1ed6e9b2c4ec",
   "metadata": {},
   "outputs": [
    {
     "data": {
      "text/html": [
       "<div>\n",
       "<style scoped>\n",
       "    .dataframe tbody tr th:only-of-type {\n",
       "        vertical-align: middle;\n",
       "    }\n",
       "\n",
       "    .dataframe tbody tr th {\n",
       "        vertical-align: top;\n",
       "    }\n",
       "\n",
       "    .dataframe thead th {\n",
       "        text-align: right;\n",
       "    }\n",
       "</style>\n",
       "<table border=\"1\" class=\"dataframe\">\n",
       "  <thead>\n",
       "    <tr style=\"text-align: right;\">\n",
       "      <th></th>\n",
       "      <th>0</th>\n",
       "      <th>1</th>\n",
       "      <th>2</th>\n",
       "      <th>3</th>\n",
       "      <th>4</th>\n",
       "      <th>5</th>\n",
       "      <th>6</th>\n",
       "      <th>7</th>\n",
       "      <th>8</th>\n",
       "      <th>9</th>\n",
       "      <th>...</th>\n",
       "      <th>27</th>\n",
       "      <th>28</th>\n",
       "      <th>29</th>\n",
       "      <th>30</th>\n",
       "      <th>31</th>\n",
       "      <th>32</th>\n",
       "      <th>33</th>\n",
       "      <th>34</th>\n",
       "      <th>35</th>\n",
       "      <th>36</th>\n",
       "    </tr>\n",
       "  </thead>\n",
       "  <tbody>\n",
       "    <tr>\n",
       "      <th>0</th>\n",
       "      <td>80</td>\n",
       "      <td>102</td>\n",
       "      <td>102</td>\n",
       "      <td>79</td>\n",
       "      <td>76</td>\n",
       "      <td>102</td>\n",
       "      <td>102</td>\n",
       "      <td>79</td>\n",
       "      <td>76</td>\n",
       "      <td>102</td>\n",
       "      <td>...</td>\n",
       "      <td>87</td>\n",
       "      <td>79</td>\n",
       "      <td>107</td>\n",
       "      <td>109</td>\n",
       "      <td>87</td>\n",
       "      <td>79</td>\n",
       "      <td>107</td>\n",
       "      <td>113</td>\n",
       "      <td>87</td>\n",
       "      <td>3</td>\n",
       "    </tr>\n",
       "    <tr>\n",
       "      <th>1</th>\n",
       "      <td>76</td>\n",
       "      <td>102</td>\n",
       "      <td>102</td>\n",
       "      <td>79</td>\n",
       "      <td>76</td>\n",
       "      <td>102</td>\n",
       "      <td>106</td>\n",
       "      <td>83</td>\n",
       "      <td>76</td>\n",
       "      <td>102</td>\n",
       "      <td>...</td>\n",
       "      <td>87</td>\n",
       "      <td>79</td>\n",
       "      <td>107</td>\n",
       "      <td>113</td>\n",
       "      <td>87</td>\n",
       "      <td>79</td>\n",
       "      <td>103</td>\n",
       "      <td>104</td>\n",
       "      <td>83</td>\n",
       "      <td>3</td>\n",
       "    </tr>\n",
       "    <tr>\n",
       "      <th>2</th>\n",
       "      <td>80</td>\n",
       "      <td>98</td>\n",
       "      <td>106</td>\n",
       "      <td>79</td>\n",
       "      <td>76</td>\n",
       "      <td>94</td>\n",
       "      <td>102</td>\n",
       "      <td>76</td>\n",
       "      <td>76</td>\n",
       "      <td>94</td>\n",
       "      <td>...</td>\n",
       "      <td>79</td>\n",
       "      <td>79</td>\n",
       "      <td>95</td>\n",
       "      <td>100</td>\n",
       "      <td>79</td>\n",
       "      <td>79</td>\n",
       "      <td>95</td>\n",
       "      <td>96</td>\n",
       "      <td>75</td>\n",
       "      <td>4</td>\n",
       "    </tr>\n",
       "    <tr>\n",
       "      <th>3</th>\n",
       "      <td>76</td>\n",
       "      <td>94</td>\n",
       "      <td>102</td>\n",
       "      <td>76</td>\n",
       "      <td>76</td>\n",
       "      <td>94</td>\n",
       "      <td>102</td>\n",
       "      <td>76</td>\n",
       "      <td>76</td>\n",
       "      <td>94</td>\n",
       "      <td>...</td>\n",
       "      <td>79</td>\n",
       "      <td>79</td>\n",
       "      <td>95</td>\n",
       "      <td>96</td>\n",
       "      <td>75</td>\n",
       "      <td>79</td>\n",
       "      <td>95</td>\n",
       "      <td>100</td>\n",
       "      <td>75</td>\n",
       "      <td>4</td>\n",
       "    </tr>\n",
       "    <tr>\n",
       "      <th>4</th>\n",
       "      <td>76</td>\n",
       "      <td>94</td>\n",
       "      <td>102</td>\n",
       "      <td>76</td>\n",
       "      <td>76</td>\n",
       "      <td>94</td>\n",
       "      <td>102</td>\n",
       "      <td>76</td>\n",
       "      <td>76</td>\n",
       "      <td>89</td>\n",
       "      <td>...</td>\n",
       "      <td>75</td>\n",
       "      <td>79</td>\n",
       "      <td>95</td>\n",
       "      <td>100</td>\n",
       "      <td>75</td>\n",
       "      <td>75</td>\n",
       "      <td>95</td>\n",
       "      <td>100</td>\n",
       "      <td>79</td>\n",
       "      <td>4</td>\n",
       "    </tr>\n",
       "    <tr>\n",
       "      <th>...</th>\n",
       "      <td>...</td>\n",
       "      <td>...</td>\n",
       "      <td>...</td>\n",
       "      <td>...</td>\n",
       "      <td>...</td>\n",
       "      <td>...</td>\n",
       "      <td>...</td>\n",
       "      <td>...</td>\n",
       "      <td>...</td>\n",
       "      <td>...</td>\n",
       "      <td>...</td>\n",
       "      <td>...</td>\n",
       "      <td>...</td>\n",
       "      <td>...</td>\n",
       "      <td>...</td>\n",
       "      <td>...</td>\n",
       "      <td>...</td>\n",
       "      <td>...</td>\n",
       "      <td>...</td>\n",
       "      <td>...</td>\n",
       "      <td>...</td>\n",
       "    </tr>\n",
       "    <tr>\n",
       "      <th>1995</th>\n",
       "      <td>60</td>\n",
       "      <td>83</td>\n",
       "      <td>96</td>\n",
       "      <td>85</td>\n",
       "      <td>64</td>\n",
       "      <td>87</td>\n",
       "      <td>100</td>\n",
       "      <td>88</td>\n",
       "      <td>64</td>\n",
       "      <td>83</td>\n",
       "      <td>...</td>\n",
       "      <td>92</td>\n",
       "      <td>66</td>\n",
       "      <td>87</td>\n",
       "      <td>108</td>\n",
       "      <td>89</td>\n",
       "      <td>63</td>\n",
       "      <td>83</td>\n",
       "      <td>104</td>\n",
       "      <td>85</td>\n",
       "      <td>1</td>\n",
       "    </tr>\n",
       "    <tr>\n",
       "      <th>1996</th>\n",
       "      <td>64</td>\n",
       "      <td>79</td>\n",
       "      <td>100</td>\n",
       "      <td>85</td>\n",
       "      <td>56</td>\n",
       "      <td>71</td>\n",
       "      <td>96</td>\n",
       "      <td>85</td>\n",
       "      <td>56</td>\n",
       "      <td>68</td>\n",
       "      <td>...</td>\n",
       "      <td>85</td>\n",
       "      <td>66</td>\n",
       "      <td>83</td>\n",
       "      <td>100</td>\n",
       "      <td>85</td>\n",
       "      <td>63</td>\n",
       "      <td>83</td>\n",
       "      <td>100</td>\n",
       "      <td>81</td>\n",
       "      <td>1</td>\n",
       "    </tr>\n",
       "    <tr>\n",
       "      <th>1997</th>\n",
       "      <td>56</td>\n",
       "      <td>68</td>\n",
       "      <td>91</td>\n",
       "      <td>81</td>\n",
       "      <td>56</td>\n",
       "      <td>64</td>\n",
       "      <td>91</td>\n",
       "      <td>81</td>\n",
       "      <td>53</td>\n",
       "      <td>64</td>\n",
       "      <td>...</td>\n",
       "      <td>81</td>\n",
       "      <td>59</td>\n",
       "      <td>87</td>\n",
       "      <td>96</td>\n",
       "      <td>81</td>\n",
       "      <td>63</td>\n",
       "      <td>83</td>\n",
       "      <td>92</td>\n",
       "      <td>74</td>\n",
       "      <td>5</td>\n",
       "    </tr>\n",
       "    <tr>\n",
       "      <th>1998</th>\n",
       "      <td>56</td>\n",
       "      <td>68</td>\n",
       "      <td>87</td>\n",
       "      <td>74</td>\n",
       "      <td>60</td>\n",
       "      <td>71</td>\n",
       "      <td>91</td>\n",
       "      <td>81</td>\n",
       "      <td>60</td>\n",
       "      <td>64</td>\n",
       "      <td>...</td>\n",
       "      <td>74</td>\n",
       "      <td>59</td>\n",
       "      <td>83</td>\n",
       "      <td>92</td>\n",
       "      <td>74</td>\n",
       "      <td>59</td>\n",
       "      <td>83</td>\n",
       "      <td>92</td>\n",
       "      <td>70</td>\n",
       "      <td>5</td>\n",
       "    </tr>\n",
       "    <tr>\n",
       "      <th>1999</th>\n",
       "      <td>60</td>\n",
       "      <td>71</td>\n",
       "      <td>91</td>\n",
       "      <td>81</td>\n",
       "      <td>60</td>\n",
       "      <td>64</td>\n",
       "      <td>104</td>\n",
       "      <td>99</td>\n",
       "      <td>56</td>\n",
       "      <td>64</td>\n",
       "      <td>...</td>\n",
       "      <td>74</td>\n",
       "      <td>59</td>\n",
       "      <td>83</td>\n",
       "      <td>92</td>\n",
       "      <td>70</td>\n",
       "      <td>63</td>\n",
       "      <td>79</td>\n",
       "      <td>108</td>\n",
       "      <td>92</td>\n",
       "      <td>5</td>\n",
       "    </tr>\n",
       "  </tbody>\n",
       "</table>\n",
       "<p>2000 rows × 37 columns</p>\n",
       "</div>"
      ],
      "text/plain": [
       "      0    1    2   3   4    5    6   7   8    9   ...  27  28   29   30  31  \\\n",
       "0     80  102  102  79  76  102  102  79  76  102  ...  87  79  107  109  87   \n",
       "1     76  102  102  79  76  102  106  83  76  102  ...  87  79  107  113  87   \n",
       "2     80   98  106  79  76   94  102  76  76   94  ...  79  79   95  100  79   \n",
       "3     76   94  102  76  76   94  102  76  76   94  ...  79  79   95   96  75   \n",
       "4     76   94  102  76  76   94  102  76  76   89  ...  75  79   95  100  75   \n",
       "...   ..  ...  ...  ..  ..  ...  ...  ..  ..  ...  ...  ..  ..  ...  ...  ..   \n",
       "1995  60   83   96  85  64   87  100  88  64   83  ...  92  66   87  108  89   \n",
       "1996  64   79  100  85  56   71   96  85  56   68  ...  85  66   83  100  85   \n",
       "1997  56   68   91  81  56   64   91  81  53   64  ...  81  59   87   96  81   \n",
       "1998  56   68   87  74  60   71   91  81  60   64  ...  74  59   83   92  74   \n",
       "1999  60   71   91  81  60   64  104  99  56   64  ...  74  59   83   92  70   \n",
       "\n",
       "      32   33   34  35  36  \n",
       "0     79  107  113  87   3  \n",
       "1     79  103  104  83   3  \n",
       "2     79   95   96  75   4  \n",
       "3     79   95  100  75   4  \n",
       "4     75   95  100  79   4  \n",
       "...   ..  ...  ...  ..  ..  \n",
       "1995  63   83  104  85   1  \n",
       "1996  63   83  100  81   1  \n",
       "1997  63   83   92  74   5  \n",
       "1998  59   83   92  70   5  \n",
       "1999  63   79  108  92   5  \n",
       "\n",
       "[2000 rows x 37 columns]"
      ]
     },
     "execution_count": 5,
     "metadata": {},
     "output_type": "execute_result"
    }
   ],
   "source": [
    "test_data"
   ]
  },
  {
   "cell_type": "code",
   "execution_count": 6,
   "id": "ce7ddc8d-8642-4e3d-989d-f5a50e161fef",
   "metadata": {},
   "outputs": [
    {
     "data": {
      "text/plain": [
       "((4435, 37), (2000, 37))"
      ]
     },
     "execution_count": 6,
     "metadata": {},
     "output_type": "execute_result"
    }
   ],
   "source": [
    "train_data.shape, test_data.shape"
   ]
  },
  {
   "cell_type": "code",
   "execution_count": 7,
   "id": "2d958c4b-6f57-44b3-a745-6941e34dd739",
   "metadata": {},
   "outputs": [
    {
     "name": "stdout",
     "output_type": "stream",
     "text": [
      "Tamanho da partição de treino: 0.69\n"
     ]
    }
   ],
   "source": [
    "train_size = train_data.shape[0]/(train_data.shape[0] + test_data.shape[0])\n",
    "print(f'Tamanho da partição de treino: {round(train_size, 2)}')"
   ]
  },
  {
   "cell_type": "markdown",
   "id": "481a1ef4-9562-4b9d-8517-42b3907a82df",
   "metadata": {},
   "source": [
    "---"
   ]
  },
  {
   "cell_type": "markdown",
   "id": "417d7930-75c7-4af4-b5ff-5beef8b9189e",
   "metadata": {},
   "source": [
    "# OPF Supervisionado"
   ]
  },
  {
   "cell_type": "code",
   "execution_count": 8,
   "id": "c090d36d-328f-46b0-b528-d555b11fc2ea",
   "metadata": {},
   "outputs": [],
   "source": [
    "# Importando o OPF supervisionado para classificação\n",
    "from opfython.models.supervised import SupervisedOPF\n",
    "\n",
    "# Para não ficar mostrando um monte de logs\n",
    "import logging\n",
    "logging.disable()"
   ]
  },
  {
   "cell_type": "markdown",
   "id": "0239580d-4b19-46d1-abbc-840f5f167368",
   "metadata": {},
   "source": [
    "## Particionando o dataset"
   ]
  },
  {
   "cell_type": "code",
   "execution_count": 9,
   "id": "bafd45ad-d327-4d1a-ac6d-c7ee3fa1002a",
   "metadata": {},
   "outputs": [],
   "source": [
    "X_train = np.array(train_data.iloc[:,:-1])\n",
    "X_test = np.array(test_data.iloc[:,:-1])"
   ]
  },
  {
   "cell_type": "code",
   "execution_count": 10,
   "id": "491b9ab5-89e6-4746-83aa-73c4242cea85",
   "metadata": {},
   "outputs": [],
   "source": [
    "Y_train = train_data.iloc[:,-1]\n",
    "Y_test = test_data.iloc[:,-1]"
   ]
  },
  {
   "cell_type": "code",
   "execution_count": 11,
   "id": "3b9280a6-06c6-4328-a297-4fa15cd0e835",
   "metadata": {},
   "outputs": [
    {
     "data": {
      "text/plain": [
       "(array([1, 2, 3, 4, 5, 7]), array([1, 2, 3, 4, 5, 7]))"
      ]
     },
     "execution_count": 11,
     "metadata": {},
     "output_type": "execute_result"
    }
   ],
   "source": [
    "np.unique(Y_train), np.unique(Y_test)"
   ]
  },
  {
   "cell_type": "markdown",
   "id": "e9cdbfc0-b577-47a2-9fdf-77d34c544916",
   "metadata": {},
   "source": [
    "## Classificando"
   ]
  },
  {
   "cell_type": "code",
   "execution_count": 12,
   "id": "fd07aea8-33c8-49b9-abfd-0b7176599510",
   "metadata": {},
   "outputs": [],
   "source": [
    "# Cria uma instancia do OPF supervisionado\n",
    "opf = SupervisedOPF()\n",
    "\n",
    "# Ajusta o classificador considerando o conjunto de treinamento\n",
    "opf.fit(X_train, Y_train.values)\n",
    "\n",
    "# Predição no conjunto de testes\n",
    "preds = opf.predict(X_test)"
   ]
  },
  {
   "cell_type": "markdown",
   "id": "cdbe3d09-8164-479d-a227-84c131b846a1",
   "metadata": {},
   "source": [
    "### Confrontando os resultados"
   ]
  },
  {
   "cell_type": "code",
   "execution_count": 13,
   "id": "3979cea1-7608-471b-8fd7-ef27013b3092",
   "metadata": {},
   "outputs": [],
   "source": [
    "from sklearn.metrics import classification_report\n",
    "from sklearn.metrics import confusion_matrix\n",
    "import opfython.math.general as g"
   ]
  },
  {
   "cell_type": "code",
   "execution_count": 14,
   "id": "d39c37f0-49a5-494f-b8b9-2ada696aa0ed",
   "metadata": {},
   "outputs": [
    {
     "name": "stdout",
     "output_type": "stream",
     "text": [
      "              precision    recall  f1-score   support\n",
      "\n",
      "           1       0.98      0.98      0.98       461\n",
      "           2       0.96      0.95      0.95       224\n",
      "           3       0.87      0.87      0.87       397\n",
      "           4       0.65      0.68      0.66       211\n",
      "           5       0.90      0.89      0.89       237\n",
      "           7       0.88      0.87      0.87       470\n",
      "\n",
      "    accuracy                           0.89      2000\n",
      "   macro avg       0.87      0.87      0.87      2000\n",
      "weighted avg       0.89      0.89      0.89      2000\n",
      "\n"
     ]
    }
   ],
   "source": [
    "print(classification_report(Y_test, preds))"
   ]
  },
  {
   "cell_type": "code",
   "execution_count": 16,
   "id": "3e701a24-70e0-4644-82fa-28260ad80a4b",
   "metadata": {},
   "outputs": [
    {
     "data": {
      "image/png": "[encoded data removed]",
      "text/plain": [
       "<Figure size 432x288 with 2 Axes>"
      ]
     },
     "metadata": {},
     "output_type": "display_data"
    }
   ],
   "source": [
    "y_mat = Y_test\n",
    "mat = confusion_matrix(y_mat, preds)\n",
    "sns.heatmap(mat.T, square=True, annot=True, fmt='d', cbar=True,\n",
    "            xticklabels=np.unique(y_mat),\n",
    "            yticklabels=np.unique(preds),\n",
    "            cmap=plt.cm.Blues)\n",
    "plt.xlabel('Classes Reais')\n",
    "plt.ylabel('Classes Preditas');"
   ]
  },
  {
   "cell_type": "code",
   "execution_count": 18,
   "id": "ea8f6de4-3681-4dcd-be49-5a085717639e",
   "metadata": {},
   "outputs": [
    {
     "name": "stdout",
     "output_type": "stream",
     "text": [
      "Accuracy: 0.94\n"
     ]
    }
   ],
   "source": [
    "# Teste de acurácia\n",
    "acc = g.opf_accuracy(Y_test, preds)\n",
    "\n",
    "print(f'Accuracy: {round(acc, 2)}')"
   ]
  },
  {
   "cell_type": "markdown",
   "id": "eea435b3-9c0e-4208-85b4-0751be4ecb89",
   "metadata": {},
   "source": [
    "---"
   ]
  },
  {
   "cell_type": "markdown",
   "id": "4712ed92-d526-4f0b-ab4a-ae85dd1dd935",
   "metadata": {},
   "source": [
    "# OPF não supervisionado"
   ]
  },
  {
   "cell_type": "code",
   "execution_count": 19,
   "id": "1a53b35b-775e-4b67-931e-e5916447770b",
   "metadata": {},
   "outputs": [],
   "source": [
    "import opfython.stream.parser as p\n",
    "from opfython.models import UnsupervisedOPF"
   ]
  },
  {
   "cell_type": "markdown",
   "id": "6b1072f9-1a18-4814-aabe-c276f3db1eac",
   "metadata": {},
   "source": [
    "Métrics de distância:  \n",
    "['additive_symmetric', 'average_euclidean', 'bhattacharyya', 'bray_curtis',\n",
    "'canberra', 'chebyshev', 'chi_squared', 'chord', 'clark', 'cosine', 'dice',\n",
    "'divergence', 'euclidean', 'gaussian', 'gower', 'hamming', 'hassanat', 'hellinger',\n",
    "'jaccard', 'jeffreys', 'jensen', 'jensen_shannon', 'k_divergence', 'kulczynski',\n",
    "'kullback_leibler', 'log_euclidean', 'log_squared_euclidean', 'lorentzian',\n",
    "'manhattan', 'matusita', 'max_symmetric', 'mean_censored_euclidean', 'min_symmetric',\n",
    "'neyman', 'non_intersection', 'pearson', 'sangvi', 'soergel', 'squared', 'squared_chord',\n",
    "'squared_euclidean', 'statistic', 'topsoe', 'vicis_symmetric1', 'vicis_symmetric2',\n",
    "'vicis_symmetric3', 'vicis_wave_hedges']"
   ]
  },
  {
   "cell_type": "code",
   "execution_count": 94,
   "id": "74e59bcb-387f-4565-9943-f5ee0646def3",
   "metadata": {},
   "outputs": [],
   "source": [
    "# Cria uma instância do opf não supervisionado\n",
    "opf = UnsupervisedOPF(min_k=10, max_k=60)"
   ]
  },
  {
   "cell_type": "code",
   "execution_count": 95,
   "id": "db720c98-cb4f-4eed-aa79-03590fda63e3",
   "metadata": {},
   "outputs": [
    {
     "data": {
      "text/plain": [
       "(numpy.ndarray, pandas.core.series.Series)"
      ]
     },
     "execution_count": 95,
     "metadata": {},
     "output_type": "execute_result"
    }
   ],
   "source": [
    "type(X_train), type(Y_train)"
   ]
  },
  {
   "cell_type": "code",
   "execution_count": 96,
   "id": "e69f1562-6dbd-4db9-922e-525e51cf930f",
   "metadata": {},
   "outputs": [],
   "source": [
    "X_train = X_train.astype(float)\n",
    "X_test = X_test.astype(float)"
   ]
  },
  {
   "cell_type": "code",
   "execution_count": 97,
   "id": "16dc4403-9dc3-49c0-a6d7-dca1a61577c0",
   "metadata": {},
   "outputs": [
    {
     "data": {
      "text/plain": [
       "(numpy.float64, numpy.int64)"
      ]
     },
     "execution_count": 97,
     "metadata": {},
     "output_type": "execute_result"
    }
   ],
   "source": [
    "type(X_train[0][0]), type(Y_train[0])"
   ]
  },
  {
   "cell_type": "code",
   "execution_count": 98,
   "id": "26035f52-34b6-4cf3-87fc-b6a0f42f617f",
   "metadata": {},
   "outputs": [],
   "source": [
    "# Ajusta o modelo aos dados\n",
    "opf.fit(X_train, Y_train.values)"
   ]
  },
  {
   "cell_type": "code",
   "execution_count": 99,
   "id": "c5612ed6-920e-46b2-938a-58a988204f2b",
   "metadata": {},
   "outputs": [],
   "source": [
    "# Se os dados estiverem rotulados, propaga o rótulo real de cada protótipo para todas as amostras por ele\n",
    "#   conquistadas\n",
    "opf.propagate_labels()"
   ]
  },
  {
   "cell_type": "code",
   "execution_count": 100,
   "id": "dd54fa14-b0bd-4de0-8e5a-2a9090e8fcf3",
   "metadata": {},
   "outputs": [
    {
     "name": "stdout",
     "output_type": "stream",
     "text": [
      "Número de agrupamentos =  16\n"
     ]
    }
   ],
   "source": [
    "# faz a estimativa dos rótulos baseado no agrupamento\n",
    "preds, clusters = opf.predict(X_test)\n",
    "\n",
    "print('Número de agrupamentos = ',len(np.unique(clusters)))"
   ]
  },
  {
   "cell_type": "code",
   "execution_count": 101,
   "id": "bd8922ac-35ca-46b4-9887-8942c62beb29",
   "metadata": {},
   "outputs": [
    {
     "data": {
      "text/plain": [
       "array([1, 2, 3, 4, 5, 7])"
      ]
     },
     "execution_count": 101,
     "metadata": {},
     "output_type": "execute_result"
    }
   ],
   "source": [
    "np.unique(preds)"
   ]
  },
  {
   "cell_type": "markdown",
   "id": "05619a09-8fbf-4d03-b7e8-ec48b35c7103",
   "metadata": {},
   "source": [
    "## Confrontando os resultados"
   ]
  },
  {
   "cell_type": "code",
   "execution_count": 102,
   "id": "ccc5c497-7037-4749-b351-5fa29d37ff56",
   "metadata": {},
   "outputs": [
    {
     "name": "stdout",
     "output_type": "stream",
     "text": [
      "              precision    recall  f1-score   support\n",
      "\n",
      "           1       0.94      0.98      0.96       461\n",
      "           2       0.99      0.87      0.93       224\n",
      "           3       0.92      0.73      0.81       397\n",
      "           4       0.41      0.79      0.54       211\n",
      "           5       0.93      0.62      0.74       237\n",
      "           7       0.79      0.75      0.77       470\n",
      "\n",
      "    accuracy                           0.80      2000\n",
      "   macro avg       0.83      0.79      0.79      2000\n",
      "weighted avg       0.85      0.80      0.81      2000\n",
      "\n"
     ]
    }
   ],
   "source": [
    "print(classification_report(Y_test, preds))"
   ]
  },
  {
   "cell_type": "code",
   "execution_count": 103,
   "id": "483ae8db-d58e-4348-b3c4-a712e9d24a4b",
   "metadata": {},
   "outputs": [
    {
     "data": {
      "image/png": "[encoded data removed]",
      "text/plain": [
       "<Figure size 432x288 with 2 Axes>"
      ]
     },
     "metadata": {},
     "output_type": "display_data"
    }
   ],
   "source": [
    "y_mat = Y_test\n",
    "mat = confusion_matrix(y_mat, preds)\n",
    "sns.heatmap(mat.T, square=True, annot=True, fmt='d', cbar=True,\n",
    "            xticklabels=np.unique(y_mat),\n",
    "            yticklabels=np.unique(preds),\n",
    "            cmap=plt.cm.Blues)\n",
    "plt.xlabel('Classes Reais')\n",
    "plt.ylabel('Classes Preditas');"
   ]
  },
  {
   "cell_type": "code",
   "execution_count": 104,
   "id": "e0114a01-55ee-4f49-a0de-7c7069c107a3",
   "metadata": {},
   "outputs": [
    {
     "name": "stdout",
     "output_type": "stream",
     "text": [
      "Accuracy: 0.91\n"
     ]
    },
    {
     "name": "stderr",
     "output_type": "stream",
     "text": [
      "/home/luis/anaconda3/lib/python3.8/site-packages/opfython/math/general.py:97: RuntimeWarning: invalid value encountered in true_divide\n",
      "  errors[:, 1] /= counts\n"
     ]
    }
   ],
   "source": [
    "# Teste de acurácia\n",
    "acc = g.opf_accuracy(Y_test, preds)\n",
    "\n",
    "print(f'Accuracy: {round(acc, 2)}')"
   ]
  },
  {
   "cell_type": "markdown",
   "id": "bc8c23a5-03a7-42ad-8db2-49d1bc8ce0a3",
   "metadata": {},
   "source": [
    "---"
   ]
  }
 ],
 "metadata": {
  "kernelspec": {
   "display_name": "Python 3 (ipykernel)",
   "language": "python",
   "name": "python3"
  },
  "language_info": {
   "codemirror_mode": {
    "name": "ipython",
    "version": 3
   },
   "file_extension": ".py",
   "mimetype": "text/x-python",
   "name": "python",
   "nbconvert_exporter": "python",
   "pygments_lexer": "ipython3",
   "version": "3.8.12"
  }
 },
 "nbformat": 4,
 "nbformat_minor": 5
}
