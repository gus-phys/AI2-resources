{
 "cells": [
  {
   "cell_type": "markdown",
   "id": "YOYFj9e1aVqv",
   "metadata": {
    "id": "YOYFj9e1aVqv",
    "tags": []
   },
   "source": [
    "# Graph Convolutional Networks (GCN)\n",
    "\n",
    "Ref: https://antonsruberts.github.io/graph/gcn/"
   ]
  },
  {
   "cell_type": "markdown",
   "id": "9e1ebbbd",
   "metadata": {},
   "source": [
    "Nesse notebook será usado o pacote `stellargraph` [(docs)](https://stellargraph.readthedocs.io/en/stable/) e sua implementação de GCN. Os autores fornecem um bom exemplo de aplicacao usando jupyter [aqui](https://stellargraph.readthedocs.io/en/stable/demos/node-classification/gcn-node-classification.html)."
   ]
  },
  {
   "cell_type": "markdown",
   "id": "74484f20",
   "metadata": {
    "id": "74484f20"
   },
   "source": [
    "## Importando os pacotes"
   ]
  },
  {
   "cell_type": "code",
   "execution_count": 1,
   "id": "sfWNxymIs3sd",
   "metadata": {
    "executionInfo": {
     "elapsed": 213,
     "status": "ok",
     "timestamp": 1637948387227,
     "user": {
      "displayName": "Leandro Aparecido Passos Junior",
      "photoUrl": "https://lh3.googleusercontent.com/a-/AOh14GjWN5bnCD7fe4ZMPaTK9SzkJkT7R3lpcG3v25i3=s64",
      "userId": "02885182476554207063"
     },
     "user_tz": 0
    },
    "id": "sfWNxymIs3sd"
   },
   "outputs": [],
   "source": [
    "# !pip install stellargraph\n",
    "# !pip uninstall umap -y\n",
    "# !pip install umap-learn"
   ]
  },
  {
   "cell_type": "code",
   "execution_count": 2,
   "id": "961d4fb9",
   "metadata": {
    "id": "961d4fb9"
   },
   "outputs": [
    {
     "name": "stderr",
     "output_type": "stream",
     "text": [
      "2022-02-08 15:37:32.359541: I tensorflow/stream_executor/cuda/cuda_gpu_executor.cc:936] successful NUMA node read from SysFS had negative value (-1), but there must be at least one NUMA node, so returning NUMA node zero\n",
      "2022-02-08 15:37:32.366479: I tensorflow/stream_executor/cuda/cuda_gpu_executor.cc:936] successful NUMA node read from SysFS had negative value (-1), but there must be at least one NUMA node, so returning NUMA node zero\n",
      "2022-02-08 15:37:32.366908: I tensorflow/stream_executor/cuda/cuda_gpu_executor.cc:936] successful NUMA node read from SysFS had negative value (-1), but there must be at least one NUMA node, so returning NUMA node zero\n",
      "2022-02-08 15:37:32.368013: I tensorflow/core/platform/cpu_feature_guard.cc:151] This TensorFlow binary is optimized with oneAPI Deep Neural Network Library (oneDNN) to use the following CPU instructions in performance-critical operations:  AVX2 FMA\n",
      "To enable them in other operations, rebuild TensorFlow with the appropriate compiler flags.\n",
      "2022-02-08 15:37:32.368500: I tensorflow/stream_executor/cuda/cuda_gpu_executor.cc:936] successful NUMA node read from SysFS had negative value (-1), but there must be at least one NUMA node, so returning NUMA node zero\n",
      "2022-02-08 15:37:32.368847: I tensorflow/stream_executor/cuda/cuda_gpu_executor.cc:936] successful NUMA node read from SysFS had negative value (-1), but there must be at least one NUMA node, so returning NUMA node zero\n",
      "2022-02-08 15:37:32.369160: I tensorflow/stream_executor/cuda/cuda_gpu_executor.cc:936] successful NUMA node read from SysFS had negative value (-1), but there must be at least one NUMA node, so returning NUMA node zero\n",
      "2022-02-08 15:37:32.784468: I tensorflow/stream_executor/cuda/cuda_gpu_executor.cc:936] successful NUMA node read from SysFS had negative value (-1), but there must be at least one NUMA node, so returning NUMA node zero\n",
      "2022-02-08 15:37:32.784812: I tensorflow/stream_executor/cuda/cuda_gpu_executor.cc:936] successful NUMA node read from SysFS had negative value (-1), but there must be at least one NUMA node, so returning NUMA node zero\n",
      "2022-02-08 15:37:32.785087: I tensorflow/stream_executor/cuda/cuda_gpu_executor.cc:936] successful NUMA node read from SysFS had negative value (-1), but there must be at least one NUMA node, so returning NUMA node zero\n",
      "2022-02-08 15:37:32.785424: I tensorflow/core/common_runtime/gpu/gpu_device.cc:1525] Created device /job:localhost/replica:0/task:0/device:GPU:0 with 4219 MB memory:  -> device: 0, name: NVIDIA GeForce GTX 1660 Ti with Max-Q Design, pci bus id: 0000:01:00.0, compute capability: 7.5\n"
     ]
    }
   ],
   "source": [
    "import pandas as pd\n",
    "from tqdm.notebook import tqdm\n",
    "import json\n",
    "import os\n",
    "import umap.umap_ as umap\n",
    "import numpy as np\n",
    "import scipy.sparse as sp\n",
    "from sklearn.model_selection import train_test_split\n",
    "from sklearn.preprocessing import LabelBinarizer\n",
    "from sklearn.metrics import f1_score, roc_auc_score, average_precision_score, confusion_matrix\n",
    "\n",
    "import warnings\n",
    "warnings.filterwarnings('ignore')\n",
    "import stellargraph as sg\n",
    "from stellargraph.mapper import FullBatchNodeGenerator\n",
    "from stellargraph.layer import GCN\n",
    "\n",
    "import tensorflow as tf\n",
    "from tensorflow.keras import backend as K\n",
    "from tensorflow.keras import activations, initializers, constraints, regularizers\n",
    "from tensorflow.keras.layers import Input, Layer, Lambda, Dropout, Reshape, Dense\n",
    "from tensorflow.keras.callbacks import EarlyStopping\n",
    "\n",
    "from tensorflow.keras import layers, optimizers, losses, metrics, Model\n",
    "import matplotlib.pyplot as plt\n",
    "import seaborn as sns\n",
    "%matplotlib inline"
   ]
  },
  {
   "cell_type": "code",
   "execution_count": 3,
   "id": "20cb37e7-6e1a-4729-b994-5b369d4c6d4f",
   "metadata": {},
   "outputs": [],
   "source": [
    "# gpu_devices = tf.config.experimental.list_physical_devices('GPU')\n",
    "# for device in gpu_devices:\n",
    "#     tf.config.experimental.set_memory_growth(device, True)"
   ]
  },
  {
   "cell_type": "code",
   "execution_count": 4,
   "id": "19a98e3c-9bb8-4b29-bc95-1d8bccd8a3b0",
   "metadata": {},
   "outputs": [
    {
     "name": "stdout",
     "output_type": "stream",
     "text": [
      "Num GPUs Available:  1\n"
     ]
    }
   ],
   "source": [
    "if tf.test.is_built_with_cuda():\n",
    "    print(\"Num GPUs Available: \", len(tf.config.list_physical_devices('GPU')))\n",
    "else:\n",
    "    print(\"TensorFlow wasn't built with CUDA (GPU) support\")"
   ]
  },
  {
   "cell_type": "markdown",
   "id": "83e91a02",
   "metadata": {
    "id": "83e91a02"
   },
   "source": [
    "## Dados\n",
    "---\n",
    "\n",
    "Vamos começar baixando o dataset de usuários do github, disponível [aqui](https://snap.stanford.edu/data/github-social.html).\n",
    "Usaremos o dataset para classificar se o usuário é desenvolvedor web ou de ML.\n",
    "Nesse dataset, os nós representam usuários do github que deram estrela para mais de 10 repositórios, as arestas representam seguidores em comum, e as características representam a localização, repositórios com estrelas, empregador e email."
   ]
  },
  {
   "cell_type": "markdown",
   "id": "3f32a2be",
   "metadata": {
    "id": "3f32a2be"
   },
   "source": [
    "### Baixando e extraindo o dataset"
   ]
  },
  {
   "cell_type": "code",
   "execution_count": 5,
   "id": "31ab3408",
   "metadata": {
    "id": "31ab3408"
   },
   "outputs": [
    {
     "name": "stdout",
     "output_type": "stream",
     "text": [
      "File ‘git_web_ml.zip’ already there; not retrieving.\n",
      "\n",
      "Archive:  git_web_ml.zip\n",
      "  inflating: git_web_ml/musae_git_edges.csv  \n",
      "  inflating: git_web_ml/musae_git_features.json  \n",
      "  inflating: git_web_ml/musae_git_target.csv  \n",
      "  inflating: git_web_ml/citing.txt   \n",
      "  inflating: git_web_ml/README.txt   \n"
     ]
    }
   ],
   "source": [
    "!wget -nc \"https://snap.stanford.edu/data/git_web_ml.zip\"\n",
    "!unzip -o git_web_ml.zip"
   ]
  },
  {
   "cell_type": "markdown",
   "id": "d444e116",
   "metadata": {
    "id": "d444e116"
   },
   "source": [
    "### Lendo as arestas, caracteristicas e rotulos"
   ]
  },
  {
   "cell_type": "code",
   "execution_count": 6,
   "id": "c821bbc4",
   "metadata": {
    "id": "c821bbc4"
   },
   "outputs": [],
   "source": [
    "edges_path = './git_web_ml/musae_git_edges.csv'\n",
    "targets_path = './git_web_ml/musae_git_target.csv'\n",
    "features_path = './git_web_ml/musae_git_features.json'"
   ]
  },
  {
   "cell_type": "markdown",
   "id": "Wy4Snj73pBMk",
   "metadata": {
    "id": "Wy4Snj73pBMk"
   },
   "source": [
    "### definindo um numero menor de amostras\n",
    "\n",
    "Farei isso para treinar mais rapidamente e evitar erro de crash de memoria "
   ]
  },
  {
   "cell_type": "code",
   "execution_count": 7,
   "id": "6hawvYaBpCeP",
   "metadata": {
    "id": "6hawvYaBpCeP"
   },
   "outputs": [],
   "source": [
    "num_samples = 10000"
   ]
  },
  {
   "cell_type": "code",
   "execution_count": 8,
   "id": "8fb668bc",
   "metadata": {
    "executionInfo": {
     "elapsed": 207,
     "status": "ok",
     "timestamp": 1637948544006,
     "user": {
      "displayName": "Leandro Aparecido Passos Junior",
      "photoUrl": "https://lh3.googleusercontent.com/a-/AOh14GjWN5bnCD7fe4ZMPaTK9SzkJkT7R3lpcG3v25i3=s64",
      "userId": "02885182476554207063"
     },
     "user_tz": 0
    },
    "id": "8fb668bc"
   },
   "outputs": [
    {
     "data": {
      "text/plain": [
       "(289003, 2)"
      ]
     },
     "metadata": {},
     "output_type": "display_data"
    },
    {
     "data": {
      "text/html": [
       "<div>\n",
       "<style scoped>\n",
       "    .dataframe tbody tr th:only-of-type {\n",
       "        vertical-align: middle;\n",
       "    }\n",
       "\n",
       "    .dataframe tbody tr th {\n",
       "        vertical-align: top;\n",
       "    }\n",
       "\n",
       "    .dataframe thead th {\n",
       "        text-align: right;\n",
       "    }\n",
       "</style>\n",
       "<table border=\"1\" class=\"dataframe\">\n",
       "  <thead>\n",
       "    <tr style=\"text-align: right;\">\n",
       "      <th></th>\n",
       "      <th>source</th>\n",
       "      <th>target</th>\n",
       "    </tr>\n",
       "  </thead>\n",
       "  <tbody>\n",
       "    <tr>\n",
       "      <th>0</th>\n",
       "      <td>0</td>\n",
       "      <td>23977</td>\n",
       "    </tr>\n",
       "    <tr>\n",
       "      <th>1</th>\n",
       "      <td>1</td>\n",
       "      <td>34526</td>\n",
       "    </tr>\n",
       "    <tr>\n",
       "      <th>2</th>\n",
       "      <td>1</td>\n",
       "      <td>2370</td>\n",
       "    </tr>\n",
       "    <tr>\n",
       "      <th>3</th>\n",
       "      <td>1</td>\n",
       "      <td>14683</td>\n",
       "    </tr>\n",
       "    <tr>\n",
       "      <th>4</th>\n",
       "      <td>1</td>\n",
       "      <td>29982</td>\n",
       "    </tr>\n",
       "  </tbody>\n",
       "</table>\n",
       "</div>"
      ],
      "text/plain": [
       "   source  target\n",
       "0       0   23977\n",
       "1       1   34526\n",
       "2       1    2370\n",
       "3       1   14683\n",
       "4       1   29982"
      ]
     },
     "metadata": {},
     "output_type": "display_data"
    }
   ],
   "source": [
    "# lendo as arestas\n",
    "edges = pd.read_csv(edges_path)\n",
    "edges.columns = ['source', 'target'] # renaming for StellarGraph compatibility\n",
    "display(edges.shape, edges.head())"
   ]
  },
  {
   "cell_type": "code",
   "execution_count": 9,
   "id": "w30gLUnwv3BL",
   "metadata": {
    "executionInfo": {
     "elapsed": 212,
     "status": "ok",
     "timestamp": 1637948550485,
     "user": {
      "displayName": "Leandro Aparecido Passos Junior",
      "photoUrl": "https://lh3.googleusercontent.com/a-/AOh14GjWN5bnCD7fe4ZMPaTK9SzkJkT7R3lpcG3v25i3=s64",
      "userId": "02885182476554207063"
     },
     "user_tz": 0
    },
    "id": "w30gLUnwv3BL"
   },
   "outputs": [
    {
     "data": {
      "text/plain": [
       "(18057, 2)"
      ]
     },
     "metadata": {},
     "output_type": "display_data"
    },
    {
     "data": {
      "text/html": [
       "<div>\n",
       "<style scoped>\n",
       "    .dataframe tbody tr th:only-of-type {\n",
       "        vertical-align: middle;\n",
       "    }\n",
       "\n",
       "    .dataframe tbody tr th {\n",
       "        vertical-align: top;\n",
       "    }\n",
       "\n",
       "    .dataframe thead th {\n",
       "        text-align: right;\n",
       "    }\n",
       "</style>\n",
       "<table border=\"1\" class=\"dataframe\">\n",
       "  <thead>\n",
       "    <tr style=\"text-align: right;\">\n",
       "      <th></th>\n",
       "      <th>source</th>\n",
       "      <th>target</th>\n",
       "    </tr>\n",
       "  </thead>\n",
       "  <tbody>\n",
       "    <tr>\n",
       "      <th>2</th>\n",
       "      <td>1</td>\n",
       "      <td>2370</td>\n",
       "    </tr>\n",
       "    <tr>\n",
       "      <th>11</th>\n",
       "      <td>3</td>\n",
       "      <td>4950</td>\n",
       "    </tr>\n",
       "    <tr>\n",
       "      <th>13</th>\n",
       "      <td>3</td>\n",
       "      <td>3358</td>\n",
       "    </tr>\n",
       "    <tr>\n",
       "      <th>15</th>\n",
       "      <td>3</td>\n",
       "      <td>5916</td>\n",
       "    </tr>\n",
       "    <tr>\n",
       "      <th>16</th>\n",
       "      <td>4</td>\n",
       "      <td>2865</td>\n",
       "    </tr>\n",
       "  </tbody>\n",
       "</table>\n",
       "</div>"
      ],
      "text/plain": [
       "    source  target\n",
       "2        1    2370\n",
       "11       3    4950\n",
       "13       3    3358\n",
       "15       3    5916\n",
       "16       4    2865"
      ]
     },
     "metadata": {},
     "output_type": "display_data"
    }
   ],
   "source": [
    "edges = edges[edges['target'] <num_samples]\n",
    "edges = edges[edges['source'] <num_samples]\n",
    "display(edges.shape, edges.head())"
   ]
  },
  {
   "cell_type": "code",
   "execution_count": 10,
   "id": "5ce2de3f",
   "metadata": {
    "executionInfo": {
     "elapsed": 234,
     "status": "ok",
     "timestamp": 1637948558209,
     "user": {
      "displayName": "Leandro Aparecido Passos Junior",
      "photoUrl": "https://lh3.googleusercontent.com/a-/AOh14GjWN5bnCD7fe4ZMPaTK9SzkJkT7R3lpcG3v25i3=s64",
      "userId": "02885182476554207063"
     },
     "user_tz": 0
    },
    "id": "5ce2de3f"
   },
   "outputs": [
    {
     "data": {
      "application/vnd.jupyter.widget-view+json": {
       "model_id": "962c7c44031b49b9bf4c18bff0774861",
       "version_major": 2,
       "version_minor": 0
      },
      "text/plain": [
       "  0%|          | 0/37700 [00:00<?, ?it/s]"
      ]
     },
     "metadata": {},
     "output_type": "display_data"
    }
   ],
   "source": [
    "# lendo as caracteristicas\n",
    "with open(features_path) as json_data:\n",
    "    features = json.load(json_data)\n",
    "\n",
    "max_feature = np.max([v for v_list in features.values() for v in v_list])\n",
    "# features_matrix = np.zeros(shape = (len(list(features.keys())), max_feature+1)) # Utiliza todo o sample\n",
    "features_matrix = np.zeros(shape = (num_samples, max_feature+1))\n",
    "\n",
    "\n",
    "i = 0\n",
    "for k, vs in tqdm(features.items()):\n",
    "    if i<num_samples:\n",
    "    # if i<len(list(features.keys())): # Utiliza todo o sample\n",
    "        for v in vs:\n",
    "            features_matrix[i, v] = 1\n",
    "        i+=1"
   ]
  },
  {
   "cell_type": "code",
   "execution_count": 11,
   "id": "xl5hqMTz_521",
   "metadata": {
    "executionInfo": {
     "elapsed": 214,
     "status": "ok",
     "timestamp": 1637948569391,
     "user": {
      "displayName": "Leandro Aparecido Passos Junior",
      "photoUrl": "https://lh3.googleusercontent.com/a-/AOh14GjWN5bnCD7fe4ZMPaTK9SzkJkT7R3lpcG3v25i3=s64",
      "userId": "02885182476554207063"
     },
     "user_tz": 0
    },
    "id": "xl5hqMTz_521"
   },
   "outputs": [
    {
     "data": {
      "text/plain": [
       "(10000, 4005)"
      ]
     },
     "metadata": {},
     "output_type": "display_data"
    },
    {
     "data": {
      "text/html": [
       "<div>\n",
       "<style scoped>\n",
       "    .dataframe tbody tr th:only-of-type {\n",
       "        vertical-align: middle;\n",
       "    }\n",
       "\n",
       "    .dataframe tbody tr th {\n",
       "        vertical-align: top;\n",
       "    }\n",
       "\n",
       "    .dataframe thead th {\n",
       "        text-align: right;\n",
       "    }\n",
       "</style>\n",
       "<table border=\"1\" class=\"dataframe\">\n",
       "  <thead>\n",
       "    <tr style=\"text-align: right;\">\n",
       "      <th></th>\n",
       "      <th>0</th>\n",
       "      <th>1</th>\n",
       "      <th>2</th>\n",
       "      <th>3</th>\n",
       "      <th>4</th>\n",
       "      <th>5</th>\n",
       "      <th>6</th>\n",
       "      <th>7</th>\n",
       "      <th>8</th>\n",
       "      <th>9</th>\n",
       "      <th>...</th>\n",
       "      <th>3995</th>\n",
       "      <th>3996</th>\n",
       "      <th>3997</th>\n",
       "      <th>3998</th>\n",
       "      <th>3999</th>\n",
       "      <th>4000</th>\n",
       "      <th>4001</th>\n",
       "      <th>4002</th>\n",
       "      <th>4003</th>\n",
       "      <th>4004</th>\n",
       "    </tr>\n",
       "  </thead>\n",
       "  <tbody>\n",
       "    <tr>\n",
       "      <th>0</th>\n",
       "      <td>0.0</td>\n",
       "      <td>0.0</td>\n",
       "      <td>0.0</td>\n",
       "      <td>0.0</td>\n",
       "      <td>0.0</td>\n",
       "      <td>0.0</td>\n",
       "      <td>0.0</td>\n",
       "      <td>0.0</td>\n",
       "      <td>0.0</td>\n",
       "      <td>0.0</td>\n",
       "      <td>...</td>\n",
       "      <td>0.0</td>\n",
       "      <td>0.0</td>\n",
       "      <td>0.0</td>\n",
       "      <td>0.0</td>\n",
       "      <td>0.0</td>\n",
       "      <td>0.0</td>\n",
       "      <td>0.0</td>\n",
       "      <td>0.0</td>\n",
       "      <td>0.0</td>\n",
       "      <td>0.0</td>\n",
       "    </tr>\n",
       "    <tr>\n",
       "      <th>1</th>\n",
       "      <td>0.0</td>\n",
       "      <td>0.0</td>\n",
       "      <td>0.0</td>\n",
       "      <td>0.0</td>\n",
       "      <td>0.0</td>\n",
       "      <td>0.0</td>\n",
       "      <td>0.0</td>\n",
       "      <td>0.0</td>\n",
       "      <td>0.0</td>\n",
       "      <td>0.0</td>\n",
       "      <td>...</td>\n",
       "      <td>0.0</td>\n",
       "      <td>0.0</td>\n",
       "      <td>0.0</td>\n",
       "      <td>0.0</td>\n",
       "      <td>0.0</td>\n",
       "      <td>0.0</td>\n",
       "      <td>0.0</td>\n",
       "      <td>0.0</td>\n",
       "      <td>0.0</td>\n",
       "      <td>0.0</td>\n",
       "    </tr>\n",
       "    <tr>\n",
       "      <th>2</th>\n",
       "      <td>0.0</td>\n",
       "      <td>0.0</td>\n",
       "      <td>0.0</td>\n",
       "      <td>0.0</td>\n",
       "      <td>0.0</td>\n",
       "      <td>0.0</td>\n",
       "      <td>0.0</td>\n",
       "      <td>0.0</td>\n",
       "      <td>0.0</td>\n",
       "      <td>0.0</td>\n",
       "      <td>...</td>\n",
       "      <td>0.0</td>\n",
       "      <td>0.0</td>\n",
       "      <td>0.0</td>\n",
       "      <td>0.0</td>\n",
       "      <td>0.0</td>\n",
       "      <td>0.0</td>\n",
       "      <td>0.0</td>\n",
       "      <td>0.0</td>\n",
       "      <td>0.0</td>\n",
       "      <td>0.0</td>\n",
       "    </tr>\n",
       "    <tr>\n",
       "      <th>3</th>\n",
       "      <td>0.0</td>\n",
       "      <td>0.0</td>\n",
       "      <td>0.0</td>\n",
       "      <td>0.0</td>\n",
       "      <td>0.0</td>\n",
       "      <td>0.0</td>\n",
       "      <td>0.0</td>\n",
       "      <td>0.0</td>\n",
       "      <td>0.0</td>\n",
       "      <td>0.0</td>\n",
       "      <td>...</td>\n",
       "      <td>0.0</td>\n",
       "      <td>0.0</td>\n",
       "      <td>0.0</td>\n",
       "      <td>0.0</td>\n",
       "      <td>0.0</td>\n",
       "      <td>0.0</td>\n",
       "      <td>0.0</td>\n",
       "      <td>0.0</td>\n",
       "      <td>1.0</td>\n",
       "      <td>0.0</td>\n",
       "    </tr>\n",
       "    <tr>\n",
       "      <th>4</th>\n",
       "      <td>0.0</td>\n",
       "      <td>0.0</td>\n",
       "      <td>0.0</td>\n",
       "      <td>0.0</td>\n",
       "      <td>0.0</td>\n",
       "      <td>0.0</td>\n",
       "      <td>0.0</td>\n",
       "      <td>0.0</td>\n",
       "      <td>0.0</td>\n",
       "      <td>0.0</td>\n",
       "      <td>...</td>\n",
       "      <td>0.0</td>\n",
       "      <td>0.0</td>\n",
       "      <td>0.0</td>\n",
       "      <td>0.0</td>\n",
       "      <td>0.0</td>\n",
       "      <td>0.0</td>\n",
       "      <td>0.0</td>\n",
       "      <td>0.0</td>\n",
       "      <td>0.0</td>\n",
       "      <td>0.0</td>\n",
       "    </tr>\n",
       "  </tbody>\n",
       "</table>\n",
       "<p>5 rows × 4005 columns</p>\n",
       "</div>"
      ],
      "text/plain": [
       "   0     1     2     3     4     5     6     7     8     9     ...  3995  \\\n",
       "0   0.0   0.0   0.0   0.0   0.0   0.0   0.0   0.0   0.0   0.0  ...   0.0   \n",
       "1   0.0   0.0   0.0   0.0   0.0   0.0   0.0   0.0   0.0   0.0  ...   0.0   \n",
       "2   0.0   0.0   0.0   0.0   0.0   0.0   0.0   0.0   0.0   0.0  ...   0.0   \n",
       "3   0.0   0.0   0.0   0.0   0.0   0.0   0.0   0.0   0.0   0.0  ...   0.0   \n",
       "4   0.0   0.0   0.0   0.0   0.0   0.0   0.0   0.0   0.0   0.0  ...   0.0   \n",
       "\n",
       "   3996  3997  3998  3999  4000  4001  4002  4003  4004  \n",
       "0   0.0   0.0   0.0   0.0   0.0   0.0   0.0   0.0   0.0  \n",
       "1   0.0   0.0   0.0   0.0   0.0   0.0   0.0   0.0   0.0  \n",
       "2   0.0   0.0   0.0   0.0   0.0   0.0   0.0   0.0   0.0  \n",
       "3   0.0   0.0   0.0   0.0   0.0   0.0   0.0   1.0   0.0  \n",
       "4   0.0   0.0   0.0   0.0   0.0   0.0   0.0   0.0   0.0  \n",
       "\n",
       "[5 rows x 4005 columns]"
      ]
     },
     "metadata": {},
     "output_type": "display_data"
    }
   ],
   "source": [
    "# node_features = pd.DataFrame(features_matrix, index = features.keys())\n",
    "node_features = pd.DataFrame(features_matrix, index = np.arange(num_samples).astype(str))\n",
    "display(node_features.shape, node_features.head())"
   ]
  },
  {
   "cell_type": "code",
   "execution_count": 12,
   "id": "84d2f998",
   "metadata": {
    "executionInfo": {
     "elapsed": 219,
     "status": "ok",
     "timestamp": 1637948575867,
     "user": {
      "displayName": "Leandro Aparecido Passos Junior",
      "photoUrl": "https://lh3.googleusercontent.com/a-/AOh14GjWN5bnCD7fe4ZMPaTK9SzkJkT7R3lpcG3v25i3=s64",
      "userId": "02885182476554207063"
     },
     "user_tz": 0
    },
    "id": "84d2f998"
   },
   "outputs": [
    {
     "data": {
      "text/plain": [
       "(10000, 3)"
      ]
     },
     "metadata": {},
     "output_type": "display_data"
    },
    {
     "data": {
      "text/html": [
       "<div>\n",
       "<style scoped>\n",
       "    .dataframe tbody tr th:only-of-type {\n",
       "        vertical-align: middle;\n",
       "    }\n",
       "\n",
       "    .dataframe tbody tr th {\n",
       "        vertical-align: top;\n",
       "    }\n",
       "\n",
       "    .dataframe thead th {\n",
       "        text-align: right;\n",
       "    }\n",
       "</style>\n",
       "<table border=\"1\" class=\"dataframe\">\n",
       "  <thead>\n",
       "    <tr style=\"text-align: right;\">\n",
       "      <th></th>\n",
       "      <th>id</th>\n",
       "      <th>name</th>\n",
       "      <th>ml_target</th>\n",
       "    </tr>\n",
       "    <tr>\n",
       "      <th>id</th>\n",
       "      <th></th>\n",
       "      <th></th>\n",
       "      <th></th>\n",
       "    </tr>\n",
       "  </thead>\n",
       "  <tbody>\n",
       "    <tr>\n",
       "      <th>0</th>\n",
       "      <td>0</td>\n",
       "      <td>Eiryyy</td>\n",
       "      <td>0</td>\n",
       "    </tr>\n",
       "    <tr>\n",
       "      <th>1</th>\n",
       "      <td>1</td>\n",
       "      <td>shawflying</td>\n",
       "      <td>0</td>\n",
       "    </tr>\n",
       "    <tr>\n",
       "      <th>2</th>\n",
       "      <td>2</td>\n",
       "      <td>JpMCarrilho</td>\n",
       "      <td>1</td>\n",
       "    </tr>\n",
       "    <tr>\n",
       "      <th>3</th>\n",
       "      <td>3</td>\n",
       "      <td>SuhwanCha</td>\n",
       "      <td>0</td>\n",
       "    </tr>\n",
       "    <tr>\n",
       "      <th>4</th>\n",
       "      <td>4</td>\n",
       "      <td>sunilangadi2</td>\n",
       "      <td>1</td>\n",
       "    </tr>\n",
       "  </tbody>\n",
       "</table>\n",
       "</div>"
      ],
      "text/plain": [
       "    id          name  ml_target\n",
       "id                             \n",
       "0    0        Eiryyy          0\n",
       "1    1    shawflying          0\n",
       "2    2   JpMCarrilho          1\n",
       "3    3     SuhwanCha          0\n",
       "4    4  sunilangadi2          1"
      ]
     },
     "metadata": {},
     "output_type": "display_data"
    },
    {
     "data": {
      "text/plain": [
       "0    0.7402\n",
       "1    0.2598\n",
       "Name: ml_target, dtype: float64"
      ]
     },
     "metadata": {},
     "output_type": "display_data"
    }
   ],
   "source": [
    "# lendo os rotulos\n",
    "targets = pd.read_csv(targets_path)\n",
    "targets.index = targets.id.astype(str)\n",
    "targets.drop('id', axis=1)\n",
    "# targets.set_index('id', inplace=True)\n",
    "targets = targets.loc[np.arange(num_samples).astype(str), :]\n",
    "display(targets.shape, targets.head(), targets.ml_target.value_counts(normalize=True))"
   ]
  },
  {
   "cell_type": "code",
   "execution_count": 13,
   "id": "0122a849-c0ed-457f-b586-22a3580941e1",
   "metadata": {},
   "outputs": [
    {
     "name": "stdout",
     "output_type": "stream",
     "text": [
      "Então temos 10000 desenvolvedores, 18057 seguidores em comum e 4005 características. Aproximadamente 74.0% dos usuários são desenvolvedores web e 26.0% são desenvolvedores de ML.\n"
     ]
    }
   ],
   "source": [
    "print(\"Então temos {} desenvolvedores, {} seguidores em comum e {} características. \"\n",
    "      \"Aproximadamente {}% dos usuários são desenvolvedores web e {}% são desenvolvedores \"\n",
    "      \"de ML.\"\n",
    ".format(\n",
    "    targets.shape[0],\n",
    "    edges.shape[0],\n",
    "    node_features.shape[1],\n",
    "    round(targets.ml_target.value_counts(normalize=True)[0]*100,1),\n",
    "    round(targets.ml_target.value_counts(normalize=True)[1]*100,1)\n",
    "))"
   ]
  },
  {
   "cell_type": "markdown",
   "id": "bcd67694",
   "metadata": {
    "id": "bcd67694"
   },
   "source": [
    "### Dados no StellarGraph\n",
    "\n",
    "`stellargraph` tem sua própria estrutura de dados com diversas funcionalidades.\n",
    "Para transformar nossos dados para o formato do StellarGraph é muito simples, precisando apenas passar os dataframes com as características dos nós e as arestas para a função `StellarGraph`.\n",
    "A API também aceita arestas ponderadas, nós heterogêneos, tipos de arestas e nós direcionados."
   ]
  },
  {
   "cell_type": "code",
   "execution_count": 14,
   "id": "f4263dc2",
   "metadata": {
    "executionInfo": {
     "elapsed": 237,
     "status": "ok",
     "timestamp": 1637948626001,
     "user": {
      "displayName": "Leandro Aparecido Passos Junior",
      "photoUrl": "https://lh3.googleusercontent.com/a-/AOh14GjWN5bnCD7fe4ZMPaTK9SzkJkT7R3lpcG3v25i3=s64",
      "userId": "02885182476554207063"
     },
     "user_tz": 0
    },
    "id": "f4263dc2"
   },
   "outputs": [
    {
     "name": "stdout",
     "output_type": "stream",
     "text": [
      "StellarGraph: Undirected multigraph\n",
      " Nodes: 10000, Edges: 18057\n",
      "\n",
      " Node types:\n",
      "  default: [10000]\n",
      "    Features: float32 vector, length 4005\n",
      "    Edge types: default-default->default\n",
      "\n",
      " Edge types:\n",
      "    default-default->default: [18057]\n",
      "        Weights: all 1 (default)\n",
      "        Features: none\n"
     ]
    }
   ],
   "source": [
    "G = sg.StellarGraph(node_features, edges.astype(str))\n",
    "print(G.info())"
   ]
  },
  {
   "cell_type": "markdown",
   "id": "2d986856",
   "metadata": {
    "id": "2d986856"
   },
   "source": [
    "import warnings\n",
    "warnings.filterwarnings('ignore')### Conjuntos de Treino, Teste e validacao\n",
    "\n",
    "Como de costume, precisamos separar os dados em treino, validação e teste.\n",
    "O GCN é um modelo semi-supervisionado, o que significa que precisa de um número reduzido de rótulos do que técnicas supervisionadas para o aprendizado.\n",
    "Suponha que tenhamos apenas 1% dos dados rotulados, e.g., 400 desenvolvedores.\n",
    "Nesse caso, usaremmos 200 deles para treinamento e os outros 200 para validação.\n",
    "O restante será usado para teste."
   ]
  },
  {
   "cell_type": "code",
   "execution_count": 15,
   "id": "57820ea7",
   "metadata": {
    "id": "57820ea7"
   },
   "outputs": [],
   "source": [
    "train_size = int(targets.shape[0]*.01)\n",
    "train_pages, test_pages = train_test_split(targets, train_size=train_size)\n",
    "val_pages, test_pages = train_test_split(test_pages, train_size=train_size)"
   ]
  },
  {
   "cell_type": "code",
   "execution_count": 16,
   "id": "746c7fd8",
   "metadata": {
    "executionInfo": {
     "elapsed": 218,
     "status": "ok",
     "timestamp": 1637948634356,
     "user": {
      "displayName": "Leandro Aparecido Passos Junior",
      "photoUrl": "https://lh3.googleusercontent.com/a-/AOh14GjWN5bnCD7fe4ZMPaTK9SzkJkT7R3lpcG3v25i3=s64",
      "userId": "02885182476554207063"
     },
     "user_tz": 0
    },
    "id": "746c7fd8"
   },
   "outputs": [
    {
     "data": {
      "text/plain": [
       "((100, 3), (100, 3), (9800, 3))"
      ]
     },
     "execution_count": 16,
     "metadata": {},
     "output_type": "execute_result"
    }
   ],
   "source": [
    "train_pages.shape, val_pages.shape, test_pages.shape"
   ]
  },
  {
   "cell_type": "markdown",
   "id": "00a1e2c3",
   "metadata": {
    "id": "00a1e2c3"
   },
   "source": [
    "## Pre-processamento\n",
    "\n",
    "### Pre-processamento dos rotulos"
   ]
  },
  {
   "cell_type": "code",
   "execution_count": 17,
   "id": "92db940e",
   "metadata": {
    "id": "92db940e"
   },
   "outputs": [],
   "source": [
    "target_encoding = LabelBinarizer()\n",
    "\n",
    "train_targets = target_encoding.fit_transform(train_pages['ml_target'])\n",
    "val_targets = target_encoding.transform(val_pages['ml_target'])\n",
    "test_targets = target_encoding.transform(test_pages['ml_target'])\n",
    "\n",
    "# print(train_pages['ml_target'])\n",
    "# print(train_targets)"
   ]
  },
  {
   "cell_type": "code",
   "execution_count": 18,
   "id": "3987a931-46ed-4830-8ef2-82ab822c21ae",
   "metadata": {},
   "outputs": [
    {
     "name": "stdout",
     "output_type": "stream",
     "text": [
      "(100, 3) (100, 1)\n"
     ]
    }
   ],
   "source": [
    "print(train_pages.shape, train_targets.shape)"
   ]
  },
  {
   "cell_type": "markdown",
   "id": "beea7530",
   "metadata": {
    "id": "beea7530"
   },
   "source": [
    "### Pre-processamento do grafo\n",
    "\n",
    "Essa é a principal parte para o funcionamento de GCN.\n",
    "Para entender o tipo de processamento que faremos, vamos das uma olhada no que as camadas convolucionais em grafo fazem.\n",
    "O que queremos é, de alguma forma, agregar a informação das características dos nos vizinhos porque queremos aprender as representações que reflitam a vizinhança do grafo.\n",
    "Em CNNs, que são normalmente usadas para imagens, esse objetivo é alcançaado usando operações convolucionais com pixels e kernels.\n",
    "A intensidade do nó (pixel) vizinho (ex: 3x3) é passada pelo kernel que tira a média dos pixels e computa um único valor.\n",
    "Isso funciona porque em imagens os vizinhos são ordenados e tem tamanho fixo.\n",
    "Nós não temos essas qualidades em grafos, e precisamos de uma alternativa diferente.\n",
    "\n",
    "![](https://drive.google.com/uc?export=view&id=1LWb4Lc4Nhqzm0GteBM1jZ-0ib4fjlRBQ)\n",
    "\n",
    "A alternativa é usar a ideia de passar a infomação multiplicando os estados ocultos pela matriz de adjacẽncia.\n",
    "A matriz de adjacência representa a conexão entre os nós.\n",
    "Sendo assim, multiplicando os estados ocultos (ou os nós com as características, para a primeira camada) por ela, estamos de certa forma aplicando uma máscara e agregando apenas a informação dos nós vizinhos.\n",
    "Os conceitos podem ser vistos em detalhe nesse [video](https://www.youtube.com/watch?v=ijmxpItkRjc&t).\n",
    "\n",
    "Nossa tarefa agora é pré-computar essa parte não treinável do algoritmo.\n",
    "Usaremos a implementação do `stellargraph`, que executa esses cálculos em um formato esparço para melhorar a velocidade."
   ]
  },
  {
   "cell_type": "code",
   "execution_count": 19,
   "id": "eec1c03f",
   "metadata": {
    "executionInfo": {
     "elapsed": 312,
     "status": "ok",
     "timestamp": 1637948791444,
     "user": {
      "displayName": "Leandro Aparecido Passos Junior",
      "photoUrl": "https://lh3.googleusercontent.com/a-/AOh14GjWN5bnCD7fe4ZMPaTK9SzkJkT7R3lpcG3v25i3=s64",
      "userId": "02885182476554207063"
     },
     "user_tz": 0
    },
    "id": "eec1c03f"
   },
   "outputs": [],
   "source": [
    "# Pega a matriz de adjacencias do grafo\n",
    "A = G.to_adjacency_matrix(weighted=False)\n",
    "\n",
    "# Adiciona conexoes dos nos com eles mesmos (se a representacao seria baseada apenas nos vizinhos, sem considerar as caracteristicas do proprio no)\n",
    "A_t = A + sp.diags(np.ones(A.shape[0]) - A.diagonal())\n",
    "\n",
    "# Computa o grau da matriz e ele a -1/2 (grau e o numero de vizinhos, e eleva a -1/2 para ajudar na normalizacao)\n",
    "D_t = sp.diags(np.power(np.array(A.sum(1)), -0.5).flatten(), 0)\n",
    "\n",
    "# Normaliza a matriz de adjacencias\n",
    "A_norm = A.dot(D_t).transpose().dot(D_t).todense()"
   ]
  },
  {
   "cell_type": "markdown",
   "id": "7568b0d0",
   "metadata": {
    "id": "7568b0d0"
   },
   "source": [
    "Agora que pré-processamos nossos dados para o GCN, devemos seguir mais algumas formalidades antes de treinar o modelo:\n",
    "1. Pegar os novos índices dos conjuntos de treinamento, validação e teste - necessários para computar o custo do modelo.\n",
    "2. Adicionar uma dimensão extra para os nossos dados - necessário pela implementação das redes. (Como se fosse um minibatch com uma única amostra)"
   ]
  },
  {
   "cell_type": "code",
   "execution_count": 20,
   "id": "d2c2dcc4",
   "metadata": {
    "id": "d2c2dcc4"
   },
   "outputs": [],
   "source": [
    "# Definindo uma funcao para pegar esses indices\n",
    "def get_node_indices(G, ids):\n",
    "    # encontra os indices dos nos\n",
    "    node_ids = np.asarray(ids)\n",
    "    flat_node_ids = node_ids.reshape(-1)\n",
    "\n",
    "    flat_node_indices = G.node_ids_to_ilocs(flat_node_ids) # usa funcao in-built \n",
    "    # volta para o formato original\n",
    "    node_indices = flat_node_indices.reshape(1, len(node_ids)) # adiciona uma dimensao extra\n",
    "    \n",
    "    return node_indices\n",
    "\n",
    "train_indices = get_node_indices(G, train_pages.index)\n",
    "val_indices = get_node_indices(G, val_pages.index)\n",
    "test_indices = get_node_indices(G, test_pages.index)"
   ]
  },
  {
   "cell_type": "code",
   "execution_count": 21,
   "id": "c188e45b",
   "metadata": {
    "id": "c188e45b"
   },
   "outputs": [],
   "source": [
    "# Expandindo para a  dimensao extra\n",
    "features_input = np.expand_dims(features_matrix, 0)\n",
    "A_input = np.expand_dims(A_norm, 0)\n",
    "\n",
    "y_train = np.expand_dims(train_targets, 0)\n",
    "y_val = np.expand_dims(val_targets, 0)\n",
    "y_test = np.expand_dims(test_targets, 0)"
   ]
  },
  {
   "cell_type": "markdown",
   "id": "1d100393",
   "metadata": {
    "id": "1d100393"
   },
   "source": [
    "Agora que os dados estao normalizados e no formato correto, podemos comecar a modelagem da rede."
   ]
  },
  {
   "cell_type": "markdown",
   "id": "0725d7bb",
   "metadata": {
    "id": "0725d7bb"
   },
   "source": [
    "## Modelo GCN\n",
    "\n",
    "Analisando friamente, as camadas GCN não passam de multiplicações de valores de entrada, pesos, e a matriz de adjacências normalizada.\n",
    "Quem tiver interesse, pode ver como é feita implementação em `stellargraph`'s `GraphConvolution` [aqui](https://github.com/stellargraph/stellargraph/blob/develop/stellargraph/layer/gcn.py), nas linhas 208 e 209."
   ]
  },
  {
   "cell_type": "code",
   "execution_count": 22,
   "id": "90d05818",
   "metadata": {
    "id": "90d05818"
   },
   "outputs": [],
   "source": [
    "from stellargraph.layer.gcn import GraphConvolution, GatherIndices\n",
    "\n",
    "# Inicializando os parametros da GCN\n",
    "kernel_initializer=\"glorot_uniform\"\n",
    "bias = True\n",
    "bias_initializer=\"zeros\"\n",
    "n_layers = 2\n",
    "layer_sizes = [32, 32]\n",
    "dropout = 0.5\n",
    "n_features = features_input.shape[2]\n",
    "n_nodes = features_input.shape[1]"
   ]
  },
  {
   "cell_type": "markdown",
   "id": "7d646ce6",
   "metadata": {
    "id": "7d646ce6"
   },
   "source": [
    "Primeiramente, vamos inicializar a camada de entrada com os formatos corretos para receber 3 entradas:\n",
    "1. Matriz de características\n",
    "1. Índices de treinamento/teste/validação\n",
    "1. Matriz de adjacências normalizada"
   ]
  },
  {
   "cell_type": "code",
   "execution_count": 23,
   "id": "9d28fb5b",
   "metadata": {
    "executionInfo": {
     "elapsed": 240,
     "status": "ok",
     "timestamp": 1637949020602,
     "user": {
      "displayName": "Leandro Aparecido Passos Junior",
      "photoUrl": "https://lh3.googleusercontent.com/a-/AOh14GjWN5bnCD7fe4ZMPaTK9SzkJkT7R3lpcG3v25i3=s64",
      "userId": "02885182476554207063"
     },
     "user_tz": 0
    },
    "id": "9d28fb5b"
   },
   "outputs": [
    {
     "data": {
      "text/plain": [
       "[<KerasTensor: shape=(1, 10000, 4005) dtype=float32 (created by layer 'input_1')>,\n",
       " <KerasTensor: shape=(1, None) dtype=int32 (created by layer 'input_2')>,\n",
       " <KerasTensor: shape=(1, 10000, 10000) dtype=float32 (created by layer 'input_3')>]"
      ]
     },
     "execution_count": 23,
     "metadata": {},
     "output_type": "execute_result"
    }
   ],
   "source": [
    "x_features = Input(batch_shape=(1, n_nodes, n_features))\n",
    "x_indices = Input(batch_shape=(1, None), dtype=\"int32\")\n",
    "x_adjacency = Input(batch_shape=(1, n_nodes, n_nodes))\n",
    "x_inp = [x_features, x_indices, x_adjacency]\n",
    "x_inp"
   ]
  },
  {
   "cell_type": "markdown",
   "id": "3816c0c0",
   "metadata": {
    "id": "3816c0c0"
   },
   "source": [
    "Agora, podemos construir um modelo GCN com 2 camadas e dropout.\n",
    "Cada camada vai ter 32 unidades, que devem ser suficientes para transformar os dados o obter boas representalções."
   ]
  },
  {
   "cell_type": "code",
   "execution_count": 24,
   "id": "8dd1bc18",
   "metadata": {
    "executionInfo": {
     "elapsed": 216,
     "status": "ok",
     "timestamp": 1637949078265,
     "user": {
      "displayName": "Leandro Aparecido Passos Junior",
      "photoUrl": "https://lh3.googleusercontent.com/a-/AOh14GjWN5bnCD7fe4ZMPaTK9SzkJkT7R3lpcG3v25i3=s64",
      "userId": "02885182476554207063"
     },
     "user_tz": 0
    },
    "id": "8dd1bc18"
   },
   "outputs": [],
   "source": [
    "x = Dropout(0.5)(x_features)\n",
    "\n",
    "x = GraphConvolution(32, activation='relu', \n",
    "                     use_bias=True,\n",
    "                     kernel_initializer=kernel_initializer,\n",
    "                     bias_initializer=bias_initializer)([x, x_adjacency])\n",
    "x = Dropout(0.5)(x)\n",
    "x = GraphConvolution(32, activation='relu', \n",
    "                     use_bias=True,\n",
    "                     kernel_initializer=kernel_initializer,\n",
    "                     bias_initializer=bias_initializer)([x, x_adjacency])\n",
    "\n",
    "x = GatherIndices(batch_dims=1)([x, x_indices])\n",
    "output = Dense(1, activation='sigmoid')(x)"
   ]
  },
  {
   "cell_type": "code",
   "execution_count": 25,
   "id": "8a5de98e",
   "metadata": {
    "executionInfo": {
     "elapsed": 211,
     "status": "ok",
     "timestamp": 1637949086156,
     "user": {
      "displayName": "Leandro Aparecido Passos Junior",
      "photoUrl": "https://lh3.googleusercontent.com/a-/AOh14GjWN5bnCD7fe4ZMPaTK9SzkJkT7R3lpcG3v25i3=s64",
      "userId": "02885182476554207063"
     },
     "user_tz": 0
    },
    "id": "8a5de98e"
   },
   "outputs": [
    {
     "name": "stdout",
     "output_type": "stream",
     "text": [
      "Model: \"model\"\n",
      "__________________________________________________________________________________________________\n",
      " Layer (type)                   Output Shape         Param #     Connected to                     \n",
      "==================================================================================================\n",
      " input_1 (InputLayer)           [(1, 10000, 4005)]   0           []                               \n",
      "                                                                                                  \n",
      " dropout (Dropout)              (1, 10000, 4005)     0           ['input_1[0][0]']                \n",
      "                                                                                                  \n",
      " input_3 (InputLayer)           [(1, 10000, 10000)]  0           []                               \n",
      "                                                                                                  \n",
      " graph_convolution (GraphConvol  (1, 10000, 32)      128192      ['dropout[0][0]',                \n",
      " ution)                                                           'input_3[0][0]']                \n",
      "                                                                                                  \n",
      " dropout_1 (Dropout)            (1, 10000, 32)       0           ['graph_convolution[0][0]']      \n",
      "                                                                                                  \n",
      " graph_convolution_1 (GraphConv  (1, 10000, 32)      1056        ['dropout_1[0][0]',              \n",
      " olution)                                                         'input_3[0][0]']                \n",
      "                                                                                                  \n",
      " input_2 (InputLayer)           [(1, None)]          0           []                               \n",
      "                                                                                                  \n",
      " gather_indices (GatherIndices)  (1, None, 32)       0           ['graph_convolution_1[0][0]',    \n",
      "                                                                  'input_2[0][0]']                \n",
      "                                                                                                  \n",
      " dense (Dense)                  (1, None, 1)         33          ['gather_indices[0][0]']         \n",
      "                                                                                                  \n",
      "==================================================================================================\n",
      "Total params: 129,281\n",
      "Trainable params: 129,281\n",
      "Non-trainable params: 0\n",
      "__________________________________________________________________________________________________\n"
     ]
    }
   ],
   "source": [
    "model = Model(inputs=[x_features, x_indices, x_adjacency], outputs=output)\n",
    "model.summary()"
   ]
  },
  {
   "cell_type": "code",
   "execution_count": 26,
   "id": "f048aac2",
   "metadata": {
    "id": "f048aac2"
   },
   "outputs": [],
   "source": [
    "model.compile(\n",
    "    optimizer=optimizers.Adam(learning_rate=0.01),\n",
    "    loss=losses.binary_crossentropy,\n",
    "    metrics=[\"acc\"],\n",
    ")"
   ]
  },
  {
   "cell_type": "code",
   "execution_count": 27,
   "id": "edee93d8",
   "metadata": {
    "id": "edee93d8"
   },
   "outputs": [],
   "source": [
    "es_callback = EarlyStopping(monitor=\"val_loss\", patience=10, restore_best_weights=True)"
   ]
  },
  {
   "cell_type": "code",
   "execution_count": 28,
   "id": "2af51df4",
   "metadata": {
    "executionInfo": {
     "elapsed": 291,
     "status": "ok",
     "timestamp": 1637949150237,
     "user": {
      "displayName": "Leandro Aparecido Passos Junior",
      "photoUrl": "https://lh3.googleusercontent.com/a-/AOh14GjWN5bnCD7fe4ZMPaTK9SzkJkT7R3lpcG3v25i3=s64",
      "userId": "02885182476554207063"
     },
     "user_tz": 0
    },
    "id": "2af51df4"
   },
   "outputs": [
    {
     "name": "stdout",
     "output_type": "stream",
     "text": [
      "Epoch 1/200\n",
      "1/1 [==============================] - 11s 11s/step - loss: 0.7004 - acc: 0.3900 - val_loss: 0.6264 - val_acc: 0.7600\n",
      "Epoch 2/200\n",
      "1/1 [==============================] - 1s 884ms/step - loss: 0.6219 - acc: 0.8000 - val_loss: 0.5791 - val_acc: 0.7600\n",
      "Epoch 3/200\n",
      "1/1 [==============================] - 1s 868ms/step - loss: 0.5509 - acc: 0.7900 - val_loss: 0.5531 - val_acc: 0.7600\n",
      "Epoch 4/200\n",
      "1/1 [==============================] - 1s 816ms/step - loss: 0.5133 - acc: 0.7900 - val_loss: 0.5493 - val_acc: 0.7600\n",
      "Epoch 5/200\n",
      "1/1 [==============================] - 1s 839ms/step - loss: 0.4851 - acc: 0.7900 - val_loss: 0.5630 - val_acc: 0.7600\n",
      "Epoch 6/200\n",
      "1/1 [==============================] - 1s 829ms/step - loss: 0.4827 - acc: 0.7900 - val_loss: 0.5829 - val_acc: 0.7600\n",
      "Epoch 7/200\n",
      "1/1 [==============================] - 1s 802ms/step - loss: 0.5060 - acc: 0.7900 - val_loss: 0.5938 - val_acc: 0.7600\n",
      "Epoch 8/200\n",
      "1/1 [==============================] - 1s 833ms/step - loss: 0.4924 - acc: 0.7900 - val_loss: 0.5939 - val_acc: 0.7600\n",
      "Epoch 9/200\n",
      "1/1 [==============================] - 1s 837ms/step - loss: 0.4725 - acc: 0.7900 - val_loss: 0.5855 - val_acc: 0.7600\n",
      "Epoch 10/200\n",
      "1/1 [==============================] - 1s 821ms/step - loss: 0.4635 - acc: 0.7900 - val_loss: 0.5702 - val_acc: 0.7600\n",
      "Epoch 11/200\n",
      "1/1 [==============================] - 1s 835ms/step - loss: 0.4176 - acc: 0.8000 - val_loss: 0.5528 - val_acc: 0.7600\n",
      "Epoch 12/200\n",
      "1/1 [==============================] - 1s 845ms/step - loss: 0.4000 - acc: 0.8000 - val_loss: 0.5336 - val_acc: 0.7600\n",
      "Epoch 13/200\n",
      "1/1 [==============================] - 1s 823ms/step - loss: 0.3726 - acc: 0.8300 - val_loss: 0.5132 - val_acc: 0.7600\n",
      "Epoch 14/200\n",
      "1/1 [==============================] - 1s 853ms/step - loss: 0.3677 - acc: 0.8200 - val_loss: 0.4958 - val_acc: 0.7600\n",
      "Epoch 15/200\n",
      "1/1 [==============================] - 1s 891ms/step - loss: 0.3427 - acc: 0.8500 - val_loss: 0.4819 - val_acc: 0.7700\n",
      "Epoch 16/200\n",
      "1/1 [==============================] - 1s 861ms/step - loss: 0.3710 - acc: 0.8400 - val_loss: 0.4755 - val_acc: 0.7700\n",
      "Epoch 17/200\n",
      "1/1 [==============================] - 1s 807ms/step - loss: 0.3497 - acc: 0.8500 - val_loss: 0.4735 - val_acc: 0.7700\n",
      "Epoch 18/200\n",
      "1/1 [==============================] - 1s 863ms/step - loss: 0.3255 - acc: 0.8700 - val_loss: 0.4787 - val_acc: 0.7700\n",
      "Epoch 19/200\n",
      "1/1 [==============================] - 1s 856ms/step - loss: 0.2885 - acc: 0.8800 - val_loss: 0.4896 - val_acc: 0.7700\n",
      "Epoch 20/200\n",
      "1/1 [==============================] - 1s 828ms/step - loss: 0.2948 - acc: 0.8800 - val_loss: 0.5094 - val_acc: 0.7700\n",
      "Epoch 21/200\n",
      "1/1 [==============================] - 1s 856ms/step - loss: 0.2762 - acc: 0.8700 - val_loss: 0.5343 - val_acc: 0.7700\n",
      "Epoch 22/200\n",
      "1/1 [==============================] - 1s 815ms/step - loss: 0.2713 - acc: 0.8800 - val_loss: 0.5549 - val_acc: 0.7700\n",
      "Epoch 23/200\n",
      "1/1 [==============================] - 1s 875ms/step - loss: 0.2711 - acc: 0.8600 - val_loss: 0.5603 - val_acc: 0.7800\n",
      "Epoch 24/200\n",
      "1/1 [==============================] - 1s 806ms/step - loss: 0.2614 - acc: 0.8800 - val_loss: 0.5636 - val_acc: 0.7900\n",
      "Epoch 25/200\n",
      "1/1 [==============================] - 1s 872ms/step - loss: 0.2647 - acc: 0.8700 - val_loss: 0.5528 - val_acc: 0.8000\n",
      "Epoch 26/200\n",
      "1/1 [==============================] - 1s 837ms/step - loss: 0.2390 - acc: 0.8900 - val_loss: 0.5415 - val_acc: 0.8000\n",
      "Epoch 27/200\n",
      "1/1 [==============================] - 1s 827ms/step - loss: 0.2408 - acc: 0.8800 - val_loss: 0.5392 - val_acc: 0.8000\n"
     ]
    }
   ],
   "source": [
    "history = model.fit(\n",
    "    x = [features_input, train_indices, A_input],\n",
    "    y = y_train,\n",
    "    batch_size = 32,\n",
    "    epochs=200,\n",
    "    validation_data=([features_input, val_indices, A_input], y_val),\n",
    "    verbose=1,\n",
    "    shuffle=False,\n",
    "    callbacks=[es_callback],\n",
    ")"
   ]
  },
  {
   "cell_type": "markdown",
   "id": "luR6tHx4r-xU",
   "metadata": {
    "id": "luR6tHx4r-xU"
   },
   "source": [
    "## Avaliando o modelo\n",
    "\n",
    "Agora que treinamos o modelo, vamos avaliar sua acuracia sobre o conjunto de teste."
   ]
  },
  {
   "cell_type": "code",
   "execution_count": 29,
   "id": "AhavN1rlr7O-",
   "metadata": {
    "id": "AhavN1rlr7O-"
   },
   "outputs": [],
   "source": [
    "test_preds = model.predict([features_input, test_indices, A_input])"
   ]
  },
  {
   "cell_type": "code",
   "execution_count": 30,
   "id": "7Eh_tZJasDGh",
   "metadata": {
    "id": "7Eh_tZJasDGh"
   },
   "outputs": [],
   "source": [
    "def evaluate_preds(true, pred):\n",
    "    auc = roc_auc_score(true, pred)\n",
    "    pr = average_precision_score(true, pred)\n",
    "    bin_pred = [1 if p > 0.5 else 0 for p in pred]\n",
    "    f_score = f1_score(true, bin_pred)\n",
    "    print('ROC AUC:', auc)\n",
    "    print('PR AUC:', pr)\n",
    "    print('F1 score:', f_score)\n",
    "    print(confusion_matrix(true, bin_pred, normalize='true'))\n",
    "    \n",
    "    return auc, pr, f_score"
   ]
  },
  {
   "cell_type": "code",
   "execution_count": 31,
   "id": "DqYD1CdwsGNo",
   "metadata": {
    "executionInfo": {
     "elapsed": 210,
     "status": "ok",
     "timestamp": 1637949202881,
     "user": {
      "displayName": "Leandro Aparecido Passos Junior",
      "photoUrl": "https://lh3.googleusercontent.com/a-/AOh14GjWN5bnCD7fe4ZMPaTK9SzkJkT7R3lpcG3v25i3=s64",
      "userId": "02885182476554207063"
     },
     "user_tz": 0
    },
    "id": "DqYD1CdwsGNo"
   },
   "outputs": [
    {
     "name": "stdout",
     "output_type": "stream",
     "text": [
      "ROC AUC: 0.7589800790645518\n",
      "PR AUC: 0.4982124988213981\n",
      "F1 score: 0.1586964222458378\n",
      "[[0.99365255 0.00634745]\n",
      " [0.91226009 0.08773991]]\n"
     ]
    }
   ],
   "source": [
    "auc, pr, f_score = evaluate_preds(test_targets.ravel(),test_preds[0].ravel())"
   ]
  },
  {
   "cell_type": "markdown",
   "id": "1d948195-4878-47c5-a3a4-5bbd104c58ec",
   "metadata": {},
   "source": [
    "## Visualizando as representações"
   ]
  },
  {
   "cell_type": "code",
   "execution_count": 32,
   "id": "TP4hjCFGsJ8v",
   "metadata": {
    "executionInfo": {
     "elapsed": 203,
     "status": "ok",
     "timestamp": 1637949209249,
     "user": {
      "displayName": "Leandro Aparecido Passos Junior",
      "photoUrl": "https://lh3.googleusercontent.com/a-/AOh14GjWN5bnCD7fe4ZMPaTK9SzkJkT7R3lpcG3v25i3=s64",
      "userId": "02885182476554207063"
     },
     "user_tz": 0
    },
    "id": "TP4hjCFGsJ8v"
   },
   "outputs": [
    {
     "data": {
      "text/plain": [
       "(1, 10000, 32)"
      ]
     },
     "execution_count": 32,
     "metadata": {},
     "output_type": "execute_result"
    }
   ],
   "source": [
    "embedding_model = Model(inputs=x_inp, outputs=model.layers[-2].output)\n",
    "all_indices = get_node_indices(G, targets.index)\n",
    "emb = embedding_model.predict([features_input, all_indices, A_input])\n",
    "emb.shape"
   ]
  },
  {
   "cell_type": "code",
   "execution_count": 33,
   "id": "M1wZt-HmsUv9",
   "metadata": {
    "executionInfo": {
     "elapsed": 213,
     "status": "ok",
     "timestamp": 1637949220430,
     "user": {
      "displayName": "Leandro Aparecido Passos Junior",
      "photoUrl": "https://lh3.googleusercontent.com/a-/AOh14GjWN5bnCD7fe4ZMPaTK9SzkJkT7R3lpcG3v25i3=s64",
      "userId": "02885182476554207063"
     },
     "user_tz": 0
    },
    "id": "M1wZt-HmsUv9"
   },
   "outputs": [],
   "source": [
    "u = umap.UMAP(random_state=42)\n",
    "umap_embs = u.fit_transform(emb[0])"
   ]
  },
  {
   "cell_type": "code",
   "execution_count": 34,
   "id": "piWQj5lKsX8B",
   "metadata": {
    "executionInfo": {
     "elapsed": 229,
     "status": "ok",
     "timestamp": 1637949227968,
     "user": {
      "displayName": "Leandro Aparecido Passos Junior",
      "photoUrl": "https://lh3.googleusercontent.com/a-/AOh14GjWN5bnCD7fe4ZMPaTK9SzkJkT7R3lpcG3v25i3=s64",
      "userId": "02885182476554207063"
     },
     "user_tz": 0
    },
    "id": "piWQj5lKsX8B"
   },
   "outputs": [
    {
     "data": {
      "image/png": "[encoded data removed]",
      "text/plain": [
       "<Figure size 1440x720 with 1 Axes>"
      ]
     },
     "metadata": {
      "needs_background": "light"
     },
     "output_type": "display_data"
    }
   ],
   "source": [
    "plt.figure(figsize=(20,10))\n",
    "ax = sns.scatterplot(x = umap_embs[:, 0], y = umap_embs[:, 1], hue = targets['ml_target'])"
   ]
  },
  {
   "cell_type": "markdown",
   "id": "_QWlLgQYDK5g",
   "metadata": {
    "id": "_QWlLgQYDK5g"
   },
   "source": [
    "No plot conseguimos identificar que o algoritmo conseguiu separar razoavelmente bem 2 classes, mas deixou um cluster de fora.\n",
    "Provavelmente, esse cluster extra foi criado devido às amostras e arestas que cortamos para economizar memória."
   ]
  },
  {
   "cell_type": "code",
   "execution_count": null,
   "id": "a0f7081e-0fd2-4314-84d1-05a806e748d1",
   "metadata": {},
   "outputs": [],
   "source": []
  }
 ],
 "metadata": {
  "accelerator": "GPU",
  "colab": {
   "collapsed_sections": [],
   "name": "GCN.ipynb",
   "provenance": []
  },
  "kernelspec": {
   "display_name": "Python 3 (ipykernel)",
   "language": "python",
   "name": "python3"
  },
  "language_info": {
   "codemirror_mode": {
    "name": "ipython",
    "version": 3
   },
   "file_extension": ".py",
   "mimetype": "text/x-python",
   "name": "python",
   "nbconvert_exporter": "python",
   "pygments_lexer": "ipython3",
   "version": "3.8.10"
  }
 },
 "nbformat": 4,
 "nbformat_minor": 5
}
