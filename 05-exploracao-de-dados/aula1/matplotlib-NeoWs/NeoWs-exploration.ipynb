{
 "cells": [
  {
   "cell_type": "markdown",
   "id": "e781e1b8-9557-4eaa-9d87-321548b80eae",
   "metadata": {},
   "source": [
    "## Bibliotecas"
   ]
  },
  {
   "cell_type": "code",
   "execution_count": 1,
   "id": "662ad49c-9b7d-4c4e-b9f2-4c3a07539bed",
   "metadata": {},
   "outputs": [],
   "source": [
    "import pandas as pd\n",
    "import numpy as np\n",
    "import matplotlib.pyplot as plt\n",
    "from datetime import datetime\n",
    "import requests\n",
    "import json"
   ]
  },
  {
   "cell_type": "markdown",
   "id": "15016701-1034-4a59-ac5f-0e5ff97e0af8",
   "metadata": {},
   "source": [
    "## NeoWs (Near Earth Object Web Service)"
   ]
  },
  {
   "cell_type": "code",
   "execution_count": 2,
   "id": "db69ea10-a777-4de5-8dba-7c7810793ceb",
   "metadata": {},
   "outputs": [],
   "source": [
    "api_key = \"Bu6eTGuiYXUcf8mJ2NQDKK202oERv4Y09Q0JagKe\"\n",
    "num_paginas = 10\n",
    "raw_data = []\n",
    "for page in range(num_paginas):\n",
    "    resp = requests.get(f'https://api.nasa.gov/neo/rest/v1/neo/browse?page={page}&api_key={api_key}')\n",
    "    raw_data.append(json.loads(resp.text))"
   ]
  },
  {
   "cell_type": "code",
   "execution_count": 3,
   "id": "a347a522-9ce6-4afc-8086-7005649ff347",
   "metadata": {},
   "outputs": [
    {
     "data": {
      "text/plain": [
       "10"
      ]
     },
     "execution_count": 3,
     "metadata": {},
     "output_type": "execute_result"
    }
   ],
   "source": [
    "len(raw_data)"
   ]
  },
  {
   "cell_type": "markdown",
   "id": "0dac3dfd-619a-4c5f-89f3-f6a1257a6994",
   "metadata": {},
   "source": [
    "### Data Frame simplificado"
   ]
  },
  {
   "cell_type": "code",
   "execution_count": 4,
   "id": "88039ff9-1f7c-4836-895f-a16e6102cf6a",
   "metadata": {},
   "outputs": [],
   "source": [
    "# Lista das colunas de interesse para o data frame simplificado\n",
    "int_cols = ['id',\n",
    "           'name',\n",
    "           'absolute_magnitude_h',\n",
    "           'is_potentially_hazardous_asteroid']"
   ]
  },
  {
   "cell_type": "code",
   "execution_count": 5,
   "id": "5c8bb0d7-29d9-44bd-ae7f-966c1b32dec2",
   "metadata": {},
   "outputs": [
    {
     "data": {
      "text/html": [
       "<div>\n",
       "<style scoped>\n",
       "    .dataframe tbody tr th:only-of-type {\n",
       "        vertical-align: middle;\n",
       "    }\n",
       "\n",
       "    .dataframe tbody tr th {\n",
       "        vertical-align: top;\n",
       "    }\n",
       "\n",
       "    .dataframe thead th {\n",
       "        text-align: right;\n",
       "    }\n",
       "</style>\n",
       "<table border=\"1\" class=\"dataframe\">\n",
       "  <thead>\n",
       "    <tr style=\"text-align: right;\">\n",
       "      <th></th>\n",
       "      <th>id</th>\n",
       "      <th>name</th>\n",
       "      <th>absolute_magnitude_h</th>\n",
       "      <th>is_potentially_hazardous_asteroid</th>\n",
       "    </tr>\n",
       "  </thead>\n",
       "  <tbody>\n",
       "    <tr>\n",
       "      <th>count</th>\n",
       "      <td>200</td>\n",
       "      <td>200</td>\n",
       "      <td>200.000000</td>\n",
       "      <td>200</td>\n",
       "    </tr>\n",
       "    <tr>\n",
       "      <th>unique</th>\n",
       "      <td>200</td>\n",
       "      <td>200</td>\n",
       "      <td>NaN</td>\n",
       "      <td>2</td>\n",
       "    </tr>\n",
       "    <tr>\n",
       "      <th>top</th>\n",
       "      <td>2006053</td>\n",
       "      <td>18109 (2000 NG11)</td>\n",
       "      <td>NaN</td>\n",
       "      <td>False</td>\n",
       "    </tr>\n",
       "    <tr>\n",
       "      <th>freq</th>\n",
       "      <td>1</td>\n",
       "      <td>1</td>\n",
       "      <td>NaN</td>\n",
       "      <td>152</td>\n",
       "    </tr>\n",
       "    <tr>\n",
       "      <th>mean</th>\n",
       "      <td>NaN</td>\n",
       "      <td>NaN</td>\n",
       "      <td>16.346750</td>\n",
       "      <td>NaN</td>\n",
       "    </tr>\n",
       "    <tr>\n",
       "      <th>std</th>\n",
       "      <td>NaN</td>\n",
       "      <td>NaN</td>\n",
       "      <td>1.639044</td>\n",
       "      <td>NaN</td>\n",
       "    </tr>\n",
       "    <tr>\n",
       "      <th>min</th>\n",
       "      <td>NaN</td>\n",
       "      <td>NaN</td>\n",
       "      <td>9.250000</td>\n",
       "      <td>NaN</td>\n",
       "    </tr>\n",
       "    <tr>\n",
       "      <th>25%</th>\n",
       "      <td>NaN</td>\n",
       "      <td>NaN</td>\n",
       "      <td>15.247500</td>\n",
       "      <td>NaN</td>\n",
       "    </tr>\n",
       "    <tr>\n",
       "      <th>50%</th>\n",
       "      <td>NaN</td>\n",
       "      <td>NaN</td>\n",
       "      <td>16.365000</td>\n",
       "      <td>NaN</td>\n",
       "    </tr>\n",
       "    <tr>\n",
       "      <th>75%</th>\n",
       "      <td>NaN</td>\n",
       "      <td>NaN</td>\n",
       "      <td>17.322500</td>\n",
       "      <td>NaN</td>\n",
       "    </tr>\n",
       "    <tr>\n",
       "      <th>max</th>\n",
       "      <td>NaN</td>\n",
       "      <td>NaN</td>\n",
       "      <td>20.790000</td>\n",
       "      <td>NaN</td>\n",
       "    </tr>\n",
       "  </tbody>\n",
       "</table>\n",
       "</div>"
      ],
      "text/plain": [
       "             id               name  absolute_magnitude_h  \\\n",
       "count       200                200            200.000000   \n",
       "unique      200                200                   NaN   \n",
       "top     2006053  18109 (2000 NG11)                   NaN   \n",
       "freq          1                  1                   NaN   \n",
       "mean        NaN                NaN             16.346750   \n",
       "std         NaN                NaN              1.639044   \n",
       "min         NaN                NaN              9.250000   \n",
       "25%         NaN                NaN             15.247500   \n",
       "50%         NaN                NaN             16.365000   \n",
       "75%         NaN                NaN             17.322500   \n",
       "max         NaN                NaN             20.790000   \n",
       "\n",
       "       is_potentially_hazardous_asteroid  \n",
       "count                                200  \n",
       "unique                                 2  \n",
       "top                                False  \n",
       "freq                                 152  \n",
       "mean                                 NaN  \n",
       "std                                  NaN  \n",
       "min                                  NaN  \n",
       "25%                                  NaN  \n",
       "50%                                  NaN  \n",
       "75%                                  NaN  \n",
       "max                                  NaN  "
      ]
     },
     "execution_count": 5,
     "metadata": {},
     "output_type": "execute_result"
    }
   ],
   "source": [
    "# Data frame simplificado com as informções do primeiro level dos dicionários\n",
    "simp_df = pd.json_normalize(data=raw_data, record_path=['near_earth_objects']).loc[:,int_cols]\n",
    "simp_df.describe(include='all')"
   ]
  },
  {
   "cell_type": "markdown",
   "id": "8b088b27-4486-4ade-9954-2e032b3af6cd",
   "metadata": {},
   "source": [
    "### Data frame estendido"
   ]
  },
  {
   "cell_type": "code",
   "execution_count": 6,
   "id": "4b300746-47a2-4372-a9b6-55b49809eca9",
   "metadata": {},
   "outputs": [],
   "source": [
    "# Lista das colunas de interesse para o data frame estendido\n",
    "int_cols_ext = ['id',\n",
    "                'name',\n",
    "               'absolute_magnitude_h',\n",
    "               'is_potentially_hazardous_asteroid',\n",
    "               'orbital_data.first_observation_date',\n",
    "               'orbital_data.minimum_orbit_intersection']"
   ]
  },
  {
   "cell_type": "code",
   "execution_count": 7,
   "id": "fd5c512c-487b-467d-a7b7-38f86a694a08",
   "metadata": {
    "tags": []
   },
   "outputs": [],
   "source": [
    "# appended_pages = []\n",
    "# for page in range(len(raw_data)):\n",
    "#     page_df = pd.json_normalize(raw_data[page]['near_earth_objects'], record_path=['close_approach_data'], meta=['id', 'absolute_magnitude_h', 'is_potentially_hazardous_asteroid'])#.loc[:,int_cols_ext]\n",
    "#     appended_pages.append(page_df)"
   ]
  },
  {
   "cell_type": "code",
   "execution_count": 8,
   "id": "c8195883-8f86-44cf-b3de-f76469a1c6e3",
   "metadata": {
    "tags": []
   },
   "outputs": [],
   "source": [
    "# Páginas agrupadas em forma de lista com as informações do segundo level dos dicionários \n",
    "appended_pages = []\n",
    "for page in range(len(raw_data)):\n",
    "    page_df = pd.json_normalize(raw_data[page]['near_earth_objects'], meta=['id', 'absolute_magnitude_h', 'is_potentially_hazardous_asteroid']).loc[:,int_cols_ext]\n",
    "    appended_pages.append(page_df)"
   ]
  },
  {
   "cell_type": "code",
   "execution_count": 9,
   "id": "37cd1458-20ad-4c85-8c66-3bc7e258c816",
   "metadata": {},
   "outputs": [
    {
     "data": {
      "text/html": [
       "<div>\n",
       "<style scoped>\n",
       "    .dataframe tbody tr th:only-of-type {\n",
       "        vertical-align: middle;\n",
       "    }\n",
       "\n",
       "    .dataframe tbody tr th {\n",
       "        vertical-align: top;\n",
       "    }\n",
       "\n",
       "    .dataframe thead th {\n",
       "        text-align: right;\n",
       "    }\n",
       "</style>\n",
       "<table border=\"1\" class=\"dataframe\">\n",
       "  <thead>\n",
       "    <tr style=\"text-align: right;\">\n",
       "      <th></th>\n",
       "      <th>id</th>\n",
       "      <th>name</th>\n",
       "      <th>absolute_magnitude_h</th>\n",
       "      <th>is_potentially_hazardous_asteroid</th>\n",
       "      <th>orbital_data.first_observation_date</th>\n",
       "      <th>orbital_data.minimum_orbit_intersection</th>\n",
       "    </tr>\n",
       "  </thead>\n",
       "  <tbody>\n",
       "    <tr>\n",
       "      <th>count</th>\n",
       "      <td>200</td>\n",
       "      <td>200</td>\n",
       "      <td>200.000000</td>\n",
       "      <td>200</td>\n",
       "      <td>200</td>\n",
       "      <td>200</td>\n",
       "    </tr>\n",
       "    <tr>\n",
       "      <th>unique</th>\n",
       "      <td>200</td>\n",
       "      <td>200</td>\n",
       "      <td>NaN</td>\n",
       "      <td>2</td>\n",
       "      <td>192</td>\n",
       "      <td>200</td>\n",
       "    </tr>\n",
       "    <tr>\n",
       "      <th>top</th>\n",
       "      <td>2006053</td>\n",
       "      <td>18109 (2000 NG11)</td>\n",
       "      <td>NaN</td>\n",
       "      <td>False</td>\n",
       "      <td>1960-10-22</td>\n",
       "      <td>.274532</td>\n",
       "    </tr>\n",
       "    <tr>\n",
       "      <th>freq</th>\n",
       "      <td>1</td>\n",
       "      <td>1</td>\n",
       "      <td>NaN</td>\n",
       "      <td>152</td>\n",
       "      <td>2</td>\n",
       "      <td>1</td>\n",
       "    </tr>\n",
       "    <tr>\n",
       "      <th>mean</th>\n",
       "      <td>NaN</td>\n",
       "      <td>NaN</td>\n",
       "      <td>16.346750</td>\n",
       "      <td>NaN</td>\n",
       "      <td>NaN</td>\n",
       "      <td>NaN</td>\n",
       "    </tr>\n",
       "    <tr>\n",
       "      <th>std</th>\n",
       "      <td>NaN</td>\n",
       "      <td>NaN</td>\n",
       "      <td>1.639044</td>\n",
       "      <td>NaN</td>\n",
       "      <td>NaN</td>\n",
       "      <td>NaN</td>\n",
       "    </tr>\n",
       "    <tr>\n",
       "      <th>min</th>\n",
       "      <td>NaN</td>\n",
       "      <td>NaN</td>\n",
       "      <td>9.250000</td>\n",
       "      <td>NaN</td>\n",
       "      <td>NaN</td>\n",
       "      <td>NaN</td>\n",
       "    </tr>\n",
       "    <tr>\n",
       "      <th>25%</th>\n",
       "      <td>NaN</td>\n",
       "      <td>NaN</td>\n",
       "      <td>15.247500</td>\n",
       "      <td>NaN</td>\n",
       "      <td>NaN</td>\n",
       "      <td>NaN</td>\n",
       "    </tr>\n",
       "    <tr>\n",
       "      <th>50%</th>\n",
       "      <td>NaN</td>\n",
       "      <td>NaN</td>\n",
       "      <td>16.365000</td>\n",
       "      <td>NaN</td>\n",
       "      <td>NaN</td>\n",
       "      <td>NaN</td>\n",
       "    </tr>\n",
       "    <tr>\n",
       "      <th>75%</th>\n",
       "      <td>NaN</td>\n",
       "      <td>NaN</td>\n",
       "      <td>17.322500</td>\n",
       "      <td>NaN</td>\n",
       "      <td>NaN</td>\n",
       "      <td>NaN</td>\n",
       "    </tr>\n",
       "    <tr>\n",
       "      <th>max</th>\n",
       "      <td>NaN</td>\n",
       "      <td>NaN</td>\n",
       "      <td>20.790000</td>\n",
       "      <td>NaN</td>\n",
       "      <td>NaN</td>\n",
       "      <td>NaN</td>\n",
       "    </tr>\n",
       "  </tbody>\n",
       "</table>\n",
       "</div>"
      ],
      "text/plain": [
       "             id               name  absolute_magnitude_h  \\\n",
       "count       200                200            200.000000   \n",
       "unique      200                200                   NaN   \n",
       "top     2006053  18109 (2000 NG11)                   NaN   \n",
       "freq          1                  1                   NaN   \n",
       "mean        NaN                NaN             16.346750   \n",
       "std         NaN                NaN              1.639044   \n",
       "min         NaN                NaN              9.250000   \n",
       "25%         NaN                NaN             15.247500   \n",
       "50%         NaN                NaN             16.365000   \n",
       "75%         NaN                NaN             17.322500   \n",
       "max         NaN                NaN             20.790000   \n",
       "\n",
       "       is_potentially_hazardous_asteroid orbital_data.first_observation_date  \\\n",
       "count                                200                                 200   \n",
       "unique                                 2                                 192   \n",
       "top                                False                          1960-10-22   \n",
       "freq                                 152                                   2   \n",
       "mean                                 NaN                                 NaN   \n",
       "std                                  NaN                                 NaN   \n",
       "min                                  NaN                                 NaN   \n",
       "25%                                  NaN                                 NaN   \n",
       "50%                                  NaN                                 NaN   \n",
       "75%                                  NaN                                 NaN   \n",
       "max                                  NaN                                 NaN   \n",
       "\n",
       "       orbital_data.minimum_orbit_intersection  \n",
       "count                                      200  \n",
       "unique                                     200  \n",
       "top                                    .274532  \n",
       "freq                                         1  \n",
       "mean                                       NaN  \n",
       "std                                        NaN  \n",
       "min                                        NaN  \n",
       "25%                                        NaN  \n",
       "50%                                        NaN  \n",
       "75%                                        NaN  \n",
       "max                                        NaN  "
      ]
     },
     "execution_count": 9,
     "metadata": {},
     "output_type": "execute_result"
    }
   ],
   "source": [
    "# Cria o data frame estendido\n",
    "ext_df = pd.concat(appended_pages, ignore_index=True)\n",
    "ext_df.describe(include='all')"
   ]
  },
  {
   "cell_type": "markdown",
   "id": "db3345cb-2310-425d-9e14-468a761c506b",
   "metadata": {},
   "source": [
    "## Número de objetos perigosos à Terra"
   ]
  },
  {
   "cell_type": "code",
   "execution_count": 10,
   "id": "9bfa0d64-06ff-4c82-a320-e61f20b7db75",
   "metadata": {},
   "outputs": [
    {
     "data": {
      "text/html": [
       "<div>\n",
       "<style scoped>\n",
       "    .dataframe tbody tr th:only-of-type {\n",
       "        vertical-align: middle;\n",
       "    }\n",
       "\n",
       "    .dataframe tbody tr th {\n",
       "        vertical-align: top;\n",
       "    }\n",
       "\n",
       "    .dataframe thead th {\n",
       "        text-align: right;\n",
       "    }\n",
       "</style>\n",
       "<table border=\"1\" class=\"dataframe\">\n",
       "  <thead>\n",
       "    <tr style=\"text-align: right;\">\n",
       "      <th></th>\n",
       "      <th>id</th>\n",
       "      <th>name</th>\n",
       "      <th>absolute_magnitude_h</th>\n",
       "      <th>is_potentially_hazardous_asteroid</th>\n",
       "    </tr>\n",
       "  </thead>\n",
       "  <tbody>\n",
       "    <tr>\n",
       "      <th>5</th>\n",
       "      <td>2001566</td>\n",
       "      <td>1566 Icarus (1949 MA)</td>\n",
       "      <td>16.34</td>\n",
       "      <td>True</td>\n",
       "    </tr>\n",
       "    <tr>\n",
       "      <th>7</th>\n",
       "      <td>2001620</td>\n",
       "      <td>1620 Geographos (1951 RA)</td>\n",
       "      <td>15.30</td>\n",
       "      <td>True</td>\n",
       "    </tr>\n",
       "    <tr>\n",
       "      <th>10</th>\n",
       "      <td>2001862</td>\n",
       "      <td>1862 Apollo (1932 HA)</td>\n",
       "      <td>16.11</td>\n",
       "      <td>True</td>\n",
       "    </tr>\n",
       "    <tr>\n",
       "      <th>20</th>\n",
       "      <td>2001981</td>\n",
       "      <td>1981 Midas (1973 EA)</td>\n",
       "      <td>15.22</td>\n",
       "      <td>True</td>\n",
       "    </tr>\n",
       "    <tr>\n",
       "      <th>26</th>\n",
       "      <td>2002101</td>\n",
       "      <td>2101 Adonis (1936 CA)</td>\n",
       "      <td>18.64</td>\n",
       "      <td>True</td>\n",
       "    </tr>\n",
       "  </tbody>\n",
       "</table>\n",
       "</div>"
      ],
      "text/plain": [
       "         id                       name  absolute_magnitude_h  \\\n",
       "5   2001566      1566 Icarus (1949 MA)                 16.34   \n",
       "7   2001620  1620 Geographos (1951 RA)                 15.30   \n",
       "10  2001862      1862 Apollo (1932 HA)                 16.11   \n",
       "20  2001981       1981 Midas (1973 EA)                 15.22   \n",
       "26  2002101      2101 Adonis (1936 CA)                 18.64   \n",
       "\n",
       "    is_potentially_hazardous_asteroid  \n",
       "5                                True  \n",
       "7                                True  \n",
       "10                               True  \n",
       "20                               True  \n",
       "26                               True  "
      ]
     },
     "execution_count": 10,
     "metadata": {},
     "output_type": "execute_result"
    }
   ],
   "source": [
    "# Data frame somente com os objetos perigosos à Terra\n",
    "dang_obj = simp_df.loc[simp_df['is_potentially_hazardous_asteroid']==True]\n",
    "dang_obj.head()"
   ]
  },
  {
   "cell_type": "code",
   "execution_count": 11,
   "id": "06126ee3-f839-4f02-a70e-d04bab03f770",
   "metadata": {},
   "outputs": [
    {
     "name": "stdout",
     "output_type": "stream",
     "text": [
      "Quantidade de objetos pergisos à Terra: 48\n",
      "Porcentagem de objetos perigoso: 24.0%\n"
     ]
    }
   ],
   "source": [
    "num_dang_obj = len(dang_obj)\n",
    "porc_dang_obj = round(100*len(dang_obj)/len(simp_df), 2)\n",
    "print(f'Quantidade de objetos pergisos à Terra: {num_dang_obj}')\n",
    "print(f'Porcentagem de objetos perigoso: {porc_dang_obj}%')"
   ]
  },
  {
   "cell_type": "markdown",
   "id": "e8e44ee3-c875-45d8-9e78-d75433bed92f",
   "metadata": {},
   "source": [
    "## Média e desvio padrão da distância dos objetos perigosos"
   ]
  },
  {
   "cell_type": "code",
   "execution_count": 12,
   "id": "05863b72-2e61-4ec0-93b5-2366c3495e21",
   "metadata": {},
   "outputs": [
    {
     "data": {
      "text/plain": [
       "array(['2001566', '2001620', '2001862', '2001981', '2002101', '2002102',\n",
       "       '2002135', '2002201', '2002340', '2003122', '2003200', '2003361',\n",
       "       '2003362', '2003671', '2003757', '2004015', '2004034', '2004179',\n",
       "       '2004183', '2004450', '2004486', '2004581', '2004660', '2004769',\n",
       "       '2004953', '2005011', '2005189', '2005604', '2005693', '2006037',\n",
       "       '2006239', '2006489', '2006491', '2007335', '2007341', '2007482',\n",
       "       '2007753', '2007822', '2008014', '2008566', '2009856', '2010115',\n",
       "       '2011500', '2012538', '2012923', '2013651', '2014827', '2016960'],\n",
       "      dtype=object)"
      ]
     },
     "execution_count": 12,
     "metadata": {},
     "output_type": "execute_result"
    }
   ],
   "source": [
    "dang_obj_id = dang_obj['id'].values\n",
    "dang_obj_id"
   ]
  },
  {
   "cell_type": "code",
   "execution_count": 13,
   "id": "24ac8ad7-4b2d-4e6e-a9a3-e2d3323b8308",
   "metadata": {},
   "outputs": [],
   "source": [
    "# Converte a coluna 'orbital_data.minimum_orbit_intersection' em float\n",
    "ext_df['orbital_data.minimum_orbit_intersection'] = ext_df['orbital_data.minimum_orbit_intersection'].astype(float)"
   ]
  },
  {
   "cell_type": "code",
   "execution_count": 14,
   "id": "19d9fda0-ae39-4dc5-9ae1-3c8e834db990",
   "metadata": {},
   "outputs": [],
   "source": [
    "#mean_all = ext_df.groupby('id', as_index=False).mean()#.drop('is_potentially_hazardous_asteroid', axis=1)"
   ]
  },
  {
   "cell_type": "code",
   "execution_count": 15,
   "id": "62493e7d-709b-4d78-a083-34e9de44b8f7",
   "metadata": {},
   "outputs": [],
   "source": [
    "#mean_all.head()"
   ]
  },
  {
   "cell_type": "code",
   "execution_count": 16,
   "id": "248d8a0f-1e49-4d2e-806b-c05e3c592a33",
   "metadata": {
    "tags": []
   },
   "outputs": [],
   "source": [
    "# dang_obj_mean = mean_all.loc[mean_all['id'].isin(dang_obj_id)]\n",
    "# dang_obj_mean = dang_obj_mean.rename(columns={'orbital_data.minimum_orbit_intersection': 'mean'})\n",
    "# dang_obj_mean"
   ]
  },
  {
   "cell_type": "code",
   "execution_count": 17,
   "id": "c260b715-f3a1-4d91-b6ab-9dcda080b10e",
   "metadata": {},
   "outputs": [],
   "source": [
    "#std_all = ext_df.groupby('id', as_index=False).std()#.drop('absolute_magnitude_h', axis=1)"
   ]
  },
  {
   "cell_type": "code",
   "execution_count": 18,
   "id": "7c653f59-15bf-4546-b417-95696a8ae9b1",
   "metadata": {},
   "outputs": [],
   "source": [
    "# dang_obj_std = std_all.loc[std_all['id'].isin(dang_obj_id)]\n",
    "# dang_obj_std = dang_obj_std.rename(columns={'miss_distance.lunar': 'std'})\n",
    "# dang_obj_std"
   ]
  },
  {
   "cell_type": "code",
   "execution_count": 19,
   "id": "a57c9915-5b93-4157-b95a-bdf8ca11b68a",
   "metadata": {},
   "outputs": [],
   "source": [
    "# dang_obj_sta = pd.concat([dang_obj, dang_obj_mean['mean'], dang_obj_std['std']], axis=1)\n",
    "# dang_obj_sta"
   ]
  },
  {
   "cell_type": "code",
   "execution_count": 20,
   "id": "9e104b3d-7d78-4558-afaa-8cbead8eeaea",
   "metadata": {},
   "outputs": [
    {
     "name": "stdout",
     "output_type": "stream",
     "text": [
      "Média das distâncias mínimas dos objetos perigosos: 0.0228\n",
      "Desvio padrão das distânsicas mínimas dos objetos perigosos: 0.0133\n"
     ]
    }
   ],
   "source": [
    "mean_min_distance = ext_df.loc[ext_df['id'].isin(dang_obj_id)]['orbital_data.minimum_orbit_intersection'].mean()\n",
    "std_min_distance = ext_df.loc[ext_df['id'].isin(dang_obj_id)]['orbital_data.minimum_orbit_intersection'].std()\n",
    "print(f\"Média das distâncias mínimas dos objetos perigosos: {round(mean_min_distance, 4)}\")\n",
    "print(f\"Desvio padrão das distânsicas mínimas dos objetos perigosos: {round(std_min_distance, 4)}\")"
   ]
  },
  {
   "cell_type": "markdown",
   "id": "70bc0bf0-91cf-45a5-989f-c3f8f5e4aa03",
   "metadata": {},
   "source": [
    "## Aproximação de asteróides perigosos à Terra entre 2000 e 2021"
   ]
  },
  {
   "cell_type": "code",
   "execution_count": 21,
   "id": "3348cf77-7d2a-4917-9e0d-83979ae9dda4",
   "metadata": {},
   "outputs": [],
   "source": [
    "# Converte a coluna 'orbital_data.first_observation_date' em forma de datas\n",
    "ext_df['orbital_data.first_observation_date'] = pd.to_datetime(ext_df['orbital_data.first_observation_date'])"
   ]
  },
  {
   "cell_type": "code",
   "execution_count": 22,
   "id": "51dcbed8-206f-4a7a-9157-aae9ae858852",
   "metadata": {},
   "outputs": [],
   "source": [
    "# Cria o filtro dos objetos pela data desejada\n",
    "# start_date = '2000-01-01'\n",
    "# end_date = '2021-12-31'\n",
    "# mask = (ext_df['orbital_data.first_observation_date'] > start_date) & (ext_df['orbital_data.first_observation_date'] < end_date)"
   ]
  },
  {
   "cell_type": "code",
   "execution_count": 23,
   "id": "7504a82a-f5e1-410f-bc59-c3ba30e52d23",
   "metadata": {},
   "outputs": [],
   "source": [
    "# obj_period = ext_df.loc[mask]\n",
    "# obj_period.head()"
   ]
  },
  {
   "cell_type": "code",
   "execution_count": 24,
   "id": "52806080-0acb-42f8-91c8-a3599cab7b28",
   "metadata": {},
   "outputs": [],
   "source": [
    "# dang_obj_period = obj_period.loc[obj_period['is_potentially_hazardous_asteroid']==True]\n",
    "# dang_obj_period['close_approach_date'].hist(bins=22)\n",
    "# plt.title('Objetos perigosos à Terra no período de 2000 e 20021')\n",
    "# plt.xlabel('Ano de aproximação')\n",
    "# plt.ylabel('Contagem')\n",
    "# plt.show()"
   ]
  },
  {
   "cell_type": "markdown",
   "id": "b977586e-182d-4e7a-b956-76c55baaa061",
   "metadata": {},
   "source": [
    "**A organização dos dados mudaram, de forma que para conseguir as aparições dos objetos por ano ficou mais complexa.**"
   ]
  },
  {
   "cell_type": "markdown",
   "id": "9b1e70c3-22d3-4f63-ac5c-bd78d2d5938a",
   "metadata": {},
   "source": [
    "## Histograma dos tamanhos dos objetos perigosos"
   ]
  },
  {
   "cell_type": "code",
   "execution_count": 25,
   "id": "0ae20c07-ffa5-473a-9925-a3f2ee7ab97f",
   "metadata": {},
   "outputs": [
    {
     "data": {
      "image/png": "[encoded data removed]",
      "text/plain": [
       "<Figure size 432x288 with 1 Axes>"
      ]
     },
     "metadata": {
      "needs_background": "light"
     },
     "output_type": "display_data"
    }
   ],
   "source": [
    "dang_obj['absolute_magnitude_h'].hist(bins=8)\n",
    "plt.title('Tamanho dos asteróides perigosos à Terra')\n",
    "plt.xlabel('Magnitude absoluta (M)')\n",
    "plt.ylabel('Contagem')\n",
    "plt.show()"
   ]
  },
  {
   "cell_type": "markdown",
   "id": "10b68735-d74d-4de9-befe-b1849df4d7ad",
   "metadata": {},
   "source": [
    "## Histograma dos tamanhos dos objetos inofencivos"
   ]
  },
  {
   "cell_type": "code",
   "execution_count": 26,
   "id": "8b092007-1862-4cd0-b45e-2e6d7617aaa5",
   "metadata": {},
   "outputs": [
    {
     "data": {
      "image/png": "[encoded data removed]",
      "text/plain": [
       "<Figure size 432x288 with 1 Axes>"
      ]
     },
     "metadata": {
      "needs_background": "light"
     },
     "output_type": "display_data"
    }
   ],
   "source": [
    "simp_df.loc[-simp_df['id'].isin(dang_obj_id)]['absolute_magnitude_h'].hist(bins=15)\n",
    "plt.title('Tamanho dos asteróides inofencivos à Terra')\n",
    "plt.xlabel('Magnitude absoluta (M)')\n",
    "plt.ylabel('Contagem')\n",
    "plt.show()"
   ]
  },
  {
   "cell_type": "markdown",
   "id": "6b177b3c-3662-4516-b880-3df6cde98bc1",
   "metadata": {},
   "source": [
    "## Algumas informações estatísticas"
   ]
  },
  {
   "cell_type": "markdown",
   "id": "e576b298-c8b6-45ad-b5ef-dda6e3ef83be",
   "metadata": {},
   "source": [
    "### Gráfico da dispersão"
   ]
  },
  {
   "cell_type": "code",
   "execution_count": 27,
   "id": "3a0987d2-058f-407a-9d6f-00e68a620a07",
   "metadata": {},
   "outputs": [],
   "source": [
    "# x = dang_obj_sta['mean']\n",
    "# y = dang_obj_sta['absolute_magnitude_h']\n",
    "\n",
    "# plt.title('Gráfico de dispersão da distância média por M')\n",
    "# plt.xlabel('Média da mínima distância observada')\n",
    "# plt.ylabel('Magnitude absoluta (M)')\n",
    "# plt.plot(x,y, 'o')\n",
    "# plt.show()"
   ]
  },
  {
   "cell_type": "markdown",
   "id": "442d3070-32c6-472d-875f-0376560992cd",
   "metadata": {},
   "source": [
    "Gráfico de disperção entre a magnitude absoluta (M) e a média da mínima distância observada para cada asteróide"
   ]
  },
  {
   "cell_type": "markdown",
   "id": "9c22a766-aa71-4b1c-9ecf-dbf590ccddcd",
   "metadata": {},
   "source": [
    "### Correlação e covariância dos dados dos objetos perigosos"
   ]
  },
  {
   "cell_type": "code",
   "execution_count": 28,
   "id": "56cf8384-8341-4d2b-8a74-0367e2cf64d4",
   "metadata": {},
   "outputs": [
    {
     "data": {
      "text/html": [
       "<div>\n",
       "<style scoped>\n",
       "    .dataframe tbody tr th:only-of-type {\n",
       "        vertical-align: middle;\n",
       "    }\n",
       "\n",
       "    .dataframe tbody tr th {\n",
       "        vertical-align: top;\n",
       "    }\n",
       "\n",
       "    .dataframe thead th {\n",
       "        text-align: right;\n",
       "    }\n",
       "</style>\n",
       "<table border=\"1\" class=\"dataframe\">\n",
       "  <thead>\n",
       "    <tr style=\"text-align: right;\">\n",
       "      <th></th>\n",
       "      <th>id</th>\n",
       "      <th>name</th>\n",
       "      <th>absolute_magnitude_h</th>\n",
       "      <th>is_potentially_hazardous_asteroid</th>\n",
       "      <th>orbital_data.first_observation_date</th>\n",
       "      <th>orbital_data.minimum_orbit_intersection</th>\n",
       "    </tr>\n",
       "  </thead>\n",
       "  <tbody>\n",
       "    <tr>\n",
       "      <th>5</th>\n",
       "      <td>2001566</td>\n",
       "      <td>1566 Icarus (1949 MA)</td>\n",
       "      <td>16.34</td>\n",
       "      <td>True</td>\n",
       "      <td>1949-07-01</td>\n",
       "      <td>0.033700</td>\n",
       "    </tr>\n",
       "    <tr>\n",
       "      <th>7</th>\n",
       "      <td>2001620</td>\n",
       "      <td>1620 Geographos (1951 RA)</td>\n",
       "      <td>15.30</td>\n",
       "      <td>True</td>\n",
       "      <td>1951-09-14</td>\n",
       "      <td>0.029221</td>\n",
       "    </tr>\n",
       "    <tr>\n",
       "      <th>10</th>\n",
       "      <td>2001862</td>\n",
       "      <td>1862 Apollo (1932 HA)</td>\n",
       "      <td>16.11</td>\n",
       "      <td>True</td>\n",
       "      <td>1930-12-13</td>\n",
       "      <td>0.026045</td>\n",
       "    </tr>\n",
       "    <tr>\n",
       "      <th>20</th>\n",
       "      <td>2001981</td>\n",
       "      <td>1981 Midas (1973 EA)</td>\n",
       "      <td>15.22</td>\n",
       "      <td>True</td>\n",
       "      <td>1973-03-06</td>\n",
       "      <td>0.003288</td>\n",
       "    </tr>\n",
       "    <tr>\n",
       "      <th>26</th>\n",
       "      <td>2002101</td>\n",
       "      <td>2101 Adonis (1936 CA)</td>\n",
       "      <td>18.64</td>\n",
       "      <td>True</td>\n",
       "      <td>1936-02-21</td>\n",
       "      <td>0.011560</td>\n",
       "    </tr>\n",
       "  </tbody>\n",
       "</table>\n",
       "</div>"
      ],
      "text/plain": [
       "         id                       name  absolute_magnitude_h  \\\n",
       "5   2001566      1566 Icarus (1949 MA)                 16.34   \n",
       "7   2001620  1620 Geographos (1951 RA)                 15.30   \n",
       "10  2001862      1862 Apollo (1932 HA)                 16.11   \n",
       "20  2001981       1981 Midas (1973 EA)                 15.22   \n",
       "26  2002101      2101 Adonis (1936 CA)                 18.64   \n",
       "\n",
       "    is_potentially_hazardous_asteroid orbital_data.first_observation_date  \\\n",
       "5                                True                          1949-07-01   \n",
       "7                                True                          1951-09-14   \n",
       "10                               True                          1930-12-13   \n",
       "20                               True                          1973-03-06   \n",
       "26                               True                          1936-02-21   \n",
       "\n",
       "    orbital_data.minimum_orbit_intersection  \n",
       "5                                  0.033700  \n",
       "7                                  0.029221  \n",
       "10                                 0.026045  \n",
       "20                                 0.003288  \n",
       "26                                 0.011560  "
      ]
     },
     "execution_count": 28,
     "metadata": {},
     "output_type": "execute_result"
    }
   ],
   "source": [
    "ext_dang_obj = ext_df.loc[ext_df['is_potentially_hazardous_asteroid']==True]\n",
    "ext_dang_obj.head()"
   ]
  },
  {
   "cell_type": "code",
   "execution_count": 29,
   "id": "9dc9abad-652e-4d7d-a313-6ec6b3732c32",
   "metadata": {},
   "outputs": [
    {
     "data": {
      "text/html": [
       "<div>\n",
       "<style scoped>\n",
       "    .dataframe tbody tr th:only-of-type {\n",
       "        vertical-align: middle;\n",
       "    }\n",
       "\n",
       "    .dataframe tbody tr th {\n",
       "        vertical-align: top;\n",
       "    }\n",
       "\n",
       "    .dataframe thead th {\n",
       "        text-align: right;\n",
       "    }\n",
       "</style>\n",
       "<table border=\"1\" class=\"dataframe\">\n",
       "  <thead>\n",
       "    <tr style=\"text-align: right;\">\n",
       "      <th></th>\n",
       "      <th>absolute_magnitude_h</th>\n",
       "      <th>is_potentially_hazardous_asteroid</th>\n",
       "      <th>orbital_data.minimum_orbit_intersection</th>\n",
       "    </tr>\n",
       "  </thead>\n",
       "  <tbody>\n",
       "    <tr>\n",
       "      <th>absolute_magnitude_h</th>\n",
       "      <td>1.000000</td>\n",
       "      <td>NaN</td>\n",
       "      <td>-0.201645</td>\n",
       "    </tr>\n",
       "    <tr>\n",
       "      <th>is_potentially_hazardous_asteroid</th>\n",
       "      <td>NaN</td>\n",
       "      <td>NaN</td>\n",
       "      <td>NaN</td>\n",
       "    </tr>\n",
       "    <tr>\n",
       "      <th>orbital_data.minimum_orbit_intersection</th>\n",
       "      <td>-0.201645</td>\n",
       "      <td>NaN</td>\n",
       "      <td>1.000000</td>\n",
       "    </tr>\n",
       "  </tbody>\n",
       "</table>\n",
       "</div>"
      ],
      "text/plain": [
       "                                         absolute_magnitude_h  \\\n",
       "absolute_magnitude_h                                 1.000000   \n",
       "is_potentially_hazardous_asteroid                         NaN   \n",
       "orbital_data.minimum_orbit_intersection             -0.201645   \n",
       "\n",
       "                                         is_potentially_hazardous_asteroid  \\\n",
       "absolute_magnitude_h                                                   NaN   \n",
       "is_potentially_hazardous_asteroid                                      NaN   \n",
       "orbital_data.minimum_orbit_intersection                                NaN   \n",
       "\n",
       "                                         orbital_data.minimum_orbit_intersection  \n",
       "absolute_magnitude_h                                                   -0.201645  \n",
       "is_potentially_hazardous_asteroid                                            NaN  \n",
       "orbital_data.minimum_orbit_intersection                                 1.000000  "
      ]
     },
     "execution_count": 29,
     "metadata": {},
     "output_type": "execute_result"
    }
   ],
   "source": [
    "ext_dang_obj.corr()"
   ]
  },
  {
   "cell_type": "code",
   "execution_count": 30,
   "id": "627b27e2-704c-425e-9401-6d75ab59559b",
   "metadata": {},
   "outputs": [
    {
     "data": {
      "text/html": [
       "<div>\n",
       "<style scoped>\n",
       "    .dataframe tbody tr th:only-of-type {\n",
       "        vertical-align: middle;\n",
       "    }\n",
       "\n",
       "    .dataframe tbody tr th {\n",
       "        vertical-align: top;\n",
       "    }\n",
       "\n",
       "    .dataframe thead th {\n",
       "        text-align: right;\n",
       "    }\n",
       "</style>\n",
       "<table border=\"1\" class=\"dataframe\">\n",
       "  <thead>\n",
       "    <tr style=\"text-align: right;\">\n",
       "      <th></th>\n",
       "      <th>absolute_magnitude_h</th>\n",
       "      <th>is_potentially_hazardous_asteroid</th>\n",
       "      <th>orbital_data.minimum_orbit_intersection</th>\n",
       "    </tr>\n",
       "  </thead>\n",
       "  <tbody>\n",
       "    <tr>\n",
       "      <th>absolute_magnitude_h</th>\n",
       "      <td>2.580902</td>\n",
       "      <td>0.0</td>\n",
       "      <td>-0.004314</td>\n",
       "    </tr>\n",
       "    <tr>\n",
       "      <th>is_potentially_hazardous_asteroid</th>\n",
       "      <td>0.000000</td>\n",
       "      <td>0.0</td>\n",
       "      <td>0.000000</td>\n",
       "    </tr>\n",
       "    <tr>\n",
       "      <th>orbital_data.minimum_orbit_intersection</th>\n",
       "      <td>-0.004314</td>\n",
       "      <td>0.0</td>\n",
       "      <td>0.000177</td>\n",
       "    </tr>\n",
       "  </tbody>\n",
       "</table>\n",
       "</div>"
      ],
      "text/plain": [
       "                                         absolute_magnitude_h  \\\n",
       "absolute_magnitude_h                                 2.580902   \n",
       "is_potentially_hazardous_asteroid                    0.000000   \n",
       "orbital_data.minimum_orbit_intersection             -0.004314   \n",
       "\n",
       "                                         is_potentially_hazardous_asteroid  \\\n",
       "absolute_magnitude_h                                                   0.0   \n",
       "is_potentially_hazardous_asteroid                                      0.0   \n",
       "orbital_data.minimum_orbit_intersection                                0.0   \n",
       "\n",
       "                                         orbital_data.minimum_orbit_intersection  \n",
       "absolute_magnitude_h                                                   -0.004314  \n",
       "is_potentially_hazardous_asteroid                                       0.000000  \n",
       "orbital_data.minimum_orbit_intersection                                 0.000177  "
      ]
     },
     "execution_count": 30,
     "metadata": {},
     "output_type": "execute_result"
    }
   ],
   "source": [
    "ext_dang_obj.cov()"
   ]
  },
  {
   "cell_type": "markdown",
   "id": "c803439f-a1e1-43ce-9ae9-c5beda362efc",
   "metadata": {},
   "source": [
    "### Distribuição dos tamanhos dos objetos perigosos e inofencivos"
   ]
  },
  {
   "cell_type": "code",
   "execution_count": 31,
   "id": "dff88d81-c511-4ff5-9702-037c339667c7",
   "metadata": {},
   "outputs": [
    {
     "data": {
      "image/png": "[encoded data removed]",
      "text/plain": [
       "<Figure size 432x288 with 1 Axes>"
      ]
     },
     "metadata": {
      "needs_background": "light"
     },
     "output_type": "display_data"
    }
   ],
   "source": [
    "# data parameters\n",
    "x = dang_obj['absolute_magnitude_h']\n",
    "mu = x.mean()  # mean of distribution\n",
    "sigma = x.std()  # standard deviation of distribution\n",
    "\n",
    "num_bins = 15\n",
    "\n",
    "fig, ax = plt.subplots()\n",
    "\n",
    "# the histogram of the data\n",
    "n, bins, patches = ax.hist(x, num_bins, density=True)\n",
    "\n",
    "# add a 'best fit' line\n",
    "y = ((1 / (np.sqrt(2 * np.pi) * sigma)) *\n",
    "     np.exp(-0.5 * (1 / sigma * (bins - mu))**2))\n",
    "ax.plot(bins, y, '--')\n",
    "ax.set_xlabel('Magnitude absoluta (M)')\n",
    "ax.set_ylabel('Densidade de probabilidade')\n",
    "ax.set_title(r'Objetos perigosos à Terra: $\\mu=18.72$, $\\sigma=1.55$')\n",
    "\n",
    "# Tweak spacing to prevent clipping of ylabel\n",
    "fig.tight_layout()\n",
    "plt.show()"
   ]
  },
  {
   "cell_type": "code",
   "execution_count": 32,
   "id": "d3f93f78-198f-44d1-93d1-b56d9d9efe7c",
   "metadata": {},
   "outputs": [
    {
     "data": {
      "image/png": "[encoded data removed]",
      "text/plain": [
       "<Figure size 432x288 with 1 Axes>"
      ]
     },
     "metadata": {
      "needs_background": "light"
     },
     "output_type": "display_data"
    }
   ],
   "source": [
    "# data parameters\n",
    "x = simp_df.loc[-simp_df['id'].isin(dang_obj_id)]['absolute_magnitude_h']\n",
    "mu = x.mean()  # mean of distribution\n",
    "sigma = x.std()  # standard deviation of distribution\n",
    "\n",
    "num_bins = 15\n",
    "\n",
    "fig, ax = plt.subplots()\n",
    "\n",
    "# the histogram of the data\n",
    "n, bins, patches = ax.hist(x, num_bins, density=True)\n",
    "\n",
    "# add a 'best fit' line\n",
    "y = ((1 / (np.sqrt(2 * np.pi) * sigma)) *\n",
    "     np.exp(-0.5 * (1 / sigma * (bins - mu))**2))\n",
    "ax.plot(bins, y, '--')\n",
    "ax.set_xlabel('Magnitude absoluta (M)')\n",
    "ax.set_ylabel('Densidade de probabilidade')\n",
    "ax.set_title(r'Objetos inofencivos à Terra: $\\mu=18.02$, $\\sigma=1.58$')\n",
    "\n",
    "# Tweak spacing to prevent clipping of ylabel\n",
    "fig.tight_layout()\n",
    "plt.show()"
   ]
  },
  {
   "cell_type": "markdown",
   "id": "1461ec19-0f08-4497-bea7-d3c345682212",
   "metadata": {},
   "source": [
    "## Exploração dos dados"
   ]
  },
  {
   "cell_type": "markdown",
   "id": "ac1678e4-38a3-4f44-a2b6-34a4593fd7cd",
   "metadata": {},
   "source": [
    "Histograma sobrepondo a magnitude absoluta (M) dos objetos perigosos sobre os inofencivos"
   ]
  },
  {
   "cell_type": "code",
   "execution_count": 44,
   "id": "8c381252-3bf1-402a-b2cc-171e53a189db",
   "metadata": {},
   "outputs": [
    {
     "data": {
      "image/png": "[encoded data removed]",
      "text/plain": [
       "<Figure size 432x288 with 1 Axes>"
      ]
     },
     "metadata": {
      "needs_background": "light"
     },
     "output_type": "display_data"
    }
   ],
   "source": [
    "x1 = dang_obj['absolute_magnitude_h']\n",
    "x2 = simp_df.loc[-simp_df['id'].isin(dang_obj_id)]['absolute_magnitude_h']\n",
    "\n",
    "bins = 15\n",
    "\n",
    "plt.hist(x1, bins, alpha=0.5, label='Dang. obj.')\n",
    "plt.hist(x2, bins, alpha=0.3, label='Inof. obj.')\n",
    "plt.legend(loc='upper right')\n",
    "plt.show()"
   ]
  },
  {
   "cell_type": "markdown",
   "id": "f69d63c6-8332-4097-90be-933298bf7320",
   "metadata": {},
   "source": [
    "Gráfico de bolhas de três dimensões, data de aproximação x distância mínima x magnitude absoluta.  \n",
    "As cores distinguem entre perigosos e inofencivos."
   ]
  },
  {
   "cell_type": "code",
   "execution_count": 48,
   "id": "b33d6a5a-c84a-4695-b6ab-fb15bb574aee",
   "metadata": {},
   "outputs": [
    {
     "data": {
      "text/html": [
       "<div>\n",
       "<style scoped>\n",
       "    .dataframe tbody tr th:only-of-type {\n",
       "        vertical-align: middle;\n",
       "    }\n",
       "\n",
       "    .dataframe tbody tr th {\n",
       "        vertical-align: top;\n",
       "    }\n",
       "\n",
       "    .dataframe thead th {\n",
       "        text-align: right;\n",
       "    }\n",
       "</style>\n",
       "<table border=\"1\" class=\"dataframe\">\n",
       "  <thead>\n",
       "    <tr style=\"text-align: right;\">\n",
       "      <th></th>\n",
       "      <th>absolute_magnitude_h</th>\n",
       "      <th>orbital_data.minimum_orbit_intersection</th>\n",
       "    </tr>\n",
       "  </thead>\n",
       "  <tbody>\n",
       "    <tr>\n",
       "      <th>count</th>\n",
       "      <td>152.000000</td>\n",
       "      <td>152.000000</td>\n",
       "    </tr>\n",
       "    <tr>\n",
       "      <th>mean</th>\n",
       "      <td>16.121974</td>\n",
       "      <td>0.181331</td>\n",
       "    </tr>\n",
       "    <tr>\n",
       "      <th>std</th>\n",
       "      <td>1.589088</td>\n",
       "      <td>0.089278</td>\n",
       "    </tr>\n",
       "    <tr>\n",
       "      <th>min</th>\n",
       "      <td>9.250000</td>\n",
       "      <td>0.050776</td>\n",
       "    </tr>\n",
       "    <tr>\n",
       "      <th>25%</th>\n",
       "      <td>15.150000</td>\n",
       "      <td>0.107445</td>\n",
       "    </tr>\n",
       "    <tr>\n",
       "      <th>50%</th>\n",
       "      <td>16.135000</td>\n",
       "      <td>0.175150</td>\n",
       "    </tr>\n",
       "    <tr>\n",
       "      <th>75%</th>\n",
       "      <td>17.167500</td>\n",
       "      <td>0.244668</td>\n",
       "    </tr>\n",
       "    <tr>\n",
       "      <th>max</th>\n",
       "      <td>19.700000</td>\n",
       "      <td>0.425066</td>\n",
       "    </tr>\n",
       "  </tbody>\n",
       "</table>\n",
       "</div>"
      ],
      "text/plain": [
       "       absolute_magnitude_h  orbital_data.minimum_orbit_intersection\n",
       "count            152.000000                               152.000000\n",
       "mean              16.121974                                 0.181331\n",
       "std                1.589088                                 0.089278\n",
       "min                9.250000                                 0.050776\n",
       "25%               15.150000                                 0.107445\n",
       "50%               16.135000                                 0.175150\n",
       "75%               17.167500                                 0.244668\n",
       "max               19.700000                                 0.425066"
      ]
     },
     "execution_count": 48,
     "metadata": {},
     "output_type": "execute_result"
    }
   ],
   "source": [
    "ext_inof_obj = ext_df.loc[ext_df['is_potentially_hazardous_asteroid']==False]\n",
    "ext_inof_obj.describe()"
   ]
  },
  {
   "cell_type": "code",
   "execution_count": 101,
   "id": "26a0dd85-7dc9-4db4-bdd6-7952f301b3fd",
   "metadata": {},
   "outputs": [
    {
     "data": {
      "image/png": "[encoded data removed]",
      "text/plain": [
       "<Figure size 432x288 with 1 Axes>"
      ]
     },
     "metadata": {
      "needs_background": "light"
     },
     "output_type": "display_data"
    }
   ],
   "source": [
    "x = ext_df['orbital_data.first_observation_date']\n",
    "y = ext_df['orbital_data.minimum_orbit_intersection']\n",
    "sizes = ext_df['absolute_magnitude_h']**2\n",
    "colors = ext_df['is_potentially_hazardous_asteroid']\n",
    "\n",
    "plt.scatter(x, y, s=sizes, c=colors, alpha=0.5)\n",
    "\n",
    "#plt.legend((colors), (colors))\n",
    "plt.show()"
   ]
  },
  {
   "cell_type": "markdown",
   "id": "ea35d782-e07d-4192-9018-2b98c8ce3e98",
   "metadata": {},
   "source": [
    "Relação entre a magnitude absoluta (M) e a mínima distância observada"
   ]
  },
  {
   "cell_type": "code",
   "execution_count": 97,
   "id": "d36d5304-9b2a-499e-a33b-0b23e895fd28",
   "metadata": {},
   "outputs": [
    {
     "data": {
      "image/png": "[encoded data removed]",
      "text/plain": [
       "<Figure size 432x288 with 1 Axes>"
      ]
     },
     "metadata": {
      "needs_background": "light"
     },
     "output_type": "display_data"
    }
   ],
   "source": [
    "x = ext_df['absolute_magnitude_h']\n",
    "y = ext_df['orbital_data.minimum_orbit_intersection']\n",
    "\n",
    "plt.scatter(x, y)\n",
    "\n",
    "plt.xlabel('Magnitude absoluta (M)')\n",
    "plt.ylabel('Mínima distância observada')\n",
    "\n",
    "plt.show()"
   ]
  },
  {
   "cell_type": "code",
   "execution_count": null,
   "id": "771346bc-2d2f-4895-a762-7c563d4ef87e",
   "metadata": {},
   "outputs": [],
   "source": []
  }
 ],
 "metadata": {
  "kernelspec": {
   "display_name": "Python 3",
   "language": "python",
   "name": "python3"
  },
  "language_info": {
   "codemirror_mode": {
    "name": "ipython",
    "version": 3
   },
   "file_extension": ".py",
   "mimetype": "text/x-python",
   "name": "python",
   "nbconvert_exporter": "python",
   "pygments_lexer": "ipython3",
   "version": "3.8.10"
  }
 },
 "nbformat": 4,
 "nbformat_minor": 5
}
