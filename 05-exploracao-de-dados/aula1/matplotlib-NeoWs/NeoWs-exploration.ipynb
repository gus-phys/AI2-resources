{
 "cells": [
  {
   "cell_type": "markdown",
   "id": "e781e1b8-9557-4eaa-9d87-321548b80eae",
   "metadata": {},
   "source": [
    "## Bibliotecas"
   ]
  },
  {
   "cell_type": "code",
   "execution_count": 1,
   "id": "662ad49c-9b7d-4c4e-b9f2-4c3a07539bed",
   "metadata": {},
   "outputs": [],
   "source": [
    "import pandas as pd\n",
    "import numpy as np\n",
    "import matplotlib.pyplot as plt\n",
    "from datetime import datetime\n",
    "import requests\n",
    "import json"
   ]
  },
  {
   "cell_type": "markdown",
   "id": "15016701-1034-4a59-ac5f-0e5ff97e0af8",
   "metadata": {},
   "source": [
    "## NeoWs (Near Earth Object Web Service)"
   ]
  },
  {
   "cell_type": "code",
   "execution_count": 2,
   "id": "db69ea10-a777-4de5-8dba-7c7810793ceb",
   "metadata": {},
   "outputs": [],
   "source": [
    "api_key = \"Bu6eTGuiYXUcf8mJ2NQDKK202oERv4Y09Q0JagKe\"\n",
    "num_paginas = 200\n",
    "raw_data = []\n",
    "for page in range(num_paginas):\n",
    "    resp = requests.get(f'https://api.nasa.gov/neo/rest/v1/neo/browse?page={page}&api_key={api_key}')\n",
    "    raw_data.append(json.loads(resp.text))"
   ]
  },
  {
   "cell_type": "code",
   "execution_count": 3,
   "id": "a347a522-9ce6-4afc-8086-7005649ff347",
   "metadata": {},
   "outputs": [
    {
     "data": {
      "text/plain": [
       "200"
      ]
     },
     "execution_count": 3,
     "metadata": {},
     "output_type": "execute_result"
    }
   ],
   "source": [
    "len(raw_data)"
   ]
  },
  {
   "cell_type": "markdown",
   "id": "0dac3dfd-619a-4c5f-89f3-f6a1257a6994",
   "metadata": {},
   "source": [
    "### Data Frame simplificado"
   ]
  },
  {
   "cell_type": "code",
   "execution_count": 4,
   "id": "88039ff9-1f7c-4836-895f-a16e6102cf6a",
   "metadata": {},
   "outputs": [],
   "source": [
    "# Lista das colunas de interesse para o data frame simplificado\n",
    "int_cols = ['id',\n",
    "           'name',\n",
    "           'absolute_magnitude_h',\n",
    "           'is_potentially_hazardous_asteroid']"
   ]
  },
  {
   "cell_type": "code",
   "execution_count": 5,
   "id": "5c8bb0d7-29d9-44bd-ae7f-966c1b32dec2",
   "metadata": {},
   "outputs": [
    {
     "data": {
      "text/html": [
       "<div>\n",
       "<style scoped>\n",
       "    .dataframe tbody tr th:only-of-type {\n",
       "        vertical-align: middle;\n",
       "    }\n",
       "\n",
       "    .dataframe tbody tr th {\n",
       "        vertical-align: top;\n",
       "    }\n",
       "\n",
       "    .dataframe thead th {\n",
       "        text-align: right;\n",
       "    }\n",
       "</style>\n",
       "<table border=\"1\" class=\"dataframe\">\n",
       "  <thead>\n",
       "    <tr style=\"text-align: right;\">\n",
       "      <th></th>\n",
       "      <th>id</th>\n",
       "      <th>name</th>\n",
       "      <th>absolute_magnitude_h</th>\n",
       "      <th>is_potentially_hazardous_asteroid</th>\n",
       "    </tr>\n",
       "  </thead>\n",
       "  <tbody>\n",
       "    <tr>\n",
       "      <th>count</th>\n",
       "      <td>4000</td>\n",
       "      <td>4000</td>\n",
       "      <td>4000.000000</td>\n",
       "      <td>4000</td>\n",
       "    </tr>\n",
       "    <tr>\n",
       "      <th>unique</th>\n",
       "      <td>4000</td>\n",
       "      <td>4000</td>\n",
       "      <td>NaN</td>\n",
       "      <td>2</td>\n",
       "    </tr>\n",
       "    <tr>\n",
       "      <th>top</th>\n",
       "      <td>2159929</td>\n",
       "      <td>265196 (2004 BW58)</td>\n",
       "      <td>NaN</td>\n",
       "      <td>False</td>\n",
       "    </tr>\n",
       "    <tr>\n",
       "      <th>freq</th>\n",
       "      <td>1</td>\n",
       "      <td>1</td>\n",
       "      <td>NaN</td>\n",
       "      <td>3070</td>\n",
       "    </tr>\n",
       "    <tr>\n",
       "      <th>mean</th>\n",
       "      <td>NaN</td>\n",
       "      <td>NaN</td>\n",
       "      <td>19.494744</td>\n",
       "      <td>NaN</td>\n",
       "    </tr>\n",
       "    <tr>\n",
       "      <th>std</th>\n",
       "      <td>NaN</td>\n",
       "      <td>NaN</td>\n",
       "      <td>2.360432</td>\n",
       "      <td>NaN</td>\n",
       "    </tr>\n",
       "    <tr>\n",
       "      <th>min</th>\n",
       "      <td>NaN</td>\n",
       "      <td>NaN</td>\n",
       "      <td>9.250000</td>\n",
       "      <td>NaN</td>\n",
       "    </tr>\n",
       "    <tr>\n",
       "      <th>25%</th>\n",
       "      <td>NaN</td>\n",
       "      <td>NaN</td>\n",
       "      <td>18.000000</td>\n",
       "      <td>NaN</td>\n",
       "    </tr>\n",
       "    <tr>\n",
       "      <th>50%</th>\n",
       "      <td>NaN</td>\n",
       "      <td>NaN</td>\n",
       "      <td>19.210000</td>\n",
       "      <td>NaN</td>\n",
       "    </tr>\n",
       "    <tr>\n",
       "      <th>75%</th>\n",
       "      <td>NaN</td>\n",
       "      <td>NaN</td>\n",
       "      <td>20.600000</td>\n",
       "      <td>NaN</td>\n",
       "    </tr>\n",
       "    <tr>\n",
       "      <th>max</th>\n",
       "      <td>NaN</td>\n",
       "      <td>NaN</td>\n",
       "      <td>30.100000</td>\n",
       "      <td>NaN</td>\n",
       "    </tr>\n",
       "  </tbody>\n",
       "</table>\n",
       "</div>"
      ],
      "text/plain": [
       "             id                name  absolute_magnitude_h  \\\n",
       "count      4000                4000           4000.000000   \n",
       "unique     4000                4000                   NaN   \n",
       "top     2159929  265196 (2004 BW58)                   NaN   \n",
       "freq          1                   1                   NaN   \n",
       "mean        NaN                 NaN             19.494744   \n",
       "std         NaN                 NaN              2.360432   \n",
       "min         NaN                 NaN              9.250000   \n",
       "25%         NaN                 NaN             18.000000   \n",
       "50%         NaN                 NaN             19.210000   \n",
       "75%         NaN                 NaN             20.600000   \n",
       "max         NaN                 NaN             30.100000   \n",
       "\n",
       "       is_potentially_hazardous_asteroid  \n",
       "count                               4000  \n",
       "unique                                 2  \n",
       "top                                False  \n",
       "freq                                3070  \n",
       "mean                                 NaN  \n",
       "std                                  NaN  \n",
       "min                                  NaN  \n",
       "25%                                  NaN  \n",
       "50%                                  NaN  \n",
       "75%                                  NaN  \n",
       "max                                  NaN  "
      ]
     },
     "execution_count": 5,
     "metadata": {},
     "output_type": "execute_result"
    }
   ],
   "source": [
    "# Data frame simplificado com as informções do primeiro level dos dicionários\n",
    "simp_df = pd.json_normalize(data=raw_data, record_path=['near_earth_objects']).loc[:,int_cols]\n",
    "simp_df.describe(include='all')"
   ]
  },
  {
   "cell_type": "markdown",
   "id": "8b088b27-4486-4ade-9954-2e032b3af6cd",
   "metadata": {},
   "source": [
    "### Data frame estendido"
   ]
  },
  {
   "cell_type": "code",
   "execution_count": 6,
   "id": "4b300746-47a2-4372-a9b6-55b49809eca9",
   "metadata": {},
   "outputs": [],
   "source": [
    "# Lista das colunas de interesse para o data frame estendido\n",
    "int_cols_ext = ['id',\n",
    "                'name',\n",
    "               'absolute_magnitude_h',\n",
    "               'is_potentially_hazardous_asteroid',\n",
    "               'orbital_data.first_observation_date',\n",
    "               'orbital_data.minimum_orbit_intersection']"
   ]
  },
  {
   "cell_type": "code",
   "execution_count": 7,
   "id": "fd5c512c-487b-467d-a7b7-38f86a694a08",
   "metadata": {
    "tags": []
   },
   "outputs": [],
   "source": [
    "# appended_pages = []\n",
    "# for page in range(len(raw_data)):\n",
    "#     page_df = pd.json_normalize(raw_data[page]['near_earth_objects'], record_path=['close_approach_data'], meta=['id', 'absolute_magnitude_h', 'is_potentially_hazardous_asteroid'])#.loc[:,int_cols_ext]\n",
    "#     appended_pages.append(page_df)"
   ]
  },
  {
   "cell_type": "code",
   "execution_count": 8,
   "id": "c8195883-8f86-44cf-b3de-f76469a1c6e3",
   "metadata": {
    "tags": []
   },
   "outputs": [],
   "source": [
    "# Páginas agrupadas em forma de lista com as informações do segundo level dos dicionários \n",
    "appended_pages = []\n",
    "for page in range(len(raw_data)):\n",
    "    page_df = pd.json_normalize(raw_data[page]['near_earth_objects'], meta=['id', 'absolute_magnitude_h', 'is_potentially_hazardous_asteroid']).loc[:,int_cols_ext]\n",
    "    appended_pages.append(page_df)"
   ]
  },
  {
   "cell_type": "code",
   "execution_count": 9,
   "id": "37cd1458-20ad-4c85-8c66-3bc7e258c816",
   "metadata": {},
   "outputs": [
    {
     "data": {
      "text/html": [
       "<div>\n",
       "<style scoped>\n",
       "    .dataframe tbody tr th:only-of-type {\n",
       "        vertical-align: middle;\n",
       "    }\n",
       "\n",
       "    .dataframe tbody tr th {\n",
       "        vertical-align: top;\n",
       "    }\n",
       "\n",
       "    .dataframe thead th {\n",
       "        text-align: right;\n",
       "    }\n",
       "</style>\n",
       "<table border=\"1\" class=\"dataframe\">\n",
       "  <thead>\n",
       "    <tr style=\"text-align: right;\">\n",
       "      <th></th>\n",
       "      <th>id</th>\n",
       "      <th>name</th>\n",
       "      <th>absolute_magnitude_h</th>\n",
       "      <th>is_potentially_hazardous_asteroid</th>\n",
       "      <th>orbital_data.first_observation_date</th>\n",
       "      <th>orbital_data.minimum_orbit_intersection</th>\n",
       "    </tr>\n",
       "  </thead>\n",
       "  <tbody>\n",
       "    <tr>\n",
       "      <th>count</th>\n",
       "      <td>4000</td>\n",
       "      <td>4000</td>\n",
       "      <td>4000.000000</td>\n",
       "      <td>4000</td>\n",
       "      <td>4000</td>\n",
       "      <td>4000</td>\n",
       "    </tr>\n",
       "    <tr>\n",
       "      <th>unique</th>\n",
       "      <td>4000</td>\n",
       "      <td>4000</td>\n",
       "      <td>NaN</td>\n",
       "      <td>2</td>\n",
       "      <td>2519</td>\n",
       "      <td>3989</td>\n",
       "    </tr>\n",
       "    <tr>\n",
       "      <th>top</th>\n",
       "      <td>2159929</td>\n",
       "      <td>265196 (2004 BW58)</td>\n",
       "      <td>NaN</td>\n",
       "      <td>False</td>\n",
       "      <td>2001-11-12</td>\n",
       "      <td>.217457</td>\n",
       "    </tr>\n",
       "    <tr>\n",
       "      <th>freq</th>\n",
       "      <td>1</td>\n",
       "      <td>1</td>\n",
       "      <td>NaN</td>\n",
       "      <td>3070</td>\n",
       "      <td>9</td>\n",
       "      <td>2</td>\n",
       "    </tr>\n",
       "    <tr>\n",
       "      <th>mean</th>\n",
       "      <td>NaN</td>\n",
       "      <td>NaN</td>\n",
       "      <td>19.494744</td>\n",
       "      <td>NaN</td>\n",
       "      <td>NaN</td>\n",
       "      <td>NaN</td>\n",
       "    </tr>\n",
       "    <tr>\n",
       "      <th>std</th>\n",
       "      <td>NaN</td>\n",
       "      <td>NaN</td>\n",
       "      <td>2.360432</td>\n",
       "      <td>NaN</td>\n",
       "      <td>NaN</td>\n",
       "      <td>NaN</td>\n",
       "    </tr>\n",
       "    <tr>\n",
       "      <th>min</th>\n",
       "      <td>NaN</td>\n",
       "      <td>NaN</td>\n",
       "      <td>9.250000</td>\n",
       "      <td>NaN</td>\n",
       "      <td>NaN</td>\n",
       "      <td>NaN</td>\n",
       "    </tr>\n",
       "    <tr>\n",
       "      <th>25%</th>\n",
       "      <td>NaN</td>\n",
       "      <td>NaN</td>\n",
       "      <td>18.000000</td>\n",
       "      <td>NaN</td>\n",
       "      <td>NaN</td>\n",
       "      <td>NaN</td>\n",
       "    </tr>\n",
       "    <tr>\n",
       "      <th>50%</th>\n",
       "      <td>NaN</td>\n",
       "      <td>NaN</td>\n",
       "      <td>19.210000</td>\n",
       "      <td>NaN</td>\n",
       "      <td>NaN</td>\n",
       "      <td>NaN</td>\n",
       "    </tr>\n",
       "    <tr>\n",
       "      <th>75%</th>\n",
       "      <td>NaN</td>\n",
       "      <td>NaN</td>\n",
       "      <td>20.600000</td>\n",
       "      <td>NaN</td>\n",
       "      <td>NaN</td>\n",
       "      <td>NaN</td>\n",
       "    </tr>\n",
       "    <tr>\n",
       "      <th>max</th>\n",
       "      <td>NaN</td>\n",
       "      <td>NaN</td>\n",
       "      <td>30.100000</td>\n",
       "      <td>NaN</td>\n",
       "      <td>NaN</td>\n",
       "      <td>NaN</td>\n",
       "    </tr>\n",
       "  </tbody>\n",
       "</table>\n",
       "</div>"
      ],
      "text/plain": [
       "             id                name  absolute_magnitude_h  \\\n",
       "count      4000                4000           4000.000000   \n",
       "unique     4000                4000                   NaN   \n",
       "top     2159929  265196 (2004 BW58)                   NaN   \n",
       "freq          1                   1                   NaN   \n",
       "mean        NaN                 NaN             19.494744   \n",
       "std         NaN                 NaN              2.360432   \n",
       "min         NaN                 NaN              9.250000   \n",
       "25%         NaN                 NaN             18.000000   \n",
       "50%         NaN                 NaN             19.210000   \n",
       "75%         NaN                 NaN             20.600000   \n",
       "max         NaN                 NaN             30.100000   \n",
       "\n",
       "       is_potentially_hazardous_asteroid orbital_data.first_observation_date  \\\n",
       "count                               4000                                4000   \n",
       "unique                                 2                                2519   \n",
       "top                                False                          2001-11-12   \n",
       "freq                                3070                                   9   \n",
       "mean                                 NaN                                 NaN   \n",
       "std                                  NaN                                 NaN   \n",
       "min                                  NaN                                 NaN   \n",
       "25%                                  NaN                                 NaN   \n",
       "50%                                  NaN                                 NaN   \n",
       "75%                                  NaN                                 NaN   \n",
       "max                                  NaN                                 NaN   \n",
       "\n",
       "       orbital_data.minimum_orbit_intersection  \n",
       "count                                     4000  \n",
       "unique                                    3989  \n",
       "top                                    .217457  \n",
       "freq                                         2  \n",
       "mean                                       NaN  \n",
       "std                                        NaN  \n",
       "min                                        NaN  \n",
       "25%                                        NaN  \n",
       "50%                                        NaN  \n",
       "75%                                        NaN  \n",
       "max                                        NaN  "
      ]
     },
     "execution_count": 9,
     "metadata": {},
     "output_type": "execute_result"
    }
   ],
   "source": [
    "# Cria o data frame estendido\n",
    "ext_df = pd.concat(appended_pages, ignore_index=True)\n",
    "ext_df.describe(include='all')"
   ]
  },
  {
   "cell_type": "markdown",
   "id": "db3345cb-2310-425d-9e14-468a761c506b",
   "metadata": {},
   "source": [
    "## Número de objetos perigosos à Terra"
   ]
  },
  {
   "cell_type": "code",
   "execution_count": 10,
   "id": "9bfa0d64-06ff-4c82-a320-e61f20b7db75",
   "metadata": {},
   "outputs": [
    {
     "data": {
      "text/html": [
       "<div>\n",
       "<style scoped>\n",
       "    .dataframe tbody tr th:only-of-type {\n",
       "        vertical-align: middle;\n",
       "    }\n",
       "\n",
       "    .dataframe tbody tr th {\n",
       "        vertical-align: top;\n",
       "    }\n",
       "\n",
       "    .dataframe thead th {\n",
       "        text-align: right;\n",
       "    }\n",
       "</style>\n",
       "<table border=\"1\" class=\"dataframe\">\n",
       "  <thead>\n",
       "    <tr style=\"text-align: right;\">\n",
       "      <th></th>\n",
       "      <th>id</th>\n",
       "      <th>name</th>\n",
       "      <th>absolute_magnitude_h</th>\n",
       "      <th>is_potentially_hazardous_asteroid</th>\n",
       "    </tr>\n",
       "  </thead>\n",
       "  <tbody>\n",
       "    <tr>\n",
       "      <th>5</th>\n",
       "      <td>2001566</td>\n",
       "      <td>1566 Icarus (1949 MA)</td>\n",
       "      <td>16.34</td>\n",
       "      <td>True</td>\n",
       "    </tr>\n",
       "    <tr>\n",
       "      <th>7</th>\n",
       "      <td>2001620</td>\n",
       "      <td>1620 Geographos (1951 RA)</td>\n",
       "      <td>15.30</td>\n",
       "      <td>True</td>\n",
       "    </tr>\n",
       "    <tr>\n",
       "      <th>10</th>\n",
       "      <td>2001862</td>\n",
       "      <td>1862 Apollo (1932 HA)</td>\n",
       "      <td>16.11</td>\n",
       "      <td>True</td>\n",
       "    </tr>\n",
       "    <tr>\n",
       "      <th>20</th>\n",
       "      <td>2001981</td>\n",
       "      <td>1981 Midas (1973 EA)</td>\n",
       "      <td>15.22</td>\n",
       "      <td>True</td>\n",
       "    </tr>\n",
       "    <tr>\n",
       "      <th>26</th>\n",
       "      <td>2002101</td>\n",
       "      <td>2101 Adonis (1936 CA)</td>\n",
       "      <td>18.64</td>\n",
       "      <td>True</td>\n",
       "    </tr>\n",
       "  </tbody>\n",
       "</table>\n",
       "</div>"
      ],
      "text/plain": [
       "         id                       name  absolute_magnitude_h  \\\n",
       "5   2001566      1566 Icarus (1949 MA)                 16.34   \n",
       "7   2001620  1620 Geographos (1951 RA)                 15.30   \n",
       "10  2001862      1862 Apollo (1932 HA)                 16.11   \n",
       "20  2001981       1981 Midas (1973 EA)                 15.22   \n",
       "26  2002101      2101 Adonis (1936 CA)                 18.64   \n",
       "\n",
       "    is_potentially_hazardous_asteroid  \n",
       "5                                True  \n",
       "7                                True  \n",
       "10                               True  \n",
       "20                               True  \n",
       "26                               True  "
      ]
     },
     "execution_count": 10,
     "metadata": {},
     "output_type": "execute_result"
    }
   ],
   "source": [
    "# Data frame somente com os objetos perigosos à Terra\n",
    "dang_obj = simp_df.loc[simp_df['is_potentially_hazardous_asteroid']==True]\n",
    "dang_obj.head()"
   ]
  },
  {
   "cell_type": "code",
   "execution_count": 11,
   "id": "06126ee3-f839-4f02-a70e-d04bab03f770",
   "metadata": {},
   "outputs": [
    {
     "name": "stdout",
     "output_type": "stream",
     "text": [
      "Quantidade de objetos pergisos à Terra: 930\n",
      "Porcentagem de objetos perigoso: 23.25%\n"
     ]
    }
   ],
   "source": [
    "num_dang_obj = len(dang_obj)\n",
    "porc_dang_obj = round(100*len(dang_obj)/len(simp_df), 2)\n",
    "print(f'Quantidade de objetos pergisos à Terra: {num_dang_obj}')\n",
    "print(f'Porcentagem de objetos perigoso: {porc_dang_obj}%')"
   ]
  },
  {
   "cell_type": "markdown",
   "id": "e8e44ee3-c875-45d8-9e78-d75433bed92f",
   "metadata": {},
   "source": [
    "## Média e desvio padrão da distância dos objetos perigosos"
   ]
  },
  {
   "cell_type": "code",
   "execution_count": 12,
   "id": "05863b72-2e61-4ec0-93b5-2366c3495e21",
   "metadata": {},
   "outputs": [
    {
     "data": {
      "text/plain": [
       "array(['2001566', '2001620', '2001862', '2001981', '2002101', '2002102',\n",
       "       '2002135', '2002201', '2002340', '2003122', '2003200', '2003361',\n",
       "       '2003362', '2003671', '2003757', '2004015', '2004034', '2004179',\n",
       "       '2004183', '2004450', '2004486', '2004581', '2004660', '2004769',\n",
       "       '2004953', '2005011', '2005189', '2005604', '2005693', '2006037',\n",
       "       '2006239', '2006489', '2006491', '2007335', '2007341', '2007482',\n",
       "       '2007753', '2007822', '2008014', '2008566', '2009856', '2010115',\n",
       "       '2011500', '2012538', '2012923', '2013651', '2014827', '2016960',\n",
       "       '2020425', '2022753', '2023187', '2025143', '2026663', '2027002',\n",
       "       '2029075', '2031669', '2033342', '2035107', '2035396', '2037638',\n",
       "       '2037655', '2038071', '2039572', '2041429', '2052760', '2052768',\n",
       "       '2053319', '2053426', '2053429', '2053550', '2053789', '2065679',\n",
       "       '2065690', '2065717', '2065803', '2065909', '2066391', '2067367',\n",
       "       '2067381', '2068216', '2068346', '2068347', '2068372', '2068548',\n",
       "       '2068950', '2069230', '2085182', '2085236', '2085585', '2085640',\n",
       "       '2085713', '2085774', '2085938', '2085989', '2085990', '2086039',\n",
       "       '2086819', '2087684', '2088254', '2089136', '2089830', '2089958',\n",
       "       '2089959', '2090075', '2090403', '2090416', '2099248', '2099942',\n",
       "       '2100085', '2101869', '2101955', '2103067', '2111253', '2136617',\n",
       "       '2136618', '2136795', '2136849', '2137108', '2137120', '2137126',\n",
       "       '2137427', '2138095', '2138127', '2138175', '2138404', '2138524',\n",
       "       '2138727', '2138971', '2139211', '2139359', '2139622', '2140039',\n",
       "       '2140158', '2140288', '2141053', '2141432', '2141495', '2141525',\n",
       "       '2141527', '2141593', '2141614', '2141851', '2143404', '2143487',\n",
       "       '2143649', '2143651', '2143992', '2144332', '2144898', '2144900',\n",
       "       '2152560', '2152561', '2152637', '2152664', '2152671', '2152680',\n",
       "       '2152685', '2152754', '2152770', '2152828', '2152978', '2153002',\n",
       "       '2153201', '2153220', '2153311', '2153591', '2153814', '2153958',\n",
       "       '2154019', '2154269', '2154275', '2154276', '2154302', '2154330',\n",
       "       '2154590', '2155338', '2159504', '2159857', '2161989', '2162000',\n",
       "       '2162039', '2162082', '2162116', '2162120', '2162162', '2162173',\n",
       "       '2162183', '2162210', '2162361', '2162416', '2162421', '2162422',\n",
       "       '2162474', '2162510', '2162567', '2162687', '2162695', '2162783',\n",
       "       '2162825', '2162882', '2162922', '2162979', '2162998', '2163014',\n",
       "       '2163026', '2163051', '2163067', '2163132', '2163243', '2163249',\n",
       "       '2163348', '2163364', '2163373', '2163683', '2163697', '2163818',\n",
       "       '2163899', '2164121', '2164202', '2164207', '2164211', '2164216',\n",
       "       '2168318', '2170086', '2170903', '2171576', '2171839', '2172678',\n",
       "       '2173561', '2175706', '2175729', '2177049', '2177614', '2179806',\n",
       "       '2180186', '2184266', '2185851', '2186844', '2187040', '2189040',\n",
       "       '2189865', '2192559', '2192563', '2194006', '2194268', '2196068',\n",
       "       '2196625', '2197588', '2199003', '2199145', '2199801', '2200840',\n",
       "       '2202683', '2205744', '2206378', '2206910', '2207398', '2207945',\n",
       "       '2208023', '2208115', '2212546', '2214869', '2215588', '2216115',\n",
       "       '2216258', '2216523', '2216985', '2217430', '2217628', '2220839',\n",
       "       '2221455', '2221980', '2226514', '2226554', '2228368', '2230111',\n",
       "       '2230549', '2231937', '2232691', '2234145', '2235756', '2242216',\n",
       "       '2242450', '2242643', '2242708', '2243566', '2244977', '2247360',\n",
       "       '2250620', '2250680', '2250706', '2251346', '2251722', '2252399',\n",
       "       '2253841', '2255071', '2260141', '2263976', '2264357', '2264993',\n",
       "       '2265196', '2265482', '2267131', '2267221', '2267337', '2267494',\n",
       "       '2267720', '2267729', '2269690', '2275677', '2276033', '2277475',\n",
       "       '2277570', '2279744', '2279816', '2281375', '2285263', '2286080',\n",
       "       '2289315', '2290772', '2292220', '2294739', '2297274', '2297300',\n",
       "       '2297418', '2301844', '2302169', '2302831', '2303450', '2304330',\n",
       "       '2306383', '2307005', '2307493', '2308242', '2308635', '2310442',\n",
       "       '2310560', '2311044', '2311066', '2312070', '2314082', '2314212',\n",
       "       '2317255', '2326290', '2329437', '2329614', '2330233', '2331876',\n",
       "       '2332446', '2333521', '2333578', '2337075', '2337558', '2341843',\n",
       "       '2342866', '2344076', '2348306', '2348314', '2348400', '2349068',\n",
       "       '2349507', '2350523', '2350751', '2352102', '2354182', '2356991',\n",
       "       '2357022', '2357024', '2357028', '2357439', '2357594', '2357622',\n",
       "       '2358471', '2358744', '2359170', '2359369', '2360191', '2361754',\n",
       "       '2363024', '2363027', '2363067', '2363084', '2363116', '2363305',\n",
       "       '2363344', '2363505', '2363599', '2363734', '2363790', '2363831',\n",
       "       '2364136', '2365014', '2365071', '2365424', '2366746', '2366774',\n",
       "       '2367248', '2367789', '2368203', '2368565', '2369057', '2369264',\n",
       "       '2371660', '2373135', '2374038', '2374158', '2374851', '2374855',\n",
       "       '2375054', '2375103', '2377097', '2377732', '2378160', '2378358',\n",
       "       '2380636', '2380981', '2381906', '2382395', '2382406', '2382745',\n",
       "       '2382758', '2382825', '2385186', '2385252', '2385343', '2385605',\n",
       "       '2386454', '2386847', '2387505', '2387668', '2387746', '2388188',\n",
       "       '2388945', '2389694', '2390725', '2390929', '2391211', '2395207',\n",
       "       '2398188', '2399457', '2399774', '2401856', '2401954', '2403775',\n",
       "       '2405212', '2405762', '2406213', '2408792', '2409836', '2410627',\n",
       "       '2410778', '2411165', '2412983', '2413260', '2413577', '2413989',\n",
       "       '2414286', '2414287', '2414990', '2415029', '2415713', '2415745',\n",
       "       '2416195', '2416591', '2416801', '2417211', '2417217', '2417419',\n",
       "       '2417612', '2417634', '2417816', '2417871', '2417949', '2418094',\n",
       "       '2418135', '2418416', '2418849', '2419472', '2419624', '2419880',\n",
       "       '2420210', '2422686', '2422699', '2422787', '2423321', '2423709',\n",
       "       '2424482', '2425755', '2428209', '2429094', '2429584', '2430440',\n",
       "       '2430544', '2430804', '2433953', '2434096', '2434188', '2434196',\n",
       "       '2434326', '2434633', '2434677', '2434734', '2435159', '2435548',\n",
       "       '2436329', '2436671', '2436724', '2436774', '2437841', '2437844',\n",
       "       '2437905', '2438105', '2438661', '2438908', '2438955', '2439437',\n",
       "       '2439877', '2440212', '2441641', '2441987', '2442037', '2442523',\n",
       "       '2443103', '2443806', '2443880', '2444004', '2444193', '2444584',\n",
       "       '2445305', '2445974', '2446791', '2446862', '2447755', '2448003',\n",
       "       '2448721', '2450142', '2450263', '2450270', '2450293', '2450300',\n",
       "       '2450894', '2451003', '2451124', '2451157', '2451297', '2451370',\n",
       "       '2452302', '2452376', '2452807', '2453563', '2453707', '2453729',\n",
       "       '2453778', '2454094', '2454100', '2454101', '2455148', '2455176',\n",
       "       '2455184', '2455299', '2455687', '2456938', '2457662', '2457768',\n",
       "       '2458116', '2458122', '2458418', '2458436', '2458723', '2459683',\n",
       "       '2461353', '2461852', '2462238', '2462550', '2462959', '2463387',\n",
       "       '2465617', '2465633', '2465824', '2465826', '2465892', '2466130',\n",
       "       '2466508', '2467309', '2467317', '2467336', '2467351', '2467460',\n",
       "       '2468005', '2468468', '2468727', '2468910', '2469445', '2469896',\n",
       "       '2470310', '2471240', '2471241', '2471323', '2471926', '2474158',\n",
       "       '2474163', '2474231', '2475534', '2476601', '2477162', '2477465',\n",
       "       '2477519', '2478574', '2480808', '2480820', '2480822', '2480858',\n",
       "       '2480883', '2480936', '2481327', '2481394', '2481457', '2481482',\n",
       "       '2481532', '2481817', '2482250', '2482344', '2482467', '2482488',\n",
       "       '2482650', '2482766', '2482796', '2482798', '2483422', '2483423',\n",
       "       '2483432', '2483508', '2483560', '2483989', '2484402', '2484506',\n",
       "       '2484517', '2484976', '2485652', '2487577', '2488453', '2488490',\n",
       "       '2488515', '2488789', '2489486', '2490354', '2490581', '2494658',\n",
       "       '2494690', '2494697', '2494710', '2494999', '2495187', '2496005',\n",
       "       '2496013', '2496816', '2496817', '2496860', '2496901', '2497117',\n",
       "       '2497245', '2499582', '2500080', '2503861', '2503941', '2504034',\n",
       "       '2504256', '2504680', '2504800', '2505178', '2505657', '2506074',\n",
       "       '2506491', '2506732', '2506859', '2507716', '2508774', '2508908',\n",
       "       '2508967', '2509191', '2509352', '2509456', '2509821', '2509935',\n",
       "       '2510055', '2510529', '2511008', '2511684', '2512234', '2513126',\n",
       "       '2513171', '2513312', '2513489', '2514150', '2514568', '2514596',\n",
       "       '2515767', '2516154', '2516155', '2517103', '2517681', '2518640',\n",
       "       '2518678', '2518810', '2518847', '2522684', '2523589', '2523598',\n",
       "       '2523606', '2523609', '2523623', '2523630', '2523650', '2523654',\n",
       "       '2523656', '2523662', '2523664', '2523685', '2523732', '2523775',\n",
       "       '2523788', '2523804', '2523808', '2523813', '2523814', '2523816',\n",
       "       '2523818', '2523820', '2523934', '2523950', '2524475', '2524522',\n",
       "       '2524594', '2525229', '2525231', '2525268', '2525356', '2525484',\n",
       "       '2526587', '2526670', '2526878', '2527715', '2528159', '2528804',\n",
       "       '2529366', '2529668', '2529753', '2529951', '2530085', '2530520',\n",
       "       '2530974', '2531060', '2531277', '2531899', '2531914', '2531944',\n",
       "       '2533011', '2533372', '2533671', '2533722', '2535844', '2536531',\n",
       "       '2537395', '2538212', '2539063', '3012393', '3005806', '3002856',\n",
       "       '3012398', '3012399', '3005942', '3005973', '3009026', '3013066',\n",
       "       '3010077', '3010679', '3092166', '3007574', '3011167', '3013039',\n",
       "       '3013045', '3013662', '3013664', '3014109', '3014110', '3014112',\n",
       "       '3014117', '3014683', '3015695', '3016524', '3092217', '3019083',\n",
       "       '3020976', '3019647', '3022036', '3022970', '3022972', '3022974',\n",
       "       '3022975', '3024027', '3024715', '3024714', '3025760', '3025766',\n",
       "       '3028804', '3028805', '3028806', '3028810', '3031172', '3031184',\n",
       "       '3035245', '3035252', '3038472', '3046120', '3046122', '3046124',\n",
       "       '3046125', '3066079', '3050517', '3054375', '3063058', '3092276',\n",
       "       '3065184', '3092289', '3070541', '3071766', '3071767', '3071769',\n",
       "       '3074752', '3074753', '3076784', '3076812', '3076814', '3078262',\n",
       "       '3080638', '3080637', '3082923', '3082930', '3082929', '3082931',\n",
       "       '3092374', '3092385', '3092419', '3092474', '3092480', '3092515',\n",
       "       '3102669', '3102683', '3102694', '3102713', '3102717', '3102719',\n",
       "       '3102724', '3102728', '3102729', '3102742', '3102743', '3102752',\n",
       "       '3102786', '3114014', '3114027', '3114075', '3117420', '3117434',\n",
       "       '3117435', '3117440', '3117459', '3120885', '3120892', '3120894',\n",
       "       '3120904', '3124996', '3124998', '3125003', '3125005', '3127232',\n",
       "       '3127385', '3127390', '3709286', '3127412', '3130460', '3130462',\n",
       "       '3131063', '3132128', '3132521', '3133153', '3134259', '3134277',\n",
       "       '3137721', '3137854', '3137865', '3141522', '3141540', '3143081',\n",
       "       '3144150', '3145512', '3145514', '3145520', '3146499', '3147323',\n",
       "       '3147553', '3147555', '3147581', '3150771', '3152314', '3152317',\n",
       "       '3152318', '3152323', '3153509', '3153516', '3157020', '3157022',\n",
       "       '3157028', '3157483', '3159886', '3159889', '3160737', '3160741',\n",
       "       '3160850', '3163738', '3163739', '3163748', '3165472', '3167340',\n",
       "       '3167345', '3169265', '3169271', '3170212', '3170204', '3170218'],\n",
       "      dtype=object)"
      ]
     },
     "execution_count": 12,
     "metadata": {},
     "output_type": "execute_result"
    }
   ],
   "source": [
    "dang_obj_id = dang_obj['id'].values\n",
    "dang_obj_id"
   ]
  },
  {
   "cell_type": "code",
   "execution_count": 13,
   "id": "24ac8ad7-4b2d-4e6e-a9a3-e2d3323b8308",
   "metadata": {},
   "outputs": [],
   "source": [
    "# Converte a coluna 'orbital_data.minimum_orbit_intersection' em float\n",
    "ext_df['orbital_data.minimum_orbit_intersection'] = ext_df['orbital_data.minimum_orbit_intersection'].astype(float)"
   ]
  },
  {
   "cell_type": "code",
   "execution_count": 14,
   "id": "19d9fda0-ae39-4dc5-9ae1-3c8e834db990",
   "metadata": {},
   "outputs": [],
   "source": [
    "#mean_all = ext_df.groupby('id', as_index=False).mean()#.drop('is_potentially_hazardous_asteroid', axis=1)"
   ]
  },
  {
   "cell_type": "code",
   "execution_count": 15,
   "id": "62493e7d-709b-4d78-a083-34e9de44b8f7",
   "metadata": {},
   "outputs": [],
   "source": [
    "#mean_all.head()"
   ]
  },
  {
   "cell_type": "code",
   "execution_count": 16,
   "id": "248d8a0f-1e49-4d2e-806b-c05e3c592a33",
   "metadata": {
    "tags": []
   },
   "outputs": [],
   "source": [
    "# dang_obj_mean = mean_all.loc[mean_all['id'].isin(dang_obj_id)]\n",
    "# dang_obj_mean = dang_obj_mean.rename(columns={'orbital_data.minimum_orbit_intersection': 'mean'})\n",
    "# dang_obj_mean"
   ]
  },
  {
   "cell_type": "code",
   "execution_count": 17,
   "id": "c260b715-f3a1-4d91-b6ab-9dcda080b10e",
   "metadata": {},
   "outputs": [],
   "source": [
    "#std_all = ext_df.groupby('id', as_index=False).std()#.drop('absolute_magnitude_h', axis=1)"
   ]
  },
  {
   "cell_type": "code",
   "execution_count": 18,
   "id": "7c653f59-15bf-4546-b417-95696a8ae9b1",
   "metadata": {},
   "outputs": [],
   "source": [
    "# dang_obj_std = std_all.loc[std_all['id'].isin(dang_obj_id)]\n",
    "# dang_obj_std = dang_obj_std.rename(columns={'miss_distance.lunar': 'std'})\n",
    "# dang_obj_std"
   ]
  },
  {
   "cell_type": "code",
   "execution_count": 19,
   "id": "a57c9915-5b93-4157-b95a-bdf8ca11b68a",
   "metadata": {},
   "outputs": [],
   "source": [
    "# dang_obj_sta = pd.concat([dang_obj, dang_obj_mean['mean'], dang_obj_std['std']], axis=1)\n",
    "# dang_obj_sta"
   ]
  },
  {
   "cell_type": "code",
   "execution_count": 20,
   "id": "9e104b3d-7d78-4558-afaa-8cbead8eeaea",
   "metadata": {},
   "outputs": [
    {
     "name": "stdout",
     "output_type": "stream",
     "text": [
      "Média das distâncias mínimas dos objetos perigosos: 0.0226\n",
      "Desvio padrão das distânsicas mínimas dos objetos perigosos: 0.0141\n"
     ]
    }
   ],
   "source": [
    "mean_min_distance = ext_df.loc[ext_df['id'].isin(dang_obj_id)]['orbital_data.minimum_orbit_intersection'].mean()\n",
    "std_min_distance = ext_df.loc[ext_df['id'].isin(dang_obj_id)]['orbital_data.minimum_orbit_intersection'].std()\n",
    "print(f\"Média das distâncias mínimas dos objetos perigosos: {round(mean_min_distance, 4)}\")\n",
    "print(f\"Desvio padrão das distânsicas mínimas dos objetos perigosos: {round(std_min_distance, 4)}\")"
   ]
  },
  {
   "cell_type": "markdown",
   "id": "70bc0bf0-91cf-45a5-989f-c3f8f5e4aa03",
   "metadata": {},
   "source": [
    "## Aproximação de asteróides perigosos à Terra entre 2000 e 2021"
   ]
  },
  {
   "cell_type": "code",
   "execution_count": 21,
   "id": "3348cf77-7d2a-4917-9e0d-83979ae9dda4",
   "metadata": {},
   "outputs": [],
   "source": [
    "# Converte a coluna 'orbital_data.first_observation_date' em forma de datas\n",
    "ext_df['orbital_data.first_observation_date'] = pd.to_datetime(ext_df['orbital_data.first_observation_date'])"
   ]
  },
  {
   "cell_type": "code",
   "execution_count": 22,
   "id": "51dcbed8-206f-4a7a-9157-aae9ae858852",
   "metadata": {},
   "outputs": [],
   "source": [
    "# Cria o filtro dos objetos pela data desejada\n",
    "# start_date = '2000-01-01'\n",
    "# end_date = '2021-12-31'\n",
    "# mask = (ext_df['orbital_data.first_observation_date'] > start_date) & (ext_df['orbital_data.first_observation_date'] < end_date)"
   ]
  },
  {
   "cell_type": "code",
   "execution_count": 23,
   "id": "7504a82a-f5e1-410f-bc59-c3ba30e52d23",
   "metadata": {},
   "outputs": [],
   "source": [
    "# obj_period = ext_df.loc[mask]\n",
    "# obj_period.head()"
   ]
  },
  {
   "cell_type": "code",
   "execution_count": 24,
   "id": "52806080-0acb-42f8-91c8-a3599cab7b28",
   "metadata": {},
   "outputs": [],
   "source": [
    "# dang_obj_period = obj_period.loc[obj_period['is_potentially_hazardous_asteroid']==True]\n",
    "# dang_obj_period['close_approach_date'].hist(bins=22)\n",
    "# plt.title('Objetos perigosos à Terra no período de 2000 e 20021')\n",
    "# plt.xlabel('Ano de aproximação')\n",
    "# plt.ylabel('Contagem')\n",
    "# plt.show()"
   ]
  },
  {
   "cell_type": "markdown",
   "id": "b977586e-182d-4e7a-b956-76c55baaa061",
   "metadata": {},
   "source": [
    "**A organização dos dados mudaram, de forma que para conseguir as aparições dos objetos por ano ficou mais complexa.**"
   ]
  },
  {
   "cell_type": "markdown",
   "id": "9b1e70c3-22d3-4f63-ac5c-bd78d2d5938a",
   "metadata": {},
   "source": [
    "## Histograma dos tamanhos dos objetos perigosos"
   ]
  },
  {
   "cell_type": "code",
   "execution_count": 25,
   "id": "0ae20c07-ffa5-473a-9925-a3f2ee7ab97f",
   "metadata": {},
   "outputs": [
    {
     "data": {
      "image/png": "[encoded data removed]",
      "text/plain": [
       "<Figure size 432x288 with 1 Axes>"
      ]
     },
     "metadata": {
      "needs_background": "light"
     },
     "output_type": "display_data"
    }
   ],
   "source": [
    "dang_obj['absolute_magnitude_h'].hist(bins=8)\n",
    "plt.title('Tamanho dos asteróides perigosos à Terra')\n",
    "plt.xlabel('Magnitude absoluta (M)')\n",
    "plt.ylabel('Contagem')\n",
    "plt.show()"
   ]
  },
  {
   "cell_type": "markdown",
   "id": "10b68735-d74d-4de9-befe-b1849df4d7ad",
   "metadata": {},
   "source": [
    "## Histograma dos tamanhos dos objetos inofencivos"
   ]
  },
  {
   "cell_type": "code",
   "execution_count": 26,
   "id": "8b092007-1862-4cd0-b45e-2e6d7617aaa5",
   "metadata": {},
   "outputs": [
    {
     "data": {
      "image/png": "[encoded data removed]",
      "text/plain": [
       "<Figure size 432x288 with 1 Axes>"
      ]
     },
     "metadata": {
      "needs_background": "light"
     },
     "output_type": "display_data"
    }
   ],
   "source": [
    "simp_df.loc[-simp_df['id'].isin(dang_obj_id)]['absolute_magnitude_h'].hist(bins=15)\n",
    "plt.title('Tamanho dos asteróides inofencivos à Terra')\n",
    "plt.xlabel('Magnitude absoluta (M)')\n",
    "plt.ylabel('Contagem')\n",
    "plt.show()"
   ]
  },
  {
   "cell_type": "markdown",
   "id": "6b177b3c-3662-4516-b880-3df6cde98bc1",
   "metadata": {},
   "source": [
    "## Algumas informações estatísticas"
   ]
  },
  {
   "cell_type": "markdown",
   "id": "e576b298-c8b6-45ad-b5ef-dda6e3ef83be",
   "metadata": {},
   "source": [
    "### Gráfico da dispersão"
   ]
  },
  {
   "cell_type": "code",
   "execution_count": 27,
   "id": "3a0987d2-058f-407a-9d6f-00e68a620a07",
   "metadata": {},
   "outputs": [],
   "source": [
    "# x = dang_obj_sta['mean']\n",
    "# y = dang_obj_sta['absolute_magnitude_h']\n",
    "\n",
    "# plt.title('Gráfico de dispersão da distância média por M')\n",
    "# plt.xlabel('Média da mínima distância observada')\n",
    "# plt.ylabel('Magnitude absoluta (M)')\n",
    "# plt.plot(x,y, 'o')\n",
    "# plt.show()"
   ]
  },
  {
   "cell_type": "markdown",
   "id": "442d3070-32c6-472d-875f-0376560992cd",
   "metadata": {},
   "source": [
    "Gráfico de disperção entre a magnitude absoluta (M) e a média da mínima distância observada para cada asteróide"
   ]
  },
  {
   "cell_type": "markdown",
   "id": "9c22a766-aa71-4b1c-9ecf-dbf590ccddcd",
   "metadata": {},
   "source": [
    "### Correlação e covariância dos dados dos objetos perigosos"
   ]
  },
  {
   "cell_type": "code",
   "execution_count": 28,
   "id": "56cf8384-8341-4d2b-8a74-0367e2cf64d4",
   "metadata": {},
   "outputs": [
    {
     "data": {
      "text/html": [
       "<div>\n",
       "<style scoped>\n",
       "    .dataframe tbody tr th:only-of-type {\n",
       "        vertical-align: middle;\n",
       "    }\n",
       "\n",
       "    .dataframe tbody tr th {\n",
       "        vertical-align: top;\n",
       "    }\n",
       "\n",
       "    .dataframe thead th {\n",
       "        text-align: right;\n",
       "    }\n",
       "</style>\n",
       "<table border=\"1\" class=\"dataframe\">\n",
       "  <thead>\n",
       "    <tr style=\"text-align: right;\">\n",
       "      <th></th>\n",
       "      <th>id</th>\n",
       "      <th>name</th>\n",
       "      <th>absolute_magnitude_h</th>\n",
       "      <th>is_potentially_hazardous_asteroid</th>\n",
       "      <th>orbital_data.first_observation_date</th>\n",
       "      <th>orbital_data.minimum_orbit_intersection</th>\n",
       "    </tr>\n",
       "  </thead>\n",
       "  <tbody>\n",
       "    <tr>\n",
       "      <th>5</th>\n",
       "      <td>2001566</td>\n",
       "      <td>1566 Icarus (1949 MA)</td>\n",
       "      <td>16.34</td>\n",
       "      <td>True</td>\n",
       "      <td>1949-07-01</td>\n",
       "      <td>0.033700</td>\n",
       "    </tr>\n",
       "    <tr>\n",
       "      <th>7</th>\n",
       "      <td>2001620</td>\n",
       "      <td>1620 Geographos (1951 RA)</td>\n",
       "      <td>15.30</td>\n",
       "      <td>True</td>\n",
       "      <td>1951-09-14</td>\n",
       "      <td>0.029221</td>\n",
       "    </tr>\n",
       "    <tr>\n",
       "      <th>10</th>\n",
       "      <td>2001862</td>\n",
       "      <td>1862 Apollo (1932 HA)</td>\n",
       "      <td>16.11</td>\n",
       "      <td>True</td>\n",
       "      <td>1930-12-13</td>\n",
       "      <td>0.026045</td>\n",
       "    </tr>\n",
       "    <tr>\n",
       "      <th>20</th>\n",
       "      <td>2001981</td>\n",
       "      <td>1981 Midas (1973 EA)</td>\n",
       "      <td>15.22</td>\n",
       "      <td>True</td>\n",
       "      <td>1973-03-06</td>\n",
       "      <td>0.003288</td>\n",
       "    </tr>\n",
       "    <tr>\n",
       "      <th>26</th>\n",
       "      <td>2002101</td>\n",
       "      <td>2101 Adonis (1936 CA)</td>\n",
       "      <td>18.64</td>\n",
       "      <td>True</td>\n",
       "      <td>1936-02-21</td>\n",
       "      <td>0.011560</td>\n",
       "    </tr>\n",
       "  </tbody>\n",
       "</table>\n",
       "</div>"
      ],
      "text/plain": [
       "         id                       name  absolute_magnitude_h  \\\n",
       "5   2001566      1566 Icarus (1949 MA)                 16.34   \n",
       "7   2001620  1620 Geographos (1951 RA)                 15.30   \n",
       "10  2001862      1862 Apollo (1932 HA)                 16.11   \n",
       "20  2001981       1981 Midas (1973 EA)                 15.22   \n",
       "26  2002101      2101 Adonis (1936 CA)                 18.64   \n",
       "\n",
       "    is_potentially_hazardous_asteroid orbital_data.first_observation_date  \\\n",
       "5                                True                          1949-07-01   \n",
       "7                                True                          1951-09-14   \n",
       "10                               True                          1930-12-13   \n",
       "20                               True                          1973-03-06   \n",
       "26                               True                          1936-02-21   \n",
       "\n",
       "    orbital_data.minimum_orbit_intersection  \n",
       "5                                  0.033700  \n",
       "7                                  0.029221  \n",
       "10                                 0.026045  \n",
       "20                                 0.003288  \n",
       "26                                 0.011560  "
      ]
     },
     "execution_count": 28,
     "metadata": {},
     "output_type": "execute_result"
    }
   ],
   "source": [
    "ext_dang_obj = ext_df.loc[ext_df['is_potentially_hazardous_asteroid']==True]\n",
    "ext_dang_obj.head()"
   ]
  },
  {
   "cell_type": "code",
   "execution_count": 29,
   "id": "9dc9abad-652e-4d7d-a313-6ec6b3732c32",
   "metadata": {},
   "outputs": [
    {
     "data": {
      "text/html": [
       "<div>\n",
       "<style scoped>\n",
       "    .dataframe tbody tr th:only-of-type {\n",
       "        vertical-align: middle;\n",
       "    }\n",
       "\n",
       "    .dataframe tbody tr th {\n",
       "        vertical-align: top;\n",
       "    }\n",
       "\n",
       "    .dataframe thead th {\n",
       "        text-align: right;\n",
       "    }\n",
       "</style>\n",
       "<table border=\"1\" class=\"dataframe\">\n",
       "  <thead>\n",
       "    <tr style=\"text-align: right;\">\n",
       "      <th></th>\n",
       "      <th>absolute_magnitude_h</th>\n",
       "      <th>is_potentially_hazardous_asteroid</th>\n",
       "      <th>orbital_data.minimum_orbit_intersection</th>\n",
       "    </tr>\n",
       "  </thead>\n",
       "  <tbody>\n",
       "    <tr>\n",
       "      <th>absolute_magnitude_h</th>\n",
       "      <td>1.000000</td>\n",
       "      <td>NaN</td>\n",
       "      <td>-0.068661</td>\n",
       "    </tr>\n",
       "    <tr>\n",
       "      <th>is_potentially_hazardous_asteroid</th>\n",
       "      <td>NaN</td>\n",
       "      <td>NaN</td>\n",
       "      <td>NaN</td>\n",
       "    </tr>\n",
       "    <tr>\n",
       "      <th>orbital_data.minimum_orbit_intersection</th>\n",
       "      <td>-0.068661</td>\n",
       "      <td>NaN</td>\n",
       "      <td>1.000000</td>\n",
       "    </tr>\n",
       "  </tbody>\n",
       "</table>\n",
       "</div>"
      ],
      "text/plain": [
       "                                         absolute_magnitude_h  \\\n",
       "absolute_magnitude_h                                 1.000000   \n",
       "is_potentially_hazardous_asteroid                         NaN   \n",
       "orbital_data.minimum_orbit_intersection             -0.068661   \n",
       "\n",
       "                                         is_potentially_hazardous_asteroid  \\\n",
       "absolute_magnitude_h                                                   NaN   \n",
       "is_potentially_hazardous_asteroid                                      NaN   \n",
       "orbital_data.minimum_orbit_intersection                                NaN   \n",
       "\n",
       "                                         orbital_data.minimum_orbit_intersection  \n",
       "absolute_magnitude_h                                                   -0.068661  \n",
       "is_potentially_hazardous_asteroid                                            NaN  \n",
       "orbital_data.minimum_orbit_intersection                                 1.000000  "
      ]
     },
     "execution_count": 29,
     "metadata": {},
     "output_type": "execute_result"
    }
   ],
   "source": [
    "ext_dang_obj.corr()"
   ]
  },
  {
   "cell_type": "code",
   "execution_count": 30,
   "id": "627b27e2-704c-425e-9401-6d75ab59559b",
   "metadata": {},
   "outputs": [
    {
     "data": {
      "text/html": [
       "<div>\n",
       "<style scoped>\n",
       "    .dataframe tbody tr th:only-of-type {\n",
       "        vertical-align: middle;\n",
       "    }\n",
       "\n",
       "    .dataframe tbody tr th {\n",
       "        vertical-align: top;\n",
       "    }\n",
       "\n",
       "    .dataframe thead th {\n",
       "        text-align: right;\n",
       "    }\n",
       "</style>\n",
       "<table border=\"1\" class=\"dataframe\">\n",
       "  <thead>\n",
       "    <tr style=\"text-align: right;\">\n",
       "      <th></th>\n",
       "      <th>absolute_magnitude_h</th>\n",
       "      <th>is_potentially_hazardous_asteroid</th>\n",
       "      <th>orbital_data.minimum_orbit_intersection</th>\n",
       "    </tr>\n",
       "  </thead>\n",
       "  <tbody>\n",
       "    <tr>\n",
       "      <th>absolute_magnitude_h</th>\n",
       "      <td>2.551645</td>\n",
       "      <td>0.0</td>\n",
       "      <td>-0.001545</td>\n",
       "    </tr>\n",
       "    <tr>\n",
       "      <th>is_potentially_hazardous_asteroid</th>\n",
       "      <td>0.000000</td>\n",
       "      <td>0.0</td>\n",
       "      <td>0.000000</td>\n",
       "    </tr>\n",
       "    <tr>\n",
       "      <th>orbital_data.minimum_orbit_intersection</th>\n",
       "      <td>-0.001545</td>\n",
       "      <td>0.0</td>\n",
       "      <td>0.000198</td>\n",
       "    </tr>\n",
       "  </tbody>\n",
       "</table>\n",
       "</div>"
      ],
      "text/plain": [
       "                                         absolute_magnitude_h  \\\n",
       "absolute_magnitude_h                                 2.551645   \n",
       "is_potentially_hazardous_asteroid                    0.000000   \n",
       "orbital_data.minimum_orbit_intersection             -0.001545   \n",
       "\n",
       "                                         is_potentially_hazardous_asteroid  \\\n",
       "absolute_magnitude_h                                                   0.0   \n",
       "is_potentially_hazardous_asteroid                                      0.0   \n",
       "orbital_data.minimum_orbit_intersection                                0.0   \n",
       "\n",
       "                                         orbital_data.minimum_orbit_intersection  \n",
       "absolute_magnitude_h                                                   -0.001545  \n",
       "is_potentially_hazardous_asteroid                                       0.000000  \n",
       "orbital_data.minimum_orbit_intersection                                 0.000198  "
      ]
     },
     "execution_count": 30,
     "metadata": {},
     "output_type": "execute_result"
    }
   ],
   "source": [
    "ext_dang_obj.cov()"
   ]
  },
  {
   "cell_type": "markdown",
   "id": "c803439f-a1e1-43ce-9ae9-c5beda362efc",
   "metadata": {},
   "source": [
    "### Distribuição dos tamanhos dos objetos perigosos e inofencivos"
   ]
  },
  {
   "cell_type": "code",
   "execution_count": 31,
   "id": "dff88d81-c511-4ff5-9702-037c339667c7",
   "metadata": {},
   "outputs": [
    {
     "data": {
      "image/png": "[encoded data removed]",
      "text/plain": [
       "<Figure size 432x288 with 1 Axes>"
      ]
     },
     "metadata": {
      "needs_background": "light"
     },
     "output_type": "display_data"
    }
   ],
   "source": [
    "# data parameters\n",
    "x = dang_obj['absolute_magnitude_h']\n",
    "mu = x.mean()  # mean of distribution\n",
    "sigma = x.std()  # standard deviation of distribution\n",
    "\n",
    "num_bins = 15\n",
    "\n",
    "fig, ax = plt.subplots()\n",
    "\n",
    "# the histogram of the data\n",
    "n, bins, patches = ax.hist(x, num_bins, density=True)\n",
    "\n",
    "# add a 'best fit' line\n",
    "y = ((1 / (np.sqrt(2 * np.pi) * sigma)) *\n",
    "     np.exp(-0.5 * (1 / sigma * (bins - mu))**2))\n",
    "ax.plot(bins, y, '--')\n",
    "ax.set_xlabel('Magnitude absoluta (M)')\n",
    "ax.set_ylabel('Densidade de probabilidade')\n",
    "ax.set_title(r'Objetos perigosos à Terra: $\\mu=18.72$, $\\sigma=1.55$')\n",
    "\n",
    "# Tweak spacing to prevent clipping of ylabel\n",
    "fig.tight_layout()\n",
    "plt.show()"
   ]
  },
  {
   "cell_type": "code",
   "execution_count": 32,
   "id": "d3f93f78-198f-44d1-93d1-b56d9d9efe7c",
   "metadata": {},
   "outputs": [
    {
     "data": {
      "image/png": "[encoded data removed]",
      "text/plain": [
       "<Figure size 432x288 with 1 Axes>"
      ]
     },
     "metadata": {
      "needs_background": "light"
     },
     "output_type": "display_data"
    }
   ],
   "source": [
    "# data parameters\n",
    "x = simp_df.loc[-simp_df['id'].isin(dang_obj_id)]['absolute_magnitude_h']\n",
    "mu = x.mean()  # mean of distribution\n",
    "sigma = x.std()  # standard deviation of distribution\n",
    "\n",
    "num_bins = 15\n",
    "\n",
    "fig, ax = plt.subplots()\n",
    "\n",
    "# the histogram of the data\n",
    "n, bins, patches = ax.hist(x, num_bins, density=True)\n",
    "\n",
    "# add a 'best fit' line\n",
    "y = ((1 / (np.sqrt(2 * np.pi) * sigma)) *\n",
    "     np.exp(-0.5 * (1 / sigma * (bins - mu))**2))\n",
    "ax.plot(bins, y, '--')\n",
    "ax.set_xlabel('Magnitude absoluta (M)')\n",
    "ax.set_ylabel('Densidade de probabilidade')\n",
    "ax.set_title(r'Objetos inofencivos à Terra: $\\mu=18.02$, $\\sigma=1.58$')\n",
    "\n",
    "# Tweak spacing to prevent clipping of ylabel\n",
    "fig.tight_layout()\n",
    "plt.show()"
   ]
  },
  {
   "cell_type": "markdown",
   "id": "1461ec19-0f08-4497-bea7-d3c345682212",
   "metadata": {},
   "source": [
    "## Exploração dos dados"
   ]
  },
  {
   "cell_type": "markdown",
   "id": "ac1678e4-38a3-4f44-a2b6-34a4593fd7cd",
   "metadata": {},
   "source": [
    "Histograma sobrepondo a magnitude absoluta (M) dos objetos perigosos sobre os inofencivos"
   ]
  },
  {
   "cell_type": "code",
   "execution_count": 33,
   "id": "8c381252-3bf1-402a-b2cc-171e53a189db",
   "metadata": {},
   "outputs": [
    {
     "data": {
      "image/png": "[encoded data removed]",
      "text/plain": [
       "<Figure size 432x288 with 1 Axes>"
      ]
     },
     "metadata": {
      "needs_background": "light"
     },
     "output_type": "display_data"
    }
   ],
   "source": [
    "x1 = dang_obj['absolute_magnitude_h']\n",
    "x2 = simp_df.loc[-simp_df['id'].isin(dang_obj_id)]['absolute_magnitude_h']\n",
    "\n",
    "bins = 15\n",
    "\n",
    "plt.hist(x1, bins, alpha=0.5, label='Dang. obj.')\n",
    "plt.hist(x2, bins, alpha=0.3, label='Inof. obj.')\n",
    "plt.legend(loc='upper right')\n",
    "plt.show()"
   ]
  },
  {
   "cell_type": "markdown",
   "id": "f69d63c6-8332-4097-90be-933298bf7320",
   "metadata": {},
   "source": [
    "Gráfico de bolhas de três dimensões, data de aproximação x distância mínima x magnitude absoluta.  \n",
    "As cores distinguem entre perigosos e inofencivos."
   ]
  },
  {
   "cell_type": "code",
   "execution_count": 34,
   "id": "b33d6a5a-c84a-4695-b6ab-fb15bb574aee",
   "metadata": {},
   "outputs": [
    {
     "data": {
      "text/html": [
       "<div>\n",
       "<style scoped>\n",
       "    .dataframe tbody tr th:only-of-type {\n",
       "        vertical-align: middle;\n",
       "    }\n",
       "\n",
       "    .dataframe tbody tr th {\n",
       "        vertical-align: top;\n",
       "    }\n",
       "\n",
       "    .dataframe thead th {\n",
       "        text-align: right;\n",
       "    }\n",
       "</style>\n",
       "<table border=\"1\" class=\"dataframe\">\n",
       "  <thead>\n",
       "    <tr style=\"text-align: right;\">\n",
       "      <th></th>\n",
       "      <th>absolute_magnitude_h</th>\n",
       "      <th>orbital_data.minimum_orbit_intersection</th>\n",
       "    </tr>\n",
       "  </thead>\n",
       "  <tbody>\n",
       "    <tr>\n",
       "      <th>count</th>\n",
       "      <td>3070.000000</td>\n",
       "      <td>3070.000000</td>\n",
       "    </tr>\n",
       "    <tr>\n",
       "      <th>mean</th>\n",
       "      <td>19.539056</td>\n",
       "      <td>0.168928</td>\n",
       "    </tr>\n",
       "    <tr>\n",
       "      <th>std</th>\n",
       "      <td>2.545422</td>\n",
       "      <td>0.114623</td>\n",
       "    </tr>\n",
       "    <tr>\n",
       "      <th>min</th>\n",
       "      <td>9.250000</td>\n",
       "      <td>0.000031</td>\n",
       "    </tr>\n",
       "    <tr>\n",
       "      <th>25%</th>\n",
       "      <td>17.900000</td>\n",
       "      <td>0.078736</td>\n",
       "    </tr>\n",
       "    <tr>\n",
       "      <th>50%</th>\n",
       "      <td>19.110000</td>\n",
       "      <td>0.150574</td>\n",
       "    </tr>\n",
       "    <tr>\n",
       "      <th>75%</th>\n",
       "      <td>20.700000</td>\n",
       "      <td>0.246011</td>\n",
       "    </tr>\n",
       "    <tr>\n",
       "      <th>max</th>\n",
       "      <td>30.100000</td>\n",
       "      <td>0.709169</td>\n",
       "    </tr>\n",
       "  </tbody>\n",
       "</table>\n",
       "</div>"
      ],
      "text/plain": [
       "       absolute_magnitude_h  orbital_data.minimum_orbit_intersection\n",
       "count           3070.000000                              3070.000000\n",
       "mean              19.539056                                 0.168928\n",
       "std                2.545422                                 0.114623\n",
       "min                9.250000                                 0.000031\n",
       "25%               17.900000                                 0.078736\n",
       "50%               19.110000                                 0.150574\n",
       "75%               20.700000                                 0.246011\n",
       "max               30.100000                                 0.709169"
      ]
     },
     "execution_count": 34,
     "metadata": {},
     "output_type": "execute_result"
    }
   ],
   "source": [
    "ext_inof_obj = ext_df.loc[ext_df['is_potentially_hazardous_asteroid']==False]\n",
    "ext_inof_obj.describe()"
   ]
  },
  {
   "cell_type": "code",
   "execution_count": 35,
   "id": "26a0dd85-7dc9-4db4-bdd6-7952f301b3fd",
   "metadata": {},
   "outputs": [
    {
     "data": {
      "image/png": "[encoded data removed]",
      "text/plain": [
       "<Figure size 432x288 with 1 Axes>"
      ]
     },
     "metadata": {
      "needs_background": "light"
     },
     "output_type": "display_data"
    }
   ],
   "source": [
    "x = ext_df['orbital_data.first_observation_date']\n",
    "y = ext_df['orbital_data.minimum_orbit_intersection']\n",
    "sizes = ext_df['absolute_magnitude_h']**2\n",
    "colors = ext_df['is_potentially_hazardous_asteroid']\n",
    "\n",
    "plt.scatter(x, y, s=sizes, c=colors, alpha=0.5)\n",
    "\n",
    "#plt.legend((colors), (colors))\n",
    "plt.show()"
   ]
  },
  {
   "cell_type": "markdown",
   "id": "ea35d782-e07d-4192-9018-2b98c8ce3e98",
   "metadata": {},
   "source": [
    "Relação entre a magnitude absoluta (M) e a mínima distância observada"
   ]
  },
  {
   "cell_type": "code",
   "execution_count": 36,
   "id": "d36d5304-9b2a-499e-a33b-0b23e895fd28",
   "metadata": {},
   "outputs": [
    {
     "data": {
      "image/png": "[encoded data removed]",
      "text/plain": [
       "<Figure size 432x288 with 1 Axes>"
      ]
     },
     "metadata": {
      "needs_background": "light"
     },
     "output_type": "display_data"
    }
   ],
   "source": [
    "x = ext_df['absolute_magnitude_h']\n",
    "y = ext_df['orbital_data.minimum_orbit_intersection']\n",
    "\n",
    "plt.scatter(x, y)\n",
    "\n",
    "plt.xlabel('Magnitude absoluta (M)')\n",
    "plt.ylabel('Mínima distância observada')\n",
    "\n",
    "plt.show()"
   ]
  },
  {
   "cell_type": "code",
   "execution_count": null,
   "id": "771346bc-2d2f-4895-a762-7c563d4ef87e",
   "metadata": {},
   "outputs": [],
   "source": []
  }
 ],
 "metadata": {
  "kernelspec": {
   "display_name": "Python 3",
   "language": "python",
   "name": "python3"
  },
  "language_info": {
   "codemirror_mode": {
    "name": "ipython",
    "version": 3
   },
   "file_extension": ".py",
   "mimetype": "text/x-python",
   "name": "python",
   "nbconvert_exporter": "python",
   "pygments_lexer": "ipython3",
   "version": "3.8.10"
  }
 },
 "nbformat": 4,
 "nbformat_minor": 5
}
