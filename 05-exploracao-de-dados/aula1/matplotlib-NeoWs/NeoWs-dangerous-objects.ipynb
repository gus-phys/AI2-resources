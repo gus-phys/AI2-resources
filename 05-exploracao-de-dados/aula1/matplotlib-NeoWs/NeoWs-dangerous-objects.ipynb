{
 "cells": [
  {
   "cell_type": "markdown",
   "id": "e781e1b8-9557-4eaa-9d87-321548b80eae",
   "metadata": {},
   "source": [
    "## Bibliotecas"
   ]
  },
  {
   "cell_type": "code",
   "execution_count": 1,
   "id": "662ad49c-9b7d-4c4e-b9f2-4c3a07539bed",
   "metadata": {},
   "outputs": [],
   "source": [
    "import pandas as pd\n",
    "import numpy as np\n",
    "import matplotlib.pyplot as plt\n",
    "from datetime import datetime\n",
    "import requests\n",
    "import json"
   ]
  },
  {
   "cell_type": "markdown",
   "id": "15016701-1034-4a59-ac5f-0e5ff97e0af8",
   "metadata": {},
   "source": [
    "## NeoWs (Near Earth Object Web Service)"
   ]
  },
  {
   "cell_type": "code",
   "execution_count": 2,
   "id": "db69ea10-a777-4de5-8dba-7c7810793ceb",
   "metadata": {},
   "outputs": [],
   "source": [
    "api_key = \"J5nkOEahKw7yQUeA9dR6C8QcLtnq9wMMgC4IWSbc\"\n",
    "num_paginas = 100\n",
    "raw_data = []\n",
    "for page in range(num_paginas):\n",
    "    resp = requests.get(f'https://api.nasa.gov/neo/rest/v1/neo/browse?page={page}&api_key={api_key}')\n",
    "    raw_data.append(json.loads(resp.text))"
   ]
  },
  {
   "cell_type": "code",
   "execution_count": 3,
   "id": "a347a522-9ce6-4afc-8086-7005649ff347",
   "metadata": {},
   "outputs": [
    {
     "data": {
      "text/plain": [
       "100"
      ]
     },
     "execution_count": 3,
     "metadata": {},
     "output_type": "execute_result"
    }
   ],
   "source": [
    "len(raw_data)"
   ]
  },
  {
   "cell_type": "markdown",
   "id": "0dac3dfd-619a-4c5f-89f3-f6a1257a6994",
   "metadata": {},
   "source": [
    "### Data Frame simplificado"
   ]
  },
  {
   "cell_type": "code",
   "execution_count": 4,
   "id": "88039ff9-1f7c-4836-895f-a16e6102cf6a",
   "metadata": {},
   "outputs": [],
   "source": [
    "int_cols = ['id',\n",
    "           'name',\n",
    "           'absolute_magnitude_h',\n",
    "           'is_potentially_hazardous_asteroid']"
   ]
  },
  {
   "cell_type": "code",
   "execution_count": 5,
   "id": "5c8bb0d7-29d9-44bd-ae7f-966c1b32dec2",
   "metadata": {},
   "outputs": [
    {
     "data": {
      "text/html": [
       "<div>\n",
       "<style scoped>\n",
       "    .dataframe tbody tr th:only-of-type {\n",
       "        vertical-align: middle;\n",
       "    }\n",
       "\n",
       "    .dataframe tbody tr th {\n",
       "        vertical-align: top;\n",
       "    }\n",
       "\n",
       "    .dataframe thead th {\n",
       "        text-align: right;\n",
       "    }\n",
       "</style>\n",
       "<table border=\"1\" class=\"dataframe\">\n",
       "  <thead>\n",
       "    <tr style=\"text-align: right;\">\n",
       "      <th></th>\n",
       "      <th>id</th>\n",
       "      <th>name</th>\n",
       "      <th>absolute_magnitude_h</th>\n",
       "      <th>is_potentially_hazardous_asteroid</th>\n",
       "    </tr>\n",
       "  </thead>\n",
       "  <tbody>\n",
       "    <tr>\n",
       "      <th>0</th>\n",
       "      <td>2000433</td>\n",
       "      <td>433 Eros (A898 PA)</td>\n",
       "      <td>10.42</td>\n",
       "      <td>False</td>\n",
       "    </tr>\n",
       "    <tr>\n",
       "      <th>1</th>\n",
       "      <td>2000719</td>\n",
       "      <td>719 Albert (A911 TB)</td>\n",
       "      <td>15.51</td>\n",
       "      <td>False</td>\n",
       "    </tr>\n",
       "    <tr>\n",
       "      <th>2</th>\n",
       "      <td>2000887</td>\n",
       "      <td>887 Alinda (A918 AA)</td>\n",
       "      <td>13.84</td>\n",
       "      <td>False</td>\n",
       "    </tr>\n",
       "    <tr>\n",
       "      <th>3</th>\n",
       "      <td>2001036</td>\n",
       "      <td>1036 Ganymed (A924 UB)</td>\n",
       "      <td>9.25</td>\n",
       "      <td>False</td>\n",
       "    </tr>\n",
       "    <tr>\n",
       "      <th>4</th>\n",
       "      <td>2001221</td>\n",
       "      <td>1221 Amor (1932 EA1)</td>\n",
       "      <td>17.39</td>\n",
       "      <td>False</td>\n",
       "    </tr>\n",
       "  </tbody>\n",
       "</table>\n",
       "</div>"
      ],
      "text/plain": [
       "        id                    name  absolute_magnitude_h  \\\n",
       "0  2000433      433 Eros (A898 PA)                 10.42   \n",
       "1  2000719    719 Albert (A911 TB)                 15.51   \n",
       "2  2000887    887 Alinda (A918 AA)                 13.84   \n",
       "3  2001036  1036 Ganymed (A924 UB)                  9.25   \n",
       "4  2001221    1221 Amor (1932 EA1)                 17.39   \n",
       "\n",
       "   is_potentially_hazardous_asteroid  \n",
       "0                              False  \n",
       "1                              False  \n",
       "2                              False  \n",
       "3                              False  \n",
       "4                              False  "
      ]
     },
     "execution_count": 5,
     "metadata": {},
     "output_type": "execute_result"
    }
   ],
   "source": [
    "simp_df = pd.json_normalize(data=raw_data, record_path=['near_earth_objects']).loc[:,int_cols]\n",
    "simp_df.head()"
   ]
  },
  {
   "cell_type": "markdown",
   "id": "8b088b27-4486-4ade-9954-2e032b3af6cd",
   "metadata": {},
   "source": [
    "### Data frame estendido"
   ]
  },
  {
   "cell_type": "code",
   "execution_count": 6,
   "id": "4b300746-47a2-4372-a9b6-55b49809eca9",
   "metadata": {},
   "outputs": [],
   "source": [
    "int_cols_ext = ['id',\n",
    "               'absolute_magnitude_h',\n",
    "               'is_potentially_hazardous_asteroid',\n",
    "               'close_approach_date',\n",
    "               'miss_distance.lunar']"
   ]
  },
  {
   "cell_type": "code",
   "execution_count": 7,
   "id": "fd5c512c-487b-467d-a7b7-38f86a694a08",
   "metadata": {},
   "outputs": [],
   "source": [
    "appended_pages = []\n",
    "for page in range(len(raw_data)):\n",
    "    page_df = pd.json_normalize(raw_data[page]['near_earth_objects'], record_path=['close_approach_data'], meta=['id', 'absolute_magnitude_h', 'is_potentially_hazardous_asteroid']).loc[:,int_cols_ext]\n",
    "    appended_pages.append(page_df)"
   ]
  },
  {
   "cell_type": "code",
   "execution_count": 8,
   "id": "37cd1458-20ad-4c85-8c66-3bc7e258c816",
   "metadata": {},
   "outputs": [
    {
     "data": {
      "text/html": [
       "<div>\n",
       "<style scoped>\n",
       "    .dataframe tbody tr th:only-of-type {\n",
       "        vertical-align: middle;\n",
       "    }\n",
       "\n",
       "    .dataframe tbody tr th {\n",
       "        vertical-align: top;\n",
       "    }\n",
       "\n",
       "    .dataframe thead th {\n",
       "        text-align: right;\n",
       "    }\n",
       "</style>\n",
       "<table border=\"1\" class=\"dataframe\">\n",
       "  <thead>\n",
       "    <tr style=\"text-align: right;\">\n",
       "      <th></th>\n",
       "      <th>id</th>\n",
       "      <th>absolute_magnitude_h</th>\n",
       "      <th>is_potentially_hazardous_asteroid</th>\n",
       "      <th>close_approach_date</th>\n",
       "      <th>miss_distance.lunar</th>\n",
       "    </tr>\n",
       "  </thead>\n",
       "  <tbody>\n",
       "    <tr>\n",
       "      <th>0</th>\n",
       "      <td>2000433</td>\n",
       "      <td>10.42</td>\n",
       "      <td>False</td>\n",
       "      <td>1900-12-27</td>\n",
       "      <td>122.5074468577</td>\n",
       "    </tr>\n",
       "    <tr>\n",
       "      <th>1</th>\n",
       "      <td>2000433</td>\n",
       "      <td>10.42</td>\n",
       "      <td>False</td>\n",
       "      <td>1907-11-05</td>\n",
       "      <td>183.4078760325</td>\n",
       "    </tr>\n",
       "    <tr>\n",
       "      <th>2</th>\n",
       "      <td>2000433</td>\n",
       "      <td>10.42</td>\n",
       "      <td>False</td>\n",
       "      <td>1917-04-20</td>\n",
       "      <td>194.211053134</td>\n",
       "    </tr>\n",
       "    <tr>\n",
       "      <th>3</th>\n",
       "      <td>2000433</td>\n",
       "      <td>10.42</td>\n",
       "      <td>False</td>\n",
       "      <td>1924-03-05</td>\n",
       "      <td>139.9569441821</td>\n",
       "    </tr>\n",
       "    <tr>\n",
       "      <th>4</th>\n",
       "      <td>2000433</td>\n",
       "      <td>10.42</td>\n",
       "      <td>False</td>\n",
       "      <td>1931-01-30</td>\n",
       "      <td>67.7144537162</td>\n",
       "    </tr>\n",
       "    <tr>\n",
       "      <th>...</th>\n",
       "      <td>...</td>\n",
       "      <td>...</td>\n",
       "      <td>...</td>\n",
       "      <td>...</td>\n",
       "      <td>...</td>\n",
       "    </tr>\n",
       "    <tr>\n",
       "      <th>120141</th>\n",
       "      <td>2448721</td>\n",
       "      <td>20.9</td>\n",
       "      <td>True</td>\n",
       "      <td>2191-08-15</td>\n",
       "      <td>44.9007577625</td>\n",
       "    </tr>\n",
       "    <tr>\n",
       "      <th>120142</th>\n",
       "      <td>2448721</td>\n",
       "      <td>20.9</td>\n",
       "      <td>True</td>\n",
       "      <td>2193-04-19</td>\n",
       "      <td>10.7487064818</td>\n",
       "    </tr>\n",
       "    <tr>\n",
       "      <th>120143</th>\n",
       "      <td>2448721</td>\n",
       "      <td>20.9</td>\n",
       "      <td>True</td>\n",
       "      <td>2193-09-05</td>\n",
       "      <td>189.044954583</td>\n",
       "    </tr>\n",
       "    <tr>\n",
       "      <th>120144</th>\n",
       "      <td>2448721</td>\n",
       "      <td>20.9</td>\n",
       "      <td>True</td>\n",
       "      <td>2195-08-13</td>\n",
       "      <td>38.7494270859</td>\n",
       "    </tr>\n",
       "    <tr>\n",
       "      <th>120145</th>\n",
       "      <td>2448721</td>\n",
       "      <td>20.9</td>\n",
       "      <td>True</td>\n",
       "      <td>2197-07-04</td>\n",
       "      <td>31.3924303539</td>\n",
       "    </tr>\n",
       "  </tbody>\n",
       "</table>\n",
       "<p>120146 rows × 5 columns</p>\n",
       "</div>"
      ],
      "text/plain": [
       "             id absolute_magnitude_h is_potentially_hazardous_asteroid  \\\n",
       "0       2000433                10.42                             False   \n",
       "1       2000433                10.42                             False   \n",
       "2       2000433                10.42                             False   \n",
       "3       2000433                10.42                             False   \n",
       "4       2000433                10.42                             False   \n",
       "...         ...                  ...                               ...   \n",
       "120141  2448721                 20.9                              True   \n",
       "120142  2448721                 20.9                              True   \n",
       "120143  2448721                 20.9                              True   \n",
       "120144  2448721                 20.9                              True   \n",
       "120145  2448721                 20.9                              True   \n",
       "\n",
       "       close_approach_date miss_distance.lunar  \n",
       "0               1900-12-27      122.5074468577  \n",
       "1               1907-11-05      183.4078760325  \n",
       "2               1917-04-20       194.211053134  \n",
       "3               1924-03-05      139.9569441821  \n",
       "4               1931-01-30       67.7144537162  \n",
       "...                    ...                 ...  \n",
       "120141          2191-08-15       44.9007577625  \n",
       "120142          2193-04-19       10.7487064818  \n",
       "120143          2193-09-05       189.044954583  \n",
       "120144          2195-08-13       38.7494270859  \n",
       "120145          2197-07-04       31.3924303539  \n",
       "\n",
       "[120146 rows x 5 columns]"
      ]
     },
     "execution_count": 8,
     "metadata": {},
     "output_type": "execute_result"
    }
   ],
   "source": [
    "ext_df = pd.concat(appended_pages, ignore_index=True)\n",
    "ext_df"
   ]
  },
  {
   "cell_type": "markdown",
   "id": "655dd312-049c-4d91-98e3-0c37c83be4e8",
   "metadata": {},
   "source": [
    "---\n"
   ]
  },
  {
   "cell_type": "markdown",
   "id": "db3345cb-2310-425d-9e14-468a761c506b",
   "metadata": {},
   "source": [
    "## Número de objetos perigosos à Terra"
   ]
  },
  {
   "cell_type": "code",
   "execution_count": 9,
   "id": "9bfa0d64-06ff-4c82-a320-e61f20b7db75",
   "metadata": {},
   "outputs": [
    {
     "data": {
      "text/html": [
       "<div>\n",
       "<style scoped>\n",
       "    .dataframe tbody tr th:only-of-type {\n",
       "        vertical-align: middle;\n",
       "    }\n",
       "\n",
       "    .dataframe tbody tr th {\n",
       "        vertical-align: top;\n",
       "    }\n",
       "\n",
       "    .dataframe thead th {\n",
       "        text-align: right;\n",
       "    }\n",
       "</style>\n",
       "<table border=\"1\" class=\"dataframe\">\n",
       "  <thead>\n",
       "    <tr style=\"text-align: right;\">\n",
       "      <th></th>\n",
       "      <th>id</th>\n",
       "      <th>name</th>\n",
       "      <th>absolute_magnitude_h</th>\n",
       "      <th>is_potentially_hazardous_asteroid</th>\n",
       "    </tr>\n",
       "  </thead>\n",
       "  <tbody>\n",
       "    <tr>\n",
       "      <th>5</th>\n",
       "      <td>2001566</td>\n",
       "      <td>1566 Icarus (1949 MA)</td>\n",
       "      <td>16.34</td>\n",
       "      <td>True</td>\n",
       "    </tr>\n",
       "    <tr>\n",
       "      <th>7</th>\n",
       "      <td>2001620</td>\n",
       "      <td>1620 Geographos (1951 RA)</td>\n",
       "      <td>15.30</td>\n",
       "      <td>True</td>\n",
       "    </tr>\n",
       "    <tr>\n",
       "      <th>10</th>\n",
       "      <td>2001862</td>\n",
       "      <td>1862 Apollo (1932 HA)</td>\n",
       "      <td>16.11</td>\n",
       "      <td>True</td>\n",
       "    </tr>\n",
       "    <tr>\n",
       "      <th>20</th>\n",
       "      <td>2001981</td>\n",
       "      <td>1981 Midas (1973 EA)</td>\n",
       "      <td>15.22</td>\n",
       "      <td>True</td>\n",
       "    </tr>\n",
       "    <tr>\n",
       "      <th>26</th>\n",
       "      <td>2002101</td>\n",
       "      <td>2101 Adonis (1936 CA)</td>\n",
       "      <td>18.64</td>\n",
       "      <td>True</td>\n",
       "    </tr>\n",
       "    <tr>\n",
       "      <th>...</th>\n",
       "      <td>...</td>\n",
       "      <td>...</td>\n",
       "      <td>...</td>\n",
       "      <td>...</td>\n",
       "    </tr>\n",
       "    <tr>\n",
       "      <th>1981</th>\n",
       "      <td>2446791</td>\n",
       "      <td>446791 (1998 SJ70)</td>\n",
       "      <td>18.30</td>\n",
       "      <td>True</td>\n",
       "    </tr>\n",
       "    <tr>\n",
       "      <th>1985</th>\n",
       "      <td>2446862</td>\n",
       "      <td>446862 (2001 VB76)</td>\n",
       "      <td>20.30</td>\n",
       "      <td>True</td>\n",
       "    </tr>\n",
       "    <tr>\n",
       "      <th>1993</th>\n",
       "      <td>2447755</td>\n",
       "      <td>447755 (2007 JX2)</td>\n",
       "      <td>19.70</td>\n",
       "      <td>True</td>\n",
       "    </tr>\n",
       "    <tr>\n",
       "      <th>1997</th>\n",
       "      <td>2448003</td>\n",
       "      <td>448003 (2008 DE)</td>\n",
       "      <td>19.60</td>\n",
       "      <td>True</td>\n",
       "    </tr>\n",
       "    <tr>\n",
       "      <th>1999</th>\n",
       "      <td>2448721</td>\n",
       "      <td>448721 (2011 BN24)</td>\n",
       "      <td>20.90</td>\n",
       "      <td>True</td>\n",
       "    </tr>\n",
       "  </tbody>\n",
       "</table>\n",
       "<p>535 rows × 4 columns</p>\n",
       "</div>"
      ],
      "text/plain": [
       "           id                       name  absolute_magnitude_h  \\\n",
       "5     2001566      1566 Icarus (1949 MA)                 16.34   \n",
       "7     2001620  1620 Geographos (1951 RA)                 15.30   \n",
       "10    2001862      1862 Apollo (1932 HA)                 16.11   \n",
       "20    2001981       1981 Midas (1973 EA)                 15.22   \n",
       "26    2002101      2101 Adonis (1936 CA)                 18.64   \n",
       "...       ...                        ...                   ...   \n",
       "1981  2446791         446791 (1998 SJ70)                 18.30   \n",
       "1985  2446862         446862 (2001 VB76)                 20.30   \n",
       "1993  2447755          447755 (2007 JX2)                 19.70   \n",
       "1997  2448003           448003 (2008 DE)                 19.60   \n",
       "1999  2448721         448721 (2011 BN24)                 20.90   \n",
       "\n",
       "      is_potentially_hazardous_asteroid  \n",
       "5                                  True  \n",
       "7                                  True  \n",
       "10                                 True  \n",
       "20                                 True  \n",
       "26                                 True  \n",
       "...                                 ...  \n",
       "1981                               True  \n",
       "1985                               True  \n",
       "1993                               True  \n",
       "1997                               True  \n",
       "1999                               True  \n",
       "\n",
       "[535 rows x 4 columns]"
      ]
     },
     "execution_count": 9,
     "metadata": {},
     "output_type": "execute_result"
    }
   ],
   "source": [
    "dang_obj = simp_df.loc[simp_df['is_potentially_hazardous_asteroid']==True]\n",
    "dang_obj"
   ]
  },
  {
   "cell_type": "code",
   "execution_count": 10,
   "id": "06126ee3-f839-4f02-a70e-d04bab03f770",
   "metadata": {},
   "outputs": [
    {
     "data": {
      "text/plain": [
       "535"
      ]
     },
     "execution_count": 10,
     "metadata": {},
     "output_type": "execute_result"
    }
   ],
   "source": [
    "len(dang_obj)"
   ]
  },
  {
   "cell_type": "markdown",
   "id": "e8e44ee3-c875-45d8-9e78-d75433bed92f",
   "metadata": {},
   "source": [
    "## Média e desvio padrão da distância dos objetos perigosos"
   ]
  },
  {
   "cell_type": "code",
   "execution_count": 11,
   "id": "05863b72-2e61-4ec0-93b5-2366c3495e21",
   "metadata": {},
   "outputs": [
    {
     "data": {
      "text/plain": [
       "array(['2001566', '2001620', '2001862', '2001981', '2002101', '2002102',\n",
       "       '2002135', '2002201', '2002340', '2003122', '2003200', '2003361',\n",
       "       '2003362', '2003671', '2003757', '2004015', '2004034', '2004179',\n",
       "       '2004183', '2004450', '2004486', '2004581', '2004660', '2004769',\n",
       "       '2004953', '2005011', '2005189', '2005604', '2005693', '2006037',\n",
       "       '2006239', '2006489', '2006491', '2007335', '2007341', '2007482',\n",
       "       '2007753', '2007822', '2008014', '2008566', '2009856', '2010115',\n",
       "       '2011500', '2012538', '2012923', '2013651', '2014827', '2016960',\n",
       "       '2020425', '2022753', '2023187', '2025143', '2026663', '2027002',\n",
       "       '2029075', '2031669', '2033342', '2035107', '2035396', '2037638',\n",
       "       '2037655', '2038071', '2039572', '2041429', '2052760', '2052768',\n",
       "       '2053319', '2053426', '2053429', '2053550', '2053789', '2065679',\n",
       "       '2065690', '2065717', '2065803', '2065909', '2066391', '2067367',\n",
       "       '2067381', '2068216', '2068346', '2068347', '2068372', '2068548',\n",
       "       '2068950', '2069230', '2085182', '2085236', '2085585', '2085640',\n",
       "       '2085713', '2085774', '2085938', '2085989', '2085990', '2086039',\n",
       "       '2086819', '2087684', '2088254', '2089136', '2089830', '2089958',\n",
       "       '2089959', '2090075', '2090403', '2090416', '2099248', '2099942',\n",
       "       '2100085', '2101869', '2101955', '2103067', '2111253', '2136617',\n",
       "       '2136618', '2136795', '2136849', '2137108', '2137120', '2137126',\n",
       "       '2137427', '2138095', '2138127', '2138175', '2138404', '2138524',\n",
       "       '2138727', '2138971', '2139211', '2139359', '2139622', '2140039',\n",
       "       '2140158', '2140288', '2141053', '2141432', '2141495', '2141525',\n",
       "       '2141527', '2141593', '2141614', '2141851', '2143404', '2143487',\n",
       "       '2143649', '2143651', '2143992', '2144332', '2144898', '2144900',\n",
       "       '2152560', '2152561', '2152637', '2152664', '2152671', '2152680',\n",
       "       '2152685', '2152754', '2152770', '2152828', '2152978', '2153002',\n",
       "       '2153201', '2153220', '2153311', '2153591', '2153814', '2153958',\n",
       "       '2154019', '2154269', '2154275', '2154276', '2154302', '2154330',\n",
       "       '2154590', '2155338', '2159504', '2159857', '2161989', '2162000',\n",
       "       '2162039', '2162082', '2162116', '2162120', '2162162', '2162173',\n",
       "       '2162183', '2162210', '2162361', '2162416', '2162421', '2162422',\n",
       "       '2162474', '2162510', '2162567', '2162687', '2162695', '2162783',\n",
       "       '2162825', '2162882', '2162922', '2162979', '2162998', '2163014',\n",
       "       '2163026', '2163051', '2163067', '2163132', '2163243', '2163249',\n",
       "       '2163348', '2163364', '2163373', '2163683', '2163697', '2163818',\n",
       "       '2163899', '2164121', '2164202', '2164207', '2164211', '2164216',\n",
       "       '2168318', '2170086', '2170903', '2171576', '2171839', '2172678',\n",
       "       '2173561', '2175706', '2175729', '2177049', '2177614', '2179806',\n",
       "       '2180186', '2184266', '2185851', '2186844', '2187040', '2189040',\n",
       "       '2189865', '2192559', '2192563', '2194006', '2194268', '2196068',\n",
       "       '2196625', '2197588', '2199003', '2199145', '2199801', '2200840',\n",
       "       '2202683', '2205744', '2206378', '2206910', '2207398', '2207945',\n",
       "       '2208023', '2208115', '2212546', '2214869', '2215588', '2216115',\n",
       "       '2216258', '2216523', '2216985', '2217430', '2217628', '2220839',\n",
       "       '2221455', '2221980', '2226514', '2226554', '2228368', '2230111',\n",
       "       '2230549', '2231937', '2232691', '2234145', '2235756', '2242216',\n",
       "       '2242450', '2242643', '2242708', '2243566', '2244977', '2247360',\n",
       "       '2250620', '2250680', '2250706', '2251346', '2251722', '2252399',\n",
       "       '2253841', '2255071', '2260141', '2263976', '2264357', '2264993',\n",
       "       '2265196', '2265482', '2267131', '2267221', '2267337', '2267494',\n",
       "       '2267720', '2267729', '2269690', '2275677', '2276033', '2277475',\n",
       "       '2277570', '2279744', '2279816', '2281375', '2285263', '2286080',\n",
       "       '2289315', '2290772', '2292220', '2294739', '2297274', '2297300',\n",
       "       '2297418', '2301844', '2302169', '2302831', '2303450', '2304330',\n",
       "       '2306383', '2307005', '2307493', '2308242', '2308635', '2310442',\n",
       "       '2310560', '2311044', '2311066', '2312070', '2314082', '2314212',\n",
       "       '2317255', '2326290', '2329437', '2329614', '2330233', '2331876',\n",
       "       '2332446', '2333521', '2333578', '2337075', '2337558', '2341843',\n",
       "       '2342866', '2344076', '2348306', '2348314', '2348400', '2349068',\n",
       "       '2349507', '2350523', '2350751', '2352102', '2354182', '2356991',\n",
       "       '2357022', '2357024', '2357028', '2357439', '2357594', '2357622',\n",
       "       '2358471', '2358744', '2359170', '2359369', '2360191', '2361754',\n",
       "       '2363024', '2363027', '2363067', '2363084', '2363116', '2363305',\n",
       "       '2363344', '2363505', '2363599', '2363734', '2363790', '2363831',\n",
       "       '2364136', '2365014', '2365071', '2365424', '2366746', '2366774',\n",
       "       '2367248', '2367789', '2368203', '2368565', '2369057', '2369264',\n",
       "       '2371660', '2373135', '2374038', '2374158', '2374851', '2374855',\n",
       "       '2375054', '2375103', '2377097', '2377732', '2378160', '2378358',\n",
       "       '2380636', '2380981', '2381906', '2382395', '2382406', '2382745',\n",
       "       '2382758', '2382825', '2385186', '2385252', '2385343', '2385605',\n",
       "       '2386454', '2386847', '2387505', '2387668', '2387746', '2388188',\n",
       "       '2388945', '2389694', '2390725', '2390929', '2391211', '2395207',\n",
       "       '2398188', '2399457', '2399774', '2401856', '2401954', '2403775',\n",
       "       '2405212', '2405762', '2406213', '2408792', '2409836', '2410627',\n",
       "       '2410778', '2411165', '2412983', '2413260', '2413577', '2413989',\n",
       "       '2414286', '2414287', '2414990', '2415029', '2415713', '2415745',\n",
       "       '2416195', '2416591', '2416801', '2417211', '2417217', '2417419',\n",
       "       '2417612', '2417634', '2417816', '2417871', '2417949', '2418094',\n",
       "       '2418135', '2418416', '2418849', '2419472', '2419624', '2419880',\n",
       "       '2420210', '2422686', '2422699', '2422787', '2423321', '2423709',\n",
       "       '2424482', '2425755', '2428209', '2429094', '2429584', '2430440',\n",
       "       '2430544', '2430804', '2433953', '2434096', '2434188', '2434196',\n",
       "       '2434326', '2434633', '2434677', '2434734', '2435159', '2435548',\n",
       "       '2436329', '2436671', '2436724', '2436774', '2437841', '2437844',\n",
       "       '2437905', '2438105', '2438661', '2438908', '2438955', '2439437',\n",
       "       '2439877', '2440212', '2441641', '2441987', '2442037', '2442523',\n",
       "       '2443103', '2443806', '2443880', '2444004', '2444193', '2444584',\n",
       "       '2445305', '2445974', '2446791', '2446862', '2447755', '2448003',\n",
       "       '2448721'], dtype=object)"
      ]
     },
     "execution_count": 11,
     "metadata": {},
     "output_type": "execute_result"
    }
   ],
   "source": [
    "dang_obj_id = dang_obj['id'].values\n",
    "dang_obj_id"
   ]
  },
  {
   "cell_type": "code",
   "execution_count": 12,
   "id": "24ac8ad7-4b2d-4e6e-a9a3-e2d3323b8308",
   "metadata": {},
   "outputs": [],
   "source": [
    "ext_df['miss_distance.lunar'] = ext_df['miss_distance.lunar'].astype(float)"
   ]
  },
  {
   "cell_type": "code",
   "execution_count": 13,
   "id": "19d9fda0-ae39-4dc5-9ae1-3c8e834db990",
   "metadata": {},
   "outputs": [],
   "source": [
    "mean_all = ext_df.groupby('id', as_index=False).mean()#.drop('is_potentially_hazardous_asteroid', axis=1)"
   ]
  },
  {
   "cell_type": "code",
   "execution_count": 14,
   "id": "248d8a0f-1e49-4d2e-806b-c05e3c592a33",
   "metadata": {
    "tags": []
   },
   "outputs": [
    {
     "data": {
      "text/html": [
       "<div>\n",
       "<style scoped>\n",
       "    .dataframe tbody tr th:only-of-type {\n",
       "        vertical-align: middle;\n",
       "    }\n",
       "\n",
       "    .dataframe tbody tr th {\n",
       "        vertical-align: top;\n",
       "    }\n",
       "\n",
       "    .dataframe thead th {\n",
       "        text-align: right;\n",
       "    }\n",
       "</style>\n",
       "<table border=\"1\" class=\"dataframe\">\n",
       "  <thead>\n",
       "    <tr style=\"text-align: right;\">\n",
       "      <th></th>\n",
       "      <th>id</th>\n",
       "      <th>mean</th>\n",
       "    </tr>\n",
       "  </thead>\n",
       "  <tbody>\n",
       "    <tr>\n",
       "      <th>5</th>\n",
       "      <td>2001566</td>\n",
       "      <td>99.376557</td>\n",
       "    </tr>\n",
       "    <tr>\n",
       "      <th>7</th>\n",
       "      <td>2001620</td>\n",
       "      <td>101.604549</td>\n",
       "    </tr>\n",
       "    <tr>\n",
       "      <th>10</th>\n",
       "      <td>2001862</td>\n",
       "      <td>80.488515</td>\n",
       "    </tr>\n",
       "    <tr>\n",
       "      <th>20</th>\n",
       "      <td>2001981</td>\n",
       "      <td>96.562637</td>\n",
       "    </tr>\n",
       "    <tr>\n",
       "      <th>26</th>\n",
       "      <td>2002101</td>\n",
       "      <td>84.069543</td>\n",
       "    </tr>\n",
       "    <tr>\n",
       "      <th>...</th>\n",
       "      <td>...</td>\n",
       "      <td>...</td>\n",
       "    </tr>\n",
       "    <tr>\n",
       "      <th>1976</th>\n",
       "      <td>2446791</td>\n",
       "      <td>175.512880</td>\n",
       "    </tr>\n",
       "    <tr>\n",
       "      <th>1980</th>\n",
       "      <td>2446862</td>\n",
       "      <td>103.280655</td>\n",
       "    </tr>\n",
       "    <tr>\n",
       "      <th>1988</th>\n",
       "      <td>2447755</td>\n",
       "      <td>68.686316</td>\n",
       "    </tr>\n",
       "    <tr>\n",
       "      <th>1992</th>\n",
       "      <td>2448003</td>\n",
       "      <td>84.445541</td>\n",
       "    </tr>\n",
       "    <tr>\n",
       "      <th>1994</th>\n",
       "      <td>2448721</td>\n",
       "      <td>81.235832</td>\n",
       "    </tr>\n",
       "  </tbody>\n",
       "</table>\n",
       "<p>535 rows × 2 columns</p>\n",
       "</div>"
      ],
      "text/plain": [
       "           id        mean\n",
       "5     2001566   99.376557\n",
       "7     2001620  101.604549\n",
       "10    2001862   80.488515\n",
       "20    2001981   96.562637\n",
       "26    2002101   84.069543\n",
       "...       ...         ...\n",
       "1976  2446791  175.512880\n",
       "1980  2446862  103.280655\n",
       "1988  2447755   68.686316\n",
       "1992  2448003   84.445541\n",
       "1994  2448721   81.235832\n",
       "\n",
       "[535 rows x 2 columns]"
      ]
     },
     "execution_count": 14,
     "metadata": {},
     "output_type": "execute_result"
    }
   ],
   "source": [
    "dang_obj_mean = mean_all.loc[mean_all['id'].isin(dang_obj_id)]\n",
    "dang_obj_mean = dang_obj_mean.rename(columns={'miss_distance.lunar': 'mean'})\n",
    "dang_obj_mean"
   ]
  },
  {
   "cell_type": "code",
   "execution_count": 15,
   "id": "c260b715-f3a1-4d91-b6ab-9dcda080b10e",
   "metadata": {},
   "outputs": [],
   "source": [
    "std_all = ext_df.groupby('id', as_index=False).std()#.drop('absolute_magnitude_h', axis=1)"
   ]
  },
  {
   "cell_type": "code",
   "execution_count": 16,
   "id": "7c653f59-15bf-4546-b417-95696a8ae9b1",
   "metadata": {},
   "outputs": [
    {
     "data": {
      "text/html": [
       "<div>\n",
       "<style scoped>\n",
       "    .dataframe tbody tr th:only-of-type {\n",
       "        vertical-align: middle;\n",
       "    }\n",
       "\n",
       "    .dataframe tbody tr th {\n",
       "        vertical-align: top;\n",
       "    }\n",
       "\n",
       "    .dataframe thead th {\n",
       "        text-align: right;\n",
       "    }\n",
       "</style>\n",
       "<table border=\"1\" class=\"dataframe\">\n",
       "  <thead>\n",
       "    <tr style=\"text-align: right;\">\n",
       "      <th></th>\n",
       "      <th>id</th>\n",
       "      <th>std</th>\n",
       "    </tr>\n",
       "  </thead>\n",
       "  <tbody>\n",
       "    <tr>\n",
       "      <th>5</th>\n",
       "      <td>2001566</td>\n",
       "      <td>58.634134</td>\n",
       "    </tr>\n",
       "    <tr>\n",
       "      <th>7</th>\n",
       "      <td>2001620</td>\n",
       "      <td>50.815718</td>\n",
       "    </tr>\n",
       "    <tr>\n",
       "      <th>10</th>\n",
       "      <td>2001862</td>\n",
       "      <td>52.768400</td>\n",
       "    </tr>\n",
       "    <tr>\n",
       "      <th>20</th>\n",
       "      <td>2001981</td>\n",
       "      <td>55.871900</td>\n",
       "    </tr>\n",
       "    <tr>\n",
       "      <th>26</th>\n",
       "      <td>2002101</td>\n",
       "      <td>62.350167</td>\n",
       "    </tr>\n",
       "    <tr>\n",
       "      <th>...</th>\n",
       "      <td>...</td>\n",
       "      <td>...</td>\n",
       "    </tr>\n",
       "    <tr>\n",
       "      <th>1976</th>\n",
       "      <td>2446791</td>\n",
       "      <td>210.681659</td>\n",
       "    </tr>\n",
       "    <tr>\n",
       "      <th>1980</th>\n",
       "      <td>2446862</td>\n",
       "      <td>65.354562</td>\n",
       "    </tr>\n",
       "    <tr>\n",
       "      <th>1988</th>\n",
       "      <td>2447755</td>\n",
       "      <td>46.073897</td>\n",
       "    </tr>\n",
       "    <tr>\n",
       "      <th>1992</th>\n",
       "      <td>2448003</td>\n",
       "      <td>49.942680</td>\n",
       "    </tr>\n",
       "    <tr>\n",
       "      <th>1994</th>\n",
       "      <td>2448721</td>\n",
       "      <td>65.758432</td>\n",
       "    </tr>\n",
       "  </tbody>\n",
       "</table>\n",
       "<p>535 rows × 2 columns</p>\n",
       "</div>"
      ],
      "text/plain": [
       "           id         std\n",
       "5     2001566   58.634134\n",
       "7     2001620   50.815718\n",
       "10    2001862   52.768400\n",
       "20    2001981   55.871900\n",
       "26    2002101   62.350167\n",
       "...       ...         ...\n",
       "1976  2446791  210.681659\n",
       "1980  2446862   65.354562\n",
       "1988  2447755   46.073897\n",
       "1992  2448003   49.942680\n",
       "1994  2448721   65.758432\n",
       "\n",
       "[535 rows x 2 columns]"
      ]
     },
     "execution_count": 16,
     "metadata": {},
     "output_type": "execute_result"
    }
   ],
   "source": [
    "dang_obj_std = std_all.loc[std_all['id'].isin(dang_obj_id)]\n",
    "dang_obj_std = dang_obj_std.rename(columns={'miss_distance.lunar': 'std'})\n",
    "dang_obj_std"
   ]
  },
  {
   "cell_type": "code",
   "execution_count": 17,
   "id": "a57c9915-5b93-4157-b95a-bdf8ca11b68a",
   "metadata": {},
   "outputs": [
    {
     "data": {
      "text/html": [
       "<div>\n",
       "<style scoped>\n",
       "    .dataframe tbody tr th:only-of-type {\n",
       "        vertical-align: middle;\n",
       "    }\n",
       "\n",
       "    .dataframe tbody tr th {\n",
       "        vertical-align: top;\n",
       "    }\n",
       "\n",
       "    .dataframe thead th {\n",
       "        text-align: right;\n",
       "    }\n",
       "</style>\n",
       "<table border=\"1\" class=\"dataframe\">\n",
       "  <thead>\n",
       "    <tr style=\"text-align: right;\">\n",
       "      <th></th>\n",
       "      <th>id</th>\n",
       "      <th>name</th>\n",
       "      <th>absolute_magnitude_h</th>\n",
       "      <th>is_potentially_hazardous_asteroid</th>\n",
       "      <th>mean</th>\n",
       "      <th>std</th>\n",
       "    </tr>\n",
       "  </thead>\n",
       "  <tbody>\n",
       "    <tr>\n",
       "      <th>5</th>\n",
       "      <td>2001566</td>\n",
       "      <td>1566 Icarus (1949 MA)</td>\n",
       "      <td>16.34</td>\n",
       "      <td>True</td>\n",
       "      <td>99.376557</td>\n",
       "      <td>58.634134</td>\n",
       "    </tr>\n",
       "    <tr>\n",
       "      <th>7</th>\n",
       "      <td>2001620</td>\n",
       "      <td>1620 Geographos (1951 RA)</td>\n",
       "      <td>15.30</td>\n",
       "      <td>True</td>\n",
       "      <td>101.604549</td>\n",
       "      <td>50.815718</td>\n",
       "    </tr>\n",
       "    <tr>\n",
       "      <th>10</th>\n",
       "      <td>2001862</td>\n",
       "      <td>1862 Apollo (1932 HA)</td>\n",
       "      <td>16.11</td>\n",
       "      <td>True</td>\n",
       "      <td>80.488515</td>\n",
       "      <td>52.768400</td>\n",
       "    </tr>\n",
       "    <tr>\n",
       "      <th>20</th>\n",
       "      <td>2001981</td>\n",
       "      <td>1981 Midas (1973 EA)</td>\n",
       "      <td>15.22</td>\n",
       "      <td>True</td>\n",
       "      <td>96.562637</td>\n",
       "      <td>55.871900</td>\n",
       "    </tr>\n",
       "    <tr>\n",
       "      <th>26</th>\n",
       "      <td>2002101</td>\n",
       "      <td>2101 Adonis (1936 CA)</td>\n",
       "      <td>18.64</td>\n",
       "      <td>True</td>\n",
       "      <td>84.069543</td>\n",
       "      <td>62.350167</td>\n",
       "    </tr>\n",
       "    <tr>\n",
       "      <th>...</th>\n",
       "      <td>...</td>\n",
       "      <td>...</td>\n",
       "      <td>...</td>\n",
       "      <td>...</td>\n",
       "      <td>...</td>\n",
       "      <td>...</td>\n",
       "    </tr>\n",
       "    <tr>\n",
       "      <th>1992</th>\n",
       "      <td>NaN</td>\n",
       "      <td>NaN</td>\n",
       "      <td>NaN</td>\n",
       "      <td>NaN</td>\n",
       "      <td>84.445541</td>\n",
       "      <td>49.942680</td>\n",
       "    </tr>\n",
       "    <tr>\n",
       "      <th>1993</th>\n",
       "      <td>2447755</td>\n",
       "      <td>447755 (2007 JX2)</td>\n",
       "      <td>19.70</td>\n",
       "      <td>True</td>\n",
       "      <td>NaN</td>\n",
       "      <td>NaN</td>\n",
       "    </tr>\n",
       "    <tr>\n",
       "      <th>1994</th>\n",
       "      <td>NaN</td>\n",
       "      <td>NaN</td>\n",
       "      <td>NaN</td>\n",
       "      <td>NaN</td>\n",
       "      <td>81.235832</td>\n",
       "      <td>65.758432</td>\n",
       "    </tr>\n",
       "    <tr>\n",
       "      <th>1997</th>\n",
       "      <td>2448003</td>\n",
       "      <td>448003 (2008 DE)</td>\n",
       "      <td>19.60</td>\n",
       "      <td>True</td>\n",
       "      <td>NaN</td>\n",
       "      <td>NaN</td>\n",
       "    </tr>\n",
       "    <tr>\n",
       "      <th>1999</th>\n",
       "      <td>2448721</td>\n",
       "      <td>448721 (2011 BN24)</td>\n",
       "      <td>20.90</td>\n",
       "      <td>True</td>\n",
       "      <td>NaN</td>\n",
       "      <td>NaN</td>\n",
       "    </tr>\n",
       "  </tbody>\n",
       "</table>\n",
       "<p>794 rows × 6 columns</p>\n",
       "</div>"
      ],
      "text/plain": [
       "           id                       name  absolute_magnitude_h  \\\n",
       "5     2001566      1566 Icarus (1949 MA)                 16.34   \n",
       "7     2001620  1620 Geographos (1951 RA)                 15.30   \n",
       "10    2001862      1862 Apollo (1932 HA)                 16.11   \n",
       "20    2001981       1981 Midas (1973 EA)                 15.22   \n",
       "26    2002101      2101 Adonis (1936 CA)                 18.64   \n",
       "...       ...                        ...                   ...   \n",
       "1992      NaN                        NaN                   NaN   \n",
       "1993  2447755          447755 (2007 JX2)                 19.70   \n",
       "1994      NaN                        NaN                   NaN   \n",
       "1997  2448003           448003 (2008 DE)                 19.60   \n",
       "1999  2448721         448721 (2011 BN24)                 20.90   \n",
       "\n",
       "     is_potentially_hazardous_asteroid        mean        std  \n",
       "5                                 True   99.376557  58.634134  \n",
       "7                                 True  101.604549  50.815718  \n",
       "10                                True   80.488515  52.768400  \n",
       "20                                True   96.562637  55.871900  \n",
       "26                                True   84.069543  62.350167  \n",
       "...                                ...         ...        ...  \n",
       "1992                               NaN   84.445541  49.942680  \n",
       "1993                              True         NaN        NaN  \n",
       "1994                               NaN   81.235832  65.758432  \n",
       "1997                              True         NaN        NaN  \n",
       "1999                              True         NaN        NaN  \n",
       "\n",
       "[794 rows x 6 columns]"
      ]
     },
     "execution_count": 17,
     "metadata": {},
     "output_type": "execute_result"
    }
   ],
   "source": [
    "dang_obj_sta = pd.concat([dang_obj, dang_obj_mean['mean'], dang_obj_std['std']], axis=1)\n",
    "dang_obj_sta"
   ]
  },
  {
   "cell_type": "markdown",
   "id": "70bc0bf0-91cf-45a5-989f-c3f8f5e4aa03",
   "metadata": {},
   "source": [
    "## Aproximação de asteróides perigosos à Terra entre 2000 e 2021"
   ]
  },
  {
   "cell_type": "code",
   "execution_count": 18,
   "id": "3348cf77-7d2a-4917-9e0d-83979ae9dda4",
   "metadata": {},
   "outputs": [],
   "source": [
    "ext_df['close_approach_date'] = pd.to_datetime(ext_df['close_approach_date'])"
   ]
  },
  {
   "cell_type": "code",
   "execution_count": 19,
   "id": "51dcbed8-206f-4a7a-9157-aae9ae858852",
   "metadata": {},
   "outputs": [],
   "source": [
    "start_date = '2000-01-01'\n",
    "end_date = '2021-12-31'\n",
    "mask = (ext_df['close_approach_date'] > start_date) & (ext_df['close_approach_date'] < end_date)"
   ]
  },
  {
   "cell_type": "code",
   "execution_count": 20,
   "id": "7504a82a-f5e1-410f-bc59-c3ba30e52d23",
   "metadata": {},
   "outputs": [
    {
     "data": {
      "text/html": [
       "<div>\n",
       "<style scoped>\n",
       "    .dataframe tbody tr th:only-of-type {\n",
       "        vertical-align: middle;\n",
       "    }\n",
       "\n",
       "    .dataframe tbody tr th {\n",
       "        vertical-align: top;\n",
       "    }\n",
       "\n",
       "    .dataframe thead th {\n",
       "        text-align: right;\n",
       "    }\n",
       "</style>\n",
       "<table border=\"1\" class=\"dataframe\">\n",
       "  <thead>\n",
       "    <tr style=\"text-align: right;\">\n",
       "      <th></th>\n",
       "      <th>id</th>\n",
       "      <th>absolute_magnitude_h</th>\n",
       "      <th>is_potentially_hazardous_asteroid</th>\n",
       "      <th>close_approach_date</th>\n",
       "      <th>miss_distance.lunar</th>\n",
       "    </tr>\n",
       "  </thead>\n",
       "  <tbody>\n",
       "    <tr>\n",
       "      <th>12</th>\n",
       "      <td>2000433</td>\n",
       "      <td>10.42</td>\n",
       "      <td>False</td>\n",
       "      <td>2005-03-08</td>\n",
       "      <td>142.205649</td>\n",
       "    </tr>\n",
       "    <tr>\n",
       "      <th>13</th>\n",
       "      <td>2000433</td>\n",
       "      <td>10.42</td>\n",
       "      <td>False</td>\n",
       "      <td>2012-01-31</td>\n",
       "      <td>69.504891</td>\n",
       "    </tr>\n",
       "    <tr>\n",
       "      <th>14</th>\n",
       "      <td>2000433</td>\n",
       "      <td>10.42</td>\n",
       "      <td>False</td>\n",
       "      <td>2019-01-15</td>\n",
       "      <td>81.144889</td>\n",
       "    </tr>\n",
       "    <tr>\n",
       "      <th>39</th>\n",
       "      <td>2000719</td>\n",
       "      <td>15.51</td>\n",
       "      <td>False</td>\n",
       "      <td>2001-09-05</td>\n",
       "      <td>110.728454</td>\n",
       "    </tr>\n",
       "    <tr>\n",
       "      <th>40</th>\n",
       "      <td>2000719</td>\n",
       "      <td>15.51</td>\n",
       "      <td>False</td>\n",
       "      <td>2003-10-26</td>\n",
       "      <td>578.286907</td>\n",
       "    </tr>\n",
       "  </tbody>\n",
       "</table>\n",
       "</div>"
      ],
      "text/plain": [
       "         id absolute_magnitude_h is_potentially_hazardous_asteroid  \\\n",
       "12  2000433                10.42                             False   \n",
       "13  2000433                10.42                             False   \n",
       "14  2000433                10.42                             False   \n",
       "39  2000719                15.51                             False   \n",
       "40  2000719                15.51                             False   \n",
       "\n",
       "   close_approach_date  miss_distance.lunar  \n",
       "12          2005-03-08           142.205649  \n",
       "13          2012-01-31            69.504891  \n",
       "14          2019-01-15            81.144889  \n",
       "39          2001-09-05           110.728454  \n",
       "40          2003-10-26           578.286907  "
      ]
     },
     "execution_count": 20,
     "metadata": {},
     "output_type": "execute_result"
    }
   ],
   "source": [
    "obj_period = ext_df.loc[mask]\n",
    "obj_period.head()"
   ]
  },
  {
   "cell_type": "code",
   "execution_count": 21,
   "id": "63a240be-7b64-45c7-bbdf-c2afc4968e6e",
   "metadata": {},
   "outputs": [
    {
     "data": {
      "text/html": [
       "<div>\n",
       "<style scoped>\n",
       "    .dataframe tbody tr th:only-of-type {\n",
       "        vertical-align: middle;\n",
       "    }\n",
       "\n",
       "    .dataframe tbody tr th {\n",
       "        vertical-align: top;\n",
       "    }\n",
       "\n",
       "    .dataframe thead th {\n",
       "        text-align: right;\n",
       "    }\n",
       "</style>\n",
       "<table border=\"1\" class=\"dataframe\">\n",
       "  <thead>\n",
       "    <tr style=\"text-align: right;\">\n",
       "      <th></th>\n",
       "      <th>miss_distance.lunar</th>\n",
       "    </tr>\n",
       "  </thead>\n",
       "  <tbody>\n",
       "    <tr>\n",
       "      <th>count</th>\n",
       "      <td>9715.000000</td>\n",
       "    </tr>\n",
       "    <tr>\n",
       "      <th>mean</th>\n",
       "      <td>117.642829</td>\n",
       "    </tr>\n",
       "    <tr>\n",
       "      <th>std</th>\n",
       "      <td>94.230930</td>\n",
       "    </tr>\n",
       "    <tr>\n",
       "      <th>min</th>\n",
       "      <td>0.088548</td>\n",
       "    </tr>\n",
       "    <tr>\n",
       "      <th>25%</th>\n",
       "      <td>57.580491</td>\n",
       "    </tr>\n",
       "    <tr>\n",
       "      <th>50%</th>\n",
       "      <td>112.462970</td>\n",
       "    </tr>\n",
       "    <tr>\n",
       "      <th>75%</th>\n",
       "      <td>157.237199</td>\n",
       "    </tr>\n",
       "    <tr>\n",
       "      <th>max</th>\n",
       "      <td>777.664768</td>\n",
       "    </tr>\n",
       "  </tbody>\n",
       "</table>\n",
       "</div>"
      ],
      "text/plain": [
       "       miss_distance.lunar\n",
       "count          9715.000000\n",
       "mean            117.642829\n",
       "std              94.230930\n",
       "min               0.088548\n",
       "25%              57.580491\n",
       "50%             112.462970\n",
       "75%             157.237199\n",
       "max             777.664768"
      ]
     },
     "execution_count": 21,
     "metadata": {},
     "output_type": "execute_result"
    }
   ],
   "source": [
    "obj_period.describe()"
   ]
  },
  {
   "cell_type": "code",
   "execution_count": 22,
   "id": "52806080-0acb-42f8-91c8-a3599cab7b28",
   "metadata": {},
   "outputs": [
    {
     "data": {
      "image/png": "[encoded data removed]",
      "text/plain": [
       "<Figure size 432x288 with 1 Axes>"
      ]
     },
     "metadata": {
      "needs_background": "light"
     },
     "output_type": "display_data"
    }
   ],
   "source": [
    "dang_obj_period = obj_period.loc[obj_period['is_potentially_hazardous_asteroid']==True]\n",
    "dang_obj_period['close_approach_date'].hist(bins=22)\n",
    "plt.title('Objetos perigosos à Terra no período de 2000 e 20021')\n",
    "plt.xlabel('Ano de aproximação')\n",
    "plt.ylabel('Contagem')\n",
    "plt.show()"
   ]
  },
  {
   "cell_type": "markdown",
   "id": "9b1e70c3-22d3-4f63-ac5c-bd78d2d5938a",
   "metadata": {},
   "source": [
    "## Histograma dos tamanhos dos objetos perigosos"
   ]
  },
  {
   "cell_type": "code",
   "execution_count": 23,
   "id": "0ae20c07-ffa5-473a-9925-a3f2ee7ab97f",
   "metadata": {},
   "outputs": [
    {
     "data": {
      "image/png": "[encoded data removed]",
      "text/plain": [
       "<Figure size 432x288 with 1 Axes>"
      ]
     },
     "metadata": {
      "needs_background": "light"
     },
     "output_type": "display_data"
    }
   ],
   "source": [
    "dang_obj['absolute_magnitude_h'].hist(bins=8)\n",
    "plt.title('Tamanho dos asteróides perigosos à Terra')\n",
    "plt.xlabel('Magnitude absoluta (M)')\n",
    "plt.ylabel('Contagem')\n",
    "plt.show()"
   ]
  },
  {
   "cell_type": "markdown",
   "id": "10b68735-d74d-4de9-befe-b1849df4d7ad",
   "metadata": {},
   "source": [
    "## Histograma dos tamanhos dos objetos inofencivos"
   ]
  },
  {
   "cell_type": "code",
   "execution_count": 24,
   "id": "8b092007-1862-4cd0-b45e-2e6d7617aaa5",
   "metadata": {},
   "outputs": [
    {
     "data": {
      "image/png": "[encoded data removed]",
      "text/plain": [
       "<Figure size 432x288 with 1 Axes>"
      ]
     },
     "metadata": {
      "needs_background": "light"
     },
     "output_type": "display_data"
    }
   ],
   "source": [
    "simp_df.loc[-simp_df['id'].isin(dang_obj_id)]['absolute_magnitude_h'].hist(bins=15)\n",
    "plt.title('Tamanho dos asteróides inofencivos à Terra')\n",
    "plt.xlabel('Magnitude absoluta (M)')\n",
    "plt.ylabel('Contagem')\n",
    "plt.show()"
   ]
  },
  {
   "cell_type": "markdown",
   "id": "6b177b3c-3662-4516-b880-3df6cde98bc1",
   "metadata": {},
   "source": [
    "## Algumas informações estatísticas"
   ]
  },
  {
   "cell_type": "markdown",
   "id": "e576b298-c8b6-45ad-b5ef-dda6e3ef83be",
   "metadata": {},
   "source": [
    "### Gráfico da dispersão"
   ]
  },
  {
   "cell_type": "code",
   "execution_count": 25,
   "id": "3a0987d2-058f-407a-9d6f-00e68a620a07",
   "metadata": {},
   "outputs": [
    {
     "data": {
      "image/png": "[encoded data removed]",
      "text/plain": [
       "<Figure size 432x288 with 1 Axes>"
      ]
     },
     "metadata": {
      "needs_background": "light"
     },
     "output_type": "display_data"
    }
   ],
   "source": [
    "x = dang_obj_sta['mean']\n",
    "y = dang_obj_sta['absolute_magnitude_h']\n",
    "\n",
    "plt.title('Gráfico de dispersão da distância média por M')\n",
    "plt.xlabel('Média da mínima distância observada')\n",
    "plt.ylabel('Magnitude absoluta (M)')\n",
    "plt.plot(x,y, 'o')\n",
    "plt.show()"
   ]
  },
  {
   "cell_type": "markdown",
   "id": "442d3070-32c6-472d-875f-0376560992cd",
   "metadata": {},
   "source": [
    "Gráfico de disperção entre a magnitude absoluta (M) e a média da mínima distância observada para cada asteróide"
   ]
  },
  {
   "cell_type": "markdown",
   "id": "9c22a766-aa71-4b1c-9ecf-dbf590ccddcd",
   "metadata": {},
   "source": [
    "### Correlação e covariância dos dados dos objetos perigosos"
   ]
  },
  {
   "cell_type": "code",
   "execution_count": 26,
   "id": "9dc9abad-652e-4d7d-a313-6ec6b3732c32",
   "metadata": {},
   "outputs": [
    {
     "data": {
      "text/html": [
       "<div>\n",
       "<style scoped>\n",
       "    .dataframe tbody tr th:only-of-type {\n",
       "        vertical-align: middle;\n",
       "    }\n",
       "\n",
       "    .dataframe tbody tr th {\n",
       "        vertical-align: top;\n",
       "    }\n",
       "\n",
       "    .dataframe thead th {\n",
       "        text-align: right;\n",
       "    }\n",
       "</style>\n",
       "<table border=\"1\" class=\"dataframe\">\n",
       "  <thead>\n",
       "    <tr style=\"text-align: right;\">\n",
       "      <th></th>\n",
       "      <th>absolute_magnitude_h</th>\n",
       "      <th>mean</th>\n",
       "      <th>std</th>\n",
       "    </tr>\n",
       "  </thead>\n",
       "  <tbody>\n",
       "    <tr>\n",
       "      <th>absolute_magnitude_h</th>\n",
       "      <td>1.000000</td>\n",
       "      <td>-0.191847</td>\n",
       "      <td>-0.193313</td>\n",
       "    </tr>\n",
       "    <tr>\n",
       "      <th>mean</th>\n",
       "      <td>-0.191847</td>\n",
       "      <td>1.000000</td>\n",
       "      <td>0.891425</td>\n",
       "    </tr>\n",
       "    <tr>\n",
       "      <th>std</th>\n",
       "      <td>-0.193313</td>\n",
       "      <td>0.891425</td>\n",
       "      <td>1.000000</td>\n",
       "    </tr>\n",
       "  </tbody>\n",
       "</table>\n",
       "</div>"
      ],
      "text/plain": [
       "                      absolute_magnitude_h      mean       std\n",
       "absolute_magnitude_h              1.000000 -0.191847 -0.193313\n",
       "mean                             -0.191847  1.000000  0.891425\n",
       "std                              -0.193313  0.891425  1.000000"
      ]
     },
     "execution_count": 26,
     "metadata": {},
     "output_type": "execute_result"
    }
   ],
   "source": [
    "dang_obj_sta.corr()"
   ]
  },
  {
   "cell_type": "code",
   "execution_count": 27,
   "id": "627b27e2-704c-425e-9401-6d75ab59559b",
   "metadata": {},
   "outputs": [
    {
     "data": {
      "text/html": [
       "<div>\n",
       "<style scoped>\n",
       "    .dataframe tbody tr th:only-of-type {\n",
       "        vertical-align: middle;\n",
       "    }\n",
       "\n",
       "    .dataframe tbody tr th {\n",
       "        vertical-align: top;\n",
       "    }\n",
       "\n",
       "    .dataframe thead th {\n",
       "        text-align: right;\n",
       "    }\n",
       "</style>\n",
       "<table border=\"1\" class=\"dataframe\">\n",
       "  <thead>\n",
       "    <tr style=\"text-align: right;\">\n",
       "      <th></th>\n",
       "      <th>absolute_magnitude_h</th>\n",
       "      <th>mean</th>\n",
       "      <th>std</th>\n",
       "    </tr>\n",
       "  </thead>\n",
       "  <tbody>\n",
       "    <tr>\n",
       "      <th>absolute_magnitude_h</th>\n",
       "      <td>2.396966</td>\n",
       "      <td>-18.124401</td>\n",
       "      <td>-22.367540</td>\n",
       "    </tr>\n",
       "    <tr>\n",
       "      <th>mean</th>\n",
       "      <td>-18.124401</td>\n",
       "      <td>3491.695606</td>\n",
       "      <td>3762.992864</td>\n",
       "    </tr>\n",
       "    <tr>\n",
       "      <th>std</th>\n",
       "      <td>-22.367540</td>\n",
       "      <td>3762.992864</td>\n",
       "      <td>5103.417624</td>\n",
       "    </tr>\n",
       "  </tbody>\n",
       "</table>\n",
       "</div>"
      ],
      "text/plain": [
       "                      absolute_magnitude_h         mean          std\n",
       "absolute_magnitude_h              2.396966   -18.124401   -22.367540\n",
       "mean                            -18.124401  3491.695606  3762.992864\n",
       "std                             -22.367540  3762.992864  5103.417624"
      ]
     },
     "execution_count": 27,
     "metadata": {},
     "output_type": "execute_result"
    }
   ],
   "source": [
    "dang_obj_sta.cov()"
   ]
  },
  {
   "cell_type": "markdown",
   "id": "c803439f-a1e1-43ce-9ae9-c5beda362efc",
   "metadata": {},
   "source": [
    "### Distribuição dos tamanhos dos asteróides perigosos e inofencivos"
   ]
  },
  {
   "cell_type": "code",
   "execution_count": 28,
   "id": "dff88d81-c511-4ff5-9702-037c339667c7",
   "metadata": {},
   "outputs": [
    {
     "data": {
      "image/png": "[encoded data removed]",
      "text/plain": [
       "<Figure size 432x288 with 1 Axes>"
      ]
     },
     "metadata": {
      "needs_background": "light"
     },
     "output_type": "display_data"
    }
   ],
   "source": [
    "# data parameters\n",
    "x = dang_obj['absolute_magnitude_h']\n",
    "mu = x.mean()  # mean of distribution\n",
    "sigma = x.std()  # standard deviation of distribution\n",
    "\n",
    "num_bins = 50\n",
    "\n",
    "fig, ax = plt.subplots()\n",
    "\n",
    "# the histogram of the data\n",
    "n, bins, patches = ax.hist(x, num_bins, density=True)\n",
    "\n",
    "# add a 'best fit' line\n",
    "y = ((1 / (np.sqrt(2 * np.pi) * sigma)) *\n",
    "     np.exp(-0.5 * (1 / sigma * (bins - mu))**2))\n",
    "ax.plot(bins, y, '--')\n",
    "ax.set_xlabel('Magnitude absoluta (M)')\n",
    "ax.set_ylabel('Densidade de probabilidade')\n",
    "ax.set_title(r'Asteróides perigosos à Terra: $\\mu=18.72$, $\\sigma=1.55$')\n",
    "\n",
    "# Tweak spacing to prevent clipping of ylabel\n",
    "fig.tight_layout()\n",
    "plt.show()"
   ]
  },
  {
   "cell_type": "code",
   "execution_count": 29,
   "id": "6308110f-5b44-4dda-a6e0-354d7961a068",
   "metadata": {},
   "outputs": [
    {
     "data": {
      "text/plain": [
       "(18.72, 1.55)"
      ]
     },
     "execution_count": 29,
     "metadata": {},
     "output_type": "execute_result"
    }
   ],
   "source": [
    "round(mu, 2), round(sigma, 2)"
   ]
  },
  {
   "cell_type": "code",
   "execution_count": 30,
   "id": "d3f93f78-198f-44d1-93d1-b56d9d9efe7c",
   "metadata": {},
   "outputs": [
    {
     "data": {
      "image/png": "[encoded data removed]",
      "text/plain": [
       "<Figure size 432x288 with 1 Axes>"
      ]
     },
     "metadata": {
      "needs_background": "light"
     },
     "output_type": "display_data"
    }
   ],
   "source": [
    "# data parameters\n",
    "x = simp_df.loc[-simp_df['id'].isin(dang_obj_id)]['absolute_magnitude_h']\n",
    "mu = x.mean()  # mean of distribution\n",
    "sigma = x.std()  # standard deviation of distribution\n",
    "\n",
    "num_bins = 50\n",
    "\n",
    "fig, ax = plt.subplots()\n",
    "\n",
    "# the histogram of the data\n",
    "n, bins, patches = ax.hist(x, num_bins, density=True)\n",
    "\n",
    "# add a 'best fit' line\n",
    "y = ((1 / (np.sqrt(2 * np.pi) * sigma)) *\n",
    "     np.exp(-0.5 * (1 / sigma * (bins - mu))**2))\n",
    "ax.plot(bins, y, '--')\n",
    "ax.set_xlabel('Magnitude absoluta (M)')\n",
    "ax.set_ylabel('Densidade de probabilidade')\n",
    "ax.set_title(r'Asteróides inofencivos à Terra: $\\mu=18.02$, $\\sigma=1.58$')\n",
    "\n",
    "# Tweak spacing to prevent clipping of ylabel\n",
    "fig.tight_layout()\n",
    "plt.show()"
   ]
  },
  {
   "cell_type": "code",
   "execution_count": 31,
   "id": "368c0f00-b44f-4662-8001-06398ed6d19b",
   "metadata": {},
   "outputs": [
    {
     "data": {
      "text/plain": [
       "(18.02, 1.58)"
      ]
     },
     "execution_count": 31,
     "metadata": {},
     "output_type": "execute_result"
    }
   ],
   "source": [
    "round(mu, 2), round(sigma, 2)"
   ]
  },
  {
   "cell_type": "code",
   "execution_count": null,
   "id": "8f9259f2-a739-49f3-9d14-4720b5dd01dd",
   "metadata": {},
   "outputs": [],
   "source": []
  }
 ],
 "metadata": {
  "kernelspec": {
   "display_name": "Python 3",
   "language": "python",
   "name": "python3"
  },
  "language_info": {
   "codemirror_mode": {
    "name": "ipython",
    "version": 3
   },
   "file_extension": ".py",
   "mimetype": "text/x-python",
   "name": "python",
   "nbconvert_exporter": "python",
   "pygments_lexer": "ipython3",
   "version": "3.8.10"
  }
 },
 "nbformat": 4,
 "nbformat_minor": 5
}
