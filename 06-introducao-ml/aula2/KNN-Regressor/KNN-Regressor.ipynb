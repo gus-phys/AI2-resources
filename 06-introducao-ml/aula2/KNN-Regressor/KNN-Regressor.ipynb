{
 "cells": [
  {
   "cell_type": "markdown",
   "id": "d790b50a-bb2a-49c1-b2bb-c29c0b345429",
   "metadata": {},
   "source": [
    "# Beer Consumption"
   ]
  },
  {
   "cell_type": "markdown",
   "id": "eaa12a1a-3d7a-481b-9ef2-85bdefa4f3e3",
   "metadata": {},
   "source": [
    "## Libraries"
   ]
  },
  {
   "cell_type": "code",
   "execution_count": 1,
   "id": "50c18389-432c-42f4-9f2c-9530eaf21ba9",
   "metadata": {},
   "outputs": [],
   "source": [
    "import pandas as pd\n",
    "import numpy as np\n",
    "import matplotlib.pyplot as plt\n",
    "import seaborn as sns\n",
    "\n",
    "sns.set()"
   ]
  },
  {
   "cell_type": "markdown",
   "id": "8b0510ac-32a7-437e-b9cd-ed3318465b2f",
   "metadata": {},
   "source": [
    "## Read dataset"
   ]
  },
  {
   "cell_type": "code",
   "execution_count": 2,
   "id": "77455393-d74c-4450-8197-5265a4d1cb79",
   "metadata": {},
   "outputs": [],
   "source": [
    "data_path = 'dataset/Consumo_cerveja.csv'"
   ]
  },
  {
   "cell_type": "code",
   "execution_count": 3,
   "id": "8823fd9c-e1f5-4006-97d7-4da0afe9dc00",
   "metadata": {},
   "outputs": [],
   "source": [
    "raw_data = pd.read_csv(data_path)"
   ]
  },
  {
   "cell_type": "code",
   "execution_count": 4,
   "id": "dcba3d0a-d58f-47e6-9b93-098c886f8a68",
   "metadata": {},
   "outputs": [
    {
     "data": {
      "text/html": [
       "<div>\n",
       "<style scoped>\n",
       "    .dataframe tbody tr th:only-of-type {\n",
       "        vertical-align: middle;\n",
       "    }\n",
       "\n",
       "    .dataframe tbody tr th {\n",
       "        vertical-align: top;\n",
       "    }\n",
       "\n",
       "    .dataframe thead th {\n",
       "        text-align: right;\n",
       "    }\n",
       "</style>\n",
       "<table border=\"1\" class=\"dataframe\">\n",
       "  <thead>\n",
       "    <tr style=\"text-align: right;\">\n",
       "      <th></th>\n",
       "      <th>Data</th>\n",
       "      <th>Temperatura Media (C)</th>\n",
       "      <th>Temperatura Minima (C)</th>\n",
       "      <th>Temperatura Maxima (C)</th>\n",
       "      <th>Precipitacao (mm)</th>\n",
       "      <th>Final de Semana</th>\n",
       "      <th>Consumo de cerveja (litros)</th>\n",
       "    </tr>\n",
       "  </thead>\n",
       "  <tbody>\n",
       "    <tr>\n",
       "      <th>0</th>\n",
       "      <td>2015-01-01</td>\n",
       "      <td>27,3</td>\n",
       "      <td>23,9</td>\n",
       "      <td>32,5</td>\n",
       "      <td>0</td>\n",
       "      <td>0.0</td>\n",
       "      <td>25.461</td>\n",
       "    </tr>\n",
       "    <tr>\n",
       "      <th>1</th>\n",
       "      <td>2015-01-02</td>\n",
       "      <td>27,02</td>\n",
       "      <td>24,5</td>\n",
       "      <td>33,5</td>\n",
       "      <td>0</td>\n",
       "      <td>0.0</td>\n",
       "      <td>28.972</td>\n",
       "    </tr>\n",
       "    <tr>\n",
       "      <th>2</th>\n",
       "      <td>2015-01-03</td>\n",
       "      <td>24,82</td>\n",
       "      <td>22,4</td>\n",
       "      <td>29,9</td>\n",
       "      <td>0</td>\n",
       "      <td>1.0</td>\n",
       "      <td>30.814</td>\n",
       "    </tr>\n",
       "    <tr>\n",
       "      <th>3</th>\n",
       "      <td>2015-01-04</td>\n",
       "      <td>23,98</td>\n",
       "      <td>21,5</td>\n",
       "      <td>28,6</td>\n",
       "      <td>1,2</td>\n",
       "      <td>1.0</td>\n",
       "      <td>29.799</td>\n",
       "    </tr>\n",
       "    <tr>\n",
       "      <th>4</th>\n",
       "      <td>2015-01-05</td>\n",
       "      <td>23,82</td>\n",
       "      <td>21</td>\n",
       "      <td>28,3</td>\n",
       "      <td>0</td>\n",
       "      <td>0.0</td>\n",
       "      <td>28.900</td>\n",
       "    </tr>\n",
       "    <tr>\n",
       "      <th>...</th>\n",
       "      <td>...</td>\n",
       "      <td>...</td>\n",
       "      <td>...</td>\n",
       "      <td>...</td>\n",
       "      <td>...</td>\n",
       "      <td>...</td>\n",
       "      <td>...</td>\n",
       "    </tr>\n",
       "    <tr>\n",
       "      <th>936</th>\n",
       "      <td>NaN</td>\n",
       "      <td>NaN</td>\n",
       "      <td>NaN</td>\n",
       "      <td>NaN</td>\n",
       "      <td>NaN</td>\n",
       "      <td>NaN</td>\n",
       "      <td>NaN</td>\n",
       "    </tr>\n",
       "    <tr>\n",
       "      <th>937</th>\n",
       "      <td>NaN</td>\n",
       "      <td>NaN</td>\n",
       "      <td>NaN</td>\n",
       "      <td>NaN</td>\n",
       "      <td>NaN</td>\n",
       "      <td>NaN</td>\n",
       "      <td>NaN</td>\n",
       "    </tr>\n",
       "    <tr>\n",
       "      <th>938</th>\n",
       "      <td>NaN</td>\n",
       "      <td>NaN</td>\n",
       "      <td>NaN</td>\n",
       "      <td>NaN</td>\n",
       "      <td>NaN</td>\n",
       "      <td>NaN</td>\n",
       "      <td>NaN</td>\n",
       "    </tr>\n",
       "    <tr>\n",
       "      <th>939</th>\n",
       "      <td>NaN</td>\n",
       "      <td>NaN</td>\n",
       "      <td>NaN</td>\n",
       "      <td>NaN</td>\n",
       "      <td>NaN</td>\n",
       "      <td>NaN</td>\n",
       "      <td>NaN</td>\n",
       "    </tr>\n",
       "    <tr>\n",
       "      <th>940</th>\n",
       "      <td>NaN</td>\n",
       "      <td>NaN</td>\n",
       "      <td>NaN</td>\n",
       "      <td>NaN</td>\n",
       "      <td>NaN</td>\n",
       "      <td>NaN</td>\n",
       "      <td>NaN</td>\n",
       "    </tr>\n",
       "  </tbody>\n",
       "</table>\n",
       "<p>941 rows × 7 columns</p>\n",
       "</div>"
      ],
      "text/plain": [
       "           Data Temperatura Media (C) Temperatura Minima (C)  \\\n",
       "0    2015-01-01                  27,3                   23,9   \n",
       "1    2015-01-02                 27,02                   24,5   \n",
       "2    2015-01-03                 24,82                   22,4   \n",
       "3    2015-01-04                 23,98                   21,5   \n",
       "4    2015-01-05                 23,82                     21   \n",
       "..          ...                   ...                    ...   \n",
       "936         NaN                   NaN                    NaN   \n",
       "937         NaN                   NaN                    NaN   \n",
       "938         NaN                   NaN                    NaN   \n",
       "939         NaN                   NaN                    NaN   \n",
       "940         NaN                   NaN                    NaN   \n",
       "\n",
       "    Temperatura Maxima (C) Precipitacao (mm)  Final de Semana  \\\n",
       "0                     32,5                 0              0.0   \n",
       "1                     33,5                 0              0.0   \n",
       "2                     29,9                 0              1.0   \n",
       "3                     28,6               1,2              1.0   \n",
       "4                     28,3                 0              0.0   \n",
       "..                     ...               ...              ...   \n",
       "936                    NaN               NaN              NaN   \n",
       "937                    NaN               NaN              NaN   \n",
       "938                    NaN               NaN              NaN   \n",
       "939                    NaN               NaN              NaN   \n",
       "940                    NaN               NaN              NaN   \n",
       "\n",
       "     Consumo de cerveja (litros)  \n",
       "0                         25.461  \n",
       "1                         28.972  \n",
       "2                         30.814  \n",
       "3                         29.799  \n",
       "4                         28.900  \n",
       "..                           ...  \n",
       "936                          NaN  \n",
       "937                          NaN  \n",
       "938                          NaN  \n",
       "939                          NaN  \n",
       "940                          NaN  \n",
       "\n",
       "[941 rows x 7 columns]"
      ]
     },
     "execution_count": 4,
     "metadata": {},
     "output_type": "execute_result"
    }
   ],
   "source": [
    "raw_data"
   ]
  },
  {
   "cell_type": "markdown",
   "id": "945c972f-65c6-4205-8519-c2bdbf88d8ee",
   "metadata": {},
   "source": [
    "## Pre-processing"
   ]
  },
  {
   "cell_type": "markdown",
   "id": "dc46162e-7d2f-423b-9f26-e0f9bc68db1c",
   "metadata": {},
   "source": [
    "### Dropna"
   ]
  },
  {
   "cell_type": "code",
   "execution_count": 5,
   "id": "74be60d2-326e-4fbc-a250-fa1c9e1ccc34",
   "metadata": {},
   "outputs": [
    {
     "data": {
      "text/plain": [
       "Data                           576\n",
       "Temperatura Media (C)          576\n",
       "Temperatura Minima (C)         576\n",
       "Temperatura Maxima (C)         576\n",
       "Precipitacao (mm)              576\n",
       "Final de Semana                576\n",
       "Consumo de cerveja (litros)    576\n",
       "dtype: int64"
      ]
     },
     "execution_count": 5,
     "metadata": {},
     "output_type": "execute_result"
    }
   ],
   "source": [
    "raw_data.isna().sum()"
   ]
  },
  {
   "cell_type": "code",
   "execution_count": 6,
   "id": "812ee329-663d-4610-8122-419043fd9d3c",
   "metadata": {},
   "outputs": [],
   "source": [
    "raw_data.dropna(axis=0, how='all', inplace=True)"
   ]
  },
  {
   "cell_type": "code",
   "execution_count": 7,
   "id": "8cba1261-6162-4b64-af95-e90372f22a6e",
   "metadata": {},
   "outputs": [
    {
     "data": {
      "text/plain": [
       "Data                           0\n",
       "Temperatura Media (C)          0\n",
       "Temperatura Minima (C)         0\n",
       "Temperatura Maxima (C)         0\n",
       "Precipitacao (mm)              0\n",
       "Final de Semana                0\n",
       "Consumo de cerveja (litros)    0\n",
       "dtype: int64"
      ]
     },
     "execution_count": 7,
     "metadata": {},
     "output_type": "execute_result"
    }
   ],
   "source": [
    "raw_data.isna().sum()"
   ]
  },
  {
   "cell_type": "markdown",
   "id": "495092c2-0789-474e-aa4e-bc32a15a1f85",
   "metadata": {},
   "source": [
    "### Check for zeros"
   ]
  },
  {
   "cell_type": "code",
   "execution_count": 8,
   "id": "d8b99ac3-7a0c-417c-8be0-24132ad2918a",
   "metadata": {},
   "outputs": [
    {
     "data": {
      "text/plain": [
       "Data                             0\n",
       "Temperatura Media (C)            0\n",
       "Temperatura Minima (C)           0\n",
       "Temperatura Maxima (C)           0\n",
       "Precipitacao (mm)                0\n",
       "Final de Semana                261\n",
       "Consumo de cerveja (litros)      0\n",
       "dtype: int64"
      ]
     },
     "execution_count": 8,
     "metadata": {},
     "output_type": "execute_result"
    }
   ],
   "source": [
    "(raw_data==0).sum()"
   ]
  },
  {
   "cell_type": "markdown",
   "id": "0f1c46cf-800e-417c-b7d5-f9c77e5f2d88",
   "metadata": {},
   "source": [
    "### Replace comma by dot"
   ]
  },
  {
   "cell_type": "code",
   "execution_count": 9,
   "id": "f1146389-8061-4ea6-9f08-d5ac4a3f5e0c",
   "metadata": {},
   "outputs": [],
   "source": [
    "def real_brazilian_to_float(numeric_string):\n",
    "    \"\"\"Converte valores numérios no formato brasileiro 1.234,56 para float\"\"\"\n",
    "    try:\n",
    "        return float(numeric_string.replace(\".\", \"\").replace(\",\", \".\"))\n",
    "    except:\n",
    "        return numeric_string "
   ]
  },
  {
   "cell_type": "code",
   "execution_count": 10,
   "id": "d881b817-7bd8-498e-a749-7ceeea5a8ca3",
   "metadata": {},
   "outputs": [],
   "source": [
    "cols_to_dot = ['Temperatura Media (C)',\n",
    "               'Temperatura Minima (C)',\n",
    "               'Temperatura Maxima (C)',\n",
    "               'Precipitacao (mm)']"
   ]
  },
  {
   "cell_type": "code",
   "execution_count": 11,
   "id": "ed9caad4-0911-46e0-a8b5-e5830c62e60d",
   "metadata": {},
   "outputs": [],
   "source": [
    "for cols in cols_to_dot:\n",
    "    raw_data[cols] = raw_data[cols].apply(real_brazilian_to_float)"
   ]
  },
  {
   "cell_type": "markdown",
   "id": "0728382b-9937-47c8-9f9c-e8a18e0967d6",
   "metadata": {},
   "source": [
    "### Convert 'Data' column type"
   ]
  },
  {
   "cell_type": "code",
   "execution_count": 12,
   "id": "e6dbd9ed-ff74-46e6-887b-0e3f7b5b250a",
   "metadata": {},
   "outputs": [
    {
     "name": "stdout",
     "output_type": "stream",
     "text": [
      "<class 'pandas.core.frame.DataFrame'>\n",
      "Int64Index: 365 entries, 0 to 364\n",
      "Data columns (total 7 columns):\n",
      " #   Column                       Non-Null Count  Dtype  \n",
      "---  ------                       --------------  -----  \n",
      " 0   Data                         365 non-null    object \n",
      " 1   Temperatura Media (C)        365 non-null    float64\n",
      " 2   Temperatura Minima (C)       365 non-null    float64\n",
      " 3   Temperatura Maxima (C)       365 non-null    float64\n",
      " 4   Precipitacao (mm)            365 non-null    float64\n",
      " 5   Final de Semana              365 non-null    float64\n",
      " 6   Consumo de cerveja (litros)  365 non-null    float64\n",
      "dtypes: float64(6), object(1)\n",
      "memory usage: 22.8+ KB\n"
     ]
    }
   ],
   "source": [
    "raw_data.info()"
   ]
  },
  {
   "cell_type": "code",
   "execution_count": 13,
   "id": "f2385617-f56d-4390-9fb4-238a6010895a",
   "metadata": {},
   "outputs": [],
   "source": [
    "raw_data['Data'] = raw_data['Data'].astype('datetime64[ns]')"
   ]
  },
  {
   "cell_type": "code",
   "execution_count": 14,
   "id": "5cc22c38-1041-426a-a5fb-549333ec4835",
   "metadata": {},
   "outputs": [
    {
     "name": "stdout",
     "output_type": "stream",
     "text": [
      "<class 'pandas.core.frame.DataFrame'>\n",
      "Int64Index: 365 entries, 0 to 364\n",
      "Data columns (total 7 columns):\n",
      " #   Column                       Non-Null Count  Dtype         \n",
      "---  ------                       --------------  -----         \n",
      " 0   Data                         365 non-null    datetime64[ns]\n",
      " 1   Temperatura Media (C)        365 non-null    float64       \n",
      " 2   Temperatura Minima (C)       365 non-null    float64       \n",
      " 3   Temperatura Maxima (C)       365 non-null    float64       \n",
      " 4   Precipitacao (mm)            365 non-null    float64       \n",
      " 5   Final de Semana              365 non-null    float64       \n",
      " 6   Consumo de cerveja (litros)  365 non-null    float64       \n",
      "dtypes: datetime64[ns](1), float64(6)\n",
      "memory usage: 22.8 KB\n"
     ]
    }
   ],
   "source": [
    "raw_data.info()"
   ]
  },
  {
   "cell_type": "markdown",
   "id": "a4aadaa1-18d6-4545-9fcc-134f14ecc3bf",
   "metadata": {},
   "source": [
    "**Checkpoint**"
   ]
  },
  {
   "cell_type": "code",
   "execution_count": 15,
   "id": "6afbe983-0ddd-4ffd-ab77-1e52fe0965b1",
   "metadata": {},
   "outputs": [],
   "source": [
    "data_pp = raw_data.copy()"
   ]
  },
  {
   "cell_type": "code",
   "execution_count": 16,
   "id": "9960d583-9327-45c2-a1d2-b18fefbcc1dd",
   "metadata": {},
   "outputs": [
    {
     "data": {
      "text/html": [
       "<div>\n",
       "<style scoped>\n",
       "    .dataframe tbody tr th:only-of-type {\n",
       "        vertical-align: middle;\n",
       "    }\n",
       "\n",
       "    .dataframe tbody tr th {\n",
       "        vertical-align: top;\n",
       "    }\n",
       "\n",
       "    .dataframe thead th {\n",
       "        text-align: right;\n",
       "    }\n",
       "</style>\n",
       "<table border=\"1\" class=\"dataframe\">\n",
       "  <thead>\n",
       "    <tr style=\"text-align: right;\">\n",
       "      <th></th>\n",
       "      <th>Temperatura Media (C)</th>\n",
       "      <th>Temperatura Minima (C)</th>\n",
       "      <th>Temperatura Maxima (C)</th>\n",
       "      <th>Precipitacao (mm)</th>\n",
       "      <th>Final de Semana</th>\n",
       "      <th>Consumo de cerveja (litros)</th>\n",
       "    </tr>\n",
       "  </thead>\n",
       "  <tbody>\n",
       "    <tr>\n",
       "      <th>count</th>\n",
       "      <td>365.000000</td>\n",
       "      <td>365.000000</td>\n",
       "      <td>365.000000</td>\n",
       "      <td>365.000000</td>\n",
       "      <td>365.000000</td>\n",
       "      <td>365.000000</td>\n",
       "    </tr>\n",
       "    <tr>\n",
       "      <th>mean</th>\n",
       "      <td>21.226356</td>\n",
       "      <td>17.461370</td>\n",
       "      <td>26.611507</td>\n",
       "      <td>5.196712</td>\n",
       "      <td>0.284932</td>\n",
       "      <td>25.401367</td>\n",
       "    </tr>\n",
       "    <tr>\n",
       "      <th>std</th>\n",
       "      <td>3.180108</td>\n",
       "      <td>2.826185</td>\n",
       "      <td>4.317366</td>\n",
       "      <td>12.417844</td>\n",
       "      <td>0.452001</td>\n",
       "      <td>4.399143</td>\n",
       "    </tr>\n",
       "    <tr>\n",
       "      <th>min</th>\n",
       "      <td>12.900000</td>\n",
       "      <td>10.600000</td>\n",
       "      <td>14.500000</td>\n",
       "      <td>0.000000</td>\n",
       "      <td>0.000000</td>\n",
       "      <td>14.343000</td>\n",
       "    </tr>\n",
       "    <tr>\n",
       "      <th>25%</th>\n",
       "      <td>19.020000</td>\n",
       "      <td>15.300000</td>\n",
       "      <td>23.800000</td>\n",
       "      <td>0.000000</td>\n",
       "      <td>0.000000</td>\n",
       "      <td>22.008000</td>\n",
       "    </tr>\n",
       "    <tr>\n",
       "      <th>50%</th>\n",
       "      <td>21.380000</td>\n",
       "      <td>17.900000</td>\n",
       "      <td>26.900000</td>\n",
       "      <td>0.000000</td>\n",
       "      <td>0.000000</td>\n",
       "      <td>24.867000</td>\n",
       "    </tr>\n",
       "    <tr>\n",
       "      <th>75%</th>\n",
       "      <td>23.280000</td>\n",
       "      <td>19.600000</td>\n",
       "      <td>29.400000</td>\n",
       "      <td>3.200000</td>\n",
       "      <td>1.000000</td>\n",
       "      <td>28.631000</td>\n",
       "    </tr>\n",
       "    <tr>\n",
       "      <th>max</th>\n",
       "      <td>28.860000</td>\n",
       "      <td>24.500000</td>\n",
       "      <td>36.500000</td>\n",
       "      <td>94.800000</td>\n",
       "      <td>1.000000</td>\n",
       "      <td>37.937000</td>\n",
       "    </tr>\n",
       "  </tbody>\n",
       "</table>\n",
       "</div>"
      ],
      "text/plain": [
       "       Temperatura Media (C)  Temperatura Minima (C)  Temperatura Maxima (C)  \\\n",
       "count             365.000000              365.000000              365.000000   \n",
       "mean               21.226356               17.461370               26.611507   \n",
       "std                 3.180108                2.826185                4.317366   \n",
       "min                12.900000               10.600000               14.500000   \n",
       "25%                19.020000               15.300000               23.800000   \n",
       "50%                21.380000               17.900000               26.900000   \n",
       "75%                23.280000               19.600000               29.400000   \n",
       "max                28.860000               24.500000               36.500000   \n",
       "\n",
       "       Precipitacao (mm)  Final de Semana  Consumo de cerveja (litros)  \n",
       "count         365.000000       365.000000                   365.000000  \n",
       "mean            5.196712         0.284932                    25.401367  \n",
       "std            12.417844         0.452001                     4.399143  \n",
       "min             0.000000         0.000000                    14.343000  \n",
       "25%             0.000000         0.000000                    22.008000  \n",
       "50%             0.000000         0.000000                    24.867000  \n",
       "75%             3.200000         1.000000                    28.631000  \n",
       "max            94.800000         1.000000                    37.937000  "
      ]
     },
     "execution_count": 16,
     "metadata": {},
     "output_type": "execute_result"
    }
   ],
   "source": [
    "data_pp.describe()"
   ]
  },
  {
   "cell_type": "markdown",
   "id": "073e08b5-88d6-471f-8f2b-4a11c8209215",
   "metadata": {},
   "source": [
    "## Graphical analysis"
   ]
  },
  {
   "cell_type": "code",
   "execution_count": 17,
   "id": "d3d204ec-fc98-41a6-922d-3d2308caa366",
   "metadata": {},
   "outputs": [
    {
     "data": {
      "image/png": "[encoded data removed]",
      "text/plain": [
       "<Figure size 1152x1440 with 7 Axes>"
      ]
     },
     "metadata": {},
     "output_type": "display_data"
    }
   ],
   "source": [
    "plt.figure(figsize=(16,20))\n",
    "for i, column in enumerate(data_pp.columns, 1):\n",
    "    plt.subplot(3,3,i)\n",
    "    sns.histplot(data_pp[column])"
   ]
  },
  {
   "cell_type": "code",
   "execution_count": 18,
   "id": "1908ddde-b819-480b-a3ea-a915b1f803d9",
   "metadata": {},
   "outputs": [],
   "source": [
    "q = data_pp['Precipitacao (mm)'].quantile(0.75)\n",
    "data_1 = data_pp[data_pp['Precipitacao (mm)']<1]"
   ]
  },
  {
   "cell_type": "code",
   "execution_count": 19,
   "id": "af25c290-960f-4482-8ae9-e31d1195b1b6",
   "metadata": {},
   "outputs": [
    {
     "data": {
      "text/plain": [
       "<seaborn.axisgrid.FacetGrid at 0x7f151317f3a0>"
      ]
     },
     "execution_count": 19,
     "metadata": {},
     "output_type": "execute_result"
    },
    {
     "data": {
      "image/png": "[encoded data removed]",
      "text/plain": [
       "<Figure size 360x360 with 1 Axes>"
      ]
     },
     "metadata": {},
     "output_type": "display_data"
    }
   ],
   "source": [
    "sns.displot(data_1['Precipitacao (mm)'])"
   ]
  },
  {
   "cell_type": "code",
   "execution_count": 20,
   "id": "50304282-9028-4a18-9b14-ae1a9134641e",
   "metadata": {},
   "outputs": [
    {
     "data": {
      "image/png": "[encoded data removed]",
      "text/plain": [
       "<Figure size 1080x1080 with 6 Axes>"
      ]
     },
     "metadata": {},
     "output_type": "display_data"
    }
   ],
   "source": [
    "f, axs = plt.subplots(2, 3, sharey=True, figsize =(15,15))\n",
    "axs[0,0].scatter(data_1['Data'],data_1['Consumo de cerveja (litros)'])\n",
    "axs[0,0].set_title('Consumo pela Data')\n",
    "axs[0,1].scatter(data_1['Temperatura Media (C)'],data_1['Consumo de cerveja (litros)'])\n",
    "axs[0,1].set_title('Consumo pela Temp Media')\n",
    "axs[0,2].scatter(data_1['Temperatura Minima (C)'],data_1['Consumo de cerveja (litros)'])\n",
    "axs[0,2].set_title('Consumo pela Temp Minima')\n",
    "axs[1,0].scatter(data_1['Temperatura Maxima (C)'],data_1['Consumo de cerveja (litros)'])\n",
    "axs[1,0].set_title('Consumo pela Temp Maxima')\n",
    "axs[1,1].scatter(data_1['Precipitacao (mm)'],data_1['Consumo de cerveja (litros)'])\n",
    "axs[1,1].set_title('Consumo pela Precipitacao')\n",
    "axs[1,2].scatter(data_1['Final de Semana'],data_1['Consumo de cerveja (litros)'])\n",
    "axs[1,2].set_title('Consumo pelo Fds')\n",
    "\n",
    "\n",
    "plt.show()"
   ]
  },
  {
   "cell_type": "code",
   "execution_count": null,
   "id": "588fdd27-4a20-4a6c-b1fd-b72116781fc9",
   "metadata": {},
   "outputs": [],
   "source": []
  },
  {
   "cell_type": "code",
   "execution_count": null,
   "id": "8acea594-3a74-45c6-bd2b-1d8f428a7368",
   "metadata": {},
   "outputs": [],
   "source": []
  },
  {
   "cell_type": "markdown",
   "id": "495a65d6-cdcc-4606-aee6-3969551ee75d",
   "metadata": {},
   "source": [
    "## Scaling/Normalizing"
   ]
  },
  {
   "cell_type": "code",
   "execution_count": null,
   "id": "07fd6fd9-0985-4879-b792-da00475cdc62",
   "metadata": {},
   "outputs": [],
   "source": []
  },
  {
   "cell_type": "code",
   "execution_count": null,
   "id": "677c5015-2564-4996-b811-af010d13ed06",
   "metadata": {},
   "outputs": [],
   "source": []
  },
  {
   "cell_type": "code",
   "execution_count": null,
   "id": "f75490d8-140b-4064-a54a-29080c7c575d",
   "metadata": {},
   "outputs": [],
   "source": []
  },
  {
   "cell_type": "markdown",
   "id": "da7e182d-0257-4058-94e0-58f976198058",
   "metadata": {},
   "source": [
    "**Checkpoint**"
   ]
  },
  {
   "cell_type": "code",
   "execution_count": 21,
   "id": "76d75bab-f82c-41f7-af1d-435b19e51aff",
   "metadata": {},
   "outputs": [],
   "source": [
    "df = data_1"
   ]
  },
  {
   "cell_type": "code",
   "execution_count": 22,
   "id": "f863c913-5f8f-4c5e-ab00-747459225d42",
   "metadata": {},
   "outputs": [
    {
     "data": {
      "text/html": [
       "<div>\n",
       "<style scoped>\n",
       "    .dataframe tbody tr th:only-of-type {\n",
       "        vertical-align: middle;\n",
       "    }\n",
       "\n",
       "    .dataframe tbody tr th {\n",
       "        vertical-align: top;\n",
       "    }\n",
       "\n",
       "    .dataframe thead th {\n",
       "        text-align: right;\n",
       "    }\n",
       "</style>\n",
       "<table border=\"1\" class=\"dataframe\">\n",
       "  <thead>\n",
       "    <tr style=\"text-align: right;\">\n",
       "      <th></th>\n",
       "      <th>Temperatura Media (C)</th>\n",
       "      <th>Temperatura Minima (C)</th>\n",
       "      <th>Temperatura Maxima (C)</th>\n",
       "      <th>Precipitacao (mm)</th>\n",
       "      <th>Final de Semana</th>\n",
       "      <th>Consumo de cerveja (litros)</th>\n",
       "    </tr>\n",
       "  </thead>\n",
       "  <tbody>\n",
       "    <tr>\n",
       "      <th>count</th>\n",
       "      <td>240.000000</td>\n",
       "      <td>240.000000</td>\n",
       "      <td>240.000000</td>\n",
       "      <td>240.000000</td>\n",
       "      <td>240.000000</td>\n",
       "      <td>240.000000</td>\n",
       "    </tr>\n",
       "    <tr>\n",
       "      <th>mean</th>\n",
       "      <td>21.228833</td>\n",
       "      <td>17.148750</td>\n",
       "      <td>26.995833</td>\n",
       "      <td>0.032083</td>\n",
       "      <td>0.291667</td>\n",
       "      <td>25.971346</td>\n",
       "    </tr>\n",
       "    <tr>\n",
       "      <th>std</th>\n",
       "      <td>3.158161</td>\n",
       "      <td>2.918674</td>\n",
       "      <td>4.126299</td>\n",
       "      <td>0.122781</td>\n",
       "      <td>0.455480</td>\n",
       "      <td>4.384748</td>\n",
       "    </tr>\n",
       "    <tr>\n",
       "      <th>min</th>\n",
       "      <td>14.180000</td>\n",
       "      <td>10.600000</td>\n",
       "      <td>16.100000</td>\n",
       "      <td>0.000000</td>\n",
       "      <td>0.000000</td>\n",
       "      <td>14.343000</td>\n",
       "    </tr>\n",
       "    <tr>\n",
       "      <th>25%</th>\n",
       "      <td>18.890000</td>\n",
       "      <td>14.900000</td>\n",
       "      <td>24.400000</td>\n",
       "      <td>0.000000</td>\n",
       "      <td>0.000000</td>\n",
       "      <td>22.536250</td>\n",
       "    </tr>\n",
       "    <tr>\n",
       "      <th>50%</th>\n",
       "      <td>21.190000</td>\n",
       "      <td>17.200000</td>\n",
       "      <td>27.100000</td>\n",
       "      <td>0.000000</td>\n",
       "      <td>0.000000</td>\n",
       "      <td>25.484000</td>\n",
       "    </tr>\n",
       "    <tr>\n",
       "      <th>75%</th>\n",
       "      <td>23.320000</td>\n",
       "      <td>19.300000</td>\n",
       "      <td>29.525000</td>\n",
       "      <td>0.000000</td>\n",
       "      <td>1.000000</td>\n",
       "      <td>29.303000</td>\n",
       "    </tr>\n",
       "    <tr>\n",
       "      <th>max</th>\n",
       "      <td>28.860000</td>\n",
       "      <td>24.500000</td>\n",
       "      <td>35.800000</td>\n",
       "      <td>0.800000</td>\n",
       "      <td>1.000000</td>\n",
       "      <td>37.937000</td>\n",
       "    </tr>\n",
       "  </tbody>\n",
       "</table>\n",
       "</div>"
      ],
      "text/plain": [
       "       Temperatura Media (C)  Temperatura Minima (C)  Temperatura Maxima (C)  \\\n",
       "count             240.000000              240.000000              240.000000   \n",
       "mean               21.228833               17.148750               26.995833   \n",
       "std                 3.158161                2.918674                4.126299   \n",
       "min                14.180000               10.600000               16.100000   \n",
       "25%                18.890000               14.900000               24.400000   \n",
       "50%                21.190000               17.200000               27.100000   \n",
       "75%                23.320000               19.300000               29.525000   \n",
       "max                28.860000               24.500000               35.800000   \n",
       "\n",
       "       Precipitacao (mm)  Final de Semana  Consumo de cerveja (litros)  \n",
       "count         240.000000       240.000000                   240.000000  \n",
       "mean            0.032083         0.291667                    25.971346  \n",
       "std             0.122781         0.455480                     4.384748  \n",
       "min             0.000000         0.000000                    14.343000  \n",
       "25%             0.000000         0.000000                    22.536250  \n",
       "50%             0.000000         0.000000                    25.484000  \n",
       "75%             0.000000         1.000000                    29.303000  \n",
       "max             0.800000         1.000000                    37.937000  "
      ]
     },
     "execution_count": 22,
     "metadata": {},
     "output_type": "execute_result"
    }
   ],
   "source": [
    "df.describe()"
   ]
  },
  {
   "cell_type": "markdown",
   "id": "dfab087a-1e54-4c21-8b8d-432274057997",
   "metadata": {},
   "source": [
    "---"
   ]
  },
  {
   "cell_type": "markdown",
   "id": "48b5a1e9-c054-46e7-8583-a1dc569a086b",
   "metadata": {},
   "source": [
    "## KNN Regressor implementation"
   ]
  },
  {
   "cell_type": "markdown",
   "id": "6a140431-05ea-42d8-bc1a-df30c03d3d95",
   "metadata": {},
   "source": [
    "#### Importing libraries"
   ]
  },
  {
   "cell_type": "code",
   "execution_count": 23,
   "id": "cfd016c2-e712-43a9-8587-3dc1c9d8d930",
   "metadata": {},
   "outputs": [],
   "source": [
    "import scipy.spatial\n",
    "from collections import Counter\n",
    "from sklearn.model_selection import train_test_split"
   ]
  },
  {
   "cell_type": "markdown",
   "id": "c4ad28d7-b31a-49b0-ae89-62c93838fa14",
   "metadata": {},
   "source": [
    "#### Declare the dependent and independent variables"
   ]
  },
  {
   "cell_type": "code",
   "execution_count": 24,
   "id": "c11b4615-195e-4fab-92f7-721d7ccc75df",
   "metadata": {},
   "outputs": [
    {
     "data": {
      "text/plain": [
       "Index(['Data', 'Temperatura Media (C)', 'Temperatura Minima (C)',\n",
       "       'Temperatura Maxima (C)', 'Precipitacao (mm)', 'Final de Semana',\n",
       "       'Consumo de cerveja (litros)'],\n",
       "      dtype='object')"
      ]
     },
     "execution_count": 24,
     "metadata": {},
     "output_type": "execute_result"
    }
   ],
   "source": [
    "df.columns"
   ]
  },
  {
   "cell_type": "code",
   "execution_count": 25,
   "id": "1fe54794-e219-4888-9391-f38d56e89efc",
   "metadata": {},
   "outputs": [],
   "source": [
    "data_cols = ['Temperatura Media (C)',\n",
    "             'Temperatura Minima (C)',\n",
    "             'Temperatura Maxima (C)',\n",
    "             'Precipitacao (mm)']"
   ]
  },
  {
   "cell_type": "code",
   "execution_count": 26,
   "id": "413a6199-9146-4a75-b0cc-204e12f40f13",
   "metadata": {},
   "outputs": [],
   "source": [
    "X = df[data_cols].values\n",
    "y = list(df['Consumo de cerveja (litros)'])"
   ]
  },
  {
   "cell_type": "markdown",
   "id": "8f42bda7-7c31-447f-b0c3-3d2ebbe4682d",
   "metadata": {},
   "source": [
    "#### Split data in training ans test data"
   ]
  },
  {
   "cell_type": "code",
   "execution_count": 27,
   "id": "87dd669a-ccc1-4bae-bfbc-588d07d77bfc",
   "metadata": {},
   "outputs": [],
   "source": [
    "X_train, X_test, y_train, y_test = train_test_split(X, y, random_state = 42, test_size = 0.2)"
   ]
  },
  {
   "cell_type": "markdown",
   "id": "b442a814-07e9-4d17-86d1-935fc16d3b82",
   "metadata": {},
   "source": [
    "#### The KNN class"
   ]
  },
  {
   "cell_type": "code",
   "execution_count": 28,
   "id": "4a52aeab-cc05-4255-9d53-5f1c7436163d",
   "metadata": {},
   "outputs": [],
   "source": [
    "# https://medium.com/analytics-vidhya/implementing-k-nearest-neighbours-knn-without-using-scikit-learn-3905b4decc3c\n",
    "class KNN:\n",
    "    def __init__(self, k):\n",
    "        self.k = k\n",
    "        \n",
    "    def fit(self, X, y):\n",
    "        self.X_train = X\n",
    "        self.y_train = y\n",
    "        \n",
    "    def mean_distance(self, X1, X2):\n",
    "        distance = scipy.spatial.distance.euclidean(X1, X2)\n",
    "    \n",
    "    def predict(self, X_test):\n",
    "        final_output = []\n",
    "        for i in range(len(X_test)):\n",
    "            d = []\n",
    "            votes = []\n",
    "            for j in range(len(X_train)):\n",
    "                dist = scipy.spatial.distance.euclidean(X_train[j] , X_test[i])\n",
    "                d.append([dist, j])\n",
    "            d.sort()\n",
    "            d = d[0:self.k]\n",
    "            sumk = 0.0\n",
    "            for d, j in d:\n",
    "                sumk += y_train[j]\n",
    "            meank = round(sumk/self.k, 3)\n",
    "            final_output.append(meank)\n",
    "        return final_output\n",
    "    \n",
    "    def mse(self, X_test, y_test):\n",
    "        predictions = self.predict(X_test)\n",
    "        sum_square = 0.0\n",
    "        n = len(X_test)\n",
    "        for i in range(n):\n",
    "            sum_square += (y_test[i] - predictions[i])**2\n",
    "        print(sum_square)\n",
    "        mean_square = sum_square/n\n",
    "        return mean_square"
   ]
  },
  {
   "cell_type": "code",
   "execution_count": null,
   "id": "4eb3643b-3ef2-4c9a-b569-35476b309a4e",
   "metadata": {},
   "outputs": [],
   "source": []
  },
  {
   "cell_type": "markdown",
   "id": "a0d3eeaa-13b9-4aed-82f4-eef28615ff49",
   "metadata": {},
   "source": [
    "#### Testing the algorithm"
   ]
  },
  {
   "cell_type": "code",
   "execution_count": null,
   "id": "29be837d-d2a2-4a8d-8dc4-0fd367002b7e",
   "metadata": {},
   "outputs": [],
   "source": []
  },
  {
   "cell_type": "code",
   "execution_count": 29,
   "id": "6a9e965d-bbaa-4539-9205-a2c8e27551bd",
   "metadata": {},
   "outputs": [],
   "source": [
    "beer = KNN(3)\n",
    "beer.fit(X_train, y_train)\n",
    "prediction = beer.predict(X_test)\n",
    "\n",
    "# for i in range(len(prediction)):\n",
    "#     print(f\"Previsão: {prediction[i]}. Observado: {y_test[i]}\")"
   ]
  },
  {
   "cell_type": "code",
   "execution_count": 30,
   "id": "e15d7e4c-5270-4ae2-b991-ac57a07cb905",
   "metadata": {},
   "outputs": [],
   "source": [
    "comp = pd.DataFrame()\n",
    "comp['Previsão'] = prediction\n",
    "comp['Observado'] = y_test"
   ]
  },
  {
   "cell_type": "code",
   "execution_count": 31,
   "id": "e6bdc27c-6421-4fca-ae05-f74208b85d93",
   "metadata": {},
   "outputs": [
    {
     "data": {
      "text/html": [
       "<div>\n",
       "<style scoped>\n",
       "    .dataframe tbody tr th:only-of-type {\n",
       "        vertical-align: middle;\n",
       "    }\n",
       "\n",
       "    .dataframe tbody tr th {\n",
       "        vertical-align: top;\n",
       "    }\n",
       "\n",
       "    .dataframe thead th {\n",
       "        text-align: right;\n",
       "    }\n",
       "</style>\n",
       "<table border=\"1\" class=\"dataframe\">\n",
       "  <thead>\n",
       "    <tr style=\"text-align: right;\">\n",
       "      <th></th>\n",
       "      <th>Previsão</th>\n",
       "      <th>Observado</th>\n",
       "    </tr>\n",
       "  </thead>\n",
       "  <tbody>\n",
       "    <tr>\n",
       "      <th>0</th>\n",
       "      <td>29.441</td>\n",
       "      <td>25.692</td>\n",
       "    </tr>\n",
       "    <tr>\n",
       "      <th>1</th>\n",
       "      <td>30.771</td>\n",
       "      <td>25.743</td>\n",
       "    </tr>\n",
       "    <tr>\n",
       "      <th>2</th>\n",
       "      <td>21.644</td>\n",
       "      <td>25.142</td>\n",
       "    </tr>\n",
       "    <tr>\n",
       "      <th>3</th>\n",
       "      <td>22.776</td>\n",
       "      <td>27.146</td>\n",
       "    </tr>\n",
       "    <tr>\n",
       "      <th>4</th>\n",
       "      <td>26.117</td>\n",
       "      <td>23.898</td>\n",
       "    </tr>\n",
       "  </tbody>\n",
       "</table>\n",
       "</div>"
      ],
      "text/plain": [
       "   Previsão  Observado\n",
       "0    29.441     25.692\n",
       "1    30.771     25.743\n",
       "2    21.644     25.142\n",
       "3    22.776     27.146\n",
       "4    26.117     23.898"
      ]
     },
     "execution_count": 31,
     "metadata": {},
     "output_type": "execute_result"
    }
   ],
   "source": [
    "comp.head()"
   ]
  },
  {
   "cell_type": "code",
   "execution_count": 32,
   "id": "4630b82b-a86c-44f5-955d-6e828f849cf3",
   "metadata": {},
   "outputs": [
    {
     "name": "stdout",
     "output_type": "stream",
     "text": [
      "636.7369430000002\n"
     ]
    },
    {
     "data": {
      "text/plain": [
       "13.265352979166671"
      ]
     },
     "execution_count": 32,
     "metadata": {},
     "output_type": "execute_result"
    }
   ],
   "source": [
    "beer.mse(X_test, y_test)"
   ]
  },
  {
   "cell_type": "code",
   "execution_count": null,
   "id": "97820df8-c5dc-4cd5-88de-a1cdcdcac1be",
   "metadata": {},
   "outputs": [],
   "source": []
  },
  {
   "cell_type": "code",
   "execution_count": null,
   "id": "871c76b5-2d25-40c5-b7dd-7b72fe0a8846",
   "metadata": {},
   "outputs": [],
   "source": []
  }
 ],
 "metadata": {
  "kernelspec": {
   "display_name": "Python 3",
   "language": "python",
   "name": "python3"
  },
  "language_info": {
   "codemirror_mode": {
    "name": "ipython",
    "version": 3
   },
   "file_extension": ".py",
   "mimetype": "text/x-python",
   "name": "python",
   "nbconvert_exporter": "python",
   "pygments_lexer": "ipython3",
   "version": "3.8.10"
  }
 },
 "nbformat": 4,
 "nbformat_minor": 5
}
