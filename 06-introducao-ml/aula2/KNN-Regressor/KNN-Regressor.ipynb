{
 "cells": [
  {
   "cell_type": "markdown",
   "id": "d790b50a-bb2a-49c1-b2bb-c29c0b345429",
   "metadata": {},
   "source": [
    "# Beer Consumption"
   ]
  },
  {
   "cell_type": "markdown",
   "id": "eaa12a1a-3d7a-481b-9ef2-85bdefa4f3e3",
   "metadata": {},
   "source": [
    "## Libraries"
   ]
  },
  {
   "cell_type": "code",
   "execution_count": 1,
   "id": "50c18389-432c-42f4-9f2c-9530eaf21ba9",
   "metadata": {},
   "outputs": [],
   "source": [
    "import pandas as pd\n",
    "import numpy as np\n",
    "import matplotlib.pyplot as plt\n",
    "import seaborn as sns\n",
    "\n",
    "sns.set()"
   ]
  },
  {
   "cell_type": "markdown",
   "id": "8b0510ac-32a7-437e-b9cd-ed3318465b2f",
   "metadata": {},
   "source": [
    "## Read dataset"
   ]
  },
  {
   "cell_type": "code",
   "execution_count": 2,
   "id": "77455393-d74c-4450-8197-5265a4d1cb79",
   "metadata": {},
   "outputs": [],
   "source": [
    "data_path = 'dataset/Consumo_cerveja.csv'"
   ]
  },
  {
   "cell_type": "code",
   "execution_count": 3,
   "id": "8823fd9c-e1f5-4006-97d7-4da0afe9dc00",
   "metadata": {},
   "outputs": [],
   "source": [
    "raw_data = pd.read_csv(data_path)"
   ]
  },
  {
   "cell_type": "code",
   "execution_count": 4,
   "id": "dcba3d0a-d58f-47e6-9b93-098c886f8a68",
   "metadata": {},
   "outputs": [
    {
     "data": {
      "text/html": [
       "<div>\n",
       "<style scoped>\n",
       "    .dataframe tbody tr th:only-of-type {\n",
       "        vertical-align: middle;\n",
       "    }\n",
       "\n",
       "    .dataframe tbody tr th {\n",
       "        vertical-align: top;\n",
       "    }\n",
       "\n",
       "    .dataframe thead th {\n",
       "        text-align: right;\n",
       "    }\n",
       "</style>\n",
       "<table border=\"1\" class=\"dataframe\">\n",
       "  <thead>\n",
       "    <tr style=\"text-align: right;\">\n",
       "      <th></th>\n",
       "      <th>Data</th>\n",
       "      <th>Temperatura Media (C)</th>\n",
       "      <th>Temperatura Minima (C)</th>\n",
       "      <th>Temperatura Maxima (C)</th>\n",
       "      <th>Precipitacao (mm)</th>\n",
       "      <th>Final de Semana</th>\n",
       "      <th>Consumo de cerveja (litros)</th>\n",
       "    </tr>\n",
       "  </thead>\n",
       "  <tbody>\n",
       "    <tr>\n",
       "      <th>0</th>\n",
       "      <td>2015-01-01</td>\n",
       "      <td>27,3</td>\n",
       "      <td>23,9</td>\n",
       "      <td>32,5</td>\n",
       "      <td>0</td>\n",
       "      <td>0.0</td>\n",
       "      <td>25.461</td>\n",
       "    </tr>\n",
       "    <tr>\n",
       "      <th>1</th>\n",
       "      <td>2015-01-02</td>\n",
       "      <td>27,02</td>\n",
       "      <td>24,5</td>\n",
       "      <td>33,5</td>\n",
       "      <td>0</td>\n",
       "      <td>0.0</td>\n",
       "      <td>28.972</td>\n",
       "    </tr>\n",
       "    <tr>\n",
       "      <th>2</th>\n",
       "      <td>2015-01-03</td>\n",
       "      <td>24,82</td>\n",
       "      <td>22,4</td>\n",
       "      <td>29,9</td>\n",
       "      <td>0</td>\n",
       "      <td>1.0</td>\n",
       "      <td>30.814</td>\n",
       "    </tr>\n",
       "    <tr>\n",
       "      <th>3</th>\n",
       "      <td>2015-01-04</td>\n",
       "      <td>23,98</td>\n",
       "      <td>21,5</td>\n",
       "      <td>28,6</td>\n",
       "      <td>1,2</td>\n",
       "      <td>1.0</td>\n",
       "      <td>29.799</td>\n",
       "    </tr>\n",
       "    <tr>\n",
       "      <th>4</th>\n",
       "      <td>2015-01-05</td>\n",
       "      <td>23,82</td>\n",
       "      <td>21</td>\n",
       "      <td>28,3</td>\n",
       "      <td>0</td>\n",
       "      <td>0.0</td>\n",
       "      <td>28.900</td>\n",
       "    </tr>\n",
       "    <tr>\n",
       "      <th>...</th>\n",
       "      <td>...</td>\n",
       "      <td>...</td>\n",
       "      <td>...</td>\n",
       "      <td>...</td>\n",
       "      <td>...</td>\n",
       "      <td>...</td>\n",
       "      <td>...</td>\n",
       "    </tr>\n",
       "    <tr>\n",
       "      <th>936</th>\n",
       "      <td>NaN</td>\n",
       "      <td>NaN</td>\n",
       "      <td>NaN</td>\n",
       "      <td>NaN</td>\n",
       "      <td>NaN</td>\n",
       "      <td>NaN</td>\n",
       "      <td>NaN</td>\n",
       "    </tr>\n",
       "    <tr>\n",
       "      <th>937</th>\n",
       "      <td>NaN</td>\n",
       "      <td>NaN</td>\n",
       "      <td>NaN</td>\n",
       "      <td>NaN</td>\n",
       "      <td>NaN</td>\n",
       "      <td>NaN</td>\n",
       "      <td>NaN</td>\n",
       "    </tr>\n",
       "    <tr>\n",
       "      <th>938</th>\n",
       "      <td>NaN</td>\n",
       "      <td>NaN</td>\n",
       "      <td>NaN</td>\n",
       "      <td>NaN</td>\n",
       "      <td>NaN</td>\n",
       "      <td>NaN</td>\n",
       "      <td>NaN</td>\n",
       "    </tr>\n",
       "    <tr>\n",
       "      <th>939</th>\n",
       "      <td>NaN</td>\n",
       "      <td>NaN</td>\n",
       "      <td>NaN</td>\n",
       "      <td>NaN</td>\n",
       "      <td>NaN</td>\n",
       "      <td>NaN</td>\n",
       "      <td>NaN</td>\n",
       "    </tr>\n",
       "    <tr>\n",
       "      <th>940</th>\n",
       "      <td>NaN</td>\n",
       "      <td>NaN</td>\n",
       "      <td>NaN</td>\n",
       "      <td>NaN</td>\n",
       "      <td>NaN</td>\n",
       "      <td>NaN</td>\n",
       "      <td>NaN</td>\n",
       "    </tr>\n",
       "  </tbody>\n",
       "</table>\n",
       "<p>941 rows × 7 columns</p>\n",
       "</div>"
      ],
      "text/plain": [
       "           Data Temperatura Media (C) Temperatura Minima (C)  \\\n",
       "0    2015-01-01                  27,3                   23,9   \n",
       "1    2015-01-02                 27,02                   24,5   \n",
       "2    2015-01-03                 24,82                   22,4   \n",
       "3    2015-01-04                 23,98                   21,5   \n",
       "4    2015-01-05                 23,82                     21   \n",
       "..          ...                   ...                    ...   \n",
       "936         NaN                   NaN                    NaN   \n",
       "937         NaN                   NaN                    NaN   \n",
       "938         NaN                   NaN                    NaN   \n",
       "939         NaN                   NaN                    NaN   \n",
       "940         NaN                   NaN                    NaN   \n",
       "\n",
       "    Temperatura Maxima (C) Precipitacao (mm)  Final de Semana  \\\n",
       "0                     32,5                 0              0.0   \n",
       "1                     33,5                 0              0.0   \n",
       "2                     29,9                 0              1.0   \n",
       "3                     28,6               1,2              1.0   \n",
       "4                     28,3                 0              0.0   \n",
       "..                     ...               ...              ...   \n",
       "936                    NaN               NaN              NaN   \n",
       "937                    NaN               NaN              NaN   \n",
       "938                    NaN               NaN              NaN   \n",
       "939                    NaN               NaN              NaN   \n",
       "940                    NaN               NaN              NaN   \n",
       "\n",
       "     Consumo de cerveja (litros)  \n",
       "0                         25.461  \n",
       "1                         28.972  \n",
       "2                         30.814  \n",
       "3                         29.799  \n",
       "4                         28.900  \n",
       "..                           ...  \n",
       "936                          NaN  \n",
       "937                          NaN  \n",
       "938                          NaN  \n",
       "939                          NaN  \n",
       "940                          NaN  \n",
       "\n",
       "[941 rows x 7 columns]"
      ]
     },
     "execution_count": 4,
     "metadata": {},
     "output_type": "execute_result"
    }
   ],
   "source": [
    "raw_data"
   ]
  },
  {
   "cell_type": "markdown",
   "id": "945c972f-65c6-4205-8519-c2bdbf88d8ee",
   "metadata": {},
   "source": [
    "## Pre-processing"
   ]
  },
  {
   "cell_type": "markdown",
   "id": "dc46162e-7d2f-423b-9f26-e0f9bc68db1c",
   "metadata": {},
   "source": [
    "### Dropna"
   ]
  },
  {
   "cell_type": "code",
   "execution_count": 5,
   "id": "74be60d2-326e-4fbc-a250-fa1c9e1ccc34",
   "metadata": {},
   "outputs": [
    {
     "data": {
      "text/plain": [
       "Data                           576\n",
       "Temperatura Media (C)          576\n",
       "Temperatura Minima (C)         576\n",
       "Temperatura Maxima (C)         576\n",
       "Precipitacao (mm)              576\n",
       "Final de Semana                576\n",
       "Consumo de cerveja (litros)    576\n",
       "dtype: int64"
      ]
     },
     "execution_count": 5,
     "metadata": {},
     "output_type": "execute_result"
    }
   ],
   "source": [
    "raw_data.isna().sum()"
   ]
  },
  {
   "cell_type": "code",
   "execution_count": 6,
   "id": "812ee329-663d-4610-8122-419043fd9d3c",
   "metadata": {},
   "outputs": [],
   "source": [
    "raw_data.dropna(axis=0, how='all', inplace=True)"
   ]
  },
  {
   "cell_type": "code",
   "execution_count": 7,
   "id": "8cba1261-6162-4b64-af95-e90372f22a6e",
   "metadata": {},
   "outputs": [
    {
     "data": {
      "text/plain": [
       "Data                           0\n",
       "Temperatura Media (C)          0\n",
       "Temperatura Minima (C)         0\n",
       "Temperatura Maxima (C)         0\n",
       "Precipitacao (mm)              0\n",
       "Final de Semana                0\n",
       "Consumo de cerveja (litros)    0\n",
       "dtype: int64"
      ]
     },
     "execution_count": 7,
     "metadata": {},
     "output_type": "execute_result"
    }
   ],
   "source": [
    "raw_data.isna().sum()"
   ]
  },
  {
   "cell_type": "markdown",
   "id": "495092c2-0789-474e-aa4e-bc32a15a1f85",
   "metadata": {},
   "source": [
    "### Check for zeros"
   ]
  },
  {
   "cell_type": "code",
   "execution_count": 8,
   "id": "d8b99ac3-7a0c-417c-8be0-24132ad2918a",
   "metadata": {},
   "outputs": [
    {
     "data": {
      "text/plain": [
       "Data                             0\n",
       "Temperatura Media (C)            0\n",
       "Temperatura Minima (C)           0\n",
       "Temperatura Maxima (C)           0\n",
       "Precipitacao (mm)                0\n",
       "Final de Semana                261\n",
       "Consumo de cerveja (litros)      0\n",
       "dtype: int64"
      ]
     },
     "execution_count": 8,
     "metadata": {},
     "output_type": "execute_result"
    }
   ],
   "source": [
    "(raw_data==0).sum()"
   ]
  },
  {
   "cell_type": "markdown",
   "id": "0f1c46cf-800e-417c-b7d5-f9c77e5f2d88",
   "metadata": {},
   "source": [
    "### Replace comma by dot"
   ]
  },
  {
   "cell_type": "code",
   "execution_count": 9,
   "id": "f1146389-8061-4ea6-9f08-d5ac4a3f5e0c",
   "metadata": {},
   "outputs": [],
   "source": [
    "def real_brazilian_to_float(numeric_string):\n",
    "    \"\"\"Converte valores numérios no formato brasileiro 1.234,56 para float\"\"\"\n",
    "    try:\n",
    "        return float(numeric_string.replace(\".\", \"\").replace(\",\", \".\"))\n",
    "    except:\n",
    "        return numeric_string "
   ]
  },
  {
   "cell_type": "code",
   "execution_count": 10,
   "id": "d881b817-7bd8-498e-a749-7ceeea5a8ca3",
   "metadata": {},
   "outputs": [],
   "source": [
    "cols_to_dot = ['Temperatura Media (C)',\n",
    "               'Temperatura Minima (C)',\n",
    "               'Temperatura Maxima (C)',\n",
    "               'Precipitacao (mm)']"
   ]
  },
  {
   "cell_type": "code",
   "execution_count": 11,
   "id": "ed9caad4-0911-46e0-a8b5-e5830c62e60d",
   "metadata": {},
   "outputs": [],
   "source": [
    "for cols in cols_to_dot:\n",
    "    raw_data[cols] = raw_data[cols].apply(real_brazilian_to_float)"
   ]
  },
  {
   "cell_type": "markdown",
   "id": "0728382b-9937-47c8-9f9c-e8a18e0967d6",
   "metadata": {},
   "source": [
    "### Convert 'Data' column type"
   ]
  },
  {
   "cell_type": "code",
   "execution_count": 12,
   "id": "e6dbd9ed-ff74-46e6-887b-0e3f7b5b250a",
   "metadata": {},
   "outputs": [
    {
     "name": "stdout",
     "output_type": "stream",
     "text": [
      "<class 'pandas.core.frame.DataFrame'>\n",
      "Int64Index: 365 entries, 0 to 364\n",
      "Data columns (total 7 columns):\n",
      " #   Column                       Non-Null Count  Dtype  \n",
      "---  ------                       --------------  -----  \n",
      " 0   Data                         365 non-null    object \n",
      " 1   Temperatura Media (C)        365 non-null    float64\n",
      " 2   Temperatura Minima (C)       365 non-null    float64\n",
      " 3   Temperatura Maxima (C)       365 non-null    float64\n",
      " 4   Precipitacao (mm)            365 non-null    float64\n",
      " 5   Final de Semana              365 non-null    float64\n",
      " 6   Consumo de cerveja (litros)  365 non-null    float64\n",
      "dtypes: float64(6), object(1)\n",
      "memory usage: 22.8+ KB\n"
     ]
    }
   ],
   "source": [
    "raw_data.info()"
   ]
  },
  {
   "cell_type": "code",
   "execution_count": 13,
   "id": "f2385617-f56d-4390-9fb4-238a6010895a",
   "metadata": {},
   "outputs": [],
   "source": [
    "raw_data['Data'] = raw_data['Data'].astype('datetime64[ns]')"
   ]
  },
  {
   "cell_type": "code",
   "execution_count": 14,
   "id": "5cc22c38-1041-426a-a5fb-549333ec4835",
   "metadata": {},
   "outputs": [
    {
     "name": "stdout",
     "output_type": "stream",
     "text": [
      "<class 'pandas.core.frame.DataFrame'>\n",
      "Int64Index: 365 entries, 0 to 364\n",
      "Data columns (total 7 columns):\n",
      " #   Column                       Non-Null Count  Dtype         \n",
      "---  ------                       --------------  -----         \n",
      " 0   Data                         365 non-null    datetime64[ns]\n",
      " 1   Temperatura Media (C)        365 non-null    float64       \n",
      " 2   Temperatura Minima (C)       365 non-null    float64       \n",
      " 3   Temperatura Maxima (C)       365 non-null    float64       \n",
      " 4   Precipitacao (mm)            365 non-null    float64       \n",
      " 5   Final de Semana              365 non-null    float64       \n",
      " 6   Consumo de cerveja (litros)  365 non-null    float64       \n",
      "dtypes: datetime64[ns](1), float64(6)\n",
      "memory usage: 22.8 KB\n"
     ]
    }
   ],
   "source": [
    "raw_data.info()"
   ]
  },
  {
   "cell_type": "markdown",
   "id": "a4aadaa1-18d6-4545-9fcc-134f14ecc3bf",
   "metadata": {},
   "source": [
    "**Checkpoint**"
   ]
  },
  {
   "cell_type": "code",
   "execution_count": 15,
   "id": "6afbe983-0ddd-4ffd-ab77-1e52fe0965b1",
   "metadata": {},
   "outputs": [],
   "source": [
    "data_pp = raw_data.copy()"
   ]
  },
  {
   "cell_type": "code",
   "execution_count": 16,
   "id": "9960d583-9327-45c2-a1d2-b18fefbcc1dd",
   "metadata": {},
   "outputs": [
    {
     "data": {
      "text/html": [
       "<div>\n",
       "<style scoped>\n",
       "    .dataframe tbody tr th:only-of-type {\n",
       "        vertical-align: middle;\n",
       "    }\n",
       "\n",
       "    .dataframe tbody tr th {\n",
       "        vertical-align: top;\n",
       "    }\n",
       "\n",
       "    .dataframe thead th {\n",
       "        text-align: right;\n",
       "    }\n",
       "</style>\n",
       "<table border=\"1\" class=\"dataframe\">\n",
       "  <thead>\n",
       "    <tr style=\"text-align: right;\">\n",
       "      <th></th>\n",
       "      <th>Temperatura Media (C)</th>\n",
       "      <th>Temperatura Minima (C)</th>\n",
       "      <th>Temperatura Maxima (C)</th>\n",
       "      <th>Precipitacao (mm)</th>\n",
       "      <th>Final de Semana</th>\n",
       "      <th>Consumo de cerveja (litros)</th>\n",
       "    </tr>\n",
       "  </thead>\n",
       "  <tbody>\n",
       "    <tr>\n",
       "      <th>count</th>\n",
       "      <td>365.000000</td>\n",
       "      <td>365.000000</td>\n",
       "      <td>365.000000</td>\n",
       "      <td>365.000000</td>\n",
       "      <td>365.000000</td>\n",
       "      <td>365.000000</td>\n",
       "    </tr>\n",
       "    <tr>\n",
       "      <th>mean</th>\n",
       "      <td>21.226356</td>\n",
       "      <td>17.461370</td>\n",
       "      <td>26.611507</td>\n",
       "      <td>5.196712</td>\n",
       "      <td>0.284932</td>\n",
       "      <td>25.401367</td>\n",
       "    </tr>\n",
       "    <tr>\n",
       "      <th>std</th>\n",
       "      <td>3.180108</td>\n",
       "      <td>2.826185</td>\n",
       "      <td>4.317366</td>\n",
       "      <td>12.417844</td>\n",
       "      <td>0.452001</td>\n",
       "      <td>4.399143</td>\n",
       "    </tr>\n",
       "    <tr>\n",
       "      <th>min</th>\n",
       "      <td>12.900000</td>\n",
       "      <td>10.600000</td>\n",
       "      <td>14.500000</td>\n",
       "      <td>0.000000</td>\n",
       "      <td>0.000000</td>\n",
       "      <td>14.343000</td>\n",
       "    </tr>\n",
       "    <tr>\n",
       "      <th>25%</th>\n",
       "      <td>19.020000</td>\n",
       "      <td>15.300000</td>\n",
       "      <td>23.800000</td>\n",
       "      <td>0.000000</td>\n",
       "      <td>0.000000</td>\n",
       "      <td>22.008000</td>\n",
       "    </tr>\n",
       "    <tr>\n",
       "      <th>50%</th>\n",
       "      <td>21.380000</td>\n",
       "      <td>17.900000</td>\n",
       "      <td>26.900000</td>\n",
       "      <td>0.000000</td>\n",
       "      <td>0.000000</td>\n",
       "      <td>24.867000</td>\n",
       "    </tr>\n",
       "    <tr>\n",
       "      <th>75%</th>\n",
       "      <td>23.280000</td>\n",
       "      <td>19.600000</td>\n",
       "      <td>29.400000</td>\n",
       "      <td>3.200000</td>\n",
       "      <td>1.000000</td>\n",
       "      <td>28.631000</td>\n",
       "    </tr>\n",
       "    <tr>\n",
       "      <th>max</th>\n",
       "      <td>28.860000</td>\n",
       "      <td>24.500000</td>\n",
       "      <td>36.500000</td>\n",
       "      <td>94.800000</td>\n",
       "      <td>1.000000</td>\n",
       "      <td>37.937000</td>\n",
       "    </tr>\n",
       "  </tbody>\n",
       "</table>\n",
       "</div>"
      ],
      "text/plain": [
       "       Temperatura Media (C)  Temperatura Minima (C)  Temperatura Maxima (C)  \\\n",
       "count             365.000000              365.000000              365.000000   \n",
       "mean               21.226356               17.461370               26.611507   \n",
       "std                 3.180108                2.826185                4.317366   \n",
       "min                12.900000               10.600000               14.500000   \n",
       "25%                19.020000               15.300000               23.800000   \n",
       "50%                21.380000               17.900000               26.900000   \n",
       "75%                23.280000               19.600000               29.400000   \n",
       "max                28.860000               24.500000               36.500000   \n",
       "\n",
       "       Precipitacao (mm)  Final de Semana  Consumo de cerveja (litros)  \n",
       "count         365.000000       365.000000                   365.000000  \n",
       "mean            5.196712         0.284932                    25.401367  \n",
       "std            12.417844         0.452001                     4.399143  \n",
       "min             0.000000         0.000000                    14.343000  \n",
       "25%             0.000000         0.000000                    22.008000  \n",
       "50%             0.000000         0.000000                    24.867000  \n",
       "75%             3.200000         1.000000                    28.631000  \n",
       "max            94.800000         1.000000                    37.937000  "
      ]
     },
     "execution_count": 16,
     "metadata": {},
     "output_type": "execute_result"
    }
   ],
   "source": [
    "data_pp.describe()"
   ]
  },
  {
   "cell_type": "markdown",
   "id": "073e08b5-88d6-471f-8f2b-4a11c8209215",
   "metadata": {},
   "source": [
    "## Graphical analysis"
   ]
  },
  {
   "cell_type": "code",
   "execution_count": 17,
   "id": "d3d204ec-fc98-41a6-922d-3d2308caa366",
   "metadata": {},
   "outputs": [
    {
     "data": {
      "image/png": "[encoded data removed]",
      "text/plain": [
       "<Figure size 1152x1440 with 7 Axes>"
      ]
     },
     "metadata": {},
     "output_type": "display_data"
    }
   ],
   "source": [
    "plt.figure(figsize=(16,20))\n",
    "for i, column in enumerate(data_pp.columns, 1):\n",
    "    plt.subplot(3,3,i)\n",
    "    sns.histplot(data_pp[column])"
   ]
  },
  {
   "cell_type": "markdown",
   "id": "a451d93d-1a7f-4305-8264-96bc9d70eb9d",
   "metadata": {},
   "source": [
    "### Leading with outliers"
   ]
  },
  {
   "cell_type": "code",
   "execution_count": 18,
   "id": "1908ddde-b819-480b-a3ea-a915b1f803d9",
   "metadata": {},
   "outputs": [],
   "source": [
    "q = data_pp['Precipitacao (mm)'].quantile(0.75)\n",
    "# data_cleaned = data_pp[data_pp['Precipitacao (mm)']<q]\n",
    "data_cleaned = data_pp"
   ]
  },
  {
   "cell_type": "code",
   "execution_count": 19,
   "id": "af25c290-960f-4482-8ae9-e31d1195b1b6",
   "metadata": {},
   "outputs": [
    {
     "data": {
      "text/plain": [
       "<seaborn.axisgrid.FacetGrid at 0x7f765a294df0>"
      ]
     },
     "execution_count": 19,
     "metadata": {},
     "output_type": "execute_result"
    },
    {
     "data": {
      "image/png": "[encoded data removed]",
      "text/plain": [
       "<Figure size 360x360 with 1 Axes>"
      ]
     },
     "metadata": {},
     "output_type": "display_data"
    }
   ],
   "source": [
    "sns.displot(data_cleaned['Precipitacao (mm)'])"
   ]
  },
  {
   "cell_type": "code",
   "execution_count": 20,
   "id": "50304282-9028-4a18-9b14-ae1a9134641e",
   "metadata": {},
   "outputs": [
    {
     "data": {
      "image/png": "[encoded data removed]",
      "text/plain": [
       "<Figure size 1080x1080 with 6 Axes>"
      ]
     },
     "metadata": {},
     "output_type": "display_data"
    }
   ],
   "source": [
    "f, axs = plt.subplots(2, 3, sharey=True, figsize =(15,15))\n",
    "axs[0,0].scatter(data_cleaned['Data'],data_cleaned['Consumo de cerveja (litros)'])\n",
    "axs[0,0].set_title('Consumo pela Data')\n",
    "axs[0,1].scatter(data_cleaned['Temperatura Media (C)'],data_cleaned['Consumo de cerveja (litros)'])\n",
    "axs[0,1].set_title('Consumo pela Temp Media')\n",
    "axs[0,2].scatter(data_cleaned['Temperatura Minima (C)'],data_cleaned['Consumo de cerveja (litros)'])\n",
    "axs[0,2].set_title('Consumo pela Temp Minima')\n",
    "axs[1,0].scatter(data_cleaned['Temperatura Maxima (C)'],data_cleaned['Consumo de cerveja (litros)'])\n",
    "axs[1,0].set_title('Consumo pela Temp Maxima')\n",
    "axs[1,1].scatter(data_cleaned['Precipitacao (mm)'],data_cleaned['Consumo de cerveja (litros)'])\n",
    "axs[1,1].set_title('Consumo pela Precipitacao')\n",
    "axs[1,2].scatter(data_cleaned['Final de Semana'],data_cleaned['Consumo de cerveja (litros)'])\n",
    "axs[1,2].set_title('Consumo pelo Fds')\n",
    "\n",
    "\n",
    "plt.show()"
   ]
  },
  {
   "cell_type": "code",
   "execution_count": null,
   "id": "588fdd27-4a20-4a6c-b1fd-b72116781fc9",
   "metadata": {},
   "outputs": [],
   "source": []
  },
  {
   "cell_type": "code",
   "execution_count": null,
   "id": "8acea594-3a74-45c6-bd2b-1d8f428a7368",
   "metadata": {},
   "outputs": [],
   "source": []
  },
  {
   "cell_type": "markdown",
   "id": "495a65d6-cdcc-4606-aee6-3969551ee75d",
   "metadata": {},
   "source": [
    "## Standardizing/Normalizing"
   ]
  },
  {
   "cell_type": "code",
   "execution_count": 21,
   "id": "07fd6fd9-0985-4879-b792-da00475cdc62",
   "metadata": {},
   "outputs": [],
   "source": [
    "from sklearn.preprocessing import StandardScaler\n",
    "scaler = StandardScaler() \n",
    "data_to_stand = data_cleaned.iloc[:,1:]\n",
    "data_stand = scaler.fit_transform(data_to_stand)"
   ]
  },
  {
   "cell_type": "code",
   "execution_count": 22,
   "id": "ef32d5f6-601a-4dcf-bff5-62dd0cf81237",
   "metadata": {},
   "outputs": [],
   "source": [
    "df_stand = pd.DataFrame(data_stand, columns=data_to_stand.columns.tolist())"
   ]
  },
  {
   "cell_type": "code",
   "execution_count": 23,
   "id": "2f6e39b0-03c0-43b0-84b8-68d0b4b9c4f8",
   "metadata": {},
   "outputs": [
    {
     "data": {
      "text/html": [
       "<div>\n",
       "<style scoped>\n",
       "    .dataframe tbody tr th:only-of-type {\n",
       "        vertical-align: middle;\n",
       "    }\n",
       "\n",
       "    .dataframe tbody tr th {\n",
       "        vertical-align: top;\n",
       "    }\n",
       "\n",
       "    .dataframe thead th {\n",
       "        text-align: right;\n",
       "    }\n",
       "</style>\n",
       "<table border=\"1\" class=\"dataframe\">\n",
       "  <thead>\n",
       "    <tr style=\"text-align: right;\">\n",
       "      <th></th>\n",
       "      <th>Temperatura Media (C)</th>\n",
       "      <th>Temperatura Minima (C)</th>\n",
       "      <th>Temperatura Maxima (C)</th>\n",
       "      <th>Precipitacao (mm)</th>\n",
       "      <th>Final de Semana</th>\n",
       "      <th>Consumo de cerveja (litros)</th>\n",
       "    </tr>\n",
       "  </thead>\n",
       "  <tbody>\n",
       "    <tr>\n",
       "      <th>0</th>\n",
       "      <td>1.912508</td>\n",
       "      <td>2.281333</td>\n",
       "      <td>1.365781</td>\n",
       "      <td>-0.419062</td>\n",
       "      <td>-0.631243</td>\n",
       "      <td>0.013574</td>\n",
       "    </tr>\n",
       "    <tr>\n",
       "      <th>1</th>\n",
       "      <td>1.824340</td>\n",
       "      <td>2.493924</td>\n",
       "      <td>1.597722</td>\n",
       "      <td>-0.419062</td>\n",
       "      <td>-0.631243</td>\n",
       "      <td>0.812780</td>\n",
       "    </tr>\n",
       "    <tr>\n",
       "      <th>2</th>\n",
       "      <td>1.131590</td>\n",
       "      <td>1.749853</td>\n",
       "      <td>0.762735</td>\n",
       "      <td>-0.419062</td>\n",
       "      <td>1.584177</td>\n",
       "      <td>1.232072</td>\n",
       "    </tr>\n",
       "    <tr>\n",
       "      <th>3</th>\n",
       "      <td>0.867085</td>\n",
       "      <td>1.430966</td>\n",
       "      <td>0.461212</td>\n",
       "      <td>-0.322294</td>\n",
       "      <td>1.584177</td>\n",
       "      <td>1.001029</td>\n",
       "    </tr>\n",
       "    <tr>\n",
       "      <th>4</th>\n",
       "      <td>0.816703</td>\n",
       "      <td>1.253806</td>\n",
       "      <td>0.391630</td>\n",
       "      <td>-0.419062</td>\n",
       "      <td>-0.631243</td>\n",
       "      <td>0.796390</td>\n",
       "    </tr>\n",
       "  </tbody>\n",
       "</table>\n",
       "</div>"
      ],
      "text/plain": [
       "   Temperatura Media (C)  Temperatura Minima (C)  Temperatura Maxima (C)  \\\n",
       "0               1.912508                2.281333                1.365781   \n",
       "1               1.824340                2.493924                1.597722   \n",
       "2               1.131590                1.749853                0.762735   \n",
       "3               0.867085                1.430966                0.461212   \n",
       "4               0.816703                1.253806                0.391630   \n",
       "\n",
       "   Precipitacao (mm)  Final de Semana  Consumo de cerveja (litros)  \n",
       "0          -0.419062        -0.631243                     0.013574  \n",
       "1          -0.419062        -0.631243                     0.812780  \n",
       "2          -0.419062         1.584177                     1.232072  \n",
       "3          -0.322294         1.584177                     1.001029  \n",
       "4          -0.419062        -0.631243                     0.796390  "
      ]
     },
     "execution_count": 23,
     "metadata": {},
     "output_type": "execute_result"
    }
   ],
   "source": [
    "df_stand.head()"
   ]
  },
  {
   "cell_type": "code",
   "execution_count": 24,
   "id": "f75490d8-140b-4064-a54a-29080c7c575d",
   "metadata": {},
   "outputs": [],
   "source": [
    "from sklearn.preprocessing import MinMaxScaler\n",
    "scaler = MinMaxScaler() \n",
    "data_to_norm = data_cleaned.iloc[:,1:]\n",
    "data_norm = scaler.fit_transform(data_to_norm)"
   ]
  },
  {
   "cell_type": "code",
   "execution_count": 25,
   "id": "53976709-9f59-4748-85a8-1d664e504c5d",
   "metadata": {},
   "outputs": [],
   "source": [
    "df_norm = pd.DataFrame(data_norm, columns=data_to_norm.columns.tolist())"
   ]
  },
  {
   "cell_type": "code",
   "execution_count": 26,
   "id": "ab14e1bf-258c-40f8-81f9-271253928b06",
   "metadata": {},
   "outputs": [
    {
     "data": {
      "text/html": [
       "<div>\n",
       "<style scoped>\n",
       "    .dataframe tbody tr th:only-of-type {\n",
       "        vertical-align: middle;\n",
       "    }\n",
       "\n",
       "    .dataframe tbody tr th {\n",
       "        vertical-align: top;\n",
       "    }\n",
       "\n",
       "    .dataframe thead th {\n",
       "        text-align: right;\n",
       "    }\n",
       "</style>\n",
       "<table border=\"1\" class=\"dataframe\">\n",
       "  <thead>\n",
       "    <tr style=\"text-align: right;\">\n",
       "      <th></th>\n",
       "      <th>Temperatura Media (C)</th>\n",
       "      <th>Temperatura Minima (C)</th>\n",
       "      <th>Temperatura Maxima (C)</th>\n",
       "      <th>Precipitacao (mm)</th>\n",
       "      <th>Final de Semana</th>\n",
       "      <th>Consumo de cerveja (litros)</th>\n",
       "    </tr>\n",
       "  </thead>\n",
       "  <tbody>\n",
       "    <tr>\n",
       "      <th>0</th>\n",
       "      <td>0.902256</td>\n",
       "      <td>0.956835</td>\n",
       "      <td>0.818182</td>\n",
       "      <td>0.000000</td>\n",
       "      <td>0.0</td>\n",
       "      <td>0.471221</td>\n",
       "    </tr>\n",
       "    <tr>\n",
       "      <th>1</th>\n",
       "      <td>0.884712</td>\n",
       "      <td>1.000000</td>\n",
       "      <td>0.863636</td>\n",
       "      <td>0.000000</td>\n",
       "      <td>0.0</td>\n",
       "      <td>0.620031</td>\n",
       "    </tr>\n",
       "    <tr>\n",
       "      <th>2</th>\n",
       "      <td>0.746867</td>\n",
       "      <td>0.848921</td>\n",
       "      <td>0.700000</td>\n",
       "      <td>0.000000</td>\n",
       "      <td>1.0</td>\n",
       "      <td>0.698101</td>\n",
       "    </tr>\n",
       "    <tr>\n",
       "      <th>3</th>\n",
       "      <td>0.694236</td>\n",
       "      <td>0.784173</td>\n",
       "      <td>0.640909</td>\n",
       "      <td>0.012658</td>\n",
       "      <td>1.0</td>\n",
       "      <td>0.655082</td>\n",
       "    </tr>\n",
       "    <tr>\n",
       "      <th>4</th>\n",
       "      <td>0.684211</td>\n",
       "      <td>0.748201</td>\n",
       "      <td>0.627273</td>\n",
       "      <td>0.000000</td>\n",
       "      <td>0.0</td>\n",
       "      <td>0.616979</td>\n",
       "    </tr>\n",
       "  </tbody>\n",
       "</table>\n",
       "</div>"
      ],
      "text/plain": [
       "   Temperatura Media (C)  Temperatura Minima (C)  Temperatura Maxima (C)  \\\n",
       "0               0.902256                0.956835                0.818182   \n",
       "1               0.884712                1.000000                0.863636   \n",
       "2               0.746867                0.848921                0.700000   \n",
       "3               0.694236                0.784173                0.640909   \n",
       "4               0.684211                0.748201                0.627273   \n",
       "\n",
       "   Precipitacao (mm)  Final de Semana  Consumo de cerveja (litros)  \n",
       "0           0.000000              0.0                     0.471221  \n",
       "1           0.000000              0.0                     0.620031  \n",
       "2           0.000000              1.0                     0.698101  \n",
       "3           0.012658              1.0                     0.655082  \n",
       "4           0.000000              0.0                     0.616979  "
      ]
     },
     "execution_count": 26,
     "metadata": {},
     "output_type": "execute_result"
    }
   ],
   "source": [
    "df_norm.head()"
   ]
  },
  {
   "cell_type": "markdown",
   "id": "da7e182d-0257-4058-94e0-58f976198058",
   "metadata": {},
   "source": [
    "**Checkpoint**"
   ]
  },
  {
   "cell_type": "code",
   "execution_count": 27,
   "id": "76d75bab-f82c-41f7-af1d-435b19e51aff",
   "metadata": {},
   "outputs": [],
   "source": [
    "df = df_norm"
   ]
  },
  {
   "cell_type": "code",
   "execution_count": 28,
   "id": "f863c913-5f8f-4c5e-ab00-747459225d42",
   "metadata": {},
   "outputs": [
    {
     "data": {
      "text/html": [
       "<div>\n",
       "<style scoped>\n",
       "    .dataframe tbody tr th:only-of-type {\n",
       "        vertical-align: middle;\n",
       "    }\n",
       "\n",
       "    .dataframe tbody tr th {\n",
       "        vertical-align: top;\n",
       "    }\n",
       "\n",
       "    .dataframe thead th {\n",
       "        text-align: right;\n",
       "    }\n",
       "</style>\n",
       "<table border=\"1\" class=\"dataframe\">\n",
       "  <thead>\n",
       "    <tr style=\"text-align: right;\">\n",
       "      <th></th>\n",
       "      <th>Temperatura Media (C)</th>\n",
       "      <th>Temperatura Minima (C)</th>\n",
       "      <th>Temperatura Maxima (C)</th>\n",
       "      <th>Precipitacao (mm)</th>\n",
       "      <th>Final de Semana</th>\n",
       "      <th>Consumo de cerveja (litros)</th>\n",
       "    </tr>\n",
       "  </thead>\n",
       "  <tbody>\n",
       "    <tr>\n",
       "      <th>count</th>\n",
       "      <td>365.000000</td>\n",
       "      <td>365.000000</td>\n",
       "      <td>365.000000</td>\n",
       "      <td>365.000000</td>\n",
       "      <td>365.000000</td>\n",
       "      <td>365.000000</td>\n",
       "    </tr>\n",
       "    <tr>\n",
       "      <th>mean</th>\n",
       "      <td>0.521702</td>\n",
       "      <td>0.493624</td>\n",
       "      <td>0.550523</td>\n",
       "      <td>0.054818</td>\n",
       "      <td>0.284932</td>\n",
       "      <td>0.468694</td>\n",
       "    </tr>\n",
       "    <tr>\n",
       "      <th>std</th>\n",
       "      <td>0.199255</td>\n",
       "      <td>0.203323</td>\n",
       "      <td>0.196244</td>\n",
       "      <td>0.130990</td>\n",
       "      <td>0.452001</td>\n",
       "      <td>0.186452</td>\n",
       "    </tr>\n",
       "    <tr>\n",
       "      <th>min</th>\n",
       "      <td>0.000000</td>\n",
       "      <td>0.000000</td>\n",
       "      <td>0.000000</td>\n",
       "      <td>0.000000</td>\n",
       "      <td>0.000000</td>\n",
       "      <td>0.000000</td>\n",
       "    </tr>\n",
       "    <tr>\n",
       "      <th>25%</th>\n",
       "      <td>0.383459</td>\n",
       "      <td>0.338129</td>\n",
       "      <td>0.422727</td>\n",
       "      <td>0.000000</td>\n",
       "      <td>0.000000</td>\n",
       "      <td>0.324871</td>\n",
       "    </tr>\n",
       "    <tr>\n",
       "      <th>50%</th>\n",
       "      <td>0.531328</td>\n",
       "      <td>0.525180</td>\n",
       "      <td>0.563636</td>\n",
       "      <td>0.000000</td>\n",
       "      <td>0.000000</td>\n",
       "      <td>0.446046</td>\n",
       "    </tr>\n",
       "    <tr>\n",
       "      <th>75%</th>\n",
       "      <td>0.650376</td>\n",
       "      <td>0.647482</td>\n",
       "      <td>0.677273</td>\n",
       "      <td>0.033755</td>\n",
       "      <td>1.000000</td>\n",
       "      <td>0.605578</td>\n",
       "    </tr>\n",
       "    <tr>\n",
       "      <th>max</th>\n",
       "      <td>1.000000</td>\n",
       "      <td>1.000000</td>\n",
       "      <td>1.000000</td>\n",
       "      <td>1.000000</td>\n",
       "      <td>1.000000</td>\n",
       "      <td>1.000000</td>\n",
       "    </tr>\n",
       "  </tbody>\n",
       "</table>\n",
       "</div>"
      ],
      "text/plain": [
       "       Temperatura Media (C)  Temperatura Minima (C)  Temperatura Maxima (C)  \\\n",
       "count             365.000000              365.000000              365.000000   \n",
       "mean                0.521702                0.493624                0.550523   \n",
       "std                 0.199255                0.203323                0.196244   \n",
       "min                 0.000000                0.000000                0.000000   \n",
       "25%                 0.383459                0.338129                0.422727   \n",
       "50%                 0.531328                0.525180                0.563636   \n",
       "75%                 0.650376                0.647482                0.677273   \n",
       "max                 1.000000                1.000000                1.000000   \n",
       "\n",
       "       Precipitacao (mm)  Final de Semana  Consumo de cerveja (litros)  \n",
       "count         365.000000       365.000000                   365.000000  \n",
       "mean            0.054818         0.284932                     0.468694  \n",
       "std             0.130990         0.452001                     0.186452  \n",
       "min             0.000000         0.000000                     0.000000  \n",
       "25%             0.000000         0.000000                     0.324871  \n",
       "50%             0.000000         0.000000                     0.446046  \n",
       "75%             0.033755         1.000000                     0.605578  \n",
       "max             1.000000         1.000000                     1.000000  "
      ]
     },
     "execution_count": 28,
     "metadata": {},
     "output_type": "execute_result"
    }
   ],
   "source": [
    "df.describe()"
   ]
  },
  {
   "cell_type": "markdown",
   "id": "dfab087a-1e54-4c21-8b8d-432274057997",
   "metadata": {},
   "source": [
    "---"
   ]
  },
  {
   "cell_type": "markdown",
   "id": "48b5a1e9-c054-46e7-8583-a1dc569a086b",
   "metadata": {},
   "source": [
    "## KNN Regressor implementation"
   ]
  },
  {
   "cell_type": "markdown",
   "id": "6a140431-05ea-42d8-bc1a-df30c03d3d95",
   "metadata": {},
   "source": [
    "#### Importing libraries"
   ]
  },
  {
   "cell_type": "code",
   "execution_count": 29,
   "id": "cfd016c2-e712-43a9-8587-3dc1c9d8d930",
   "metadata": {},
   "outputs": [],
   "source": [
    "import scipy.spatial\n",
    "from sklearn.model_selection import train_test_split"
   ]
  },
  {
   "cell_type": "markdown",
   "id": "c4ad28d7-b31a-49b0-ae89-62c93838fa14",
   "metadata": {},
   "source": [
    "#### Declare the dependent and independent variables"
   ]
  },
  {
   "cell_type": "code",
   "execution_count": 30,
   "id": "1fe54794-e219-4888-9391-f38d56e89efc",
   "metadata": {},
   "outputs": [],
   "source": [
    "data_cols = ['Temperatura Media (C)',\n",
    "             'Temperatura Minima (C)',\n",
    "             'Temperatura Maxima (C)',\n",
    "             'Precipitacao (mm)', \n",
    "             'Final de Semana']"
   ]
  },
  {
   "cell_type": "code",
   "execution_count": 31,
   "id": "413a6199-9146-4a75-b0cc-204e12f40f13",
   "metadata": {},
   "outputs": [],
   "source": [
    "X = df[data_cols].values\n",
    "y = list(df['Consumo de cerveja (litros)'])"
   ]
  },
  {
   "cell_type": "markdown",
   "id": "8f42bda7-7c31-447f-b0c3-3d2ebbe4682d",
   "metadata": {},
   "source": [
    "#### Split data in training and test data"
   ]
  },
  {
   "cell_type": "code",
   "execution_count": 32,
   "id": "87dd669a-ccc1-4bae-bfbc-588d07d77bfc",
   "metadata": {},
   "outputs": [],
   "source": [
    "X_train, X_test, y_train, y_test = train_test_split(X, y, random_state = 42, test_size = 0.3)"
   ]
  },
  {
   "cell_type": "markdown",
   "id": "b442a814-07e9-4d17-86d1-935fc16d3b82",
   "metadata": {},
   "source": [
    "#### The KNN class"
   ]
  },
  {
   "cell_type": "code",
   "execution_count": 33,
   "id": "4a52aeab-cc05-4255-9d53-5f1c7436163d",
   "metadata": {},
   "outputs": [],
   "source": [
    "# https://medium.com/analytics-vidhya/implementing-k-nearest-neighbours-knn-without-using-scikit-learn-3905b4decc3c\n",
    "class KNN:\n",
    "    def __init__(self, k):\n",
    "        self.k = k\n",
    "        \n",
    "    def fit(self, X, y):\n",
    "        self.X_train = X\n",
    "        self.y_train = y\n",
    "        \n",
    "    def mean_distance(self, X1, X2):\n",
    "        distance = scipy.spatial.distance.euclidean(X1, X2)\n",
    "    \n",
    "    def predict(self, X_test):\n",
    "        final_output = []\n",
    "        for i in range(len(X_test)):\n",
    "            d = []\n",
    "            votes = []\n",
    "            for j in range(len(X_train)):\n",
    "                dist = scipy.spatial.distance.euclidean(X_train[j] , X_test[i])\n",
    "                d.append([dist, j])\n",
    "            d.sort()\n",
    "            d = d[0:self.k]\n",
    "            sumk = 0.0\n",
    "            for d, j in d:\n",
    "                sumk += y_train[j]\n",
    "            meank = round(sumk/self.k, 3)\n",
    "            final_output.append(meank)\n",
    "        return final_output\n",
    "    \n",
    "    def mse(self, X_test, y_test):\n",
    "        predictions = self.predict(X_test)\n",
    "        sum_square = 0.0\n",
    "        n = len(X_test)\n",
    "        for i in range(n):\n",
    "            sum_square += (y_test[i] - predictions[i])**2\n",
    "        mean_square = sum_square/n\n",
    "        return mean_square\n",
    "    \n",
    "    def df_comp(self):\n",
    "        comp = pd.DataFrame()\n",
    "        comp['Previsão'] = prediction\n",
    "        comp['Observado'] = y_test\n",
    "        return comp"
   ]
  },
  {
   "cell_type": "code",
   "execution_count": null,
   "id": "5d92025a-71f7-43f0-9b66-b466339e6b0a",
   "metadata": {},
   "outputs": [],
   "source": []
  },
  {
   "cell_type": "markdown",
   "id": "a0d3eeaa-13b9-4aed-82f4-eef28615ff49",
   "metadata": {},
   "source": [
    "#### Testing the algorithm"
   ]
  },
  {
   "cell_type": "code",
   "execution_count": 34,
   "id": "6a9e965d-bbaa-4539-9205-a2c8e27551bd",
   "metadata": {},
   "outputs": [],
   "source": [
    "beer = KNN(9)\n",
    "beer.fit(X_train, y_train)\n",
    "prediction = beer.predict(X_test)\n",
    "\n",
    "# for i in range(len(prediction)):\n",
    "#     print(f\"Previsão: {prediction[i]}. Observado: {y_test[i]}\")"
   ]
  },
  {
   "cell_type": "code",
   "execution_count": 35,
   "id": "4630b82b-a86c-44f5-955d-6e828f849cf3",
   "metadata": {},
   "outputs": [
    {
     "data": {
      "text/plain": [
       "0.011643103625496509"
      ]
     },
     "execution_count": 35,
     "metadata": {},
     "output_type": "execute_result"
    }
   ],
   "source": [
    "beer.mse(X_test, y_test)"
   ]
  },
  {
   "cell_type": "code",
   "execution_count": 36,
   "id": "1a34e1bc-0532-4a18-b39d-c69a82bd1066",
   "metadata": {},
   "outputs": [
    {
     "data": {
      "text/html": [
       "<div>\n",
       "<style scoped>\n",
       "    .dataframe tbody tr th:only-of-type {\n",
       "        vertical-align: middle;\n",
       "    }\n",
       "\n",
       "    .dataframe tbody tr th {\n",
       "        vertical-align: top;\n",
       "    }\n",
       "\n",
       "    .dataframe thead th {\n",
       "        text-align: right;\n",
       "    }\n",
       "</style>\n",
       "<table border=\"1\" class=\"dataframe\">\n",
       "  <thead>\n",
       "    <tr style=\"text-align: right;\">\n",
       "      <th></th>\n",
       "      <th>Previsão</th>\n",
       "      <th>Observado</th>\n",
       "    </tr>\n",
       "  </thead>\n",
       "  <tbody>\n",
       "    <tr>\n",
       "      <th>0</th>\n",
       "      <td>0.484</td>\n",
       "      <td>0.478808</td>\n",
       "    </tr>\n",
       "    <tr>\n",
       "      <th>1</th>\n",
       "      <td>0.546</td>\n",
       "      <td>0.733746</td>\n",
       "    </tr>\n",
       "    <tr>\n",
       "      <th>2</th>\n",
       "      <td>0.548</td>\n",
       "      <td>0.660973</td>\n",
       "    </tr>\n",
       "    <tr>\n",
       "      <th>3</th>\n",
       "      <td>0.348</td>\n",
       "      <td>0.264135</td>\n",
       "    </tr>\n",
       "    <tr>\n",
       "      <th>4</th>\n",
       "      <td>0.608</td>\n",
       "      <td>0.504281</td>\n",
       "    </tr>\n",
       "  </tbody>\n",
       "</table>\n",
       "</div>"
      ],
      "text/plain": [
       "   Previsão  Observado\n",
       "0     0.484   0.478808\n",
       "1     0.546   0.733746\n",
       "2     0.548   0.660973\n",
       "3     0.348   0.264135\n",
       "4     0.608   0.504281"
      ]
     },
     "execution_count": 36,
     "metadata": {},
     "output_type": "execute_result"
    }
   ],
   "source": [
    "beer.df_comp().head()"
   ]
  },
  {
   "cell_type": "markdown",
   "id": "385a78e1-6b64-4e72-9b9f-8f0c264533ed",
   "metadata": {},
   "source": [
    "### K-neighbors analysis"
   ]
  },
  {
   "cell_type": "code",
   "execution_count": 37,
   "id": "6b3da825-dbe2-4ba4-a4de-975d9db49eaa",
   "metadata": {},
   "outputs": [
    {
     "data": {
      "text/plain": [
       "255"
      ]
     },
     "execution_count": 37,
     "metadata": {},
     "output_type": "execute_result"
    }
   ],
   "source": [
    "len(X_train)"
   ]
  },
  {
   "cell_type": "code",
   "execution_count": 38,
   "id": "7b6b497c-6808-4343-8b72-391f56f0e77d",
   "metadata": {},
   "outputs": [],
   "source": [
    "df_ks = pd.DataFrame()\n",
    "mse_ks = []\n",
    "ks = []\n",
    "n_k = 200\n",
    "for k in range(1, n_k):\n",
    "    beer = KNN(k)\n",
    "    mse_k = beer.mse(X_test, y_test)\n",
    "    mse_ks.append(mse_k)\n",
    "    ks.append(k)\n",
    "df_ks['k-neigbors'] = ks\n",
    "df_ks['MSE'] = mse_ks"
   ]
  },
  {
   "cell_type": "code",
   "execution_count": 39,
   "id": "659f3be5-175b-4618-88a8-1e96389a4cb1",
   "metadata": {},
   "outputs": [
    {
     "data": {
      "text/html": [
       "<div>\n",
       "<style scoped>\n",
       "    .dataframe tbody tr th:only-of-type {\n",
       "        vertical-align: middle;\n",
       "    }\n",
       "\n",
       "    .dataframe tbody tr th {\n",
       "        vertical-align: top;\n",
       "    }\n",
       "\n",
       "    .dataframe thead th {\n",
       "        text-align: right;\n",
       "    }\n",
       "</style>\n",
       "<table border=\"1\" class=\"dataframe\">\n",
       "  <thead>\n",
       "    <tr style=\"text-align: right;\">\n",
       "      <th></th>\n",
       "      <th>k-neigbors</th>\n",
       "      <th>MSE</th>\n",
       "    </tr>\n",
       "  </thead>\n",
       "  <tbody>\n",
       "    <tr>\n",
       "      <th>count</th>\n",
       "      <td>199.000000</td>\n",
       "      <td>199.000000</td>\n",
       "    </tr>\n",
       "    <tr>\n",
       "      <th>mean</th>\n",
       "      <td>100.000000</td>\n",
       "      <td>0.021561</td>\n",
       "    </tr>\n",
       "    <tr>\n",
       "      <th>std</th>\n",
       "      <td>57.590508</td>\n",
       "      <td>0.006247</td>\n",
       "    </tr>\n",
       "    <tr>\n",
       "      <th>min</th>\n",
       "      <td>1.000000</td>\n",
       "      <td>0.011643</td>\n",
       "    </tr>\n",
       "    <tr>\n",
       "      <th>25%</th>\n",
       "      <td>50.500000</td>\n",
       "      <td>0.016431</td>\n",
       "    </tr>\n",
       "    <tr>\n",
       "      <th>50%</th>\n",
       "      <td>100.000000</td>\n",
       "      <td>0.020572</td>\n",
       "    </tr>\n",
       "    <tr>\n",
       "      <th>75%</th>\n",
       "      <td>149.500000</td>\n",
       "      <td>0.026652</td>\n",
       "    </tr>\n",
       "    <tr>\n",
       "      <th>max</th>\n",
       "      <td>199.000000</td>\n",
       "      <td>0.032909</td>\n",
       "    </tr>\n",
       "  </tbody>\n",
       "</table>\n",
       "</div>"
      ],
      "text/plain": [
       "       k-neigbors         MSE\n",
       "count  199.000000  199.000000\n",
       "mean   100.000000    0.021561\n",
       "std     57.590508    0.006247\n",
       "min      1.000000    0.011643\n",
       "25%     50.500000    0.016431\n",
       "50%    100.000000    0.020572\n",
       "75%    149.500000    0.026652\n",
       "max    199.000000    0.032909"
      ]
     },
     "execution_count": 39,
     "metadata": {},
     "output_type": "execute_result"
    }
   ],
   "source": [
    "df_ks.describe()"
   ]
  },
  {
   "cell_type": "markdown",
   "id": "9f7ea956-1416-45d9-b861-e3b57aaacc8b",
   "metadata": {},
   "source": [
    "K neighbors that yield smallest mse"
   ]
  },
  {
   "cell_type": "code",
   "execution_count": 40,
   "id": "3e0a8094-81f5-46b0-98bb-c57d2b96efe3",
   "metadata": {},
   "outputs": [
    {
     "data": {
      "text/html": [
       "<div>\n",
       "<style scoped>\n",
       "    .dataframe tbody tr th:only-of-type {\n",
       "        vertical-align: middle;\n",
       "    }\n",
       "\n",
       "    .dataframe tbody tr th {\n",
       "        vertical-align: top;\n",
       "    }\n",
       "\n",
       "    .dataframe thead th {\n",
       "        text-align: right;\n",
       "    }\n",
       "</style>\n",
       "<table border=\"1\" class=\"dataframe\">\n",
       "  <thead>\n",
       "    <tr style=\"text-align: right;\">\n",
       "      <th></th>\n",
       "      <th>k-neigbors</th>\n",
       "      <th>MSE</th>\n",
       "    </tr>\n",
       "  </thead>\n",
       "  <tbody>\n",
       "    <tr>\n",
       "      <th>8</th>\n",
       "      <td>9</td>\n",
       "      <td>0.011643</td>\n",
       "    </tr>\n",
       "  </tbody>\n",
       "</table>\n",
       "</div>"
      ],
      "text/plain": [
       "   k-neigbors       MSE\n",
       "8           9  0.011643"
      ]
     },
     "execution_count": 40,
     "metadata": {},
     "output_type": "execute_result"
    }
   ],
   "source": [
    "min_mse = df_ks['MSE'].min()\n",
    "df_ks[df_ks['MSE']==min_mse]"
   ]
  },
  {
   "cell_type": "code",
   "execution_count": 41,
   "id": "9e9ad46d-4a24-44d2-a0c4-b5db1f30e58e",
   "metadata": {},
   "outputs": [
    {
     "data": {
      "text/plain": [
       "<AxesSubplot:xlabel='k-neigbors', ylabel='MSE'>"
      ]
     },
     "execution_count": 41,
     "metadata": {},
     "output_type": "execute_result"
    },
    {
     "data": {
      "image/png": "[encoded data removed]",
      "text/plain": [
       "<Figure size 432x288 with 1 Axes>"
      ]
     },
     "metadata": {},
     "output_type": "display_data"
    }
   ],
   "source": [
    "x_axis = df_ks['k-neigbors']\n",
    "y_axis = df_ks['MSE']\n",
    "\n",
    "sns.scatterplot(x=x_axis, y=y_axis)"
   ]
  },
  {
   "cell_type": "code",
   "execution_count": 42,
   "id": "8a3a0af9-e7cb-435c-8743-624ce2435773",
   "metadata": {},
   "outputs": [
    {
     "data": {
      "text/plain": [
       "<AxesSubplot:xlabel='k-neigbors', ylabel='MSE'>"
      ]
     },
     "execution_count": 42,
     "metadata": {},
     "output_type": "execute_result"
    },
    {
     "data": {
      "image/png": "[encoded data removed]",
      "text/plain": [
       "<Figure size 432x288 with 1 Axes>"
      ]
     },
     "metadata": {},
     "output_type": "display_data"
    }
   ],
   "source": [
    "n_linhas = 40\n",
    "x_axis = df_ks['k-neigbors'].loc[:n_linhas]\n",
    "y_axis = df_ks['MSE'].loc[:n_linhas]\n",
    "\n",
    "sns.scatterplot(x=x_axis, y=y_axis)"
   ]
  },
  {
   "cell_type": "code",
   "execution_count": null,
   "id": "b19110aa-7ac7-4493-8a2d-cd79ad63e948",
   "metadata": {},
   "outputs": [],
   "source": []
  },
  {
   "cell_type": "markdown",
   "id": "d0f1752d-0e1f-42dc-95bf-01ec47a78ed7",
   "metadata": {},
   "source": [
    "---"
   ]
  },
  {
   "cell_type": "markdown",
   "id": "e53cc12e-650d-449a-a790-6586e524d8c2",
   "metadata": {},
   "source": [
    "## K-means"
   ]
  },
  {
   "cell_type": "markdown",
   "id": "8e98edc8-7724-4769-8c97-98438635f3ec",
   "metadata": {},
   "source": [
    "### Import libraries"
   ]
  },
  {
   "cell_type": "code",
   "execution_count": 43,
   "id": "8b4c832e-ab94-4cd6-8be3-e31da27d049f",
   "metadata": {},
   "outputs": [],
   "source": [
    "from sklearn.cluster import KMeans\n",
    "from sklearn.metrics import silhouette_score"
   ]
  },
  {
   "cell_type": "markdown",
   "id": "206a45f1-88db-424b-afc4-0c43b81ed70d",
   "metadata": {},
   "source": [
    "### The Elbow Method"
   ]
  },
  {
   "cell_type": "code",
   "execution_count": 44,
   "id": "9b44386f-900f-421d-ba74-ed00c2edbaec",
   "metadata": {},
   "outputs": [],
   "source": [
    "n_clusters = [2,3,4,5,6,7,8,9,10] # number of clusters\n",
    "clusters_inertia = [] # inertia of clusters\n",
    "s_scores = [] # silhouette scores\n",
    "\n",
    "for n in n_clusters:\n",
    "    KM_est = KMeans(n_clusters=n, init='k-means++').fit(df)\n",
    "    clusters_inertia.append(KM_est.inertia_)    # data for the elbow method\n",
    "    silhouette_avg = silhouette_score(df, KM_est.labels_)\n",
    "    s_scores.append(silhouette_avg) # data for the silhouette score method"
   ]
  },
  {
   "cell_type": "code",
   "execution_count": 45,
   "id": "c55a9401-5f32-49a0-854b-5ab6fad42673",
   "metadata": {},
   "outputs": [
    {
     "data": {
      "image/png": "[encoded data removed]",
      "text/plain": [
       "<Figure size 864x360 with 1 Axes>"
      ]
     },
     "metadata": {},
     "output_type": "display_data"
    }
   ],
   "source": [
    "fig, ax = plt.subplots(figsize=(12,5))\n",
    "ax = sns.lineplot(x=n_clusters, y=clusters_inertia, marker='o', ax=ax)\n",
    "ax.set_title(\"Elbow method\")\n",
    "ax.set_xlabel(\"number of clusters\")\n",
    "ax.set_ylabel(\"clusters inertia\")\n",
    "\n",
    "plt.show()"
   ]
  },
  {
   "cell_type": "markdown",
   "id": "397ab658-ae6d-4df1-842e-f2beafdfdcbc",
   "metadata": {},
   "source": [
    "### Clustering results"
   ]
  },
  {
   "cell_type": "code",
   "execution_count": 46,
   "id": "e5cc8a1d-d877-4e8b-b010-6858933eebc2",
   "metadata": {},
   "outputs": [
    {
     "data": {
      "text/plain": [
       "KMeans(n_clusters=3)"
      ]
     },
     "execution_count": 46,
     "metadata": {},
     "output_type": "execute_result"
    }
   ],
   "source": [
    "Kmean = KMeans(n_clusters=3)\n",
    "Kmean.fit(df)"
   ]
  },
  {
   "cell_type": "code",
   "execution_count": 47,
   "id": "7803a47d-d0a2-4b44-90a7-e89c4462ccd1",
   "metadata": {},
   "outputs": [
    {
     "data": {
      "text/plain": [
       "array([[5.05687295e-01, 4.74474267e-01, 5.38024476e-01, 5.51464622e-02,\n",
       "        1.00000000e+00, 6.17941899e-01],\n",
       "       [6.70890513e-01, 6.36363636e-01, 6.88397966e-01, 6.20002361e-02,\n",
       "        2.22044605e-16, 4.98339924e-01],\n",
       "       [3.55018903e-01, 3.37519815e-01, 3.94453005e-01, 4.58235000e-02,\n",
       "        1.66533454e-16, 3.01226755e-01]])"
      ]
     },
     "execution_count": 47,
     "metadata": {},
     "output_type": "execute_result"
    }
   ],
   "source": [
    "Kmean.cluster_centers_"
   ]
  },
  {
   "cell_type": "code",
   "execution_count": 48,
   "id": "4ad11ade-dbbf-4c58-8cda-d01d5791a963",
   "metadata": {},
   "outputs": [
    {
     "data": {
      "text/plain": [
       "array([1, 1, 0, 0, 1, 1, 1, 1, 1, 0, 0, 1, 1, 1, 1, 1, 0, 0, 1, 1, 1, 1,\n",
       "       1, 0, 0, 1, 1, 1, 1, 1, 0, 0, 1, 1, 1, 2, 2, 0, 0, 1, 1, 1, 1, 1,\n",
       "       0, 0, 1, 1, 1, 1, 1, 0, 0, 1, 1, 1, 1, 1, 0, 0, 1, 1, 1, 1, 1, 0,\n",
       "       0, 2, 1, 1, 1, 1, 0, 0, 1, 1, 2, 1, 1, 0, 0, 2, 2, 1, 1, 1, 0, 0,\n",
       "       1, 1, 1, 2, 2, 0, 0, 1, 2, 2, 2, 2, 0, 0, 2, 1, 1, 1, 1, 0, 0, 1,\n",
       "       1, 2, 1, 1, 0, 0, 2, 2, 2, 2, 2, 0, 0, 2, 2, 2, 2, 2, 0, 0, 2, 2,\n",
       "       2, 2, 2, 0, 0, 2, 2, 2, 2, 2, 0, 0, 1, 1, 1, 2, 2, 0, 0, 2, 2, 2,\n",
       "       2, 2, 0, 0, 2, 2, 2, 1, 2, 0, 0, 2, 2, 2, 2, 2, 0, 0, 2, 2, 2, 2,\n",
       "       2, 0, 0, 2, 2, 2, 2, 2, 0, 0, 2, 2, 2, 2, 2, 0, 0, 1, 1, 1, 2, 2,\n",
       "       0, 0, 2, 2, 2, 2, 2, 0, 0, 2, 2, 2, 2, 2, 0, 0, 2, 2, 2, 1, 1, 0,\n",
       "       0, 2, 2, 2, 2, 2, 0, 0, 2, 2, 1, 2, 2, 0, 0, 2, 2, 2, 2, 2, 0, 0,\n",
       "       1, 1, 2, 2, 2, 0, 0, 2, 2, 2, 2, 2, 0, 0, 2, 1, 1, 1, 1, 0, 0, 1,\n",
       "       1, 1, 1, 1, 0, 0, 2, 1, 1, 2, 1, 0, 0, 2, 2, 1, 1, 1, 0, 0, 1, 1,\n",
       "       1, 1, 1, 0, 0, 2, 1, 1, 2, 1, 0, 0, 1, 1, 2, 2, 1, 0, 0, 1, 1, 1,\n",
       "       1, 2, 0, 0, 1, 1, 1, 1, 1, 0, 0, 1, 1, 1, 1, 1, 0, 0, 2, 2, 1, 1,\n",
       "       1, 0, 0, 2, 2, 1, 1, 1, 0, 0, 2, 1, 1, 1, 1, 0, 0, 1, 1, 1, 1, 1,\n",
       "       0, 0, 1, 1, 1, 1, 1, 0, 0, 1, 1, 2, 1], dtype=int32)"
      ]
     },
     "execution_count": 48,
     "metadata": {},
     "output_type": "execute_result"
    }
   ],
   "source": [
    "identified_clusters = Kmean.labels_\n",
    "identified_clusters"
   ]
  },
  {
   "cell_type": "code",
   "execution_count": 49,
   "id": "2a22f937-f76b-4d9a-95cf-bdfb5eb1fc22",
   "metadata": {},
   "outputs": [
    {
     "data": {
      "text/html": [
       "<div>\n",
       "<style scoped>\n",
       "    .dataframe tbody tr th:only-of-type {\n",
       "        vertical-align: middle;\n",
       "    }\n",
       "\n",
       "    .dataframe tbody tr th {\n",
       "        vertical-align: top;\n",
       "    }\n",
       "\n",
       "    .dataframe thead th {\n",
       "        text-align: right;\n",
       "    }\n",
       "</style>\n",
       "<table border=\"1\" class=\"dataframe\">\n",
       "  <thead>\n",
       "    <tr style=\"text-align: right;\">\n",
       "      <th></th>\n",
       "      <th>Temperatura Media (C)</th>\n",
       "      <th>Temperatura Minima (C)</th>\n",
       "      <th>Temperatura Maxima (C)</th>\n",
       "      <th>Precipitacao (mm)</th>\n",
       "      <th>Final de Semana</th>\n",
       "      <th>Consumo de cerveja (litros)</th>\n",
       "      <th>Cluster</th>\n",
       "    </tr>\n",
       "  </thead>\n",
       "  <tbody>\n",
       "    <tr>\n",
       "      <th>0</th>\n",
       "      <td>0.902256</td>\n",
       "      <td>0.956835</td>\n",
       "      <td>0.818182</td>\n",
       "      <td>0.000000</td>\n",
       "      <td>0.0</td>\n",
       "      <td>0.471221</td>\n",
       "      <td>1</td>\n",
       "    </tr>\n",
       "    <tr>\n",
       "      <th>1</th>\n",
       "      <td>0.884712</td>\n",
       "      <td>1.000000</td>\n",
       "      <td>0.863636</td>\n",
       "      <td>0.000000</td>\n",
       "      <td>0.0</td>\n",
       "      <td>0.620031</td>\n",
       "      <td>1</td>\n",
       "    </tr>\n",
       "    <tr>\n",
       "      <th>2</th>\n",
       "      <td>0.746867</td>\n",
       "      <td>0.848921</td>\n",
       "      <td>0.700000</td>\n",
       "      <td>0.000000</td>\n",
       "      <td>1.0</td>\n",
       "      <td>0.698101</td>\n",
       "      <td>0</td>\n",
       "    </tr>\n",
       "    <tr>\n",
       "      <th>3</th>\n",
       "      <td>0.694236</td>\n",
       "      <td>0.784173</td>\n",
       "      <td>0.640909</td>\n",
       "      <td>0.012658</td>\n",
       "      <td>1.0</td>\n",
       "      <td>0.655082</td>\n",
       "      <td>0</td>\n",
       "    </tr>\n",
       "    <tr>\n",
       "      <th>4</th>\n",
       "      <td>0.684211</td>\n",
       "      <td>0.748201</td>\n",
       "      <td>0.627273</td>\n",
       "      <td>0.000000</td>\n",
       "      <td>0.0</td>\n",
       "      <td>0.616979</td>\n",
       "      <td>1</td>\n",
       "    </tr>\n",
       "  </tbody>\n",
       "</table>\n",
       "</div>"
      ],
      "text/plain": [
       "   Temperatura Media (C)  Temperatura Minima (C)  Temperatura Maxima (C)  \\\n",
       "0               0.902256                0.956835                0.818182   \n",
       "1               0.884712                1.000000                0.863636   \n",
       "2               0.746867                0.848921                0.700000   \n",
       "3               0.694236                0.784173                0.640909   \n",
       "4               0.684211                0.748201                0.627273   \n",
       "\n",
       "   Precipitacao (mm)  Final de Semana  Consumo de cerveja (litros)  Cluster  \n",
       "0           0.000000              0.0                     0.471221        1  \n",
       "1           0.000000              0.0                     0.620031        1  \n",
       "2           0.000000              1.0                     0.698101        0  \n",
       "3           0.012658              1.0                     0.655082        0  \n",
       "4           0.000000              0.0                     0.616979        1  "
      ]
     },
     "execution_count": 49,
     "metadata": {},
     "output_type": "execute_result"
    }
   ],
   "source": [
    "data_with_cluster = df.copy()\n",
    "data_with_cluster['Cluster'] = identified_clusters\n",
    "data_with_cluster.head()"
   ]
  },
  {
   "cell_type": "markdown",
   "id": "78c09d31-61d4-4b19-9831-826ef69cceb6",
   "metadata": {},
   "source": [
    "---"
   ]
  }
 ],
 "metadata": {
  "kernelspec": {
   "display_name": "Python 3",
   "language": "python",
   "name": "python3"
  },
  "language_info": {
   "codemirror_mode": {
    "name": "ipython",
    "version": 3
   },
   "file_extension": ".py",
   "mimetype": "text/x-python",
   "name": "python",
   "nbconvert_exporter": "python",
   "pygments_lexer": "ipython3",
   "version": "3.8.10"
  }
 },
 "nbformat": 4,
 "nbformat_minor": 5
}
