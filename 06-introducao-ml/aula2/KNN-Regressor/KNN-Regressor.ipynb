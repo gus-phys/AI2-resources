{
 "cells": [
  {
   "cell_type": "markdown",
   "id": "d790b50a-bb2a-49c1-b2bb-c29c0b345429",
   "metadata": {},
   "source": [
    "# Beer Consumption"
   ]
  },
  {
   "cell_type": "markdown",
   "id": "eaa12a1a-3d7a-481b-9ef2-85bdefa4f3e3",
   "metadata": {},
   "source": [
    "## Libraries"
   ]
  },
  {
   "cell_type": "code",
   "execution_count": 1,
   "id": "50c18389-432c-42f4-9f2c-9530eaf21ba9",
   "metadata": {},
   "outputs": [],
   "source": [
    "import pandas as pd\n",
    "import numpy as np"
   ]
  },
  {
   "cell_type": "markdown",
   "id": "8b0510ac-32a7-437e-b9cd-ed3318465b2f",
   "metadata": {},
   "source": [
    "## Read dataset"
   ]
  },
  {
   "cell_type": "code",
   "execution_count": 2,
   "id": "77455393-d74c-4450-8197-5265a4d1cb79",
   "metadata": {},
   "outputs": [],
   "source": [
    "data_path = 'dataset/Consumo_cerveja.csv'"
   ]
  },
  {
   "cell_type": "code",
   "execution_count": 4,
   "id": "8823fd9c-e1f5-4006-97d7-4da0afe9dc00",
   "metadata": {},
   "outputs": [],
   "source": [
    "raw_data = pd.read_csv(data_path)"
   ]
  },
  {
   "cell_type": "code",
   "execution_count": 5,
   "id": "dcba3d0a-d58f-47e6-9b93-098c886f8a68",
   "metadata": {},
   "outputs": [
    {
     "data": {
      "text/html": [
       "<div>\n",
       "<style scoped>\n",
       "    .dataframe tbody tr th:only-of-type {\n",
       "        vertical-align: middle;\n",
       "    }\n",
       "\n",
       "    .dataframe tbody tr th {\n",
       "        vertical-align: top;\n",
       "    }\n",
       "\n",
       "    .dataframe thead th {\n",
       "        text-align: right;\n",
       "    }\n",
       "</style>\n",
       "<table border=\"1\" class=\"dataframe\">\n",
       "  <thead>\n",
       "    <tr style=\"text-align: right;\">\n",
       "      <th></th>\n",
       "      <th>Data</th>\n",
       "      <th>Temperatura Media (C)</th>\n",
       "      <th>Temperatura Minima (C)</th>\n",
       "      <th>Temperatura Maxima (C)</th>\n",
       "      <th>Precipitacao (mm)</th>\n",
       "      <th>Final de Semana</th>\n",
       "      <th>Consumo de cerveja (litros)</th>\n",
       "    </tr>\n",
       "  </thead>\n",
       "  <tbody>\n",
       "    <tr>\n",
       "      <th>0</th>\n",
       "      <td>2015-01-01</td>\n",
       "      <td>27,3</td>\n",
       "      <td>23,9</td>\n",
       "      <td>32,5</td>\n",
       "      <td>0</td>\n",
       "      <td>0.0</td>\n",
       "      <td>25.461</td>\n",
       "    </tr>\n",
       "    <tr>\n",
       "      <th>1</th>\n",
       "      <td>2015-01-02</td>\n",
       "      <td>27,02</td>\n",
       "      <td>24,5</td>\n",
       "      <td>33,5</td>\n",
       "      <td>0</td>\n",
       "      <td>0.0</td>\n",
       "      <td>28.972</td>\n",
       "    </tr>\n",
       "    <tr>\n",
       "      <th>2</th>\n",
       "      <td>2015-01-03</td>\n",
       "      <td>24,82</td>\n",
       "      <td>22,4</td>\n",
       "      <td>29,9</td>\n",
       "      <td>0</td>\n",
       "      <td>1.0</td>\n",
       "      <td>30.814</td>\n",
       "    </tr>\n",
       "    <tr>\n",
       "      <th>3</th>\n",
       "      <td>2015-01-04</td>\n",
       "      <td>23,98</td>\n",
       "      <td>21,5</td>\n",
       "      <td>28,6</td>\n",
       "      <td>1,2</td>\n",
       "      <td>1.0</td>\n",
       "      <td>29.799</td>\n",
       "    </tr>\n",
       "    <tr>\n",
       "      <th>4</th>\n",
       "      <td>2015-01-05</td>\n",
       "      <td>23,82</td>\n",
       "      <td>21</td>\n",
       "      <td>28,3</td>\n",
       "      <td>0</td>\n",
       "      <td>0.0</td>\n",
       "      <td>28.900</td>\n",
       "    </tr>\n",
       "    <tr>\n",
       "      <th>...</th>\n",
       "      <td>...</td>\n",
       "      <td>...</td>\n",
       "      <td>...</td>\n",
       "      <td>...</td>\n",
       "      <td>...</td>\n",
       "      <td>...</td>\n",
       "      <td>...</td>\n",
       "    </tr>\n",
       "    <tr>\n",
       "      <th>936</th>\n",
       "      <td>NaN</td>\n",
       "      <td>NaN</td>\n",
       "      <td>NaN</td>\n",
       "      <td>NaN</td>\n",
       "      <td>NaN</td>\n",
       "      <td>NaN</td>\n",
       "      <td>NaN</td>\n",
       "    </tr>\n",
       "    <tr>\n",
       "      <th>937</th>\n",
       "      <td>NaN</td>\n",
       "      <td>NaN</td>\n",
       "      <td>NaN</td>\n",
       "      <td>NaN</td>\n",
       "      <td>NaN</td>\n",
       "      <td>NaN</td>\n",
       "      <td>NaN</td>\n",
       "    </tr>\n",
       "    <tr>\n",
       "      <th>938</th>\n",
       "      <td>NaN</td>\n",
       "      <td>NaN</td>\n",
       "      <td>NaN</td>\n",
       "      <td>NaN</td>\n",
       "      <td>NaN</td>\n",
       "      <td>NaN</td>\n",
       "      <td>NaN</td>\n",
       "    </tr>\n",
       "    <tr>\n",
       "      <th>939</th>\n",
       "      <td>NaN</td>\n",
       "      <td>NaN</td>\n",
       "      <td>NaN</td>\n",
       "      <td>NaN</td>\n",
       "      <td>NaN</td>\n",
       "      <td>NaN</td>\n",
       "      <td>NaN</td>\n",
       "    </tr>\n",
       "    <tr>\n",
       "      <th>940</th>\n",
       "      <td>NaN</td>\n",
       "      <td>NaN</td>\n",
       "      <td>NaN</td>\n",
       "      <td>NaN</td>\n",
       "      <td>NaN</td>\n",
       "      <td>NaN</td>\n",
       "      <td>NaN</td>\n",
       "    </tr>\n",
       "  </tbody>\n",
       "</table>\n",
       "<p>941 rows × 7 columns</p>\n",
       "</div>"
      ],
      "text/plain": [
       "           Data Temperatura Media (C) Temperatura Minima (C)  \\\n",
       "0    2015-01-01                  27,3                   23,9   \n",
       "1    2015-01-02                 27,02                   24,5   \n",
       "2    2015-01-03                 24,82                   22,4   \n",
       "3    2015-01-04                 23,98                   21,5   \n",
       "4    2015-01-05                 23,82                     21   \n",
       "..          ...                   ...                    ...   \n",
       "936         NaN                   NaN                    NaN   \n",
       "937         NaN                   NaN                    NaN   \n",
       "938         NaN                   NaN                    NaN   \n",
       "939         NaN                   NaN                    NaN   \n",
       "940         NaN                   NaN                    NaN   \n",
       "\n",
       "    Temperatura Maxima (C) Precipitacao (mm)  Final de Semana  \\\n",
       "0                     32,5                 0              0.0   \n",
       "1                     33,5                 0              0.0   \n",
       "2                     29,9                 0              1.0   \n",
       "3                     28,6               1,2              1.0   \n",
       "4                     28,3                 0              0.0   \n",
       "..                     ...               ...              ...   \n",
       "936                    NaN               NaN              NaN   \n",
       "937                    NaN               NaN              NaN   \n",
       "938                    NaN               NaN              NaN   \n",
       "939                    NaN               NaN              NaN   \n",
       "940                    NaN               NaN              NaN   \n",
       "\n",
       "     Consumo de cerveja (litros)  \n",
       "0                         25.461  \n",
       "1                         28.972  \n",
       "2                         30.814  \n",
       "3                         29.799  \n",
       "4                         28.900  \n",
       "..                           ...  \n",
       "936                          NaN  \n",
       "937                          NaN  \n",
       "938                          NaN  \n",
       "939                          NaN  \n",
       "940                          NaN  \n",
       "\n",
       "[941 rows x 7 columns]"
      ]
     },
     "execution_count": 5,
     "metadata": {},
     "output_type": "execute_result"
    }
   ],
   "source": [
    "raw_data"
   ]
  },
  {
   "cell_type": "markdown",
   "id": "945c972f-65c6-4205-8519-c2bdbf88d8ee",
   "metadata": {},
   "source": [
    "## Pre-processing"
   ]
  },
  {
   "cell_type": "markdown",
   "id": "dc46162e-7d2f-423b-9f26-e0f9bc68db1c",
   "metadata": {},
   "source": [
    "### Dropna"
   ]
  },
  {
   "cell_type": "code",
   "execution_count": 21,
   "id": "74be60d2-326e-4fbc-a250-fa1c9e1ccc34",
   "metadata": {},
   "outputs": [
    {
     "data": {
      "text/plain": [
       "Data                           0\n",
       "Temperatura Media (C)          0\n",
       "Temperatura Minima (C)         0\n",
       "Temperatura Maxima (C)         0\n",
       "Precipitacao (mm)              0\n",
       "Final de Semana                0\n",
       "Consumo de cerveja (litros)    0\n",
       "dtype: int64"
      ]
     },
     "execution_count": 21,
     "metadata": {},
     "output_type": "execute_result"
    }
   ],
   "source": [
    "raw_data.isna().sum()"
   ]
  },
  {
   "cell_type": "code",
   "execution_count": 10,
   "id": "812ee329-663d-4610-8122-419043fd9d3c",
   "metadata": {},
   "outputs": [],
   "source": [
    "raw_data.dropna(axis=0, how='all', inplace=True)"
   ]
  },
  {
   "cell_type": "code",
   "execution_count": 12,
   "id": "8cba1261-6162-4b64-af95-e90372f22a6e",
   "metadata": {},
   "outputs": [
    {
     "data": {
      "text/plain": [
       "Data                           0\n",
       "Temperatura Media (C)          0\n",
       "Temperatura Minima (C)         0\n",
       "Temperatura Maxima (C)         0\n",
       "Precipitacao (mm)              0\n",
       "Final de Semana                0\n",
       "Consumo de cerveja (litros)    0\n",
       "dtype: int64"
      ]
     },
     "execution_count": 12,
     "metadata": {},
     "output_type": "execute_result"
    }
   ],
   "source": [
    "raw_data.isna().sum()"
   ]
  },
  {
   "cell_type": "markdown",
   "id": "495092c2-0789-474e-aa4e-bc32a15a1f85",
   "metadata": {},
   "source": [
    "### Check for zeros"
   ]
  },
  {
   "cell_type": "code",
   "execution_count": 22,
   "id": "d8b99ac3-7a0c-417c-8be0-24132ad2918a",
   "metadata": {},
   "outputs": [
    {
     "data": {
      "text/plain": [
       "Data                             0\n",
       "Temperatura Media (C)            0\n",
       "Temperatura Minima (C)           0\n",
       "Temperatura Maxima (C)           0\n",
       "Precipitacao (mm)                0\n",
       "Final de Semana                261\n",
       "Consumo de cerveja (litros)      0\n",
       "dtype: int64"
      ]
     },
     "execution_count": 22,
     "metadata": {},
     "output_type": "execute_result"
    }
   ],
   "source": [
    "(raw_data==0).sum()"
   ]
  },
  {
   "cell_type": "markdown",
   "id": "0f1c46cf-800e-417c-b7d5-f9c77e5f2d88",
   "metadata": {},
   "source": [
    "### Replace comma by dot"
   ]
  },
  {
   "cell_type": "code",
   "execution_count": 26,
   "id": "f1146389-8061-4ea6-9f08-d5ac4a3f5e0c",
   "metadata": {},
   "outputs": [],
   "source": [
    "def real_brazilian_to_float(numeric_string):\n",
    "    \"\"\"Converte valores numérios no formato brasileiro 1.234,56 para float\"\"\"\n",
    "    try:\n",
    "        return float(numeric_string.replace(\".\", \"\").replace(\",\", \".\"))\n",
    "    except:\n",
    "        return numeric_string "
   ]
  },
  {
   "cell_type": "code",
   "execution_count": 37,
   "id": "d881b817-7bd8-498e-a749-7ceeea5a8ca3",
   "metadata": {},
   "outputs": [],
   "source": [
    "cols_to_dot = ['Temperatura Media (C)',\n",
    "               'Temperatura Minima (C)',\n",
    "               'Temperatura Maxima (C)',\n",
    "               'Precipitacao (mm)']"
   ]
  },
  {
   "cell_type": "code",
   "execution_count": 38,
   "id": "ed9caad4-0911-46e0-a8b5-e5830c62e60d",
   "metadata": {},
   "outputs": [],
   "source": [
    "for cols in cols_to_dot:\n",
    "    raw_data[cols] = raw_data[cols].apply(real_brazilian_to_float)"
   ]
  },
  {
   "cell_type": "markdown",
   "id": "0728382b-9937-47c8-9f9c-e8a18e0967d6",
   "metadata": {},
   "source": [
    "### Convert 'Data' column type"
   ]
  },
  {
   "cell_type": "code",
   "execution_count": 46,
   "id": "e6dbd9ed-ff74-46e6-887b-0e3f7b5b250a",
   "metadata": {},
   "outputs": [
    {
     "name": "stdout",
     "output_type": "stream",
     "text": [
      "<class 'pandas.core.frame.DataFrame'>\n",
      "Int64Index: 365 entries, 0 to 364\n",
      "Data columns (total 7 columns):\n",
      " #   Column                       Non-Null Count  Dtype  \n",
      "---  ------                       --------------  -----  \n",
      " 0   Data                         365 non-null    object \n",
      " 1   Temperatura Media (C)        365 non-null    float64\n",
      " 2   Temperatura Minima (C)       365 non-null    float64\n",
      " 3   Temperatura Maxima (C)       365 non-null    float64\n",
      " 4   Precipitacao (mm)            365 non-null    float64\n",
      " 5   Final de Semana              365 non-null    float64\n",
      " 6   Consumo de cerveja (litros)  365 non-null    float64\n",
      "dtypes: float64(6), object(1)\n",
      "memory usage: 22.8+ KB\n"
     ]
    }
   ],
   "source": [
    "raw_data.info()"
   ]
  },
  {
   "cell_type": "code",
   "execution_count": 50,
   "id": "f2385617-f56d-4390-9fb4-238a6010895a",
   "metadata": {},
   "outputs": [],
   "source": [
    "raw_data['Data'] = raw_data['Data'].astype('datetime64[ns]')"
   ]
  },
  {
   "cell_type": "code",
   "execution_count": 51,
   "id": "5cc22c38-1041-426a-a5fb-549333ec4835",
   "metadata": {},
   "outputs": [
    {
     "name": "stdout",
     "output_type": "stream",
     "text": [
      "<class 'pandas.core.frame.DataFrame'>\n",
      "Int64Index: 365 entries, 0 to 364\n",
      "Data columns (total 7 columns):\n",
      " #   Column                       Non-Null Count  Dtype         \n",
      "---  ------                       --------------  -----         \n",
      " 0   Data                         365 non-null    datetime64[ns]\n",
      " 1   Temperatura Media (C)        365 non-null    float64       \n",
      " 2   Temperatura Minima (C)       365 non-null    float64       \n",
      " 3   Temperatura Maxima (C)       365 non-null    float64       \n",
      " 4   Precipitacao (mm)            365 non-null    float64       \n",
      " 5   Final de Semana              365 non-null    float64       \n",
      " 6   Consumo de cerveja (litros)  365 non-null    float64       \n",
      "dtypes: datetime64[ns](1), float64(6)\n",
      "memory usage: 22.8 KB\n"
     ]
    }
   ],
   "source": [
    "raw_data.info()"
   ]
  },
  {
   "cell_type": "markdown",
   "id": "a4aadaa1-18d6-4545-9fcc-134f14ecc3bf",
   "metadata": {},
   "source": [
    "**Checkpoint**"
   ]
  },
  {
   "cell_type": "code",
   "execution_count": 52,
   "id": "6afbe983-0ddd-4ffd-ab77-1e52fe0965b1",
   "metadata": {},
   "outputs": [],
   "source": [
    "df = raw_data.copy()"
   ]
  },
  {
   "cell_type": "code",
   "execution_count": 54,
   "id": "9960d583-9327-45c2-a1d2-b18fefbcc1dd",
   "metadata": {},
   "outputs": [
    {
     "data": {
      "text/html": [
       "<div>\n",
       "<style scoped>\n",
       "    .dataframe tbody tr th:only-of-type {\n",
       "        vertical-align: middle;\n",
       "    }\n",
       "\n",
       "    .dataframe tbody tr th {\n",
       "        vertical-align: top;\n",
       "    }\n",
       "\n",
       "    .dataframe thead th {\n",
       "        text-align: right;\n",
       "    }\n",
       "</style>\n",
       "<table border=\"1\" class=\"dataframe\">\n",
       "  <thead>\n",
       "    <tr style=\"text-align: right;\">\n",
       "      <th></th>\n",
       "      <th>Temperatura Media (C)</th>\n",
       "      <th>Temperatura Minima (C)</th>\n",
       "      <th>Temperatura Maxima (C)</th>\n",
       "      <th>Precipitacao (mm)</th>\n",
       "      <th>Final de Semana</th>\n",
       "      <th>Consumo de cerveja (litros)</th>\n",
       "    </tr>\n",
       "  </thead>\n",
       "  <tbody>\n",
       "    <tr>\n",
       "      <th>count</th>\n",
       "      <td>365.000000</td>\n",
       "      <td>365.000000</td>\n",
       "      <td>365.000000</td>\n",
       "      <td>365.000000</td>\n",
       "      <td>365.000000</td>\n",
       "      <td>365.000000</td>\n",
       "    </tr>\n",
       "    <tr>\n",
       "      <th>mean</th>\n",
       "      <td>21.226356</td>\n",
       "      <td>17.461370</td>\n",
       "      <td>26.611507</td>\n",
       "      <td>5.196712</td>\n",
       "      <td>0.284932</td>\n",
       "      <td>25.401367</td>\n",
       "    </tr>\n",
       "    <tr>\n",
       "      <th>std</th>\n",
       "      <td>3.180108</td>\n",
       "      <td>2.826185</td>\n",
       "      <td>4.317366</td>\n",
       "      <td>12.417844</td>\n",
       "      <td>0.452001</td>\n",
       "      <td>4.399143</td>\n",
       "    </tr>\n",
       "    <tr>\n",
       "      <th>min</th>\n",
       "      <td>12.900000</td>\n",
       "      <td>10.600000</td>\n",
       "      <td>14.500000</td>\n",
       "      <td>0.000000</td>\n",
       "      <td>0.000000</td>\n",
       "      <td>14.343000</td>\n",
       "    </tr>\n",
       "    <tr>\n",
       "      <th>25%</th>\n",
       "      <td>19.020000</td>\n",
       "      <td>15.300000</td>\n",
       "      <td>23.800000</td>\n",
       "      <td>0.000000</td>\n",
       "      <td>0.000000</td>\n",
       "      <td>22.008000</td>\n",
       "    </tr>\n",
       "    <tr>\n",
       "      <th>50%</th>\n",
       "      <td>21.380000</td>\n",
       "      <td>17.900000</td>\n",
       "      <td>26.900000</td>\n",
       "      <td>0.000000</td>\n",
       "      <td>0.000000</td>\n",
       "      <td>24.867000</td>\n",
       "    </tr>\n",
       "    <tr>\n",
       "      <th>75%</th>\n",
       "      <td>23.280000</td>\n",
       "      <td>19.600000</td>\n",
       "      <td>29.400000</td>\n",
       "      <td>3.200000</td>\n",
       "      <td>1.000000</td>\n",
       "      <td>28.631000</td>\n",
       "    </tr>\n",
       "    <tr>\n",
       "      <th>max</th>\n",
       "      <td>28.860000</td>\n",
       "      <td>24.500000</td>\n",
       "      <td>36.500000</td>\n",
       "      <td>94.800000</td>\n",
       "      <td>1.000000</td>\n",
       "      <td>37.937000</td>\n",
       "    </tr>\n",
       "  </tbody>\n",
       "</table>\n",
       "</div>"
      ],
      "text/plain": [
       "       Temperatura Media (C)  Temperatura Minima (C)  Temperatura Maxima (C)  \\\n",
       "count             365.000000              365.000000              365.000000   \n",
       "mean               21.226356               17.461370               26.611507   \n",
       "std                 3.180108                2.826185                4.317366   \n",
       "min                12.900000               10.600000               14.500000   \n",
       "25%                19.020000               15.300000               23.800000   \n",
       "50%                21.380000               17.900000               26.900000   \n",
       "75%                23.280000               19.600000               29.400000   \n",
       "max                28.860000               24.500000               36.500000   \n",
       "\n",
       "       Precipitacao (mm)  Final de Semana  Consumo de cerveja (litros)  \n",
       "count         365.000000       365.000000                   365.000000  \n",
       "mean            5.196712         0.284932                    25.401367  \n",
       "std            12.417844         0.452001                     4.399143  \n",
       "min             0.000000         0.000000                    14.343000  \n",
       "25%             0.000000         0.000000                    22.008000  \n",
       "50%             0.000000         0.000000                    24.867000  \n",
       "75%             3.200000         1.000000                    28.631000  \n",
       "max            94.800000         1.000000                    37.937000  "
      ]
     },
     "execution_count": 54,
     "metadata": {},
     "output_type": "execute_result"
    }
   ],
   "source": [
    "df.describe()"
   ]
  },
  {
   "cell_type": "markdown",
   "id": "dfab087a-1e54-4c21-8b8d-432274057997",
   "metadata": {},
   "source": [
    "---"
   ]
  },
  {
   "cell_type": "markdown",
   "id": "48b5a1e9-c054-46e7-8583-a1dc569a086b",
   "metadata": {},
   "source": [
    "## KNN Regressor implementation"
   ]
  },
  {
   "cell_type": "code",
   "execution_count": null,
   "id": "7b9babbe-cd77-4eea-bb0a-fff058b6c6a0",
   "metadata": {},
   "outputs": [],
   "source": []
  }
 ],
 "metadata": {
  "kernelspec": {
   "display_name": "Python 3",
   "language": "python",
   "name": "python3"
  },
  "language_info": {
   "codemirror_mode": {
    "name": "ipython",
    "version": 3
   },
   "file_extension": ".py",
   "mimetype": "text/x-python",
   "name": "python",
   "nbconvert_exporter": "python",
   "pygments_lexer": "ipython3",
   "version": "3.8.10"
  }
 },
 "nbformat": 4,
 "nbformat_minor": 5
}
