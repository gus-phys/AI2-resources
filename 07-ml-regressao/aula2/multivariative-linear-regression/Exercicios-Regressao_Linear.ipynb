{
 "cells": [
  {
   "cell_type": "code",
   "execution_count": 1,
   "metadata": {},
   "outputs": [],
   "source": [
    "import pandas as pd\n",
    "import seaborn as sns\n",
    "\n",
    "sns.set()"
   ]
  },
  {
   "cell_type": "markdown",
   "metadata": {},
   "source": [
    "## Regressão\n",
    "\n",
    "O objetivo deste exercício é introduzir e praticar conceitos de Regressão. Para isso utilizaremos 2 bases: <i>Advertising.csv</i> e <i>Portland_housePrices.csv</i>"
   ]
  },
  {
   "cell_type": "code",
   "execution_count": 2,
   "metadata": {},
   "outputs": [
    {
     "data": {
      "text/html": [
       "<div>\n",
       "<style scoped>\n",
       "    .dataframe tbody tr th:only-of-type {\n",
       "        vertical-align: middle;\n",
       "    }\n",
       "\n",
       "    .dataframe tbody tr th {\n",
       "        vertical-align: top;\n",
       "    }\n",
       "\n",
       "    .dataframe thead th {\n",
       "        text-align: right;\n",
       "    }\n",
       "</style>\n",
       "<table border=\"1\" class=\"dataframe\">\n",
       "  <thead>\n",
       "    <tr style=\"text-align: right;\">\n",
       "      <th></th>\n",
       "      <th>TV</th>\n",
       "      <th>radio</th>\n",
       "      <th>newspaper</th>\n",
       "      <th>sales</th>\n",
       "    </tr>\n",
       "  </thead>\n",
       "  <tbody>\n",
       "    <tr>\n",
       "      <th>1</th>\n",
       "      <td>230.1</td>\n",
       "      <td>37.8</td>\n",
       "      <td>69.2</td>\n",
       "      <td>22.1</td>\n",
       "    </tr>\n",
       "    <tr>\n",
       "      <th>2</th>\n",
       "      <td>44.5</td>\n",
       "      <td>39.3</td>\n",
       "      <td>45.1</td>\n",
       "      <td>10.4</td>\n",
       "    </tr>\n",
       "    <tr>\n",
       "      <th>3</th>\n",
       "      <td>17.2</td>\n",
       "      <td>45.9</td>\n",
       "      <td>69.3</td>\n",
       "      <td>9.3</td>\n",
       "    </tr>\n",
       "    <tr>\n",
       "      <th>4</th>\n",
       "      <td>151.5</td>\n",
       "      <td>41.3</td>\n",
       "      <td>58.5</td>\n",
       "      <td>18.5</td>\n",
       "    </tr>\n",
       "    <tr>\n",
       "      <th>5</th>\n",
       "      <td>180.8</td>\n",
       "      <td>10.8</td>\n",
       "      <td>58.4</td>\n",
       "      <td>12.9</td>\n",
       "    </tr>\n",
       "  </tbody>\n",
       "</table>\n",
       "</div>"
      ],
      "text/plain": [
       "      TV  radio  newspaper  sales\n",
       "1  230.1   37.8       69.2   22.1\n",
       "2   44.5   39.3       45.1   10.4\n",
       "3   17.2   45.9       69.3    9.3\n",
       "4  151.5   41.3       58.5   18.5\n",
       "5  180.8   10.8       58.4   12.9"
      ]
     },
     "execution_count": 2,
     "metadata": {},
     "output_type": "execute_result"
    }
   ],
   "source": [
    "dados_adv = pd.read_csv('../../dataset/Advertising.csv', index_col=0)\n",
    "dados_adv.head()"
   ]
  },
  {
   "cell_type": "markdown",
   "metadata": {},
   "source": [
    "<i>Advertising</i> é um conjunto de dados relacionando o montante de vendas (<i>sales</i>) com o montante investido em marketing em diferentes médias (<i>TV</i>,<i>radio</i> e <i>newspaper</i>).\n",
    "\n",
    "Por sua vez, <i>Portland_housePrices</i> relaciona o preço de casas com seu tamanho e número de quartos.\n",
    "\n"
   ]
  },
  {
   "cell_type": "code",
   "execution_count": 3,
   "metadata": {},
   "outputs": [
    {
     "data": {
      "text/html": [
       "<div>\n",
       "<style scoped>\n",
       "    .dataframe tbody tr th:only-of-type {\n",
       "        vertical-align: middle;\n",
       "    }\n",
       "\n",
       "    .dataframe tbody tr th {\n",
       "        vertical-align: top;\n",
       "    }\n",
       "\n",
       "    .dataframe thead th {\n",
       "        text-align: right;\n",
       "    }\n",
       "</style>\n",
       "<table border=\"1\" class=\"dataframe\">\n",
       "  <thead>\n",
       "    <tr style=\"text-align: right;\">\n",
       "      <th></th>\n",
       "      <th>tamanho</th>\n",
       "      <th>quartos</th>\n",
       "      <th>preco</th>\n",
       "    </tr>\n",
       "  </thead>\n",
       "  <tbody>\n",
       "    <tr>\n",
       "      <th>0</th>\n",
       "      <td>2104</td>\n",
       "      <td>3</td>\n",
       "      <td>399900</td>\n",
       "    </tr>\n",
       "    <tr>\n",
       "      <th>1</th>\n",
       "      <td>1600</td>\n",
       "      <td>3</td>\n",
       "      <td>329900</td>\n",
       "    </tr>\n",
       "    <tr>\n",
       "      <th>2</th>\n",
       "      <td>2400</td>\n",
       "      <td>3</td>\n",
       "      <td>369000</td>\n",
       "    </tr>\n",
       "    <tr>\n",
       "      <th>3</th>\n",
       "      <td>1416</td>\n",
       "      <td>2</td>\n",
       "      <td>232000</td>\n",
       "    </tr>\n",
       "    <tr>\n",
       "      <th>4</th>\n",
       "      <td>3000</td>\n",
       "      <td>4</td>\n",
       "      <td>539900</td>\n",
       "    </tr>\n",
       "  </tbody>\n",
       "</table>\n",
       "</div>"
      ],
      "text/plain": [
       "   tamanho  quartos   preco\n",
       "0     2104        3  399900\n",
       "1     1600        3  329900\n",
       "2     2400        3  369000\n",
       "3     1416        2  232000\n",
       "4     3000        4  539900"
      ]
     },
     "execution_count": 3,
     "metadata": {},
     "output_type": "execute_result"
    }
   ],
   "source": [
    "dados_por = pd.read_csv('../../dataset/Portland_housePrices.csv', index_col=None)\n",
    "dados_por.head()"
   ]
  },
  {
   "cell_type": "markdown",
   "metadata": {},
   "source": [
    "## Como treinar e usar modelos?\n",
    "Para virtualmente qualquer tipo de algoritmo de Regressão, existirá uma função <i>fit</i> para treinar o modelo.\n",
    "\n",
    "Por exemplo, para a regressão linear:\n",
    "\n",
    "```python\n",
    " reg = LinearRegression().fit(X,y)\n",
    "``` \n",
    "\n",
    "Onde <i> X </i> se refere aos atributos de treinamento e <i>y</i> à variável resposta.\n"
   ]
  },
  {
   "cell_type": "code",
   "execution_count": 4,
   "metadata": {},
   "outputs": [
    {
     "data": {
      "text/plain": [
       "LinearRegression()"
      ]
     },
     "execution_count": 4,
     "metadata": {},
     "output_type": "execute_result"
    }
   ],
   "source": [
    "from sklearn.linear_model import LinearRegression\n",
    "#Treina modelo utilizando dados de tamanho para prever preco\n",
    "X = dados_por.loc[:,['tamanho']]\n",
    "y = dados_por.loc[:,['preco']]\n",
    "\n",
    "reg = LinearRegression().fit(X,y)\n",
    "reg"
   ]
  },
  {
   "cell_type": "markdown",
   "metadata": {},
   "source": [
    "Após treinado, o modelo pode ser utilizado para fazer predições (prever <i>y</i> para novos exemplos), através da função <i>predict</i>"
   ]
  },
  {
   "cell_type": "code",
   "execution_count": 5,
   "metadata": {},
   "outputs": [
    {
     "data": {
      "text/plain": [
       "array([[354311.69781212],\n",
       "       [286510.95280112],\n",
       "       [394131.18297731],\n",
       "       [261758.29986059]])"
      ]
     },
     "execution_count": 5,
     "metadata": {},
     "output_type": "execute_result"
    }
   ],
   "source": [
    "y_hat = reg.predict(X[0:4])\n",
    "y_hat"
   ]
  },
  {
   "cell_type": "markdown",
   "metadata": {},
   "source": [
    "# Regressão Linear Multivariada\n",
    "A classe <i>LinearRegression</i> já está implementada de modo a funcionar com múltiplos atributos preditores.\n",
    "\n",
    "Também é possível utilizar o método de <i>Descida de Gradiente</i> através da classe <a href='https://scikit-learn.org/stable/modules/generated/sklearn.linear_model.SGDRegressor.html'>SGDRegressor</a>:\n",
    "    \n"
   ]
  },
  {
   "cell_type": "code",
   "execution_count": 6,
   "metadata": {},
   "outputs": [
    {
     "data": {
      "text/plain": [
       "SGDRegressor(alpha=0, max_iter=5000)"
      ]
     },
     "execution_count": 6,
     "metadata": {},
     "output_type": "execute_result"
    }
   ],
   "source": [
    "from sklearn.linear_model import SGDRegressor\n",
    "reg_grad = SGDRegressor(max_iter=5000,alpha=0) #alpha = 0 significa que o modelo nao usa regularização (a ser explicado nas próximas aulas)\n",
    "reg_grad.fit(X,y.values.ravel())"
   ]
  },
  {
   "cell_type": "code",
   "execution_count": 7,
   "metadata": {},
   "outputs": [
    {
     "data": {
      "text/plain": [
       "Text(0, 0.5, 'Preço')"
      ]
     },
     "execution_count": 7,
     "metadata": {},
     "output_type": "execute_result"
    },
    {
     "data": {
      "image/png": "[encoded data removed]",
      "text/plain": [
       "<Figure size 432x288 with 1 Axes>"
      ]
     },
     "metadata": {},
     "output_type": "display_data"
    }
   ],
   "source": [
    "from matplotlib import pyplot as plt\n",
    "plt.scatter(X, y,color='g')\n",
    "plt.plot(X, reg_grad.predict(X),color='k')\n",
    "plt.xlabel('Tamanho (pe2)')\n",
    "plt.ylabel('Preço')"
   ]
  },
  {
   "cell_type": "markdown",
   "metadata": {},
   "source": [
    "---"
   ]
  },
  {
   "cell_type": "markdown",
   "metadata": {},
   "source": [
    "<b>Entretanto</b>... o algoritmo não aprende quando os dados são usados diretamente.\n",
    "\n",
    "<b>Por quê?</b>\n",
    "\n",
    "A escala dos dados atrapalha o algoritmo. Tente treinar o regressor linear com descida do gradiente <i>depois de normalizar os dados de entrada</i>.\n",
    "\n",
    "## Exercício 1\n",
    "\n",
    "Para cada um dos conjuntos de treinamento, utilize a função <i>fit</i> múltiplas vezes considerando apenas <i>um</i> atributo preditor.\n",
    "\n",
    "1) O modelo aprendido muda a cada vez que a função <i>fit</i> é utilizada?\n",
    "\n",
    "2) Os modelos finais aprendidos são os mesmos da outra implementação de regressão linear?\n"
   ]
  },
  {
   "cell_type": "code",
   "execution_count": 8,
   "metadata": {},
   "outputs": [],
   "source": [
    "from sklearn import preprocessing"
   ]
  },
  {
   "cell_type": "code",
   "execution_count": 9,
   "metadata": {},
   "outputs": [],
   "source": [
    "reg_grad = SGDRegressor(max_iter=5000, alpha=0)\n",
    "reg_grad_norm = SGDRegressor(max_iter=5000, alpha=0)"
   ]
  },
  {
   "cell_type": "code",
   "execution_count": 10,
   "metadata": {},
   "outputs": [
    {
     "data": {
      "text/plain": [
       "SGDRegressor(alpha=0, max_iter=5000)"
      ]
     },
     "execution_count": 10,
     "metadata": {},
     "output_type": "execute_result"
    }
   ],
   "source": [
    "X_norm = preprocessing.scale(X)\n",
    "reg_grad_norm.fit(X_norm, y.values.ravel())"
   ]
  },
  {
   "cell_type": "code",
   "execution_count": 11,
   "metadata": {},
   "outputs": [
    {
     "data": {
      "text/plain": [
       "SGDRegressor(alpha=0, max_iter=5000)"
      ]
     },
     "execution_count": 11,
     "metadata": {},
     "output_type": "execute_result"
    }
   ],
   "source": [
    "reg_grad.fit(X, y.values.ravel())"
   ]
  },
  {
   "cell_type": "code",
   "execution_count": 12,
   "metadata": {},
   "outputs": [
    {
     "data": {
      "image/png": "[encoded data removed]",
      "text/plain": [
       "<Figure size 1080x504 with 2 Axes>"
      ]
     },
     "metadata": {},
     "output_type": "display_data"
    }
   ],
   "source": [
    "f, axs = plt.subplots(1, 2, sharey=False, figsize =(15,7))\n",
    "axs[0].scatter(X, y, color='g')\n",
    "axs[0].plot(X, reg_grad.predict(X),color='k')\n",
    "axs[0].set_title('Dados de entrada não normalizados')\n",
    "axs[1].scatter(X, y, color='g')\n",
    "axs[1].plot(X, reg_grad_norm.predict(X_norm),color='k')\n",
    "axs[1].set_title('Dados normalizados')\n",
    "\n",
    "plt.show()"
   ]
  },
  {
   "cell_type": "code",
   "execution_count": 13,
   "metadata": {},
   "outputs": [
    {
     "data": {
      "text/plain": [
       "array([2.87053172e+15, 2.18290691e+15, 3.27437486e+15, 1.93186928e+15,\n",
       "       4.09297583e+15, 2.70817586e+15, 2.09286081e+15, 1.94687697e+15,\n",
       "       1.88275323e+15, 2.03828741e+15, 2.64678079e+15, 2.72864089e+15,\n",
       "       2.57856404e+15, 6.10946286e+15, 1.72994771e+15, 3.13794137e+15,\n",
       "       1.80089313e+15, 1.68628900e+15, 3.55952086e+15, 4.13527021e+15,\n",
       "       2.41075085e+15, 2.57583537e+15, 2.18836425e+15, 2.67679616e+15,\n",
       "       5.30723392e+15, 1.50073944e+15, 1.98917135e+15, 3.44628106e+15,\n",
       "       3.00150788e+15, 3.59772224e+15, 2.50898296e+15, 1.36430595e+15,\n",
       "       2.78321429e+15, 4.27988971e+15, 2.47078158e+15, 1.96052032e+15,\n",
       "       1.69038200e+15, 2.90873310e+15, 5.75064277e+15, 2.94966315e+15,\n",
       "       2.27022435e+15, 3.05335260e+15, 3.50221880e+15, 1.63717294e+15,\n",
       "       1.16238438e+15, 2.52671932e+15, 1.64126594e+15])"
      ]
     },
     "execution_count": 13,
     "metadata": {},
     "output_type": "execute_result"
    }
   ],
   "source": [
    "reg_grad.predict(X)"
   ]
  },
  {
   "cell_type": "markdown",
   "metadata": {},
   "source": [
    "**Resposta:**  \n",
    "Toda vez que o *fit* é executado o método procura os valores que minimizam o Erro Quadrático Médio. Entretanto, o ponto de partida é aleatório gerando, com isso, um modelo diferente em cada execução. Mas, uma vez que os dados de entrada são normalizados esse comportamento já não é mais percebido."
   ]
  },
  {
   "cell_type": "markdown",
   "metadata": {},
   "source": [
    "---"
   ]
  },
  {
   "cell_type": "markdown",
   "metadata": {},
   "source": [
    "## Exercício 2\n",
    "\n",
    "\n",
    "Aprenda modelos utilizando todos os atributos de entrada.\n",
    "\n",
    "1) Baseado no RSS e no R^2, é possível obter um modelo melhor utilizando todos os dados?\n",
    "\n",
    "2) Existem atributos que poderiam ser desconsiderados sem que fosse afetada a precisão?\n",
    "\n",
    "3) Qual implementação treina mais rápido? A com método dos mínimos quadrados ou a com descida de gradiente?\n"
   ]
  },
  {
   "cell_type": "markdown",
   "metadata": {},
   "source": [
    "### Teste dos atributos de entrada"
   ]
  },
  {
   "cell_type": "code",
   "execution_count": 14,
   "metadata": {},
   "outputs": [],
   "source": [
    "X_comp = dados_por.loc[:,['tamanho', 'quartos']]"
   ]
  },
  {
   "cell_type": "code",
   "execution_count": 15,
   "metadata": {},
   "outputs": [],
   "source": [
    "reg_grad_norm2 = SGDRegressor(max_iter=5000, alpha=0)"
   ]
  },
  {
   "cell_type": "code",
   "execution_count": 16,
   "metadata": {},
   "outputs": [
    {
     "data": {
      "text/plain": [
       "SGDRegressor(alpha=0, max_iter=5000)"
      ]
     },
     "execution_count": 16,
     "metadata": {},
     "output_type": "execute_result"
    }
   ],
   "source": [
    "X_norm2 = preprocessing.scale(X_comp)\n",
    "reg_grad_norm2.fit(X_norm2, y.values.ravel())"
   ]
  },
  {
   "cell_type": "markdown",
   "metadata": {},
   "source": [
    "#### Comparando indicadores"
   ]
  },
  {
   "cell_type": "code",
   "execution_count": 17,
   "metadata": {},
   "outputs": [],
   "source": [
    "from sklearn.metrics import r2_score\n",
    "def calc_rss(y,predicted):\n",
    "    return float(((predicted - y) ** 2).sum())\n",
    "    \n",
    "def calc_r2(y,predicted):\n",
    "    return r2_score(predicted,y)"
   ]
  },
  {
   "cell_type": "code",
   "execution_count": 18,
   "metadata": {},
   "outputs": [
    {
     "name": "stdout",
     "output_type": "stream",
     "text": [
      "Utilizando todos os atributos:\n",
      "RSS = 192073848591.90576\n",
      "R2 = 0.6345585969649761\n"
     ]
    }
   ],
   "source": [
    "predicted = reg_grad_norm2.predict(X_norm2)\n",
    "rss = calc_rss(y.values.ravel(), predicted)\n",
    "r2 = calc_r2(y, predicted)\n",
    "print('Utilizando todos os atributos:')\n",
    "print(f'RSS = {rss}')\n",
    "print(f'R2 = {r2}')"
   ]
  },
  {
   "cell_type": "code",
   "execution_count": 19,
   "metadata": {},
   "outputs": [
    {
     "name": "stdout",
     "output_type": "stream",
     "text": [
      "Utilizando apenas o tamanho:\n",
      "RSS = 193466654350.117\n",
      "R2 = 0.6310929992465939\n"
     ]
    }
   ],
   "source": [
    "predicted = reg_grad_norm.predict(X_norm)\n",
    "rss = calc_rss(y.values.ravel(), predicted)\n",
    "r2 = calc_r2(y, predicted)\n",
    "print('Utilizando apenas o tamanho:')\n",
    "print(f'RSS = {rss}')\n",
    "print(f'R2 = {r2}')"
   ]
  },
  {
   "cell_type": "markdown",
   "metadata": {},
   "source": [
    "**Resposta:**  \n"
   ]
  },
  {
   "cell_type": "code",
   "execution_count": 20,
   "metadata": {},
   "outputs": [
    {
     "name": "stdout",
     "output_type": "stream",
     "text": [
      "A diferença do R2 entre as duas abordagens é de apenas 0.55%.\n",
      "Enquanto que a diferença do RSS é -0.72%.\n",
      "A princípio é difícil dizer qual abordagem é a mais adequada.\n"
     ]
    }
   ],
   "source": [
    "dif_r2 = (calc_r2(y, reg_grad_norm2.predict(X_norm2))/calc_r2(y, reg_grad_norm.predict(X_norm)) - 1)*100\n",
    "dif_rss = (calc_rss(y.values.ravel(), reg_grad_norm2.predict(X_norm2))/calc_rss(y.values.ravel(), reg_grad_norm.predict(X_norm)) - 1)*100\n",
    "print(f'A diferença do R2 entre as duas abordagens é de apenas {dif_r2.round(2)}%.')\n",
    "print(f'Enquanto que a diferença do RSS é {round(dif_rss, 2)}%.')\n",
    "print('A princípio é difícil dizer qual abordagem é a mais adequada.')"
   ]
  },
  {
   "cell_type": "markdown",
   "metadata": {},
   "source": [
    "### Utilizando apenas o número de quartos"
   ]
  },
  {
   "cell_type": "code",
   "execution_count": 21,
   "metadata": {},
   "outputs": [],
   "source": [
    "X_quartos = dados_por.loc[:,['quartos']]"
   ]
  },
  {
   "cell_type": "code",
   "execution_count": 22,
   "metadata": {},
   "outputs": [],
   "source": [
    "reg_grad_norm3 = SGDRegressor(max_iter=5000, alpha=0)"
   ]
  },
  {
   "cell_type": "code",
   "execution_count": 23,
   "metadata": {},
   "outputs": [
    {
     "data": {
      "text/plain": [
       "SGDRegressor(alpha=0, max_iter=5000)"
      ]
     },
     "execution_count": 23,
     "metadata": {},
     "output_type": "execute_result"
    }
   ],
   "source": [
    "X_norm3 = preprocessing.scale(X_quartos)\n",
    "reg_grad_norm3.fit(X_norm3, y.values.ravel())"
   ]
  },
  {
   "cell_type": "code",
   "execution_count": 24,
   "metadata": {},
   "outputs": [
    {
     "name": "stdout",
     "output_type": "stream",
     "text": [
      "Utilizando apenas o número de quartos:\n",
      "RSS = 578535428106.2454\n",
      "R2 = -3.1126851676897083\n"
     ]
    }
   ],
   "source": [
    "predicted = reg_grad_norm3.predict(X_norm3)\n",
    "rss = calc_rss(y.values.ravel(), predicted)\n",
    "r2 = calc_r2(y, predicted)\n",
    "print('Utilizando apenas o número de quartos:')\n",
    "print(f'RSS = {rss}')\n",
    "print(f'R2 = {r2}')"
   ]
  },
  {
   "cell_type": "markdown",
   "metadata": {},
   "source": [
    "**Resposta:**  "
   ]
  },
  {
   "cell_type": "code",
   "execution_count": 25,
   "metadata": {},
   "outputs": [
    {
     "name": "stdout",
     "output_type": "stream",
     "text": [
      "Utilizando apenas o número de quartos os parâmetros RSS e R^2 foram mais descrepantes.\n",
      "Sendo -120.39% para R2 e -66.8% para RSS.\n"
     ]
    }
   ],
   "source": [
    "dif_r2 = (calc_r2(y, reg_grad_norm2.predict(X_norm2))/calc_r2(y, reg_grad_norm3.predict(X_norm3)) - 1)*100\n",
    "dif_rss = (calc_rss(y.values.ravel(), reg_grad_norm2.predict(X_norm2))/calc_rss(y.values.ravel(), reg_grad_norm3.predict(X_norm3)) - 1)*100\n",
    "print('Utilizando apenas o número de quartos os parâmetros RSS e R^2 foram mais descrepantes.')\n",
    "print(f'Sendo {dif_r2.round(2)}% para R2 e {round(dif_rss, 2)}% para RSS.')"
   ]
  },
  {
   "cell_type": "markdown",
   "metadata": {},
   "source": [
    "Como o número de quartos por si só não é um bom preditor e a inclusão dele não afeta significantemente a regressão, esse atributo pode ser desconsiderado sem perda de confiabilidade no modelo"
   ]
  },
  {
   "cell_type": "markdown",
   "metadata": {},
   "source": [
    "### Testando a velocidade de processamento"
   ]
  },
  {
   "cell_type": "code",
   "execution_count": 26,
   "metadata": {},
   "outputs": [],
   "source": [
    "import time"
   ]
  },
  {
   "cell_type": "code",
   "execution_count": 27,
   "metadata": {},
   "outputs": [],
   "source": [
    "X_comp = dados_por.loc[:,['tamanho', 'quartos']]"
   ]
  },
  {
   "cell_type": "markdown",
   "metadata": {},
   "source": [
    "Utilizando a descida de gradiente:"
   ]
  },
  {
   "cell_type": "code",
   "execution_count": 28,
   "metadata": {},
   "outputs": [
    {
     "name": "stdout",
     "output_type": "stream",
     "text": [
      "--- 0.003082275390625 seconds ---\n"
     ]
    }
   ],
   "source": [
    "start_time = time.time()\n",
    "\n",
    "reg_grad_norm2 = SGDRegressor(max_iter=5000, alpha=0)\n",
    "\n",
    "X_norm2 = preprocessing.scale(X_comp)\n",
    "reg_grad_norm2.fit(X_norm2, y.values.ravel())\n",
    "\n",
    "predicted = reg_grad_norm2.predict(X_norm2)\n",
    "\n",
    "print(\"--- %s seconds ---\" % (time.time() - start_time))"
   ]
  },
  {
   "cell_type": "markdown",
   "metadata": {},
   "source": [
    "Utilizando a regressão linear:"
   ]
  },
  {
   "cell_type": "code",
   "execution_count": 29,
   "metadata": {},
   "outputs": [
    {
     "name": "stdout",
     "output_type": "stream",
     "text": [
      "--- 0.009733200073242188 seconds ---\n"
     ]
    }
   ],
   "source": [
    "start_time = time.time()\n",
    "\n",
    "reg = LinearRegression().fit(X_comp, y)\n",
    "\n",
    "X_norm2 = preprocessing.scale(X_comp)\n",
    "reg.fit(X_norm2, y.values.ravel())\n",
    "\n",
    "predicted = reg.predict(X_norm2)\n",
    "\n",
    "print(\"--- %s seconds ---\" % (time.time() - start_time))"
   ]
  },
  {
   "cell_type": "markdown",
   "metadata": {},
   "source": [
    "---"
   ]
  },
  {
   "cell_type": "markdown",
   "metadata": {},
   "source": [
    "# Exercício 3\n",
    "\n",
    "Realizar a análise da qualidade dos preditores utilizados no modelo construído.\n",
    "\n",
    "1) Construir o plot de resíduos. Será que os resíduos estão aleatoriamente distribuídos ao redor de 0?\n",
    "\n",
    "2) Calcular os valores p para os preditores utilizados no modelo de regressão. Utilize [esse link](https://stackoverflow.com/a/42677750) como referência. Utilizar essa técnica para selecionar variáveis preditivas. Comparar o desempenho do modelo construído a partir de variáveis preditivas com melhores valores p com um modelo que contêm todas as variáveis.\n"
   ]
  },
  {
   "cell_type": "markdown",
   "metadata": {},
   "source": [
    "## Resíduos"
   ]
  },
  {
   "cell_type": "code",
   "execution_count": 30,
   "metadata": {},
   "outputs": [
    {
     "data": {
      "image/png": "[encoded data removed]",
      "text/plain": [
       "<Figure size 936x504 with 1 Axes>"
      ]
     },
     "metadata": {},
     "output_type": "display_data"
    }
   ],
   "source": [
    "y_pred = pd.DataFrame(reg_grad_norm2.predict(X_norm2), columns=['preco'])\n",
    "residuals = y.subtract(y_pred, axis = 0)\n",
    "\n",
    "plt.figure(figsize=(13,7))\n",
    "plt.scatter(y_pred, residuals)\n",
    "plt.axhline(y=0, color='r', linestyle='-')\n",
    "\n",
    "plt.title('Plot de resíduos')\n",
    "plt.xlabel('Valores previstos')\n",
    "plt.ylabel('Resíduo')\n",
    "\n",
    "plt.show()"
   ]
  },
  {
   "cell_type": "markdown",
   "metadata": {},
   "source": [
    "## Valores p"
   ]
  },
  {
   "cell_type": "code",
   "execution_count": 31,
   "metadata": {},
   "outputs": [],
   "source": [
    "import statsmodels.api as sm\n",
    "from scipy import stats"
   ]
  },
  {
   "cell_type": "code",
   "execution_count": 32,
   "metadata": {},
   "outputs": [],
   "source": [
    "X2 = sm.add_constant(X_norm2)\n",
    "est = sm.OLS(y, X2)\n",
    "est2 = est.fit()"
   ]
  },
  {
   "cell_type": "code",
   "execution_count": 33,
   "metadata": {},
   "outputs": [
    {
     "name": "stdout",
     "output_type": "stream",
     "text": [
      "                            OLS Regression Results                            \n",
      "==============================================================================\n",
      "Dep. Variable:                  preco   R-squared:                       0.733\n",
      "Model:                            OLS   Adj. R-squared:                  0.721\n",
      "Method:                 Least Squares   F-statistic:                     60.38\n",
      "Date:                Tue, 27 Jul 2021   Prob (F-statistic):           2.43e-13\n",
      "Time:                        14:33:36   Log-Likelihood:                -586.77\n",
      "No. Observations:                  47   AIC:                             1180.\n",
      "Df Residuals:                      44   BIC:                             1185.\n",
      "Df Model:                           2                                         \n",
      "Covariance Type:            nonrobust                                         \n",
      "==============================================================================\n",
      "                 coef    std err          t      P>|t|      [0.025      0.975]\n",
      "------------------------------------------------------------------------------\n",
      "const       3.404e+05   9637.239     35.323      0.000    3.21e+05     3.6e+05\n",
      "x1          1.094e+05   1.16e+04      9.409      0.000     8.6e+04    1.33e+05\n",
      "x2         -6578.3549   1.16e+04     -0.566      0.575      -3e+04    1.69e+04\n",
      "==============================================================================\n",
      "Omnibus:                        4.083   Durbin-Watson:                   1.826\n",
      "Prob(Omnibus):                  0.130   Jarque-Bera (JB):                2.977\n",
      "Skew:                           0.567   Prob(JB):                        0.226\n",
      "Kurtosis:                       3.484   Cond. No.                         1.88\n",
      "==============================================================================\n",
      "\n",
      "Notes:\n",
      "[1] Standard Errors assume that the covariance matrix of the errors is correctly specified.\n"
     ]
    }
   ],
   "source": [
    "print(est2.summary())"
   ]
  },
  {
   "cell_type": "markdown",
   "metadata": {},
   "source": [
    "---"
   ]
  },
  {
   "cell_type": "markdown",
   "metadata": {},
   "source": [
    "# Exercício 4\n",
    "\n",
    "Realizar o teste para descobrir multicolinearidade entre variáveis preditivas;\n",
    "\n",
    "1) Utilizando [esse link](https://www.geeksforgeeks.org/detecting-multicollinearity-with-vif-python/) fazer o cáclulo do fator de inflação da variância (*Variance Inflation Factor - VIF*). Existe alguma evidência de multicolinearidade entre as variáveis preditivas?"
   ]
  },
  {
   "cell_type": "markdown",
   "metadata": {},
   "source": [
    "## Variance Inflation Factor - VIF"
   ]
  },
  {
   "cell_type": "code",
   "execution_count": 34,
   "metadata": {},
   "outputs": [],
   "source": [
    "from statsmodels.stats.outliers_influence import variance_inflation_factor"
   ]
  },
  {
   "cell_type": "markdown",
   "metadata": {},
   "source": [
    "### Dados não normalizados"
   ]
  },
  {
   "cell_type": "code",
   "execution_count": 35,
   "metadata": {},
   "outputs": [
    {
     "name": "stdout",
     "output_type": "stream",
     "text": [
      "   feature        VIF\n",
      "0  tamanho  10.861138\n",
      "1  quartos  10.861138\n"
     ]
    }
   ],
   "source": [
    "# VIF dataframe\n",
    "vif_data = pd.DataFrame()\n",
    "vif_data[\"feature\"] = X_comp.columns\n",
    "  \n",
    "# calculating VIF for each feature\n",
    "vif_data[\"VIF\"] = [variance_inflation_factor(X_comp.values, i)\n",
    "                          for i in range(len(X_comp.columns))]\n",
    "  \n",
    "print(vif_data)"
   ]
  },
  {
   "cell_type": "markdown",
   "metadata": {},
   "source": [
    "### Dados normalizados"
   ]
  },
  {
   "cell_type": "code",
   "execution_count": 36,
   "metadata": {},
   "outputs": [],
   "source": [
    "X_norm2_df = pd.DataFrame(X_norm2, columns=['tamanho', 'quartos'])"
   ]
  },
  {
   "cell_type": "code",
   "execution_count": 37,
   "metadata": {},
   "outputs": [
    {
     "name": "stdout",
     "output_type": "stream",
     "text": [
      "   feature       VIF\n",
      "0  tamanho  1.456799\n",
      "1  quartos  1.456799\n"
     ]
    }
   ],
   "source": [
    "# VIF dataframe\n",
    "vif_data = pd.DataFrame()\n",
    "vif_data[\"feature\"] = X_norm2_df.columns\n",
    "  \n",
    "# calculating VIF for each feature\n",
    "vif_data[\"VIF\"] = [variance_inflation_factor(X_norm2_df.values, i)\n",
    "                          for i in range(len(X_norm2_df.columns))]\n",
    "  \n",
    "print(vif_data)"
   ]
  },
  {
   "cell_type": "code",
   "execution_count": null,
   "metadata": {},
   "outputs": [],
   "source": []
  }
 ],
 "metadata": {
  "kernelspec": {
   "display_name": "Python 3",
   "language": "python",
   "name": "python3"
  },
  "language_info": {
   "codemirror_mode": {
    "name": "ipython",
    "version": 3
   },
   "file_extension": ".py",
   "mimetype": "text/x-python",
   "name": "python",
   "nbconvert_exporter": "python",
   "pygments_lexer": "ipython3",
   "version": "3.8.10"
  }
 },
 "nbformat": 4,
 "nbformat_minor": 4
}
