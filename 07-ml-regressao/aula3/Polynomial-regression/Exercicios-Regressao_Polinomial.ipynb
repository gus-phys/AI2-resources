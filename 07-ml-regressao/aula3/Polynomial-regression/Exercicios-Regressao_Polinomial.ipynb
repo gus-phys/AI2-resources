{
 "cells": [
  {
   "cell_type": "markdown",
   "id": "709af9f5",
   "metadata": {},
   "source": [
    "# Regressão Polinomial\n",
    "\n",
    "O objetivo deste exercício é se aprofundar nos conceitos de regressão e implementar os algoritmos de regressão polinomial.\n",
    "\n",
    "Utilizaremos as mesmas bases de dados do exercício anterior:"
   ]
  },
  {
   "cell_type": "code",
   "execution_count": 1,
   "id": "f422d2e4",
   "metadata": {},
   "outputs": [],
   "source": [
    "import pandas as pd\n",
    "\n",
    "dados_por = pd.read_csv('../../dataset/Portland_housePrices.csv', index_col=None)\n",
    "\n",
    "X = dados_por.loc[:,['tamanho']]\n",
    "y = dados_por.loc[:,['preco']]"
   ]
  },
  {
   "cell_type": "markdown",
   "id": "68ae0f67",
   "metadata": {},
   "source": [
    "Vamos examinar o comportamento do preço versus o tamanho do imóvel"
   ]
  },
  {
   "cell_type": "code",
   "execution_count": 2,
   "id": "b5a9f3ae",
   "metadata": {
    "scrolled": true
   },
   "outputs": [
    {
     "data": {
      "text/plain": [
       "Text(0, 0.5, 'Preço (USD$)')"
      ]
     },
     "execution_count": 2,
     "metadata": {},
     "output_type": "execute_result"
    },
    {
     "data": {
      "image/png": "[encoded data removed]",
      "text/plain": [
       "<Figure size 432x288 with 1 Axes>"
      ]
     },
     "metadata": {
      "needs_background": "light"
     },
     "output_type": "display_data"
    }
   ],
   "source": [
    "import matplotlib.pyplot as plt\n",
    "\n",
    "plt.scatter(X,y)\n",
    "plt.xlabel(\"Tamanho (square feets)\")\n",
    "plt.ylabel(\"Preço (USD$)\")"
   ]
  },
  {
   "cell_type": "markdown",
   "id": "3bc76cec",
   "metadata": {},
   "source": [
    "## Medindo a falta de capacidade de generalização de modelos de alto grau"
   ]
  },
  {
   "cell_type": "code",
   "execution_count": 35,
   "id": "54dedfc0",
   "metadata": {},
   "outputs": [],
   "source": [
    "from sklearn.model_selection import train_test_split\n",
    "X_train, X_test, y_train, y_test = train_test_split(X, y, test_size=0.33, random_state=42)"
   ]
  },
  {
   "cell_type": "markdown",
   "id": "2c1baad2",
   "metadata": {},
   "source": [
    "Vamos agora encaixar uma regressão linear simples"
   ]
  },
  {
   "cell_type": "code",
   "execution_count": 36,
   "id": "b95b2537",
   "metadata": {},
   "outputs": [],
   "source": [
    "from sklearn.linear_model import LinearRegression\n",
    "\n",
    "regression = LinearRegression().fit(X_train, y_train)"
   ]
  },
  {
   "cell_type": "markdown",
   "id": "6343d191",
   "metadata": {},
   "source": [
    "Vamos analizar o valor de $R^2$ na partição de treino e de teste"
   ]
  },
  {
   "cell_type": "code",
   "execution_count": 37,
   "id": "6121644d",
   "metadata": {},
   "outputs": [
    {
     "name": "stdout",
     "output_type": "stream",
     "text": [
      "Partição de Treino: 0.6493635022333737\n",
      "Partição de Teste: 0.39301821331700204\n"
     ]
    }
   ],
   "source": [
    "from sklearn.metrics import r2_score\n",
    "print(f\"Partição de Treino: {regression.score(X_train, y_train)}\")\n",
    "y_pred = regression.predict(X_test)\n",
    "print(f\"Partição de Teste: {r2_score(y_pred, y_test)}\")"
   ]
  },
  {
   "cell_type": "code",
   "execution_count": 38,
   "id": "20a81c33",
   "metadata": {},
   "outputs": [
    {
     "name": "stdout",
     "output_type": "stream",
     "text": [
      "8380417681.328084\n"
     ]
    }
   ],
   "source": [
    "from sklearn.metrics import mean_squared_error\n",
    "\n",
    "y_pred = regression.predict(X_test)\n",
    "\n",
    "print(mean_squared_error(y_test, y_pred))"
   ]
  },
  {
   "cell_type": "markdown",
   "id": "7575311c",
   "metadata": {},
   "source": [
    "Agora vamos fazer a expansão polinomial de ordem 2"
   ]
  },
  {
   "cell_type": "code",
   "execution_count": 39,
   "id": "11dce2df",
   "metadata": {},
   "outputs": [],
   "source": [
    "from sklearn.preprocessing import PolynomialFeatures\n",
    "  \n",
    "poly = PolynomialFeatures(degree = 2)\n",
    "X_poly = poly.fit_transform(X)\n",
    "\n",
    "X_train, X_test, y_train, y_test = train_test_split(X_poly, y, test_size=0.33, random_state=42)"
   ]
  },
  {
   "cell_type": "markdown",
   "id": "56e4f17b",
   "metadata": {},
   "source": [
    "E agora retreinamos o modelo utilizando o `X_poly` expandido e avaliamos a qualidade do mesmo."
   ]
  },
  {
   "cell_type": "code",
   "execution_count": 40,
   "id": "3391c8b7",
   "metadata": {},
   "outputs": [
    {
     "name": "stdout",
     "output_type": "stream",
     "text": [
      "Partição de Treino: 0.6564211353485666\n",
      "Partição de Teste: 0.278347829094135\n"
     ]
    }
   ],
   "source": [
    "regression2 = LinearRegression().fit(X_train, y_train)\n",
    "print(f\"Partição de Treino: {regression2.score(X_train, y_train)}\")\n",
    "\n",
    "y_pred = regression2.predict(X_test)\n",
    "print(f\"Partição de Teste: {r2_score(y_pred, y_test)}\")"
   ]
  },
  {
   "cell_type": "markdown",
   "id": "250e35a5",
   "metadata": {},
   "source": [
    "Não notamos nenhuma melhora significativa no $R^2$ na partição de treino, no entanto notamos uma queda no desempenho na partição de teste."
   ]
  },
  {
   "cell_type": "markdown",
   "id": "4e611e8e",
   "metadata": {},
   "source": [
    "## Exercício 1 \n",
    "\n",
    "Avalie a qualidade do modelo nos conjunto de treino e de teste enquanto o grau do polinômio aumenta."
   ]
  },
  {
   "cell_type": "code",
   "execution_count": 58,
   "id": "69896350-e813-42eb-9781-2438acf7271a",
   "metadata": {},
   "outputs": [],
   "source": [
    "X = dados_por.loc[:,['tamanho']]"
   ]
  },
  {
   "cell_type": "code",
   "execution_count": 122,
   "id": "dc03353b",
   "metadata": {},
   "outputs": [
    {
     "name": "stdout",
     "output_type": "stream",
     "text": [
      "        Treino     Teste\n",
      "Grau                    \n",
      "2     0.656421  0.278348\n",
      "3     0.656991  0.298285\n",
      "4     0.658959  0.258555\n",
      "5     0.662653  0.278473\n",
      "6     0.667890  0.232612\n",
      "7     0.673634  0.136278\n",
      "8     0.678549  0.069270\n",
      "9     0.681688  0.030820\n",
      "10    0.682974  0.009925\n",
      "11    0.683001  0.002657\n",
      "12    0.682535  0.036920\n",
      "13    0.682149 -0.066901\n",
      "14    0.654100 -0.040245\n",
      "15    0.638646 -0.044747\n"
     ]
    }
   ],
   "source": [
    "lista_treino = []\n",
    "lista_teste = []\n",
    "lista_idx = []\n",
    "df_avaliacao = pd.DataFrame()\n",
    "\n",
    "for deg in range(2,16):\n",
    "    poly = PolynomialFeatures(degree = deg)\n",
    "    X_poly = poly.fit_transform(X)\n",
    "    X_train, X_test, y_train, y_test = train_test_split(X_poly, y, test_size=0.33, random_state=42)\n",
    "    regression = LinearRegression().fit(X_train, y_train)\n",
    "    treino = regression.score(X_train, y_train)\n",
    "    y_pred = regression.predict(X_test)\n",
    "    teste = r2_score(y_pred, y_test)\n",
    "    lista_treino.append(treino)\n",
    "    lista_teste.append(teste)\n",
    "    lista_idx.append(deg)\n",
    "    \n",
    "df_avaliacao['Grau'] = lista_idx\n",
    "df_avaliacao.set_index('Grau', inplace=True)\n",
    "df_avaliacao['Treino'] = lista_treino\n",
    "df_avaliacao['Teste'] = lista_teste\n",
    "\n",
    "print(df_avaliacao)"
   ]
  },
  {
   "cell_type": "markdown",
   "id": "2add4348-7b19-49e3-bdbb-735366c73911",
   "metadata": {},
   "source": [
    "**Resposta:**  \n",
    "Aparentemente a partição de treino tende a melhorar o score conforme o grau da regressão aumenta, entretanto a partição de teste piora."
   ]
  },
  {
   "cell_type": "code",
   "execution_count": 133,
   "id": "64c40433-7593-4f2d-8b24-34effef8f1bd",
   "metadata": {},
   "outputs": [
    {
     "data": {
      "image/png": "[encoded data removed]",
      "text/plain": [
       "<Figure size 1080x504 with 2 Axes>"
      ]
     },
     "metadata": {
      "needs_background": "light"
     },
     "output_type": "display_data"
    }
   ],
   "source": [
    "f, axs = plt.subplots(1, 2, sharey=False, figsize=(15,7))\n",
    "\n",
    "axs[0].plot(df_avaliacao.index, df_avaliacao['Treino'], '-og')\n",
    "axs[0].axvline(df_avaliacao['Treino'].idxmax())\n",
    "axs[0].set_title('Partição de treino')\n",
    "axs[0].set_xlabel('Grau')\n",
    "axs[0].set_ylabel('R2')\n",
    "axs[1].plot(df_avaliacao.index, df_avaliacao['Teste'], '-or')\n",
    "axs[1].axvline(df_avaliacao['Teste'].idxmax())\n",
    "axs[1].set_title('Partição de teste')\n",
    "axs[1].set_xlabel('Grau')\n",
    "\n",
    "plt.show()"
   ]
  },
  {
   "cell_type": "markdown",
   "id": "4a87c8f2-34d0-45cf-8c8c-9e2981435364",
   "metadata": {},
   "source": [
    "---"
   ]
  },
  {
   "cell_type": "markdown",
   "id": "ddc9eeff",
   "metadata": {},
   "source": [
    "## Exercício 2\n",
    "\n",
    "Utilizando o dataset de vendas de abóboras na cidade de Nova Iorque, compare uma regressão linear com regressões polinomiais."
   ]
  },
  {
   "cell_type": "code",
   "execution_count": 117,
   "id": "f0ed71d3",
   "metadata": {},
   "outputs": [],
   "source": [
    "nyc_pumpkins = pd.read_csv(\"../../dataset/nyc_pumpkins.csv\")"
   ]
  },
  {
   "cell_type": "code",
   "execution_count": 134,
   "id": "5d328a11",
   "metadata": {},
   "outputs": [
    {
     "data": {
      "text/html": [
       "<div>\n",
       "<style scoped>\n",
       "    .dataframe tbody tr th:only-of-type {\n",
       "        vertical-align: middle;\n",
       "    }\n",
       "\n",
       "    .dataframe tbody tr th {\n",
       "        vertical-align: top;\n",
       "    }\n",
       "\n",
       "    .dataframe thead th {\n",
       "        text-align: right;\n",
       "    }\n",
       "</style>\n",
       "<table border=\"1\" class=\"dataframe\">\n",
       "  <thead>\n",
       "    <tr style=\"text-align: right;\">\n",
       "      <th></th>\n",
       "      <th>size</th>\n",
       "      <th>price</th>\n",
       "    </tr>\n",
       "  </thead>\n",
       "  <tbody>\n",
       "    <tr>\n",
       "      <th>count</th>\n",
       "      <td>104.000000</td>\n",
       "      <td>104.000000</td>\n",
       "    </tr>\n",
       "    <tr>\n",
       "      <th>mean</th>\n",
       "      <td>2.134615</td>\n",
       "      <td>170.735577</td>\n",
       "    </tr>\n",
       "    <tr>\n",
       "      <th>std</th>\n",
       "      <td>1.576882</td>\n",
       "      <td>110.837236</td>\n",
       "    </tr>\n",
       "    <tr>\n",
       "      <th>min</th>\n",
       "      <td>0.000000</td>\n",
       "      <td>23.500000</td>\n",
       "    </tr>\n",
       "    <tr>\n",
       "      <th>25%</th>\n",
       "      <td>1.000000</td>\n",
       "      <td>28.750000</td>\n",
       "    </tr>\n",
       "    <tr>\n",
       "      <th>50%</th>\n",
       "      <td>3.000000</td>\n",
       "      <td>200.000000</td>\n",
       "    </tr>\n",
       "    <tr>\n",
       "      <th>75%</th>\n",
       "      <td>3.250000</td>\n",
       "      <td>245.000000</td>\n",
       "    </tr>\n",
       "    <tr>\n",
       "      <th>max</th>\n",
       "      <td>5.000000</td>\n",
       "      <td>430.000000</td>\n",
       "    </tr>\n",
       "  </tbody>\n",
       "</table>\n",
       "</div>"
      ],
      "text/plain": [
       "             size       price\n",
       "count  104.000000  104.000000\n",
       "mean     2.134615  170.735577\n",
       "std      1.576882  110.837236\n",
       "min      0.000000   23.500000\n",
       "25%      1.000000   28.750000\n",
       "50%      3.000000  200.000000\n",
       "75%      3.250000  245.000000\n",
       "max      5.000000  430.000000"
      ]
     },
     "execution_count": 134,
     "metadata": {},
     "output_type": "execute_result"
    }
   ],
   "source": [
    "nyc_pumpkins.describe()"
   ]
  },
  {
   "cell_type": "code",
   "execution_count": 143,
   "id": "602afec3-4e3d-4b2f-8f79-7739d2212dc6",
   "metadata": {},
   "outputs": [],
   "source": [
    "X = nyc_pumpkins.loc[:,['size']]\n",
    "y = nyc_pumpkins.loc[:,['price']]"
   ]
  },
  {
   "cell_type": "code",
   "execution_count": 144,
   "id": "48b098ea-aba8-4d52-a084-82bded2415b4",
   "metadata": {},
   "outputs": [],
   "source": [
    "X_train, X_test, y_train, y_test = train_test_split(X, y, test_size=0.33, random_state=42)"
   ]
  },
  {
   "cell_type": "markdown",
   "id": "6f3c8b7b-d0bb-4190-926d-09e308601cc9",
   "metadata": {},
   "source": [
    "### Regressão Linear"
   ]
  },
  {
   "cell_type": "code",
   "execution_count": 145,
   "id": "2e5f2f70-01a2-4734-8133-015fe9fc34db",
   "metadata": {},
   "outputs": [],
   "source": [
    "regression = LinearRegression().fit(X_train, y_train)"
   ]
  },
  {
   "cell_type": "code",
   "execution_count": 146,
   "id": "f722c6fe-1d58-4f8a-99a2-d26d62cfec6d",
   "metadata": {},
   "outputs": [
    {
     "name": "stdout",
     "output_type": "stream",
     "text": [
      "Partição de Treino: 0.25775331340249175\n",
      "Partição de Teste: -0.615404746065505\n"
     ]
    }
   ],
   "source": [
    "print(f\"Partição de Treino: {regression.score(X_train, y_train)}\")\n",
    "y_pred = regression.predict(X_test)\n",
    "print(f\"Partição de Teste: {r2_score(y_pred, y_test)}\")"
   ]
  },
  {
   "cell_type": "markdown",
   "id": "ca867608-6d0c-4283-a5a5-e26a3dfcc465",
   "metadata": {},
   "source": [
    "### Regressão Polinomial"
   ]
  },
  {
   "cell_type": "code",
   "execution_count": 148,
   "id": "5a8f8258-39b0-41c4-9d76-fcf257aebc3d",
   "metadata": {},
   "outputs": [],
   "source": [
    "X = nyc_pumpkins.loc[:,['size']]"
   ]
  },
  {
   "cell_type": "code",
   "execution_count": 153,
   "id": "853e34ea-eb5f-4ace-b084-9487fe5a5077",
   "metadata": {},
   "outputs": [
    {
     "name": "stdout",
     "output_type": "stream",
     "text": [
      "        Treino     Teste\n",
      "Grau                    \n",
      "2     0.415218  0.219323\n",
      "3     0.428875  0.067375\n",
      "4     0.452734  0.017271\n",
      "5     0.460535 -0.013007\n",
      "6     0.460535 -0.013007\n",
      "7     0.460535 -0.013007\n"
     ]
    }
   ],
   "source": [
    "lista_treino = []\n",
    "lista_teste = []\n",
    "lista_idx = []\n",
    "df_avaliacao = pd.DataFrame()\n",
    "\n",
    "for deg in range(2,8):\n",
    "    poly = PolynomialFeatures(degree = deg)\n",
    "    X_poly = poly.fit_transform(X)\n",
    "    X_train, X_test, y_train, y_test = train_test_split(X_poly, y, test_size=0.33, random_state=42)\n",
    "    regression = LinearRegression().fit(X_train, y_train)\n",
    "    treino = regression.score(X_train, y_train)\n",
    "    y_pred = regression.predict(X_test)\n",
    "    teste = r2_score(y_pred, y_test)\n",
    "    lista_treino.append(treino)\n",
    "    lista_teste.append(teste)\n",
    "    lista_idx.append(deg)\n",
    "    \n",
    "df_avaliacao['Grau'] = lista_idx\n",
    "df_avaliacao.set_index('Grau', inplace=True)\n",
    "df_avaliacao['Treino'] = lista_treino\n",
    "df_avaliacao['Teste'] = lista_teste\n",
    "\n",
    "print(df_avaliacao)"
   ]
  },
  {
   "cell_type": "code",
   "execution_count": 154,
   "id": "31e9d44c-4731-47ae-bcc9-ab3a0c0cbb0a",
   "metadata": {},
   "outputs": [
    {
     "data": {
      "image/png": "[encoded data removed]",
      "text/plain": [
       "<Figure size 1080x504 with 2 Axes>"
      ]
     },
     "metadata": {
      "needs_background": "light"
     },
     "output_type": "display_data"
    }
   ],
   "source": [
    "f, axs = plt.subplots(1, 2, sharey=False, figsize=(15,7))\n",
    "\n",
    "axs[0].plot(df_avaliacao.index, df_avaliacao['Treino'], '-og')\n",
    "axs[0].axvline(df_avaliacao['Treino'].idxmax())\n",
    "axs[0].set_title('Partição de treino')\n",
    "axs[0].set_xlabel('Grau')\n",
    "axs[0].set_ylabel('R2')\n",
    "axs[1].plot(df_avaliacao.index, df_avaliacao['Teste'], '-or')\n",
    "axs[1].axvline(df_avaliacao['Teste'].idxmax())\n",
    "axs[1].set_title('Partição de teste')\n",
    "axs[1].set_xlabel('Grau')\n",
    "\n",
    "plt.show()"
   ]
  },
  {
   "cell_type": "markdown",
   "id": "b8e4c695-01cb-4658-8a30-d34617840f32",
   "metadata": {},
   "source": [
    "**Resposta:**  \n",
    "A regressão polinomial tem seu resultado melhorado até o grau 5 para apartição de treino. Do sexto grau em diante os valores de R2 são constantes (= 0.460535). Para a partição de teste a regressão polinomial so faz diminuir os valoes de $R^2$."
   ]
  },
  {
   "cell_type": "code",
   "execution_count": null,
   "id": "00f095bf-58c9-4186-87eb-141d2f5c3c87",
   "metadata": {},
   "outputs": [],
   "source": []
  }
 ],
 "metadata": {
  "kernelspec": {
   "display_name": "Python 3",
   "language": "python",
   "name": "python3"
  },
  "language_info": {
   "codemirror_mode": {
    "name": "ipython",
    "version": 3
   },
   "file_extension": ".py",
   "mimetype": "text/x-python",
   "name": "python",
   "nbconvert_exporter": "python",
   "pygments_lexer": "ipython3",
   "version": "3.8.10"
  }
 },
 "nbformat": 4,
 "nbformat_minor": 5
}
