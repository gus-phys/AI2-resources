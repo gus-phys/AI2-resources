{
 "cells": [
  {
   "cell_type": "markdown",
   "id": "90fe2129-d763-415e-8209-c6bdfea17094",
   "metadata": {},
   "source": [
    "# Classes"
   ]
  },
  {
   "cell_type": "code",
   "execution_count": 1,
   "id": "bf1a1576-662d-4d60-9bbd-6e9429e37564",
   "metadata": {},
   "outputs": [],
   "source": [
    "import math\n",
    "\n",
    "class FormaGeometrica:\n",
    "    \"\"\"Classe FormaGeometrica.\n",
    "        \n",
    "        Atributos:\n",
    "            - x : coordenada inicial em x.\n",
    "            - y : coordenada inicial em y.\"\"\"\n",
    "    def __init__(self, x, y):\n",
    "        self.x, self.y = x, y\n",
    "    def desenhe(self):\n",
    "        print(f\"A(o) {type(self).__name__} está centrada(o) em ({self.x}, {self.y})\")\n",
    "\n",
    "class Forma2D(FormaGeometrica):\n",
    "    \"\"\"Classe Forma2D. Herda de FormaGeometrica. \n",
    "        \n",
    "        Atributos:\n",
    "            - x : coordenada inicial em x.\n",
    "            - y : coordenada inicial em y.\"\"\"\n",
    "    def __init__(self, x, y):\n",
    "        super().__init__(x, y)\n",
    "        \n",
    "class Forma3D(FormaGeometrica):\n",
    "    \"\"\"Classe Forma3D. Herda de FormaGeometrica.\n",
    "        \n",
    "        Atributos:\n",
    "            - x : coordenada inicial em x.\n",
    "            - y : coordenada inicial em y.\n",
    "            - z : coordenada inicial em z.\"\"\"\n",
    "    def __init__(self, x, y, z):\n",
    "        super().__init__(x, y)\n",
    "        self.z = z\n",
    "    def desenhe(self):\n",
    "        print(f\"A(o) {type(self).__name__} está centrada(o) em ({self.x}, {self.y}, {self.z})\")\n",
    "        \n",
    "class Poligono(Forma2D):\n",
    "    \"\"\"Classe Poligono. Herda de Forma2D.\n",
    "        \n",
    "        Atributos:\n",
    "            - x : coordenada inicial em x.\n",
    "            - y : coordenada inicial em y.\n",
    "            - largura : comprimento dos lados.\n",
    "            - n_lados : quantidade de lados.\"\"\"\n",
    "    def __init__(self, x, y, largura, n_lados):\n",
    "        super().__init__(x, y)\n",
    "        self.largura, self.n_lados = largura, n_lados\n",
    "    def desenhe(self):\n",
    "        perimetro = self.n_lados*self.largura\n",
    "        apotema = self.largura/(2*math.tan(math.pi/self.n_lados))\n",
    "        area = (perimetro*apotema)/2\n",
    "        print(f\"O(a) {type(self).__name__} está centrado(a) em ({self.x}, {self.y}).\\n\"\\\n",
    "             f\"Seu perímetro é de {perimetro} e sua área é de {round(area, 2)}.\")\n",
    "\n",
    "class Retangulo(Forma2D):\n",
    "    \"\"\"Classe Retangulo. Herda de Forma2D\n",
    "        \n",
    "        Atributos:\n",
    "            - x : coordenada inicial em x.\n",
    "            - y : coordenada inicial em y.\n",
    "            - largura : comprimento ao longo de x.\n",
    "            - altura : comprimento ao longo de y.\"\"\"\n",
    "    def __init__(self, x, y, largura, altura):\n",
    "        super().__init__(x, y)\n",
    "        self.largura, self.altura = largura, altura\n",
    "    def desenhe(self):\n",
    "        perimetro = self.largura+self.altura\n",
    "        area = self.largura*self.altura\n",
    "        print(f\"O(a) {type(self).__name__} está centrado(a) em ({self.x}, {self.y}).\\n\"\\\n",
    "             f\"Seu perímetro é de {round(perimetro, 2)} e sua área é de {round(area, 2)}.\")\n",
    "\n",
    "class Quadrado(Retangulo):\n",
    "    pass\n",
    "\n",
    "class Circulo(Forma2D):\n",
    "    \"\"\"Classe Circulo. Herda de Forma2D.\n",
    "    \n",
    "        Atributos:\n",
    "            - x : coordenada inicial em x.\n",
    "            - y : coordenada inicial em y.\n",
    "            - raio : raio do círculo.\"\"\"\n",
    "    def __init__(self, x, y, raio):\n",
    "        super().__init__(x, y)\n",
    "        self.raio = raio\n",
    "    def desenhe(self):\n",
    "        perimetro = 2*math.pi*self.raio\n",
    "        area = math.pi*self.raio**2\n",
    "        print(f\"O(a) {type(self).__name__} está centrado(a) em ({self.x}, {self.y}).\\n\"\\\n",
    "             f\"Seu perímetro é de {round(perimetro, 2)} e sua área é de {round(area, 2)}.\")\n",
    "\n",
    "class Esfera(Forma3D):\n",
    "    \"\"\"Classe Esfera. Herda de Forma3D.\n",
    "    \n",
    "        Atributos:\n",
    "            - x : coordenada inicial em x.\n",
    "            - y : coordenada inicial em y.\n",
    "            - z : coordenada inicial em z.\n",
    "            - raio : raio da esfera.\"\"\"\n",
    "    def __init__(self, x, y, z, raio):\n",
    "        super().__init__(x, y, z)\n",
    "        self.raio = raio\n",
    "    def desenhe(self):\n",
    "        area = 4*math.pi*self.raio**2\n",
    "        volume = (4/3)*math.pi*self.raio**3\n",
    "        print(f\"A(o) {type(self).__name__} está centrada(o) em ({self.x}, {self.y}, {self.z}).\\n\"\\\n",
    "             f\"Sua área superficial é de {round(area, 2)} e seu volume é de {round(volume, 2)}.\")\n",
    "\n",
    "class Cubo(Forma3D):\n",
    "    \"\"\"Classe Cubo. Herda de Forma3D.\n",
    "    \n",
    "        Atributos:\n",
    "            - x : coordenada inicial em x.\n",
    "            - y : coordenada inicial em y.\n",
    "            - z : coordenada inicial em z.\n",
    "            - largura : tamanho das arestas do cubo.\"\"\"\n",
    "    def __init__(self, x, y, z, largura):\n",
    "        super().__init__(x, y, z)\n",
    "        self.largura = largura\n",
    "    def desenhe(self):\n",
    "        area = 6*self.largura**2\n",
    "        volume = self.largura**3\n",
    "        print(f\"O(a) {type(self).__name__} está centrado(a) em ({self.x}, {self.y}, {self.z}).\\n\"\\\n",
    "             f\"Sua área superficial é de {round(area, 2)} e seu volume é de {round(volume, 2)}.\")\n",
    "\n",
    "class Cilindro(Forma3D):\n",
    "    \"\"\"Classe Cilindro. Herda de Forma3D.\n",
    "    \n",
    "        Atributos:\n",
    "            - x : coordenada inicial em x.\n",
    "            - y : coordenada inicial em y.\n",
    "            - z : coordenada inicial em z.\n",
    "            - raio : raio da base do cilindro.\n",
    "            - altura : altura do cilindro.\"\"\"\n",
    "    def __init__(self, x, y, z, raio, altura):\n",
    "        super().__init__(x, y, z)\n",
    "        self.raio, self.altura = raio, altura\n",
    "    def desenhe(self):\n",
    "        area = math.pi*self.raio**2 + 2*math.pi*self.raio*self.altura\n",
    "        volume = math.pi*self.raio**2*self.altura\n",
    "        print(f\"O(a) {type(self).__name__} está centrado(a) em ({self.x}, {self.y}, {self.z}).\\n\"\\\n",
    "             f\"Sua área superficial é de {round(area, 2)} e seu volume é de {round(volume, 2)}.\")\n",
    "\n",
    "class Quadro:\n",
    "    \"\"\"Classe Quadro.\"\"\"\n",
    "    def __init__(self):\n",
    "        self.figuras_geometricas = []\n",
    "    def incluir(self, fig):\n",
    "        self.figuras_geometricas.append(fig)\n",
    "    def remover(self, n):\n",
    "        self.figuras_geometricas.pop(n-1)\n",
    "    def desenhe(self):\n",
    "        for idx, f in enumerate(self.figuras_geometricas):\n",
    "            print(\">>> Figura \", idx + 1)\n",
    "            f.desenhe()\n",
    "    "
   ]
  },
  {
   "cell_type": "markdown",
   "id": "e65abdd3-d7ad-4482-b386-2ced7eea7a23",
   "metadata": {},
   "source": [
    "## Teste das Classes"
   ]
  },
  {
   "cell_type": "markdown",
   "id": "d91490fa-2647-49d1-8da0-40f443d83557",
   "metadata": {},
   "source": [
    "* Forma geométrica"
   ]
  },
  {
   "cell_type": "code",
   "execution_count": 2,
   "id": "f7bcda1f-7f5c-4702-b88e-5fd6e3819768",
   "metadata": {},
   "outputs": [
    {
     "data": {
      "text/plain": [
       "(0, 0)"
      ]
     },
     "execution_count": 2,
     "metadata": {},
     "output_type": "execute_result"
    }
   ],
   "source": [
    "fg = FormaGeometrica(0,0)\n",
    "fg.x, fg.y"
   ]
  },
  {
   "cell_type": "code",
   "execution_count": 3,
   "id": "70bc7271-e40b-411a-9fcc-f46e978e4f6c",
   "metadata": {},
   "outputs": [
    {
     "name": "stdout",
     "output_type": "stream",
     "text": [
      "A(o) FormaGeometrica está centrada(o) em (0, 0)\n"
     ]
    }
   ],
   "source": [
    "fg.desenhe()"
   ]
  },
  {
   "cell_type": "markdown",
   "id": "3d334132-b4d9-4e40-803f-2682b63b43e2",
   "metadata": {},
   "source": [
    "* Forma 2D"
   ]
  },
  {
   "cell_type": "code",
   "execution_count": 4,
   "id": "aeba7e7e-57c2-42f8-9094-c8661b9f6cea",
   "metadata": {},
   "outputs": [
    {
     "data": {
      "text/plain": [
       "(1, 1)"
      ]
     },
     "execution_count": 4,
     "metadata": {},
     "output_type": "execute_result"
    }
   ],
   "source": [
    "f2d = Forma2D(1,1)\n",
    "f2d.x, f2d.y"
   ]
  },
  {
   "cell_type": "code",
   "execution_count": 5,
   "id": "f869bf09-da1e-4392-8091-53977a446978",
   "metadata": {},
   "outputs": [
    {
     "name": "stdout",
     "output_type": "stream",
     "text": [
      "A(o) Forma2D está centrada(o) em (1, 1)\n"
     ]
    }
   ],
   "source": [
    "f2d.desenhe()"
   ]
  },
  {
   "cell_type": "markdown",
   "id": "a2a50b06-cd61-4601-9556-e7c261364072",
   "metadata": {},
   "source": [
    "* Forma 3D"
   ]
  },
  {
   "cell_type": "code",
   "execution_count": 6,
   "id": "f9fe7761-f661-4bd4-b063-83990b19b5b3",
   "metadata": {},
   "outputs": [
    {
     "data": {
      "text/plain": [
       "(2, 2, 2)"
      ]
     },
     "execution_count": 6,
     "metadata": {},
     "output_type": "execute_result"
    }
   ],
   "source": [
    "f3d = Forma3D(2,2,2)\n",
    "f3d.x, f3d.y, f3d.z"
   ]
  },
  {
   "cell_type": "code",
   "execution_count": 7,
   "id": "6b0ba2c9-6fe4-42d6-9159-f580382f2d9d",
   "metadata": {},
   "outputs": [
    {
     "name": "stdout",
     "output_type": "stream",
     "text": [
      "A(o) Forma3D está centrada(o) em (2, 2, 2)\n"
     ]
    }
   ],
   "source": [
    "f3d.desenhe()"
   ]
  },
  {
   "cell_type": "markdown",
   "id": "3fffe3c6-c52a-4dd1-8557-54b8d555bd56",
   "metadata": {},
   "source": [
    "* Poligono"
   ]
  },
  {
   "cell_type": "code",
   "execution_count": 8,
   "id": "bd88c009-008e-491c-aaa8-cd522781b074",
   "metadata": {},
   "outputs": [
    {
     "data": {
      "text/plain": [
       "(3, 3, 2, 6)"
      ]
     },
     "execution_count": 8,
     "metadata": {},
     "output_type": "execute_result"
    }
   ],
   "source": [
    "pol = Poligono(3,3,2,6)\n",
    "pol.x, pol.y, pol.largura, pol.n_lados"
   ]
  },
  {
   "cell_type": "code",
   "execution_count": 9,
   "id": "714a86d6-8e67-44b1-ab7a-302d9cceff9b",
   "metadata": {},
   "outputs": [
    {
     "name": "stdout",
     "output_type": "stream",
     "text": [
      "O(a) Poligono está centrado(a) em (3, 3).\n",
      "Seu perímetro é de 12 e sua área é de 10.39.\n"
     ]
    }
   ],
   "source": [
    "pol.desenhe()"
   ]
  },
  {
   "cell_type": "markdown",
   "id": "4a8cb7e3-dd9c-4473-906c-0b49b9969c91",
   "metadata": {},
   "source": [
    "* Retângulo"
   ]
  },
  {
   "cell_type": "code",
   "execution_count": 10,
   "id": "062223be-9aab-4110-bebb-0a3b4be4865b",
   "metadata": {},
   "outputs": [
    {
     "data": {
      "text/plain": [
       "(4, 4, 2, 3)"
      ]
     },
     "execution_count": 10,
     "metadata": {},
     "output_type": "execute_result"
    }
   ],
   "source": [
    "ret = Retangulo(4,4,2,3)\n",
    "ret.x, ret.y, ret.largura, ret.altura"
   ]
  },
  {
   "cell_type": "code",
   "execution_count": 11,
   "id": "c7fdb5d6-12c3-4f9f-a1ee-7c2b8e6b044a",
   "metadata": {},
   "outputs": [
    {
     "name": "stdout",
     "output_type": "stream",
     "text": [
      "O(a) Retangulo está centrado(a) em (4, 4).\n",
      "Seu perímetro é de 5 e sua área é de 6.\n"
     ]
    }
   ],
   "source": [
    "ret.desenhe()"
   ]
  },
  {
   "cell_type": "markdown",
   "id": "077c00f8-2f82-4b79-b3b0-b00c811d8309",
   "metadata": {},
   "source": [
    "* Quadrado"
   ]
  },
  {
   "cell_type": "code",
   "execution_count": 12,
   "id": "f12a70cb-0994-49b4-9a51-da7de147713e",
   "metadata": {},
   "outputs": [
    {
     "data": {
      "text/plain": [
       "(5, 5, 2, 2)"
      ]
     },
     "execution_count": 12,
     "metadata": {},
     "output_type": "execute_result"
    }
   ],
   "source": [
    "quad = Quadrado(5,5,2,2)\n",
    "quad.x, quad.y, quad.largura, quad.altura"
   ]
  },
  {
   "cell_type": "code",
   "execution_count": 13,
   "id": "b5030828-a478-49e1-b842-27855a57a78e",
   "metadata": {},
   "outputs": [
    {
     "name": "stdout",
     "output_type": "stream",
     "text": [
      "O(a) Quadrado está centrado(a) em (5, 5).\n",
      "Seu perímetro é de 4 e sua área é de 4.\n"
     ]
    }
   ],
   "source": [
    "quad.desenhe()"
   ]
  },
  {
   "cell_type": "markdown",
   "id": "3475d7f2-48ac-4486-82e0-939ed8c484b4",
   "metadata": {},
   "source": [
    "* Circulo"
   ]
  },
  {
   "cell_type": "code",
   "execution_count": 14,
   "id": "5082ca4b-400d-4eca-9631-72f4db725579",
   "metadata": {},
   "outputs": [
    {
     "data": {
      "text/plain": [
       "(6, 6, 5)"
      ]
     },
     "execution_count": 14,
     "metadata": {},
     "output_type": "execute_result"
    }
   ],
   "source": [
    "circ = Circulo(6,6,5)\n",
    "circ.x, circ.y, circ.raio"
   ]
  },
  {
   "cell_type": "code",
   "execution_count": 15,
   "id": "7bb52697-4444-48d7-b6fa-0f2c4617c1d7",
   "metadata": {},
   "outputs": [
    {
     "name": "stdout",
     "output_type": "stream",
     "text": [
      "O(a) Circulo está centrado(a) em (6, 6).\n",
      "Seu perímetro é de 31.42 e sua área é de 78.54.\n"
     ]
    }
   ],
   "source": [
    "circ.desenhe()"
   ]
  },
  {
   "cell_type": "markdown",
   "id": "77327481-a31c-449f-9bdf-fae16c0c92d8",
   "metadata": {},
   "source": [
    "* Esfera"
   ]
  },
  {
   "cell_type": "code",
   "execution_count": 16,
   "id": "2bcd828b-f9e2-42aa-b8c6-17798cdc587b",
   "metadata": {},
   "outputs": [
    {
     "data": {
      "text/plain": [
       "(7, 7, 7, 5)"
      ]
     },
     "execution_count": 16,
     "metadata": {},
     "output_type": "execute_result"
    }
   ],
   "source": [
    "esf = Esfera(7,7,7,5)\n",
    "esf.x, esf.y, esf.z, esf.raio"
   ]
  },
  {
   "cell_type": "code",
   "execution_count": 17,
   "id": "fbbea042-e7d7-4d37-a340-0f6ec4b4d855",
   "metadata": {},
   "outputs": [
    {
     "name": "stdout",
     "output_type": "stream",
     "text": [
      "A(o) Esfera está centrada(o) em (7, 7, 7).\n",
      "Sua área superficial é de 314.16 e seu volume é de 523.6.\n"
     ]
    }
   ],
   "source": [
    "esf.desenhe()"
   ]
  },
  {
   "cell_type": "markdown",
   "id": "f78bb6d3-4357-4f77-baff-9eda790b4809",
   "metadata": {},
   "source": [
    "* Cubo"
   ]
  },
  {
   "cell_type": "code",
   "execution_count": 18,
   "id": "17ba7107-a757-4ad2-b5ad-b247f1989cbb",
   "metadata": {},
   "outputs": [
    {
     "data": {
      "text/plain": [
       "(8, 8, 8, 2)"
      ]
     },
     "execution_count": 18,
     "metadata": {},
     "output_type": "execute_result"
    }
   ],
   "source": [
    "cub = Cubo(8,8,8,2)\n",
    "cub.x, cub.y, cub.z, cub.largura"
   ]
  },
  {
   "cell_type": "code",
   "execution_count": 19,
   "id": "48ea6c29-93a2-4d37-9a79-2e9eddf6eecc",
   "metadata": {},
   "outputs": [
    {
     "name": "stdout",
     "output_type": "stream",
     "text": [
      "O(a) Cubo está centrado(a) em (8, 8, 8).\n",
      "Sua área superficial é de 24 e seu volume é de 8.\n"
     ]
    }
   ],
   "source": [
    "cub.desenhe()"
   ]
  },
  {
   "cell_type": "markdown",
   "id": "119c2428-1a2c-49dc-a6b8-7d8b9b31871a",
   "metadata": {},
   "source": [
    "* Cilindro"
   ]
  },
  {
   "cell_type": "code",
   "execution_count": 20,
   "id": "0f9e7033-2d58-4d70-a619-31cfd8356376",
   "metadata": {},
   "outputs": [
    {
     "data": {
      "text/plain": [
       "(9, 9, 9, 3, 5)"
      ]
     },
     "execution_count": 20,
     "metadata": {},
     "output_type": "execute_result"
    }
   ],
   "source": [
    "cil = Cilindro(9,9,9,3,5)\n",
    "cil.x, cil.y, cil.z, cil.raio, cil.altura"
   ]
  },
  {
   "cell_type": "code",
   "execution_count": 21,
   "id": "58a885a0-a442-4c9a-8ac7-c0336a2743ee",
   "metadata": {},
   "outputs": [
    {
     "name": "stdout",
     "output_type": "stream",
     "text": [
      "O(a) Cilindro está centrado(a) em (9, 9, 9).\n",
      "Sua área superficial é de 122.52 e seu volume é de 141.37.\n"
     ]
    }
   ],
   "source": [
    "cil.desenhe()"
   ]
  },
  {
   "cell_type": "markdown",
   "id": "b789b81e-36be-4e6c-bab3-329acb491d3f",
   "metadata": {},
   "source": [
    "* Quadro"
   ]
  },
  {
   "cell_type": "code",
   "execution_count": 22,
   "id": "e456c325-1629-45c2-ae3d-b6fc23a21bac",
   "metadata": {},
   "outputs": [],
   "source": [
    "q = Quadro()\n",
    "q.incluir(fg)\n",
    "q.incluir(f2d)\n",
    "q.incluir(f3d)\n",
    "q.incluir(pol)\n",
    "q.incluir(ret)\n",
    "q.incluir(quad)\n",
    "q.incluir(circ)\n",
    "q.incluir(esf)\n",
    "q.incluir(cub)\n",
    "q.incluir(cil)"
   ]
  },
  {
   "cell_type": "code",
   "execution_count": 23,
   "id": "41c8e4c6-94dc-4a4b-88e4-d5421e19c91a",
   "metadata": {},
   "outputs": [
    {
     "name": "stdout",
     "output_type": "stream",
     "text": [
      ">>> Figura  1\n",
      "A(o) FormaGeometrica está centrada(o) em (0, 0)\n",
      ">>> Figura  2\n",
      "A(o) Forma2D está centrada(o) em (1, 1)\n",
      ">>> Figura  3\n",
      "A(o) Forma3D está centrada(o) em (2, 2, 2)\n",
      ">>> Figura  4\n",
      "O(a) Poligono está centrado(a) em (3, 3).\n",
      "Seu perímetro é de 12 e sua área é de 10.39.\n",
      ">>> Figura  5\n",
      "O(a) Retangulo está centrado(a) em (4, 4).\n",
      "Seu perímetro é de 5 e sua área é de 6.\n",
      ">>> Figura  6\n",
      "O(a) Quadrado está centrado(a) em (5, 5).\n",
      "Seu perímetro é de 4 e sua área é de 4.\n",
      ">>> Figura  7\n",
      "O(a) Circulo está centrado(a) em (6, 6).\n",
      "Seu perímetro é de 31.42 e sua área é de 78.54.\n",
      ">>> Figura  8\n",
      "A(o) Esfera está centrada(o) em (7, 7, 7).\n",
      "Sua área superficial é de 314.16 e seu volume é de 523.6.\n",
      ">>> Figura  9\n",
      "O(a) Cubo está centrado(a) em (8, 8, 8).\n",
      "Sua área superficial é de 24 e seu volume é de 8.\n",
      ">>> Figura  10\n",
      "O(a) Cilindro está centrado(a) em (9, 9, 9).\n",
      "Sua área superficial é de 122.52 e seu volume é de 141.37.\n"
     ]
    }
   ],
   "source": [
    "q.desenhe()"
   ]
  },
  {
   "cell_type": "code",
   "execution_count": 24,
   "id": "d79dc529-4074-4f57-88c9-48098de3eb42",
   "metadata": {},
   "outputs": [
    {
     "name": "stdout",
     "output_type": "stream",
     "text": [
      ">>> Figura  1\n",
      "A(o) Forma2D está centrada(o) em (1, 1)\n",
      ">>> Figura  2\n",
      "A(o) Forma3D está centrada(o) em (2, 2, 2)\n",
      ">>> Figura  3\n",
      "O(a) Poligono está centrado(a) em (3, 3).\n",
      "Seu perímetro é de 12 e sua área é de 10.39.\n",
      ">>> Figura  4\n",
      "O(a) Retangulo está centrado(a) em (4, 4).\n",
      "Seu perímetro é de 5 e sua área é de 6.\n",
      ">>> Figura  5\n",
      "O(a) Quadrado está centrado(a) em (5, 5).\n",
      "Seu perímetro é de 4 e sua área é de 4.\n",
      ">>> Figura  6\n",
      "O(a) Circulo está centrado(a) em (6, 6).\n",
      "Seu perímetro é de 31.42 e sua área é de 78.54.\n",
      ">>> Figura  7\n",
      "A(o) Esfera está centrada(o) em (7, 7, 7).\n",
      "Sua área superficial é de 314.16 e seu volume é de 523.6.\n",
      ">>> Figura  8\n",
      "O(a) Cubo está centrado(a) em (8, 8, 8).\n",
      "Sua área superficial é de 24 e seu volume é de 8.\n",
      ">>> Figura  9\n",
      "O(a) Cilindro está centrado(a) em (9, 9, 9).\n",
      "Sua área superficial é de 122.52 e seu volume é de 141.37.\n"
     ]
    }
   ],
   "source": [
    "q.remover(1)\n",
    "q.desenhe()"
   ]
  },
  {
   "cell_type": "code",
   "execution_count": null,
   "id": "92834197-0a4d-4f16-b989-c7cfc9625720",
   "metadata": {},
   "outputs": [],
   "source": []
  }
 ],
 "metadata": {
  "kernelspec": {
   "display_name": "Python 3",
   "language": "python",
   "name": "python3"
  },
  "language_info": {
   "codemirror_mode": {
    "name": "ipython",
    "version": 3
   },
   "file_extension": ".py",
   "mimetype": "text/x-python",
   "name": "python",
   "nbconvert_exporter": "python",
   "pygments_lexer": "ipython3",
   "version": "3.8.8"
  }
 },
 "nbformat": 4,
 "nbformat_minor": 5
}
