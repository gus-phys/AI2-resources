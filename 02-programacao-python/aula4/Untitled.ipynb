{
 "cells": [
  {
   "cell_type": "markdown",
   "id": "90fe2129-d763-415e-8209-c6bdfea17094",
   "metadata": {},
   "source": [
    "# Classes"
   ]
  },
  {
   "cell_type": "code",
   "execution_count": 16,
   "id": "bf1a1576-662d-4d60-9bbd-6e9429e37564",
   "metadata": {},
   "outputs": [],
   "source": [
    "class FormaGeometrica:\n",
    "    def __init__(self, x, y):\n",
    "        self.x, self.y = x, y\n",
    "    def desenhe(self):\n",
    "        print(f\"A(o) {type(self).__name__} está centrada(o) em ({self.x}, {self.y})\")\n",
    "\n",
    "class Forma2D(FormaGeometrica):\n",
    "    def __init__(self, x, y):\n",
    "        super().__init__(x, y)\n",
    "        \n",
    "class Forma3D(FormaGeometrica):\n",
    "    def __init__(self, x, y, z):\n",
    "        super().__init__(x, y)\n",
    "        self.z = z\n",
    "    def desenhe(self):\n",
    "        print(f\"A(o) {type(self).__name__} está centrada(o) em ({self.x}, {self.y}, {self.z})\")\n",
    "        "
   ]
  },
  {
   "cell_type": "markdown",
   "id": "e65abdd3-d7ad-4482-b386-2ced7eea7a23",
   "metadata": {},
   "source": [
    "## Teste das Classes"
   ]
  },
  {
   "cell_type": "markdown",
   "id": "d91490fa-2647-49d1-8da0-40f443d83557",
   "metadata": {},
   "source": [
    "* Forma geométrica"
   ]
  },
  {
   "cell_type": "code",
   "execution_count": 4,
   "id": "f7bcda1f-7f5c-4702-b88e-5fd6e3819768",
   "metadata": {},
   "outputs": [
    {
     "data": {
      "text/plain": [
       "(0, 0)"
      ]
     },
     "execution_count": 4,
     "metadata": {},
     "output_type": "execute_result"
    }
   ],
   "source": [
    "fg = FormaGeometrica(0,0)\n",
    "fg.x, fg.y"
   ]
  },
  {
   "cell_type": "code",
   "execution_count": 5,
   "id": "70bc7271-e40b-411a-9fcc-f46e978e4f6c",
   "metadata": {},
   "outputs": [
    {
     "name": "stdout",
     "output_type": "stream",
     "text": [
      "A(o) FormaGeometrica está centrada(o) em (0, 0)\n"
     ]
    }
   ],
   "source": [
    "fg.desenhe()"
   ]
  },
  {
   "cell_type": "markdown",
   "id": "3d334132-b4d9-4e40-803f-2682b63b43e2",
   "metadata": {},
   "source": [
    "* Forma 2D"
   ]
  },
  {
   "cell_type": "code",
   "execution_count": 10,
   "id": "aeba7e7e-57c2-42f8-9094-c8661b9f6cea",
   "metadata": {},
   "outputs": [
    {
     "data": {
      "text/plain": [
       "(1, 1)"
      ]
     },
     "execution_count": 10,
     "metadata": {},
     "output_type": "execute_result"
    }
   ],
   "source": [
    "f2d = Forma2D(1,1)\n",
    "f2d.x, f2d.y"
   ]
  },
  {
   "cell_type": "code",
   "execution_count": 11,
   "id": "f869bf09-da1e-4392-8091-53977a446978",
   "metadata": {},
   "outputs": [
    {
     "name": "stdout",
     "output_type": "stream",
     "text": [
      "A(o) Forma2D está centrada(o) em (1, 1)\n"
     ]
    }
   ],
   "source": [
    "f2d.desenhe()"
   ]
  },
  {
   "cell_type": "markdown",
   "id": "a2a50b06-cd61-4601-9556-e7c261364072",
   "metadata": {},
   "source": [
    "* Forma 3D"
   ]
  },
  {
   "cell_type": "code",
   "execution_count": 17,
   "id": "f9fe7761-f661-4bd4-b063-83990b19b5b3",
   "metadata": {},
   "outputs": [
    {
     "data": {
      "text/plain": [
       "(2, 2, 2)"
      ]
     },
     "execution_count": 17,
     "metadata": {},
     "output_type": "execute_result"
    }
   ],
   "source": [
    "f3d = Forma3D(2,2,2)\n",
    "f3d.x, f3d.y, f3d.z"
   ]
  },
  {
   "cell_type": "code",
   "execution_count": 18,
   "id": "6b0ba2c9-6fe4-42d6-9159-f580382f2d9d",
   "metadata": {},
   "outputs": [
    {
     "name": "stdout",
     "output_type": "stream",
     "text": [
      "A(o) Forma3D está centrada(o) em (2, 2, 2)\n"
     ]
    }
   ],
   "source": [
    "f3d.desenhe()"
   ]
  },
  {
   "cell_type": "markdown",
   "id": "3fffe3c6-c52a-4dd1-8557-54b8d555bd56",
   "metadata": {},
   "source": [
    "* Poligono"
   ]
  },
  {
   "cell_type": "code",
   "execution_count": null,
   "id": "bd88c009-008e-491c-aaa8-cd522781b074",
   "metadata": {},
   "outputs": [],
   "source": []
  },
  {
   "cell_type": "code",
   "execution_count": null,
   "id": "714a86d6-8e67-44b1-ab7a-302d9cceff9b",
   "metadata": {},
   "outputs": [],
   "source": []
  },
  {
   "cell_type": "markdown",
   "id": "077c00f8-2f82-4b79-b3b0-b00c811d8309",
   "metadata": {},
   "source": [
    "* Quadrado"
   ]
  },
  {
   "cell_type": "code",
   "execution_count": null,
   "id": "f12a70cb-0994-49b4-9a51-da7de147713e",
   "metadata": {},
   "outputs": [],
   "source": []
  },
  {
   "cell_type": "code",
   "execution_count": null,
   "id": "b5030828-a478-49e1-b842-27855a57a78e",
   "metadata": {},
   "outputs": [],
   "source": []
  },
  {
   "cell_type": "markdown",
   "id": "4a8cb7e3-dd9c-4473-906c-0b49b9969c91",
   "metadata": {},
   "source": [
    "* Retângulo"
   ]
  },
  {
   "cell_type": "code",
   "execution_count": null,
   "id": "062223be-9aab-4110-bebb-0a3b4be4865b",
   "metadata": {},
   "outputs": [],
   "source": []
  },
  {
   "cell_type": "code",
   "execution_count": null,
   "id": "c7fdb5d6-12c3-4f9f-a1ee-7c2b8e6b044a",
   "metadata": {},
   "outputs": [],
   "source": []
  },
  {
   "cell_type": "markdown",
   "id": "3475d7f2-48ac-4486-82e0-939ed8c484b4",
   "metadata": {},
   "source": [
    "* Circulo"
   ]
  },
  {
   "cell_type": "code",
   "execution_count": null,
   "id": "5082ca4b-400d-4eca-9631-72f4db725579",
   "metadata": {},
   "outputs": [],
   "source": []
  },
  {
   "cell_type": "code",
   "execution_count": null,
   "id": "7bb52697-4444-48d7-b6fa-0f2c4617c1d7",
   "metadata": {},
   "outputs": [],
   "source": []
  },
  {
   "cell_type": "markdown",
   "id": "77327481-a31c-449f-9bdf-fae16c0c92d8",
   "metadata": {},
   "source": [
    "* Esfera"
   ]
  },
  {
   "cell_type": "code",
   "execution_count": null,
   "id": "2bcd828b-f9e2-42aa-b8c6-17798cdc587b",
   "metadata": {},
   "outputs": [],
   "source": []
  },
  {
   "cell_type": "code",
   "execution_count": null,
   "id": "fbbea042-e7d7-4d37-a340-0f6ec4b4d855",
   "metadata": {},
   "outputs": [],
   "source": []
  },
  {
   "cell_type": "markdown",
   "id": "f78bb6d3-4357-4f77-baff-9eda790b4809",
   "metadata": {},
   "source": [
    "* Cubo"
   ]
  },
  {
   "cell_type": "code",
   "execution_count": null,
   "id": "17ba7107-a757-4ad2-b5ad-b247f1989cbb",
   "metadata": {},
   "outputs": [],
   "source": []
  },
  {
   "cell_type": "code",
   "execution_count": null,
   "id": "48ea6c29-93a2-4d37-9a79-2e9eddf6eecc",
   "metadata": {},
   "outputs": [],
   "source": []
  },
  {
   "cell_type": "markdown",
   "id": "119c2428-1a2c-49dc-a6b8-7d8b9b31871a",
   "metadata": {},
   "source": [
    "* Cilindro"
   ]
  },
  {
   "cell_type": "code",
   "execution_count": null,
   "id": "0f9e7033-2d58-4d70-a619-31cfd8356376",
   "metadata": {},
   "outputs": [],
   "source": []
  },
  {
   "cell_type": "code",
   "execution_count": null,
   "id": "58a885a0-a442-4c9a-8ac7-c0336a2743ee",
   "metadata": {},
   "outputs": [],
   "source": []
  },
  {
   "cell_type": "markdown",
   "id": "b789b81e-36be-4e6c-bab3-329acb491d3f",
   "metadata": {},
   "source": [
    "* Quadro"
   ]
  },
  {
   "cell_type": "code",
   "execution_count": null,
   "id": "e456c325-1629-45c2-ae3d-b6fc23a21bac",
   "metadata": {},
   "outputs": [],
   "source": []
  },
  {
   "cell_type": "code",
   "execution_count": null,
   "id": "1984df3c-b802-4cb5-84a3-328910f2a27e",
   "metadata": {},
   "outputs": [],
   "source": []
  }
 ],
 "metadata": {
  "kernelspec": {
   "display_name": "Python 3",
   "language": "python",
   "name": "python3"
  },
  "language_info": {
   "codemirror_mode": {
    "name": "ipython",
    "version": 3
   },
   "file_extension": ".py",
   "mimetype": "text/x-python",
   "name": "python",
   "nbconvert_exporter": "python",
   "pygments_lexer": "ipython3",
   "version": "3.8.8"
  }
 },
 "nbformat": 4,
 "nbformat_minor": 5
}
