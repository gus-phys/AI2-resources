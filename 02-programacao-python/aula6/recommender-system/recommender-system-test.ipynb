{
 "cells": [
  {
   "cell_type": "markdown",
   "id": "40893c26-9c8f-429d-8c61-32ee6a084c8a",
   "metadata": {},
   "source": [
    "# Teste do script"
   ]
  },
  {
   "cell_type": "code",
   "execution_count": 1,
   "id": "49ca68f2-71d0-40e1-bc04-27c080f3a114",
   "metadata": {},
   "outputs": [],
   "source": [
    "from recommender_system import *"
   ]
  },
  {
   "cell_type": "code",
   "execution_count": 2,
   "id": "5ce6fe59-dbc0-454b-a412-e5178b59f450",
   "metadata": {},
   "outputs": [
    {
     "data": {
      "text/plain": [
       "943"
      ]
     },
     "execution_count": 2,
     "metadata": {},
     "output_type": "execute_result"
    }
   ],
   "source": [
    "len(sr.usuarios)"
   ]
  },
  {
   "cell_type": "code",
   "execution_count": 3,
   "id": "07618e56-91d8-46d2-9675-593a2646b2f6",
   "metadata": {},
   "outputs": [
    {
     "data": {
      "text/plain": [
       "19"
      ]
     },
     "execution_count": 3,
     "metadata": {},
     "output_type": "execute_result"
    }
   ],
   "source": [
    "len(sr.generos)"
   ]
  },
  {
   "cell_type": "code",
   "execution_count": 4,
   "id": "1e360e0a-0365-422e-bdf0-223ba85bac81",
   "metadata": {},
   "outputs": [
    {
     "data": {
      "text/plain": [
       "1"
      ]
     },
     "execution_count": 4,
     "metadata": {},
     "output_type": "execute_result"
    }
   ],
   "source": [
    "sr.usuarios[\"181\"].avaliacoes[5].nota"
   ]
  },
  {
   "cell_type": "code",
   "execution_count": 5,
   "id": "c0ef7bb6-d2e2-490d-8c12-05529f5aa4d3",
   "metadata": {},
   "outputs": [
    {
     "name": "stdout",
     "output_type": "stream",
     "text": [
      "1081\t1\n",
      "220\t4\n",
      "264\t2\n",
      "872\t1\n",
      "3\t2\n",
      "1295\t1\n",
      "279\t1\n",
      "325\t2\n",
      "938\t1\n",
      "306\t1\n",
      "741\t1\n",
      "1015\t1\n",
      "762\t2\n",
      "121\t4\n",
      "870\t2\n",
      "1060\t1\n",
      "1288\t1\n",
      "927\t1\n",
      "696\t2\n",
      "405\t4\n"
     ]
    }
   ],
   "source": [
    "for i in range(20):\n",
    "    nota = sr.usuarios[\"181\"].avaliacoes[i].nota\n",
    "    filme_id = sr.usuarios[\"181\"].avaliacoes[i].filme.id_filme\n",
    "    print(f\"{filme_id}\\t{nota}\")"
   ]
  },
  {
   "cell_type": "code",
   "execution_count": 12,
   "id": "a669dc65-14db-4fd3-8e26-5e8e11b713f7",
   "metadata": {},
   "outputs": [
    {
     "data": {
      "text/plain": [
       "array([3., 0., 2., ..., 0., 0., 0.])"
      ]
     },
     "execution_count": 12,
     "metadata": {},
     "output_type": "execute_result"
    }
   ],
   "source": [
    "vetor_usuario1 = sr.usuarios[\"181\"].as_numpy_array(len(sr.filmes))\n",
    "vetor_usuario1"
   ]
  },
  {
   "cell_type": "code",
   "execution_count": 13,
   "id": "bdf1a907-7ebd-41b2-86ab-64f921661843",
   "metadata": {},
   "outputs": [
    {
     "data": {
      "text/plain": [
       "(1682,)"
      ]
     },
     "execution_count": 13,
     "metadata": {},
     "output_type": "execute_result"
    }
   ],
   "source": [
    "vetor_usuario1.shape"
   ]
  },
  {
   "cell_type": "code",
   "execution_count": 14,
   "id": "9a71bfdb-1cc1-4854-9aab-a452d1eef875",
   "metadata": {},
   "outputs": [
    {
     "data": {
      "text/plain": [
       "(array([   0,    2,    5,    6,    8,    9,   12,   13,   14,   15,   17,\n",
       "          18,   19,   20,   23,   24,   92,   99,  102,  103,  104,  105,\n",
       "         106,  107,  108,  110,  111,  115,  116,  117,  119,  120,  121,\n",
       "         122,  123,  124,  125,  128,  129,  136,  145,  146,  147,  148,\n",
       "         149,  150,  219,  220,  221,  223,  224,  234,  235,  236,  239,\n",
       "         241,  242,  244,  250,  255,  257,  258,  259,  260,  261,  262,\n",
       "         263,  265,  267,  268,  269,  272,  273,  274,  275,  276,  277,\n",
       "         278,  279,  280,  281,  282,  283,  284,  285,  286,  287,  288,\n",
       "         289,  290,  291,  293,  298,  299,  300,  301,  302,  303,  304,\n",
       "         305,  306,  307,  318,  320,  321,  322,  323,  324,  325,  326,\n",
       "         327,  328,  329,  330,  331,  332,  333,  334,  335,  336,  357,\n",
       "         358,  359,  362,  367,  368,  369,  404,  405,  406,  407,  408,\n",
       "         409,  410,  411,  412,  423,  454,  455,  456,  457,  458,  459,\n",
       "         470,  471,  472,  474,  475,  476,  507,  543,  545,  546,  590,\n",
       "         592,  594,  595,  596,  597,  618,  619,  627,  675,  677,  679,\n",
       "         680,  681,  682,  684,  686,  687,  689,  695,  712,  716,  717,\n",
       "         739,  740,  741,  742,  743,  747,  748,  755,  757,  759,  761,\n",
       "         762,  763,  765,  766,  812,  814,  817,  818,  819,  822,  823,\n",
       "         824,  825,  826,  827,  828,  830,  831,  832,  833,  839,  840,\n",
       "         843,  844,  845,  846,  863,  865,  869,  870,  871,  872,  873,\n",
       "         874,  875,  876,  877,  878,  879,  880,  881,  882,  883,  884,\n",
       "         885,  886,  918,  919,  921,  923,  924,  925,  926,  927,  928,\n",
       "         929,  930,  931,  932,  933,  936,  937,  947,  949,  951,  973,\n",
       "         974,  975,  976,  977,  978,  979,  980,  981,  982,  983,  984,\n",
       "         985,  987,  988,  989,  990,  994, 1000, 1001, 1007, 1008, 1009,\n",
       "        1010, 1014, 1016, 1021, 1024, 1025, 1027, 1032, 1033, 1037, 1039,\n",
       "        1046, 1047, 1048, 1050, 1051, 1053, 1056, 1058, 1059, 1060, 1066,\n",
       "        1067, 1078, 1080, 1083, 1084, 1085, 1086, 1092, 1093, 1094, 1096,\n",
       "        1101, 1113, 1114, 1116, 1119, 1127, 1128, 1131, 1133, 1136, 1149,\n",
       "        1150, 1151, 1160, 1161, 1162, 1163, 1164, 1170, 1172, 1173, 1186,\n",
       "        1196, 1197, 1198, 1201, 1214, 1241, 1244, 1251, 1254, 1258, 1264,\n",
       "        1271, 1275, 1276, 1279, 1280, 1281, 1283, 1286, 1287, 1288, 1290,\n",
       "        1294, 1295, 1301, 1311, 1316, 1317, 1318, 1319, 1320, 1321, 1322,\n",
       "        1323, 1324, 1325, 1326, 1327, 1328, 1329, 1330, 1331, 1332, 1333,\n",
       "        1334, 1335, 1336, 1337, 1338, 1339, 1340, 1341, 1342, 1343, 1344,\n",
       "        1345, 1346, 1347, 1348, 1349, 1350, 1351, 1352, 1353, 1354, 1355,\n",
       "        1356, 1357, 1358, 1359, 1360, 1361, 1362, 1363, 1364, 1365, 1366,\n",
       "        1367, 1368, 1369, 1370, 1371, 1372, 1373, 1374, 1375, 1376, 1377,\n",
       "        1378, 1379, 1380, 1381, 1382, 1383, 1384, 1385, 1386, 1387, 1388,\n",
       "        1389, 1390, 1391, 1392, 1393, 1394]),)"
      ]
     },
     "execution_count": 14,
     "metadata": {},
     "output_type": "execute_result"
    }
   ],
   "source": [
    "np.where(vetor_usuario1 != 0)"
   ]
  },
  {
   "cell_type": "code",
   "execution_count": 15,
   "id": "ae1060db-803c-4734-b888-d5a5a707579a",
   "metadata": {},
   "outputs": [
    {
     "data": {
      "text/plain": [
       "0.0"
      ]
     },
     "execution_count": 15,
     "metadata": {},
     "output_type": "execute_result"
    }
   ],
   "source": [
    "vetor_usuario1[1]"
   ]
  },
  {
   "cell_type": "code",
   "execution_count": null,
   "id": "421a0616-c217-4a19-a111-2a15b12270be",
   "metadata": {},
   "outputs": [],
   "source": []
  }
 ],
 "metadata": {
  "kernelspec": {
   "display_name": "Python 3",
   "language": "python",
   "name": "python3"
  },
  "language_info": {
   "codemirror_mode": {
    "name": "ipython",
    "version": 3
   },
   "file_extension": ".py",
   "mimetype": "text/x-python",
   "name": "python",
   "nbconvert_exporter": "python",
   "pygments_lexer": "ipython3",
   "version": "3.8.8"
  }
 },
 "nbformat": 4,
 "nbformat_minor": 5
}
