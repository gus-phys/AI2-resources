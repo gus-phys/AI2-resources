{
 "cells": [
  {
   "cell_type": "code",
   "execution_count": 1,
   "id": "393f17c4-1124-459d-aed0-da32647ba7ae",
   "metadata": {},
   "outputs": [],
   "source": [
    "%run abstract-classes-project.py"
   ]
  },
  {
   "cell_type": "markdown",
   "id": "e65abdd3-d7ad-4482-b386-2ced7eea7a23",
   "metadata": {},
   "source": [
    "## Teste das Classes"
   ]
  },
  {
   "cell_type": "markdown",
   "id": "077c00f8-2f82-4b79-b3b0-b00c811d8309",
   "metadata": {},
   "source": [
    "* Quadrado"
   ]
  },
  {
   "cell_type": "code",
   "execution_count": 2,
   "id": "f12a70cb-0994-49b4-9a51-da7de147713e",
   "metadata": {},
   "outputs": [
    {
     "data": {
      "text/plain": [
       "(5, 5, 2)"
      ]
     },
     "execution_count": 2,
     "metadata": {},
     "output_type": "execute_result"
    }
   ],
   "source": [
    "quad = Quadrado(5,5,2)\n",
    "quad.x, quad.y, quad.largura"
   ]
  },
  {
   "cell_type": "code",
   "execution_count": 3,
   "id": "49f42fba-90d2-4ef0-adc7-7df07da006af",
   "metadata": {},
   "outputs": [
    {
     "data": {
      "text/plain": [
       "(8, 4)"
      ]
     },
     "execution_count": 3,
     "metadata": {},
     "output_type": "execute_result"
    }
   ],
   "source": [
    "quad.calcule_perimetro(), quad.calcule_area()"
   ]
  },
  {
   "cell_type": "code",
   "execution_count": 4,
   "id": "b5030828-a478-49e1-b842-27855a57a78e",
   "metadata": {},
   "outputs": [
    {
     "name": "stdout",
     "output_type": "stream",
     "text": [
      "O(a) Quadrado está centrado(a) em (5, 5).\n",
      "Seu perímetro é de 8 e sua área é de 4.\n"
     ]
    }
   ],
   "source": [
    "quad.desenhe()"
   ]
  },
  {
   "cell_type": "markdown",
   "id": "4a8cb7e3-dd9c-4473-906c-0b49b9969c91",
   "metadata": {},
   "source": [
    "* Retângulo"
   ]
  },
  {
   "cell_type": "code",
   "execution_count": 5,
   "id": "062223be-9aab-4110-bebb-0a3b4be4865b",
   "metadata": {},
   "outputs": [
    {
     "data": {
      "text/plain": [
       "(4, 4, 2, 3)"
      ]
     },
     "execution_count": 5,
     "metadata": {},
     "output_type": "execute_result"
    }
   ],
   "source": [
    "ret = Retangulo(4,4,2,3)\n",
    "ret.x, ret.y, ret.largura, ret.altura"
   ]
  },
  {
   "cell_type": "code",
   "execution_count": 6,
   "id": "117f4c25-8143-49ad-b3b0-ee898109176f",
   "metadata": {},
   "outputs": [
    {
     "data": {
      "text/plain": [
       "(10, 6)"
      ]
     },
     "execution_count": 6,
     "metadata": {},
     "output_type": "execute_result"
    }
   ],
   "source": [
    "ret.calcule_perimetro(), ret.calcule_area()"
   ]
  },
  {
   "cell_type": "code",
   "execution_count": 7,
   "id": "c7fdb5d6-12c3-4f9f-a1ee-7c2b8e6b044a",
   "metadata": {},
   "outputs": [
    {
     "name": "stdout",
     "output_type": "stream",
     "text": [
      "O(a) Retangulo está centrado(a) em (4, 4).\n",
      "Seu perímetro é de 10 e sua área é de 6.\n"
     ]
    }
   ],
   "source": [
    "ret.desenhe()"
   ]
  },
  {
   "cell_type": "markdown",
   "id": "3475d7f2-48ac-4486-82e0-939ed8c484b4",
   "metadata": {},
   "source": [
    "* Circulo"
   ]
  },
  {
   "cell_type": "code",
   "execution_count": 8,
   "id": "5082ca4b-400d-4eca-9631-72f4db725579",
   "metadata": {},
   "outputs": [
    {
     "data": {
      "text/plain": [
       "(6, 6, 5)"
      ]
     },
     "execution_count": 8,
     "metadata": {},
     "output_type": "execute_result"
    }
   ],
   "source": [
    "circ = Circulo(6,6,5)\n",
    "circ.x, circ.y, circ.raio"
   ]
  },
  {
   "cell_type": "code",
   "execution_count": 9,
   "id": "46c71df1-7d6d-4c79-b7c6-71533b4fce53",
   "metadata": {},
   "outputs": [
    {
     "data": {
      "text/plain": [
       "(31.42, 78.54)"
      ]
     },
     "execution_count": 9,
     "metadata": {},
     "output_type": "execute_result"
    }
   ],
   "source": [
    "circ.calcule_perimetro(), circ.calcule_area()"
   ]
  },
  {
   "cell_type": "code",
   "execution_count": 10,
   "id": "7bb52697-4444-48d7-b6fa-0f2c4617c1d7",
   "metadata": {},
   "outputs": [
    {
     "name": "stdout",
     "output_type": "stream",
     "text": [
      "O(a) Circulo está centrado(a) em (6, 6).\n",
      "Seu perímetro é de 31.42 e sua área é de 78.54.\n"
     ]
    }
   ],
   "source": [
    "circ.desenhe()"
   ]
  },
  {
   "cell_type": "markdown",
   "id": "77327481-a31c-449f-9bdf-fae16c0c92d8",
   "metadata": {},
   "source": [
    "* Esfera"
   ]
  },
  {
   "cell_type": "code",
   "execution_count": 11,
   "id": "2bcd828b-f9e2-42aa-b8c6-17798cdc587b",
   "metadata": {},
   "outputs": [
    {
     "data": {
      "text/plain": [
       "(7, 7, 7, 5)"
      ]
     },
     "execution_count": 11,
     "metadata": {},
     "output_type": "execute_result"
    }
   ],
   "source": [
    "esf = Esfera(7,7,7,5)\n",
    "esf.x, esf.y, esf.z, esf.raio"
   ]
  },
  {
   "cell_type": "code",
   "execution_count": 12,
   "id": "31451baa-c264-4d0a-9384-c26298f3e2f1",
   "metadata": {},
   "outputs": [
    {
     "data": {
      "text/plain": [
       "(314.16, 523.6)"
      ]
     },
     "execution_count": 12,
     "metadata": {},
     "output_type": "execute_result"
    }
   ],
   "source": [
    "esf.calcule_area(), esf.calcule_volume()"
   ]
  },
  {
   "cell_type": "code",
   "execution_count": 13,
   "id": "fbbea042-e7d7-4d37-a340-0f6ec4b4d855",
   "metadata": {},
   "outputs": [
    {
     "name": "stdout",
     "output_type": "stream",
     "text": [
      "A(o) Esfera está centrada(o) em (7, 7, 7).\n",
      "Sua área superficial é de 314.16 e seu volume é de 523.6.\n"
     ]
    }
   ],
   "source": [
    "esf.desenhe()"
   ]
  },
  {
   "cell_type": "markdown",
   "id": "f78bb6d3-4357-4f77-baff-9eda790b4809",
   "metadata": {},
   "source": [
    "* Cubo"
   ]
  },
  {
   "cell_type": "code",
   "execution_count": 14,
   "id": "17ba7107-a757-4ad2-b5ad-b247f1989cbb",
   "metadata": {},
   "outputs": [
    {
     "data": {
      "text/plain": [
       "(8, 8, 8, 2)"
      ]
     },
     "execution_count": 14,
     "metadata": {},
     "output_type": "execute_result"
    }
   ],
   "source": [
    "cub = Cubo(8,8,8,2)\n",
    "cub.x, cub.y, cub.z, cub.largura"
   ]
  },
  {
   "cell_type": "code",
   "execution_count": 15,
   "id": "b6d02b21-2eea-4bfb-8da9-bddf878e1abf",
   "metadata": {},
   "outputs": [
    {
     "data": {
      "text/plain": [
       "(24, 8)"
      ]
     },
     "execution_count": 15,
     "metadata": {},
     "output_type": "execute_result"
    }
   ],
   "source": [
    "cub.calcule_area(), cub.calcule_volume()"
   ]
  },
  {
   "cell_type": "code",
   "execution_count": 16,
   "id": "48ea6c29-93a2-4d37-9a79-2e9eddf6eecc",
   "metadata": {},
   "outputs": [
    {
     "name": "stdout",
     "output_type": "stream",
     "text": [
      "A(o) Cubo está centrada(o) em (8, 8, 8).\n",
      "Sua área superficial é de 24 e seu volume é de 8.\n"
     ]
    }
   ],
   "source": [
    "cub.desenhe()"
   ]
  },
  {
   "cell_type": "markdown",
   "id": "119c2428-1a2c-49dc-a6b8-7d8b9b31871a",
   "metadata": {},
   "source": [
    "* Cilindro"
   ]
  },
  {
   "cell_type": "code",
   "execution_count": 17,
   "id": "0f9e7033-2d58-4d70-a619-31cfd8356376",
   "metadata": {},
   "outputs": [
    {
     "data": {
      "text/plain": [
       "(9, 9, 9, 3, 5)"
      ]
     },
     "execution_count": 17,
     "metadata": {},
     "output_type": "execute_result"
    }
   ],
   "source": [
    "cil = Cilindro(9,9,9,3,5)\n",
    "cil.x, cil.y, cil.z, cil.raio, cil.altura"
   ]
  },
  {
   "cell_type": "code",
   "execution_count": 18,
   "id": "38d91ad0-51cc-4980-a4e8-1e00ee9644c7",
   "metadata": {},
   "outputs": [
    {
     "data": {
      "text/plain": [
       "(122.52, 141.37)"
      ]
     },
     "execution_count": 18,
     "metadata": {},
     "output_type": "execute_result"
    }
   ],
   "source": [
    "cil.calcule_area(), cil.calcule_volume()"
   ]
  },
  {
   "cell_type": "code",
   "execution_count": 19,
   "id": "58a885a0-a442-4c9a-8ac7-c0336a2743ee",
   "metadata": {},
   "outputs": [
    {
     "name": "stdout",
     "output_type": "stream",
     "text": [
      "A(o) Cilindro está centrada(o) em (9, 9, 9).\n",
      "Sua área superficial é de 122.52 e seu volume é de 141.37.\n"
     ]
    }
   ],
   "source": [
    "cil.desenhe()"
   ]
  },
  {
   "cell_type": "markdown",
   "id": "b789b81e-36be-4e6c-bab3-329acb491d3f",
   "metadata": {},
   "source": [
    "* Quadro"
   ]
  },
  {
   "cell_type": "code",
   "execution_count": 20,
   "id": "e456c325-1629-45c2-ae3d-b6fc23a21bac",
   "metadata": {},
   "outputs": [],
   "source": [
    "q = Quadro(6)\n",
    "\n",
    "q.incluir(ret)\n",
    "q.incluir(quad)\n",
    "q.incluir(circ)\n",
    "q.incluir(esf)\n",
    "q.incluir(cub)\n",
    "q.incluir(cil)"
   ]
  },
  {
   "cell_type": "code",
   "execution_count": 21,
   "id": "41c8e4c6-94dc-4a4b-88e4-d5421e19c91a",
   "metadata": {},
   "outputs": [
    {
     "name": "stdout",
     "output_type": "stream",
     "text": [
      ">>> Figura  0 <<<\n",
      "O(a) Retangulo está centrado(a) em (4, 4).\n",
      "Seu perímetro é de 10 e sua área é de 6.\n",
      ">>> Figura  1 <<<\n",
      "O(a) Quadrado está centrado(a) em (5, 5).\n",
      "Seu perímetro é de 8 e sua área é de 4.\n",
      ">>> Figura  2 <<<\n",
      "O(a) Circulo está centrado(a) em (6, 6).\n",
      "Seu perímetro é de 31.42 e sua área é de 78.54.\n",
      ">>> Figura  3 <<<\n",
      "A(o) Esfera está centrada(o) em (7, 7, 7).\n",
      "Sua área superficial é de 314.16 e seu volume é de 523.6.\n",
      ">>> Figura  4 <<<\n",
      "A(o) Cubo está centrada(o) em (8, 8, 8).\n",
      "Sua área superficial é de 24 e seu volume é de 8.\n",
      ">>> Figura  5 <<<\n",
      "A(o) Cilindro está centrada(o) em (9, 9, 9).\n",
      "Sua área superficial é de 122.52 e seu volume é de 141.37.\n"
     ]
    }
   ],
   "source": [
    "q.desenhe()"
   ]
  },
  {
   "cell_type": "code",
   "execution_count": 22,
   "id": "d79dc529-4074-4f57-88c9-48098de3eb42",
   "metadata": {},
   "outputs": [
    {
     "name": "stdout",
     "output_type": "stream",
     "text": [
      "Removendo Figura: 2\n"
     ]
    }
   ],
   "source": [
    "q.remover(2)"
   ]
  },
  {
   "cell_type": "code",
   "execution_count": 23,
   "id": "92834197-0a4d-4f16-b989-c7cfc9625720",
   "metadata": {},
   "outputs": [
    {
     "name": "stdout",
     "output_type": "stream",
     "text": [
      ">>> Figura  0 <<<\n",
      "O(a) Retangulo está centrado(a) em (4, 4).\n",
      "Seu perímetro é de 10 e sua área é de 6.\n",
      ">>> Figura  1 <<<\n",
      "O(a) Quadrado está centrado(a) em (5, 5).\n",
      "Seu perímetro é de 8 e sua área é de 4.\n",
      ">>> Figura  2 <<<\n",
      "A(o) Esfera está centrada(o) em (7, 7, 7).\n",
      "Sua área superficial é de 314.16 e seu volume é de 523.6.\n",
      ">>> Figura  3 <<<\n",
      "A(o) Cubo está centrada(o) em (8, 8, 8).\n",
      "Sua área superficial é de 24 e seu volume é de 8.\n",
      ">>> Figura  4 <<<\n",
      "A(o) Cilindro está centrada(o) em (9, 9, 9).\n",
      "Sua área superficial é de 122.52 e seu volume é de 141.37.\n"
     ]
    }
   ],
   "source": [
    "q.desenhe()"
   ]
  },
  {
   "cell_type": "markdown",
   "id": "fb62d73b-b668-4372-9219-f9efcedeb231",
   "metadata": {},
   "source": [
    "* Double Dispatching"
   ]
  },
  {
   "cell_type": "code",
   "execution_count": 24,
   "id": "05520a74-2a78-4a1a-af87-b8392cf2bf23",
   "metadata": {},
   "outputs": [],
   "source": [
    "quad2 = Quadrado(5,5,2)"
   ]
  },
  {
   "cell_type": "code",
   "execution_count": 25,
   "id": "ced7d5de-4683-471a-8c0b-64d1c6f0c96b",
   "metadata": {},
   "outputs": [
    {
     "data": {
      "text/plain": [
       "(False, True, False, False, False, False)"
      ]
     },
     "execution_count": 25,
     "metadata": {},
     "output_type": "execute_result"
    }
   ],
   "source": [
    "quad2 == ret, quad2 == quad, quad2 ==circ, quad2 == esf, quad2 == cub, quad2 ==cil"
   ]
  },
  {
   "cell_type": "code",
   "execution_count": 26,
   "id": "6d8c1d4e-4afc-40dd-aa2c-61fc4d5c767b",
   "metadata": {},
   "outputs": [
    {
     "name": "stdout",
     "output_type": "stream",
     "text": [
      "Removendo Figura: 0\n"
     ]
    }
   ],
   "source": [
    "q.remover_fig(ret)"
   ]
  },
  {
   "cell_type": "code",
   "execution_count": 27,
   "id": "fad7ec63-df75-4f25-ac5f-eba7d3a314b9",
   "metadata": {
    "tags": []
   },
   "outputs": [
    {
     "name": "stdout",
     "output_type": "stream",
     "text": [
      ">>> Figura  0 <<<\n",
      "O(a) Quadrado está centrado(a) em (5, 5).\n",
      "Seu perímetro é de 8 e sua área é de 4.\n",
      ">>> Figura  1 <<<\n",
      "A(o) Esfera está centrada(o) em (7, 7, 7).\n",
      "Sua área superficial é de 314.16 e seu volume é de 523.6.\n",
      ">>> Figura  2 <<<\n",
      "A(o) Cubo está centrada(o) em (8, 8, 8).\n",
      "Sua área superficial é de 24 e seu volume é de 8.\n",
      ">>> Figura  3 <<<\n",
      "A(o) Cilindro está centrada(o) em (9, 9, 9).\n",
      "Sua área superficial é de 122.52 e seu volume é de 141.37.\n"
     ]
    }
   ],
   "source": [
    "q.desenhe()"
   ]
  },
  {
   "cell_type": "markdown",
   "id": "f317ceb3-61ab-482a-8d44-eb310251de61",
   "metadata": {},
   "source": [
    "* Contem"
   ]
  },
  {
   "cell_type": "code",
   "execution_count": 28,
   "id": "b9b42b78-dc98-4fe6-a4b9-92ae3679abf0",
   "metadata": {},
   "outputs": [
    {
     "name": "stdout",
     "output_type": "stream",
     "text": [
      "A figura já foi adicionada à lista.\n"
     ]
    }
   ],
   "source": [
    "q.contem(quad2)"
   ]
  },
  {
   "cell_type": "code",
   "execution_count": 29,
   "id": "77f21229-f32b-4db9-892c-52bdc8c10c9d",
   "metadata": {},
   "outputs": [
    {
     "name": "stdout",
     "output_type": "stream",
     "text": [
      "A figura não foi adicionada ou foi excluída da lista.\n"
     ]
    }
   ],
   "source": [
    "q.contem(ret)"
   ]
  },
  {
   "cell_type": "markdown",
   "id": "66d96366-292b-4a4e-b5da-080d51a61fff",
   "metadata": {},
   "source": [
    "* Exceções"
   ]
  },
  {
   "cell_type": "code",
   "execution_count": 30,
   "id": "44ba8775-86e7-4fb2-8c46-785815ffb676",
   "metadata": {},
   "outputs": [
    {
     "data": {
      "text/plain": [
       "4"
      ]
     },
     "execution_count": 30,
     "metadata": {},
     "output_type": "execute_result"
    }
   ],
   "source": [
    "len(q.figuras_geometricas)"
   ]
  },
  {
   "cell_type": "code",
   "execution_count": 31,
   "id": "9588f141-d810-4cdb-b194-4194e3d02936",
   "metadata": {},
   "outputs": [
    {
     "ename": "ErroDeIndice",
     "evalue": "O valor deve ser inteiro",
     "output_type": "error",
     "traceback": [
      "\u001b[0;31m---------------------------------------------------------------------------\u001b[0m",
      "\u001b[0;31mErroDeIndice\u001b[0m                              Traceback (most recent call last)",
      "\u001b[0;32m<ipython-input-31-51ac5f464378>\u001b[0m in \u001b[0;36m<module>\u001b[0;34m\u001b[0m\n\u001b[0;32m----> 1\u001b[0;31m \u001b[0mq\u001b[0m\u001b[0;34m.\u001b[0m\u001b[0mremover\u001b[0m\u001b[0;34m(\u001b[0m\u001b[0;34m\"a\"\u001b[0m\u001b[0;34m)\u001b[0m\u001b[0;34m\u001b[0m\u001b[0;34m\u001b[0m\u001b[0m\n\u001b[0m",
      "\u001b[0;32m~/Residencia_em_IA/Atividades/AI2/02-programacao-python/aula5/abstract-classes/abstract-classes-project.py\u001b[0m in \u001b[0;36mremover\u001b[0;34m(self, n)\u001b[0m\n\u001b[1;32m    302\u001b[0m     \u001b[0;32mdef\u001b[0m \u001b[0mremover\u001b[0m\u001b[0;34m(\u001b[0m\u001b[0mself\u001b[0m\u001b[0;34m,\u001b[0m \u001b[0mn\u001b[0m\u001b[0;34m)\u001b[0m\u001b[0;34m:\u001b[0m\u001b[0;34m\u001b[0m\u001b[0;34m\u001b[0m\u001b[0m\n\u001b[1;32m    303\u001b[0m         \u001b[0;32mif\u001b[0m \u001b[0;32mnot\u001b[0m \u001b[0misinstance\u001b[0m\u001b[0;34m(\u001b[0m\u001b[0mn\u001b[0m\u001b[0;34m,\u001b[0m \u001b[0mint\u001b[0m\u001b[0;34m)\u001b[0m\u001b[0;34m:\u001b[0m\u001b[0;34m\u001b[0m\u001b[0;34m\u001b[0m\u001b[0m\n\u001b[0;32m--> 304\u001b[0;31m             \u001b[0;32mraise\u001b[0m \u001b[0mErroDeIndice\u001b[0m\u001b[0;34m(\u001b[0m\u001b[0;34m\"O valor deve ser inteiro\"\u001b[0m\u001b[0;34m)\u001b[0m\u001b[0;34m\u001b[0m\u001b[0;34m\u001b[0m\u001b[0m\n\u001b[0m\u001b[1;32m    305\u001b[0m         \u001b[0;32mif\u001b[0m \u001b[0;34m(\u001b[0m\u001b[0mn\u001b[0m \u001b[0;34m<\u001b[0m \u001b[0;36m0\u001b[0m\u001b[0;34m)\u001b[0m \u001b[0;32mor\u001b[0m \u001b[0;34m(\u001b[0m\u001b[0mn\u001b[0m \u001b[0;34m>=\u001b[0m \u001b[0mlen\u001b[0m\u001b[0;34m(\u001b[0m\u001b[0mself\u001b[0m\u001b[0;34m.\u001b[0m\u001b[0mfiguras_geometricas\u001b[0m\u001b[0;34m)\u001b[0m\u001b[0;34m)\u001b[0m\u001b[0;34m:\u001b[0m\u001b[0;34m\u001b[0m\u001b[0;34m\u001b[0m\u001b[0m\n\u001b[1;32m    306\u001b[0m             \u001b[0;32mraise\u001b[0m \u001b[0mErroDeIntervalo\u001b[0m\u001b[0;34m(\u001b[0m\u001b[0;34m\"O valor deve ser menor que o tamanho da lista\"\u001b[0m\u001b[0;34m)\u001b[0m\u001b[0;34m\u001b[0m\u001b[0;34m\u001b[0m\u001b[0m\n",
      "\u001b[0;31mErroDeIndice\u001b[0m: O valor deve ser inteiro"
     ]
    }
   ],
   "source": [
    "q.remover(\"a\")"
   ]
  },
  {
   "cell_type": "code",
   "execution_count": 32,
   "id": "2cb49709-fe61-4b24-a78d-1550ee4dc296",
   "metadata": {},
   "outputs": [
    {
     "ename": "ErroDeIntervalo",
     "evalue": "O valor deve ser menor que o tamanho da lista",
     "output_type": "error",
     "traceback": [
      "\u001b[0;31m---------------------------------------------------------------------------\u001b[0m",
      "\u001b[0;31mErroDeIntervalo\u001b[0m                           Traceback (most recent call last)",
      "\u001b[0;32m<ipython-input-32-61d3c2d9c447>\u001b[0m in \u001b[0;36m<module>\u001b[0;34m\u001b[0m\n\u001b[0;32m----> 1\u001b[0;31m \u001b[0mq\u001b[0m\u001b[0;34m.\u001b[0m\u001b[0mremover\u001b[0m\u001b[0;34m(\u001b[0m\u001b[0;34m-\u001b[0m\u001b[0;36m4\u001b[0m\u001b[0;34m)\u001b[0m\u001b[0;34m\u001b[0m\u001b[0;34m\u001b[0m\u001b[0m\n\u001b[0m",
      "\u001b[0;32m~/Residencia_em_IA/Atividades/AI2/02-programacao-python/aula5/abstract-classes/abstract-classes-project.py\u001b[0m in \u001b[0;36mremover\u001b[0;34m(self, n)\u001b[0m\n\u001b[1;32m    304\u001b[0m             \u001b[0;32mraise\u001b[0m \u001b[0mErroDeIndice\u001b[0m\u001b[0;34m(\u001b[0m\u001b[0;34m\"O valor deve ser inteiro\"\u001b[0m\u001b[0;34m)\u001b[0m\u001b[0;34m\u001b[0m\u001b[0;34m\u001b[0m\u001b[0m\n\u001b[1;32m    305\u001b[0m         \u001b[0;32mif\u001b[0m \u001b[0;34m(\u001b[0m\u001b[0mn\u001b[0m \u001b[0;34m<\u001b[0m \u001b[0;36m0\u001b[0m\u001b[0;34m)\u001b[0m \u001b[0;32mor\u001b[0m \u001b[0;34m(\u001b[0m\u001b[0mn\u001b[0m \u001b[0;34m>=\u001b[0m \u001b[0mlen\u001b[0m\u001b[0;34m(\u001b[0m\u001b[0mself\u001b[0m\u001b[0;34m.\u001b[0m\u001b[0mfiguras_geometricas\u001b[0m\u001b[0;34m)\u001b[0m\u001b[0;34m)\u001b[0m\u001b[0;34m:\u001b[0m\u001b[0;34m\u001b[0m\u001b[0;34m\u001b[0m\u001b[0m\n\u001b[0;32m--> 306\u001b[0;31m             \u001b[0;32mraise\u001b[0m \u001b[0mErroDeIntervalo\u001b[0m\u001b[0;34m(\u001b[0m\u001b[0;34m\"O valor deve ser menor que o tamanho da lista\"\u001b[0m\u001b[0;34m)\u001b[0m\u001b[0;34m\u001b[0m\u001b[0;34m\u001b[0m\u001b[0m\n\u001b[0m\u001b[1;32m    307\u001b[0m         \u001b[0mself\u001b[0m\u001b[0;34m.\u001b[0m\u001b[0mn\u001b[0m \u001b[0;34m=\u001b[0m \u001b[0mn\u001b[0m\u001b[0;34m\u001b[0m\u001b[0;34m\u001b[0m\u001b[0m\n\u001b[1;32m    308\u001b[0m         \u001b[0mprint\u001b[0m\u001b[0;34m(\u001b[0m\u001b[0;34mf\"Removendo Figura: {self.n}\"\u001b[0m\u001b[0;34m)\u001b[0m\u001b[0;34m\u001b[0m\u001b[0;34m\u001b[0m\u001b[0m\n",
      "\u001b[0;31mErroDeIntervalo\u001b[0m: O valor deve ser menor que o tamanho da lista"
     ]
    }
   ],
   "source": [
    "q.remover(-4)"
   ]
  },
  {
   "cell_type": "code",
   "execution_count": 33,
   "id": "50aa4f30-4a78-4775-bb47-5b4489c43b39",
   "metadata": {},
   "outputs": [
    {
     "ename": "ErroDeEncontrarForma",
     "evalue": "A forma Retangulo não existe na lista",
     "output_type": "error",
     "traceback": [
      "\u001b[0;31m---------------------------------------------------------------------------\u001b[0m",
      "\u001b[0;31mErroDeEncontrarForma\u001b[0m                      Traceback (most recent call last)",
      "\u001b[0;32m<ipython-input-33-a5e0bcf7b883>\u001b[0m in \u001b[0;36m<module>\u001b[0;34m\u001b[0m\n\u001b[0;32m----> 1\u001b[0;31m \u001b[0mq\u001b[0m\u001b[0;34m.\u001b[0m\u001b[0mremover_fig\u001b[0m\u001b[0;34m(\u001b[0m\u001b[0mret\u001b[0m\u001b[0;34m)\u001b[0m\u001b[0;34m\u001b[0m\u001b[0;34m\u001b[0m\u001b[0m\n\u001b[0m",
      "\u001b[0;32m~/Residencia_em_IA/Atividades/AI2/02-programacao-python/aula5/abstract-classes/abstract-classes-project.py\u001b[0m in \u001b[0;36mremover_fig\u001b[0;34m(self, fig)\u001b[0m\n\u001b[1;32m    312\u001b[0m         \u001b[0mself\u001b[0m\u001b[0;34m.\u001b[0m\u001b[0mfig\u001b[0m \u001b[0;34m=\u001b[0m \u001b[0mfig\u001b[0m\u001b[0;34m\u001b[0m\u001b[0;34m\u001b[0m\u001b[0m\n\u001b[1;32m    313\u001b[0m         \u001b[0;32mif\u001b[0m \u001b[0mfig\u001b[0m \u001b[0;32mnot\u001b[0m \u001b[0;32min\u001b[0m \u001b[0mself\u001b[0m\u001b[0;34m.\u001b[0m\u001b[0mfiguras_geometricas\u001b[0m\u001b[0;34m:\u001b[0m\u001b[0;34m\u001b[0m\u001b[0;34m\u001b[0m\u001b[0m\n\u001b[0;32m--> 314\u001b[0;31m             \u001b[0;32mraise\u001b[0m \u001b[0mErroDeEncontrarForma\u001b[0m\u001b[0;34m(\u001b[0m\u001b[0;34mf\"A forma {type(fig).__name__} não existe na lista\"\u001b[0m\u001b[0;34m)\u001b[0m\u001b[0;34m\u001b[0m\u001b[0;34m\u001b[0m\u001b[0m\n\u001b[0m\u001b[1;32m    315\u001b[0m         \u001b[0;32mfor\u001b[0m \u001b[0mi\u001b[0m\u001b[0;34m,\u001b[0m \u001b[0mf\u001b[0m \u001b[0;32min\u001b[0m \u001b[0menumerate\u001b[0m\u001b[0;34m(\u001b[0m\u001b[0mself\u001b[0m\u001b[0;34m.\u001b[0m\u001b[0mfiguras_geometricas\u001b[0m\u001b[0;34m)\u001b[0m\u001b[0;34m:\u001b[0m\u001b[0;34m\u001b[0m\u001b[0;34m\u001b[0m\u001b[0m\n\u001b[1;32m    316\u001b[0m             \u001b[0;32mif\u001b[0m\u001b[0;34m(\u001b[0m\u001b[0mf\u001b[0m \u001b[0;34m==\u001b[0m \u001b[0mfig\u001b[0m\u001b[0;34m)\u001b[0m\u001b[0;34m:\u001b[0m\u001b[0;34m\u001b[0m\u001b[0;34m\u001b[0m\u001b[0m\n",
      "\u001b[0;31mErroDeEncontrarForma\u001b[0m: A forma Retangulo não existe na lista"
     ]
    }
   ],
   "source": [
    "q.remover_fig(ret)"
   ]
  },
  {
   "cell_type": "code",
   "execution_count": 34,
   "id": "3213f2ef-38c2-4277-8512-4cb62ed710db",
   "metadata": {
    "tags": []
   },
   "outputs": [
    {
     "ename": "ErroDeInclusao",
     "evalue": "O limite de elementos da lista foi atingido",
     "output_type": "error",
     "traceback": [
      "\u001b[0;31m---------------------------------------------------------------------------\u001b[0m",
      "\u001b[0;31mErroDeInclusao\u001b[0m                            Traceback (most recent call last)",
      "\u001b[0;32m<ipython-input-34-74ef79e50584>\u001b[0m in \u001b[0;36m<module>\u001b[0;34m\u001b[0m\n\u001b[1;32m      1\u001b[0m \u001b[0mq\u001b[0m\u001b[0;34m.\u001b[0m\u001b[0mincluir\u001b[0m\u001b[0;34m(\u001b[0m\u001b[0mquad\u001b[0m\u001b[0;34m)\u001b[0m\u001b[0;34m\u001b[0m\u001b[0;34m\u001b[0m\u001b[0m\n\u001b[1;32m      2\u001b[0m \u001b[0mq\u001b[0m\u001b[0;34m.\u001b[0m\u001b[0mincluir\u001b[0m\u001b[0;34m(\u001b[0m\u001b[0mret\u001b[0m\u001b[0;34m)\u001b[0m\u001b[0;34m\u001b[0m\u001b[0;34m\u001b[0m\u001b[0m\n\u001b[0;32m----> 3\u001b[0;31m \u001b[0mq\u001b[0m\u001b[0;34m.\u001b[0m\u001b[0mincluir\u001b[0m\u001b[0;34m(\u001b[0m\u001b[0mquad2\u001b[0m\u001b[0;34m)\u001b[0m\u001b[0;34m\u001b[0m\u001b[0;34m\u001b[0m\u001b[0m\n\u001b[0m",
      "\u001b[0;32m~/Residencia_em_IA/Atividades/AI2/02-programacao-python/aula5/abstract-classes/abstract-classes-project.py\u001b[0m in \u001b[0;36mincluir\u001b[0;34m(self, fig)\u001b[0m\n\u001b[1;32m    291\u001b[0m     \u001b[0;32mdef\u001b[0m \u001b[0mincluir\u001b[0m\u001b[0;34m(\u001b[0m\u001b[0mself\u001b[0m\u001b[0;34m,\u001b[0m \u001b[0mfig\u001b[0m\u001b[0;34m)\u001b[0m\u001b[0;34m:\u001b[0m\u001b[0;34m\u001b[0m\u001b[0;34m\u001b[0m\u001b[0m\n\u001b[1;32m    292\u001b[0m         \u001b[0;32mif\u001b[0m \u001b[0mlen\u001b[0m\u001b[0;34m(\u001b[0m\u001b[0mself\u001b[0m\u001b[0;34m.\u001b[0m\u001b[0mfiguras_geometricas\u001b[0m\u001b[0;34m)\u001b[0m \u001b[0;34m==\u001b[0m \u001b[0mself\u001b[0m\u001b[0;34m.\u001b[0m\u001b[0mtamanho\u001b[0m\u001b[0;34m:\u001b[0m\u001b[0;34m\u001b[0m\u001b[0;34m\u001b[0m\u001b[0m\n\u001b[0;32m--> 293\u001b[0;31m             \u001b[0;32mraise\u001b[0m \u001b[0mErroDeInclusao\u001b[0m\u001b[0;34m(\u001b[0m\u001b[0;34m\"O limite de elementos da lista foi atingido\"\u001b[0m\u001b[0;34m)\u001b[0m\u001b[0;34m\u001b[0m\u001b[0;34m\u001b[0m\u001b[0m\n\u001b[0m\u001b[1;32m    294\u001b[0m         \u001b[0mself\u001b[0m\u001b[0;34m.\u001b[0m\u001b[0mfiguras_geometricas\u001b[0m\u001b[0;34m.\u001b[0m\u001b[0mappend\u001b[0m\u001b[0;34m(\u001b[0m\u001b[0mfig\u001b[0m\u001b[0;34m)\u001b[0m\u001b[0;34m\u001b[0m\u001b[0;34m\u001b[0m\u001b[0m\n\u001b[1;32m    295\u001b[0m \u001b[0;34m\u001b[0m\u001b[0m\n",
      "\u001b[0;31mErroDeInclusao\u001b[0m: O limite de elementos da lista foi atingido"
     ]
    }
   ],
   "source": [
    "q.incluir(quad)\n",
    "q.incluir(ret)\n",
    "q.incluir(quad2)"
   ]
  },
  {
   "cell_type": "code",
   "execution_count": null,
   "id": "3ee6417e-88a7-49a1-b89e-d9e0d2110f8c",
   "metadata": {},
   "outputs": [],
   "source": []
  }
 ],
 "metadata": {
  "kernelspec": {
   "display_name": "Python 3",
   "language": "python",
   "name": "python3"
  },
  "language_info": {
   "codemirror_mode": {
    "name": "ipython",
    "version": 3
   },
   "file_extension": ".py",
   "mimetype": "text/x-python",
   "name": "python",
   "nbconvert_exporter": "python",
   "pygments_lexer": "ipython3",
   "version": "3.8.8"
  }
 },
 "nbformat": 4,
 "nbformat_minor": 5
}
