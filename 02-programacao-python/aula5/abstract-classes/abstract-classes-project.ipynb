{
 "cells": [
  {
   "cell_type": "markdown",
   "id": "90fe2129-d763-415e-8209-c6bdfea17094",
   "metadata": {},
   "source": [
    "# Classes"
   ]
  },
  {
   "cell_type": "code",
   "execution_count": 1,
   "id": "d36d9c71-439e-4b2d-af2b-1877c93da03a",
   "metadata": {},
   "outputs": [],
   "source": [
    "from abc import ABC, abstractclassmethod\n",
    "import math\n",
    "\n",
    "class FormaGeometrica(ABC):\n",
    "    \"\"\"Classe FormaGeometrica.\n",
    "        \n",
    "        Imprime a posição inicial da forma geométrica.\"\"\"\n",
    "    @abstractclassmethod\n",
    "    def desenhe(self):\n",
    "        pass\n",
    "\n",
    "class Forma2D(FormaGeometrica):\n",
    "    \"\"\"Classe Forma2D. Herda da FormaGeometrica.\n",
    "        \n",
    "        Calcula o perímetro.\n",
    "        Calcula a área.\n",
    "        Imprime a posição inicial, perímetro e área da forma geométrica.\n",
    "        \n",
    "        Atributos:\n",
    "            - x : coordenada inicial em x.\n",
    "            - y : coordenada inicial em y.\"\"\"\n",
    "    def __init__(self, x=0, y=0):\n",
    "        self.x, self.y = x, y\n",
    "    @abstractclassmethod\n",
    "    def calcule_perimetro(self):\n",
    "        pass\n",
    "    @abstractclassmethod\n",
    "    def calcule_area(self):\n",
    "        pass\n",
    "    def desenhe(self):        \n",
    "        print(f\"O(a) {type(self).__name__} está centrado(a) em ({self.x}, {self.y}).\\n\"\\\n",
    "             f\"Seu perímetro é de {round(self.perimetro, 2)} e sua área é de {round(self.area, 2)}.\")\n",
    "        \n",
    "class Forma3D(FormaGeometrica):\n",
    "    \"\"\"Classe Forma3D. Herda de FormaGeometrica.\n",
    "        \n",
    "        Calcula a área.\n",
    "        Calcula o volume.\n",
    "        Imprime a posição inicial, area superfícial e volume da forma geométrica.\n",
    "        \n",
    "        Atributos:\n",
    "            - x : coordenada inicial em x.\n",
    "            - y : coordenada inicial em y.\n",
    "            - z : coordenada inicial em z.\"\"\"\n",
    "    def __init__(self, x=0, y=0, z=0):\n",
    "        self.x, self.y, self.z = x, y, z\n",
    "    @abstractclassmethod\n",
    "    def calcule_area(self):\n",
    "        pass\n",
    "    @abstractclassmethod\n",
    "    def calcule_volume(self):\n",
    "        pass\n",
    "    def desenhe(self):\n",
    "        print(f\"A(o) {type(self).__name__} está centrada(o) em ({self.x}, {self.y}, {self.z}).\\n\"\\\n",
    "             f\"Sua área superficial é de {round(self.area, 2)} e seu volume é de {round(self.volume, 2)}.\")        \n",
    "\n",
    "class Poligono(Forma2D):\n",
    "    \"\"\"Classe Poligono. Herda de Forma2D.\"\"\"\n",
    "    pass\n",
    "\n",
    "class Quadrado(Poligono):\n",
    "    \"\"\"Classe Quadrado. Herda de Poligono.\n",
    "        \n",
    "        Calcula o perímetro.\n",
    "        Calcula a altura.\n",
    "        \n",
    "        Atributos:\n",
    "            - x : coordenada inicial em x.\n",
    "            - y : coordenada inicial em y.\n",
    "            - largura : comprimento dos lados.\"\"\"\n",
    "    def __init__(self, x=0, y=0, largura=1):\n",
    "        super().__init__(x, y)\n",
    "        self.largura = largura\n",
    "    def calcule_perimetro(self):\n",
    "        self.perimetro = 4*self.largura\n",
    "        return round(self.perimetro, 2)\n",
    "    def calcule_area(self):\n",
    "        self.area = self.largura**2\n",
    "        return round(self.area, 2)\n",
    "# Double Dispatching\n",
    "    def compara_retangulo(self, retangulo): return False\n",
    "    def compara_circulo(self, circulo): return False\n",
    "    def compara_esfera(self, esfera): return False\n",
    "    def compara_cubo(self, cubo): return False\n",
    "    def compara_cilindro(self, cilindro): return False\n",
    "    def compara_quadrado(self, outro_quadrado):\n",
    "        return self.x == outro_quadrado.x and self.y == outro_quadrado.y and self.largura == outro_quadrado.largura\n",
    "    def __eq__(self, outro):\n",
    "        return outro.compara_quadrado(self)\n",
    "\n",
    "        \n",
    "class Retangulo(Quadrado):\n",
    "    \"\"\"Classe Retangulo. Herda de Quadrado.\n",
    "        \n",
    "        Calcula o perímetro.\n",
    "        Calcula a área.\n",
    "        \n",
    "        Atributos:\n",
    "            - x : coordenada inicial em x.\n",
    "            - y : coordenada inicial em y.\n",
    "            - largura : comprimento ao longo de x.\n",
    "            - altura : comprimento ao longo de y.\"\"\"\n",
    "    def __init__(self, x=0, y=0, largura=1, altura=1):\n",
    "        super().__init__(x, y, largura)\n",
    "        self.altura = altura\n",
    "    def calcule_perimetro(self):\n",
    "        self.perimetro = 2*(self.largura+self.altura)\n",
    "        return round(self.perimetro, 2)\n",
    "    def calcule_area(self):\n",
    "        self.area = self.largura*self.altura\n",
    "        return round(self.area,2)\n",
    "# Double Dispatching\n",
    "    def compara_quadrado(self, quadrado): return False\n",
    "    def compara_circulo(self, circulo): return False\n",
    "    def compara_esfera(self, esfera): return False\n",
    "    def compara_cubo(self, cubo): return False\n",
    "    def compara_cilindro(self, cilindro): return False\n",
    "    def compara_retangulo(self, outro_retangulo):\n",
    "        return self.x == outro_retangulo.x and self.y == outro_retangulo.y and self.largura == outro_retangulo.largura and self.altura == outro_retangulo.altura\n",
    "    def __eq__(self, outro):\n",
    "        return outro.compara_retangulo(self)\n",
    "\n",
    "        \n",
    "class Circulo(Forma2D):\n",
    "    \"\"\"Classe Circulo. Herda de Forma2D.\n",
    "        \n",
    "        Calcula o perímetro.\n",
    "        Calcula a área\n",
    "    \n",
    "        Atributos:\n",
    "            - x : coordenada inicial em x.\n",
    "            - y : coordenada inicial em y.\n",
    "            - raio : raio do círculo.\"\"\"\n",
    "    def __init__(self, x=0, y=0, raio=1):\n",
    "        super().__init__(x, y)\n",
    "        self.raio = raio\n",
    "    def calcule_perimetro(self):\n",
    "        self.perimetro = 2*math.pi*self.raio\n",
    "        return round(self.perimetro, 2)\n",
    "    def calcule_area(self):\n",
    "        self.area = math.pi*self.raio**2\n",
    "        return round(self.area, 2)\n",
    "# Double Dispatching\n",
    "    def compara_quadrado(self, quadrado): return False\n",
    "    def compara_retangulo(self, retangulo): return False\n",
    "    def compara_esfera(self, esfera): return False\n",
    "    def compara_cubo(self, cubo): return False\n",
    "    def compara_cilindro(self, cilindro): return False\n",
    "    def compara_circulo(self, outro_circulo):\n",
    "        return self.x == outro_circulo.x and self.y == outro_circulo.y and self.raio == outro_circulo.raio\n",
    "    def __eq__(self, outro):\n",
    "        return outro.compara_circulo(self)\n",
    "\n",
    "        \n",
    "class Esfera(Forma3D):\n",
    "    \"\"\"Classe Esfera. Herda de Forma3D.\n",
    "        \n",
    "        Calcula a área superficial.\n",
    "        Calcula o volume.\n",
    "        \n",
    "        Atributos:\n",
    "            - x : coordenada inicial em x.\n",
    "            - y : coordenada inicial em y.\n",
    "            - z : coordenada inicial em z.\n",
    "            - raio : raio da esfera.\"\"\"\n",
    "    def __init__(self, x=0, y=0, z=0, raio=1):\n",
    "        super().__init__(x, y, z)\n",
    "        self.raio = raio\n",
    "    def calcule_area(self):\n",
    "        self.area = 4*math.pi*self.raio**2\n",
    "        return round(self.area, 2)\n",
    "    def calcule_volume(self):\n",
    "        self.volume = (4/3)*math.pi*self.raio**3\n",
    "        return round(self.volume, 2)\n",
    "# Double Dispatching\n",
    "    def compara_quadrado(self, quadrado): return False\n",
    "    def compara_retangulo(self, retangulo): return False\n",
    "    def compara_circulo(self, circulo): return False\n",
    "    def compara_cubo(self, cubo): return False\n",
    "    def compara_cilindro(self, cilindro): return False\n",
    "    def compara_esfera(self, outro_esfera):\n",
    "        return self.x == outro_esfera.x and self.y == outro_esfera.y and self.z == outro_esfera.z and self.raio == outro_esfera.raio\n",
    "    def __eq__(self, outro):\n",
    "        return outro.compara_esfera(self)\n",
    "\n",
    "        \n",
    "class Cubo(Forma3D):\n",
    "    \"\"\"Classe Cubo. Herda de Forma3D.\n",
    "        \n",
    "        Calcula a área superficial.\n",
    "        Calcula o volume.\n",
    "    \n",
    "        Atributos:\n",
    "            - x : coordenada inicial em x.\n",
    "            - y : coordenada inicial em y.\n",
    "            - z : coordenada inicial em z.\n",
    "            - largura : tamanho das arestas do cubo.\"\"\"\n",
    "    def __init__(self, x=0, y=0, z=0, largura=1):\n",
    "        super().__init__(x, y, z)\n",
    "        self.largura = largura\n",
    "    def calcule_area(self):\n",
    "        self.area = 6*self.largura**2\n",
    "        return round(self.area, 2)\n",
    "    def calcule_volume(self):\n",
    "        self.volume = self.largura**3\n",
    "        return round(self.volume, 2)\n",
    "# Double Dispatching\n",
    "    def compara_quadrado(self, quadrado): return False\n",
    "    def compara_retangulo(self, retangulo): return False\n",
    "    def compara_circulo(self, circulo): return False\n",
    "    def compara_esfera(self, esfera): return False\n",
    "    def compara_cilindro(self, cilindro): return False\n",
    "    def compara_cubo(self, outro_cubo):\n",
    "        return self.x == outro_cubo.x and self.y == outro_cubo.y and self.z == outro_cubo.z and self.largura == outro_cubo.largura\n",
    "    def __eq__(self, outro):\n",
    "        return outro.compara_cubo(self)\n",
    "\n",
    "        \n",
    "class Cilindro(Forma3D):\n",
    "    \"\"\"Classe Cilindro. Herda de Forma3D.\n",
    "        \n",
    "        Calcula a área superficial.\n",
    "        Calcula o volume.\n",
    "    \n",
    "        Atributos:\n",
    "            - x : coordenada inicial em x.\n",
    "            - y : coordenada inicial em y.\n",
    "            - z : coordenada inicial em z.\n",
    "            - raio : raio da base do cilindro.\n",
    "            - altura : altura do cilindro.\"\"\"\n",
    "    def __init__(self, x=0, y=0, z=0, raio=1, altura=1):\n",
    "        super().__init__(x, y, z)\n",
    "        self.raio, self.altura = raio, altura\n",
    "    def calcule_area(self):\n",
    "        self.area = math.pi*self.raio**2 + 2*math.pi*self.raio*self.altura\n",
    "        return round(self.area, 2)\n",
    "    def calcule_volume(self):\n",
    "        self.volume = math.pi*self.raio**2*self.altura\n",
    "        return round(self.volume, 2)\n",
    "# Double Dispatching\n",
    "    def compara_quadrado(self, quadrado): return False\n",
    "    def compara_retangulo(self, retangulo): return False\n",
    "    def compara_circulo(self, circulo): return False\n",
    "    def compara_esfera(self, esfera): return False\n",
    "    def compara_cubo(self, cubo): return False\n",
    "    def compara_cilindro(self, outro_cilindro):\n",
    "        return self.x == outro_cilindro.x and self.y == outro_cilindro.y and self.z == outro_cilindro.z and self.raio == outro_cilindro.raio and self.altura == outro_cilindro.altura\n",
    "    def __eq__(self, outro):\n",
    "        return outro.compara_cilindro(self)\n",
    "\n",
    "\n",
    "class Quadro:\n",
    "    \"\"\"Classe Quadro.\n",
    "        \n",
    "        Define uma lista figuras_geometricas.\n",
    "        Adiciona ítens à lista figuras_geometricas.\n",
    "        Verifica se a figura já foi inserida na lista figuras_geometricas.\n",
    "        Remove ítens da lista figuras_geometricas pelo índice.\n",
    "        Remove ítens da lista figuras_geometricas pela forma.\"\"\"\n",
    "    figuras_geometricas = []\n",
    "    def incluir(self, fig):\n",
    "        self.figuras_geometricas.append(fig)\n",
    "    def contem(self, fig):\n",
    "        if fig in self.figuras_geometricas:\n",
    "            print(\"A figura já foi adicionada à lista.\")\n",
    "        else:\n",
    "            print(\"A figura não foi adicionada ou foi excluída da lista.\")\n",
    "    def remover(self, n):\n",
    "        self.n = n\n",
    "        print(f\"Removendo Figura: {self.n}\")\n",
    "        self.figuras_geometricas.pop(n)\n",
    "    def remover_fig(self, fig):\n",
    "        for i, f in enumerate(self.figuras_geometricas):\n",
    "            if(f == fig):\n",
    "                self.remover(i)\n",
    "                break\n",
    "    def desenhe(self):\n",
    "        for i, f in enumerate(self.figuras_geometricas):\n",
    "            print(\">>> Figura \", i)\n",
    "            f.desenhe()\n"
   ]
  },
  {
   "cell_type": "markdown",
   "id": "e65abdd3-d7ad-4482-b386-2ced7eea7a23",
   "metadata": {},
   "source": [
    "## Teste das Classes"
   ]
  },
  {
   "cell_type": "markdown",
   "id": "077c00f8-2f82-4b79-b3b0-b00c811d8309",
   "metadata": {},
   "source": [
    "* Quadrado"
   ]
  },
  {
   "cell_type": "code",
   "execution_count": 2,
   "id": "f12a70cb-0994-49b4-9a51-da7de147713e",
   "metadata": {},
   "outputs": [
    {
     "data": {
      "text/plain": [
       "(5, 5, 2)"
      ]
     },
     "execution_count": 2,
     "metadata": {},
     "output_type": "execute_result"
    }
   ],
   "source": [
    "quad = Quadrado(5,5,2)\n",
    "quad.x, quad.y, quad.largura"
   ]
  },
  {
   "cell_type": "code",
   "execution_count": 3,
   "id": "49f42fba-90d2-4ef0-adc7-7df07da006af",
   "metadata": {},
   "outputs": [
    {
     "data": {
      "text/plain": [
       "(8, 4)"
      ]
     },
     "execution_count": 3,
     "metadata": {},
     "output_type": "execute_result"
    }
   ],
   "source": [
    "quad.calcule_perimetro(), quad.calcule_area()"
   ]
  },
  {
   "cell_type": "code",
   "execution_count": 4,
   "id": "b5030828-a478-49e1-b842-27855a57a78e",
   "metadata": {},
   "outputs": [
    {
     "name": "stdout",
     "output_type": "stream",
     "text": [
      "O(a) Quadrado está centrado(a) em (5, 5).\n",
      "Seu perímetro é de 8 e sua área é de 4.\n"
     ]
    }
   ],
   "source": [
    "quad.desenhe()"
   ]
  },
  {
   "cell_type": "markdown",
   "id": "4a8cb7e3-dd9c-4473-906c-0b49b9969c91",
   "metadata": {},
   "source": [
    "* Retângulo"
   ]
  },
  {
   "cell_type": "code",
   "execution_count": 5,
   "id": "062223be-9aab-4110-bebb-0a3b4be4865b",
   "metadata": {},
   "outputs": [
    {
     "data": {
      "text/plain": [
       "(4, 4, 2, 3)"
      ]
     },
     "execution_count": 5,
     "metadata": {},
     "output_type": "execute_result"
    }
   ],
   "source": [
    "ret = Retangulo(4,4,2,3)\n",
    "ret.x, ret.y, ret.largura, ret.altura"
   ]
  },
  {
   "cell_type": "code",
   "execution_count": 6,
   "id": "117f4c25-8143-49ad-b3b0-ee898109176f",
   "metadata": {},
   "outputs": [
    {
     "data": {
      "text/plain": [
       "(10, 6)"
      ]
     },
     "execution_count": 6,
     "metadata": {},
     "output_type": "execute_result"
    }
   ],
   "source": [
    "ret.calcule_perimetro(), ret.calcule_area()"
   ]
  },
  {
   "cell_type": "code",
   "execution_count": 7,
   "id": "c7fdb5d6-12c3-4f9f-a1ee-7c2b8e6b044a",
   "metadata": {},
   "outputs": [
    {
     "name": "stdout",
     "output_type": "stream",
     "text": [
      "O(a) Retangulo está centrado(a) em (4, 4).\n",
      "Seu perímetro é de 10 e sua área é de 6.\n"
     ]
    }
   ],
   "source": [
    "ret.desenhe()"
   ]
  },
  {
   "cell_type": "markdown",
   "id": "3475d7f2-48ac-4486-82e0-939ed8c484b4",
   "metadata": {},
   "source": [
    "* Circulo"
   ]
  },
  {
   "cell_type": "code",
   "execution_count": 8,
   "id": "5082ca4b-400d-4eca-9631-72f4db725579",
   "metadata": {},
   "outputs": [
    {
     "data": {
      "text/plain": [
       "(6, 6, 5)"
      ]
     },
     "execution_count": 8,
     "metadata": {},
     "output_type": "execute_result"
    }
   ],
   "source": [
    "circ = Circulo(6,6,5)\n",
    "circ.x, circ.y, circ.raio"
   ]
  },
  {
   "cell_type": "code",
   "execution_count": 9,
   "id": "46c71df1-7d6d-4c79-b7c6-71533b4fce53",
   "metadata": {},
   "outputs": [
    {
     "data": {
      "text/plain": [
       "(31.42, 78.54)"
      ]
     },
     "execution_count": 9,
     "metadata": {},
     "output_type": "execute_result"
    }
   ],
   "source": [
    "circ.calcule_perimetro(), circ.calcule_area()"
   ]
  },
  {
   "cell_type": "code",
   "execution_count": 10,
   "id": "7bb52697-4444-48d7-b6fa-0f2c4617c1d7",
   "metadata": {},
   "outputs": [
    {
     "name": "stdout",
     "output_type": "stream",
     "text": [
      "O(a) Circulo está centrado(a) em (6, 6).\n",
      "Seu perímetro é de 31.42 e sua área é de 78.54.\n"
     ]
    }
   ],
   "source": [
    "circ.desenhe()"
   ]
  },
  {
   "cell_type": "markdown",
   "id": "77327481-a31c-449f-9bdf-fae16c0c92d8",
   "metadata": {},
   "source": [
    "* Esfera"
   ]
  },
  {
   "cell_type": "code",
   "execution_count": 11,
   "id": "2bcd828b-f9e2-42aa-b8c6-17798cdc587b",
   "metadata": {},
   "outputs": [
    {
     "data": {
      "text/plain": [
       "(7, 7, 7, 5)"
      ]
     },
     "execution_count": 11,
     "metadata": {},
     "output_type": "execute_result"
    }
   ],
   "source": [
    "esf = Esfera(7,7,7,5)\n",
    "esf.x, esf.y, esf.z, esf.raio"
   ]
  },
  {
   "cell_type": "code",
   "execution_count": 12,
   "id": "31451baa-c264-4d0a-9384-c26298f3e2f1",
   "metadata": {},
   "outputs": [
    {
     "data": {
      "text/plain": [
       "(314.16, 523.6)"
      ]
     },
     "execution_count": 12,
     "metadata": {},
     "output_type": "execute_result"
    }
   ],
   "source": [
    "esf.calcule_area(), esf.calcule_volume()"
   ]
  },
  {
   "cell_type": "code",
   "execution_count": 13,
   "id": "fbbea042-e7d7-4d37-a340-0f6ec4b4d855",
   "metadata": {},
   "outputs": [
    {
     "name": "stdout",
     "output_type": "stream",
     "text": [
      "A(o) Esfera está centrada(o) em (7, 7, 7).\n",
      "Sua área superficial é de 314.16 e seu volume é de 523.6.\n"
     ]
    }
   ],
   "source": [
    "esf.desenhe()"
   ]
  },
  {
   "cell_type": "markdown",
   "id": "f78bb6d3-4357-4f77-baff-9eda790b4809",
   "metadata": {},
   "source": [
    "* Cubo"
   ]
  },
  {
   "cell_type": "code",
   "execution_count": 14,
   "id": "17ba7107-a757-4ad2-b5ad-b247f1989cbb",
   "metadata": {},
   "outputs": [
    {
     "data": {
      "text/plain": [
       "(8, 8, 8, 2)"
      ]
     },
     "execution_count": 14,
     "metadata": {},
     "output_type": "execute_result"
    }
   ],
   "source": [
    "cub = Cubo(8,8,8,2)\n",
    "cub.x, cub.y, cub.z, cub.largura"
   ]
  },
  {
   "cell_type": "code",
   "execution_count": 15,
   "id": "b6d02b21-2eea-4bfb-8da9-bddf878e1abf",
   "metadata": {},
   "outputs": [
    {
     "data": {
      "text/plain": [
       "(24, 8)"
      ]
     },
     "execution_count": 15,
     "metadata": {},
     "output_type": "execute_result"
    }
   ],
   "source": [
    "cub.calcule_area(), cub.calcule_volume()"
   ]
  },
  {
   "cell_type": "code",
   "execution_count": 16,
   "id": "48ea6c29-93a2-4d37-9a79-2e9eddf6eecc",
   "metadata": {},
   "outputs": [
    {
     "name": "stdout",
     "output_type": "stream",
     "text": [
      "A(o) Cubo está centrada(o) em (8, 8, 8).\n",
      "Sua área superficial é de 24 e seu volume é de 8.\n"
     ]
    }
   ],
   "source": [
    "cub.desenhe()"
   ]
  },
  {
   "cell_type": "markdown",
   "id": "119c2428-1a2c-49dc-a6b8-7d8b9b31871a",
   "metadata": {},
   "source": [
    "* Cilindro"
   ]
  },
  {
   "cell_type": "code",
   "execution_count": 17,
   "id": "0f9e7033-2d58-4d70-a619-31cfd8356376",
   "metadata": {},
   "outputs": [
    {
     "data": {
      "text/plain": [
       "(9, 9, 9, 3, 5)"
      ]
     },
     "execution_count": 17,
     "metadata": {},
     "output_type": "execute_result"
    }
   ],
   "source": [
    "cil = Cilindro(9,9,9,3,5)\n",
    "cil.x, cil.y, cil.z, cil.raio, cil.altura"
   ]
  },
  {
   "cell_type": "code",
   "execution_count": 18,
   "id": "38d91ad0-51cc-4980-a4e8-1e00ee9644c7",
   "metadata": {},
   "outputs": [
    {
     "data": {
      "text/plain": [
       "(122.52, 141.37)"
      ]
     },
     "execution_count": 18,
     "metadata": {},
     "output_type": "execute_result"
    }
   ],
   "source": [
    "cil.calcule_area(), cil.calcule_volume()"
   ]
  },
  {
   "cell_type": "code",
   "execution_count": 19,
   "id": "58a885a0-a442-4c9a-8ac7-c0336a2743ee",
   "metadata": {},
   "outputs": [
    {
     "name": "stdout",
     "output_type": "stream",
     "text": [
      "A(o) Cilindro está centrada(o) em (9, 9, 9).\n",
      "Sua área superficial é de 122.52 e seu volume é de 141.37.\n"
     ]
    }
   ],
   "source": [
    "cil.desenhe()"
   ]
  },
  {
   "cell_type": "markdown",
   "id": "b789b81e-36be-4e6c-bab3-329acb491d3f",
   "metadata": {},
   "source": [
    "* Quadro"
   ]
  },
  {
   "cell_type": "code",
   "execution_count": 20,
   "id": "e456c325-1629-45c2-ae3d-b6fc23a21bac",
   "metadata": {},
   "outputs": [],
   "source": [
    "q = Quadro()\n",
    "\n",
    "q.incluir(ret)\n",
    "q.incluir(quad)\n",
    "q.incluir(circ)\n",
    "q.incluir(esf)\n",
    "q.incluir(cub)\n",
    "q.incluir(cil)"
   ]
  },
  {
   "cell_type": "code",
   "execution_count": 21,
   "id": "41c8e4c6-94dc-4a4b-88e4-d5421e19c91a",
   "metadata": {},
   "outputs": [
    {
     "name": "stdout",
     "output_type": "stream",
     "text": [
      ">>> Figura  0\n",
      "O(a) Retangulo está centrado(a) em (4, 4).\n",
      "Seu perímetro é de 10 e sua área é de 6.\n",
      ">>> Figura  1\n",
      "O(a) Quadrado está centrado(a) em (5, 5).\n",
      "Seu perímetro é de 8 e sua área é de 4.\n",
      ">>> Figura  2\n",
      "O(a) Circulo está centrado(a) em (6, 6).\n",
      "Seu perímetro é de 31.42 e sua área é de 78.54.\n",
      ">>> Figura  3\n",
      "A(o) Esfera está centrada(o) em (7, 7, 7).\n",
      "Sua área superficial é de 314.16 e seu volume é de 523.6.\n",
      ">>> Figura  4\n",
      "A(o) Cubo está centrada(o) em (8, 8, 8).\n",
      "Sua área superficial é de 24 e seu volume é de 8.\n",
      ">>> Figura  5\n",
      "A(o) Cilindro está centrada(o) em (9, 9, 9).\n",
      "Sua área superficial é de 122.52 e seu volume é de 141.37.\n"
     ]
    }
   ],
   "source": [
    "q.desenhe()"
   ]
  },
  {
   "cell_type": "code",
   "execution_count": 22,
   "id": "d79dc529-4074-4f57-88c9-48098de3eb42",
   "metadata": {},
   "outputs": [
    {
     "name": "stdout",
     "output_type": "stream",
     "text": [
      "Removendo Figura: 5\n"
     ]
    }
   ],
   "source": [
    "q.remover(5)"
   ]
  },
  {
   "cell_type": "code",
   "execution_count": 23,
   "id": "92834197-0a4d-4f16-b989-c7cfc9625720",
   "metadata": {},
   "outputs": [
    {
     "name": "stdout",
     "output_type": "stream",
     "text": [
      ">>> Figura  0\n",
      "O(a) Retangulo está centrado(a) em (4, 4).\n",
      "Seu perímetro é de 10 e sua área é de 6.\n",
      ">>> Figura  1\n",
      "O(a) Quadrado está centrado(a) em (5, 5).\n",
      "Seu perímetro é de 8 e sua área é de 4.\n",
      ">>> Figura  2\n",
      "O(a) Circulo está centrado(a) em (6, 6).\n",
      "Seu perímetro é de 31.42 e sua área é de 78.54.\n",
      ">>> Figura  3\n",
      "A(o) Esfera está centrada(o) em (7, 7, 7).\n",
      "Sua área superficial é de 314.16 e seu volume é de 523.6.\n",
      ">>> Figura  4\n",
      "A(o) Cubo está centrada(o) em (8, 8, 8).\n",
      "Sua área superficial é de 24 e seu volume é de 8.\n"
     ]
    }
   ],
   "source": [
    "q.desenhe()"
   ]
  },
  {
   "cell_type": "markdown",
   "id": "fb62d73b-b668-4372-9219-f9efcedeb231",
   "metadata": {},
   "source": [
    "* Double Dispatching"
   ]
  },
  {
   "cell_type": "code",
   "execution_count": 24,
   "id": "05520a74-2a78-4a1a-af87-b8392cf2bf23",
   "metadata": {},
   "outputs": [],
   "source": [
    "quad2 = Quadrado(5,5,2)"
   ]
  },
  {
   "cell_type": "code",
   "execution_count": 25,
   "id": "ced7d5de-4683-471a-8c0b-64d1c6f0c96b",
   "metadata": {},
   "outputs": [
    {
     "data": {
      "text/plain": [
       "(False, True, False, False, False, False)"
      ]
     },
     "execution_count": 25,
     "metadata": {},
     "output_type": "execute_result"
    }
   ],
   "source": [
    "quad2 == ret, quad2 == quad, quad2 ==circ, quad2 == esf, quad2 == cub, quad2 ==cil"
   ]
  },
  {
   "cell_type": "code",
   "execution_count": 26,
   "id": "6d8c1d4e-4afc-40dd-aa2c-61fc4d5c767b",
   "metadata": {},
   "outputs": [
    {
     "name": "stdout",
     "output_type": "stream",
     "text": [
      "Removendo Figura: 0\n"
     ]
    }
   ],
   "source": [
    "q.remover_fig(ret)"
   ]
  },
  {
   "cell_type": "code",
   "execution_count": 27,
   "id": "fad7ec63-df75-4f25-ac5f-eba7d3a314b9",
   "metadata": {
    "tags": []
   },
   "outputs": [
    {
     "name": "stdout",
     "output_type": "stream",
     "text": [
      ">>> Figura  0\n",
      "O(a) Quadrado está centrado(a) em (5, 5).\n",
      "Seu perímetro é de 8 e sua área é de 4.\n",
      ">>> Figura  1\n",
      "O(a) Circulo está centrado(a) em (6, 6).\n",
      "Seu perímetro é de 31.42 e sua área é de 78.54.\n",
      ">>> Figura  2\n",
      "A(o) Esfera está centrada(o) em (7, 7, 7).\n",
      "Sua área superficial é de 314.16 e seu volume é de 523.6.\n",
      ">>> Figura  3\n",
      "A(o) Cubo está centrada(o) em (8, 8, 8).\n",
      "Sua área superficial é de 24 e seu volume é de 8.\n"
     ]
    }
   ],
   "source": [
    "q.desenhe()"
   ]
  },
  {
   "cell_type": "markdown",
   "id": "f317ceb3-61ab-482a-8d44-eb310251de61",
   "metadata": {},
   "source": [
    "* Contem"
   ]
  },
  {
   "cell_type": "code",
   "execution_count": 28,
   "id": "b9b42b78-dc98-4fe6-a4b9-92ae3679abf0",
   "metadata": {},
   "outputs": [
    {
     "name": "stdout",
     "output_type": "stream",
     "text": [
      "A figura já foi adicionada à lista.\n"
     ]
    }
   ],
   "source": [
    "q.contem(quad2)"
   ]
  },
  {
   "cell_type": "code",
   "execution_count": 29,
   "id": "77f21229-f32b-4db9-892c-52bdc8c10c9d",
   "metadata": {},
   "outputs": [
    {
     "name": "stdout",
     "output_type": "stream",
     "text": [
      "A figura não foi adicionada ou foi excluída da lista.\n"
     ]
    }
   ],
   "source": [
    "q.contem(ret)"
   ]
  },
  {
   "cell_type": "code",
   "execution_count": null,
   "id": "e05d6bbc-3bbd-4fb1-b636-a6c7b6d5a82b",
   "metadata": {},
   "outputs": [],
   "source": []
  }
 ],
 "metadata": {
  "kernelspec": {
   "display_name": "Python 3",
   "language": "python",
   "name": "python3"
  },
  "language_info": {
   "codemirror_mode": {
    "name": "ipython",
    "version": 3
   },
   "file_extension": ".py",
   "mimetype": "text/x-python",
   "name": "python",
   "nbconvert_exporter": "python",
   "pygments_lexer": "ipython3",
   "version": "3.8.8"
  }
 },
 "nbformat": 4,
 "nbformat_minor": 5
}
