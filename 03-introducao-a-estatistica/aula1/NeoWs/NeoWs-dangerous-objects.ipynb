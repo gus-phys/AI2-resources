{
 "cells": [
  {
   "cell_type": "markdown",
   "id": "e781e1b8-9557-4eaa-9d87-321548b80eae",
   "metadata": {},
   "source": [
    "## Bibliotecas"
   ]
  },
  {
   "cell_type": "code",
   "execution_count": 1,
   "id": "662ad49c-9b7d-4c4e-b9f2-4c3a07539bed",
   "metadata": {},
   "outputs": [],
   "source": [
    "import pandas as pd\n",
    "import numpy as np\n",
    "import matplotlib.pyplot as plt\n",
    "from datetime import datetime\n",
    "import requests"
   ]
  },
  {
   "cell_type": "markdown",
   "id": "15016701-1034-4a59-ac5f-0e5ff97e0af8",
   "metadata": {},
   "source": [
    "## NeoWs (Near Earth Object Web Service)"
   ]
  },
  {
   "cell_type": "code",
   "execution_count": 30,
   "id": "db69ea10-a777-4de5-8dba-7c7810793ceb",
   "metadata": {},
   "outputs": [],
   "source": [
    "#api_key = \"ro8Gqgfrc7R7dpb7JkZhHamQobkjrC7zXdP9ZML8\"\n",
    "#num_paginas = 3\n",
    "#data = {}\n",
    "#for n in range(num_paginas):\n",
    "#    resp = requests.get(f'https://api.nasa.gov/neo/rest/v1/neo/browse?page={n}&api_key={api_key}')\n",
    "#    json = resp.json()\n",
    "#    data[n] = json"
   ]
  },
  {
   "cell_type": "code",
   "execution_count": 31,
   "id": "06ca278b-86ac-4795-a23a-9ab764c1452a",
   "metadata": {},
   "outputs": [
    {
     "data": {
      "text/plain": [
       "dict_keys([0, 1, 2])"
      ]
     },
     "execution_count": 31,
     "metadata": {},
     "output_type": "execute_result"
    }
   ],
   "source": [
    "#data.keys()"
   ]
  },
  {
   "cell_type": "code",
   "execution_count": 32,
   "id": "2c5602e5-6241-4ab1-8d6f-96feae8834e8",
   "metadata": {},
   "outputs": [
    {
     "ename": "KeyError",
     "evalue": "'page'",
     "output_type": "error",
     "traceback": [
      "\u001b[0;31m---------------------------------------------------------------------------\u001b[0m",
      "\u001b[0;31mKeyError\u001b[0m                                  Traceback (most recent call last)",
      "\u001b[0;32m<ipython-input-32-6d3c384441d0>\u001b[0m in \u001b[0;36m<module>\u001b[0;34m\u001b[0m\n\u001b[0;32m----> 1\u001b[0;31m \u001b[0mdata\u001b[0m\u001b[0;34m[\u001b[0m\u001b[0;34m\"page\"\u001b[0m\u001b[0;34m]\u001b[0m\u001b[0;34m\u001b[0m\u001b[0;34m\u001b[0m\u001b[0m\n\u001b[0m",
      "\u001b[0;31mKeyError\u001b[0m: 'page'"
     ]
    }
   ],
   "source": [
    "#data[\"page\"]"
   ]
  },
  {
   "cell_type": "code",
   "execution_count": null,
   "id": "520d8ed2-62ee-410a-8de3-1fa428ac8aaa",
   "metadata": {},
   "outputs": [],
   "source": []
  },
  {
   "cell_type": "code",
   "execution_count": null,
   "id": "2ed5e37d-9474-40d4-a02c-3b1c9b7972b8",
   "metadata": {},
   "outputs": [],
   "source": []
  },
  {
   "cell_type": "code",
   "execution_count": null,
   "id": "955ca0c9-f441-4b4c-b5b8-ed8c8230952b",
   "metadata": {},
   "outputs": [],
   "source": []
  },
  {
   "cell_type": "code",
   "execution_count": null,
   "id": "c6632ab2-46c8-41e3-aa38-e6ea70259161",
   "metadata": {},
   "outputs": [],
   "source": []
  },
  {
   "cell_type": "code",
   "execution_count": null,
   "id": "78bb6d0b-ac57-4fdd-bb4d-a8ccfc35e5c2",
   "metadata": {},
   "outputs": [],
   "source": []
  },
  {
   "cell_type": "code",
   "execution_count": 3,
   "id": "78cdf36c-df93-4fa3-a42c-420bb768ab9e",
   "metadata": {},
   "outputs": [],
   "source": [
    "url = \"https://api.nasa.gov/neo/rest/v1/neo/browse?page=1&api_key=ro8Gqgfrc7R7dpb7JkZhHamQobkjrC7zXdP9ZML8\"\n",
    "response = requests.get(url)\n",
    "data = response.json()"
   ]
  },
  {
   "cell_type": "code",
   "execution_count": 4,
   "id": "6885d1d1-ab32-4e0d-97c9-fb46f7587a9d",
   "metadata": {},
   "outputs": [
    {
     "data": {
      "text/plain": [
       "dict_keys(['links', 'page', 'near_earth_objects'])"
      ]
     },
     "execution_count": 4,
     "metadata": {},
     "output_type": "execute_result"
    }
   ],
   "source": [
    "data.keys()"
   ]
  },
  {
   "cell_type": "code",
   "execution_count": 5,
   "id": "9a8c4fee-0030-42a3-888c-7e4d4937183e",
   "metadata": {},
   "outputs": [
    {
     "data": {
      "text/plain": [
       "{'size': 20, 'total_elements': 25983, 'total_pages': 1300, 'number': 1}"
      ]
     },
     "execution_count": 5,
     "metadata": {},
     "output_type": "execute_result"
    }
   ],
   "source": [
    "data[\"page\"]"
   ]
  },
  {
   "cell_type": "markdown",
   "id": "478a3ac8-65c6-4a05-afb2-bdb29817e8e0",
   "metadata": {},
   "source": [
    "### Data Frame simplificado"
   ]
  },
  {
   "cell_type": "code",
   "execution_count": 6,
   "id": "4747497a-e882-406c-b888-041a36dfd690",
   "metadata": {},
   "outputs": [],
   "source": [
    "int_cols = ['id',\n",
    "           'name',\n",
    "           'absolute_magnitude_h',\n",
    "           'is_potentially_hazardous_asteroid']"
   ]
  },
  {
   "cell_type": "code",
   "execution_count": 7,
   "id": "d4c9925b-f459-437b-8be3-53ae30ae4ec0",
   "metadata": {},
   "outputs": [
    {
     "data": {
      "text/html": [
       "<div>\n",
       "<style scoped>\n",
       "    .dataframe tbody tr th:only-of-type {\n",
       "        vertical-align: middle;\n",
       "    }\n",
       "\n",
       "    .dataframe tbody tr th {\n",
       "        vertical-align: top;\n",
       "    }\n",
       "\n",
       "    .dataframe thead th {\n",
       "        text-align: right;\n",
       "    }\n",
       "</style>\n",
       "<table border=\"1\" class=\"dataframe\">\n",
       "  <thead>\n",
       "    <tr style=\"text-align: right;\">\n",
       "      <th></th>\n",
       "      <th>id</th>\n",
       "      <th>name</th>\n",
       "      <th>absolute_magnitude_h</th>\n",
       "      <th>is_potentially_hazardous_asteroid</th>\n",
       "    </tr>\n",
       "  </thead>\n",
       "  <tbody>\n",
       "    <tr>\n",
       "      <th>0</th>\n",
       "      <td>2001981</td>\n",
       "      <td>1981 Midas (1973 EA)</td>\n",
       "      <td>15.22</td>\n",
       "      <td>True</td>\n",
       "    </tr>\n",
       "    <tr>\n",
       "      <th>1</th>\n",
       "      <td>2002059</td>\n",
       "      <td>2059 Baboquivari (1963 UA)</td>\n",
       "      <td>15.97</td>\n",
       "      <td>False</td>\n",
       "    </tr>\n",
       "    <tr>\n",
       "      <th>2</th>\n",
       "      <td>2002061</td>\n",
       "      <td>2061 Anza (1960 UA)</td>\n",
       "      <td>16.34</td>\n",
       "      <td>False</td>\n",
       "    </tr>\n",
       "    <tr>\n",
       "      <th>3</th>\n",
       "      <td>2002062</td>\n",
       "      <td>2062 Aten (1976 AA)</td>\n",
       "      <td>17.10</td>\n",
       "      <td>False</td>\n",
       "    </tr>\n",
       "    <tr>\n",
       "      <th>4</th>\n",
       "      <td>2002063</td>\n",
       "      <td>2063 Bacchus (1977 HB)</td>\n",
       "      <td>17.25</td>\n",
       "      <td>False</td>\n",
       "    </tr>\n",
       "  </tbody>\n",
       "</table>\n",
       "</div>"
      ],
      "text/plain": [
       "        id                        name  absolute_magnitude_h  \\\n",
       "0  2001981        1981 Midas (1973 EA)                 15.22   \n",
       "1  2002059  2059 Baboquivari (1963 UA)                 15.97   \n",
       "2  2002061         2061 Anza (1960 UA)                 16.34   \n",
       "3  2002062         2062 Aten (1976 AA)                 17.10   \n",
       "4  2002063      2063 Bacchus (1977 HB)                 17.25   \n",
       "\n",
       "   is_potentially_hazardous_asteroid  \n",
       "0                               True  \n",
       "1                              False  \n",
       "2                              False  \n",
       "3                              False  \n",
       "4                              False  "
      ]
     },
     "execution_count": 7,
     "metadata": {},
     "output_type": "execute_result"
    }
   ],
   "source": [
    "simp_df = pd.json_normalize(data['near_earth_objects'])\n",
    "simp_df = simp_df.loc[:,int_cols]\n",
    "simp_df.head()"
   ]
  },
  {
   "cell_type": "code",
   "execution_count": 8,
   "id": "b0c6ca5d-2f45-44b2-8d10-ce7b511617f7",
   "metadata": {},
   "outputs": [
    {
     "data": {
      "text/html": [
       "<div>\n",
       "<style scoped>\n",
       "    .dataframe tbody tr th:only-of-type {\n",
       "        vertical-align: middle;\n",
       "    }\n",
       "\n",
       "    .dataframe tbody tr th {\n",
       "        vertical-align: top;\n",
       "    }\n",
       "\n",
       "    .dataframe thead th {\n",
       "        text-align: right;\n",
       "    }\n",
       "</style>\n",
       "<table border=\"1\" class=\"dataframe\">\n",
       "  <thead>\n",
       "    <tr style=\"text-align: right;\">\n",
       "      <th></th>\n",
       "      <th>id</th>\n",
       "      <th>name</th>\n",
       "      <th>absolute_magnitude_h</th>\n",
       "      <th>is_potentially_hazardous_asteroid</th>\n",
       "    </tr>\n",
       "  </thead>\n",
       "  <tbody>\n",
       "    <tr>\n",
       "      <th>count</th>\n",
       "      <td>20</td>\n",
       "      <td>20</td>\n",
       "      <td>20.000000</td>\n",
       "      <td>20</td>\n",
       "    </tr>\n",
       "    <tr>\n",
       "      <th>unique</th>\n",
       "      <td>20</td>\n",
       "      <td>20</td>\n",
       "      <td>NaN</td>\n",
       "      <td>2</td>\n",
       "    </tr>\n",
       "    <tr>\n",
       "      <th>top</th>\n",
       "      <td>2002061</td>\n",
       "      <td>2102 Tantalus (1975 YA)</td>\n",
       "      <td>NaN</td>\n",
       "      <td>False</td>\n",
       "    </tr>\n",
       "    <tr>\n",
       "      <th>freq</th>\n",
       "      <td>1</td>\n",
       "      <td>1</td>\n",
       "      <td>NaN</td>\n",
       "      <td>13</td>\n",
       "    </tr>\n",
       "    <tr>\n",
       "      <th>mean</th>\n",
       "      <td>NaN</td>\n",
       "      <td>NaN</td>\n",
       "      <td>16.195500</td>\n",
       "      <td>NaN</td>\n",
       "    </tr>\n",
       "    <tr>\n",
       "      <th>std</th>\n",
       "      <td>NaN</td>\n",
       "      <td>NaN</td>\n",
       "      <td>1.649809</td>\n",
       "      <td>NaN</td>\n",
       "    </tr>\n",
       "    <tr>\n",
       "      <th>min</th>\n",
       "      <td>NaN</td>\n",
       "      <td>NaN</td>\n",
       "      <td>13.330000</td>\n",
       "      <td>NaN</td>\n",
       "    </tr>\n",
       "    <tr>\n",
       "      <th>25%</th>\n",
       "      <td>NaN</td>\n",
       "      <td>NaN</td>\n",
       "      <td>15.165000</td>\n",
       "      <td>NaN</td>\n",
       "    </tr>\n",
       "    <tr>\n",
       "      <th>50%</th>\n",
       "      <td>NaN</td>\n",
       "      <td>NaN</td>\n",
       "      <td>16.080000</td>\n",
       "      <td>NaN</td>\n",
       "    </tr>\n",
       "    <tr>\n",
       "      <th>75%</th>\n",
       "      <td>NaN</td>\n",
       "      <td>NaN</td>\n",
       "      <td>17.145000</td>\n",
       "      <td>NaN</td>\n",
       "    </tr>\n",
       "    <tr>\n",
       "      <th>max</th>\n",
       "      <td>NaN</td>\n",
       "      <td>NaN</td>\n",
       "      <td>20.200000</td>\n",
       "      <td>NaN</td>\n",
       "    </tr>\n",
       "  </tbody>\n",
       "</table>\n",
       "</div>"
      ],
      "text/plain": [
       "             id                     name  absolute_magnitude_h  \\\n",
       "count        20                       20             20.000000   \n",
       "unique       20                       20                   NaN   \n",
       "top     2002061  2102 Tantalus (1975 YA)                   NaN   \n",
       "freq          1                        1                   NaN   \n",
       "mean        NaN                      NaN             16.195500   \n",
       "std         NaN                      NaN              1.649809   \n",
       "min         NaN                      NaN             13.330000   \n",
       "25%         NaN                      NaN             15.165000   \n",
       "50%         NaN                      NaN             16.080000   \n",
       "75%         NaN                      NaN             17.145000   \n",
       "max         NaN                      NaN             20.200000   \n",
       "\n",
       "       is_potentially_hazardous_asteroid  \n",
       "count                                 20  \n",
       "unique                                 2  \n",
       "top                                False  \n",
       "freq                                  13  \n",
       "mean                                 NaN  \n",
       "std                                  NaN  \n",
       "min                                  NaN  \n",
       "25%                                  NaN  \n",
       "50%                                  NaN  \n",
       "75%                                  NaN  \n",
       "max                                  NaN  "
      ]
     },
     "execution_count": 8,
     "metadata": {},
     "output_type": "execute_result"
    }
   ],
   "source": [
    "simp_df.describe(include='all')"
   ]
  },
  {
   "cell_type": "markdown",
   "id": "5995e5eb-3a51-4925-b7bc-606e072d2dca",
   "metadata": {},
   "source": [
    "### Data frame estendido"
   ]
  },
  {
   "cell_type": "code",
   "execution_count": 9,
   "id": "a09595ad-5cc7-4a5d-b9af-383f108043d6",
   "metadata": {},
   "outputs": [],
   "source": [
    "int_cols = ['id',\n",
    "           'name',\n",
    "           'is_potentially_hazardous_asteroid',\n",
    "           'absolute_magnitude_h']"
   ]
  },
  {
   "cell_type": "code",
   "execution_count": 10,
   "id": "40e4f4d9-543f-419c-9c67-7928cc5d045b",
   "metadata": {},
   "outputs": [],
   "source": [
    "loc_cols = ['id',\n",
    "            'name',\n",
    "            'close_approach_date',\n",
    "            'absolute_magnitude_h',\n",
    "            'miss_distance.lunar',\n",
    "            'is_potentially_hazardous_asteroid']"
   ]
  },
  {
   "cell_type": "code",
   "execution_count": 11,
   "id": "2286465d-2623-4521-a1f2-66f3009e7f32",
   "metadata": {},
   "outputs": [
    {
     "data": {
      "text/html": [
       "<div>\n",
       "<style scoped>\n",
       "    .dataframe tbody tr th:only-of-type {\n",
       "        vertical-align: middle;\n",
       "    }\n",
       "\n",
       "    .dataframe tbody tr th {\n",
       "        vertical-align: top;\n",
       "    }\n",
       "\n",
       "    .dataframe thead th {\n",
       "        text-align: right;\n",
       "    }\n",
       "</style>\n",
       "<table border=\"1\" class=\"dataframe\">\n",
       "  <thead>\n",
       "    <tr style=\"text-align: right;\">\n",
       "      <th></th>\n",
       "      <th>id</th>\n",
       "      <th>name</th>\n",
       "      <th>close_approach_date</th>\n",
       "      <th>absolute_magnitude_h</th>\n",
       "      <th>miss_distance.lunar</th>\n",
       "      <th>is_potentially_hazardous_asteroid</th>\n",
       "    </tr>\n",
       "  </thead>\n",
       "  <tbody>\n",
       "    <tr>\n",
       "      <th>0</th>\n",
       "      <td>2001981</td>\n",
       "      <td>1981 Midas (1973 EA)</td>\n",
       "      <td>1902-04-04</td>\n",
       "      <td>15.22</td>\n",
       "      <td>145.881062176</td>\n",
       "      <td>True</td>\n",
       "    </tr>\n",
       "    <tr>\n",
       "      <th>1</th>\n",
       "      <td>2001981</td>\n",
       "      <td>1981 Midas (1973 EA)</td>\n",
       "      <td>1909-09-01</td>\n",
       "      <td>15.22</td>\n",
       "      <td>175.6949010048</td>\n",
       "      <td>True</td>\n",
       "    </tr>\n",
       "    <tr>\n",
       "      <th>2</th>\n",
       "      <td>2001981</td>\n",
       "      <td>1981 Midas (1973 EA)</td>\n",
       "      <td>1916-09-24</td>\n",
       "      <td>15.22</td>\n",
       "      <td>60.327178858</td>\n",
       "      <td>True</td>\n",
       "    </tr>\n",
       "    <tr>\n",
       "      <th>3</th>\n",
       "      <td>2001981</td>\n",
       "      <td>1981 Midas (1973 EA)</td>\n",
       "      <td>1921-03-15</td>\n",
       "      <td>15.22</td>\n",
       "      <td>23.4053786854</td>\n",
       "      <td>True</td>\n",
       "    </tr>\n",
       "    <tr>\n",
       "      <th>4</th>\n",
       "      <td>2001981</td>\n",
       "      <td>1981 Midas (1973 EA)</td>\n",
       "      <td>1935-09-06</td>\n",
       "      <td>15.22</td>\n",
       "      <td>125.9538932643</td>\n",
       "      <td>True</td>\n",
       "    </tr>\n",
       "  </tbody>\n",
       "</table>\n",
       "</div>"
      ],
      "text/plain": [
       "        id                  name close_approach_date absolute_magnitude_h  \\\n",
       "0  2001981  1981 Midas (1973 EA)          1902-04-04                15.22   \n",
       "1  2001981  1981 Midas (1973 EA)          1909-09-01                15.22   \n",
       "2  2001981  1981 Midas (1973 EA)          1916-09-24                15.22   \n",
       "3  2001981  1981 Midas (1973 EA)          1921-03-15                15.22   \n",
       "4  2001981  1981 Midas (1973 EA)          1935-09-06                15.22   \n",
       "\n",
       "  miss_distance.lunar is_potentially_hazardous_asteroid  \n",
       "0       145.881062176                              True  \n",
       "1      175.6949010048                              True  \n",
       "2        60.327178858                              True  \n",
       "3       23.4053786854                              True  \n",
       "4      125.9538932643                              True  "
      ]
     },
     "execution_count": 11,
     "metadata": {},
     "output_type": "execute_result"
    }
   ],
   "source": [
    "ext_df = pd.json_normalize(data['near_earth_objects'], 'close_approach_data', int_cols)\n",
    "ext_df = ext_df.loc[:,loc_cols]\n",
    "ext_df.head()"
   ]
  },
  {
   "cell_type": "code",
   "execution_count": 12,
   "id": "e45ac534-a11b-4311-9c59-81e99ec45223",
   "metadata": {},
   "outputs": [
    {
     "data": {
      "text/html": [
       "<div>\n",
       "<style scoped>\n",
       "    .dataframe tbody tr th:only-of-type {\n",
       "        vertical-align: middle;\n",
       "    }\n",
       "\n",
       "    .dataframe tbody tr th {\n",
       "        vertical-align: top;\n",
       "    }\n",
       "\n",
       "    .dataframe thead th {\n",
       "        text-align: right;\n",
       "    }\n",
       "</style>\n",
       "<table border=\"1\" class=\"dataframe\">\n",
       "  <thead>\n",
       "    <tr style=\"text-align: right;\">\n",
       "      <th></th>\n",
       "      <th>id</th>\n",
       "      <th>name</th>\n",
       "      <th>close_approach_date</th>\n",
       "      <th>absolute_magnitude_h</th>\n",
       "      <th>miss_distance.lunar</th>\n",
       "      <th>is_potentially_hazardous_asteroid</th>\n",
       "    </tr>\n",
       "  </thead>\n",
       "  <tbody>\n",
       "    <tr>\n",
       "      <th>count</th>\n",
       "      <td>1282</td>\n",
       "      <td>1282</td>\n",
       "      <td>1282</td>\n",
       "      <td>1282.0</td>\n",
       "      <td>1282</td>\n",
       "      <td>1282</td>\n",
       "    </tr>\n",
       "    <tr>\n",
       "      <th>unique</th>\n",
       "      <td>20</td>\n",
       "      <td>20</td>\n",
       "      <td>1272</td>\n",
       "      <td>20.0</td>\n",
       "      <td>1282</td>\n",
       "      <td>2</td>\n",
       "    </tr>\n",
       "    <tr>\n",
       "      <th>top</th>\n",
       "      <td>2002340</td>\n",
       "      <td>2340 Hathor (1976 UA)</td>\n",
       "      <td>2148-09-08</td>\n",
       "      <td>20.2</td>\n",
       "      <td>66.1982759185</td>\n",
       "      <td>False</td>\n",
       "    </tr>\n",
       "    <tr>\n",
       "      <th>freq</th>\n",
       "      <td>208</td>\n",
       "      <td>208</td>\n",
       "      <td>2</td>\n",
       "      <td>208.0</td>\n",
       "      <td>1</td>\n",
       "      <td>772</td>\n",
       "    </tr>\n",
       "  </tbody>\n",
       "</table>\n",
       "</div>"
      ],
      "text/plain": [
       "             id                   name close_approach_date  \\\n",
       "count      1282                   1282                1282   \n",
       "unique       20                     20                1272   \n",
       "top     2002340  2340 Hathor (1976 UA)          2148-09-08   \n",
       "freq        208                    208                   2   \n",
       "\n",
       "        absolute_magnitude_h miss_distance.lunar  \\\n",
       "count                 1282.0                1282   \n",
       "unique                  20.0                1282   \n",
       "top                     20.2       66.1982759185   \n",
       "freq                   208.0                   1   \n",
       "\n",
       "       is_potentially_hazardous_asteroid  \n",
       "count                               1282  \n",
       "unique                                 2  \n",
       "top                                False  \n",
       "freq                                 772  "
      ]
     },
     "execution_count": 12,
     "metadata": {},
     "output_type": "execute_result"
    }
   ],
   "source": [
    "ext_df.describe(include='all')"
   ]
  },
  {
   "cell_type": "code",
   "execution_count": 13,
   "id": "361d78f3-ebbd-42df-8bd1-ea0f131da442",
   "metadata": {},
   "outputs": [],
   "source": [
    "#df = df.astype({\"a\": int, \"b\": complex})\n",
    "ext_df = ext_df.astype({\"absolute_magnitude_h\": float, \"miss_distance.lunar\": float})"
   ]
  },
  {
   "cell_type": "code",
   "execution_count": 14,
   "id": "ba5bf01b-30a1-4a36-9507-601ff5cbf97c",
   "metadata": {},
   "outputs": [
    {
     "data": {
      "text/html": [
       "<div>\n",
       "<style scoped>\n",
       "    .dataframe tbody tr th:only-of-type {\n",
       "        vertical-align: middle;\n",
       "    }\n",
       "\n",
       "    .dataframe tbody tr th {\n",
       "        vertical-align: top;\n",
       "    }\n",
       "\n",
       "    .dataframe thead th {\n",
       "        text-align: right;\n",
       "    }\n",
       "</style>\n",
       "<table border=\"1\" class=\"dataframe\">\n",
       "  <thead>\n",
       "    <tr style=\"text-align: right;\">\n",
       "      <th></th>\n",
       "      <th>id</th>\n",
       "      <th>name</th>\n",
       "      <th>close_approach_date</th>\n",
       "      <th>absolute_magnitude_h</th>\n",
       "      <th>miss_distance.lunar</th>\n",
       "      <th>is_potentially_hazardous_asteroid</th>\n",
       "    </tr>\n",
       "  </thead>\n",
       "  <tbody>\n",
       "    <tr>\n",
       "      <th>count</th>\n",
       "      <td>1282</td>\n",
       "      <td>1282</td>\n",
       "      <td>1282</td>\n",
       "      <td>1282.000000</td>\n",
       "      <td>1282.000000</td>\n",
       "      <td>1282</td>\n",
       "    </tr>\n",
       "    <tr>\n",
       "      <th>unique</th>\n",
       "      <td>20</td>\n",
       "      <td>20</td>\n",
       "      <td>1272</td>\n",
       "      <td>NaN</td>\n",
       "      <td>NaN</td>\n",
       "      <td>2</td>\n",
       "    </tr>\n",
       "    <tr>\n",
       "      <th>top</th>\n",
       "      <td>2002340</td>\n",
       "      <td>2340 Hathor (1976 UA)</td>\n",
       "      <td>2148-09-08</td>\n",
       "      <td>NaN</td>\n",
       "      <td>NaN</td>\n",
       "      <td>False</td>\n",
       "    </tr>\n",
       "    <tr>\n",
       "      <th>freq</th>\n",
       "      <td>208</td>\n",
       "      <td>208</td>\n",
       "      <td>2</td>\n",
       "      <td>NaN</td>\n",
       "      <td>NaN</td>\n",
       "      <td>772</td>\n",
       "    </tr>\n",
       "    <tr>\n",
       "      <th>mean</th>\n",
       "      <td>NaN</td>\n",
       "      <td>NaN</td>\n",
       "      <td>NaN</td>\n",
       "      <td>16.879672</td>\n",
       "      <td>119.533461</td>\n",
       "      <td>NaN</td>\n",
       "    </tr>\n",
       "    <tr>\n",
       "      <th>std</th>\n",
       "      <td>NaN</td>\n",
       "      <td>NaN</td>\n",
       "      <td>NaN</td>\n",
       "      <td>1.906227</td>\n",
       "      <td>114.387994</td>\n",
       "      <td>NaN</td>\n",
       "    </tr>\n",
       "    <tr>\n",
       "      <th>min</th>\n",
       "      <td>NaN</td>\n",
       "      <td>NaN</td>\n",
       "      <td>NaN</td>\n",
       "      <td>13.330000</td>\n",
       "      <td>1.929798</td>\n",
       "      <td>NaN</td>\n",
       "    </tr>\n",
       "    <tr>\n",
       "      <th>25%</th>\n",
       "      <td>NaN</td>\n",
       "      <td>NaN</td>\n",
       "      <td>NaN</td>\n",
       "      <td>15.250000</td>\n",
       "      <td>52.078406</td>\n",
       "      <td>NaN</td>\n",
       "    </tr>\n",
       "    <tr>\n",
       "      <th>50%</th>\n",
       "      <td>NaN</td>\n",
       "      <td>NaN</td>\n",
       "      <td>NaN</td>\n",
       "      <td>17.100000</td>\n",
       "      <td>98.762644</td>\n",
       "      <td>NaN</td>\n",
       "    </tr>\n",
       "    <tr>\n",
       "      <th>75%</th>\n",
       "      <td>NaN</td>\n",
       "      <td>NaN</td>\n",
       "      <td>NaN</td>\n",
       "      <td>17.480000</td>\n",
       "      <td>154.820356</td>\n",
       "      <td>NaN</td>\n",
       "    </tr>\n",
       "    <tr>\n",
       "      <th>max</th>\n",
       "      <td>NaN</td>\n",
       "      <td>NaN</td>\n",
       "      <td>NaN</td>\n",
       "      <td>20.200000</td>\n",
       "      <td>776.195618</td>\n",
       "      <td>NaN</td>\n",
       "    </tr>\n",
       "  </tbody>\n",
       "</table>\n",
       "</div>"
      ],
      "text/plain": [
       "             id                   name close_approach_date  \\\n",
       "count      1282                   1282                1282   \n",
       "unique       20                     20                1272   \n",
       "top     2002340  2340 Hathor (1976 UA)          2148-09-08   \n",
       "freq        208                    208                   2   \n",
       "mean        NaN                    NaN                 NaN   \n",
       "std         NaN                    NaN                 NaN   \n",
       "min         NaN                    NaN                 NaN   \n",
       "25%         NaN                    NaN                 NaN   \n",
       "50%         NaN                    NaN                 NaN   \n",
       "75%         NaN                    NaN                 NaN   \n",
       "max         NaN                    NaN                 NaN   \n",
       "\n",
       "        absolute_magnitude_h  miss_distance.lunar  \\\n",
       "count            1282.000000          1282.000000   \n",
       "unique                   NaN                  NaN   \n",
       "top                      NaN                  NaN   \n",
       "freq                     NaN                  NaN   \n",
       "mean               16.879672           119.533461   \n",
       "std                 1.906227           114.387994   \n",
       "min                13.330000             1.929798   \n",
       "25%                15.250000            52.078406   \n",
       "50%                17.100000            98.762644   \n",
       "75%                17.480000           154.820356   \n",
       "max                20.200000           776.195618   \n",
       "\n",
       "       is_potentially_hazardous_asteroid  \n",
       "count                               1282  \n",
       "unique                                 2  \n",
       "top                                False  \n",
       "freq                                 772  \n",
       "mean                                 NaN  \n",
       "std                                  NaN  \n",
       "min                                  NaN  \n",
       "25%                                  NaN  \n",
       "50%                                  NaN  \n",
       "75%                                  NaN  \n",
       "max                                  NaN  "
      ]
     },
     "execution_count": 14,
     "metadata": {},
     "output_type": "execute_result"
    }
   ],
   "source": [
    "ext_df.describe(include='all')"
   ]
  },
  {
   "cell_type": "markdown",
   "id": "db3345cb-2310-425d-9e14-468a761c506b",
   "metadata": {},
   "source": [
    "## Número de objetos perigosos à Terra"
   ]
  },
  {
   "cell_type": "code",
   "execution_count": 15,
   "id": "218212d0-dbcc-4a6f-942b-a78495c55daa",
   "metadata": {},
   "outputs": [
    {
     "data": {
      "text/plain": [
       "(array([ 0,  6,  7,  8,  9, 13, 18]),)"
      ]
     },
     "execution_count": 15,
     "metadata": {},
     "output_type": "execute_result"
    }
   ],
   "source": [
    "np.where(simp_df['is_potentially_hazardous_asteroid']==True)"
   ]
  },
  {
   "cell_type": "code",
   "execution_count": 16,
   "id": "9bfa0d64-06ff-4c82-a320-e61f20b7db75",
   "metadata": {},
   "outputs": [
    {
     "data": {
      "text/html": [
       "<div>\n",
       "<style scoped>\n",
       "    .dataframe tbody tr th:only-of-type {\n",
       "        vertical-align: middle;\n",
       "    }\n",
       "\n",
       "    .dataframe tbody tr th {\n",
       "        vertical-align: top;\n",
       "    }\n",
       "\n",
       "    .dataframe thead th {\n",
       "        text-align: right;\n",
       "    }\n",
       "</style>\n",
       "<table border=\"1\" class=\"dataframe\">\n",
       "  <thead>\n",
       "    <tr style=\"text-align: right;\">\n",
       "      <th></th>\n",
       "      <th>id</th>\n",
       "      <th>name</th>\n",
       "      <th>absolute_magnitude_h</th>\n",
       "      <th>is_potentially_hazardous_asteroid</th>\n",
       "    </tr>\n",
       "  </thead>\n",
       "  <tbody>\n",
       "    <tr>\n",
       "      <th>0</th>\n",
       "      <td>2001981</td>\n",
       "      <td>1981 Midas (1973 EA)</td>\n",
       "      <td>15.22</td>\n",
       "      <td>True</td>\n",
       "    </tr>\n",
       "    <tr>\n",
       "      <th>6</th>\n",
       "      <td>2002101</td>\n",
       "      <td>2101 Adonis (1936 CA)</td>\n",
       "      <td>18.64</td>\n",
       "      <td>True</td>\n",
       "    </tr>\n",
       "    <tr>\n",
       "      <th>7</th>\n",
       "      <td>2002102</td>\n",
       "      <td>2102 Tantalus (1975 YA)</td>\n",
       "      <td>16.01</td>\n",
       "      <td>True</td>\n",
       "    </tr>\n",
       "    <tr>\n",
       "      <th>8</th>\n",
       "      <td>2002135</td>\n",
       "      <td>2135 Aristaeus (1977 HA)</td>\n",
       "      <td>18.02</td>\n",
       "      <td>True</td>\n",
       "    </tr>\n",
       "    <tr>\n",
       "      <th>9</th>\n",
       "      <td>2002201</td>\n",
       "      <td>2201 Oljato (1947 XC)</td>\n",
       "      <td>15.25</td>\n",
       "      <td>True</td>\n",
       "    </tr>\n",
       "    <tr>\n",
       "      <th>13</th>\n",
       "      <td>2002340</td>\n",
       "      <td>2340 Hathor (1976 UA)</td>\n",
       "      <td>20.20</td>\n",
       "      <td>True</td>\n",
       "    </tr>\n",
       "    <tr>\n",
       "      <th>18</th>\n",
       "      <td>2003122</td>\n",
       "      <td>3122 Florence (1981 ET3)</td>\n",
       "      <td>14.03</td>\n",
       "      <td>True</td>\n",
       "    </tr>\n",
       "  </tbody>\n",
       "</table>\n",
       "</div>"
      ],
      "text/plain": [
       "         id                      name  absolute_magnitude_h  \\\n",
       "0   2001981      1981 Midas (1973 EA)                 15.22   \n",
       "6   2002101     2101 Adonis (1936 CA)                 18.64   \n",
       "7   2002102   2102 Tantalus (1975 YA)                 16.01   \n",
       "8   2002135  2135 Aristaeus (1977 HA)                 18.02   \n",
       "9   2002201     2201 Oljato (1947 XC)                 15.25   \n",
       "13  2002340     2340 Hathor (1976 UA)                 20.20   \n",
       "18  2003122  3122 Florence (1981 ET3)                 14.03   \n",
       "\n",
       "    is_potentially_hazardous_asteroid  \n",
       "0                                True  \n",
       "6                                True  \n",
       "7                                True  \n",
       "8                                True  \n",
       "9                                True  \n",
       "13                               True  \n",
       "18                               True  "
      ]
     },
     "execution_count": 16,
     "metadata": {},
     "output_type": "execute_result"
    }
   ],
   "source": [
    "#df.loc[df['column_name'] == some_value]\n",
    "dang_obj = simp_df.loc[simp_df['is_potentially_hazardous_asteroid']==True]\n",
    "dang_obj"
   ]
  },
  {
   "cell_type": "code",
   "execution_count": 17,
   "id": "06126ee3-f839-4f02-a70e-d04bab03f770",
   "metadata": {},
   "outputs": [
    {
     "data": {
      "text/plain": [
       "7"
      ]
     },
     "execution_count": 17,
     "metadata": {},
     "output_type": "execute_result"
    }
   ],
   "source": [
    "len(dang_obj)"
   ]
  },
  {
   "cell_type": "markdown",
   "id": "e8e44ee3-c875-45d8-9e78-d75433bed92f",
   "metadata": {},
   "source": [
    "## Média e desvio padrão da distância dos objetos perigosos"
   ]
  },
  {
   "cell_type": "code",
   "execution_count": 18,
   "id": "05863b72-2e61-4ec0-93b5-2366c3495e21",
   "metadata": {},
   "outputs": [
    {
     "data": {
      "text/plain": [
       "array(['2001981', '2002101', '2002102', '2002135', '2002201', '2002340',\n",
       "       '2003122'], dtype=object)"
      ]
     },
     "execution_count": 18,
     "metadata": {},
     "output_type": "execute_result"
    }
   ],
   "source": [
    "dang_obj_id = dang_obj['id'].values\n",
    "dang_obj_id"
   ]
  },
  {
   "cell_type": "code",
   "execution_count": 19,
   "id": "19d9fda0-ae39-4dc5-9ae1-3c8e834db990",
   "metadata": {},
   "outputs": [],
   "source": [
    "mean_all = ext_df.groupby('id', as_index=False).mean().drop('absolute_magnitude_h', axis=1)"
   ]
  },
  {
   "cell_type": "code",
   "execution_count": 20,
   "id": "248d8a0f-1e49-4d2e-806b-c05e3c592a33",
   "metadata": {
    "tags": []
   },
   "outputs": [
    {
     "data": {
      "text/html": [
       "<div>\n",
       "<style scoped>\n",
       "    .dataframe tbody tr th:only-of-type {\n",
       "        vertical-align: middle;\n",
       "    }\n",
       "\n",
       "    .dataframe tbody tr th {\n",
       "        vertical-align: top;\n",
       "    }\n",
       "\n",
       "    .dataframe thead th {\n",
       "        text-align: right;\n",
       "    }\n",
       "</style>\n",
       "<table border=\"1\" class=\"dataframe\">\n",
       "  <thead>\n",
       "    <tr style=\"text-align: right;\">\n",
       "      <th></th>\n",
       "      <th>id</th>\n",
       "      <th>mean</th>\n",
       "    </tr>\n",
       "  </thead>\n",
       "  <tbody>\n",
       "    <tr>\n",
       "      <th>0</th>\n",
       "      <td>2001981</td>\n",
       "      <td>96.562637</td>\n",
       "    </tr>\n",
       "    <tr>\n",
       "      <th>6</th>\n",
       "      <td>2002101</td>\n",
       "      <td>84.069543</td>\n",
       "    </tr>\n",
       "    <tr>\n",
       "      <th>7</th>\n",
       "      <td>2002102</td>\n",
       "      <td>117.942623</td>\n",
       "    </tr>\n",
       "    <tr>\n",
       "      <th>8</th>\n",
       "      <td>2002135</td>\n",
       "      <td>107.183932</td>\n",
       "    </tr>\n",
       "    <tr>\n",
       "      <th>9</th>\n",
       "      <td>2002201</td>\n",
       "      <td>162.238874</td>\n",
       "    </tr>\n",
       "    <tr>\n",
       "      <th>13</th>\n",
       "      <td>2002340</td>\n",
       "      <td>82.252267</td>\n",
       "    </tr>\n",
       "    <tr>\n",
       "      <th>18</th>\n",
       "      <td>2003122</td>\n",
       "      <td>99.930430</td>\n",
       "    </tr>\n",
       "  </tbody>\n",
       "</table>\n",
       "</div>"
      ],
      "text/plain": [
       "         id        mean\n",
       "0   2001981   96.562637\n",
       "6   2002101   84.069543\n",
       "7   2002102  117.942623\n",
       "8   2002135  107.183932\n",
       "9   2002201  162.238874\n",
       "13  2002340   82.252267\n",
       "18  2003122   99.930430"
      ]
     },
     "execution_count": 20,
     "metadata": {},
     "output_type": "execute_result"
    }
   ],
   "source": [
    "#dang_obj_mean = ext_df.groupby('id', as_index=False).mean().drop('absolute_magnitude_h', axis=1).loc[mean_all['id'].isin(dang_obj_id)]\n",
    "dang_obj_mean = mean_all.loc[mean_all['id'].isin(dang_obj_id)]\n",
    "dang_obj_mean = dang_obj_mean.rename(columns={'miss_distance.lunar': 'mean'})\n",
    "dang_obj_mean"
   ]
  },
  {
   "cell_type": "code",
   "execution_count": 21,
   "id": "c260b715-f3a1-4d91-b6ab-9dcda080b10e",
   "metadata": {},
   "outputs": [],
   "source": [
    "std_all = ext_df.groupby('id', as_index=False).std().drop('absolute_magnitude_h', axis=1)"
   ]
  },
  {
   "cell_type": "code",
   "execution_count": 22,
   "id": "7c653f59-15bf-4546-b417-95696a8ae9b1",
   "metadata": {},
   "outputs": [
    {
     "data": {
      "text/html": [
       "<div>\n",
       "<style scoped>\n",
       "    .dataframe tbody tr th:only-of-type {\n",
       "        vertical-align: middle;\n",
       "    }\n",
       "\n",
       "    .dataframe tbody tr th {\n",
       "        vertical-align: top;\n",
       "    }\n",
       "\n",
       "    .dataframe thead th {\n",
       "        text-align: right;\n",
       "    }\n",
       "</style>\n",
       "<table border=\"1\" class=\"dataframe\">\n",
       "  <thead>\n",
       "    <tr style=\"text-align: right;\">\n",
       "      <th></th>\n",
       "      <th>id</th>\n",
       "      <th>std</th>\n",
       "    </tr>\n",
       "  </thead>\n",
       "  <tbody>\n",
       "    <tr>\n",
       "      <th>0</th>\n",
       "      <td>2001981</td>\n",
       "      <td>55.871900</td>\n",
       "    </tr>\n",
       "    <tr>\n",
       "      <th>6</th>\n",
       "      <td>2002101</td>\n",
       "      <td>62.350167</td>\n",
       "    </tr>\n",
       "    <tr>\n",
       "      <th>7</th>\n",
       "      <td>2002102</td>\n",
       "      <td>53.312520</td>\n",
       "    </tr>\n",
       "    <tr>\n",
       "      <th>8</th>\n",
       "      <td>2002135</td>\n",
       "      <td>50.950119</td>\n",
       "    </tr>\n",
       "    <tr>\n",
       "      <th>9</th>\n",
       "      <td>2002201</td>\n",
       "      <td>202.362760</td>\n",
       "    </tr>\n",
       "    <tr>\n",
       "      <th>13</th>\n",
       "      <td>2002340</td>\n",
       "      <td>59.285876</td>\n",
       "    </tr>\n",
       "    <tr>\n",
       "      <th>18</th>\n",
       "      <td>2003122</td>\n",
       "      <td>57.500006</td>\n",
       "    </tr>\n",
       "  </tbody>\n",
       "</table>\n",
       "</div>"
      ],
      "text/plain": [
       "         id         std\n",
       "0   2001981   55.871900\n",
       "6   2002101   62.350167\n",
       "7   2002102   53.312520\n",
       "8   2002135   50.950119\n",
       "9   2002201  202.362760\n",
       "13  2002340   59.285876\n",
       "18  2003122   57.500006"
      ]
     },
     "execution_count": 22,
     "metadata": {},
     "output_type": "execute_result"
    }
   ],
   "source": [
    "dang_obj_std = std_all.loc[std_all['id'].isin(dang_obj_id)]\n",
    "dang_obj_std = dang_obj_std.rename(columns={'miss_distance.lunar': 'std'})\n",
    "dang_obj_std"
   ]
  },
  {
   "cell_type": "code",
   "execution_count": 23,
   "id": "a57c9915-5b93-4157-b95a-bdf8ca11b68a",
   "metadata": {},
   "outputs": [
    {
     "data": {
      "text/html": [
       "<div>\n",
       "<style scoped>\n",
       "    .dataframe tbody tr th:only-of-type {\n",
       "        vertical-align: middle;\n",
       "    }\n",
       "\n",
       "    .dataframe tbody tr th {\n",
       "        vertical-align: top;\n",
       "    }\n",
       "\n",
       "    .dataframe thead th {\n",
       "        text-align: right;\n",
       "    }\n",
       "</style>\n",
       "<table border=\"1\" class=\"dataframe\">\n",
       "  <thead>\n",
       "    <tr style=\"text-align: right;\">\n",
       "      <th></th>\n",
       "      <th>id</th>\n",
       "      <th>name</th>\n",
       "      <th>absolute_magnitude_h</th>\n",
       "      <th>is_potentially_hazardous_asteroid</th>\n",
       "      <th>mean</th>\n",
       "      <th>std</th>\n",
       "    </tr>\n",
       "  </thead>\n",
       "  <tbody>\n",
       "    <tr>\n",
       "      <th>0</th>\n",
       "      <td>2001981</td>\n",
       "      <td>1981 Midas (1973 EA)</td>\n",
       "      <td>15.22</td>\n",
       "      <td>True</td>\n",
       "      <td>96.562637</td>\n",
       "      <td>55.871900</td>\n",
       "    </tr>\n",
       "    <tr>\n",
       "      <th>6</th>\n",
       "      <td>2002101</td>\n",
       "      <td>2101 Adonis (1936 CA)</td>\n",
       "      <td>18.64</td>\n",
       "      <td>True</td>\n",
       "      <td>84.069543</td>\n",
       "      <td>62.350167</td>\n",
       "    </tr>\n",
       "    <tr>\n",
       "      <th>7</th>\n",
       "      <td>2002102</td>\n",
       "      <td>2102 Tantalus (1975 YA)</td>\n",
       "      <td>16.01</td>\n",
       "      <td>True</td>\n",
       "      <td>117.942623</td>\n",
       "      <td>53.312520</td>\n",
       "    </tr>\n",
       "    <tr>\n",
       "      <th>8</th>\n",
       "      <td>2002135</td>\n",
       "      <td>2135 Aristaeus (1977 HA)</td>\n",
       "      <td>18.02</td>\n",
       "      <td>True</td>\n",
       "      <td>107.183932</td>\n",
       "      <td>50.950119</td>\n",
       "    </tr>\n",
       "    <tr>\n",
       "      <th>9</th>\n",
       "      <td>2002201</td>\n",
       "      <td>2201 Oljato (1947 XC)</td>\n",
       "      <td>15.25</td>\n",
       "      <td>True</td>\n",
       "      <td>162.238874</td>\n",
       "      <td>202.362760</td>\n",
       "    </tr>\n",
       "    <tr>\n",
       "      <th>13</th>\n",
       "      <td>2002340</td>\n",
       "      <td>2340 Hathor (1976 UA)</td>\n",
       "      <td>20.20</td>\n",
       "      <td>True</td>\n",
       "      <td>82.252267</td>\n",
       "      <td>59.285876</td>\n",
       "    </tr>\n",
       "    <tr>\n",
       "      <th>18</th>\n",
       "      <td>2003122</td>\n",
       "      <td>3122 Florence (1981 ET3)</td>\n",
       "      <td>14.03</td>\n",
       "      <td>True</td>\n",
       "      <td>99.930430</td>\n",
       "      <td>57.500006</td>\n",
       "    </tr>\n",
       "  </tbody>\n",
       "</table>\n",
       "</div>"
      ],
      "text/plain": [
       "         id                      name  absolute_magnitude_h  \\\n",
       "0   2001981      1981 Midas (1973 EA)                 15.22   \n",
       "6   2002101     2101 Adonis (1936 CA)                 18.64   \n",
       "7   2002102   2102 Tantalus (1975 YA)                 16.01   \n",
       "8   2002135  2135 Aristaeus (1977 HA)                 18.02   \n",
       "9   2002201     2201 Oljato (1947 XC)                 15.25   \n",
       "13  2002340     2340 Hathor (1976 UA)                 20.20   \n",
       "18  2003122  3122 Florence (1981 ET3)                 14.03   \n",
       "\n",
       "    is_potentially_hazardous_asteroid        mean         std  \n",
       "0                                True   96.562637   55.871900  \n",
       "6                                True   84.069543   62.350167  \n",
       "7                                True  117.942623   53.312520  \n",
       "8                                True  107.183932   50.950119  \n",
       "9                                True  162.238874  202.362760  \n",
       "13                               True   82.252267   59.285876  \n",
       "18                               True   99.930430   57.500006  "
      ]
     },
     "execution_count": 23,
     "metadata": {},
     "output_type": "execute_result"
    }
   ],
   "source": [
    "dan_obj_sta = pd.concat([dang_obj, dang_obj_mean['mean'], dang_obj_std['std']], axis=1)\n",
    "dan_obj_sta"
   ]
  },
  {
   "cell_type": "markdown",
   "id": "70bc0bf0-91cf-45a5-989f-c3f8f5e4aa03",
   "metadata": {},
   "source": [
    "## Aproximação de asteróides perigosos à Terra entre 2000 e 2021"
   ]
  },
  {
   "cell_type": "code",
   "execution_count": 24,
   "id": "3348cf77-7d2a-4917-9e0d-83979ae9dda4",
   "metadata": {},
   "outputs": [],
   "source": [
    "ext_df['close_approach_date'] = pd.to_datetime(ext_df['close_approach_date'])"
   ]
  },
  {
   "cell_type": "code",
   "execution_count": 25,
   "id": "51dcbed8-206f-4a7a-9157-aae9ae858852",
   "metadata": {},
   "outputs": [],
   "source": [
    "start_date = '2000-01-01'\n",
    "end_date = '2021-12-31'\n",
    "mask = (ext_df['close_approach_date'] > start_date) & (ext_df['close_approach_date'] < end_date)"
   ]
  },
  {
   "cell_type": "code",
   "execution_count": 26,
   "id": "7504a82a-f5e1-410f-bc59-c3ba30e52d23",
   "metadata": {},
   "outputs": [
    {
     "data": {
      "text/html": [
       "<div>\n",
       "<style scoped>\n",
       "    .dataframe tbody tr th:only-of-type {\n",
       "        vertical-align: middle;\n",
       "    }\n",
       "\n",
       "    .dataframe tbody tr th {\n",
       "        vertical-align: top;\n",
       "    }\n",
       "\n",
       "    .dataframe thead th {\n",
       "        text-align: right;\n",
       "    }\n",
       "</style>\n",
       "<table border=\"1\" class=\"dataframe\">\n",
       "  <thead>\n",
       "    <tr style=\"text-align: right;\">\n",
       "      <th></th>\n",
       "      <th>id</th>\n",
       "      <th>name</th>\n",
       "      <th>close_approach_date</th>\n",
       "      <th>absolute_magnitude_h</th>\n",
       "      <th>miss_distance.lunar</th>\n",
       "      <th>is_potentially_hazardous_asteroid</th>\n",
       "    </tr>\n",
       "  </thead>\n",
       "  <tbody>\n",
       "    <tr>\n",
       "      <th>14</th>\n",
       "      <td>2001981</td>\n",
       "      <td>1981 Midas (1973 EA)</td>\n",
       "      <td>2006-09-05</td>\n",
       "      <td>15.22</td>\n",
       "      <td>127.307618</td>\n",
       "      <td>True</td>\n",
       "    </tr>\n",
       "    <tr>\n",
       "      <th>15</th>\n",
       "      <td>2001981</td>\n",
       "      <td>1981 Midas (1973 EA)</td>\n",
       "      <td>2013-09-30</td>\n",
       "      <td>15.22</td>\n",
       "      <td>110.702321</td>\n",
       "      <td>True</td>\n",
       "    </tr>\n",
       "    <tr>\n",
       "      <th>16</th>\n",
       "      <td>2001981</td>\n",
       "      <td>1981 Midas (1973 EA)</td>\n",
       "      <td>2018-03-21</td>\n",
       "      <td>15.22</td>\n",
       "      <td>34.843489</td>\n",
       "      <td>True</td>\n",
       "    </tr>\n",
       "    <tr>\n",
       "      <th>47</th>\n",
       "      <td>2002059</td>\n",
       "      <td>2059 Baboquivari (1963 UA)</td>\n",
       "      <td>2017-09-16</td>\n",
       "      <td>15.97</td>\n",
       "      <td>544.341994</td>\n",
       "      <td>False</td>\n",
       "    </tr>\n",
       "    <tr>\n",
       "      <th>48</th>\n",
       "      <td>2002059</td>\n",
       "      <td>2059 Baboquivari (1963 UA)</td>\n",
       "      <td>2019-10-11</td>\n",
       "      <td>15.97</td>\n",
       "      <td>184.485412</td>\n",
       "      <td>False</td>\n",
       "    </tr>\n",
       "  </tbody>\n",
       "</table>\n",
       "</div>"
      ],
      "text/plain": [
       "         id                        name close_approach_date  \\\n",
       "14  2001981        1981 Midas (1973 EA)          2006-09-05   \n",
       "15  2001981        1981 Midas (1973 EA)          2013-09-30   \n",
       "16  2001981        1981 Midas (1973 EA)          2018-03-21   \n",
       "47  2002059  2059 Baboquivari (1963 UA)          2017-09-16   \n",
       "48  2002059  2059 Baboquivari (1963 UA)          2019-10-11   \n",
       "\n",
       "    absolute_magnitude_h  miss_distance.lunar  \\\n",
       "14                 15.22           127.307618   \n",
       "15                 15.22           110.702321   \n",
       "16                 15.22            34.843489   \n",
       "47                 15.97           544.341994   \n",
       "48                 15.97           184.485412   \n",
       "\n",
       "   is_potentially_hazardous_asteroid  \n",
       "14                              True  \n",
       "15                              True  \n",
       "16                              True  \n",
       "47                             False  \n",
       "48                             False  "
      ]
     },
     "execution_count": 26,
     "metadata": {},
     "output_type": "execute_result"
    }
   ],
   "source": [
    "obj_period = ext_df.loc[mask]\n",
    "obj_period.head()"
   ]
  },
  {
   "cell_type": "code",
   "execution_count": 27,
   "id": "52806080-0acb-42f8-91c8-a3599cab7b28",
   "metadata": {},
   "outputs": [
    {
     "data": {
      "image/png": "[encoded data removed]",
      "text/plain": [
       "<Figure size 432x288 with 1 Axes>"
      ]
     },
     "metadata": {
      "needs_background": "light"
     },
     "output_type": "display_data"
    }
   ],
   "source": [
    "dang_obj_period = obj_period.loc[obj_period['is_potentially_hazardous_asteroid']==True]\n",
    "dang_obj_period['close_approach_date'].hist(bins=20)\n",
    "plt.title('Quantidade de asteróides perigosos à Terra')\n",
    "plt.xlabel('Ano de aproximação')\n",
    "plt.ylabel('Contagem')\n",
    "plt.show()"
   ]
  },
  {
   "cell_type": "markdown",
   "id": "9b1e70c3-22d3-4f63-ac5c-bd78d2d5938a",
   "metadata": {},
   "source": [
    "## Histograma dos tamanhos dos objetos perigosos"
   ]
  },
  {
   "cell_type": "code",
   "execution_count": 28,
   "id": "0ae20c07-ffa5-473a-9925-a3f2ee7ab97f",
   "metadata": {},
   "outputs": [
    {
     "data": {
      "image/png": "[encoded data removed]",
      "text/plain": [
       "<Figure size 432x288 with 1 Axes>"
      ]
     },
     "metadata": {
      "needs_background": "light"
     },
     "output_type": "display_data"
    }
   ],
   "source": [
    "dang_obj['absolute_magnitude_h'].hist(bins=10)\n",
    "plt.title('Quantidade de asteróides perigosos à Terra')\n",
    "plt.xlabel('Magnitude absoluta H')\n",
    "plt.ylabel('Contagem')\n",
    "plt.show()"
   ]
  },
  {
   "cell_type": "markdown",
   "id": "10b68735-d74d-4de9-befe-b1849df4d7ad",
   "metadata": {},
   "source": [
    "## Histograma dos tamanhos dos objetos inofencivos"
   ]
  },
  {
   "cell_type": "code",
   "execution_count": 29,
   "id": "8b092007-1862-4cd0-b45e-2e6d7617aaa5",
   "metadata": {},
   "outputs": [
    {
     "data": {
      "image/png": "[encoded data removed]",
      "text/plain": [
       "<Figure size 432x288 with 1 Axes>"
      ]
     },
     "metadata": {
      "needs_background": "light"
     },
     "output_type": "display_data"
    }
   ],
   "source": [
    "simp_df.loc[-simp_df['id'].isin(dang_obj_id)]['absolute_magnitude_h'].hist(bins=10)\n",
    "plt.title('Quantida de asteróides inofencivos à Terra')\n",
    "plt.xlabel('Magnitude absoluta H')\n",
    "plt.ylabel('Contagem')\n",
    "plt.show()"
   ]
  },
  {
   "cell_type": "code",
   "execution_count": null,
   "id": "8811f8c4-a15d-47d0-b05d-264f24d44caf",
   "metadata": {},
   "outputs": [],
   "source": []
  }
 ],
 "metadata": {
  "kernelspec": {
   "display_name": "Python 3",
   "language": "python",
   "name": "python3"
  },
  "language_info": {
   "codemirror_mode": {
    "name": "ipython",
    "version": 3
   },
   "file_extension": ".py",
   "mimetype": "text/x-python",
   "name": "python",
   "nbconvert_exporter": "python",
   "pygments_lexer": "ipython3",
   "version": "3.8.10"
  }
 },
 "nbformat": 4,
 "nbformat_minor": 5
}
