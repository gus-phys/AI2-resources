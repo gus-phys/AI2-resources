{
 "cells": [
  {
   "cell_type": "code",
   "execution_count": 1,
   "id": "662ad49c-9b7d-4c4e-b9f2-4c3a07539bed",
   "metadata": {},
   "outputs": [],
   "source": [
    "import requests"
   ]
  },
  {
   "cell_type": "code",
   "execution_count": 2,
   "id": "338bedc7-a139-47ca-bbd2-0ffcaf7bf75f",
   "metadata": {},
   "outputs": [],
   "source": [
    "url = \"https://api.nasa.gov/neo/rest/v1/neo/browse?page=1&api_key=RxmRVoLLKKiUuuKLTytCZD7qBlGayWQ5NeeeRCZ6\""
   ]
  },
  {
   "cell_type": "code",
   "execution_count": 3,
   "id": "c25cead9-0bc5-4be9-93b0-449ec0814a83",
   "metadata": {},
   "outputs": [],
   "source": [
    "resp = requests.get(url)"
   ]
  },
  {
   "cell_type": "code",
   "execution_count": 4,
   "id": "a98beb54-abf0-4178-abb2-4b637dfed3a6",
   "metadata": {},
   "outputs": [],
   "source": [
    "data = resp.json()"
   ]
  },
  {
   "cell_type": "code",
   "execution_count": 5,
   "id": "a11cde95-371d-41af-8f4e-7c49891dea74",
   "metadata": {},
   "outputs": [
    {
     "data": {
      "text/plain": [
       "{'size': 20, 'total_elements': 25981, 'total_pages': 1300, 'number': 1}"
      ]
     },
     "execution_count": 5,
     "metadata": {},
     "output_type": "execute_result"
    }
   ],
   "source": [
    "data['page']"
   ]
  },
  {
   "cell_type": "code",
   "execution_count": null,
   "id": "f4ef8940-6999-4aba-b018-a123f987ff44",
   "metadata": {},
   "outputs": [],
   "source": []
  }
 ],
 "metadata": {
  "kernelspec": {
   "display_name": "Python 3",
   "language": "python",
   "name": "python3"
  },
  "language_info": {
   "codemirror_mode": {
    "name": "ipython",
    "version": 3
   },
   "file_extension": ".py",
   "mimetype": "text/x-python",
   "name": "python",
   "nbconvert_exporter": "python",
   "pygments_lexer": "ipython3",
   "version": "3.7.10"
  }
 },
 "nbformat": 4,
 "nbformat_minor": 5
}
