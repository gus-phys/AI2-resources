{
 "cells": [
  {
   "cell_type": "markdown",
   "id": "e781e1b8-9557-4eaa-9d87-321548b80eae",
   "metadata": {},
   "source": [
    "## Importação das bibliotecas"
   ]
  },
  {
   "cell_type": "code",
   "execution_count": 82,
   "id": "662ad49c-9b7d-4c4e-b9f2-4c3a07539bed",
   "metadata": {},
   "outputs": [],
   "source": [
    "import pandas as pd\n",
    "import numpy as np\n",
    "import requests"
   ]
  },
  {
   "cell_type": "markdown",
   "id": "15016701-1034-4a59-ac5f-0e5ff97e0af8",
   "metadata": {},
   "source": [
    "## Importação do dados da NASA"
   ]
  },
  {
   "cell_type": "code",
   "execution_count": 2,
   "id": "a96c56e1-8e3d-439d-9202-70313bfc3b45",
   "metadata": {},
   "outputs": [],
   "source": [
    "numero_de_paginas = 1\n",
    "data = {}\n",
    "for n in range(0, numero_de_paginas):\n",
    "    url = f\"https://api.nasa.gov/neo/rest/v1/neo/browse?page={n}&api_key=RxmRVoLLKKiUuuKLTytCZD7qBlGayWQ5NeeeRCZ6\"\n",
    "    response = requests.get(url)\n",
    "    data = response.json()\n",
    "#    data += json[\"near_earth_objects\"]"
   ]
  },
  {
   "cell_type": "code",
   "execution_count": 3,
   "id": "6885d1d1-ab32-4e0d-97c9-fb46f7587a9d",
   "metadata": {},
   "outputs": [
    {
     "data": {
      "text/plain": [
       "dict_keys(['links', 'page', 'near_earth_objects'])"
      ]
     },
     "execution_count": 3,
     "metadata": {},
     "output_type": "execute_result"
    }
   ],
   "source": [
    "data.keys()"
   ]
  },
  {
   "cell_type": "code",
   "execution_count": 4,
   "id": "9a8c4fee-0030-42a3-888c-7e4d4937183e",
   "metadata": {},
   "outputs": [
    {
     "data": {
      "text/plain": [
       "{'size': 20, 'total_elements': 25983, 'total_pages': 1300, 'number': 0}"
      ]
     },
     "execution_count": 4,
     "metadata": {},
     "output_type": "execute_result"
    }
   ],
   "source": [
    "data['page']"
   ]
  },
  {
   "cell_type": "code",
   "execution_count": 5,
   "id": "f4ef8940-6999-4aba-b018-a123f987ff44",
   "metadata": {
    "tags": []
   },
   "outputs": [],
   "source": [
    "asteroids = {\"id\": [],\n",
    "             \"nome\": [],\n",
    "             \"perigoso\": [],#}\n",
    "#             \"distancia_observada\": [],\n",
    "#             \"data_aproximicao\": [],\n",
    "             \"diametro_min\": [],\n",
    "             \"diametro_max\":[]}"
   ]
  },
  {
   "cell_type": "code",
   "execution_count": 6,
   "id": "82a46f1b-e013-4be9-a6a6-086829e68580",
   "metadata": {},
   "outputs": [],
   "source": [
    "for asteroid in data['near_earth_objects']:\n",
    "    asteroids['id'].append(asteroid['id'])\n",
    "    asteroids['nome'].append(asteroid['name'])\n",
    "    asteroids['perigoso'].append(asteroid['is_potentially_hazardous_asteroid'])\n",
    "#    asteroids['distancia_observada'].append(asteroid['close_approach_data']['miss_distance']['lunar'])\n",
    "#    asteroids['data_aproximicao'].append(asteroid['close_approach_data']['close_approach_date'])\n",
    "    asteroids['diametro_min'].append(asteroid['estimated_diameter']['kilometers']['estimated_diameter_min'])\n",
    "    asteroids['diametro_max'].append(asteroid['estimated_diameter']['kilometers']['estimated_diameter_max'])"
   ]
  },
  {
   "cell_type": "code",
   "execution_count": 7,
   "id": "2f27a4ea-0391-419e-a4d0-58bc796a44a4",
   "metadata": {},
   "outputs": [],
   "source": [
    "cols = [\"id\",\n",
    "        \"nome\",\n",
    "        \"perigoso\",#]\n",
    "#        \"distancia_observada\",\n",
    "#        \"data_aproximicao\",\n",
    "        \"diametro_min\",\n",
    "        \"diametro_max\"]"
   ]
  },
  {
   "cell_type": "code",
   "execution_count": 8,
   "id": "ccfd7580-faf5-4151-9abf-b94d56588a2d",
   "metadata": {},
   "outputs": [
    {
     "data": {
      "text/html": [
       "<div>\n",
       "<style scoped>\n",
       "    .dataframe tbody tr th:only-of-type {\n",
       "        vertical-align: middle;\n",
       "    }\n",
       "\n",
       "    .dataframe tbody tr th {\n",
       "        vertical-align: top;\n",
       "    }\n",
       "\n",
       "    .dataframe thead th {\n",
       "        text-align: right;\n",
       "    }\n",
       "</style>\n",
       "<table border=\"1\" class=\"dataframe\">\n",
       "  <thead>\n",
       "    <tr style=\"text-align: right;\">\n",
       "      <th></th>\n",
       "      <th>id</th>\n",
       "      <th>nome</th>\n",
       "      <th>perigoso</th>\n",
       "      <th>diametro_min</th>\n",
       "      <th>diametro_max</th>\n",
       "    </tr>\n",
       "  </thead>\n",
       "  <tbody>\n",
       "    <tr>\n",
       "      <th>2000433</th>\n",
       "      <td>2000433</td>\n",
       "      <td>433 Eros (A898 PA)</td>\n",
       "      <td>False</td>\n",
       "      <td>21.905591</td>\n",
       "      <td>48.982391</td>\n",
       "    </tr>\n",
       "    <tr>\n",
       "      <th>2000719</th>\n",
       "      <td>2000719</td>\n",
       "      <td>719 Albert (A911 TB)</td>\n",
       "      <td>False</td>\n",
       "      <td>2.101624</td>\n",
       "      <td>4.699374</td>\n",
       "    </tr>\n",
       "    <tr>\n",
       "      <th>2000887</th>\n",
       "      <td>2000887</td>\n",
       "      <td>887 Alinda (A918 AA)</td>\n",
       "      <td>False</td>\n",
       "      <td>4.534767</td>\n",
       "      <td>10.140047</td>\n",
       "    </tr>\n",
       "    <tr>\n",
       "      <th>2001036</th>\n",
       "      <td>2001036</td>\n",
       "      <td>1036 Ganymed (A924 UB)</td>\n",
       "      <td>False</td>\n",
       "      <td>37.545248</td>\n",
       "      <td>83.953727</td>\n",
       "    </tr>\n",
       "    <tr>\n",
       "      <th>2001221</th>\n",
       "      <td>2001221</td>\n",
       "      <td>1221 Amor (1932 EA1)</td>\n",
       "      <td>False</td>\n",
       "      <td>0.884209</td>\n",
       "      <td>1.977152</td>\n",
       "    </tr>\n",
       "  </tbody>\n",
       "</table>\n",
       "</div>"
      ],
      "text/plain": [
       "              id                    nome  perigoso  diametro_min  diametro_max\n",
       "2000433  2000433      433 Eros (A898 PA)     False     21.905591     48.982391\n",
       "2000719  2000719    719 Albert (A911 TB)     False      2.101624      4.699374\n",
       "2000887  2000887    887 Alinda (A918 AA)     False      4.534767     10.140047\n",
       "2001036  2001036  1036 Ganymed (A924 UB)     False     37.545248     83.953727\n",
       "2001221  2001221    1221 Amor (1932 EA1)     False      0.884209      1.977152"
      ]
     },
     "execution_count": 8,
     "metadata": {},
     "output_type": "execute_result"
    }
   ],
   "source": [
    "asteroids_data = pd.DataFrame(asteroids, index=asteroids[\"id\"], columns = cols)\n",
    "asteroids_data.head()"
   ]
  },
  {
   "cell_type": "code",
   "execution_count": 19,
   "id": "011f7324-3a10-43be-81ae-cc109b86b80d",
   "metadata": {},
   "outputs": [
    {
     "data": {
      "text/html": [
       "<div>\n",
       "<style scoped>\n",
       "    .dataframe tbody tr th:only-of-type {\n",
       "        vertical-align: middle;\n",
       "    }\n",
       "\n",
       "    .dataframe tbody tr th {\n",
       "        vertical-align: top;\n",
       "    }\n",
       "\n",
       "    .dataframe thead th {\n",
       "        text-align: right;\n",
       "    }\n",
       "</style>\n",
       "<table border=\"1\" class=\"dataframe\">\n",
       "  <thead>\n",
       "    <tr style=\"text-align: right;\">\n",
       "      <th></th>\n",
       "      <th>id</th>\n",
       "      <th>nome</th>\n",
       "      <th>perigoso</th>\n",
       "      <th>diametro_min</th>\n",
       "      <th>diametro_max</th>\n",
       "    </tr>\n",
       "  </thead>\n",
       "  <tbody>\n",
       "    <tr>\n",
       "      <th>count</th>\n",
       "      <td>20</td>\n",
       "      <td>20</td>\n",
       "      <td>20</td>\n",
       "      <td>20.000000</td>\n",
       "      <td>20.000000</td>\n",
       "    </tr>\n",
       "    <tr>\n",
       "      <th>unique</th>\n",
       "      <td>20</td>\n",
       "      <td>20</td>\n",
       "      <td>2</td>\n",
       "      <td>NaN</td>\n",
       "      <td>NaN</td>\n",
       "    </tr>\n",
       "    <tr>\n",
       "      <th>top</th>\n",
       "      <td>2001627</td>\n",
       "      <td>1580 Betulia (1950 KA)</td>\n",
       "      <td>False</td>\n",
       "      <td>NaN</td>\n",
       "      <td>NaN</td>\n",
       "    </tr>\n",
       "    <tr>\n",
       "      <th>freq</th>\n",
       "      <td>1</td>\n",
       "      <td>1</td>\n",
       "      <td>17</td>\n",
       "      <td>NaN</td>\n",
       "      <td>NaN</td>\n",
       "    </tr>\n",
       "    <tr>\n",
       "      <th>mean</th>\n",
       "      <td>NaN</td>\n",
       "      <td>NaN</td>\n",
       "      <td>NaN</td>\n",
       "      <td>5.765367</td>\n",
       "      <td>12.891752</td>\n",
       "    </tr>\n",
       "    <tr>\n",
       "      <th>std</th>\n",
       "      <td>NaN</td>\n",
       "      <td>NaN</td>\n",
       "      <td>NaN</td>\n",
       "      <td>8.825466</td>\n",
       "      <td>19.734343</td>\n",
       "    </tr>\n",
       "    <tr>\n",
       "      <th>min</th>\n",
       "      <td>NaN</td>\n",
       "      <td>NaN</td>\n",
       "      <td>NaN</td>\n",
       "      <td>0.427125</td>\n",
       "      <td>0.955081</td>\n",
       "    </tr>\n",
       "    <tr>\n",
       "      <th>25%</th>\n",
       "      <td>NaN</td>\n",
       "      <td>NaN</td>\n",
       "      <td>NaN</td>\n",
       "      <td>1.883184</td>\n",
       "      <td>4.210928</td>\n",
       "    </tr>\n",
       "    <tr>\n",
       "      <th>50%</th>\n",
       "      <td>NaN</td>\n",
       "      <td>NaN</td>\n",
       "      <td>NaN</td>\n",
       "      <td>2.922900</td>\n",
       "      <td>6.535803</td>\n",
       "    </tr>\n",
       "    <tr>\n",
       "      <th>75%</th>\n",
       "      <td>NaN</td>\n",
       "      <td>NaN</td>\n",
       "      <td>NaN</td>\n",
       "      <td>4.550538</td>\n",
       "      <td>10.175313</td>\n",
       "    </tr>\n",
       "    <tr>\n",
       "      <th>max</th>\n",
       "      <td>NaN</td>\n",
       "      <td>NaN</td>\n",
       "      <td>NaN</td>\n",
       "      <td>37.545248</td>\n",
       "      <td>83.953727</td>\n",
       "    </tr>\n",
       "  </tbody>\n",
       "</table>\n",
       "</div>"
      ],
      "text/plain": [
       "             id                    nome perigoso  diametro_min  diametro_max\n",
       "count        20                      20       20     20.000000     20.000000\n",
       "unique       20                      20        2           NaN           NaN\n",
       "top     2001627  1580 Betulia (1950 KA)    False           NaN           NaN\n",
       "freq          1                       1       17           NaN           NaN\n",
       "mean        NaN                     NaN      NaN      5.765367     12.891752\n",
       "std         NaN                     NaN      NaN      8.825466     19.734343\n",
       "min         NaN                     NaN      NaN      0.427125      0.955081\n",
       "25%         NaN                     NaN      NaN      1.883184      4.210928\n",
       "50%         NaN                     NaN      NaN      2.922900      6.535803\n",
       "75%         NaN                     NaN      NaN      4.550538     10.175313\n",
       "max         NaN                     NaN      NaN     37.545248     83.953727"
      ]
     },
     "execution_count": 19,
     "metadata": {},
     "output_type": "execute_result"
    }
   ],
   "source": [
    "asteroids_data.describe(include='all')"
   ]
  },
  {
   "cell_type": "code",
   "execution_count": 17,
   "id": "0f71b8a3-b326-4bbe-ae70-3a78496d4551",
   "metadata": {},
   "outputs": [
    {
     "data": {
      "text/plain": [
       "{'close_approach_date': '1900-12-27',\n",
       " 'close_approach_date_full': '1900-Dec-27 01:30',\n",
       " 'epoch_date_close_approach': -2177879400000,\n",
       " 'relative_velocity': {'kilometers_per_second': '5.5786191875',\n",
       "  'kilometers_per_hour': '20083.0290749201',\n",
       "  'miles_per_hour': '12478.8132604691'},\n",
       " 'miss_distance': {'astronomical': '0.3149291693',\n",
       "  'lunar': '122.5074468577',\n",
       "  'kilometers': '47112732.928149391',\n",
       "  'miles': '29274494.7651919558'},\n",
       " 'orbiting_body': 'Earth'}"
      ]
     },
     "execution_count": 17,
     "metadata": {},
     "output_type": "execute_result"
    }
   ],
   "source": [
    "obj0 = data['near_earth_objects'][0]['close_approach_data']\n",
    "obj0[0]#['miss_distance']#['lunar']"
   ]
  },
  {
   "cell_type": "code",
   "execution_count": 45,
   "id": "07108c42-4bac-405d-b738-1cf9407e4f93",
   "metadata": {},
   "outputs": [
    {
     "data": {
      "text/plain": [
       "34"
      ]
     },
     "execution_count": 45,
     "metadata": {},
     "output_type": "execute_result"
    }
   ],
   "source": [
    "len(obj0)"
   ]
  },
  {
   "cell_type": "code",
   "execution_count": 121,
   "id": "6cd68820-a2a7-4b46-a67b-433a16136e94",
   "metadata": {},
   "outputs": [],
   "source": [
    "miss_distance = []\n",
    "for n in range(len(obj0)):\n",
    "    miss_distance.append(float(obj0[n]['miss_distance']['lunar']))"
   ]
  },
  {
   "cell_type": "code",
   "execution_count": 112,
   "id": "881b7165-ff67-4f22-9228-a9c7adef6551",
   "metadata": {},
   "outputs": [
    {
     "data": {
      "text/plain": [
       "58.1408383566"
      ]
     },
     "execution_count": 112,
     "metadata": {},
     "output_type": "execute_result"
    }
   ],
   "source": [
    "np.min(miss_distance)"
   ]
  },
  {
   "cell_type": "code",
   "execution_count": 91,
   "id": "cb137dff-e3a9-4a56-851b-4edcde161df0",
   "metadata": {},
   "outputs": [],
   "source": [
    "approach_date = []\n",
    "for n in range(len(obj0)):\n",
    "    approach_date.append(obj0[n]['close_approach_date'])"
   ]
  },
  {
   "cell_type": "code",
   "execution_count": 97,
   "id": "7160c31a-5623-43d6-946c-c6424ea90881",
   "metadata": {
    "tags": []
   },
   "outputs": [],
   "source": [
    "ast_approach = {\"id\": [],                \n",
    "                \"min_distancia_observada\": [],\n",
    "                \"data_aproximicao\": []}"
   ]
  },
  {
   "cell_type": "code",
   "execution_count": 102,
   "id": "9b36b54a-52ed-4115-a229-30ecabe9e4ec",
   "metadata": {},
   "outputs": [
    {
     "ename": "TypeError",
     "evalue": "list indices must be integers or slices, not str",
     "output_type": "error",
     "traceback": [
      "\u001b[0;31m---------------------------------------------------------------------------\u001b[0m",
      "\u001b[0;31mTypeError\u001b[0m                                 Traceback (most recent call last)",
      "\u001b[0;32m<ipython-input-102-b573c6d2d4cc>\u001b[0m in \u001b[0;36m<module>\u001b[0;34m\u001b[0m\n\u001b[1;32m      1\u001b[0m \u001b[0;32mfor\u001b[0m \u001b[0masteroid\u001b[0m \u001b[0;32min\u001b[0m \u001b[0mdata\u001b[0m\u001b[0;34m[\u001b[0m\u001b[0;34m'near_earth_objects'\u001b[0m\u001b[0;34m]\u001b[0m\u001b[0;34m:\u001b[0m\u001b[0;34m\u001b[0m\u001b[0;34m\u001b[0m\u001b[0m\n\u001b[1;32m      2\u001b[0m     \u001b[0mast_approach\u001b[0m\u001b[0;34m[\u001b[0m\u001b[0;34m'id'\u001b[0m\u001b[0;34m]\u001b[0m\u001b[0;34m.\u001b[0m\u001b[0mappend\u001b[0m\u001b[0;34m(\u001b[0m\u001b[0masteroid\u001b[0m\u001b[0;34m[\u001b[0m\u001b[0;34m'id'\u001b[0m\u001b[0;34m]\u001b[0m\u001b[0;34m)\u001b[0m\u001b[0;34m\u001b[0m\u001b[0;34m\u001b[0m\u001b[0m\n\u001b[0;32m----> 3\u001b[0;31m     \u001b[0mast_approach\u001b[0m\u001b[0;34m[\u001b[0m\u001b[0;34m'min_distancia_observada'\u001b[0m\u001b[0;34m]\u001b[0m\u001b[0;34m.\u001b[0m\u001b[0mappend\u001b[0m\u001b[0;34m(\u001b[0m\u001b[0masteroid\u001b[0m\u001b[0;34m[\u001b[0m\u001b[0;34m'close_approach_data'\u001b[0m\u001b[0;34m]\u001b[0m\u001b[0;34m[\u001b[0m\u001b[0;34m'miss_distance'\u001b[0m\u001b[0;34m]\u001b[0m\u001b[0;34m[\u001b[0m\u001b[0;34m'lunar'\u001b[0m\u001b[0;34m]\u001b[0m\u001b[0;34m)\u001b[0m\u001b[0;34m\u001b[0m\u001b[0;34m\u001b[0m\u001b[0m\n\u001b[0m\u001b[1;32m      4\u001b[0m     \u001b[0mast_approach\u001b[0m\u001b[0;34m[\u001b[0m\u001b[0;34m'data_aproximicao'\u001b[0m\u001b[0;34m]\u001b[0m\u001b[0;34m.\u001b[0m\u001b[0mappend\u001b[0m\u001b[0;34m(\u001b[0m\u001b[0masteroid\u001b[0m\u001b[0;34m[\u001b[0m\u001b[0;34m'close_approach_data'\u001b[0m\u001b[0;34m]\u001b[0m\u001b[0;34m[\u001b[0m\u001b[0;34m'close_approach_date'\u001b[0m\u001b[0;34m]\u001b[0m\u001b[0;34m)\u001b[0m\u001b[0;34m\u001b[0m\u001b[0;34m\u001b[0m\u001b[0m\n",
      "\u001b[0;31mTypeError\u001b[0m: list indices must be integers or slices, not str"
     ]
    }
   ],
   "source": [
    "for asteroid in data['near_earth_objects']:\n",
    "    ast_approach['id'].append(asteroid['id'])\n",
    "    ast_approach['min_distancia_observada'].append(asteroid['close_approach_data']['miss_distance']['lunar'])\n",
    "#    ast_approach['data_aproximicao'].append(asteroid['close_approach_data']['close_approach_date'])"
   ]
  },
  {
   "cell_type": "code",
   "execution_count": 124,
   "id": "746f1ad0-5f91-4236-a810-8aaf5986524d",
   "metadata": {},
   "outputs": [],
   "source": [
    "def min_distance(ast_id):\n",
    "    miss_distance = []\n",
    "    for n in range(len(asteroid['close_approach_data'])):\n",
    "        miss_distance.append(float(asteroid['close_approach_data'][n]['miss_distance']['lunar']))\n",
    "    md=np.min(miss_distance)\n",
    "    return(md)"
   ]
  },
  {
   "cell_type": "code",
   "execution_count": null,
   "id": "774b41fe-3c45-4033-9f7a-6c3d6aaa088b",
   "metadata": {},
   "outputs": [],
   "source": []
  }
 ],
 "metadata": {
  "kernelspec": {
   "display_name": "Python 3",
   "language": "python",
   "name": "python3"
  },
  "language_info": {
   "codemirror_mode": {
    "name": "ipython",
    "version": 3
   },
   "file_extension": ".py",
   "mimetype": "text/x-python",
   "name": "python",
   "nbconvert_exporter": "python",
   "pygments_lexer": "ipython3",
   "version": "3.8.10"
  }
 },
 "nbformat": 4,
 "nbformat_minor": 5
}
