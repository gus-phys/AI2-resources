{
 "cells": [
  {
   "cell_type": "markdown",
   "id": "6dd5b9d1-cf45-42b2-ac75-fc43d6d0415b",
   "metadata": {},
   "source": [
    "# Comparando classificadores de redução de dimensionalidade"
   ]
  },
  {
   "cell_type": "markdown",
   "id": "c22b385d-c9de-40b3-9a9c-8f478e11346b",
   "metadata": {},
   "source": [
    "## Bibliotecas"
   ]
  },
  {
   "cell_type": "code",
   "execution_count": 79,
   "id": "94a05d5e-6322-4a94-b5fa-f04b72f7b2d8",
   "metadata": {},
   "outputs": [],
   "source": [
    "import pandas as pd\n",
    "import numpy as np\n",
    "\n",
    "import matplotlib.pyplot as plt\n",
    "import seaborn as sns\n",
    "\n",
    "sns.set()"
   ]
  },
  {
   "cell_type": "markdown",
   "id": "def03743-509b-44dd-a60e-a9d3f6705685",
   "metadata": {},
   "source": [
    "## Dataset"
   ]
  },
  {
   "cell_type": "code",
   "execution_count": 2,
   "id": "0070980d-527b-4f83-b5aa-fb139c99d9f4",
   "metadata": {},
   "outputs": [],
   "source": [
    "from sklearn.datasets import fetch_lfw_people"
   ]
  },
  {
   "cell_type": "code",
   "execution_count": 3,
   "id": "99fb88b0-94e0-4c66-9528-7c3db8b11c9d",
   "metadata": {},
   "outputs": [],
   "source": [
    "faces = fetch_lfw_people(min_faces_per_person=60, data_home=\"~/data/\")"
   ]
  },
  {
   "cell_type": "code",
   "execution_count": 4,
   "id": "a439ed5f-cead-4a5e-8941-a2bbb6877ffb",
   "metadata": {},
   "outputs": [
    {
     "name": "stdout",
     "output_type": "stream",
     "text": [
      "Formato das imagens das faces:  (1348, 62, 47)\n",
      "Formato de X (caracteristicas):  (1348, 2914)\n",
      "Formato de y (rotulos):  (1348,)\n",
      "Nomes do rótulos:  ['Ariel Sharon' 'Colin Powell' 'Donald Rumsfeld' 'George W Bush'\n",
      " 'Gerhard Schroeder' 'Hugo Chavez' 'Junichiro Koizumi' 'Tony Blair']\n"
     ]
    }
   ],
   "source": [
    "X = faces.data\n",
    "y = faces.target\n",
    "\n",
    "print('Formato das imagens das faces: ', faces.images.shape)\n",
    "print('Formato de X (caracteristicas): ', X.shape)\n",
    "print('Formato de y (rotulos): ', y.shape)\n",
    "print('Nomes do rótulos: ', faces.target_names)"
   ]
  },
  {
   "cell_type": "markdown",
   "id": "43feba67-094a-4361-ace4-f6f63d9f90d6",
   "metadata": {},
   "source": [
    "### Balanceando os dados"
   ]
  },
  {
   "cell_type": "code",
   "execution_count": 113,
   "id": "6ffed059-3e10-4d99-b8b0-172483d19b6b",
   "metadata": {},
   "outputs": [
    {
     "data": {
      "text/plain": [
       "array([[  0,  77],\n",
       "       [  1, 236],\n",
       "       [  2, 121],\n",
       "       [  3, 530],\n",
       "       [  4, 109],\n",
       "       [  5,  71],\n",
       "       [  6,  60],\n",
       "       [  7, 144]])"
      ]
     },
     "execution_count": 113,
     "metadata": {},
     "output_type": "execute_result"
    }
   ],
   "source": [
    "(unique, counts) = np.unique(y, return_counts=True)\n",
    "frequency = np.asarray((unique, counts)).T\n",
    "frequency"
   ]
  },
  {
   "cell_type": "code",
   "execution_count": 81,
   "id": "7ead8cff-a896-4a57-9530-edc434142675",
   "metadata": {},
   "outputs": [
    {
     "data": {
      "text/html": [
       "<div>\n",
       "<style scoped>\n",
       "    .dataframe tbody tr th:only-of-type {\n",
       "        vertical-align: middle;\n",
       "    }\n",
       "\n",
       "    .dataframe tbody tr th {\n",
       "        vertical-align: top;\n",
       "    }\n",
       "\n",
       "    .dataframe thead th {\n",
       "        text-align: right;\n",
       "    }\n",
       "</style>\n",
       "<table border=\"1\" class=\"dataframe\">\n",
       "  <thead>\n",
       "    <tr style=\"text-align: right;\">\n",
       "      <th></th>\n",
       "      <th>0</th>\n",
       "      <th>1</th>\n",
       "      <th>2</th>\n",
       "      <th>3</th>\n",
       "      <th>4</th>\n",
       "      <th>5</th>\n",
       "      <th>6</th>\n",
       "      <th>7</th>\n",
       "      <th>8</th>\n",
       "      <th>9</th>\n",
       "      <th>...</th>\n",
       "      <th>2905</th>\n",
       "      <th>2906</th>\n",
       "      <th>2907</th>\n",
       "      <th>2908</th>\n",
       "      <th>2909</th>\n",
       "      <th>2910</th>\n",
       "      <th>2911</th>\n",
       "      <th>2912</th>\n",
       "      <th>2913</th>\n",
       "      <th>y</th>\n",
       "    </tr>\n",
       "  </thead>\n",
       "  <tbody>\n",
       "    <tr>\n",
       "      <th>0</th>\n",
       "      <td>138.000000</td>\n",
       "      <td>135.666672</td>\n",
       "      <td>127.666664</td>\n",
       "      <td>120.666664</td>\n",
       "      <td>117.000000</td>\n",
       "      <td>119.666664</td>\n",
       "      <td>126.000000</td>\n",
       "      <td>133.333328</td>\n",
       "      <td>138.000000</td>\n",
       "      <td>143.666672</td>\n",
       "      <td>...</td>\n",
       "      <td>24.666666</td>\n",
       "      <td>4.666667</td>\n",
       "      <td>2.666667</td>\n",
       "      <td>1.333333</td>\n",
       "      <td>0.333333</td>\n",
       "      <td>1.333333</td>\n",
       "      <td>1.666667</td>\n",
       "      <td>1.666667</td>\n",
       "      <td>0.333333</td>\n",
       "      <td>1</td>\n",
       "    </tr>\n",
       "    <tr>\n",
       "      <th>1</th>\n",
       "      <td>71.333336</td>\n",
       "      <td>56.000000</td>\n",
       "      <td>67.666664</td>\n",
       "      <td>91.333336</td>\n",
       "      <td>91.666664</td>\n",
       "      <td>72.333336</td>\n",
       "      <td>101.666664</td>\n",
       "      <td>124.666664</td>\n",
       "      <td>124.333336</td>\n",
       "      <td>127.666664</td>\n",
       "      <td>...</td>\n",
       "      <td>248.333328</td>\n",
       "      <td>252.666672</td>\n",
       "      <td>253.333328</td>\n",
       "      <td>253.000000</td>\n",
       "      <td>253.666672</td>\n",
       "      <td>251.666672</td>\n",
       "      <td>247.666672</td>\n",
       "      <td>243.000000</td>\n",
       "      <td>238.333328</td>\n",
       "      <td>3</td>\n",
       "    </tr>\n",
       "    <tr>\n",
       "      <th>2</th>\n",
       "      <td>84.333336</td>\n",
       "      <td>97.333336</td>\n",
       "      <td>72.333336</td>\n",
       "      <td>56.666668</td>\n",
       "      <td>95.333336</td>\n",
       "      <td>118.333336</td>\n",
       "      <td>123.666664</td>\n",
       "      <td>128.666672</td>\n",
       "      <td>130.333328</td>\n",
       "      <td>134.666672</td>\n",
       "      <td>...</td>\n",
       "      <td>91.000000</td>\n",
       "      <td>106.666664</td>\n",
       "      <td>116.000000</td>\n",
       "      <td>123.000000</td>\n",
       "      <td>118.333336</td>\n",
       "      <td>102.000000</td>\n",
       "      <td>114.000000</td>\n",
       "      <td>194.333328</td>\n",
       "      <td>241.000000</td>\n",
       "      <td>3</td>\n",
       "    </tr>\n",
       "    <tr>\n",
       "      <th>3</th>\n",
       "      <td>68.333336</td>\n",
       "      <td>81.666664</td>\n",
       "      <td>121.666664</td>\n",
       "      <td>135.000000</td>\n",
       "      <td>138.666672</td>\n",
       "      <td>141.333328</td>\n",
       "      <td>142.000000</td>\n",
       "      <td>148.333328</td>\n",
       "      <td>159.666672</td>\n",
       "      <td>171.000000</td>\n",
       "      <td>...</td>\n",
       "      <td>104.000000</td>\n",
       "      <td>165.000000</td>\n",
       "      <td>224.000000</td>\n",
       "      <td>232.333328</td>\n",
       "      <td>228.666672</td>\n",
       "      <td>230.000000</td>\n",
       "      <td>229.333328</td>\n",
       "      <td>224.333328</td>\n",
       "      <td>206.666672</td>\n",
       "      <td>3</td>\n",
       "    </tr>\n",
       "    <tr>\n",
       "      <th>4</th>\n",
       "      <td>56.666668</td>\n",
       "      <td>55.333332</td>\n",
       "      <td>47.333332</td>\n",
       "      <td>47.000000</td>\n",
       "      <td>50.000000</td>\n",
       "      <td>44.666668</td>\n",
       "      <td>44.666668</td>\n",
       "      <td>52.000000</td>\n",
       "      <td>62.333332</td>\n",
       "      <td>55.000000</td>\n",
       "      <td>...</td>\n",
       "      <td>39.666668</td>\n",
       "      <td>37.333332</td>\n",
       "      <td>34.333332</td>\n",
       "      <td>34.000000</td>\n",
       "      <td>34.333332</td>\n",
       "      <td>34.333332</td>\n",
       "      <td>34.666668</td>\n",
       "      <td>35.666668</td>\n",
       "      <td>34.000000</td>\n",
       "      <td>5</td>\n",
       "    </tr>\n",
       "    <tr>\n",
       "      <th>...</th>\n",
       "      <td>...</td>\n",
       "      <td>...</td>\n",
       "      <td>...</td>\n",
       "      <td>...</td>\n",
       "      <td>...</td>\n",
       "      <td>...</td>\n",
       "      <td>...</td>\n",
       "      <td>...</td>\n",
       "      <td>...</td>\n",
       "      <td>...</td>\n",
       "      <td>...</td>\n",
       "      <td>...</td>\n",
       "      <td>...</td>\n",
       "      <td>...</td>\n",
       "      <td>...</td>\n",
       "      <td>...</td>\n",
       "      <td>...</td>\n",
       "      <td>...</td>\n",
       "      <td>...</td>\n",
       "      <td>...</td>\n",
       "      <td>...</td>\n",
       "    </tr>\n",
       "    <tr>\n",
       "      <th>1343</th>\n",
       "      <td>44.333332</td>\n",
       "      <td>46.000000</td>\n",
       "      <td>45.333332</td>\n",
       "      <td>58.000000</td>\n",
       "      <td>80.333336</td>\n",
       "      <td>112.333336</td>\n",
       "      <td>146.666672</td>\n",
       "      <td>168.000000</td>\n",
       "      <td>175.000000</td>\n",
       "      <td>178.666672</td>\n",
       "      <td>...</td>\n",
       "      <td>94.666664</td>\n",
       "      <td>89.666664</td>\n",
       "      <td>91.666664</td>\n",
       "      <td>94.000000</td>\n",
       "      <td>90.333336</td>\n",
       "      <td>86.333336</td>\n",
       "      <td>87.000000</td>\n",
       "      <td>94.333336</td>\n",
       "      <td>116.333336</td>\n",
       "      <td>5</td>\n",
       "    </tr>\n",
       "    <tr>\n",
       "      <th>1344</th>\n",
       "      <td>86.333336</td>\n",
       "      <td>83.333336</td>\n",
       "      <td>76.333336</td>\n",
       "      <td>74.333336</td>\n",
       "      <td>87.666664</td>\n",
       "      <td>114.000000</td>\n",
       "      <td>144.666672</td>\n",
       "      <td>167.333328</td>\n",
       "      <td>180.333328</td>\n",
       "      <td>183.666672</td>\n",
       "      <td>...</td>\n",
       "      <td>50.666668</td>\n",
       "      <td>46.333332</td>\n",
       "      <td>42.333332</td>\n",
       "      <td>40.666668</td>\n",
       "      <td>41.333332</td>\n",
       "      <td>43.666668</td>\n",
       "      <td>48.000000</td>\n",
       "      <td>49.000000</td>\n",
       "      <td>40.666668</td>\n",
       "      <td>5</td>\n",
       "    </tr>\n",
       "    <tr>\n",
       "      <th>1345</th>\n",
       "      <td>29.333334</td>\n",
       "      <td>29.000000</td>\n",
       "      <td>29.333334</td>\n",
       "      <td>48.666668</td>\n",
       "      <td>90.666664</td>\n",
       "      <td>96.000000</td>\n",
       "      <td>85.000000</td>\n",
       "      <td>78.666664</td>\n",
       "      <td>123.000000</td>\n",
       "      <td>156.333328</td>\n",
       "      <td>...</td>\n",
       "      <td>134.000000</td>\n",
       "      <td>132.666672</td>\n",
       "      <td>134.333328</td>\n",
       "      <td>141.000000</td>\n",
       "      <td>147.666672</td>\n",
       "      <td>145.000000</td>\n",
       "      <td>145.000000</td>\n",
       "      <td>147.000000</td>\n",
       "      <td>141.666672</td>\n",
       "      <td>7</td>\n",
       "    </tr>\n",
       "    <tr>\n",
       "      <th>1346</th>\n",
       "      <td>49.333332</td>\n",
       "      <td>55.666668</td>\n",
       "      <td>76.666664</td>\n",
       "      <td>89.666664</td>\n",
       "      <td>76.666664</td>\n",
       "      <td>75.333336</td>\n",
       "      <td>98.666664</td>\n",
       "      <td>118.333336</td>\n",
       "      <td>111.000000</td>\n",
       "      <td>82.000000</td>\n",
       "      <td>...</td>\n",
       "      <td>169.000000</td>\n",
       "      <td>170.666672</td>\n",
       "      <td>174.000000</td>\n",
       "      <td>184.333328</td>\n",
       "      <td>202.000000</td>\n",
       "      <td>200.666672</td>\n",
       "      <td>186.333328</td>\n",
       "      <td>176.333328</td>\n",
       "      <td>161.000000</td>\n",
       "      <td>3</td>\n",
       "    </tr>\n",
       "    <tr>\n",
       "      <th>1347</th>\n",
       "      <td>31.000000</td>\n",
       "      <td>26.333334</td>\n",
       "      <td>28.000000</td>\n",
       "      <td>33.666668</td>\n",
       "      <td>43.000000</td>\n",
       "      <td>63.333332</td>\n",
       "      <td>90.333336</td>\n",
       "      <td>114.666664</td>\n",
       "      <td>127.000000</td>\n",
       "      <td>133.000000</td>\n",
       "      <td>...</td>\n",
       "      <td>64.333336</td>\n",
       "      <td>66.333336</td>\n",
       "      <td>118.333336</td>\n",
       "      <td>117.666664</td>\n",
       "      <td>59.666668</td>\n",
       "      <td>40.000000</td>\n",
       "      <td>34.000000</td>\n",
       "      <td>42.000000</td>\n",
       "      <td>69.666664</td>\n",
       "      <td>5</td>\n",
       "    </tr>\n",
       "  </tbody>\n",
       "</table>\n",
       "<p>1348 rows × 2915 columns</p>\n",
       "</div>"
      ],
      "text/plain": [
       "               0           1           2           3           4           5  \\\n",
       "0     138.000000  135.666672  127.666664  120.666664  117.000000  119.666664   \n",
       "1      71.333336   56.000000   67.666664   91.333336   91.666664   72.333336   \n",
       "2      84.333336   97.333336   72.333336   56.666668   95.333336  118.333336   \n",
       "3      68.333336   81.666664  121.666664  135.000000  138.666672  141.333328   \n",
       "4      56.666668   55.333332   47.333332   47.000000   50.000000   44.666668   \n",
       "...          ...         ...         ...         ...         ...         ...   \n",
       "1343   44.333332   46.000000   45.333332   58.000000   80.333336  112.333336   \n",
       "1344   86.333336   83.333336   76.333336   74.333336   87.666664  114.000000   \n",
       "1345   29.333334   29.000000   29.333334   48.666668   90.666664   96.000000   \n",
       "1346   49.333332   55.666668   76.666664   89.666664   76.666664   75.333336   \n",
       "1347   31.000000   26.333334   28.000000   33.666668   43.000000   63.333332   \n",
       "\n",
       "               6           7           8           9  ...        2905  \\\n",
       "0     126.000000  133.333328  138.000000  143.666672  ...   24.666666   \n",
       "1     101.666664  124.666664  124.333336  127.666664  ...  248.333328   \n",
       "2     123.666664  128.666672  130.333328  134.666672  ...   91.000000   \n",
       "3     142.000000  148.333328  159.666672  171.000000  ...  104.000000   \n",
       "4      44.666668   52.000000   62.333332   55.000000  ...   39.666668   \n",
       "...          ...         ...         ...         ...  ...         ...   \n",
       "1343  146.666672  168.000000  175.000000  178.666672  ...   94.666664   \n",
       "1344  144.666672  167.333328  180.333328  183.666672  ...   50.666668   \n",
       "1345   85.000000   78.666664  123.000000  156.333328  ...  134.000000   \n",
       "1346   98.666664  118.333336  111.000000   82.000000  ...  169.000000   \n",
       "1347   90.333336  114.666664  127.000000  133.000000  ...   64.333336   \n",
       "\n",
       "            2906        2907        2908        2909        2910        2911  \\\n",
       "0       4.666667    2.666667    1.333333    0.333333    1.333333    1.666667   \n",
       "1     252.666672  253.333328  253.000000  253.666672  251.666672  247.666672   \n",
       "2     106.666664  116.000000  123.000000  118.333336  102.000000  114.000000   \n",
       "3     165.000000  224.000000  232.333328  228.666672  230.000000  229.333328   \n",
       "4      37.333332   34.333332   34.000000   34.333332   34.333332   34.666668   \n",
       "...          ...         ...         ...         ...         ...         ...   \n",
       "1343   89.666664   91.666664   94.000000   90.333336   86.333336   87.000000   \n",
       "1344   46.333332   42.333332   40.666668   41.333332   43.666668   48.000000   \n",
       "1345  132.666672  134.333328  141.000000  147.666672  145.000000  145.000000   \n",
       "1346  170.666672  174.000000  184.333328  202.000000  200.666672  186.333328   \n",
       "1347   66.333336  118.333336  117.666664   59.666668   40.000000   34.000000   \n",
       "\n",
       "            2912        2913  y  \n",
       "0       1.666667    0.333333  1  \n",
       "1     243.000000  238.333328  3  \n",
       "2     194.333328  241.000000  3  \n",
       "3     224.333328  206.666672  3  \n",
       "4      35.666668   34.000000  5  \n",
       "...          ...         ... ..  \n",
       "1343   94.333336  116.333336  5  \n",
       "1344   49.000000   40.666668  5  \n",
       "1345  147.000000  141.666672  7  \n",
       "1346  176.333328  161.000000  3  \n",
       "1347   42.000000   69.666664  5  \n",
       "\n",
       "[1348 rows x 2915 columns]"
      ]
     },
     "execution_count": 81,
     "metadata": {},
     "output_type": "execute_result"
    }
   ],
   "source": [
    "df_faces = pd.DataFrame(X)\n",
    "df_faces['y'] = y\n",
    "df_faces"
   ]
  },
  {
   "cell_type": "code",
   "execution_count": 122,
   "id": "5bb8173d-4704-424f-bb86-409e31a19371",
   "metadata": {},
   "outputs": [],
   "source": [
    "class_0 = df_faces[df_faces['y']==0]\n",
    "class_1 = df_faces[df_faces['y']==1]\n",
    "class_2 = df_faces[df_faces['y']==2]\n",
    "class_3 = df_faces[df_faces['y']==3]\n",
    "class_4 = df_faces[df_faces['y']==4]\n",
    "class_5 = df_faces[df_faces['y']==5]\n",
    "class_6 = df_faces[df_faces['y']==6]\n",
    "class_7 = df_faces[df_faces['y']==7]"
   ]
  },
  {
   "cell_type": "code",
   "execution_count": 121,
   "id": "d4cc6c36-9499-4327-9b0a-51f458901784",
   "metadata": {},
   "outputs": [],
   "source": [
    "class_0_under = class_0.sample(frequency[6][1])\n",
    "class_1_under = class_1.sample(frequency[6][1])\n",
    "class_2_under = class_2.sample(frequency[6][1])\n",
    "class_3_under = class_3.sample(frequency[6][1])\n",
    "class_4_under = class_4.sample(frequency[6][1])\n",
    "class_5_under = class_5.sample(frequency[6][1])\n",
    "class_7_under = class_7.sample(frequency[6][1])"
   ]
  },
  {
   "cell_type": "code",
   "execution_count": 124,
   "id": "28bbfaa0-cbc3-402f-8861-6370f03967bb",
   "metadata": {},
   "outputs": [
    {
     "data": {
      "text/html": [
       "<div>\n",
       "<style scoped>\n",
       "    .dataframe tbody tr th:only-of-type {\n",
       "        vertical-align: middle;\n",
       "    }\n",
       "\n",
       "    .dataframe tbody tr th {\n",
       "        vertical-align: top;\n",
       "    }\n",
       "\n",
       "    .dataframe thead th {\n",
       "        text-align: right;\n",
       "    }\n",
       "</style>\n",
       "<table border=\"1\" class=\"dataframe\">\n",
       "  <thead>\n",
       "    <tr style=\"text-align: right;\">\n",
       "      <th></th>\n",
       "      <th>0</th>\n",
       "      <th>1</th>\n",
       "      <th>2</th>\n",
       "      <th>3</th>\n",
       "      <th>4</th>\n",
       "      <th>5</th>\n",
       "      <th>6</th>\n",
       "      <th>7</th>\n",
       "      <th>8</th>\n",
       "      <th>9</th>\n",
       "      <th>...</th>\n",
       "      <th>2905</th>\n",
       "      <th>2906</th>\n",
       "      <th>2907</th>\n",
       "      <th>2908</th>\n",
       "      <th>2909</th>\n",
       "      <th>2910</th>\n",
       "      <th>2911</th>\n",
       "      <th>2912</th>\n",
       "      <th>2913</th>\n",
       "      <th>y</th>\n",
       "    </tr>\n",
       "  </thead>\n",
       "  <tbody>\n",
       "    <tr>\n",
       "      <th>6</th>\n",
       "      <td>43.666668</td>\n",
       "      <td>68.666664</td>\n",
       "      <td>87.666664</td>\n",
       "      <td>95.000000</td>\n",
       "      <td>97.000000</td>\n",
       "      <td>100.666664</td>\n",
       "      <td>101.333336</td>\n",
       "      <td>100.333336</td>\n",
       "      <td>102.000000</td>\n",
       "      <td>102.000000</td>\n",
       "      <td>...</td>\n",
       "      <td>208.333328</td>\n",
       "      <td>242.666672</td>\n",
       "      <td>244.666672</td>\n",
       "      <td>241.333328</td>\n",
       "      <td>182.333328</td>\n",
       "      <td>143.666672</td>\n",
       "      <td>142.000000</td>\n",
       "      <td>142.666672</td>\n",
       "      <td>141.333328</td>\n",
       "      <td>6</td>\n",
       "    </tr>\n",
       "    <tr>\n",
       "      <th>66</th>\n",
       "      <td>60.000000</td>\n",
       "      <td>59.000000</td>\n",
       "      <td>57.000000</td>\n",
       "      <td>55.000000</td>\n",
       "      <td>59.333332</td>\n",
       "      <td>66.000000</td>\n",
       "      <td>68.333336</td>\n",
       "      <td>74.000000</td>\n",
       "      <td>83.000000</td>\n",
       "      <td>89.666664</td>\n",
       "      <td>...</td>\n",
       "      <td>90.000000</td>\n",
       "      <td>92.666664</td>\n",
       "      <td>95.000000</td>\n",
       "      <td>98.000000</td>\n",
       "      <td>102.333336</td>\n",
       "      <td>107.333336</td>\n",
       "      <td>115.333336</td>\n",
       "      <td>125.333336</td>\n",
       "      <td>138.666672</td>\n",
       "      <td>6</td>\n",
       "    </tr>\n",
       "    <tr>\n",
       "      <th>80</th>\n",
       "      <td>35.333332</td>\n",
       "      <td>33.000000</td>\n",
       "      <td>38.666668</td>\n",
       "      <td>54.000000</td>\n",
       "      <td>74.666664</td>\n",
       "      <td>93.666664</td>\n",
       "      <td>102.666664</td>\n",
       "      <td>112.333336</td>\n",
       "      <td>116.333336</td>\n",
       "      <td>119.000000</td>\n",
       "      <td>...</td>\n",
       "      <td>228.666672</td>\n",
       "      <td>242.333328</td>\n",
       "      <td>242.000000</td>\n",
       "      <td>243.333328</td>\n",
       "      <td>245.333328</td>\n",
       "      <td>245.333328</td>\n",
       "      <td>244.666672</td>\n",
       "      <td>242.000000</td>\n",
       "      <td>241.000000</td>\n",
       "      <td>6</td>\n",
       "    </tr>\n",
       "    <tr>\n",
       "      <th>81</th>\n",
       "      <td>68.000000</td>\n",
       "      <td>71.000000</td>\n",
       "      <td>57.333332</td>\n",
       "      <td>36.333332</td>\n",
       "      <td>47.666668</td>\n",
       "      <td>63.666668</td>\n",
       "      <td>83.666664</td>\n",
       "      <td>105.000000</td>\n",
       "      <td>122.333336</td>\n",
       "      <td>130.000000</td>\n",
       "      <td>...</td>\n",
       "      <td>178.333328</td>\n",
       "      <td>174.333328</td>\n",
       "      <td>157.000000</td>\n",
       "      <td>136.666672</td>\n",
       "      <td>135.666672</td>\n",
       "      <td>145.333328</td>\n",
       "      <td>109.666664</td>\n",
       "      <td>103.000000</td>\n",
       "      <td>146.666672</td>\n",
       "      <td>6</td>\n",
       "    </tr>\n",
       "    <tr>\n",
       "      <th>93</th>\n",
       "      <td>26.000000</td>\n",
       "      <td>30.333334</td>\n",
       "      <td>49.666668</td>\n",
       "      <td>46.333332</td>\n",
       "      <td>52.000000</td>\n",
       "      <td>71.333336</td>\n",
       "      <td>93.666664</td>\n",
       "      <td>109.666664</td>\n",
       "      <td>127.333336</td>\n",
       "      <td>137.333328</td>\n",
       "      <td>...</td>\n",
       "      <td>88.333336</td>\n",
       "      <td>98.333336</td>\n",
       "      <td>112.666664</td>\n",
       "      <td>123.000000</td>\n",
       "      <td>156.666672</td>\n",
       "      <td>82.333336</td>\n",
       "      <td>33.333332</td>\n",
       "      <td>42.333332</td>\n",
       "      <td>41.333332</td>\n",
       "      <td>6</td>\n",
       "    </tr>\n",
       "    <tr>\n",
       "      <th>...</th>\n",
       "      <td>...</td>\n",
       "      <td>...</td>\n",
       "      <td>...</td>\n",
       "      <td>...</td>\n",
       "      <td>...</td>\n",
       "      <td>...</td>\n",
       "      <td>...</td>\n",
       "      <td>...</td>\n",
       "      <td>...</td>\n",
       "      <td>...</td>\n",
       "      <td>...</td>\n",
       "      <td>...</td>\n",
       "      <td>...</td>\n",
       "      <td>...</td>\n",
       "      <td>...</td>\n",
       "      <td>...</td>\n",
       "      <td>...</td>\n",
       "      <td>...</td>\n",
       "      <td>...</td>\n",
       "      <td>...</td>\n",
       "      <td>...</td>\n",
       "    </tr>\n",
       "    <tr>\n",
       "      <th>203</th>\n",
       "      <td>111.000000</td>\n",
       "      <td>100.000000</td>\n",
       "      <td>99.000000</td>\n",
       "      <td>114.666664</td>\n",
       "      <td>119.333336</td>\n",
       "      <td>127.666664</td>\n",
       "      <td>138.333328</td>\n",
       "      <td>157.666672</td>\n",
       "      <td>173.000000</td>\n",
       "      <td>176.333328</td>\n",
       "      <td>...</td>\n",
       "      <td>162.333328</td>\n",
       "      <td>165.666672</td>\n",
       "      <td>168.666672</td>\n",
       "      <td>166.333328</td>\n",
       "      <td>160.666672</td>\n",
       "      <td>159.000000</td>\n",
       "      <td>156.666672</td>\n",
       "      <td>153.666672</td>\n",
       "      <td>147.333328</td>\n",
       "      <td>7</td>\n",
       "    </tr>\n",
       "    <tr>\n",
       "      <th>1089</th>\n",
       "      <td>87.000000</td>\n",
       "      <td>91.666664</td>\n",
       "      <td>89.000000</td>\n",
       "      <td>82.000000</td>\n",
       "      <td>83.666664</td>\n",
       "      <td>102.000000</td>\n",
       "      <td>125.333336</td>\n",
       "      <td>135.333328</td>\n",
       "      <td>138.333328</td>\n",
       "      <td>140.333328</td>\n",
       "      <td>...</td>\n",
       "      <td>25.666666</td>\n",
       "      <td>21.000000</td>\n",
       "      <td>26.666666</td>\n",
       "      <td>30.333334</td>\n",
       "      <td>31.000000</td>\n",
       "      <td>33.666668</td>\n",
       "      <td>37.666668</td>\n",
       "      <td>38.666668</td>\n",
       "      <td>39.000000</td>\n",
       "      <td>7</td>\n",
       "    </tr>\n",
       "    <tr>\n",
       "      <th>687</th>\n",
       "      <td>45.666668</td>\n",
       "      <td>49.000000</td>\n",
       "      <td>58.666668</td>\n",
       "      <td>79.333336</td>\n",
       "      <td>100.333336</td>\n",
       "      <td>120.666664</td>\n",
       "      <td>133.000000</td>\n",
       "      <td>145.333328</td>\n",
       "      <td>155.333328</td>\n",
       "      <td>161.333328</td>\n",
       "      <td>...</td>\n",
       "      <td>154.666672</td>\n",
       "      <td>169.000000</td>\n",
       "      <td>167.000000</td>\n",
       "      <td>162.666672</td>\n",
       "      <td>149.000000</td>\n",
       "      <td>109.000000</td>\n",
       "      <td>146.333328</td>\n",
       "      <td>217.000000</td>\n",
       "      <td>192.333328</td>\n",
       "      <td>7</td>\n",
       "    </tr>\n",
       "    <tr>\n",
       "      <th>329</th>\n",
       "      <td>77.666664</td>\n",
       "      <td>77.333336</td>\n",
       "      <td>73.666664</td>\n",
       "      <td>74.666664</td>\n",
       "      <td>98.333336</td>\n",
       "      <td>128.333328</td>\n",
       "      <td>154.000000</td>\n",
       "      <td>165.333328</td>\n",
       "      <td>173.333328</td>\n",
       "      <td>191.000000</td>\n",
       "      <td>...</td>\n",
       "      <td>109.333336</td>\n",
       "      <td>114.000000</td>\n",
       "      <td>113.000000</td>\n",
       "      <td>112.333336</td>\n",
       "      <td>112.666664</td>\n",
       "      <td>106.333336</td>\n",
       "      <td>70.666664</td>\n",
       "      <td>23.333334</td>\n",
       "      <td>12.000000</td>\n",
       "      <td>7</td>\n",
       "    </tr>\n",
       "    <tr>\n",
       "      <th>505</th>\n",
       "      <td>81.333336</td>\n",
       "      <td>93.666664</td>\n",
       "      <td>115.666664</td>\n",
       "      <td>134.666672</td>\n",
       "      <td>135.666672</td>\n",
       "      <td>115.333336</td>\n",
       "      <td>91.000000</td>\n",
       "      <td>85.666664</td>\n",
       "      <td>112.000000</td>\n",
       "      <td>155.333328</td>\n",
       "      <td>...</td>\n",
       "      <td>48.000000</td>\n",
       "      <td>45.333332</td>\n",
       "      <td>48.666668</td>\n",
       "      <td>66.666664</td>\n",
       "      <td>97.333336</td>\n",
       "      <td>127.333336</td>\n",
       "      <td>162.000000</td>\n",
       "      <td>160.000000</td>\n",
       "      <td>82.333336</td>\n",
       "      <td>7</td>\n",
       "    </tr>\n",
       "  </tbody>\n",
       "</table>\n",
       "<p>480 rows × 2915 columns</p>\n",
       "</div>"
      ],
      "text/plain": [
       "               0           1           2           3           4           5  \\\n",
       "6      43.666668   68.666664   87.666664   95.000000   97.000000  100.666664   \n",
       "66     60.000000   59.000000   57.000000   55.000000   59.333332   66.000000   \n",
       "80     35.333332   33.000000   38.666668   54.000000   74.666664   93.666664   \n",
       "81     68.000000   71.000000   57.333332   36.333332   47.666668   63.666668   \n",
       "93     26.000000   30.333334   49.666668   46.333332   52.000000   71.333336   \n",
       "...          ...         ...         ...         ...         ...         ...   \n",
       "203   111.000000  100.000000   99.000000  114.666664  119.333336  127.666664   \n",
       "1089   87.000000   91.666664   89.000000   82.000000   83.666664  102.000000   \n",
       "687    45.666668   49.000000   58.666668   79.333336  100.333336  120.666664   \n",
       "329    77.666664   77.333336   73.666664   74.666664   98.333336  128.333328   \n",
       "505    81.333336   93.666664  115.666664  134.666672  135.666672  115.333336   \n",
       "\n",
       "               6           7           8           9  ...        2905  \\\n",
       "6     101.333336  100.333336  102.000000  102.000000  ...  208.333328   \n",
       "66     68.333336   74.000000   83.000000   89.666664  ...   90.000000   \n",
       "80    102.666664  112.333336  116.333336  119.000000  ...  228.666672   \n",
       "81     83.666664  105.000000  122.333336  130.000000  ...  178.333328   \n",
       "93     93.666664  109.666664  127.333336  137.333328  ...   88.333336   \n",
       "...          ...         ...         ...         ...  ...         ...   \n",
       "203   138.333328  157.666672  173.000000  176.333328  ...  162.333328   \n",
       "1089  125.333336  135.333328  138.333328  140.333328  ...   25.666666   \n",
       "687   133.000000  145.333328  155.333328  161.333328  ...  154.666672   \n",
       "329   154.000000  165.333328  173.333328  191.000000  ...  109.333336   \n",
       "505    91.000000   85.666664  112.000000  155.333328  ...   48.000000   \n",
       "\n",
       "            2906        2907        2908        2909        2910        2911  \\\n",
       "6     242.666672  244.666672  241.333328  182.333328  143.666672  142.000000   \n",
       "66     92.666664   95.000000   98.000000  102.333336  107.333336  115.333336   \n",
       "80    242.333328  242.000000  243.333328  245.333328  245.333328  244.666672   \n",
       "81    174.333328  157.000000  136.666672  135.666672  145.333328  109.666664   \n",
       "93     98.333336  112.666664  123.000000  156.666672   82.333336   33.333332   \n",
       "...          ...         ...         ...         ...         ...         ...   \n",
       "203   165.666672  168.666672  166.333328  160.666672  159.000000  156.666672   \n",
       "1089   21.000000   26.666666   30.333334   31.000000   33.666668   37.666668   \n",
       "687   169.000000  167.000000  162.666672  149.000000  109.000000  146.333328   \n",
       "329   114.000000  113.000000  112.333336  112.666664  106.333336   70.666664   \n",
       "505    45.333332   48.666668   66.666664   97.333336  127.333336  162.000000   \n",
       "\n",
       "            2912        2913  y  \n",
       "6     142.666672  141.333328  6  \n",
       "66    125.333336  138.666672  6  \n",
       "80    242.000000  241.000000  6  \n",
       "81    103.000000  146.666672  6  \n",
       "93     42.333332   41.333332  6  \n",
       "...          ...         ... ..  \n",
       "203   153.666672  147.333328  7  \n",
       "1089   38.666668   39.000000  7  \n",
       "687   217.000000  192.333328  7  \n",
       "329    23.333334   12.000000  7  \n",
       "505   160.000000   82.333336  7  \n",
       "\n",
       "[480 rows x 2915 columns]"
      ]
     },
     "execution_count": 124,
     "metadata": {},
     "output_type": "execute_result"
    }
   ],
   "source": [
    "df_faces_under = pd.concat([\n",
    "    class_6, \n",
    "    class_0_under, \n",
    "    class_1_under, \n",
    "    class_2_under,\n",
    "    class_3_under,\n",
    "    class_4_under,\n",
    "    class_5_under,\n",
    "    class_7_under], axis=0)\n",
    "df_faces_under"
   ]
  },
  {
   "cell_type": "code",
   "execution_count": 129,
   "id": "2f0b30b6-bd6e-40d7-9034-03888758a602",
   "metadata": {},
   "outputs": [],
   "source": [
    "X = df_faces_under.iloc[:,:-1]\n",
    "y = df_faces_under.iloc[:,-1]"
   ]
  },
  {
   "cell_type": "markdown",
   "id": "50b03a56-97a2-4812-b0ec-9afd07b15553",
   "metadata": {},
   "source": [
    "### Visualizando algumas imagens"
   ]
  },
  {
   "cell_type": "code",
   "execution_count": 5,
   "id": "b65195de-e0a0-49b8-9900-608b3ef72f2b",
   "metadata": {},
   "outputs": [
    {
     "data": {
      "image/png": "[encoded data removed]",
      "text/plain": [
       "<Figure size 720x504 with 32 Axes>"
      ]
     },
     "metadata": {},
     "output_type": "display_data"
    }
   ],
   "source": [
    "fig, ax = plt.subplots(4, 8, figsize=(10,7), subplot_kw=dict(xticks=[], yticks=[]))\n",
    "for i, axi in enumerate(ax.flat):\n",
    "    axi.imshow(faces.images[i], cmap='gray')"
   ]
  },
  {
   "cell_type": "markdown",
   "id": "5a5b04dd-2f64-4c7c-a9be-8f166120a8b4",
   "metadata": {},
   "source": [
    "## Isomap"
   ]
  },
  {
   "cell_type": "code",
   "execution_count": 6,
   "id": "1836fc31-bac1-4b75-9876-21f968d938b4",
   "metadata": {},
   "outputs": [],
   "source": [
    "from sklearn.manifold import Isomap"
   ]
  },
  {
   "cell_type": "markdown",
   "id": "ad22b5ea-8063-4e94-a547-b92b32bc5ccb",
   "metadata": {},
   "source": [
    "### Implementando o modelo"
   ]
  },
  {
   "cell_type": "markdown",
   "id": "5b9048ed-b12c-4e50-b7be-a6ee4c4626fe",
   "metadata": {},
   "source": [
    "* 3D"
   ]
  },
  {
   "cell_type": "code",
   "execution_count": 166,
   "id": "dd4c7721-bf6a-4f35-8b34-0caf130827f4",
   "metadata": {},
   "outputs": [
    {
     "name": "stdout",
     "output_type": "stream",
     "text": [
      "O novo formato de  X:  (480, 3)\n"
     ]
    }
   ],
   "source": [
    "### Passo 1 - configurar a funcao Isomap. \n",
    "embed3 = Isomap(\n",
    "    metric='euclidean',\n",
    "    n_neighbors=40, # numero de vizinhos\n",
    "    n_components=3 # numero de dimensoes\n",
    ")\n",
    "\n",
    "### Passo 2 - Ajusta os dados e os transforma de um espaco de 64 para 3 dimensoes\n",
    "X_trans3 = embed3.fit_transform(X, y)\n",
    "    \n",
    "### Passo 3 - imprime o formato dos dados\n",
    "print('O novo formato de  X: ',X_trans3.shape)"
   ]
  },
  {
   "cell_type": "markdown",
   "id": "a16547b0-eac1-4789-adbf-b0351e080809",
   "metadata": {},
   "source": [
    "#### Substituindo os nomes nos rótulos"
   ]
  },
  {
   "cell_type": "code",
   "execution_count": 163,
   "id": "ed0c0dda-f9a0-4ef0-b27d-42bab0945657",
   "metadata": {},
   "outputs": [],
   "source": [
    "replacements = {}\n",
    "for i in np.unique(y):\n",
    "    replacements[i] = faces.target_names[i]"
   ]
  },
  {
   "cell_type": "code",
   "execution_count": 164,
   "id": "ac363a03-003d-4c2d-bf27-a3b12f6eb2e8",
   "metadata": {},
   "outputs": [],
   "source": [
    "y_replace = replacements.get\n",
    "# [y_replace(n, n) for n in y]"
   ]
  },
  {
   "cell_type": "markdown",
   "id": "d2593a4a-a950-4784-9397-c78c9033cd65",
   "metadata": {},
   "source": [
    "### Visualizando os resultados"
   ]
  },
  {
   "cell_type": "code",
   "execution_count": 167,
   "id": "7166e391-204e-4402-95a2-2ec68b377978",
   "metadata": {},
   "outputs": [
    {
     "data": {
      "application/vnd.plotly.v1+json": {
       "config": {
        "plotlyServerURL": "https://plot.ly"
       },
       "data": [
        {
         "hovertemplate": "color=Junichiro Koizumi<br>x=%{x}<br>y=%{y}<br>z=%{z}<extra></extra>",
         "legendgroup": "Junichiro Koizumi",
         "marker": {
          "color": "#636efa",
          "size": 4,
          "symbol": "circle"
         },
         "mode": "markers",
         "name": "Junichiro Koizumi",
         "scene": "scene",
         "showlegend": true,
         "type": "scatter3d",
         "x": [
          475.73908028363707,
          813.5343451910032,
          426.39110691732225,
          373.061073157615,
          -915.7483976747295,
          -1632.4108382320844,
          78.9730332772763,
          358.8571459249718,
          -379.2798024990468,
          1645.516008775554,
          206.42278247786496,
          23.17577435537293,
          2878.4577635795754,
          -984.3919557972794,
          1162.9770152737324,
          2088.8306323643274,
          -29.330886063570066,
          -520.3287600762867,
          -457.022291026868,
          436.5892604665395,
          1999.8250337994562,
          566.3328416167761,
          -3070.705921819485,
          -664.8257872103032,
          1344.626684124694,
          8.868892659944052,
          -2455.9108075249737,
          -2854.780601720864,
          17.676205192522463,
          461.5613815193783,
          -1334.8758207577434,
          -298.145464766649,
          297.8216469025263,
          -2733.114915165163,
          169.32076606164094,
          -2817.0023094527705,
          -1565.672120184203,
          -1660.3725786920056,
          -2706.9848677662935,
          -3966.2999150406745,
          1255.9582722082414,
          -1325.4281553370524,
          -761.1789511343363,
          -1948.8944085719959,
          -2191.8770004923263,
          1871.4869671866159,
          -764.3955227610518,
          65.92633158651664,
          -3525.100493310841,
          -1467.9398806564577,
          2418.0413090421093,
          133.9043188681286,
          -2376.5610934048177,
          -2689.5135293990743,
          -1521.757622818284,
          -66.83234094256456,
          1914.1220329382145,
          -2117.2649376812606,
          -1717.7283176474846,
          -1947.1865179020162
         ],
         "y": [
          24.636163834348725,
          2057.5691004526516,
          430.040865802898,
          523.0748218154763,
          328.14907202664295,
          587.6503552143791,
          652.5841518474164,
          -527.1190407856234,
          -1995.0110592506198,
          -155.86000165614396,
          924.7973479079072,
          1895.969337616909,
          -1150.4509274569284,
          761.1218750246629,
          -28.856215983815716,
          63.8276424470826,
          -346.2506775950906,
          1208.4177097468266,
          390.00571424449583,
          898.9908733272321,
          219.73217257417204,
          907.4657606601903,
          -226.6515098349847,
          -295.1926187355898,
          -1846.3425118874268,
          -94.47630840912039,
          -1176.104112470641,
          -847.0297829724467,
          869.9850834394937,
          -1215.1815019707751,
          -2074.338224851875,
          -624.6805925973839,
          -1262.7438025074885,
          753.8849258067117,
          2195.5894355578794,
          -1789.0654389029305,
          -12.268940755124374,
          -1952.7062370637118,
          -1586.5252538865263,
          -977.0014526420508,
          2124.887870865966,
          -1634.1377725025668,
          -101.8804078577454,
          -887.1054506942065,
          1407.2350964815262,
          -516.8715763419352,
          189.37346355173713,
          1201.5053103529963,
          -419.170933550599,
          1160.6729347545308,
          594.1927985584418,
          76.71291561311624,
          -27.4775202246271,
          951.0227123342191,
          -61.96511707081995,
          -1198.3310568068664,
          1092.6070505809146,
          -123.50306789016585,
          787.4331550121557,
          1109.1090219913947
         ],
         "z": [
          -910.898228230021,
          -1398.3326404854479,
          -399.6483790798621,
          -916.4030413380567,
          -594.8657334978878,
          -55.300574427135835,
          -461.3275931262483,
          -589.4096322948401,
          -1075.5289392049033,
          -1533.306697983768,
          -974.6164393587654,
          -823.7517227653378,
          -229.74269147324512,
          -1341.3635523401874,
          47.60551609439706,
          -1287.9029582186993,
          -1014.1126653293617,
          -873.7416932482471,
          -70.59594781088197,
          -1264.1651717040986,
          -1455.1300392904495,
          -371.06731242559795,
          -1131.8198748340862,
          -836.1345428569578,
          -988.307779463864,
          -720.3680871426117,
          -1381.4850717945599,
          -1115.4845907038139,
          -1032.0629561267679,
          -922.4243975452077,
          -1396.1963158296933,
          -1060.8833543740895,
          -1262.4872475205868,
          -968.6542743401337,
          -1614.8906871462382,
          -739.7384527654431,
          438.81147683051245,
          -1575.6031426236375,
          -816.7741933030023,
          -1294.5819613305512,
          -1239.2224556095887,
          -1214.4161108181015,
          -776.5739579443442,
          -217.5786045678653,
          -887.234637728304,
          -658.4033207084402,
          -6.418908688402506,
          350.6850447662222,
          -1161.05715292096,
          -815.1987043927684,
          -1184.755674739617,
          -207.0959973225561,
          -1425.921267280655,
          -918.3417826494198,
          -1524.3198676120862,
          -747.7192340173469,
          -1022.7385641147537,
          -451.6134519593134,
          -1667.7470017430423,
          -1261.0285591459194
         ]
        },
        {
         "hovertemplate": "color=Ariel Sharon<br>x=%{x}<br>y=%{y}<br>z=%{z}<extra></extra>",
         "legendgroup": "Ariel Sharon",
         "marker": {
          "color": "#EF553B",
          "size": 4,
          "symbol": "circle"
         },
         "mode": "markers",
         "name": "Ariel Sharon",
         "scene": "scene",
         "showlegend": true,
         "type": "scatter3d",
         "x": [
          -217.21112081060792,
          2181.5910422237357,
          2203.880066057391,
          -95.18670492409423,
          585.2016480244858,
          76.18818219364823,
          -160.47270431604596,
          -358.6281527665873,
          -87.34871103369774,
          -678.4305310550736,
          -393.8537241996126,
          -840.9940122432914,
          -292.9033823835587,
          -1175.1864804431023,
          1189.6335286946107,
          -32.85324426074113,
          1062.4330437020717,
          1387.4858572553394,
          2371.4402703888722,
          -37.458419121808255,
          280.69561763140223,
          1032.5429228273445,
          -693.8458362614816,
          637.1829043292661,
          84.6082933827481,
          -336.86349788969244,
          2704.07431007843,
          534.8973826966303,
          890.4940183599011,
          -1035.9383569830575,
          -1439.2463422670974,
          2735.97814475798,
          2697.873713774341,
          2227.104791351049,
          -876.0144755356915,
          -842.208214999484,
          -2131.6935916322827,
          1259.290788168641,
          -2618.389041810519,
          -1124.4813818856187,
          382.29278818179154,
          506.9759682986489,
          1918.9413888663842,
          1398.6564358457663,
          866.0281987091608,
          1272.3263623023554,
          -326.3917974900503,
          627.4312648176775,
          -1800.7253941601857,
          262.1991416184614,
          924.9304973568501,
          3255.7519071346705,
          -448.9965212294456,
          3709.1586061016696,
          -93.86250904044807,
          819.0983040369931,
          453.0755723772155,
          -1690.703385032771,
          4667.378566548162,
          846.4597290051956
         ],
         "y": [
          2779.552213826222,
          -1884.9599847403458,
          546.2783577008771,
          10.437657513366828,
          1850.0235257255108,
          1157.2125612629925,
          -326.1869354235413,
          1982.8240052064168,
          481.6077413872803,
          -2179.867657991713,
          154.06957963919197,
          662.58014243613,
          530.1176152897679,
          -1447.4134338153099,
          120.89606470046826,
          -121.19797765150729,
          -1345.6586280894787,
          -16.426237461088864,
          1344.540563195627,
          1422.8617494090058,
          209.46912191302042,
          558.8579477751895,
          -171.9508992101077,
          -498.4698578803479,
          2321.1312099328416,
          -2567.6647093268793,
          -440.99760254308876,
          904.0512407547365,
          347.09582184579335,
          -81.19691940192853,
          2065.4727344630383,
          330.4202079103434,
          -295.76474199685345,
          -2441.94699937019,
          1825.8848465606063,
          -16.64858986110209,
          1546.2214729917703,
          1821.2590755607669,
          733.8649063240262,
          -2709.935124531,
          1012.7182743493753,
          -860.7533737274099,
          -250.4483117404582,
          -325.5813054999851,
          -417.94244293835084,
          1985.539800426532,
          995.1500952923038,
          -2451.101368444902,
          1611.5050923928031,
          -336.20346397052487,
          1338.0494212502329,
          977.1741913603007,
          601.7411140838047,
          -373.58274538870114,
          990.6160039896769,
          -2879.8016475117893,
          -817.116472549033,
          -2535.353442739913,
          -647.8783462266996,
          1259.669291085377
         ],
         "z": [
          803.9431563849625,
          792.2273856367704,
          -765.5576293379364,
          73.93156513565455,
          517.6800992948456,
          869.4832983210223,
          956.9170591246201,
          -94.56036719657648,
          -55.748454176076045,
          -462.08188601771116,
          1014.7207058424358,
          187.30593390652197,
          2633.001107769567,
          374.31625929883353,
          -150.74316093814952,
          518.2981239307162,
          -419.09418907005914,
          -52.25505287656909,
          56.49059388026225,
          633.9612102902125,
          2123.959581345466,
          371.7597292920007,
          1099.2567461447675,
          2402.4515865432104,
          1378.3763218006206,
          207.13035690893201,
          362.5022808363576,
          -1028.7573399288733,
          644.7664318565029,
          246.28546691759396,
          1245.3470585133377,
          709.8504761137691,
          2503.9426083103735,
          315.00145960554556,
          -185.24519919867842,
          792.2826957281325,
          -532.0527154939086,
          1126.4105180853592,
          808.4078976404368,
          -234.25217543294175,
          1633.592965005051,
          343.74403539741394,
          -527.9886793337039,
          1563.0799851801212,
          1663.7096556934653,
          -260.24827654068173,
          543.3098762156899,
          1416.256523352607,
          513.9277629330859,
          723.2511921747019,
          1046.4750819444364,
          -279.579821344103,
          908.1078633617198,
          773.0040848347396,
          1520.5621091333887,
          1342.7185917358133,
          -418.73371217530564,
          -167.5273824389641,
          673.9309317922855,
          1955.9143967775017
         ]
        },
        {
         "hovertemplate": "color=Colin Powell<br>x=%{x}<br>y=%{y}<br>z=%{z}<extra></extra>",
         "legendgroup": "Colin Powell",
         "marker": {
          "color": "#00cc96",
          "size": 4,
          "symbol": "circle"
         },
         "mode": "markers",
         "name": "Colin Powell",
         "scene": "scene",
         "showlegend": true,
         "type": "scatter3d",
         "x": [
          149.6310744384912,
          1727.263111672521,
          1225.6311523054221,
          1730.0371727352074,
          366.0809503679747,
          -2195.290909855126,
          1605.1421315093842,
          1299.6166907372763,
          -684.4932108005888,
          1674.3541706004369,
          660.4366322536906,
          111.56122227501291,
          -1996.7378722238964,
          -1730.6373406319497,
          788.5219665300466,
          2569.857147701015,
          -325.1984863722234,
          -1506.6396402717955,
          714.8777123614764,
          -2784.4771751428048,
          314.16716170009715,
          1361.3601719597953,
          1155.6807197337146,
          -1053.467260821467,
          818.4962861625438,
          232.13953111443408,
          -501.2763712639975,
          2584.2146205473564,
          63.216533736956784,
          1524.7021235896332,
          244.52936131104693,
          -121.53729493788947,
          -1256.7138975870964,
          1702.7599040625364,
          -1691.961521449717,
          100.25651465733365,
          -731.4433445552622,
          -1254.357728019048,
          -216.37084069690604,
          839.9062253072374,
          822.8188352311629,
          1123.8804250036717,
          2035.888831041542,
          175.87003699281706,
          2184.251503391576,
          2082.53172672706,
          766.7463032765422,
          -865.1641860941475,
          1239.6528876740692,
          290.9748408113752,
          1072.7435715652111,
          2022.046673373516,
          510.10910874772446,
          212.48907542383535,
          3253.8384625909716,
          -754.1806891595254,
          1151.7776575029757,
          480.3840248944056,
          525.4113589367146,
          1888.9732194597145
         ],
         "y": [
          -41.45387372638477,
          1002.2322543751626,
          -1449.5559780483977,
          936.8207520918311,
          -873.0668675365348,
          -2294.945721580954,
          -109.90247208902338,
          724.0869314351773,
          -2386.9603457842536,
          -314.0491562704507,
          2201.920388441285,
          5.3911443528713,
          -2063.9716796565513,
          1374.7052652735404,
          -424.63478375100624,
          -618.1706960174754,
          -68.56030181706177,
          -2167.285261835482,
          44.043623663580604,
          1939.5449760450538,
          565.6245762806354,
          1375.7737292877782,
          -338.51605914233375,
          826.3377808945181,
          968.1091178599731,
          2579.5220287405837,
          -940.414135140009,
          1318.1343918572334,
          207.13233661599813,
          -185.6190867441335,
          432.71861703157765,
          97.86464168449581,
          -1910.7253423246036,
          -451.2563396104482,
          1354.7048196690487,
          -1346.7571422490698,
          350.52854027908427,
          1210.1963063807302,
          1406.2505558013092,
          1385.3100772599662,
          -2587.3450440335014,
          1770.7747229202112,
          668.5388945132504,
          985.6817010750058,
          -97.68960665249031,
          915.6593568497478,
          -2628.5698971812944,
          -1000.6172467548058,
          245.30518702918818,
          2211.303267156098,
          1365.1737435457176,
          -1000.6216522936885,
          -1266.5372719179236,
          921.6722179527688,
          -465.99909752943165,
          -741.4613756255018,
          1611.3644189510856,
          102.65008674743898,
          -1872.5458573645126,
          -405.0891466726698
         ],
         "z": [
          462.9548050383564,
          887.0558989504286,
          -693.1071576829752,
          1401.927583432819,
          -195.03500290495384,
          -618.4475576617622,
          -146.65834046021595,
          1755.1824322363047,
          -711.4509027413663,
          308.9463148370149,
          1834.9934190492504,
          301.2020425861644,
          -332.10677833708445,
          110.53784360731193,
          1315.6232309856064,
          -946.4255322172589,
          142.74525838775446,
          -358.9977512601827,
          261.32493355803183,
          153.46667173857153,
          -1118.6877943267555,
          -774.493822180896,
          1908.1145739871376,
          1300.5221034809044,
          1707.908258449286,
          677.5122354166947,
          -633.089159375269,
          455.8863400901089,
          210.49360023866598,
          -347.1083331098405,
          -116.48013534803758,
          -229.69800782780834,
          364.120880282503,
          -768.4915867516311,
          432.9091041858027,
          36.63213514848094,
          204.16996940358212,
          -168.75731432436592,
          2324.0609377230307,
          -865.9636964780027,
          1467.576449911721,
          -754.3750585156395,
          -271.33304319306785,
          1051.6162201441136,
          -542.1351269951375,
          1152.0334335965315,
          -395.15298457155063,
          1438.002952700364,
          -463.3345787342813,
          2774.029713606463,
          1232.2564284297057,
          -246.8782716488906,
          173.68549340345706,
          1299.5280605260705,
          918.0632731322332,
          -699.4991503409263,
          2253.5513199211478,
          78.72541346998499,
          -1011.8938543041164,
          -337.4078870095244
         ]
        },
        {
         "hovertemplate": "color=Donald Rumsfeld<br>x=%{x}<br>y=%{y}<br>z=%{z}<extra></extra>",
         "legendgroup": "Donald Rumsfeld",
         "marker": {
          "color": "#ab63fa",
          "size": 4,
          "symbol": "circle"
         },
         "mode": "markers",
         "name": "Donald Rumsfeld",
         "scene": "scene",
         "showlegend": true,
         "type": "scatter3d",
         "x": [
          1306.120859368182,
          86.15051403518063,
          -1594.0770301224281,
          2137.6679427055674,
          -2433.2275038807384,
          3274.1514425769524,
          1000.7170780317144,
          -1005.3603227954918,
          610.3311334506661,
          456.21942587993044,
          1548.3682881190432,
          -3648.346779925884,
          2360.941570256758,
          -295.8665738897809,
          1284.062049553313,
          -655.5936152510051,
          2510.8246039785677,
          578.6404879775221,
          -1602.6369715649391,
          -222.46378524433922,
          -851.1515236292877,
          -324.0461704062832,
          583.6889019037591,
          -1295.65636895589,
          1389.367603910537,
          1301.1201292195806,
          -1241.2685558738767,
          -1063.0233520405402,
          153.31431254040965,
          62.595846438201214,
          -1585.2269959719783,
          -1324.1854863738847,
          523.6985183656371,
          1347.9364684164607,
          606.0793350774716,
          -2472.813651148909,
          666.1505739481471,
          -1683.5049309369238,
          229.63136015927392,
          -414.41282214865765,
          -392.2817307690534,
          -2603.0789662115726,
          -2508.3135071007705,
          -283.12339965802914,
          1244.5182803390967,
          2893.394944926225,
          361.43006442871825,
          2395.2331390091877,
          -40.85101531752646,
          -1486.3142409445848,
          -1364.9649319439457,
          313.05495390264,
          -1124.1467784363354,
          -1818.52885790998,
          -601.4375472693757,
          -778.4652793361216,
          -627.6177464111856,
          1610.440828875935,
          -841.4598131889852,
          825.3654259767699
         ],
         "y": [
          686.0010200971781,
          -1708.800376049348,
          1698.9644312118448,
          -150.027036026096,
          -1911.0043170695703,
          660.6641664182112,
          -1022.71125467623,
          819.0448482736459,
          490.88500978926936,
          -423.85335598383745,
          754.8977986006038,
          281.827984719185,
          -782.9293192324695,
          1805.6914104435343,
          -519.4356791920234,
          -1640.1765998961769,
          -303.0284417558418,
          1025.9795438622943,
          886.3162967631329,
          815.3315452117913,
          521.2517661227846,
          -2879.9418512881043,
          432.0058753003116,
          -564.5075172997933,
          1037.596429652178,
          -647.8748177913386,
          -1308.197436084471,
          24.57350254661746,
          108.39614968894742,
          1931.2931114169778,
          943.4955853626584,
          -1502.4792981614069,
          564.7494880402797,
          -116.08772107951307,
          -1821.5473188001768,
          -1695.470400404777,
          1730.2124420556383,
          -1899.1426027989755,
          2578.918463488934,
          501.44458815570937,
          -336.1771870437605,
          1064.2114748733052,
          -808.214354319285,
          1368.7249933097987,
          -294.8267916430016,
          -1383.2606228422599,
          -2989.261888368558,
          -1998.631763144977,
          -78.33180064843486,
          -349.35890920706066,
          1284.4379236859927,
          542.0599591230499,
          -628.8381986080592,
          1653.7725530597386,
          850.7088948201074,
          -1271.652528198752,
          57.20926149562885,
          -246.69554476194673,
          -294.99784506231765,
          -2774.0643381766317
         ],
         "z": [
          -132.4455873051387,
          2800.847129589401,
          961.8764457677283,
          -133.37249807747114,
          -243.455709934229,
          372.3543580828569,
          -530.6171666625539,
          2554.069011871989,
          9.307332863783149,
          1629.0051290877398,
          -925.0678222675638,
          -598.159641122458,
          1775.7857390289328,
          -1446.2515441073372,
          308.1765480943599,
          -35.956829600249286,
          777.2135034334584,
          -464.83892997021826,
          30.80588630050973,
          -567.5397112527606,
          -643.8001944357648,
          2421.2521202820194,
          1828.5081855386507,
          -368.50520556082785,
          -480.9243930498584,
          0.15246662794046684,
          880.7270619972228,
          308.28679206384686,
          1134.7261713881815,
          1531.423732669526,
          -59.44801126065262,
          2511.908007557006,
          134.76931977994445,
          1862.2039076066253,
          1624.1238649769948,
          113.83513217547801,
          16.40083594187623,
          276.60375389872723,
          1100.7639700640586,
          -472.5430472156717,
          1463.6544321647427,
          -649.4905636322912,
          -679.3936433248642,
          -94.07524224801905,
          469.6280259962705,
          -687.8290943217091,
          1037.3366698327447,
          52.30414309356488,
          1229.3624233901278,
          1181.6367933912359,
          1078.049472792755,
          -128.57144013869558,
          -411.07177248124503,
          -573.3115191277153,
          714.3679566284757,
          -392.9290271250535,
          -410.729171107842,
          -17.00594169411025,
          1205.3681009212207,
          1157.0313033142047
         ]
        },
        {
         "hovertemplate": "color=George W Bush<br>x=%{x}<br>y=%{y}<br>z=%{z}<extra></extra>",
         "legendgroup": "George W Bush",
         "marker": {
          "color": "#FFA15A",
          "size": 4,
          "symbol": "circle"
         },
         "mode": "markers",
         "name": "George W Bush",
         "scene": "scene",
         "showlegend": true,
         "type": "scatter3d",
         "x": [
          729.2019231086781,
          -39.525343620820756,
          2443.7979301507585,
          444.2095303092573,
          -3186.181477631973,
          -1457.8871441230467,
          -330.83676803170744,
          -1324.5775832903532,
          -826.0671171309953,
          468.29878300736766,
          -1277.1151522269502,
          -1526.3836156163277,
          50.03398852616342,
          41.274426164565114,
          112.82168396327958,
          -496.04183733636285,
          2431.3234473598895,
          -1537.11003300599,
          165.17557878806562,
          -2358.523556939588,
          -686.3055219751285,
          359.26413473404324,
          1138.1564593067785,
          -1238.8189432769761,
          2482.7458022061437,
          -477.1449521218738,
          2257.1487972047435,
          -341.24289098373794,
          808.4930172389679,
          1361.640975987062,
          2107.09894960243,
          -1104.7705032218655,
          1984.9675282151932,
          66.32186522271613,
          -1679.8352456733642,
          290.0151208227755,
          1204.6811460855647,
          851.539327068176,
          -1889.5250745594064,
          925.9020508606301,
          325.6040011454984,
          -2409.567073476881,
          505.9775085283221,
          210.56703076263082,
          1359.3673792333266,
          586.8918357562302,
          1046.1043922631377,
          1148.7579056486172,
          1041.7822954546775,
          -1584.372721418395,
          -19.163862362612875,
          1387.0588734022115,
          518.4936542911461,
          -951.6351325886251,
          -2154.535942375242,
          1128.6567279129006,
          -2728.356329497668,
          313.3368580707502,
          60.17527760606556,
          290.8624190797125
         ],
         "y": [
          2163.176911826885,
          -1577.1016733627887,
          735.6655929821018,
          1853.7190408727179,
          753.4816116852498,
          -1826.9204167829114,
          2417.96068190062,
          -1355.455862303374,
          -2391.9135834916156,
          -787.475092659292,
          464.140147575836,
          -894.0987688372328,
          659.0372720222913,
          934.0385033108455,
          -437.14102441998676,
          -2377.7138602209075,
          -882.3851484871691,
          571.559217985108,
          -2023.1971764381717,
          2158.6380897584877,
          -713.3858090445418,
          734.6203129346159,
          -977.5293747976135,
          -2245.1135852042826,
          150.91237654621344,
          -61.777774092833745,
          976.4744853173081,
          362.54465804928844,
          -2865.3356441944306,
          2035.3724483422939,
          -406.75353694494817,
          -431.37146693213606,
          1139.5227798894734,
          -846.6932235274542,
          -1185.655277832351,
          -851.7344902559139,
          789.2822421402831,
          -3220.3780346044973,
          1519.0570609842691,
          730.5686387299918,
          2387.5152134269924,
          -1057.2605085388684,
          470.90627589968955,
          -209.8297667247396,
          1092.2343995767715,
          2702.467983228268,
          1288.901406836894,
          761.3499231580142,
          923.9393467594186,
          1951.6201103570202,
          -2009.1126139711607,
          2072.0883914748797,
          2781.8589630702745,
          423.38244447887973,
          238.58728475095577,
          -2113.646128757296,
          1214.9652734692243,
          -129.15708775134615,
          -83.62010133505484,
          665.706963852707
         ],
         "z": [
          32.214659193191714,
          474.04771548101087,
          456.73950116961026,
          -251.6109177539424,
          -411.4908581137783,
          -1030.6329028391356,
          -194.57310738885434,
          -240.80135792589888,
          81.64335741397348,
          -1188.9872555943589,
          -621.0499348754147,
          1990.2690380787146,
          1085.754722396337,
          144.57765041804308,
          -51.646423384900594,
          -750.160092300983,
          -78.6596631342332,
          260.57755019858814,
          -1239.39038953116,
          536.2252502863874,
          -455.38667047574256,
          -501.3573632230897,
          396.9345160776561,
          -1349.3073221553348,
          -793.6335190441284,
          273.7016889916587,
          -1341.9028313061754,
          -368.70720650875364,
          1070.0573225857165,
          -91.64255296375998,
          919.94748350665,
          -256.7934814516722,
          170.7929814939715,
          277.3408604901579,
          1279.5410948321794,
          610.2765797410345,
          -1021.2284247980369,
          1156.7524146695919,
          1081.2036037808173,
          -40.34098338175401,
          -500.2116764466631,
          -330.4215296190401,
          -81.45215286383953,
          40.49190619203284,
          -324.7734667166969,
          -1320.9180293111428,
          -217.86419136188616,
          -510.64067550850785,
          -650.8602392720867,
          563.6641490071098,
          1806.6564731099356,
          -1316.739942739943,
          639.5850441096561,
          176.7512014606226,
          166.67644081148973,
          -202.36579286259268,
          538.9038697681535,
          -231.8066647276682,
          -25.315367542491394,
          -73.77407972656106
         ]
        },
        {
         "hovertemplate": "color=Gerhard Schroeder<br>x=%{x}<br>y=%{y}<br>z=%{z}<extra></extra>",
         "legendgroup": "Gerhard Schroeder",
         "marker": {
          "color": "#19d3f3",
          "size": 4,
          "symbol": "circle"
         },
         "mode": "markers",
         "name": "Gerhard Schroeder",
         "scene": "scene",
         "showlegend": true,
         "type": "scatter3d",
         "x": [
          -1804.0450146544222,
          -1298.6459081845348,
          -905.7089599009443,
          1413.3011980060016,
          -1308.8199167494747,
          -1127.0820051486214,
          -1027.2814661546297,
          929.9439928163384,
          -712.3754915531435,
          905.1449068120763,
          3332.9038056819413,
          -2181.2395506566704,
          -1395.6570607950277,
          -2199.3496289641557,
          -758.1426591050919,
          1678.3177043362189,
          -3287.52879963927,
          -48.24864804691178,
          -3518.230783436183,
          -3047.4883278174048,
          2361.9902931980264,
          -454.11803389698446,
          -2065.5673746962384,
          634.7665272910722,
          -1627.803250694645,
          -4055.431403570226,
          -960.6309230784974,
          -777.047478694644,
          -157.92761277440084,
          -3046.951063394149,
          -2230.8181714446473,
          2229.081532047038,
          183.50436647233488,
          401.5771971294037,
          -2370.759057537271,
          -1788.8479619330901,
          -700.786177755362,
          -690.6661499123678,
          236.81206983511868,
          -1272.1416953381722,
          336.5494964468051,
          -1310.7768036938398,
          -875.1305322480912,
          998.426826701891,
          -2527.232254674725,
          1955.1161862376155,
          566.8030055851202,
          -399.5435894880053,
          740.2547154456074,
          -2502.921293456368,
          343.27000935683816,
          -791.1672373728537,
          1904.1920815318474,
          295.89162869262674,
          -3343.6910039875743,
          937.5717698468278,
          -1878.2892827905348,
          -913.2854164131641,
          -2550.833475410794,
          -77.41562497032193
         ],
         "y": [
          537.8125781547639,
          859.0954367058471,
          -429.96271377011806,
          -921.9473114009354,
          781.4394912396148,
          -139.17628150356796,
          -1804.6327701720054,
          -927.6486739199804,
          -2068.2267442444763,
          -1086.3362798699372,
          -1008.8721020511124,
          -2200.9000233662296,
          -1561.2119959201905,
          3051.7154747037985,
          -1581.8953743695927,
          -1703.5237775294954,
          830.3856428574709,
          -1312.5992653988724,
          -338.2434488320486,
          844.908857998033,
          -242.06616295938593,
          2611.6963317642335,
          -378.5557648590386,
          156.41878231750636,
          -1148.391069445486,
          -282.4449095992175,
          -2082.261083117974,
          417.495726192543,
          26.304647920180432,
          909.9798241022559,
          1561.2400222440565,
          -531.8041694247793,
          -173.34225948519924,
          1188.9895017434278,
          -1046.9141670134543,
          837.6876345052026,
          -50.44959181523055,
          -2091.4316740320664,
          -342.87271632286024,
          552.4801646879272,
          -507.40696405392566,
          -971.9354224452704,
          -170.01530308551045,
          1160.5890807773453,
          -82.77872308146017,
          277.79168989791646,
          -1183.7893608893835,
          -1166.5176800623224,
          -992.3763146053325,
          1619.4902599773955,
          1175.6883061870906,
          1467.9931536173767,
          -431.36969847410404,
          -1099.362108221851,
          -1953.5865580714244,
          1487.7388565078193,
          547.1924154265222,
          1168.8531800387063,
          423.62378173668134,
          -464.7756627072183
         ],
         "z": [
          -928.5600951202881,
          -984.8334874998103,
          469.4343224172092,
          -1611.7954291867402,
          -472.0455871012011,
          553.4609481571541,
          -393.95344093834683,
          567.4065214226239,
          -413.5506766714515,
          -1113.7174344559082,
          -656.3243727968494,
          -829.4081602659694,
          -199.40788002957441,
          559.4273043615245,
          -429.0949234834001,
          -93.79893999783252,
          33.8771127289224,
          -942.6109895646618,
          -752.1983670214103,
          -29.002336594833345,
          -801.206950251196,
          -517.5961468002225,
          544.9714736675285,
          -1002.1652254067296,
          -1096.4760449310515,
          -407.79057226499486,
          -109.14730274709873,
          -331.282313924077,
          -147.84967162724314,
          791.8955538020207,
          -1030.141963740187,
          -996.5666353471157,
          -708.3381051956475,
          -131.61347079956312,
          -327.90579077620447,
          537.7635360418616,
          -936.7874550152966,
          -1172.698968355299,
          -455.98822082946225,
          -930.9842941916372,
          -209.7886373791432,
          2216.025267147935,
          -253.53883440577337,
          -566.1475075044185,
          113.17960975479646,
          43.642523832193994,
          -708.37763012112,
          -500.3271898479583,
          -1225.0472199512242,
          -218.73380451535823,
          120.9832454071009,
          1431.2090110508866,
          -409.72774395384073,
          -596.6927561861363,
          -854.5150334262044,
          -926.2688107668135,
          2295.9144123773845,
          -1048.3429217708517,
          309.2312726121184,
          1264.6506399983355
         ]
        },
        {
         "hovertemplate": "color=Hugo Chavez<br>x=%{x}<br>y=%{y}<br>z=%{z}<extra></extra>",
         "legendgroup": "Hugo Chavez",
         "marker": {
          "color": "#FF6692",
          "size": 4,
          "symbol": "circle"
         },
         "mode": "markers",
         "name": "Hugo Chavez",
         "scene": "scene",
         "showlegend": true,
         "type": "scatter3d",
         "x": [
          1792.3851565116531,
          -476.3468699209779,
          2268.8463352247886,
          -1215.245176461239,
          2697.1394584656578,
          3334.854631271736,
          1036.6083965609484,
          623.2619252239862,
          219.86363339443997,
          201.37433080839176,
          765.9461078542475,
          828.8011788763694,
          2441.5087895745028,
          2111.5875473551637,
          -319.77156422098597,
          -392.8451790648083,
          1498.5988116675385,
          789.3204885648288,
          -575.4836336162818,
          2509.286191442763,
          1262.4752483428813,
          -2539.7519397148903,
          2463.888941520163,
          -1473.2371838470733,
          2431.635691399502,
          1012.5067093080029,
          44.9408091800994,
          2014.4479926012136,
          139.0652065513992,
          -1017.257574269893,
          3150.0504753697387,
          3128.968107599397,
          -2747.174906958425,
          2081.9783688582293,
          -1606.8000679581662,
          158.51675832057794,
          -604.3541991115903,
          -706.544546168775,
          958.3917276656867,
          -539.9676478928592,
          -1083.7760310176764,
          2111.657253348829,
          783.4934687630321,
          2895.180689425898,
          1906.411781135991,
          1703.6552186630547,
          2831.69840152848,
          1452.1109735819293,
          1589.2167598800586,
          505.5308734293367,
          915.5615024822475,
          471.389789296575,
          1003.5066722049502,
          -470.3498335867142,
          -864.0624782320604,
          -1086.0531943894148,
          175.36625486846938,
          2533.8673761678324,
          2033.3508415364352,
          202.62734067975964
         ],
         "y": [
          1374.8336460767478,
          -922.1986146443262,
          -86.5404726228177,
          238.174026048887,
          -608.3788208587872,
          960.5065521028912,
          3042.0888415290583,
          846.2234435485924,
          -29.16085822864369,
          -684.0681210833627,
          494.88036776914697,
          1476.4831541114113,
          -777.0250186523575,
          -316.8883932247157,
          -365.452926166085,
          943.1566261063181,
          574.7567773099967,
          -871.1327281402382,
          664.6231644632755,
          144.5293913530744,
          -1189.5642839807035,
          -1024.7454114799968,
          -1940.7450656270303,
          -5.2582513284194015,
          418.1469994665321,
          -603.0841010662456,
          -2995.634061043646,
          -588.4749650164188,
          238.59931298468865,
          891.6200100492491,
          -1264.3299856840174,
          -113.88761570163894,
          -891.7465116006028,
          1030.674490164419,
          -232.4476424436879,
          -339.0998832977921,
          202.9919820947627,
          -356.2817547666084,
          908.7939983269854,
          -810.1084552811901,
          -1439.7090463385105,
          -791.1432539858121,
          0.7777593403500326,
          -347.1728013749759,
          60.813928472800654,
          -949.0306773274692,
          -147.34620496046466,
          157.01591703997263,
          -6.484615759623348,
          -232.12738932781713,
          733.2232287882792,
          -515.1654435009573,
          2017.4604158169304,
          581.7751304268162,
          -628.0633788015855,
          8.581197449366492,
          99.46777730368866,
          479.5421371165901,
          -315.7492709783364,
          155.54572419691
         ],
         "z": [
          -1309.5641797779683,
          -458.4074214714903,
          -1065.7688849113504,
          850.0679706952217,
          1242.2123939344947,
          90.66513155396629,
          -1579.712911245416,
          -897.2989886437839,
          -3.9534846772877845,
          662.0304236359088,
          -166.28325919100598,
          -780.3894041868339,
          -723.5343702482066,
          -1383.379725357153,
          -960.0686387862685,
          -791.9374844899226,
          -1059.4402191908887,
          -363.5219798748314,
          -390.17683674454287,
          977.2592589357915,
          -1277.2993800243958,
          -1030.444575804036,
          493.460851240846,
          599.914124545222,
          -880.2839756529436,
          -700.1651461473114,
          -20.729685770121705,
          410.6105520042418,
          -959.6033725639948,
          -395.21885873544636,
          -150.11531824553876,
          220.49679079127736,
          800.033465634077,
          -1128.334555184106,
          79.90661512737401,
          -344.7093517008983,
          -792.109036882639,
          -643.9898686849108,
          342.84878226353453,
          -883.8792658681468,
          195.19770260831092,
          -907.6995496548676,
          -858.3439208276592,
          93.47291384492554,
          -1265.1685819086479,
          -1353.3515250378045,
          -85.71279666918585,
          248.99810463777496,
          -911.5212191774115,
          -1007.9076041257466,
          -390.8993595320426,
          -1208.9780049834546,
          -1401.0282394692822,
          -1267.4859131267212,
          -1391.9217692785148,
          -732.2837952235031,
          -400.2569199539199,
          -862.1747109205471,
          -1704.844404811716,
          -639.2019945917556
         ]
        },
        {
         "hovertemplate": "color=Tony Blair<br>x=%{x}<br>y=%{y}<br>z=%{z}<extra></extra>",
         "legendgroup": "Tony Blair",
         "marker": {
          "color": "#B6E880",
          "size": 4,
          "symbol": "circle"
         },
         "mode": "markers",
         "name": "Tony Blair",
         "scene": "scene",
         "showlegend": true,
         "type": "scatter3d",
         "x": [
          3080.4182360442833,
          -203.27291698736235,
          1923.3917748172526,
          133.76926591005122,
          -1566.546006882434,
          -2526.696024950502,
          -1453.9836176062704,
          635.6663179447488,
          -2072.7724475926943,
          -1226.6098880079796,
          1717.9933881974384,
          -1286.3632753141485,
          -404.637497846083,
          -2302.6230294368274,
          1827.7597457743336,
          1144.8338231249033,
          -1010.3321452466529,
          1296.8700966224312,
          -2775.5956762662536,
          -1697.3673254721523,
          -962.9864069206094,
          -90.19039903684373,
          -1485.3189264748853,
          1300.342590477096,
          -2469.346438238055,
          -142.8913485265097,
          -2112.0886097178636,
          1441.210471811711,
          -793.3738138844278,
          -1788.6143960806162,
          -203.96295763596603,
          1233.8915566622493,
          1381.2474077408208,
          387.6451803469824,
          162.0325348647171,
          1157.4566129763107,
          -671.8425960773982,
          778.2733793000907,
          -766.3790293949929,
          2630.4866793994256,
          -47.96599586401961,
          -342.8744465507585,
          -3123.6843065033395,
          606.7583240207921,
          -587.1211421699907,
          129.82953640004206,
          -1166.7798468309218,
          -2095.158540569157,
          -2627.967463722434,
          -686.1337961932682,
          -572.1206783486631,
          -1344.8881537328598,
          1189.4009946607653,
          -1348.988699433933,
          -487.02527108561895,
          -2995.184275761705,
          -730.0815031548035,
          -1518.9764044232609,
          -1018.514359770138,
          306.9130181119686
         ],
         "y": [
          -419.035610458388,
          -2361.144279104383,
          -1977.279946600458,
          926.6474921329866,
          -991.4895462513933,
          1104.4075055194144,
          -555.1313841221165,
          -2251.389907047955,
          85.40432324277815,
          925.2693299426888,
          -865.4324447657655,
          -190.50493319121108,
          2598.3192977066374,
          602.4415281976451,
          2186.129908899638,
          -2431.754559096741,
          2849.1073080439946,
          -2092.455042768948,
          2678.9306130642713,
          2901.6836733184055,
          -1008.5115404685909,
          691.739457517058,
          1906.2381563550155,
          1409.210758731348,
          -1000.9310070889092,
          1556.4897787141686,
          708.0862549528699,
          -688.926644795955,
          2020.6662297704358,
          -1366.880072874957,
          -1635.4062027941793,
          3490.7122951407696,
          -1946.4171775288414,
          -1837.9217252468834,
          -523.5864173702126,
          435.88886221684515,
          -1945.5469576852704,
          793.1498705669667,
          -2699.152955812611,
          399.174897811689,
          2304.873507888995,
          -2292.859971635431,
          331.7394224679123,
          -364.19288995804766,
          -1352.074044737937,
          426.5338189133359,
          521.0806826676215,
          -881.9910215707029,
          -1575.0076319951077,
          1675.5765404782605,
          1065.8310439099778,
          1034.6953780683573,
          2729.7422314375804,
          403.9982179212813,
          -767.2339664684421,
          1390.4634336422153,
          -419.7241593952666,
          717.3685274403913,
          -1589.6832888424117,
          -2470.1851955286234
         ],
         "z": [
          515.2945546454964,
          421.1864640943163,
          64.6693430516947,
          447.20824752277775,
          -93.28053315800251,
          2353.969468105945,
          25.82342438161231,
          -721.2879613670314,
          1514.607978400139,
          -409.6490045073467,
          -1085.4301953194856,
          1323.5484849319862,
          -557.7842521318875,
          912.5694760834409,
          309.4922595757605,
          -255.19408978469207,
          1015.679079411452,
          744.1202155173492,
          457.1109424613667,
          140.8652794274043,
          256.03311788315096,
          495.7526044757022,
          32.628339998668565,
          101.87826251130323,
          572.6421017350694,
          1204.740204912179,
          1293.6313794715165,
          222.9473010394776,
          396.2150786210338,
          1664.518405387793,
          1311.4431380148897,
          -854.7817326816951,
          1442.376968776609,
          -452.6090318292761,
          -1011.6999061022666,
          1156.8697807604938,
          -560.8423484477904,
          -1117.8029823340792,
          1319.234779648534,
          -575.1931351004447,
          608.486705603803,
          1209.2799314757506,
          -995.7403226053649,
          1148.1554658694233,
          -57.62520751243469,
          -318.4649265237817,
          -127.02917468686651,
          1907.8446282339034,
          859.9401361822544,
          -506.2715824427715,
          -232.94348437489688,
          1844.3787055510015,
          -70.48004482882577,
          487.08739691973784,
          274.49117792434663,
          39.46339878997969,
          -1199.4885001695068,
          -417.82874752574594,
          -45.48830319431153,
          2482.3957732709537
         ]
        }
       ],
       "layout": {
        "height": 900,
        "legend": {
         "orientation": "h",
         "title": {
          "text": "color"
         },
         "tracegroupgap": 0,
         "x": 0.5,
         "xanchor": "center",
         "y": 0,
         "yanchor": "top"
        },
        "margin": {
         "b": 0,
         "l": 0,
         "r": 0,
         "t": 0
        },
        "scene": {
         "aspectmode": "auto",
         "aspectratio": {
          "x": 1.3601477707889402,
          "y": 1.0464603244638093,
          "z": 0.702572487234306
         },
         "camera": {
          "center": {
           "x": 0,
           "y": 0,
           "z": -0.2
          },
          "eye": {
           "x": -1.1730556561108492,
           "y": 1.7882647505477454,
           "z": 0.445019076938628
          },
          "projection": {
           "type": "perspective"
          },
          "up": {
           "x": 0,
           "y": 0,
           "z": 1
          }
         },
         "domain": {
          "x": [
           0,
           1
          ],
          "y": [
           0,
           1
          ]
         },
         "xaxis": {
          "backgroundcolor": "white",
          "color": "black",
          "gridcolor": "#f0f0f0",
          "tickfont": {
           "size": 10
          },
          "title": {
           "font": {
            "size": 10
           },
           "text": "x"
          },
          "type": "linear"
         },
         "yaxis": {
          "backgroundcolor": "white",
          "color": "black",
          "gridcolor": "#f0f0f0",
          "tickfont": {
           "size": 10
          },
          "title": {
           "font": {
            "size": 10
           },
           "text": "y"
          },
          "type": "linear"
         },
         "zaxis": {
          "backgroundcolor": "lightgrey",
          "color": "black",
          "gridcolor": "#f0f0f0",
          "tickfont": {
           "size": 10
          },
          "title": {
           "font": {
            "size": 10
           },
           "text": "z"
          },
          "type": "linear"
         }
        },
        "showlegend": true,
        "template": {
         "data": {
          "bar": [
           {
            "error_x": {
             "color": "#2a3f5f"
            },
            "error_y": {
             "color": "#2a3f5f"
            },
            "marker": {
             "line": {
              "color": "#E5ECF6",
              "width": 0.5
             },
             "pattern": {
              "fillmode": "overlay",
              "size": 10,
              "solidity": 0.2
             }
            },
            "type": "bar"
           }
          ],
          "barpolar": [
           {
            "marker": {
             "line": {
              "color": "#E5ECF6",
              "width": 0.5
             },
             "pattern": {
              "fillmode": "overlay",
              "size": 10,
              "solidity": 0.2
             }
            },
            "type": "barpolar"
           }
          ],
          "carpet": [
           {
            "aaxis": {
             "endlinecolor": "#2a3f5f",
             "gridcolor": "white",
             "linecolor": "white",
             "minorgridcolor": "white",
             "startlinecolor": "#2a3f5f"
            },
            "baxis": {
             "endlinecolor": "#2a3f5f",
             "gridcolor": "white",
             "linecolor": "white",
             "minorgridcolor": "white",
             "startlinecolor": "#2a3f5f"
            },
            "type": "carpet"
           }
          ],
          "choropleth": [
           {
            "colorbar": {
             "outlinewidth": 0,
             "ticks": ""
            },
            "type": "choropleth"
           }
          ],
          "contour": [
           {
            "colorbar": {
             "outlinewidth": 0,
             "ticks": ""
            },
            "colorscale": [
             [
              0,
              "#0d0887"
             ],
             [
              0.1111111111111111,
              "#46039f"
             ],
             [
              0.2222222222222222,
              "#7201a8"
             ],
             [
              0.3333333333333333,
              "#9c179e"
             ],
             [
              0.4444444444444444,
              "#bd3786"
             ],
             [
              0.5555555555555556,
              "#d8576b"
             ],
             [
              0.6666666666666666,
              "#ed7953"
             ],
             [
              0.7777777777777778,
              "#fb9f3a"
             ],
             [
              0.8888888888888888,
              "#fdca26"
             ],
             [
              1,
              "#f0f921"
             ]
            ],
            "type": "contour"
           }
          ],
          "contourcarpet": [
           {
            "colorbar": {
             "outlinewidth": 0,
             "ticks": ""
            },
            "type": "contourcarpet"
           }
          ],
          "heatmap": [
           {
            "colorbar": {
             "outlinewidth": 0,
             "ticks": ""
            },
            "colorscale": [
             [
              0,
              "#0d0887"
             ],
             [
              0.1111111111111111,
              "#46039f"
             ],
             [
              0.2222222222222222,
              "#7201a8"
             ],
             [
              0.3333333333333333,
              "#9c179e"
             ],
             [
              0.4444444444444444,
              "#bd3786"
             ],
             [
              0.5555555555555556,
              "#d8576b"
             ],
             [
              0.6666666666666666,
              "#ed7953"
             ],
             [
              0.7777777777777778,
              "#fb9f3a"
             ],
             [
              0.8888888888888888,
              "#fdca26"
             ],
             [
              1,
              "#f0f921"
             ]
            ],
            "type": "heatmap"
           }
          ],
          "heatmapgl": [
           {
            "colorbar": {
             "outlinewidth": 0,
             "ticks": ""
            },
            "colorscale": [
             [
              0,
              "#0d0887"
             ],
             [
              0.1111111111111111,
              "#46039f"
             ],
             [
              0.2222222222222222,
              "#7201a8"
             ],
             [
              0.3333333333333333,
              "#9c179e"
             ],
             [
              0.4444444444444444,
              "#bd3786"
             ],
             [
              0.5555555555555556,
              "#d8576b"
             ],
             [
              0.6666666666666666,
              "#ed7953"
             ],
             [
              0.7777777777777778,
              "#fb9f3a"
             ],
             [
              0.8888888888888888,
              "#fdca26"
             ],
             [
              1,
              "#f0f921"
             ]
            ],
            "type": "heatmapgl"
           }
          ],
          "histogram": [
           {
            "marker": {
             "pattern": {
              "fillmode": "overlay",
              "size": 10,
              "solidity": 0.2
             }
            },
            "type": "histogram"
           }
          ],
          "histogram2d": [
           {
            "colorbar": {
             "outlinewidth": 0,
             "ticks": ""
            },
            "colorscale": [
             [
              0,
              "#0d0887"
             ],
             [
              0.1111111111111111,
              "#46039f"
             ],
             [
              0.2222222222222222,
              "#7201a8"
             ],
             [
              0.3333333333333333,
              "#9c179e"
             ],
             [
              0.4444444444444444,
              "#bd3786"
             ],
             [
              0.5555555555555556,
              "#d8576b"
             ],
             [
              0.6666666666666666,
              "#ed7953"
             ],
             [
              0.7777777777777778,
              "#fb9f3a"
             ],
             [
              0.8888888888888888,
              "#fdca26"
             ],
             [
              1,
              "#f0f921"
             ]
            ],
            "type": "histogram2d"
           }
          ],
          "histogram2dcontour": [
           {
            "colorbar": {
             "outlinewidth": 0,
             "ticks": ""
            },
            "colorscale": [
             [
              0,
              "#0d0887"
             ],
             [
              0.1111111111111111,
              "#46039f"
             ],
             [
              0.2222222222222222,
              "#7201a8"
             ],
             [
              0.3333333333333333,
              "#9c179e"
             ],
             [
              0.4444444444444444,
              "#bd3786"
             ],
             [
              0.5555555555555556,
              "#d8576b"
             ],
             [
              0.6666666666666666,
              "#ed7953"
             ],
             [
              0.7777777777777778,
              "#fb9f3a"
             ],
             [
              0.8888888888888888,
              "#fdca26"
             ],
             [
              1,
              "#f0f921"
             ]
            ],
            "type": "histogram2dcontour"
           }
          ],
          "mesh3d": [
           {
            "colorbar": {
             "outlinewidth": 0,
             "ticks": ""
            },
            "type": "mesh3d"
           }
          ],
          "parcoords": [
           {
            "line": {
             "colorbar": {
              "outlinewidth": 0,
              "ticks": ""
             }
            },
            "type": "parcoords"
           }
          ],
          "pie": [
           {
            "automargin": true,
            "type": "pie"
           }
          ],
          "scatter": [
           {
            "marker": {
             "colorbar": {
              "outlinewidth": 0,
              "ticks": ""
             }
            },
            "type": "scatter"
           }
          ],
          "scatter3d": [
           {
            "line": {
             "colorbar": {
              "outlinewidth": 0,
              "ticks": ""
             }
            },
            "marker": {
             "colorbar": {
              "outlinewidth": 0,
              "ticks": ""
             }
            },
            "type": "scatter3d"
           }
          ],
          "scattercarpet": [
           {
            "marker": {
             "colorbar": {
              "outlinewidth": 0,
              "ticks": ""
             }
            },
            "type": "scattercarpet"
           }
          ],
          "scattergeo": [
           {
            "marker": {
             "colorbar": {
              "outlinewidth": 0,
              "ticks": ""
             }
            },
            "type": "scattergeo"
           }
          ],
          "scattergl": [
           {
            "marker": {
             "colorbar": {
              "outlinewidth": 0,
              "ticks": ""
             }
            },
            "type": "scattergl"
           }
          ],
          "scattermapbox": [
           {
            "marker": {
             "colorbar": {
              "outlinewidth": 0,
              "ticks": ""
             }
            },
            "type": "scattermapbox"
           }
          ],
          "scatterpolar": [
           {
            "marker": {
             "colorbar": {
              "outlinewidth": 0,
              "ticks": ""
             }
            },
            "type": "scatterpolar"
           }
          ],
          "scatterpolargl": [
           {
            "marker": {
             "colorbar": {
              "outlinewidth": 0,
              "ticks": ""
             }
            },
            "type": "scatterpolargl"
           }
          ],
          "scatterternary": [
           {
            "marker": {
             "colorbar": {
              "outlinewidth": 0,
              "ticks": ""
             }
            },
            "type": "scatterternary"
           }
          ],
          "surface": [
           {
            "colorbar": {
             "outlinewidth": 0,
             "ticks": ""
            },
            "colorscale": [
             [
              0,
              "#0d0887"
             ],
             [
              0.1111111111111111,
              "#46039f"
             ],
             [
              0.2222222222222222,
              "#7201a8"
             ],
             [
              0.3333333333333333,
              "#9c179e"
             ],
             [
              0.4444444444444444,
              "#bd3786"
             ],
             [
              0.5555555555555556,
              "#d8576b"
             ],
             [
              0.6666666666666666,
              "#ed7953"
             ],
             [
              0.7777777777777778,
              "#fb9f3a"
             ],
             [
              0.8888888888888888,
              "#fdca26"
             ],
             [
              1,
              "#f0f921"
             ]
            ],
            "type": "surface"
           }
          ],
          "table": [
           {
            "cells": {
             "fill": {
              "color": "#EBF0F8"
             },
             "line": {
              "color": "white"
             }
            },
            "header": {
             "fill": {
              "color": "#C8D4E3"
             },
             "line": {
              "color": "white"
             }
            },
            "type": "table"
           }
          ]
         },
         "layout": {
          "annotationdefaults": {
           "arrowcolor": "#2a3f5f",
           "arrowhead": 0,
           "arrowwidth": 1
          },
          "autotypenumbers": "strict",
          "coloraxis": {
           "colorbar": {
            "outlinewidth": 0,
            "ticks": ""
           }
          },
          "colorscale": {
           "diverging": [
            [
             0,
             "#8e0152"
            ],
            [
             0.1,
             "#c51b7d"
            ],
            [
             0.2,
             "#de77ae"
            ],
            [
             0.3,
             "#f1b6da"
            ],
            [
             0.4,
             "#fde0ef"
            ],
            [
             0.5,
             "#f7f7f7"
            ],
            [
             0.6,
             "#e6f5d0"
            ],
            [
             0.7,
             "#b8e186"
            ],
            [
             0.8,
             "#7fbc41"
            ],
            [
             0.9,
             "#4d9221"
            ],
            [
             1,
             "#276419"
            ]
           ],
           "sequential": [
            [
             0,
             "#0d0887"
            ],
            [
             0.1111111111111111,
             "#46039f"
            ],
            [
             0.2222222222222222,
             "#7201a8"
            ],
            [
             0.3333333333333333,
             "#9c179e"
            ],
            [
             0.4444444444444444,
             "#bd3786"
            ],
            [
             0.5555555555555556,
             "#d8576b"
            ],
            [
             0.6666666666666666,
             "#ed7953"
            ],
            [
             0.7777777777777778,
             "#fb9f3a"
            ],
            [
             0.8888888888888888,
             "#fdca26"
            ],
            [
             1,
             "#f0f921"
            ]
           ],
           "sequentialminus": [
            [
             0,
             "#0d0887"
            ],
            [
             0.1111111111111111,
             "#46039f"
            ],
            [
             0.2222222222222222,
             "#7201a8"
            ],
            [
             0.3333333333333333,
             "#9c179e"
            ],
            [
             0.4444444444444444,
             "#bd3786"
            ],
            [
             0.5555555555555556,
             "#d8576b"
            ],
            [
             0.6666666666666666,
             "#ed7953"
            ],
            [
             0.7777777777777778,
             "#fb9f3a"
            ],
            [
             0.8888888888888888,
             "#fdca26"
            ],
            [
             1,
             "#f0f921"
            ]
           ]
          },
          "colorway": [
           "#636efa",
           "#EF553B",
           "#00cc96",
           "#ab63fa",
           "#FFA15A",
           "#19d3f3",
           "#FF6692",
           "#B6E880",
           "#FF97FF",
           "#FECB52"
          ],
          "font": {
           "color": "#2a3f5f"
          },
          "geo": {
           "bgcolor": "white",
           "lakecolor": "white",
           "landcolor": "#E5ECF6",
           "showlakes": true,
           "showland": true,
           "subunitcolor": "white"
          },
          "hoverlabel": {
           "align": "left"
          },
          "hovermode": "closest",
          "mapbox": {
           "style": "light"
          },
          "paper_bgcolor": "white",
          "plot_bgcolor": "#E5ECF6",
          "polar": {
           "angularaxis": {
            "gridcolor": "white",
            "linecolor": "white",
            "ticks": ""
           },
           "bgcolor": "#E5ECF6",
           "radialaxis": {
            "gridcolor": "white",
            "linecolor": "white",
            "ticks": ""
           }
          },
          "scene": {
           "xaxis": {
            "backgroundcolor": "#E5ECF6",
            "gridcolor": "white",
            "gridwidth": 2,
            "linecolor": "white",
            "showbackground": true,
            "ticks": "",
            "zerolinecolor": "white"
           },
           "yaxis": {
            "backgroundcolor": "#E5ECF6",
            "gridcolor": "white",
            "gridwidth": 2,
            "linecolor": "white",
            "showbackground": true,
            "ticks": "",
            "zerolinecolor": "white"
           },
           "zaxis": {
            "backgroundcolor": "#E5ECF6",
            "gridcolor": "white",
            "gridwidth": 2,
            "linecolor": "white",
            "showbackground": true,
            "ticks": "",
            "zerolinecolor": "white"
           }
          },
          "shapedefaults": {
           "line": {
            "color": "#2a3f5f"
           }
          },
          "ternary": {
           "aaxis": {
            "gridcolor": "white",
            "linecolor": "white",
            "ticks": ""
           },
           "baxis": {
            "gridcolor": "white",
            "linecolor": "white",
            "ticks": ""
           },
           "bgcolor": "#E5ECF6",
           "caxis": {
            "gridcolor": "white",
            "linecolor": "white",
            "ticks": ""
           }
          },
          "title": {
           "x": 0.05
          },
          "xaxis": {
           "automargin": true,
           "gridcolor": "white",
           "linecolor": "white",
           "ticks": "",
           "title": {
            "standoff": 15
           },
           "zerolinecolor": "white",
           "zerolinewidth": 2
          },
          "yaxis": {
           "automargin": true,
           "gridcolor": "white",
           "linecolor": "white",
           "ticks": "",
           "title": {
            "standoff": 15
           },
           "zerolinecolor": "white",
           "zerolinewidth": 2
          }
         }
        },
        "width": 900
       }
      },
      "text/html": [
       "<div>                            <div id=\"7e76857e-79ef-4913-86fd-d7ba42453622\" class=\"plotly-graph-div\" style=\"height:900px; width:900px;\"></div>            <script type=\"text/javascript\">                require([\"plotly\"], function(Plotly) {                    window.PLOTLYENV=window.PLOTLYENV || {};                                    if (document.getElementById(\"7e76857e-79ef-4913-86fd-d7ba42453622\")) {                    Plotly.newPlot(                        \"7e76857e-79ef-4913-86fd-d7ba42453622\",                        [{\"hovertemplate\":\"color=Junichiro Koizumi<br>x=%{x}<br>y=%{y}<br>z=%{z}<extra></extra>\",\"legendgroup\":\"Junichiro Koizumi\",\"marker\":{\"color\":\"#636efa\",\"size\":4,\"symbol\":\"circle\"},\"mode\":\"markers\",\"name\":\"Junichiro Koizumi\",\"scene\":\"scene\",\"showlegend\":true,\"type\":\"scatter3d\",\"x\":[475.73908028363707,813.5343451910032,426.39110691732225,373.061073157615,-915.7483976747295,-1632.4108382320844,78.9730332772763,358.8571459249718,-379.2798024990468,1645.516008775554,206.42278247786496,23.17577435537293,2878.4577635795754,-984.3919557972794,1162.9770152737324,2088.8306323643274,-29.330886063570066,-520.3287600762867,-457.022291026868,436.5892604665395,1999.8250337994562,566.3328416167761,-3070.705921819485,-664.8257872103032,1344.626684124694,8.868892659944052,-2455.9108075249737,-2854.780601720864,17.676205192522463,461.5613815193783,-1334.8758207577434,-298.145464766649,297.8216469025263,-2733.114915165163,169.32076606164094,-2817.0023094527705,-1565.672120184203,-1660.3725786920056,-2706.9848677662935,-3966.2999150406745,1255.9582722082414,-1325.4281553370524,-761.1789511343363,-1948.8944085719959,-2191.8770004923263,1871.4869671866159,-764.3955227610518,65.92633158651664,-3525.100493310841,-1467.9398806564577,2418.0413090421093,133.9043188681286,-2376.5610934048177,-2689.5135293990743,-1521.757622818284,-66.83234094256456,1914.1220329382145,-2117.2649376812606,-1717.7283176474846,-1947.1865179020162],\"y\":[24.636163834348725,2057.5691004526516,430.040865802898,523.0748218154763,328.14907202664295,587.6503552143791,652.5841518474164,-527.1190407856234,-1995.0110592506198,-155.86000165614396,924.7973479079072,1895.969337616909,-1150.4509274569284,761.1218750246629,-28.856215983815716,63.8276424470826,-346.2506775950906,1208.4177097468266,390.00571424449583,898.9908733272321,219.73217257417204,907.4657606601903,-226.6515098349847,-295.1926187355898,-1846.3425118874268,-94.47630840912039,-1176.104112470641,-847.0297829724467,869.9850834394937,-1215.1815019707751,-2074.338224851875,-624.6805925973839,-1262.7438025074885,753.8849258067117,2195.5894355578794,-1789.0654389029305,-12.268940755124374,-1952.7062370637118,-1586.5252538865263,-977.0014526420508,2124.887870865966,-1634.1377725025668,-101.8804078577454,-887.1054506942065,1407.2350964815262,-516.8715763419352,189.37346355173713,1201.5053103529963,-419.170933550599,1160.6729347545308,594.1927985584418,76.71291561311624,-27.4775202246271,951.0227123342191,-61.96511707081995,-1198.3310568068664,1092.6070505809146,-123.50306789016585,787.4331550121557,1109.1090219913947],\"z\":[-910.898228230021,-1398.3326404854479,-399.6483790798621,-916.4030413380567,-594.8657334978878,-55.300574427135835,-461.3275931262483,-589.4096322948401,-1075.5289392049033,-1533.306697983768,-974.6164393587654,-823.7517227653378,-229.74269147324512,-1341.3635523401874,47.60551609439706,-1287.9029582186993,-1014.1126653293617,-873.7416932482471,-70.59594781088197,-1264.1651717040986,-1455.1300392904495,-371.06731242559795,-1131.8198748340862,-836.1345428569578,-988.307779463864,-720.3680871426117,-1381.4850717945599,-1115.4845907038139,-1032.0629561267679,-922.4243975452077,-1396.1963158296933,-1060.8833543740895,-1262.4872475205868,-968.6542743401337,-1614.8906871462382,-739.7384527654431,438.81147683051245,-1575.6031426236375,-816.7741933030023,-1294.5819613305512,-1239.2224556095887,-1214.4161108181015,-776.5739579443442,-217.5786045678653,-887.234637728304,-658.4033207084402,-6.418908688402506,350.6850447662222,-1161.05715292096,-815.1987043927684,-1184.755674739617,-207.0959973225561,-1425.921267280655,-918.3417826494198,-1524.3198676120862,-747.7192340173469,-1022.7385641147537,-451.6134519593134,-1667.7470017430423,-1261.0285591459194]},{\"hovertemplate\":\"color=Ariel Sharon<br>x=%{x}<br>y=%{y}<br>z=%{z}<extra></extra>\",\"legendgroup\":\"Ariel Sharon\",\"marker\":{\"color\":\"#EF553B\",\"size\":4,\"symbol\":\"circle\"},\"mode\":\"markers\",\"name\":\"Ariel Sharon\",\"scene\":\"scene\",\"showlegend\":true,\"type\":\"scatter3d\",\"x\":[-217.21112081060792,2181.5910422237357,2203.880066057391,-95.18670492409423,585.2016480244858,76.18818219364823,-160.47270431604596,-358.6281527665873,-87.34871103369774,-678.4305310550736,-393.8537241996126,-840.9940122432914,-292.9033823835587,-1175.1864804431023,1189.6335286946107,-32.85324426074113,1062.4330437020717,1387.4858572553394,2371.4402703888722,-37.458419121808255,280.69561763140223,1032.5429228273445,-693.8458362614816,637.1829043292661,84.6082933827481,-336.86349788969244,2704.07431007843,534.8973826966303,890.4940183599011,-1035.9383569830575,-1439.2463422670974,2735.97814475798,2697.873713774341,2227.104791351049,-876.0144755356915,-842.208214999484,-2131.6935916322827,1259.290788168641,-2618.389041810519,-1124.4813818856187,382.29278818179154,506.9759682986489,1918.9413888663842,1398.6564358457663,866.0281987091608,1272.3263623023554,-326.3917974900503,627.4312648176775,-1800.7253941601857,262.1991416184614,924.9304973568501,3255.7519071346705,-448.9965212294456,3709.1586061016696,-93.86250904044807,819.0983040369931,453.0755723772155,-1690.703385032771,4667.378566548162,846.4597290051956],\"y\":[2779.552213826222,-1884.9599847403458,546.2783577008771,10.437657513366828,1850.0235257255108,1157.2125612629925,-326.1869354235413,1982.8240052064168,481.6077413872803,-2179.867657991713,154.06957963919197,662.58014243613,530.1176152897679,-1447.4134338153099,120.89606470046826,-121.19797765150729,-1345.6586280894787,-16.426237461088864,1344.540563195627,1422.8617494090058,209.46912191302042,558.8579477751895,-171.9508992101077,-498.4698578803479,2321.1312099328416,-2567.6647093268793,-440.99760254308876,904.0512407547365,347.09582184579335,-81.19691940192853,2065.4727344630383,330.4202079103434,-295.76474199685345,-2441.94699937019,1825.8848465606063,-16.64858986110209,1546.2214729917703,1821.2590755607669,733.8649063240262,-2709.935124531,1012.7182743493753,-860.7533737274099,-250.4483117404582,-325.5813054999851,-417.94244293835084,1985.539800426532,995.1500952923038,-2451.101368444902,1611.5050923928031,-336.20346397052487,1338.0494212502329,977.1741913603007,601.7411140838047,-373.58274538870114,990.6160039896769,-2879.8016475117893,-817.116472549033,-2535.353442739913,-647.8783462266996,1259.669291085377],\"z\":[803.9431563849625,792.2273856367704,-765.5576293379364,73.93156513565455,517.6800992948456,869.4832983210223,956.9170591246201,-94.56036719657648,-55.748454176076045,-462.08188601771116,1014.7207058424358,187.30593390652197,2633.001107769567,374.31625929883353,-150.74316093814952,518.2981239307162,-419.09418907005914,-52.25505287656909,56.49059388026225,633.9612102902125,2123.959581345466,371.7597292920007,1099.2567461447675,2402.4515865432104,1378.3763218006206,207.13035690893201,362.5022808363576,-1028.7573399288733,644.7664318565029,246.28546691759396,1245.3470585133377,709.8504761137691,2503.9426083103735,315.00145960554556,-185.24519919867842,792.2826957281325,-532.0527154939086,1126.4105180853592,808.4078976404368,-234.25217543294175,1633.592965005051,343.74403539741394,-527.9886793337039,1563.0799851801212,1663.7096556934653,-260.24827654068173,543.3098762156899,1416.256523352607,513.9277629330859,723.2511921747019,1046.4750819444364,-279.579821344103,908.1078633617198,773.0040848347396,1520.5621091333887,1342.7185917358133,-418.73371217530564,-167.5273824389641,673.9309317922855,1955.9143967775017]},{\"hovertemplate\":\"color=Colin Powell<br>x=%{x}<br>y=%{y}<br>z=%{z}<extra></extra>\",\"legendgroup\":\"Colin Powell\",\"marker\":{\"color\":\"#00cc96\",\"size\":4,\"symbol\":\"circle\"},\"mode\":\"markers\",\"name\":\"Colin Powell\",\"scene\":\"scene\",\"showlegend\":true,\"type\":\"scatter3d\",\"x\":[149.6310744384912,1727.263111672521,1225.6311523054221,1730.0371727352074,366.0809503679747,-2195.290909855126,1605.1421315093842,1299.6166907372763,-684.4932108005888,1674.3541706004369,660.4366322536906,111.56122227501291,-1996.7378722238964,-1730.6373406319497,788.5219665300466,2569.857147701015,-325.1984863722234,-1506.6396402717955,714.8777123614764,-2784.4771751428048,314.16716170009715,1361.3601719597953,1155.6807197337146,-1053.467260821467,818.4962861625438,232.13953111443408,-501.2763712639975,2584.2146205473564,63.216533736956784,1524.7021235896332,244.52936131104693,-121.53729493788947,-1256.7138975870964,1702.7599040625364,-1691.961521449717,100.25651465733365,-731.4433445552622,-1254.357728019048,-216.37084069690604,839.9062253072374,822.8188352311629,1123.8804250036717,2035.888831041542,175.87003699281706,2184.251503391576,2082.53172672706,766.7463032765422,-865.1641860941475,1239.6528876740692,290.9748408113752,1072.7435715652111,2022.046673373516,510.10910874772446,212.48907542383535,3253.8384625909716,-754.1806891595254,1151.7776575029757,480.3840248944056,525.4113589367146,1888.9732194597145],\"y\":[-41.45387372638477,1002.2322543751626,-1449.5559780483977,936.8207520918311,-873.0668675365348,-2294.945721580954,-109.90247208902338,724.0869314351773,-2386.9603457842536,-314.0491562704507,2201.920388441285,5.3911443528713,-2063.9716796565513,1374.7052652735404,-424.63478375100624,-618.1706960174754,-68.56030181706177,-2167.285261835482,44.043623663580604,1939.5449760450538,565.6245762806354,1375.7737292877782,-338.51605914233375,826.3377808945181,968.1091178599731,2579.5220287405837,-940.414135140009,1318.1343918572334,207.13233661599813,-185.6190867441335,432.71861703157765,97.86464168449581,-1910.7253423246036,-451.2563396104482,1354.7048196690487,-1346.7571422490698,350.52854027908427,1210.1963063807302,1406.2505558013092,1385.3100772599662,-2587.3450440335014,1770.7747229202112,668.5388945132504,985.6817010750058,-97.68960665249031,915.6593568497478,-2628.5698971812944,-1000.6172467548058,245.30518702918818,2211.303267156098,1365.1737435457176,-1000.6216522936885,-1266.5372719179236,921.6722179527688,-465.99909752943165,-741.4613756255018,1611.3644189510856,102.65008674743898,-1872.5458573645126,-405.0891466726698],\"z\":[462.9548050383564,887.0558989504286,-693.1071576829752,1401.927583432819,-195.03500290495384,-618.4475576617622,-146.65834046021595,1755.1824322363047,-711.4509027413663,308.9463148370149,1834.9934190492504,301.2020425861644,-332.10677833708445,110.53784360731193,1315.6232309856064,-946.4255322172589,142.74525838775446,-358.9977512601827,261.32493355803183,153.46667173857153,-1118.6877943267555,-774.493822180896,1908.1145739871376,1300.5221034809044,1707.908258449286,677.5122354166947,-633.089159375269,455.8863400901089,210.49360023866598,-347.1083331098405,-116.48013534803758,-229.69800782780834,364.120880282503,-768.4915867516311,432.9091041858027,36.63213514848094,204.16996940358212,-168.75731432436592,2324.0609377230307,-865.9636964780027,1467.576449911721,-754.3750585156395,-271.33304319306785,1051.6162201441136,-542.1351269951375,1152.0334335965315,-395.15298457155063,1438.002952700364,-463.3345787342813,2774.029713606463,1232.2564284297057,-246.8782716488906,173.68549340345706,1299.5280605260705,918.0632731322332,-699.4991503409263,2253.5513199211478,78.72541346998499,-1011.8938543041164,-337.4078870095244]},{\"hovertemplate\":\"color=Donald Rumsfeld<br>x=%{x}<br>y=%{y}<br>z=%{z}<extra></extra>\",\"legendgroup\":\"Donald Rumsfeld\",\"marker\":{\"color\":\"#ab63fa\",\"size\":4,\"symbol\":\"circle\"},\"mode\":\"markers\",\"name\":\"Donald Rumsfeld\",\"scene\":\"scene\",\"showlegend\":true,\"type\":\"scatter3d\",\"x\":[1306.120859368182,86.15051403518063,-1594.0770301224281,2137.6679427055674,-2433.2275038807384,3274.1514425769524,1000.7170780317144,-1005.3603227954918,610.3311334506661,456.21942587993044,1548.3682881190432,-3648.346779925884,2360.941570256758,-295.8665738897809,1284.062049553313,-655.5936152510051,2510.8246039785677,578.6404879775221,-1602.6369715649391,-222.46378524433922,-851.1515236292877,-324.0461704062832,583.6889019037591,-1295.65636895589,1389.367603910537,1301.1201292195806,-1241.2685558738767,-1063.0233520405402,153.31431254040965,62.595846438201214,-1585.2269959719783,-1324.1854863738847,523.6985183656371,1347.9364684164607,606.0793350774716,-2472.813651148909,666.1505739481471,-1683.5049309369238,229.63136015927392,-414.41282214865765,-392.2817307690534,-2603.0789662115726,-2508.3135071007705,-283.12339965802914,1244.5182803390967,2893.394944926225,361.43006442871825,2395.2331390091877,-40.85101531752646,-1486.3142409445848,-1364.9649319439457,313.05495390264,-1124.1467784363354,-1818.52885790998,-601.4375472693757,-778.4652793361216,-627.6177464111856,1610.440828875935,-841.4598131889852,825.3654259767699],\"y\":[686.0010200971781,-1708.800376049348,1698.9644312118448,-150.027036026096,-1911.0043170695703,660.6641664182112,-1022.71125467623,819.0448482736459,490.88500978926936,-423.85335598383745,754.8977986006038,281.827984719185,-782.9293192324695,1805.6914104435343,-519.4356791920234,-1640.1765998961769,-303.0284417558418,1025.9795438622943,886.3162967631329,815.3315452117913,521.2517661227846,-2879.9418512881043,432.0058753003116,-564.5075172997933,1037.596429652178,-647.8748177913386,-1308.197436084471,24.57350254661746,108.39614968894742,1931.2931114169778,943.4955853626584,-1502.4792981614069,564.7494880402797,-116.08772107951307,-1821.5473188001768,-1695.470400404777,1730.2124420556383,-1899.1426027989755,2578.918463488934,501.44458815570937,-336.1771870437605,1064.2114748733052,-808.214354319285,1368.7249933097987,-294.8267916430016,-1383.2606228422599,-2989.261888368558,-1998.631763144977,-78.33180064843486,-349.35890920706066,1284.4379236859927,542.0599591230499,-628.8381986080592,1653.7725530597386,850.7088948201074,-1271.652528198752,57.20926149562885,-246.69554476194673,-294.99784506231765,-2774.0643381766317],\"z\":[-132.4455873051387,2800.847129589401,961.8764457677283,-133.37249807747114,-243.455709934229,372.3543580828569,-530.6171666625539,2554.069011871989,9.307332863783149,1629.0051290877398,-925.0678222675638,-598.159641122458,1775.7857390289328,-1446.2515441073372,308.1765480943599,-35.956829600249286,777.2135034334584,-464.83892997021826,30.80588630050973,-567.5397112527606,-643.8001944357648,2421.2521202820194,1828.5081855386507,-368.50520556082785,-480.9243930498584,0.15246662794046684,880.7270619972228,308.28679206384686,1134.7261713881815,1531.423732669526,-59.44801126065262,2511.908007557006,134.76931977994445,1862.2039076066253,1624.1238649769948,113.83513217547801,16.40083594187623,276.60375389872723,1100.7639700640586,-472.5430472156717,1463.6544321647427,-649.4905636322912,-679.3936433248642,-94.07524224801905,469.6280259962705,-687.8290943217091,1037.3366698327447,52.30414309356488,1229.3624233901278,1181.6367933912359,1078.049472792755,-128.57144013869558,-411.07177248124503,-573.3115191277153,714.3679566284757,-392.9290271250535,-410.729171107842,-17.00594169411025,1205.3681009212207,1157.0313033142047]},{\"hovertemplate\":\"color=George W Bush<br>x=%{x}<br>y=%{y}<br>z=%{z}<extra></extra>\",\"legendgroup\":\"George W Bush\",\"marker\":{\"color\":\"#FFA15A\",\"size\":4,\"symbol\":\"circle\"},\"mode\":\"markers\",\"name\":\"George W Bush\",\"scene\":\"scene\",\"showlegend\":true,\"type\":\"scatter3d\",\"x\":[729.2019231086781,-39.525343620820756,2443.7979301507585,444.2095303092573,-3186.181477631973,-1457.8871441230467,-330.83676803170744,-1324.5775832903532,-826.0671171309953,468.29878300736766,-1277.1151522269502,-1526.3836156163277,50.03398852616342,41.274426164565114,112.82168396327958,-496.04183733636285,2431.3234473598895,-1537.11003300599,165.17557878806562,-2358.523556939588,-686.3055219751285,359.26413473404324,1138.1564593067785,-1238.8189432769761,2482.7458022061437,-477.1449521218738,2257.1487972047435,-341.24289098373794,808.4930172389679,1361.640975987062,2107.09894960243,-1104.7705032218655,1984.9675282151932,66.32186522271613,-1679.8352456733642,290.0151208227755,1204.6811460855647,851.539327068176,-1889.5250745594064,925.9020508606301,325.6040011454984,-2409.567073476881,505.9775085283221,210.56703076263082,1359.3673792333266,586.8918357562302,1046.1043922631377,1148.7579056486172,1041.7822954546775,-1584.372721418395,-19.163862362612875,1387.0588734022115,518.4936542911461,-951.6351325886251,-2154.535942375242,1128.6567279129006,-2728.356329497668,313.3368580707502,60.17527760606556,290.8624190797125],\"y\":[2163.176911826885,-1577.1016733627887,735.6655929821018,1853.7190408727179,753.4816116852498,-1826.9204167829114,2417.96068190062,-1355.455862303374,-2391.9135834916156,-787.475092659292,464.140147575836,-894.0987688372328,659.0372720222913,934.0385033108455,-437.14102441998676,-2377.7138602209075,-882.3851484871691,571.559217985108,-2023.1971764381717,2158.6380897584877,-713.3858090445418,734.6203129346159,-977.5293747976135,-2245.1135852042826,150.91237654621344,-61.777774092833745,976.4744853173081,362.54465804928844,-2865.3356441944306,2035.3724483422939,-406.75353694494817,-431.37146693213606,1139.5227798894734,-846.6932235274542,-1185.655277832351,-851.7344902559139,789.2822421402831,-3220.3780346044973,1519.0570609842691,730.5686387299918,2387.5152134269924,-1057.2605085388684,470.90627589968955,-209.8297667247396,1092.2343995767715,2702.467983228268,1288.901406836894,761.3499231580142,923.9393467594186,1951.6201103570202,-2009.1126139711607,2072.0883914748797,2781.8589630702745,423.38244447887973,238.58728475095577,-2113.646128757296,1214.9652734692243,-129.15708775134615,-83.62010133505484,665.706963852707],\"z\":[32.214659193191714,474.04771548101087,456.73950116961026,-251.6109177539424,-411.4908581137783,-1030.6329028391356,-194.57310738885434,-240.80135792589888,81.64335741397348,-1188.9872555943589,-621.0499348754147,1990.2690380787146,1085.754722396337,144.57765041804308,-51.646423384900594,-750.160092300983,-78.6596631342332,260.57755019858814,-1239.39038953116,536.2252502863874,-455.38667047574256,-501.3573632230897,396.9345160776561,-1349.3073221553348,-793.6335190441284,273.7016889916587,-1341.9028313061754,-368.70720650875364,1070.0573225857165,-91.64255296375998,919.94748350665,-256.7934814516722,170.7929814939715,277.3408604901579,1279.5410948321794,610.2765797410345,-1021.2284247980369,1156.7524146695919,1081.2036037808173,-40.34098338175401,-500.2116764466631,-330.4215296190401,-81.45215286383953,40.49190619203284,-324.7734667166969,-1320.9180293111428,-217.86419136188616,-510.64067550850785,-650.8602392720867,563.6641490071098,1806.6564731099356,-1316.739942739943,639.5850441096561,176.7512014606226,166.67644081148973,-202.36579286259268,538.9038697681535,-231.8066647276682,-25.315367542491394,-73.77407972656106]},{\"hovertemplate\":\"color=Gerhard Schroeder<br>x=%{x}<br>y=%{y}<br>z=%{z}<extra></extra>\",\"legendgroup\":\"Gerhard Schroeder\",\"marker\":{\"color\":\"#19d3f3\",\"size\":4,\"symbol\":\"circle\"},\"mode\":\"markers\",\"name\":\"Gerhard Schroeder\",\"scene\":\"scene\",\"showlegend\":true,\"type\":\"scatter3d\",\"x\":[-1804.0450146544222,-1298.6459081845348,-905.7089599009443,1413.3011980060016,-1308.8199167494747,-1127.0820051486214,-1027.2814661546297,929.9439928163384,-712.3754915531435,905.1449068120763,3332.9038056819413,-2181.2395506566704,-1395.6570607950277,-2199.3496289641557,-758.1426591050919,1678.3177043362189,-3287.52879963927,-48.24864804691178,-3518.230783436183,-3047.4883278174048,2361.9902931980264,-454.11803389698446,-2065.5673746962384,634.7665272910722,-1627.803250694645,-4055.431403570226,-960.6309230784974,-777.047478694644,-157.92761277440084,-3046.951063394149,-2230.8181714446473,2229.081532047038,183.50436647233488,401.5771971294037,-2370.759057537271,-1788.8479619330901,-700.786177755362,-690.6661499123678,236.81206983511868,-1272.1416953381722,336.5494964468051,-1310.7768036938398,-875.1305322480912,998.426826701891,-2527.232254674725,1955.1161862376155,566.8030055851202,-399.5435894880053,740.2547154456074,-2502.921293456368,343.27000935683816,-791.1672373728537,1904.1920815318474,295.89162869262674,-3343.6910039875743,937.5717698468278,-1878.2892827905348,-913.2854164131641,-2550.833475410794,-77.41562497032193],\"y\":[537.8125781547639,859.0954367058471,-429.96271377011806,-921.9473114009354,781.4394912396148,-139.17628150356796,-1804.6327701720054,-927.6486739199804,-2068.2267442444763,-1086.3362798699372,-1008.8721020511124,-2200.9000233662296,-1561.2119959201905,3051.7154747037985,-1581.8953743695927,-1703.5237775294954,830.3856428574709,-1312.5992653988724,-338.2434488320486,844.908857998033,-242.06616295938593,2611.6963317642335,-378.5557648590386,156.41878231750636,-1148.391069445486,-282.4449095992175,-2082.261083117974,417.495726192543,26.304647920180432,909.9798241022559,1561.2400222440565,-531.8041694247793,-173.34225948519924,1188.9895017434278,-1046.9141670134543,837.6876345052026,-50.44959181523055,-2091.4316740320664,-342.87271632286024,552.4801646879272,-507.40696405392566,-971.9354224452704,-170.01530308551045,1160.5890807773453,-82.77872308146017,277.79168989791646,-1183.7893608893835,-1166.5176800623224,-992.3763146053325,1619.4902599773955,1175.6883061870906,1467.9931536173767,-431.36969847410404,-1099.362108221851,-1953.5865580714244,1487.7388565078193,547.1924154265222,1168.8531800387063,423.62378173668134,-464.7756627072183],\"z\":[-928.5600951202881,-984.8334874998103,469.4343224172092,-1611.7954291867402,-472.0455871012011,553.4609481571541,-393.95344093834683,567.4065214226239,-413.5506766714515,-1113.7174344559082,-656.3243727968494,-829.4081602659694,-199.40788002957441,559.4273043615245,-429.0949234834001,-93.79893999783252,33.8771127289224,-942.6109895646618,-752.1983670214103,-29.002336594833345,-801.206950251196,-517.5961468002225,544.9714736675285,-1002.1652254067296,-1096.4760449310515,-407.79057226499486,-109.14730274709873,-331.282313924077,-147.84967162724314,791.8955538020207,-1030.141963740187,-996.5666353471157,-708.3381051956475,-131.61347079956312,-327.90579077620447,537.7635360418616,-936.7874550152966,-1172.698968355299,-455.98822082946225,-930.9842941916372,-209.7886373791432,2216.025267147935,-253.53883440577337,-566.1475075044185,113.17960975479646,43.642523832193994,-708.37763012112,-500.3271898479583,-1225.0472199512242,-218.73380451535823,120.9832454071009,1431.2090110508866,-409.72774395384073,-596.6927561861363,-854.5150334262044,-926.2688107668135,2295.9144123773845,-1048.3429217708517,309.2312726121184,1264.6506399983355]},{\"hovertemplate\":\"color=Hugo Chavez<br>x=%{x}<br>y=%{y}<br>z=%{z}<extra></extra>\",\"legendgroup\":\"Hugo Chavez\",\"marker\":{\"color\":\"#FF6692\",\"size\":4,\"symbol\":\"circle\"},\"mode\":\"markers\",\"name\":\"Hugo Chavez\",\"scene\":\"scene\",\"showlegend\":true,\"type\":\"scatter3d\",\"x\":[1792.3851565116531,-476.3468699209779,2268.8463352247886,-1215.245176461239,2697.1394584656578,3334.854631271736,1036.6083965609484,623.2619252239862,219.86363339443997,201.37433080839176,765.9461078542475,828.8011788763694,2441.5087895745028,2111.5875473551637,-319.77156422098597,-392.8451790648083,1498.5988116675385,789.3204885648288,-575.4836336162818,2509.286191442763,1262.4752483428813,-2539.7519397148903,2463.888941520163,-1473.2371838470733,2431.635691399502,1012.5067093080029,44.9408091800994,2014.4479926012136,139.0652065513992,-1017.257574269893,3150.0504753697387,3128.968107599397,-2747.174906958425,2081.9783688582293,-1606.8000679581662,158.51675832057794,-604.3541991115903,-706.544546168775,958.3917276656867,-539.9676478928592,-1083.7760310176764,2111.657253348829,783.4934687630321,2895.180689425898,1906.411781135991,1703.6552186630547,2831.69840152848,1452.1109735819293,1589.2167598800586,505.5308734293367,915.5615024822475,471.389789296575,1003.5066722049502,-470.3498335867142,-864.0624782320604,-1086.0531943894148,175.36625486846938,2533.8673761678324,2033.3508415364352,202.62734067975964],\"y\":[1374.8336460767478,-922.1986146443262,-86.5404726228177,238.174026048887,-608.3788208587872,960.5065521028912,3042.0888415290583,846.2234435485924,-29.16085822864369,-684.0681210833627,494.88036776914697,1476.4831541114113,-777.0250186523575,-316.8883932247157,-365.452926166085,943.1566261063181,574.7567773099967,-871.1327281402382,664.6231644632755,144.5293913530744,-1189.5642839807035,-1024.7454114799968,-1940.7450656270303,-5.2582513284194015,418.1469994665321,-603.0841010662456,-2995.634061043646,-588.4749650164188,238.59931298468865,891.6200100492491,-1264.3299856840174,-113.88761570163894,-891.7465116006028,1030.674490164419,-232.4476424436879,-339.0998832977921,202.9919820947627,-356.2817547666084,908.7939983269854,-810.1084552811901,-1439.7090463385105,-791.1432539858121,0.7777593403500326,-347.1728013749759,60.813928472800654,-949.0306773274692,-147.34620496046466,157.01591703997263,-6.484615759623348,-232.12738932781713,733.2232287882792,-515.1654435009573,2017.4604158169304,581.7751304268162,-628.0633788015855,8.581197449366492,99.46777730368866,479.5421371165901,-315.7492709783364,155.54572419691],\"z\":[-1309.5641797779683,-458.4074214714903,-1065.7688849113504,850.0679706952217,1242.2123939344947,90.66513155396629,-1579.712911245416,-897.2989886437839,-3.9534846772877845,662.0304236359088,-166.28325919100598,-780.3894041868339,-723.5343702482066,-1383.379725357153,-960.0686387862685,-791.9374844899226,-1059.4402191908887,-363.5219798748314,-390.17683674454287,977.2592589357915,-1277.2993800243958,-1030.444575804036,493.460851240846,599.914124545222,-880.2839756529436,-700.1651461473114,-20.729685770121705,410.6105520042418,-959.6033725639948,-395.21885873544636,-150.11531824553876,220.49679079127736,800.033465634077,-1128.334555184106,79.90661512737401,-344.7093517008983,-792.109036882639,-643.9898686849108,342.84878226353453,-883.8792658681468,195.19770260831092,-907.6995496548676,-858.3439208276592,93.47291384492554,-1265.1685819086479,-1353.3515250378045,-85.71279666918585,248.99810463777496,-911.5212191774115,-1007.9076041257466,-390.8993595320426,-1208.9780049834546,-1401.0282394692822,-1267.4859131267212,-1391.9217692785148,-732.2837952235031,-400.2569199539199,-862.1747109205471,-1704.844404811716,-639.2019945917556]},{\"hovertemplate\":\"color=Tony Blair<br>x=%{x}<br>y=%{y}<br>z=%{z}<extra></extra>\",\"legendgroup\":\"Tony Blair\",\"marker\":{\"color\":\"#B6E880\",\"size\":4,\"symbol\":\"circle\"},\"mode\":\"markers\",\"name\":\"Tony Blair\",\"scene\":\"scene\",\"showlegend\":true,\"type\":\"scatter3d\",\"x\":[3080.4182360442833,-203.27291698736235,1923.3917748172526,133.76926591005122,-1566.546006882434,-2526.696024950502,-1453.9836176062704,635.6663179447488,-2072.7724475926943,-1226.6098880079796,1717.9933881974384,-1286.3632753141485,-404.637497846083,-2302.6230294368274,1827.7597457743336,1144.8338231249033,-1010.3321452466529,1296.8700966224312,-2775.5956762662536,-1697.3673254721523,-962.9864069206094,-90.19039903684373,-1485.3189264748853,1300.342590477096,-2469.346438238055,-142.8913485265097,-2112.0886097178636,1441.210471811711,-793.3738138844278,-1788.6143960806162,-203.96295763596603,1233.8915566622493,1381.2474077408208,387.6451803469824,162.0325348647171,1157.4566129763107,-671.8425960773982,778.2733793000907,-766.3790293949929,2630.4866793994256,-47.96599586401961,-342.8744465507585,-3123.6843065033395,606.7583240207921,-587.1211421699907,129.82953640004206,-1166.7798468309218,-2095.158540569157,-2627.967463722434,-686.1337961932682,-572.1206783486631,-1344.8881537328598,1189.4009946607653,-1348.988699433933,-487.02527108561895,-2995.184275761705,-730.0815031548035,-1518.9764044232609,-1018.514359770138,306.9130181119686],\"y\":[-419.035610458388,-2361.144279104383,-1977.279946600458,926.6474921329866,-991.4895462513933,1104.4075055194144,-555.1313841221165,-2251.389907047955,85.40432324277815,925.2693299426888,-865.4324447657655,-190.50493319121108,2598.3192977066374,602.4415281976451,2186.129908899638,-2431.754559096741,2849.1073080439946,-2092.455042768948,2678.9306130642713,2901.6836733184055,-1008.5115404685909,691.739457517058,1906.2381563550155,1409.210758731348,-1000.9310070889092,1556.4897787141686,708.0862549528699,-688.926644795955,2020.6662297704358,-1366.880072874957,-1635.4062027941793,3490.7122951407696,-1946.4171775288414,-1837.9217252468834,-523.5864173702126,435.88886221684515,-1945.5469576852704,793.1498705669667,-2699.152955812611,399.174897811689,2304.873507888995,-2292.859971635431,331.7394224679123,-364.19288995804766,-1352.074044737937,426.5338189133359,521.0806826676215,-881.9910215707029,-1575.0076319951077,1675.5765404782605,1065.8310439099778,1034.6953780683573,2729.7422314375804,403.9982179212813,-767.2339664684421,1390.4634336422153,-419.7241593952666,717.3685274403913,-1589.6832888424117,-2470.1851955286234],\"z\":[515.2945546454964,421.1864640943163,64.6693430516947,447.20824752277775,-93.28053315800251,2353.969468105945,25.82342438161231,-721.2879613670314,1514.607978400139,-409.6490045073467,-1085.4301953194856,1323.5484849319862,-557.7842521318875,912.5694760834409,309.4922595757605,-255.19408978469207,1015.679079411452,744.1202155173492,457.1109424613667,140.8652794274043,256.03311788315096,495.7526044757022,32.628339998668565,101.87826251130323,572.6421017350694,1204.740204912179,1293.6313794715165,222.9473010394776,396.2150786210338,1664.518405387793,1311.4431380148897,-854.7817326816951,1442.376968776609,-452.6090318292761,-1011.6999061022666,1156.8697807604938,-560.8423484477904,-1117.8029823340792,1319.234779648534,-575.1931351004447,608.486705603803,1209.2799314757506,-995.7403226053649,1148.1554658694233,-57.62520751243469,-318.4649265237817,-127.02917468686651,1907.8446282339034,859.9401361822544,-506.2715824427715,-232.94348437489688,1844.3787055510015,-70.48004482882577,487.08739691973784,274.49117792434663,39.46339878997969,-1199.4885001695068,-417.82874752574594,-45.48830319431153,2482.3957732709537]}],                        {\"height\":900,\"legend\":{\"orientation\":\"h\",\"title\":{\"text\":\"color\"},\"tracegroupgap\":0,\"x\":0.5,\"xanchor\":\"center\",\"y\":0,\"yanchor\":\"top\"},\"margin\":{\"b\":0,\"l\":0,\"r\":0,\"t\":0},\"scene\":{\"camera\":{\"center\":{\"x\":0,\"y\":0,\"z\":-0.2},\"eye\":{\"x\":-1.5,\"y\":1.5,\"z\":0.5},\"up\":{\"x\":0,\"y\":0,\"z\":1}},\"domain\":{\"x\":[0.0,1.0],\"y\":[0.0,1.0]},\"xaxis\":{\"backgroundcolor\":\"white\",\"color\":\"black\",\"gridcolor\":\"#f0f0f0\",\"tickfont\":{\"size\":10},\"title\":{\"font\":{\"size\":10},\"text\":\"x\"}},\"yaxis\":{\"backgroundcolor\":\"white\",\"color\":\"black\",\"gridcolor\":\"#f0f0f0\",\"tickfont\":{\"size\":10},\"title\":{\"font\":{\"size\":10},\"text\":\"y\"}},\"zaxis\":{\"backgroundcolor\":\"lightgrey\",\"color\":\"black\",\"gridcolor\":\"#f0f0f0\",\"tickfont\":{\"size\":10},\"title\":{\"font\":{\"size\":10},\"text\":\"z\"}}},\"showlegend\":true,\"template\":{\"data\":{\"bar\":[{\"error_x\":{\"color\":\"#2a3f5f\"},\"error_y\":{\"color\":\"#2a3f5f\"},\"marker\":{\"line\":{\"color\":\"#E5ECF6\",\"width\":0.5},\"pattern\":{\"fillmode\":\"overlay\",\"size\":10,\"solidity\":0.2}},\"type\":\"bar\"}],\"barpolar\":[{\"marker\":{\"line\":{\"color\":\"#E5ECF6\",\"width\":0.5},\"pattern\":{\"fillmode\":\"overlay\",\"size\":10,\"solidity\":0.2}},\"type\":\"barpolar\"}],\"carpet\":[{\"aaxis\":{\"endlinecolor\":\"#2a3f5f\",\"gridcolor\":\"white\",\"linecolor\":\"white\",\"minorgridcolor\":\"white\",\"startlinecolor\":\"#2a3f5f\"},\"baxis\":{\"endlinecolor\":\"#2a3f5f\",\"gridcolor\":\"white\",\"linecolor\":\"white\",\"minorgridcolor\":\"white\",\"startlinecolor\":\"#2a3f5f\"},\"type\":\"carpet\"}],\"choropleth\":[{\"colorbar\":{\"outlinewidth\":0,\"ticks\":\"\"},\"type\":\"choropleth\"}],\"contour\":[{\"colorbar\":{\"outlinewidth\":0,\"ticks\":\"\"},\"colorscale\":[[0.0,\"#0d0887\"],[0.1111111111111111,\"#46039f\"],[0.2222222222222222,\"#7201a8\"],[0.3333333333333333,\"#9c179e\"],[0.4444444444444444,\"#bd3786\"],[0.5555555555555556,\"#d8576b\"],[0.6666666666666666,\"#ed7953\"],[0.7777777777777778,\"#fb9f3a\"],[0.8888888888888888,\"#fdca26\"],[1.0,\"#f0f921\"]],\"type\":\"contour\"}],\"contourcarpet\":[{\"colorbar\":{\"outlinewidth\":0,\"ticks\":\"\"},\"type\":\"contourcarpet\"}],\"heatmap\":[{\"colorbar\":{\"outlinewidth\":0,\"ticks\":\"\"},\"colorscale\":[[0.0,\"#0d0887\"],[0.1111111111111111,\"#46039f\"],[0.2222222222222222,\"#7201a8\"],[0.3333333333333333,\"#9c179e\"],[0.4444444444444444,\"#bd3786\"],[0.5555555555555556,\"#d8576b\"],[0.6666666666666666,\"#ed7953\"],[0.7777777777777778,\"#fb9f3a\"],[0.8888888888888888,\"#fdca26\"],[1.0,\"#f0f921\"]],\"type\":\"heatmap\"}],\"heatmapgl\":[{\"colorbar\":{\"outlinewidth\":0,\"ticks\":\"\"},\"colorscale\":[[0.0,\"#0d0887\"],[0.1111111111111111,\"#46039f\"],[0.2222222222222222,\"#7201a8\"],[0.3333333333333333,\"#9c179e\"],[0.4444444444444444,\"#bd3786\"],[0.5555555555555556,\"#d8576b\"],[0.6666666666666666,\"#ed7953\"],[0.7777777777777778,\"#fb9f3a\"],[0.8888888888888888,\"#fdca26\"],[1.0,\"#f0f921\"]],\"type\":\"heatmapgl\"}],\"histogram\":[{\"marker\":{\"pattern\":{\"fillmode\":\"overlay\",\"size\":10,\"solidity\":0.2}},\"type\":\"histogram\"}],\"histogram2d\":[{\"colorbar\":{\"outlinewidth\":0,\"ticks\":\"\"},\"colorscale\":[[0.0,\"#0d0887\"],[0.1111111111111111,\"#46039f\"],[0.2222222222222222,\"#7201a8\"],[0.3333333333333333,\"#9c179e\"],[0.4444444444444444,\"#bd3786\"],[0.5555555555555556,\"#d8576b\"],[0.6666666666666666,\"#ed7953\"],[0.7777777777777778,\"#fb9f3a\"],[0.8888888888888888,\"#fdca26\"],[1.0,\"#f0f921\"]],\"type\":\"histogram2d\"}],\"histogram2dcontour\":[{\"colorbar\":{\"outlinewidth\":0,\"ticks\":\"\"},\"colorscale\":[[0.0,\"#0d0887\"],[0.1111111111111111,\"#46039f\"],[0.2222222222222222,\"#7201a8\"],[0.3333333333333333,\"#9c179e\"],[0.4444444444444444,\"#bd3786\"],[0.5555555555555556,\"#d8576b\"],[0.6666666666666666,\"#ed7953\"],[0.7777777777777778,\"#fb9f3a\"],[0.8888888888888888,\"#fdca26\"],[1.0,\"#f0f921\"]],\"type\":\"histogram2dcontour\"}],\"mesh3d\":[{\"colorbar\":{\"outlinewidth\":0,\"ticks\":\"\"},\"type\":\"mesh3d\"}],\"parcoords\":[{\"line\":{\"colorbar\":{\"outlinewidth\":0,\"ticks\":\"\"}},\"type\":\"parcoords\"}],\"pie\":[{\"automargin\":true,\"type\":\"pie\"}],\"scatter\":[{\"marker\":{\"colorbar\":{\"outlinewidth\":0,\"ticks\":\"\"}},\"type\":\"scatter\"}],\"scatter3d\":[{\"line\":{\"colorbar\":{\"outlinewidth\":0,\"ticks\":\"\"}},\"marker\":{\"colorbar\":{\"outlinewidth\":0,\"ticks\":\"\"}},\"type\":\"scatter3d\"}],\"scattercarpet\":[{\"marker\":{\"colorbar\":{\"outlinewidth\":0,\"ticks\":\"\"}},\"type\":\"scattercarpet\"}],\"scattergeo\":[{\"marker\":{\"colorbar\":{\"outlinewidth\":0,\"ticks\":\"\"}},\"type\":\"scattergeo\"}],\"scattergl\":[{\"marker\":{\"colorbar\":{\"outlinewidth\":0,\"ticks\":\"\"}},\"type\":\"scattergl\"}],\"scattermapbox\":[{\"marker\":{\"colorbar\":{\"outlinewidth\":0,\"ticks\":\"\"}},\"type\":\"scattermapbox\"}],\"scatterpolar\":[{\"marker\":{\"colorbar\":{\"outlinewidth\":0,\"ticks\":\"\"}},\"type\":\"scatterpolar\"}],\"scatterpolargl\":[{\"marker\":{\"colorbar\":{\"outlinewidth\":0,\"ticks\":\"\"}},\"type\":\"scatterpolargl\"}],\"scatterternary\":[{\"marker\":{\"colorbar\":{\"outlinewidth\":0,\"ticks\":\"\"}},\"type\":\"scatterternary\"}],\"surface\":[{\"colorbar\":{\"outlinewidth\":0,\"ticks\":\"\"},\"colorscale\":[[0.0,\"#0d0887\"],[0.1111111111111111,\"#46039f\"],[0.2222222222222222,\"#7201a8\"],[0.3333333333333333,\"#9c179e\"],[0.4444444444444444,\"#bd3786\"],[0.5555555555555556,\"#d8576b\"],[0.6666666666666666,\"#ed7953\"],[0.7777777777777778,\"#fb9f3a\"],[0.8888888888888888,\"#fdca26\"],[1.0,\"#f0f921\"]],\"type\":\"surface\"}],\"table\":[{\"cells\":{\"fill\":{\"color\":\"#EBF0F8\"},\"line\":{\"color\":\"white\"}},\"header\":{\"fill\":{\"color\":\"#C8D4E3\"},\"line\":{\"color\":\"white\"}},\"type\":\"table\"}]},\"layout\":{\"annotationdefaults\":{\"arrowcolor\":\"#2a3f5f\",\"arrowhead\":0,\"arrowwidth\":1},\"autotypenumbers\":\"strict\",\"coloraxis\":{\"colorbar\":{\"outlinewidth\":0,\"ticks\":\"\"}},\"colorscale\":{\"diverging\":[[0,\"#8e0152\"],[0.1,\"#c51b7d\"],[0.2,\"#de77ae\"],[0.3,\"#f1b6da\"],[0.4,\"#fde0ef\"],[0.5,\"#f7f7f7\"],[0.6,\"#e6f5d0\"],[0.7,\"#b8e186\"],[0.8,\"#7fbc41\"],[0.9,\"#4d9221\"],[1,\"#276419\"]],\"sequential\":[[0.0,\"#0d0887\"],[0.1111111111111111,\"#46039f\"],[0.2222222222222222,\"#7201a8\"],[0.3333333333333333,\"#9c179e\"],[0.4444444444444444,\"#bd3786\"],[0.5555555555555556,\"#d8576b\"],[0.6666666666666666,\"#ed7953\"],[0.7777777777777778,\"#fb9f3a\"],[0.8888888888888888,\"#fdca26\"],[1.0,\"#f0f921\"]],\"sequentialminus\":[[0.0,\"#0d0887\"],[0.1111111111111111,\"#46039f\"],[0.2222222222222222,\"#7201a8\"],[0.3333333333333333,\"#9c179e\"],[0.4444444444444444,\"#bd3786\"],[0.5555555555555556,\"#d8576b\"],[0.6666666666666666,\"#ed7953\"],[0.7777777777777778,\"#fb9f3a\"],[0.8888888888888888,\"#fdca26\"],[1.0,\"#f0f921\"]]},\"colorway\":[\"#636efa\",\"#EF553B\",\"#00cc96\",\"#ab63fa\",\"#FFA15A\",\"#19d3f3\",\"#FF6692\",\"#B6E880\",\"#FF97FF\",\"#FECB52\"],\"font\":{\"color\":\"#2a3f5f\"},\"geo\":{\"bgcolor\":\"white\",\"lakecolor\":\"white\",\"landcolor\":\"#E5ECF6\",\"showlakes\":true,\"showland\":true,\"subunitcolor\":\"white\"},\"hoverlabel\":{\"align\":\"left\"},\"hovermode\":\"closest\",\"mapbox\":{\"style\":\"light\"},\"paper_bgcolor\":\"white\",\"plot_bgcolor\":\"#E5ECF6\",\"polar\":{\"angularaxis\":{\"gridcolor\":\"white\",\"linecolor\":\"white\",\"ticks\":\"\"},\"bgcolor\":\"#E5ECF6\",\"radialaxis\":{\"gridcolor\":\"white\",\"linecolor\":\"white\",\"ticks\":\"\"}},\"scene\":{\"xaxis\":{\"backgroundcolor\":\"#E5ECF6\",\"gridcolor\":\"white\",\"gridwidth\":2,\"linecolor\":\"white\",\"showbackground\":true,\"ticks\":\"\",\"zerolinecolor\":\"white\"},\"yaxis\":{\"backgroundcolor\":\"#E5ECF6\",\"gridcolor\":\"white\",\"gridwidth\":2,\"linecolor\":\"white\",\"showbackground\":true,\"ticks\":\"\",\"zerolinecolor\":\"white\"},\"zaxis\":{\"backgroundcolor\":\"#E5ECF6\",\"gridcolor\":\"white\",\"gridwidth\":2,\"linecolor\":\"white\",\"showbackground\":true,\"ticks\":\"\",\"zerolinecolor\":\"white\"}},\"shapedefaults\":{\"line\":{\"color\":\"#2a3f5f\"}},\"ternary\":{\"aaxis\":{\"gridcolor\":\"white\",\"linecolor\":\"white\",\"ticks\":\"\"},\"baxis\":{\"gridcolor\":\"white\",\"linecolor\":\"white\",\"ticks\":\"\"},\"bgcolor\":\"#E5ECF6\",\"caxis\":{\"gridcolor\":\"white\",\"linecolor\":\"white\",\"ticks\":\"\"}},\"title\":{\"x\":0.05},\"xaxis\":{\"automargin\":true,\"gridcolor\":\"white\",\"linecolor\":\"white\",\"ticks\":\"\",\"title\":{\"standoff\":15},\"zerolinecolor\":\"white\",\"zerolinewidth\":2},\"yaxis\":{\"automargin\":true,\"gridcolor\":\"white\",\"linecolor\":\"white\",\"ticks\":\"\",\"title\":{\"standoff\":15},\"zerolinecolor\":\"white\",\"zerolinewidth\":2}}},\"width\":900},                        {\"responsive\": true}                    ).then(function(){\n",
       "                            \n",
       "var gd = document.getElementById('7e76857e-79ef-4913-86fd-d7ba42453622');\n",
       "var x = new MutationObserver(function (mutations, observer) {{\n",
       "        var display = window.getComputedStyle(gd).display;\n",
       "        if (!display || display === 'none') {{\n",
       "            console.log([gd, 'removed!']);\n",
       "            Plotly.purge(gd);\n",
       "            observer.disconnect();\n",
       "        }}\n",
       "}});\n",
       "\n",
       "// Listen for the removal of the full notebook cells\n",
       "var notebookContainer = gd.closest('#notebook-container');\n",
       "if (notebookContainer) {{\n",
       "    x.observe(notebookContainer, {childList: true});\n",
       "}}\n",
       "\n",
       "// Listen for the clearing of the current output cell\n",
       "var outputEl = gd.closest('.output');\n",
       "if (outputEl) {{\n",
       "    x.observe(outputEl, {childList: true});\n",
       "}}\n",
       "\n",
       "                        })                };                });            </script>        </div>"
      ]
     },
     "metadata": {},
     "output_type": "display_data"
    }
   ],
   "source": [
    "import plotly.express as px\n",
    "\n",
    "# Cria uma plotagem 3D\n",
    "fig = px.scatter_3d(None, \n",
    "                    x=X_trans3[:,0], y=X_trans3[:,1], z=X_trans3[:,2],\n",
    "                    # color=y.astype(str),\n",
    "                    color=[y_replace(n, n) for n in y],\n",
    "                    height=900, width=900\n",
    "                   )\n",
    "\n",
    "# Ajusta o design da plotagem\n",
    "fig.update_layout(#title_text=\"Plot 3D \",\n",
    "                  showlegend=True,\n",
    "                  legend=dict(orientation=\"h\", yanchor=\"top\", y=0, xanchor=\"center\", x=0.5),\n",
    "                  scene_camera=dict(up=dict(x=0, y=0, z=1), \n",
    "                                        center=dict(x=0, y=0, z=-0.2),\n",
    "                                        eye=dict(x=-1.5, y=1.5, z=0.5)),\n",
    "                                        margin=dict(l=0, r=0, b=0, t=0),\n",
    "                  scene = dict(xaxis=dict(backgroundcolor='white',\n",
    "                                          color='black',\n",
    "                                          gridcolor='#f0f0f0',\n",
    "                                          title_font=dict(size=10),\n",
    "                                          tickfont=dict(size=10),\n",
    "                                         ),\n",
    "                               yaxis=dict(backgroundcolor='white',\n",
    "                                          color='black',\n",
    "                                          gridcolor='#f0f0f0',\n",
    "                                          title_font=dict(size=10),\n",
    "                                          tickfont=dict(size=10),\n",
    "                                          ),\n",
    "                               zaxis=dict(backgroundcolor='lightgrey',\n",
    "                                          color='black', \n",
    "                                          gridcolor='#f0f0f0',\n",
    "                                          title_font=dict(size=10),\n",
    "                                          tickfont=dict(size=10),\n",
    "                                         )))\n",
    "\n",
    "# ajusta o tamanho dos marcadores\n",
    "fig.update_traces(marker=dict(size=4))\n",
    "\n",
    "fig.show()"
   ]
  },
  {
   "cell_type": "code",
   "execution_count": 11,
   "id": "3f7f0016-f3f0-4370-b05b-9f36a98d8136",
   "metadata": {},
   "outputs": [],
   "source": [
    "from matplotlib import offsetbox\n",
    "\n",
    "def plot_components(data, model, images=None, ax=None,\n",
    "                    thumb_frac=0.05, cmap='gray'):\n",
    "    ax = ax or plt.gca()\n",
    "    \n",
    "    proj = model.fit_transform(data)\n",
    "    ax.plot(proj[:, 0], proj[:, 1], '.k')\n",
    "    \n",
    "    if images is not None:\n",
    "        min_dist_2 = (thumb_frac * max(proj.max(0) - proj.min(0))) ** 2\n",
    "        shown_images = np.array([2 * proj.max(0)])\n",
    "        for i in range(data.shape[0]):\n",
    "            dist = np.sum((proj[i] - shown_images) ** 2, 1)\n",
    "            if np.min(dist) < min_dist_2:\n",
    "                # don't show points that are too close\n",
    "                continue\n",
    "            shown_images = np.vstack([shown_images, proj[i]])\n",
    "            imagebox = offsetbox.AnnotationBbox(\n",
    "                offsetbox.OffsetImage(images[i], cmap=cmap),\n",
    "                                      proj[i])\n",
    "            ax.add_artist(imagebox)"
   ]
  },
  {
   "cell_type": "markdown",
   "id": "0a8f1d88-351d-4238-9f91-4cb5f176df69",
   "metadata": {},
   "source": [
    "* 2D"
   ]
  },
  {
   "cell_type": "code",
   "execution_count": 170,
   "id": "5d76b2ca-5be5-4e7a-a25a-f2fcb9487bfe",
   "metadata": {},
   "outputs": [
    {
     "data": {
      "image/png": "[encoded data removed]",
      "text/plain": [
       "<Figure size 720x720 with 1 Axes>"
      ]
     },
     "metadata": {},
     "output_type": "display_data"
    }
   ],
   "source": [
    "fig, ax = plt.subplots(figsize=(10, 10))\n",
    "plot_components(X,\n",
    "                model=Isomap(n_components=2),\n",
    "                images=faces.images[:, ::2, ::2])"
   ]
  },
  {
   "cell_type": "markdown",
   "id": "73f70887-923b-4054-aec4-ebad374ca2d4",
   "metadata": {},
   "source": [
    "## KFDA"
   ]
  },
  {
   "cell_type": "code",
   "execution_count": 13,
   "id": "cda1c594-c451-44a1-9064-0c3133524a29",
   "metadata": {},
   "outputs": [],
   "source": [
    "from kfda import Kfda"
   ]
  },
  {
   "cell_type": "markdown",
   "id": "c799ed7f-fad9-4adc-be23-c635349e3632",
   "metadata": {},
   "source": [
    "### Particionando os dados"
   ]
  },
  {
   "cell_type": "code",
   "execution_count": 14,
   "id": "b4ba11e3-325a-489d-b020-5e1d96eab9cb",
   "metadata": {},
   "outputs": [],
   "source": [
    "from sklearn.model_selection import train_test_split"
   ]
  },
  {
   "cell_type": "code",
   "execution_count": 132,
   "id": "129aef84-d17e-41a1-a0a7-bdde431b247b",
   "metadata": {},
   "outputs": [],
   "source": [
    "X_train, X_test, y_train, y_test = train_test_split(X, y, train_size=0.60, random_state=42, stratify=y)"
   ]
  },
  {
   "cell_type": "markdown",
   "id": "d306bceb-c858-4b49-8101-410a6e8e647b",
   "metadata": {},
   "source": [
    "### Implementando o modelo"
   ]
  },
  {
   "cell_type": "code",
   "execution_count": 134,
   "id": "1d719b3a-cc14-4be4-9c33-84210473bb42",
   "metadata": {},
   "outputs": [
    {
     "data": {
      "text/plain": [
       "((288, 2914), (288,))"
      ]
     },
     "execution_count": 134,
     "metadata": {},
     "output_type": "execute_result"
    }
   ],
   "source": [
    "X_train.shape, y_train.shape"
   ]
  },
  {
   "cell_type": "code",
   "execution_count": 135,
   "id": "b94955a7-a3d5-4b54-8c74-763720189319",
   "metadata": {},
   "outputs": [
    {
     "name": "stderr",
     "output_type": "stream",
     "text": [
      "/home/luis/anaconda3/lib/python3.8/site-packages/sklearn/utils/validation.py:585: FutureWarning:\n",
      "\n",
      "np.matrix usage is deprecated in 1.0 and will raise a TypeError in 1.2. Please convert to a numpy array with np.asarray. For more information see: https://numpy.org/doc/stable/reference/generated/numpy.matrix.html\n",
      "\n"
     ]
    },
    {
     "data": {
      "text/plain": [
       "Kfda(kernel='rbf', n_components=7)"
      ]
     },
     "execution_count": 135,
     "metadata": {},
     "output_type": "execute_result"
    }
   ],
   "source": [
    "kfda_model = Kfda(kernel='rbf', n_components=7)\n",
    "kfda_model.fit(X_train, y_train)"
   ]
  },
  {
   "cell_type": "markdown",
   "id": "5a80599b-01cc-4567-82ac-19ab5e4daf30",
   "metadata": {},
   "source": [
    "### Avaliando o modelo"
   ]
  },
  {
   "cell_type": "code",
   "execution_count": 136,
   "id": "b8545db7-e6cd-45d9-9b97-020e4eeea311",
   "metadata": {},
   "outputs": [
    {
     "name": "stdout",
     "output_type": "stream",
     "text": [
      "Resultados:\n",
      "Sobre o conjunto de testes: 0.125\n",
      "Sobre o conjunto de treinamento: 1.0\n"
     ]
    }
   ],
   "source": [
    "print('Resultados:')\n",
    "test_score = kfda_model.score(X_test, y_test)\n",
    "print(f'Sobre o conjunto de testes: {test_score}')\n",
    "train_score = kfda_model.score(X_train, y_train)\n",
    "print(f'Sobre o conjunto de treinamento: {train_score}')"
   ]
  },
  {
   "cell_type": "code",
   "execution_count": 137,
   "id": "c936f261-dfc2-4327-8077-8a0a102ae611",
   "metadata": {},
   "outputs": [],
   "source": [
    "import itertools"
   ]
  },
  {
   "cell_type": "code",
   "execution_count": 138,
   "id": "b09cf798-87de-4be5-ae14-ae356cb1a48b",
   "metadata": {},
   "outputs": [
    {
     "data": {
      "text/plain": [
       "array([3, 3, 3, 3, 3, 3, 3, 3, 3, 3, 3, 3, 3, 3, 3, 3, 3, 3, 3, 3, 3, 3,\n",
       "       3, 3, 3, 3, 3, 3, 3, 3, 3, 3, 3, 3, 3, 3, 3, 3, 3, 3, 3, 3, 3, 3,\n",
       "       3, 3, 3, 3, 3, 3, 3, 3, 3, 3, 3, 3, 3, 3, 3, 3, 3, 3, 3, 3, 3, 3,\n",
       "       3, 3, 3, 3, 3, 3, 3, 3, 3, 3, 3, 3, 3, 3, 3, 3, 3, 3, 3, 3, 3, 3,\n",
       "       3, 3, 3, 3, 3, 3, 3, 3, 3, 3, 3, 3, 3, 3, 3, 3, 3, 3, 3, 3, 3, 3,\n",
       "       3, 3, 3, 3, 3, 3, 3, 3, 3, 3, 3, 3, 3, 3, 3, 3, 3, 3, 3, 3, 3, 3,\n",
       "       3, 3, 3, 3, 3, 3, 3, 3, 3, 3, 3, 3, 3, 3, 3, 3, 3, 3, 3, 3, 3, 3,\n",
       "       3, 3, 3, 3, 3, 3, 3, 3, 3, 3, 3, 3, 3, 3, 3, 3, 3, 3, 3, 3, 3, 3,\n",
       "       3, 3, 3, 3, 3, 3, 3, 3, 3, 3, 3, 3, 3, 3, 3, 3])"
      ]
     },
     "execution_count": 138,
     "metadata": {},
     "output_type": "execute_result"
    }
   ],
   "source": [
    "kfda_model.predict(X_test)"
   ]
  },
  {
   "cell_type": "code",
   "execution_count": 29,
   "id": "8b284814-163c-4063-8d5a-6533b0294c5f",
   "metadata": {},
   "outputs": [
    {
     "data": {
      "image/png": "[encoded data removed]",
      "text/plain": [
       "<Figure size 792x504 with 16 Axes>"
      ]
     },
     "metadata": {},
     "output_type": "display_data"
    }
   ],
   "source": [
    "y_pred = kfda_model.predict(X)\n",
    "\n",
    "f, axs = plt.subplots(4, 4, figsize=(11,7))\n",
    "\n",
    "flattened_axs = itertools.chain(*axs)\n",
    "\n",
    "for ax, img, pred in zip(flattened_axs, X, y_pred):\n",
    "    (ax.axis('off'))\n",
    "    ax.imshow(img.reshape(faces.images.shape[1], faces.images.shape[2]), cmap='gray')\n",
    "    ax.set_title(f'Prediction: {pred}')\n",
    "plt.tight_layout()"
   ]
  },
  {
   "cell_type": "code",
   "execution_count": null,
   "id": "e28e71a0-f741-4f66-8bd6-a87848920084",
   "metadata": {},
   "outputs": [],
   "source": []
  }
 ],
 "metadata": {
  "kernelspec": {
   "display_name": "Python 3 (ipykernel)",
   "language": "python",
   "name": "python3"
  },
  "language_info": {
   "codemirror_mode": {
    "name": "ipython",
    "version": 3
   },
   "file_extension": ".py",
   "mimetype": "text/x-python",
   "name": "python",
   "nbconvert_exporter": "python",
   "pygments_lexer": "ipython3",
   "version": "3.8.12"
  }
 },
 "nbformat": 4,
 "nbformat_minor": 5
}
