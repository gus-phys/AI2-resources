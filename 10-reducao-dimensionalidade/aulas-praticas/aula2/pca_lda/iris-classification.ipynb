{
 "cells": [
  {
   "cell_type": "markdown",
   "id": "fd848ca2-b244-4626-b474-d99caaf56afe",
   "metadata": {},
   "source": [
    "# Iris dataset"
   ]
  },
  {
   "cell_type": "markdown",
   "id": "025a304f-3e2d-4927-bc78-0157e9b76bc4",
   "metadata": {},
   "source": [
    "## Bibliotecas"
   ]
  },
  {
   "cell_type": "code",
   "execution_count": 1,
   "id": "188baff2-fe9a-41d9-9ca9-d3be04963213",
   "metadata": {},
   "outputs": [],
   "source": [
    "import numpy as np\n",
    "import pandas as pd\n",
    "\n",
    "import matplotlib.pyplot as plt\n",
    "import seaborn as sns\n",
    "\n",
    "sns.set()"
   ]
  },
  {
   "cell_type": "markdown",
   "id": "2c8ab2e4-7c43-43d8-86be-87a1fcba08c6",
   "metadata": {},
   "source": [
    "## Importando o dataset"
   ]
  },
  {
   "cell_type": "code",
   "execution_count": 2,
   "id": "0a09b98b-b318-49d1-8ab8-55769e4e86d2",
   "metadata": {},
   "outputs": [],
   "source": [
    "url = \"https://archive.ics.uci.edu/ml/machine-learning-databases/iris/iris.data\"\n",
    "names = ['sepal-length', 'sepal-width', 'petal-length', 'petal-width', 'Class']"
   ]
  },
  {
   "cell_type": "code",
   "execution_count": 3,
   "id": "f5ad68b9-e382-48f7-9c35-8f667590ac8c",
   "metadata": {},
   "outputs": [],
   "source": [
    "dataset = pd.read_csv(url, names=names)"
   ]
  },
  {
   "cell_type": "code",
   "execution_count": 4,
   "id": "a6a7a10a-1f07-4f7c-bd38-0d6793d4426d",
   "metadata": {},
   "outputs": [
    {
     "data": {
      "text/html": [
       "<div>\n",
       "<style scoped>\n",
       "    .dataframe tbody tr th:only-of-type {\n",
       "        vertical-align: middle;\n",
       "    }\n",
       "\n",
       "    .dataframe tbody tr th {\n",
       "        vertical-align: top;\n",
       "    }\n",
       "\n",
       "    .dataframe thead th {\n",
       "        text-align: right;\n",
       "    }\n",
       "</style>\n",
       "<table border=\"1\" class=\"dataframe\">\n",
       "  <thead>\n",
       "    <tr style=\"text-align: right;\">\n",
       "      <th></th>\n",
       "      <th>sepal-length</th>\n",
       "      <th>sepal-width</th>\n",
       "      <th>petal-length</th>\n",
       "      <th>petal-width</th>\n",
       "      <th>Class</th>\n",
       "    </tr>\n",
       "  </thead>\n",
       "  <tbody>\n",
       "    <tr>\n",
       "      <th>0</th>\n",
       "      <td>5.1</td>\n",
       "      <td>3.5</td>\n",
       "      <td>1.4</td>\n",
       "      <td>0.2</td>\n",
       "      <td>Iris-setosa</td>\n",
       "    </tr>\n",
       "    <tr>\n",
       "      <th>1</th>\n",
       "      <td>4.9</td>\n",
       "      <td>3.0</td>\n",
       "      <td>1.4</td>\n",
       "      <td>0.2</td>\n",
       "      <td>Iris-setosa</td>\n",
       "    </tr>\n",
       "    <tr>\n",
       "      <th>2</th>\n",
       "      <td>4.7</td>\n",
       "      <td>3.2</td>\n",
       "      <td>1.3</td>\n",
       "      <td>0.2</td>\n",
       "      <td>Iris-setosa</td>\n",
       "    </tr>\n",
       "    <tr>\n",
       "      <th>3</th>\n",
       "      <td>4.6</td>\n",
       "      <td>3.1</td>\n",
       "      <td>1.5</td>\n",
       "      <td>0.2</td>\n",
       "      <td>Iris-setosa</td>\n",
       "    </tr>\n",
       "    <tr>\n",
       "      <th>4</th>\n",
       "      <td>5.0</td>\n",
       "      <td>3.6</td>\n",
       "      <td>1.4</td>\n",
       "      <td>0.2</td>\n",
       "      <td>Iris-setosa</td>\n",
       "    </tr>\n",
       "  </tbody>\n",
       "</table>\n",
       "</div>"
      ],
      "text/plain": [
       "   sepal-length  sepal-width  petal-length  petal-width        Class\n",
       "0           5.1          3.5           1.4          0.2  Iris-setosa\n",
       "1           4.9          3.0           1.4          0.2  Iris-setosa\n",
       "2           4.7          3.2           1.3          0.2  Iris-setosa\n",
       "3           4.6          3.1           1.5          0.2  Iris-setosa\n",
       "4           5.0          3.6           1.4          0.2  Iris-setosa"
      ]
     },
     "execution_count": 4,
     "metadata": {},
     "output_type": "execute_result"
    }
   ],
   "source": [
    "dataset.head()"
   ]
  },
  {
   "cell_type": "code",
   "execution_count": 5,
   "id": "e8cc6652-8217-4a4b-bed9-6b148fb34c5e",
   "metadata": {},
   "outputs": [
    {
     "data": {
      "text/plain": [
       "array(['Iris-setosa', 'Iris-versicolor', 'Iris-virginica'], dtype=object)"
      ]
     },
     "execution_count": 5,
     "metadata": {},
     "output_type": "execute_result"
    }
   ],
   "source": [
    "dataset['Class'].unique()"
   ]
  },
  {
   "cell_type": "markdown",
   "id": "4aafc43e-c334-473f-ad3c-690192640009",
   "metadata": {},
   "source": [
    "## Processamento dos dados"
   ]
  },
  {
   "cell_type": "code",
   "execution_count": 6,
   "id": "8d6a75df-b3f2-4114-ac3f-52a98f166217",
   "metadata": {},
   "outputs": [],
   "source": [
    "from sklearn.model_selection import train_test_split"
   ]
  },
  {
   "cell_type": "code",
   "execution_count": 7,
   "id": "b332e9d8-2a8a-493e-b12c-c8b94beef72f",
   "metadata": {},
   "outputs": [],
   "source": [
    "X = dataset.iloc[:, 0:4].values\n",
    "y = dataset.iloc[:, 4].values\n",
    "\n",
    "X_train, X_test, y_train, y_test = train_test_split(X, y, test_size=0.2, random_state=0)"
   ]
  },
  {
   "cell_type": "markdown",
   "id": "0d252f3a-fd0b-458e-bfcf-b51ca034b440",
   "metadata": {},
   "source": [
    "## Normalização"
   ]
  },
  {
   "cell_type": "code",
   "execution_count": 8,
   "id": "3d83c9ed-d3eb-48ac-bdc1-4721c7c6eb59",
   "metadata": {},
   "outputs": [],
   "source": [
    "from sklearn.preprocessing import StandardScaler"
   ]
  },
  {
   "cell_type": "code",
   "execution_count": 9,
   "id": "ad95f04e-6b4c-4dd8-bbe1-fcb0f106eb68",
   "metadata": {},
   "outputs": [],
   "source": [
    "sc = StandardScaler()\n",
    "X_train = sc.fit_transform(X_train)\n",
    "X_test = sc.transform(X_test)"
   ]
  },
  {
   "cell_type": "markdown",
   "id": "6b037baa-6af0-4674-b15a-3825e01c09c4",
   "metadata": {},
   "source": [
    "---"
   ]
  },
  {
   "cell_type": "markdown",
   "id": "115514b1-5461-447f-b8ca-55797e72c927",
   "metadata": {},
   "source": [
    "# LDA"
   ]
  },
  {
   "cell_type": "code",
   "execution_count": 10,
   "id": "05d2d7c8-acea-4894-beea-0922a84dd44f",
   "metadata": {},
   "outputs": [],
   "source": [
    "from sklearn.discriminant_analysis import LinearDiscriminantAnalysis as LDA"
   ]
  },
  {
   "cell_type": "markdown",
   "id": "b94e13eb-a39e-442d-a31e-8573f5b1c51a",
   "metadata": {},
   "source": [
    "## Escolhendo o número de compontentes"
   ]
  },
  {
   "cell_type": "code",
   "execution_count": 11,
   "id": "3ca6e59b-6e0d-4d4d-aaf3-a892ae1e4f8a",
   "metadata": {},
   "outputs": [
    {
     "data": {
      "image/png": "[encoded data removed]",
      "text/plain": [
       "<Figure size 432x288 with 1 Axes>"
      ]
     },
     "metadata": {},
     "output_type": "display_data"
    }
   ],
   "source": [
    "lda = LDA().fit(X, y)\n",
    "plt.plot(np.cumsum(lda.explained_variance_ratio_))\n",
    "\n",
    "plt.title('Escolha de componentes do LDA')\n",
    "plt.xlabel('número de compontentes')\n",
    "plt.ylabel('variância explicada cumulativa')\n",
    "\n",
    "plt.show()"
   ]
  },
  {
   "cell_type": "markdown",
   "id": "d90ccb1a-7fc7-4cb1-917c-c95ad89463be",
   "metadata": {},
   "source": [
    "## Executando o LDA"
   ]
  },
  {
   "cell_type": "code",
   "execution_count": 12,
   "id": "d08ebb94-120a-4df4-9257-9e8e55b88e39",
   "metadata": {},
   "outputs": [],
   "source": [
    "lda = LDA(n_components=1)\n",
    "X_train = lda.fit_transform(X_train, y_train)\n",
    "X_test = lda.transform(X_test)"
   ]
  },
  {
   "cell_type": "markdown",
   "id": "cda2e597-57a3-404d-a4e4-4e289f646187",
   "metadata": {},
   "source": [
    "## Treinando o \"Random Forest\" como classificador"
   ]
  },
  {
   "cell_type": "code",
   "execution_count": 13,
   "id": "8fa86f26-f569-4bfe-99b7-43a3872ab8a2",
   "metadata": {},
   "outputs": [],
   "source": [
    "from sklearn.ensemble import RandomForestClassifier"
   ]
  },
  {
   "cell_type": "code",
   "execution_count": 14,
   "id": "c0d563f2-7b23-441c-908a-d8a6c2f12112",
   "metadata": {},
   "outputs": [],
   "source": [
    "classifier = RandomForestClassifier(max_depth=2, random_state=42)\n",
    "\n",
    "classifier.fit(X_train, y_train)\n",
    "y_pred = classifier.predict(X_test)"
   ]
  },
  {
   "cell_type": "markdown",
   "id": "3deac15b-d0eb-48d0-9766-1d3b19123814",
   "metadata": {},
   "source": [
    "### Avaliando a performance"
   ]
  },
  {
   "cell_type": "code",
   "execution_count": 15,
   "id": "6b9668ea-cd8b-47ef-bd8b-0be29de98c83",
   "metadata": {},
   "outputs": [],
   "source": [
    "from sklearn.metrics import classification_report\n",
    "from sklearn.metrics import confusion_matrix\n",
    "from sklearn.metrics import accuracy_score"
   ]
  },
  {
   "cell_type": "markdown",
   "id": "f3fd8db3-0ede-4ddc-930b-87d1bed0b3be",
   "metadata": {},
   "source": [
    "#### Relatório da classificação"
   ]
  },
  {
   "cell_type": "code",
   "execution_count": 16,
   "id": "f9ad9579-8e00-44f6-a460-d2e9fcc7fa74",
   "metadata": {},
   "outputs": [
    {
     "name": "stdout",
     "output_type": "stream",
     "text": [
      "                 precision    recall  f1-score   support\n",
      "\n",
      "    Iris-setosa       1.00      1.00      1.00        11\n",
      "Iris-versicolor       1.00      1.00      1.00        13\n",
      " Iris-virginica       1.00      1.00      1.00         6\n",
      "\n",
      "       accuracy                           1.00        30\n",
      "      macro avg       1.00      1.00      1.00        30\n",
      "   weighted avg       1.00      1.00      1.00        30\n",
      "\n"
     ]
    }
   ],
   "source": [
    "print(classification_report(y_test, y_pred))"
   ]
  },
  {
   "cell_type": "markdown",
   "id": "54530d4a-90af-49d2-b2b9-2badc73b5283",
   "metadata": {},
   "source": [
    "#### Matriz de confusão"
   ]
  },
  {
   "cell_type": "code",
   "execution_count": 17,
   "id": "32287ded-4f02-4d19-bb56-209ba3bb2220",
   "metadata": {},
   "outputs": [
    {
     "data": {
      "image/png": "[encoded data removed]",
      "text/plain": [
       "<Figure size 432x288 with 2 Axes>"
      ]
     },
     "metadata": {},
     "output_type": "display_data"
    }
   ],
   "source": [
    "mat = confusion_matrix(y_test, y_pred)\n",
    "sns.heatmap(mat.T, square=True, annot=True, fmt='d', cbar=True,\n",
    "            xticklabels=np.unique(y_test),\n",
    "            yticklabels=np.unique(y_pred),\n",
    "            cmap=plt.cm.Blues)\n",
    "plt.xlabel('Classes Reais')\n",
    "plt.ylabel('Classes Preditas');"
   ]
  },
  {
   "cell_type": "markdown",
   "id": "9e929a0f-9848-44ed-acfd-4719f0d9c588",
   "metadata": {},
   "source": [
    "#### Acurácia"
   ]
  },
  {
   "cell_type": "code",
   "execution_count": 18,
   "id": "c836610a-c169-403f-b994-5ba714803431",
   "metadata": {},
   "outputs": [
    {
     "name": "stdout",
     "output_type": "stream",
     "text": [
      "Acurácia de 100.0%\n"
     ]
    }
   ],
   "source": [
    "acc = accuracy_score(y_test, y_pred)\n",
    "\n",
    "print(f'Acurácia de {round(acc, 2)*100}%')"
   ]
  },
  {
   "cell_type": "markdown",
   "id": "f86087cd-9dce-417f-b47e-713ca2697c88",
   "metadata": {},
   "source": [
    "---"
   ]
  },
  {
   "cell_type": "markdown",
   "id": "c835f4c9-c031-487d-825c-d288a2d0fca5",
   "metadata": {},
   "source": [
    "# PCA"
   ]
  },
  {
   "cell_type": "code",
   "execution_count": 19,
   "id": "e3e834dc-7b84-49e5-ab92-ae87646e643e",
   "metadata": {},
   "outputs": [],
   "source": [
    "from sklearn.decomposition import PCA"
   ]
  },
  {
   "cell_type": "markdown",
   "id": "a8b07307-658b-4436-831f-42f57b7a9254",
   "metadata": {},
   "source": [
    "## Escolhendo o número de compontentes"
   ]
  },
  {
   "cell_type": "code",
   "execution_count": 20,
   "id": "03c7e8ef-7701-46cd-bd80-7af1a5457581",
   "metadata": {},
   "outputs": [
    {
     "data": {
      "image/png": "[encoded data removed]",
      "text/plain": [
       "<Figure size 432x288 with 1 Axes>"
      ]
     },
     "metadata": {},
     "output_type": "display_data"
    }
   ],
   "source": [
    "pca = PCA().fit(X, y)\n",
    "plt.plot(np.cumsum(pca.explained_variance_ratio_))\n",
    "\n",
    "plt.title('Escolha de componentes do PCA')\n",
    "plt.xlabel('número de compontentes')\n",
    "plt.ylabel('variância explicada cumulativa')\n",
    "\n",
    "plt.show()"
   ]
  },
  {
   "cell_type": "markdown",
   "id": "ba5922db-2ce5-456d-83bc-47d93f81103e",
   "metadata": {},
   "source": [
    "## Executando o PCA"
   ]
  },
  {
   "cell_type": "code",
   "execution_count": 21,
   "id": "d38e663f-b3c0-452d-9af8-09a07b87a603",
   "metadata": {},
   "outputs": [],
   "source": [
    "pca = PCA(n_components=1)\n",
    "X_train = pca.fit_transform(X_train)\n",
    "X_test = pca.transform(X_test)"
   ]
  },
  {
   "cell_type": "markdown",
   "id": "a9635d69-3ea0-438d-a785-1ee4c71a51aa",
   "metadata": {},
   "source": [
    "## Treinando o \"Random Forest\" como classificador"
   ]
  },
  {
   "cell_type": "code",
   "execution_count": 22,
   "id": "23679d85-40b7-4351-b578-8cc7762b59a4",
   "metadata": {},
   "outputs": [],
   "source": [
    "from sklearn.ensemble import RandomForestClassifier"
   ]
  },
  {
   "cell_type": "code",
   "execution_count": 23,
   "id": "3f436485-bf5b-467a-954b-a839f65cf180",
   "metadata": {},
   "outputs": [],
   "source": [
    "classifier = RandomForestClassifier(max_depth=2, random_state=42)\n",
    "\n",
    "classifier.fit(X_train, y_train)\n",
    "y_pred = classifier.predict(X_test)"
   ]
  },
  {
   "cell_type": "markdown",
   "id": "5af379aa-9f03-4bbb-93b4-5be675199e45",
   "metadata": {},
   "source": [
    "### Avaliando a performance"
   ]
  },
  {
   "cell_type": "code",
   "execution_count": 24,
   "id": "d10d3e4d-1dcb-4b5d-88e2-06bed730d5d1",
   "metadata": {},
   "outputs": [],
   "source": [
    "from sklearn.metrics import classification_report\n",
    "from sklearn.metrics import confusion_matrix\n",
    "from sklearn.metrics import accuracy_score"
   ]
  },
  {
   "cell_type": "markdown",
   "id": "5d8af5de-0c1e-4a64-b649-daa66dabafe4",
   "metadata": {},
   "source": [
    "#### Relatório da classificação"
   ]
  },
  {
   "cell_type": "code",
   "execution_count": 25,
   "id": "fdad5d3e-0162-4a92-8013-26eee41e7caf",
   "metadata": {},
   "outputs": [
    {
     "name": "stdout",
     "output_type": "stream",
     "text": [
      "                 precision    recall  f1-score   support\n",
      "\n",
      "    Iris-setosa       1.00      1.00      1.00        11\n",
      "Iris-versicolor       1.00      1.00      1.00        13\n",
      " Iris-virginica       1.00      1.00      1.00         6\n",
      "\n",
      "       accuracy                           1.00        30\n",
      "      macro avg       1.00      1.00      1.00        30\n",
      "   weighted avg       1.00      1.00      1.00        30\n",
      "\n"
     ]
    }
   ],
   "source": [
    "print(classification_report(y_test, y_pred))"
   ]
  },
  {
   "cell_type": "markdown",
   "id": "6f9fd0d4-1677-4668-bbaa-66b616556061",
   "metadata": {},
   "source": [
    "#### Matriz de confusão"
   ]
  },
  {
   "cell_type": "code",
   "execution_count": 26,
   "id": "1f4d9a03-435e-4d80-bcc5-6f85bf5c9d2f",
   "metadata": {},
   "outputs": [
    {
     "data": {
      "image/png": "[encoded data removed]",
      "text/plain": [
       "<Figure size 432x288 with 2 Axes>"
      ]
     },
     "metadata": {},
     "output_type": "display_data"
    }
   ],
   "source": [
    "mat = confusion_matrix(y_test, y_pred)\n",
    "sns.heatmap(mat.T, square=True, annot=True, fmt='d', cbar=True,\n",
    "            xticklabels=np.unique(y_test),\n",
    "            yticklabels=np.unique(y_pred),\n",
    "            cmap=plt.cm.Blues)\n",
    "plt.xlabel('Classes Reais')\n",
    "plt.ylabel('Classes Preditas');"
   ]
  },
  {
   "cell_type": "markdown",
   "id": "25218054-8a41-4bb2-bcd3-9a8d4c587a97",
   "metadata": {},
   "source": [
    "#### Acurácia"
   ]
  },
  {
   "cell_type": "code",
   "execution_count": 27,
   "id": "c1c49c9b-111d-4812-8788-a591d5c9d708",
   "metadata": {},
   "outputs": [
    {
     "name": "stdout",
     "output_type": "stream",
     "text": [
      "Acurácia de 100.0%\n"
     ]
    }
   ],
   "source": [
    "acc = accuracy_score(y_test, y_pred)\n",
    "\n",
    "print(f'Acurácia de {round(acc, 2)*100}%')"
   ]
  },
  {
   "cell_type": "code",
   "execution_count": null,
   "id": "edcef538-51d5-49c5-b724-de36ba96ca6d",
   "metadata": {},
   "outputs": [],
   "source": []
  }
 ],
 "metadata": {
  "kernelspec": {
   "display_name": "Python 3 (ipykernel)",
   "language": "python",
   "name": "python3"
  },
  "language_info": {
   "codemirror_mode": {
    "name": "ipython",
    "version": 3
   },
   "file_extension": ".py",
   "mimetype": "text/x-python",
   "name": "python",
   "nbconvert_exporter": "python",
   "pygments_lexer": "ipython3",
   "version": "3.8.12"
  }
 },
 "nbformat": 4,
 "nbformat_minor": 5
}
