{
 "cells": [
  {
   "cell_type": "markdown",
   "id": "3fee232c-1856-48db-91a8-aa1af7bdf7c7",
   "metadata": {},
   "source": [
    "# Faces dataset"
   ]
  },
  {
   "cell_type": "markdown",
   "id": "5a5b37ae-e83d-4aff-95d1-5faa36c51145",
   "metadata": {},
   "source": [
    "## Bibliotecas"
   ]
  },
  {
   "cell_type": "code",
   "execution_count": 1,
   "id": "61d919cf-7494-4722-915b-1f6f6543e363",
   "metadata": {},
   "outputs": [],
   "source": [
    "import numpy as np\n",
    "import pandas as pd\n",
    "\n",
    "import matplotlib.pyplot as plt\n",
    "import seaborn as sns\n",
    "\n",
    "sns.set()"
   ]
  },
  {
   "cell_type": "markdown",
   "id": "51536f72-7bf0-4f75-a78a-adb0c0ce251e",
   "metadata": {},
   "source": [
    "## Importando o dataset"
   ]
  },
  {
   "cell_type": "code",
   "execution_count": 2,
   "id": "37ebfe56-e3a1-4959-a43d-f660c3fad882",
   "metadata": {},
   "outputs": [],
   "source": [
    "from sklearn.datasets import fetch_lfw_people"
   ]
  },
  {
   "cell_type": "code",
   "execution_count": 3,
   "id": "151909b8-de22-4549-bc80-b4d480186099",
   "metadata": {},
   "outputs": [
    {
     "name": "stdout",
     "output_type": "stream",
     "text": [
      "['Ariel Sharon' 'Colin Powell' 'Donald Rumsfeld' 'George W Bush'\n",
      " 'Gerhard Schroeder' 'Hugo Chavez' 'Junichiro Koizumi' 'Tony Blair']\n",
      "(1348, 62, 47)\n"
     ]
    }
   ],
   "source": [
    "faces = fetch_lfw_people(min_faces_per_person=60)\n",
    "print(faces.target_names)\n",
    "print(faces.images.shape)"
   ]
  },
  {
   "cell_type": "markdown",
   "id": "f866ba73-c02f-4d91-b80c-ebd321f44331",
   "metadata": {},
   "source": [
    "## Processando os dados"
   ]
  },
  {
   "cell_type": "code",
   "execution_count": 4,
   "id": "ee234a0d-4076-4798-a4cb-3e7989896564",
   "metadata": {},
   "outputs": [],
   "source": [
    "from sklearn.model_selection import train_test_split"
   ]
  },
  {
   "cell_type": "code",
   "execution_count": 5,
   "id": "dd8e5b25-7dbe-476d-8f00-70fb4d35dd99",
   "metadata": {},
   "outputs": [],
   "source": [
    "X = faces.data\n",
    "y = faces.target"
   ]
  },
  {
   "cell_type": "code",
   "execution_count": 6,
   "id": "111c8b37-8a5f-4506-ad2a-e99db3ad1652",
   "metadata": {},
   "outputs": [],
   "source": [
    "X_train, X_test, y_train, y_test = train_test_split(X, y, test_size=0.2, random_state=42)"
   ]
  },
  {
   "cell_type": "markdown",
   "id": "ffd960d4-25d1-417b-ae19-db4168c638dc",
   "metadata": {},
   "source": [
    "---"
   ]
  },
  {
   "cell_type": "markdown",
   "id": "2cd3acec-de40-4a6d-9812-fb50152d3ef5",
   "metadata": {},
   "source": [
    "# LDA"
   ]
  },
  {
   "cell_type": "code",
   "execution_count": 7,
   "id": "b1284eab-4518-4b89-bd85-0ecd031ea90d",
   "metadata": {},
   "outputs": [],
   "source": [
    "from sklearn.discriminant_analysis import LinearDiscriminantAnalysis as LDA"
   ]
  },
  {
   "cell_type": "markdown",
   "id": "8e7e0095-489c-4ce8-bdb7-2eb10980fd80",
   "metadata": {},
   "source": [
    "## Escolhendo o número de componentes"
   ]
  },
  {
   "cell_type": "code",
   "execution_count": 8,
   "id": "69c9d07c-1f87-486f-8eef-0f5de72d41b5",
   "metadata": {},
   "outputs": [],
   "source": [
    "lda = LDA().fit(X, y)"
   ]
  },
  {
   "cell_type": "code",
   "execution_count": 9,
   "id": "86a9fc70-9541-4cac-be7b-4a0318cbbe4a",
   "metadata": {},
   "outputs": [
    {
     "data": {
      "image/png": "[encoded data removed]",
      "text/plain": [
       "<Figure size 432x288 with 1 Axes>"
      ]
     },
     "metadata": {},
     "output_type": "display_data"
    }
   ],
   "source": [
    "plt.plot(np.cumsum(lda.explained_variance_ratio_))\n",
    "\n",
    "plt.title('Escolha de componentes do LDA')\n",
    "plt.xlabel('número de compontentes')\n",
    "plt.ylabel('variância explicada cumulativa')\n",
    "\n",
    "plt.show()"
   ]
  },
  {
   "cell_type": "markdown",
   "id": "f20cf3ec-87e4-477b-ac03-cce13520bbc9",
   "metadata": {},
   "source": [
    "## Executando LDA"
   ]
  },
  {
   "cell_type": "code",
   "execution_count": 10,
   "id": "cb704fea-81ba-4fd1-813d-a02393de5cef",
   "metadata": {},
   "outputs": [],
   "source": [
    "lda = LDA(n_components=6)\n",
    "X_train = lda.fit_transform(X_train, y_train)\n",
    "X_test = lda.transform(X_test)"
   ]
  },
  {
   "cell_type": "markdown",
   "id": "9b8b7807-7b43-47e8-8e4d-b0841637e805",
   "metadata": {},
   "source": [
    "## Treinando classificadores"
   ]
  },
  {
   "cell_type": "markdown",
   "id": "270dbdf3-1c4b-4e37-8bac-3d47be2cc736",
   "metadata": {},
   "source": [
    "### SVM"
   ]
  },
  {
   "cell_type": "code",
   "execution_count": 11,
   "id": "c31e9df4-b079-43fa-a454-bcc00f0fef16",
   "metadata": {},
   "outputs": [],
   "source": [
    "from sklearn.model_selection import GridSearchCV\n",
    "from sklearn.svm import SVC\n",
    "from sklearn.pipeline import make_pipeline"
   ]
  },
  {
   "cell_type": "code",
   "execution_count": 12,
   "id": "ea6f54ad-34d8-4311-aaaa-d0918089ba71",
   "metadata": {},
   "outputs": [],
   "source": [
    "svc = SVC()\n",
    "model = make_pipeline(lda, svc)"
   ]
  },
  {
   "cell_type": "code",
   "execution_count": 13,
   "id": "19bdae2e-bd65-4459-8d9c-48da0ce1c42b",
   "metadata": {},
   "outputs": [
    {
     "data": {
      "text/plain": [
       "(1078, 6)"
      ]
     },
     "execution_count": 13,
     "metadata": {},
     "output_type": "execute_result"
    }
   ],
   "source": [
    "X_train.shape"
   ]
  },
  {
   "cell_type": "code",
   "execution_count": 14,
   "id": "372bfa32-0ebe-4bc1-a95c-5ca6197ed773",
   "metadata": {},
   "outputs": [
    {
     "data": {
      "text/plain": [
       "(1078,)"
      ]
     },
     "execution_count": 14,
     "metadata": {},
     "output_type": "execute_result"
    }
   ],
   "source": [
    "y_train.shape"
   ]
  },
  {
   "cell_type": "code",
   "execution_count": 15,
   "id": "937e8cd3-e9a8-4904-8088-3c66d2a70bb9",
   "metadata": {},
   "outputs": [
    {
     "name": "stdout",
     "output_type": "stream",
     "text": [
      "CPU times: user 2min 9s, sys: 1.94 s, total: 2min 11s\n",
      "Wall time: 21.9 s\n",
      "{'svc__C': 0.5, 'svc__decision_function_shape': 'ovo', 'svc__gamma': 0.01, 'svc__kernel': 'sigmoid'}\n"
     ]
    }
   ],
   "source": [
    "param_grid = {\n",
    "    'svc__C': [0.01, 0.5, 1, 5, 10, 50],\n",
    "    'svc__kernel': ['poly', 'rbf', 'sigmoid'],\n",
    "    'svc__gamma': [0.0001, 0.0005, 0.001, 0.005, 0.01, 0.05],\n",
    "    'svc__decision_function_shape':  ['ovo', 'ovr']\n",
    "}\n",
    "grid = GridSearchCV(model, param_grid)\n",
    "\n",
    "%time grid.fit(X_train, y_train)\n",
    "print(grid.best_params_)"
   ]
  },
  {
   "cell_type": "code",
   "execution_count": 16,
   "id": "33296cbd-a7eb-459c-85cb-db1d7d2a3c7a",
   "metadata": {},
   "outputs": [],
   "source": [
    "model = grid.best_estimator_\n",
    "y_fit = model.predict(X_test)"
   ]
  },
  {
   "cell_type": "code",
   "execution_count": 17,
   "id": "c9507a03-60dd-4433-9135-0a40ddd23851",
   "metadata": {},
   "outputs": [
    {
     "data": {
      "text/plain": [
       "Pipeline(steps=[('lineardiscriminantanalysis',\n",
       "                 LinearDiscriminantAnalysis(n_components=6)),\n",
       "                ('svc',\n",
       "                 SVC(C=0.5, decision_function_shape='ovo', gamma=0.01,\n",
       "                     kernel='sigmoid'))])"
      ]
     },
     "execution_count": 17,
     "metadata": {},
     "output_type": "execute_result"
    }
   ],
   "source": [
    "model"
   ]
  },
  {
   "cell_type": "markdown",
   "id": "717bfd53-574b-49fd-9f19-80e887d63694",
   "metadata": {},
   "source": [
    "#### Avaliando performance"
   ]
  },
  {
   "cell_type": "code",
   "execution_count": 18,
   "id": "67d443e3-7e18-4349-9955-91be87cb219f",
   "metadata": {},
   "outputs": [],
   "source": [
    "from sklearn.metrics import classification_report\n",
    "from sklearn.metrics import confusion_matrix\n",
    "from sklearn.metrics import accuracy_score"
   ]
  },
  {
   "cell_type": "markdown",
   "id": "2a375485-086e-47e3-86e0-fcfbae7baf73",
   "metadata": {},
   "source": [
    "##### Relatório de classificação"
   ]
  },
  {
   "cell_type": "code",
   "execution_count": 19,
   "id": "3fcd0dd8-e2ef-47fb-acb7-c79930ddf592",
   "metadata": {},
   "outputs": [
    {
     "name": "stdout",
     "output_type": "stream",
     "text": [
      "              precision    recall  f1-score   support\n",
      "\n",
      "           0       0.58      0.58      0.58        12\n",
      "           1       0.73      0.73      0.73        51\n",
      "           2       0.58      0.72      0.64        25\n",
      "           3       0.85      0.72      0.78        98\n",
      "           4       0.69      0.86      0.77        21\n",
      "           5       0.75      0.60      0.67        15\n",
      "           6       0.48      1.00      0.65        10\n",
      "           7       0.64      0.55      0.59        38\n",
      "\n",
      "    accuracy                           0.71       270\n",
      "   macro avg       0.66      0.72      0.68       270\n",
      "weighted avg       0.73      0.71      0.71       270\n",
      "\n"
     ]
    }
   ],
   "source": [
    "print(classification_report(y_test, y_fit))"
   ]
  },
  {
   "cell_type": "markdown",
   "id": "f1c460b3-147c-4732-a4cc-30c14e107422",
   "metadata": {},
   "source": [
    "##### Matriz de confusão"
   ]
  },
  {
   "cell_type": "code",
   "execution_count": 20,
   "id": "ac2b8a4d-c630-4e49-8864-2a6d9c48caf7",
   "metadata": {},
   "outputs": [
    {
     "data": {
      "image/png": "[encoded data removed]",
      "text/plain": [
       "<Figure size 432x288 with 2 Axes>"
      ]
     },
     "metadata": {},
     "output_type": "display_data"
    }
   ],
   "source": [
    "mat = confusion_matrix(y_test, y_fit)\n",
    "sns.heatmap(mat.T, square=True, annot=True, fmt='d', cbar=True,\n",
    "            xticklabels=np.unique(y_test),\n",
    "            yticklabels=np.unique(y_fit),\n",
    "            cmap=plt.cm.Blues)\n",
    "plt.xlabel('Classes Reais')\n",
    "plt.ylabel('Classes Preditas');"
   ]
  },
  {
   "cell_type": "markdown",
   "id": "a3f69f9b-dd7c-4b75-bac6-5071099e3c2c",
   "metadata": {},
   "source": [
    "##### Acurácia"
   ]
  },
  {
   "cell_type": "code",
   "execution_count": 21,
   "id": "50489450-1f5f-40d1-b8ce-a5511f68cd10",
   "metadata": {},
   "outputs": [
    {
     "name": "stdout",
     "output_type": "stream",
     "text": [
      "Acurácia de 71.0%\n"
     ]
    }
   ],
   "source": [
    "acc = accuracy_score(y_test, y_fit)\n",
    "\n",
    "print(f'Acurácia de {round(acc, 2)*100}%')"
   ]
  },
  {
   "cell_type": "markdown",
   "id": "521c6e43-8895-495f-b9a9-cd83e431de0e",
   "metadata": {},
   "source": [
    "### Random Forest"
   ]
  },
  {
   "cell_type": "code",
   "execution_count": 22,
   "id": "0e93c416-9a6f-4cc7-9793-ad50683b4ef4",
   "metadata": {},
   "outputs": [],
   "source": [
    "from sklearn.ensemble import RandomForestClassifier"
   ]
  },
  {
   "cell_type": "code",
   "execution_count": 23,
   "id": "d5f97293-bbee-49a3-9fe4-9cc252f860fb",
   "metadata": {},
   "outputs": [],
   "source": [
    "classifier = RandomForestClassifier(max_depth=2, random_state=42)\n",
    "\n",
    "classifier.fit(X_train, y_train)\n",
    "y_pred = classifier.predict(X_test)"
   ]
  },
  {
   "cell_type": "markdown",
   "id": "cbf447cd-0da8-47fd-a8fe-268b2c53f18d",
   "metadata": {},
   "source": [
    "#### Avaliando performance"
   ]
  },
  {
   "cell_type": "markdown",
   "id": "a59f580f-6ae1-4790-afb6-577565b53bbf",
   "metadata": {},
   "source": [
    "##### Relatório de classificação"
   ]
  },
  {
   "cell_type": "code",
   "execution_count": 24,
   "id": "2dbc2ddf-a9e9-4bc3-bfd4-b3009c01d800",
   "metadata": {},
   "outputs": [
    {
     "name": "stdout",
     "output_type": "stream",
     "text": [
      "              precision    recall  f1-score   support\n",
      "\n",
      "           0       0.62      0.42      0.50        12\n",
      "           1       0.53      0.63      0.58        51\n",
      "           2       0.67      0.40      0.50        25\n",
      "           3       0.65      0.83      0.73        98\n",
      "           4       0.63      0.57      0.60        21\n",
      "           5       0.00      0.00      0.00        15\n",
      "           6       0.80      0.40      0.53        10\n",
      "           7       0.49      0.50      0.49        38\n",
      "\n",
      "    accuracy                           0.60       270\n",
      "   macro avg       0.55      0.47      0.49       270\n",
      "weighted avg       0.57      0.60      0.58       270\n",
      "\n"
     ]
    },
    {
     "name": "stderr",
     "output_type": "stream",
     "text": [
      "/home/luis/anaconda3/lib/python3.8/site-packages/sklearn/metrics/_classification.py:1308: UndefinedMetricWarning: Precision and F-score are ill-defined and being set to 0.0 in labels with no predicted samples. Use `zero_division` parameter to control this behavior.\n",
      "  _warn_prf(average, modifier, msg_start, len(result))\n",
      "/home/luis/anaconda3/lib/python3.8/site-packages/sklearn/metrics/_classification.py:1308: UndefinedMetricWarning: Precision and F-score are ill-defined and being set to 0.0 in labels with no predicted samples. Use `zero_division` parameter to control this behavior.\n",
      "  _warn_prf(average, modifier, msg_start, len(result))\n",
      "/home/luis/anaconda3/lib/python3.8/site-packages/sklearn/metrics/_classification.py:1308: UndefinedMetricWarning: Precision and F-score are ill-defined and being set to 0.0 in labels with no predicted samples. Use `zero_division` parameter to control this behavior.\n",
      "  _warn_prf(average, modifier, msg_start, len(result))\n"
     ]
    }
   ],
   "source": [
    "print(classification_report(y_test, y_pred))"
   ]
  },
  {
   "cell_type": "markdown",
   "id": "812beefc-2b55-46ed-bc56-00a60e769e36",
   "metadata": {},
   "source": [
    "##### Matriz de confusão"
   ]
  },
  {
   "cell_type": "code",
   "execution_count": 25,
   "id": "a35867ba-e321-437a-a46f-9157b74fe197",
   "metadata": {},
   "outputs": [
    {
     "data": {
      "image/png": "[encoded data removed]",
      "text/plain": [
       "<Figure size 432x288 with 2 Axes>"
      ]
     },
     "metadata": {},
     "output_type": "display_data"
    }
   ],
   "source": [
    "mat = confusion_matrix(y_test, y_pred)\n",
    "sns.heatmap(mat.T, square=True, annot=True, fmt='d', cbar=True,\n",
    "            xticklabels=np.unique(y_test),\n",
    "            yticklabels=np.unique(y_pred),\n",
    "            cmap=plt.cm.Blues)\n",
    "plt.xlabel('Classes Reais')\n",
    "plt.ylabel('Classes Preditas');"
   ]
  },
  {
   "cell_type": "markdown",
   "id": "32332f6a-ca88-4fc3-8d8a-9ac9ce2003fb",
   "metadata": {},
   "source": [
    "##### Acurácia"
   ]
  },
  {
   "cell_type": "code",
   "execution_count": 26,
   "id": "c2452da4-c685-4a66-9247-54329c1c34e7",
   "metadata": {},
   "outputs": [
    {
     "name": "stdout",
     "output_type": "stream",
     "text": [
      "Acurácia de 60.0%\n"
     ]
    }
   ],
   "source": [
    "acc = accuracy_score(y_test, y_pred)\n",
    "\n",
    "print(f'Acurácia de {round(acc, 2)*100}%')"
   ]
  },
  {
   "cell_type": "markdown",
   "id": "aa64065c-ed9f-4e5f-ae48-66b670fa1fd5",
   "metadata": {},
   "source": [
    "---"
   ]
  },
  {
   "cell_type": "markdown",
   "id": "3e7a6ef4-afc8-485e-8257-c8da190efb55",
   "metadata": {},
   "source": [
    "# PCA"
   ]
  },
  {
   "cell_type": "code",
   "execution_count": 27,
   "id": "18a77d84-0f27-4fd1-9b2f-ca15e951beac",
   "metadata": {},
   "outputs": [],
   "source": [
    "from sklearn.decomposition import PCA"
   ]
  },
  {
   "cell_type": "markdown",
   "id": "ab743f06-f4a9-490a-856a-a0293975a087",
   "metadata": {},
   "source": [
    "## Escolhendo o número de componentes"
   ]
  },
  {
   "cell_type": "code",
   "execution_count": 28,
   "id": "4f7ec29e-a6b8-4d7b-a68e-a730748308e2",
   "metadata": {},
   "outputs": [],
   "source": [
    "pca = PCA().fit(X, y)"
   ]
  },
  {
   "cell_type": "code",
   "execution_count": 29,
   "id": "dc2da36c-f31e-41e8-bf1b-6210b52ce38b",
   "metadata": {},
   "outputs": [
    {
     "data": {
      "image/png": "[encoded data removed]",
      "text/plain": [
       "<Figure size 432x288 with 1 Axes>"
      ]
     },
     "metadata": {},
     "output_type": "display_data"
    }
   ],
   "source": [
    "plt.plot(np.cumsum(lda.explained_variance_ratio_))\n",
    "\n",
    "plt.title('Escolha de componentes do LDA')\n",
    "plt.xlabel('número de compontentes')\n",
    "plt.ylabel('variância explicada cumulativa')\n",
    "\n",
    "plt.show()"
   ]
  },
  {
   "cell_type": "markdown",
   "id": "21a20229-6bb7-4601-b39d-760a112651d5",
   "metadata": {},
   "source": [
    "## Executando PCA"
   ]
  },
  {
   "cell_type": "code",
   "execution_count": 30,
   "id": "434c6b3a-78f4-4d23-aa93-cf2e6f18b5ae",
   "metadata": {},
   "outputs": [],
   "source": [
    "pca = PCA(n_components=5)\n",
    "X_train = pca.fit_transform(X_train)\n",
    "X_test = pca.transform(X_test)"
   ]
  },
  {
   "cell_type": "markdown",
   "id": "a00062a5-6f39-485b-be19-a1352ccdaf31",
   "metadata": {},
   "source": [
    "## Treinando classificadores"
   ]
  },
  {
   "cell_type": "markdown",
   "id": "40c751ee-3dd3-4e1e-ae68-3baed3d3c35d",
   "metadata": {},
   "source": [
    "### SVM"
   ]
  },
  {
   "cell_type": "code",
   "execution_count": 61,
   "id": "c3c425dd-b263-47b6-b609-0cbeaebc615f",
   "metadata": {},
   "outputs": [],
   "source": [
    "svc = SVC()\n",
    "model = make_pipeline(pca, svc)"
   ]
  },
  {
   "cell_type": "code",
   "execution_count": 62,
   "id": "6cd62953-2bb5-491c-a697-fff46c231521",
   "metadata": {},
   "outputs": [
    {
     "name": "stdout",
     "output_type": "stream",
     "text": [
      "CPU times: user 1min 56s, sys: 1.74 s, total: 1min 58s\n",
      "Wall time: 19.8 s\n",
      "{'svc__C': 0.5, 'svc__decision_function_shape': 'ovo', 'svc__gamma': 0.001, 'svc__kernel': 'rbf'}\n"
     ]
    }
   ],
   "source": [
    "param_grid = {\n",
    "    'svc__C': [0.01, 0.5, 1, 5, 10, 50],\n",
    "    'svc__kernel': ['poly', 'rbf', 'sigmoid'],\n",
    "    'svc__gamma': [0.0001, 0.0005, 0.001, 0.005, 0.01, 0.05],\n",
    "    'svc__decision_function_shape':  ['ovo', 'ovr']\n",
    "}\n",
    "grid = GridSearchCV(model, param_grid)\n",
    "\n",
    "%time grid.fit(X_train, y_train)\n",
    "print(grid.best_params_)"
   ]
  },
  {
   "cell_type": "code",
   "execution_count": 63,
   "id": "9af98fdb-8220-40ba-aa12-922368bdea1d",
   "metadata": {},
   "outputs": [],
   "source": [
    "model = grid.best_estimator_\n",
    "y_fit = model.predict(X_test)"
   ]
  },
  {
   "cell_type": "code",
   "execution_count": 64,
   "id": "4f6378d9-91db-48da-a219-1f5d60f41716",
   "metadata": {},
   "outputs": [
    {
     "data": {
      "text/plain": [
       "Pipeline(steps=[('pca', PCA(n_components=5)),\n",
       "                ('svc',\n",
       "                 SVC(C=0.5, decision_function_shape='ovo', gamma=0.001))])"
      ]
     },
     "execution_count": 64,
     "metadata": {},
     "output_type": "execute_result"
    }
   ],
   "source": [
    "model"
   ]
  },
  {
   "cell_type": "markdown",
   "id": "58894537-1673-44d0-8307-8ef2ba61a1ce",
   "metadata": {},
   "source": [
    "#### Avaliando performance"
   ]
  },
  {
   "cell_type": "markdown",
   "id": "f51c6947-3e49-4849-bbdc-5387f6d3a908",
   "metadata": {},
   "source": [
    "##### Relatório de classificação"
   ]
  },
  {
   "cell_type": "code",
   "execution_count": 65,
   "id": "8806c977-4dea-4cf2-a7fe-10cea1259cf0",
   "metadata": {},
   "outputs": [
    {
     "name": "stdout",
     "output_type": "stream",
     "text": [
      "              precision    recall  f1-score   support\n",
      "\n",
      "           0       0.60      0.50      0.55        12\n",
      "           1       0.70      0.76      0.73        51\n",
      "           2       0.65      0.68      0.67        25\n",
      "           3       0.78      0.78      0.78        98\n",
      "           4       0.59      0.76      0.67        21\n",
      "           5       0.88      0.47      0.61        15\n",
      "           6       0.55      0.60      0.57        10\n",
      "           7       0.54      0.50      0.52        38\n",
      "\n",
      "    accuracy                           0.69       270\n",
      "   macro avg       0.66      0.63      0.64       270\n",
      "weighted avg       0.69      0.69      0.69       270\n",
      "\n"
     ]
    }
   ],
   "source": [
    "print(classification_report(y_test, y_fit))"
   ]
  },
  {
   "cell_type": "markdown",
   "id": "23b96512-2f8b-4cb9-ae66-06f0862a41fb",
   "metadata": {},
   "source": [
    "##### Matriz de confusão"
   ]
  },
  {
   "cell_type": "code",
   "execution_count": 66,
   "id": "012ba137-539d-42ac-9bf0-395d5b6339b6",
   "metadata": {},
   "outputs": [
    {
     "data": {
      "image/png": "[encoded data removed]",
      "text/plain": [
       "<Figure size 432x288 with 2 Axes>"
      ]
     },
     "metadata": {},
     "output_type": "display_data"
    }
   ],
   "source": [
    "mat = confusion_matrix(y_test, y_fit)\n",
    "sns.heatmap(mat.T, square=True, annot=True, fmt='d', cbar=True,\n",
    "            xticklabels=np.unique(y_test),\n",
    "            yticklabels=np.unique(y_fit),\n",
    "            cmap=plt.cm.Blues)\n",
    "plt.xlabel('Classes Reais')\n",
    "plt.ylabel('Classes Preditas');"
   ]
  },
  {
   "cell_type": "markdown",
   "id": "724e87ae-54e4-4afd-9489-d0da94ad30c0",
   "metadata": {},
   "source": [
    "##### Acurácia"
   ]
  },
  {
   "cell_type": "code",
   "execution_count": 67,
   "id": "77ec1d2b-277d-4751-9098-aad097124392",
   "metadata": {},
   "outputs": [
    {
     "name": "stdout",
     "output_type": "stream",
     "text": [
      "Acurácia de 69.0%\n"
     ]
    }
   ],
   "source": [
    "acc = accuracy_score(y_test, y_fit)\n",
    "\n",
    "print(f'Acurácia de {round(acc, 2)*100}%')"
   ]
  },
  {
   "cell_type": "markdown",
   "id": "c0942f02-044f-4b12-a64c-fe4d05b2c2f5",
   "metadata": {},
   "source": [
    "### Random Forest"
   ]
  },
  {
   "cell_type": "code",
   "execution_count": 56,
   "id": "f21aa69f-a8e0-4f9f-97d5-e0992705835c",
   "metadata": {},
   "outputs": [],
   "source": [
    "classifier = RandomForestClassifier(max_depth=2, random_state=42)\n",
    "\n",
    "classifier.fit(X_train, y_train)\n",
    "y_pred = classifier.predict(X_test)"
   ]
  },
  {
   "cell_type": "markdown",
   "id": "c6e961ef-5cc9-4db7-95e0-86d1e32cc484",
   "metadata": {},
   "source": [
    "#### Avaliando performance"
   ]
  },
  {
   "cell_type": "markdown",
   "id": "ba5c665b-e383-42d2-b74a-e92407f1e552",
   "metadata": {},
   "source": [
    "##### Relatório de classificação"
   ]
  },
  {
   "cell_type": "code",
   "execution_count": 57,
   "id": "830085f1-bd2a-4dc8-80d8-6b0732963026",
   "metadata": {},
   "outputs": [
    {
     "name": "stdout",
     "output_type": "stream",
     "text": [
      "              precision    recall  f1-score   support\n",
      "\n",
      "           0       0.56      0.42      0.48        12\n",
      "           1       0.57      0.59      0.58        51\n",
      "           2       0.58      0.28      0.38        25\n",
      "           3       0.60      0.84      0.70        98\n",
      "           4       0.79      0.52      0.63        21\n",
      "           5       0.00      0.00      0.00        15\n",
      "           6       1.00      0.10      0.18        10\n",
      "           7       0.42      0.50      0.46        38\n",
      "\n",
      "    accuracy                           0.57       270\n",
      "   macro avg       0.56      0.41      0.43       270\n",
      "weighted avg       0.56      0.57      0.54       270\n",
      "\n"
     ]
    },
    {
     "name": "stderr",
     "output_type": "stream",
     "text": [
      "/home/luis/anaconda3/lib/python3.8/site-packages/sklearn/metrics/_classification.py:1308: UndefinedMetricWarning: Precision and F-score are ill-defined and being set to 0.0 in labels with no predicted samples. Use `zero_division` parameter to control this behavior.\n",
      "  _warn_prf(average, modifier, msg_start, len(result))\n",
      "/home/luis/anaconda3/lib/python3.8/site-packages/sklearn/metrics/_classification.py:1308: UndefinedMetricWarning: Precision and F-score are ill-defined and being set to 0.0 in labels with no predicted samples. Use `zero_division` parameter to control this behavior.\n",
      "  _warn_prf(average, modifier, msg_start, len(result))\n",
      "/home/luis/anaconda3/lib/python3.8/site-packages/sklearn/metrics/_classification.py:1308: UndefinedMetricWarning: Precision and F-score are ill-defined and being set to 0.0 in labels with no predicted samples. Use `zero_division` parameter to control this behavior.\n",
      "  _warn_prf(average, modifier, msg_start, len(result))\n"
     ]
    }
   ],
   "source": [
    "print(classification_report(y_test, y_pred))"
   ]
  },
  {
   "cell_type": "markdown",
   "id": "193d51b0-3f49-481b-94e9-e734d42651d8",
   "metadata": {},
   "source": [
    "##### Matriz de confusão"
   ]
  },
  {
   "cell_type": "code",
   "execution_count": 58,
   "id": "867da61d-a3e8-45d1-b53b-f1de77d27e14",
   "metadata": {},
   "outputs": [
    {
     "data": {
      "image/png": "[encoded data removed]",
      "text/plain": [
       "<Figure size 432x288 with 2 Axes>"
      ]
     },
     "metadata": {},
     "output_type": "display_data"
    }
   ],
   "source": [
    "mat = confusion_matrix(y_test, y_pred)\n",
    "sns.heatmap(mat.T, square=True, annot=True, fmt='d', cbar=True,\n",
    "            xticklabels=np.unique(y_test),\n",
    "            yticklabels=np.unique(y_pred),\n",
    "            cmap=plt.cm.Blues)\n",
    "plt.xlabel('Classes Reais')\n",
    "plt.ylabel('Classes Preditas');"
   ]
  },
  {
   "cell_type": "markdown",
   "id": "f56e1087-4893-4970-a8ba-58708c0c8cb4",
   "metadata": {},
   "source": [
    "##### Acurácia"
   ]
  },
  {
   "cell_type": "code",
   "execution_count": 59,
   "id": "10f5bd50-9aa9-4e5b-9a79-54bddd06df0e",
   "metadata": {},
   "outputs": [
    {
     "name": "stdout",
     "output_type": "stream",
     "text": [
      "Acurácia de 56.99999999999999%\n"
     ]
    }
   ],
   "source": [
    "acc = accuracy_score(y_test, y_pred)\n",
    "\n",
    "print(f'Acurácia de {round(acc, 2)*100}%')"
   ]
  },
  {
   "cell_type": "code",
   "execution_count": null,
   "id": "fe748ad1-8602-4c84-ba24-995c9e447382",
   "metadata": {},
   "outputs": [],
   "source": []
  }
 ],
 "metadata": {
  "kernelspec": {
   "display_name": "Python 3 (ipykernel)",
   "language": "python",
   "name": "python3"
  },
  "language_info": {
   "codemirror_mode": {
    "name": "ipython",
    "version": 3
   },
   "file_extension": ".py",
   "mimetype": "text/x-python",
   "name": "python",
   "nbconvert_exporter": "python",
   "pygments_lexer": "ipython3",
   "version": "3.8.12"
  }
 },
 "nbformat": 4,
 "nbformat_minor": 5
}
